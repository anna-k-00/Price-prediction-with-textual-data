{
  "nbformat": 4,
  "nbformat_minor": 0,
  "metadata": {
    "colab": {
      "provenance": [],
      "collapsed_sections": [
        "8sKQSttmoCZG",
        "-wleDL6zoENh",
        "hsZZTB4asXGn",
        "Tj77pMEZsqr3"
      ],
      "gpuType": "T4",
      "toc_visible": true
    },
    "kernelspec": {
      "name": "python3",
      "display_name": "Python 3"
    },
    "language_info": {
      "name": "python"
    },
    "accelerator": "GPU"
  },
  "cells": [
    {
      "cell_type": "markdown",
      "source": [
        "# Imports and infrastructure"
      ],
      "metadata": {
        "id": "xvpfJrJ2vp-_"
      }
    },
    {
      "cell_type": "code",
      "execution_count": null,
      "metadata": {
        "id": "RP9y2-osPyWI"
      },
      "outputs": [],
      "source": [
        "# !pip install --upgrade transformers==4.49.0\n",
        "# !pip install optuna==2.10.0\n",
        "# !pip install numpy==1.26.4 gensim==4.3.2\n",
        "# !pip install scipy==1.12.0\n",
        "# !pip install --upgrade pandas==2.2.2\n",
        "# !pip install h3\n",
        "# !pip install mlflow\n",
        "# !pip install 'protobuf<4'\n",
        "# !pip install selenium\n",
        "# !pip install natasha\n",
        "# !pip install pymystem3\n",
        "# !pip install symspellpy\n",
        "!rm -rf /content/Price-prediction-with-textual-data"
      ]
    },
    {
      "cell_type": "code",
      "source": [
        "!git clone https://github.com/anna-k-00/Price-prediction-with-textual-data.git"
      ],
      "metadata": {
        "colab": {
          "base_uri": "https://localhost:8080/"
        },
        "id": "CrwiuPmxkr_3",
        "outputId": "f13b2e5b-630d-4c3c-bcb5-c0cff07eb6e3"
      },
      "execution_count": null,
      "outputs": [
        {
          "output_type": "stream",
          "name": "stdout",
          "text": [
            "Cloning into 'Price-prediction-with-textual-data'...\n",
            "remote: Enumerating objects: 359, done.\u001b[K\n",
            "remote: Counting objects: 100% (56/56), done.\u001b[K\n",
            "remote: Compressing objects: 100% (50/50), done.\u001b[K\n",
            "remote: Total 359 (delta 32), reused 6 (delta 6), pack-reused 303 (from 2)\u001b[K\n",
            "Receiving objects: 100% (359/359), 2.09 MiB | 18.11 MiB/s, done.\n",
            "Resolving deltas: 100% (180/180), done.\n"
          ]
        }
      ]
    },
    {
      "cell_type": "code",
      "source": [
        "# Шаг 1: Проверка и настройка окружения\n",
        "import os\n",
        "import sys\n",
        "import importlib\n",
        "\n",
        "# Шаг 2: Клонирование/обновление репозитория\n",
        "repo_url = 'https://github.com/anna-k-00/Price-prediction-with-textual-data.git'\n",
        "repo_dir = 'Price-prediction-with-textual-data'\n",
        "\n",
        "if not os.path.exists(repo_dir):\n",
        "    !git clone {repo_url}\n",
        "else:\n",
        "    !cd {repo_dir} && git pull\n",
        "\n",
        "# Шаг 3: Добавляем все нужные пути в sys.path\n",
        "paths_to_add = [\n",
        "    f'/content/{repo_dir}',                     # Для файлов в корне (parser_avito.py)\n",
        "    f'/content/{repo_dir}/main_methods',        # Основные модули\n",
        "    f'/content/{repo_dir}/embeddings_generation', # Генерация эмбеддингов\n",
        "    f'/content/{repo_dir}/preprocessors'        # Препроцессоры\n",
        "]\n",
        "\n",
        "for path in paths_to_add:\n",
        "    if os.path.exists(path) and path not in sys.path:\n",
        "        sys.path.insert(0, path)\n",
        "        print(f'Добавлен путь: {path}')\n",
        "\n",
        "# Шаг 4: Собираем список всех модулей для импорта\n",
        "all_modules = [\n",
        "    # Основные модули\n",
        "    'resource_monitor', 'ann', 'predict', 'test_pipeline',\n",
        "\n",
        "    # Модули из embeddings_generation\n",
        "    'embeddings_generation.rubert_transformer',\n",
        "    'embeddings_generation.tfidf_transformer',\n",
        "    'embeddings_generation.w2v_transformer',\n",
        "    'embeddings_generation.gate',\n",
        "\n",
        "    # Модули из preprocessors\n",
        "    'preprocessors.preprocessor_params_hex',\n",
        "    'preprocessors.preprocessor_text',\n",
        "\n",
        "    # Отдельные файлы в корне\n",
        "    'parser_avito'\n",
        "]\n",
        "\n",
        "# Шаг 5: Импортируем все модули\n",
        "imported_modules = {}\n",
        "failed_modules = {}\n",
        "\n",
        "for module_name in all_modules:\n",
        "    try:\n",
        "        module = importlib.import_module(module_name)\n",
        "        imported_modules[module_name] = module\n",
        "        print(f'✅ {module_name} успешно импортирован')\n",
        "    except Exception as e:\n",
        "        failed_modules[module_name] = str(e)\n",
        "        print(f'❌ Ошибка импорта {module_name}: {str(e)[:200]}')  # Обрезаем длинные сообщения"
      ],
      "metadata": {
        "colab": {
          "base_uri": "https://localhost:8080/"
        },
        "id": "EaKe5niAZQuS",
        "outputId": "8277e38d-0da9-4ea6-e8ee-37f270c1f447"
      },
      "execution_count": null,
      "outputs": [
        {
          "output_type": "stream",
          "name": "stdout",
          "text": [
            "Already up to date.\n",
            "Добавлен путь: /content/Price-prediction-with-textual-data\n",
            "Добавлен путь: /content/Price-prediction-with-textual-data/main_methods\n",
            "Добавлен путь: /content/Price-prediction-with-textual-data/embeddings_generation\n",
            "Добавлен путь: /content/Price-prediction-with-textual-data/preprocessors\n",
            "✅ resource_monitor успешно импортирован\n",
            "✅ ANN успешно импортирован\n",
            "✅ predict успешно импортирован\n"
          ]
        },
        {
          "output_type": "stream",
          "name": "stderr",
          "text": [
            "[nltk_data] Downloading package punkt_tab to /root/nltk_data...\n",
            "[nltk_data]   Package punkt_tab is already up-to-date!\n"
          ]
        },
        {
          "output_type": "stream",
          "name": "stdout",
          "text": [
            "✅ test_pipeline успешно импортирован\n",
            "✅ embeddings_generation.rubert_fine_tuning успешно импортирован\n",
            "✅ embeddings_generation.tfidf_generator успешно импортирован\n",
            "✅ embeddings_generation.w2v_generator успешно импортирован\n",
            "✅ embeddings_generation.gate успешно импортирован\n",
            "✅ preprocessors.preprocessor_params_hex успешно импортирован\n",
            "✅ preprocessors.preprocessor_text успешно импортирован\n",
            "✅ parser_avito успешно импортирован\n"
          ]
        }
      ]
    },
    {
      "cell_type": "code",
      "source": [
        "import logging\n",
        "import os\n",
        "import time\n",
        "import numpy as np\n",
        "import pandas as pd\n",
        "import sklearn\n",
        "from sklearn.model_selection import train_test_split, KFold\n",
        "from sklearn.metrics import mean_squared_error, r2_score\n",
        "from sklearn.pipeline import Pipeline\n",
        "from sklearn.compose import ColumnTransformer\n",
        "from sklearn.ensemble import RandomForestRegressor\n",
        "from xgboost import XGBRegressor\n",
        "import optuna\n",
        "from optuna.samplers import TPESampler\n",
        "from tqdm import tqdm\n",
        "import mlflow\n",
        "import mlflow.sklearn\n",
        "import warnings\n",
        "from transformers import AutoModel, AutoTokenizer, AdamW\n",
        "from torch.utils.data import Dataset, DataLoader\n",
        "import torch\n",
        "import torch.nn as nn\n",
        "from sklearn.svm import LinearSVR\n",
        "from sklearn.base import BaseEstimator, TransformerMixin\n",
        "import random\n",
        "from datetime import datetime\n",
        "from sklearn.base import BaseEstimator, TransformerMixin\n",
        "from scipy.sparse import issparse\n",
        "import matplotlib.pyplot as plt\n",
        "from sklearn.model_selection import StratifiedKFold\n",
        "from sklearn.base import BaseEstimator, TransformerMixin\n",
        "import torch\n",
        "import torch.nn as nn\n",
        "import os\n",
        "import joblib\n",
        "import transformers\n",
        "import json\n",
        "import joblib\n",
        "from datetime import datetime\n",
        "from sklearn.decomposition import PCA\n",
        "import time\n",
        "import sys\n",
        "import platform\n",
        "import psutil\n",
        "import threading\n",
        "\n",
        "try:\n",
        "    import pynvml\n",
        "    pynvml.nvmlInit()\n",
        "    HAS_NVML = True\n",
        "except Exception:\n",
        "    HAS_NVML = False\n",
        "\n",
        "from ANN import ANNRegressor\n",
        "from resource_monitor import ResourceMonitor\n",
        "from test_pipeline import PricePredictionExperiment\n",
        "from preprocessor_params_hex import DataProcessingPipeline\n",
        "\n",
        "from tfidf_transformer import TfidfTransformer\n",
        "from w2v_transformer import Word2VecTransformer\n",
        "from rubert_transformer import RuBertTiny2Embedder"
      ],
      "metadata": {
        "colab": {
          "base_uri": "https://localhost:8080/"
        },
        "id": "XQLHgOjijQz7",
        "outputId": "f5ca17b0-e3aa-4afb-86de-f8056cd78a33"
      },
      "execution_count": null,
      "outputs": [
        {
          "output_type": "stream",
          "name": "stderr",
          "text": [
            "[nltk_data] Downloading package punkt_tab to /root/nltk_data...\n",
            "[nltk_data]   Package punkt_tab is already up-to-date!\n"
          ]
        }
      ]
    },
    {
      "cell_type": "code",
      "source": [
        "from google.colab import drive\n",
        "drive.mount('/content/drive', force_remount=True)"
      ],
      "metadata": {
        "colab": {
          "base_uri": "https://localhost:8080/"
        },
        "id": "msafR8KFe4qO",
        "outputId": "374f1faf-3a9d-4d40-b14c-6a9b5598c2e7"
      },
      "execution_count": null,
      "outputs": [
        {
          "output_type": "stream",
          "name": "stdout",
          "text": [
            "Mounted at /content/drive\n"
          ]
        }
      ]
    },
    {
      "cell_type": "code",
      "source": [
        "# mkdir -p \"/content/drive/My Drive/mlflow_data_DROP\""
      ],
      "metadata": {
        "id": "_VTiN1erciSc"
      },
      "execution_count": null,
      "outputs": []
    },
    {
      "cell_type": "code",
      "source": [
        "# set your ml flow directory\n",
        "\n",
        "mlflow.set_tracking_uri('file:///content/drive/My Drive/mlflow_data_DROP')"
      ],
      "metadata": {
        "id": "B-4mqqeleoCh"
      },
      "execution_count": null,
      "outputs": []
    },
    {
      "cell_type": "code",
      "source": [
        "from mlflow.tracking import MlflowClient\n",
        "client = MlflowClient()"
      ],
      "metadata": {
        "id": "zoQ4vFUykAvZ"
      },
      "execution_count": null,
      "outputs": []
    },
    {
      "cell_type": "markdown",
      "source": [
        "# Initiation for fast checking"
      ],
      "metadata": {
        "id": "dSw3zmejtEAH"
      }
    },
    {
      "cell_type": "markdown",
      "source": [
        "### XGBR experiment initiation"
      ],
      "metadata": {
        "id": "8sKQSttmoCZG"
      }
    },
    {
      "cell_type": "code",
      "source": [
        "import logging\n",
        "import pandas as pd\n",
        "import json\n",
        "from pathlib import Path\n",
        "\n",
        "# 3. Создаем временную папку для результатов\n",
        "!mkdir -p /content/results\n",
        "\n",
        "# 4. Основной код эксперимента\n",
        "if __name__ == \"__main__\":\n",
        "    logging.basicConfig(\n",
        "        level=logging.INFO,\n",
        "        format='%(asctime)s - %(name)s - %(levelname)s - %(message)s',\n",
        "        handlers=[\n",
        "            logging.FileHandler('experiment.log'),\n",
        "            logging.StreamHandler()\n",
        "        ]\n",
        "    )\n",
        "    logger = logging.getLogger(__name__)\n",
        "\n",
        "    xgbr_params = {\n",
        "        'model__n_estimators': [500, 1000],\n",
        "        'model__max_depth': [4, 6],\n",
        "        'model__learning_rate': [0.005, 0.01, 0.02, 0.05],\n",
        "        'model__subsample': [0.8, 1.0]\n",
        "    }\n",
        "\n",
        "    combinations = [\n",
        "        ('categorical-only', None, False, False, True, True),\n",
        "        ('categorical-only', None, False, False, False, True),\n",
        "        ('mixed', 'rubert', True, False, False, True),\n",
        "        ('mixed', 'w2v', True, False, False, True),\n",
        "        ('mixed', 'tfidf', True, False, False, True),\n",
        "        ('text-only', 'rubert', True, False, False, True),\n",
        "        ('text-only', 'w2v', True, False, False, True),\n",
        "        ('text-only', 'tfidf', True, False, False, True),\n",
        "    ]\n",
        "\n",
        "    try:\n",
        "        # Полные пути к файлам в репозитории\n",
        "        repo_path = Path('/content/Price-prediction-with-textual-data')\n",
        "\n",
        "        experiment = PricePredictionExperiment(\n",
        "            model_name='XGBRegressor',\n",
        "            model_params=xgbr_params,\n",
        "            experiment_name=\"price_prediction\",\n",
        "            data_path=str(repo_path/'experiments'/'sample_300.csv'), # путь к короткому доку - если нужен полный\n",
        "            results_dir='/content/results',  # временная папка в Colab\n",
        "            random_state=42,\n",
        "            use_hex_features=True,\n",
        "            hex_resolution=10,\n",
        "            verbose=True,\n",
        "            manual_text_params=True,\n",
        "            manual_text_params_path=str(repo_path/'experiments'/'manual_text_features_negative.json'),\n",
        "            profile_json_path=str(repo_path/'experiments'/'uniques_dict.json')\n",
        "        )\n",
        "\n",
        "        # Запуск экспериментов\n",
        "        results = experiment.run_for_combinations(\n",
        "            combinations=combinations,\n",
        "            n_trials=1, # для полного воспроизведения тестов = 50\n",
        "            sample_size=300, # для полного воспроизведения тестов = 65000\n",
        "            subsample=150 # для полного воспроизведения тестов = 20000\n",
        "        )\n",
        "\n",
        "        # Сохранение и отображение результатов\n",
        "        results_df = experiment.create_results_table(list(results.keys()))\n",
        "        display(results_df)\n",
        "\n",
        "        # Сохраняем результаты в CSV\n",
        "        results_df.to_csv('/content/results/experiment_results.csv', index=False)\n",
        "        logger.info(\"Эксперимент успешно завершен!\")\n",
        "\n",
        "        # Копируем результаты в Google Drive (если нужно)\n",
        "        from google.colab import drive\n",
        "        drive.mount('/content/drive')\n",
        "        !cp -r /content/results '/content/drive/MyDrive/thesis/DROP_SAMPLE/XGBR'\n",
        "        logger.info(\"Результаты сохранены в Google Drive\")\n",
        "\n",
        "    except Exception as e:\n",
        "        logger.error(f\"Fatal error in main execution: {str(e)}\", exc_info=True)\n",
        "        raise"
      ],
      "metadata": {
        "colab": {
          "base_uri": "https://localhost:8080/",
          "height": 1000
        },
        "id": "NdhpnYMbkGMz",
        "outputId": "2b1783d9-a998-4c61-8551-59aa211eed5a"
      },
      "execution_count": null,
      "outputs": [
        {
          "output_type": "stream",
          "name": "stderr",
          "text": [
            "2025-05-31 23:40:11,329 - PricePredictionExperiment_XGBRegressor - INFO - → Запуск конфигурации: price_prediction_XGBRegressor_None_none_pca_None_gate_None_mtf_True_\n",
            "INFO:PricePredictionExperiment_XGBRegressor:→ Запуск конфигурации: price_prediction_XGBRegressor_None_none_pca_None_gate_None_mtf_True_\n",
            "2025-05-31 23:40:11,331 - PricePredictionExperiment_XGBRegressor - INFO - Loading and preprocessing data...\n",
            "INFO:PricePredictionExperiment_XGBRegressor:Loading and preprocessing data...\n",
            "2025-05-31 23:40:11,364 - PricePredictionExperiment_XGBRegressor - INFO - Applying sample_size: 300\n",
            "INFO:PricePredictionExperiment_XGBRegressor:Applying sample_size: 300\n",
            "2025-05-31 23:40:11,373 - PricePredictionExperiment_XGBRegressor - INFO - Данные прошли строгую валидацию профиля.\n",
            "INFO:PricePredictionExperiment_XGBRegressor:Данные прошли строгую валидацию профиля.\n"
          ]
        },
        {
          "output_type": "stream",
          "name": "stdout",
          "text": [
            "['landCategory', 'wallMaterial', 'bathroom', 'renovation', 'electricity', 'heating', 'waterSupply', 'gas', 'sewerage', 'media', 'parking', 'transportAccessibility', 'saleMethod', 'seller', 'category', 'infrastructure', 'terrace', 'recreation', 'region', 'nearestPPLA', 'nearestPPLA2']\n"
          ]
        },
        {
          "output_type": "stream",
          "name": "stderr",
          "text": [
            "\u001b[32m[I 2025-05-31 23:40:26,424]\u001b[0m A new study created in memory with name: no-name-b9b7e027-57df-4dc3-8ae4-4e15162d4e75\u001b[0m\n",
            "2025-05-31 23:40:26,630 - PricePredictionExperiment_XGBRegressor - INFO - Timing started for: total\n",
            "INFO:PricePredictionExperiment_XGBRegressor:Timing started for: total\n",
            "2025-05-31 23:40:26,643 - PricePredictionExperiment_XGBRegressor - INFO - ENV: python_version: 3.11.12 (main, Apr  9 2025, 08:55:54) [GCC 11.4.0]\n",
            "INFO:PricePredictionExperiment_XGBRegressor:ENV: python_version: 3.11.12 (main, Apr  9 2025, 08:55:54) [GCC 11.4.0]\n",
            "2025-05-31 23:40:26,654 - PricePredictionExperiment_XGBRegressor - INFO - ENV: platform: Linux-6.1.123+-x86_64-with-glibc2.35\n",
            "INFO:PricePredictionExperiment_XGBRegressor:ENV: platform: Linux-6.1.123+-x86_64-with-glibc2.35\n",
            "2025-05-31 23:40:26,666 - PricePredictionExperiment_XGBRegressor - INFO - ENV: sklearn_version: 1.6.1\n",
            "INFO:PricePredictionExperiment_XGBRegressor:ENV: sklearn_version: 1.6.1\n",
            "2025-05-31 23:40:26,678 - PricePredictionExperiment_XGBRegressor - INFO - ENV: pandas_version: 2.2.2\n",
            "INFO:PricePredictionExperiment_XGBRegressor:ENV: pandas_version: 2.2.2\n",
            "2025-05-31 23:40:26,691 - PricePredictionExperiment_XGBRegressor - INFO - ENV: numpy_version: 1.26.4\n",
            "INFO:PricePredictionExperiment_XGBRegressor:ENV: numpy_version: 1.26.4\n",
            "2025-05-31 23:40:26,719 - PricePredictionExperiment_XGBRegressor - INFO - ENV: torch_version: 2.6.0+cu124\n",
            "INFO:PricePredictionExperiment_XGBRegressor:ENV: torch_version: 2.6.0+cu124\n",
            "2025-05-31 23:40:26,731 - PricePredictionExperiment_XGBRegressor - INFO - ENV: cuda_available: True\n",
            "INFO:PricePredictionExperiment_XGBRegressor:ENV: cuda_available: True\n",
            "2025-05-31 23:40:26,741 - PricePredictionExperiment_XGBRegressor - INFO - ENV: cuda_device: Tesla T4\n",
            "INFO:PricePredictionExperiment_XGBRegressor:ENV: cuda_device: Tesla T4\n",
            "2025-05-31 23:40:26,754 - PricePredictionExperiment_XGBRegressor - INFO - ENV: run_time: 2025-05-31 23:40:26\n",
            "INFO:PricePredictionExperiment_XGBRegressor:ENV: run_time: 2025-05-31 23:40:26\n",
            "2025-05-31 23:40:26,766 - PricePredictionExperiment_XGBRegressor - INFO - ENV: run_hostname: bd3d025abf46\n",
            "INFO:PricePredictionExperiment_XGBRegressor:ENV: run_hostname: bd3d025abf46\n",
            "2025-05-31 23:40:26,859 - PricePredictionExperiment_XGBRegressor - INFO - Timing started for: optuna\n",
            "INFO:PricePredictionExperiment_XGBRegressor:Timing started for: optuna\n"
          ]
        },
        {
          "output_type": "stream",
          "name": "stdout",
          "text": [
            "CV stratified bins counts: [51 49 50]\n",
            "Running 3-fold CV on 150 samples\n",
            " Fold 0: train_size=100 val_size=50\n"
          ]
        },
        {
          "output_type": "stream",
          "name": "stderr",
          "text": [
            "2025-05-31 23:40:27,352 - PricePredictionExperiment_XGBRegressor - INFO - Before reverse - price mean: 0.46163744810703816\n",
            "INFO:PricePredictionExperiment_XGBRegressor:Before reverse - price mean: 0.46163744810703816\n",
            "2025-05-31 23:40:27,356 - PricePredictionExperiment_XGBRegressor - INFO - After reverse - price mean: 52492874.37999999\n",
            "INFO:PricePredictionExperiment_XGBRegressor:After reverse - price mean: 52492874.37999999\n",
            "2025-05-31 23:40:27,410 - PricePredictionExperiment_XGBRegressor - INFO - Fold 0 - Log scale: R²=0.8970, RMSE=0.0702, SMAPE=13.9340%\n",
            "Original scale: R²=0.4935, RMSE=87561917.5517, SMAPE=29.8956%\n",
            "INFO:PricePredictionExperiment_XGBRegressor:Fold 0 - Log scale: R²=0.8970, RMSE=0.0702, SMAPE=13.9340%\n",
            "Original scale: R²=0.4935, RMSE=87561917.5517, SMAPE=29.8956%\n"
          ]
        },
        {
          "output_type": "stream",
          "name": "stdout",
          "text": [
            " Fold 1: train_size=100 val_size=50\n"
          ]
        },
        {
          "output_type": "stream",
          "name": "stderr",
          "text": [
            "2025-05-31 23:40:27,793 - PricePredictionExperiment_XGBRegressor - INFO - Before reverse - price mean: 0.44923494890588567\n",
            "INFO:PricePredictionExperiment_XGBRegressor:Before reverse - price mean: 0.44923494890588567\n",
            "2025-05-31 23:40:27,796 - PricePredictionExperiment_XGBRegressor - INFO - After reverse - price mean: 30649667.2\n",
            "INFO:PricePredictionExperiment_XGBRegressor:After reverse - price mean: 30649667.2\n",
            "2025-05-31 23:40:27,867 - PricePredictionExperiment_XGBRegressor - INFO - Fold 1 - Log scale: R²=0.8553, RMSE=0.0710, SMAPE=8.8070%\n",
            "Original scale: R²=0.5830, RMSE=37584227.8592, SMAPE=22.9750%\n",
            "INFO:PricePredictionExperiment_XGBRegressor:Fold 1 - Log scale: R²=0.8553, RMSE=0.0710, SMAPE=8.8070%\n",
            "Original scale: R²=0.5830, RMSE=37584227.8592, SMAPE=22.9750%\n"
          ]
        },
        {
          "output_type": "stream",
          "name": "stdout",
          "text": [
            " Fold 2: train_size=100 val_size=50\n"
          ]
        },
        {
          "output_type": "stream",
          "name": "stderr",
          "text": [
            "2025-05-31 23:40:28,177 - PricePredictionExperiment_XGBRegressor - INFO - Before reverse - price mean: 0.48160117863933743\n",
            "INFO:PricePredictionExperiment_XGBRegressor:Before reverse - price mean: 0.48160117863933743\n",
            "2025-05-31 23:40:28,180 - PricePredictionExperiment_XGBRegressor - INFO - After reverse - price mean: 70292049.59999996\n",
            "INFO:PricePredictionExperiment_XGBRegressor:After reverse - price mean: 70292049.59999996\n",
            "2025-05-31 23:40:28,305 - PricePredictionExperiment_XGBRegressor - INFO - Fold 2 - Log scale: R²=0.8048, RMSE=0.0985, SMAPE=7.2074%\n",
            "Original scale: R²=0.5309, RMSE=103832916.9398, SMAPE=18.9987%\n",
            "INFO:PricePredictionExperiment_XGBRegressor:Fold 2 - Log scale: R²=0.8048, RMSE=0.0985, SMAPE=7.2074%\n",
            "Original scale: R²=0.5309, RMSE=103832916.9398, SMAPE=18.9987%\n",
            "\u001b[32m[I 2025-05-31 23:40:28,313]\u001b[0m Trial 0 finished with value: 0.8523743003360985 and parameters: {'model__n_estimators': 687, 'model__max_depth': 6, 'model__learning_rate': 0.03793972738151323, 'model__subsample': 0.9197316968394074}. Best is trial 0 with value: 0.8523743003360985.\u001b[0m\n",
            "2025-05-31 23:40:28,315 - PricePredictionExperiment_XGBRegressor - INFO - Elapsed time for optuna: 1.46 seconds\n",
            "INFO:PricePredictionExperiment_XGBRegressor:Elapsed time for optuna: 1.46 seconds\n",
            "2025-05-31 23:40:28,352 - PricePredictionExperiment_XGBRegressor - INFO - Timing started for: final_cv\n",
            "INFO:PricePredictionExperiment_XGBRegressor:Timing started for: final_cv\n"
          ]
        },
        {
          "output_type": "stream",
          "name": "stdout",
          "text": [
            "Final CV stratified bins counts: [48 47 48 46 47]\n",
            "Running final 5-fold CV on 236 samples\n",
            " FinalCV Fold 0: train_size=188 val_size=48\n"
          ]
        },
        {
          "output_type": "stream",
          "name": "stderr",
          "text": [
            "2025-05-31 23:40:28,935 - PricePredictionExperiment_XGBRegressor - INFO - Before reverse - price mean: 0.4550678466274749\n",
            "INFO:PricePredictionExperiment_XGBRegressor:Before reverse - price mean: 0.4550678466274749\n",
            "2025-05-31 23:40:28,938 - PricePredictionExperiment_XGBRegressor - INFO - After reverse - price mean: 35495257.499999985\n",
            "INFO:PricePredictionExperiment_XGBRegressor:After reverse - price mean: 35495257.499999985\n",
            "2025-05-31 23:40:28,944 - PricePredictionExperiment_XGBRegressor - INFO -  Fold 1/5 | Log R2=0.9941 | Orig R2=0.8918\n",
            "INFO:PricePredictionExperiment_XGBRegressor: Fold 1/5 | Log R2=0.9941 | Orig R2=0.8918\n"
          ]
        },
        {
          "output_type": "stream",
          "name": "stdout",
          "text": [
            " FinalCV Fold 1: train_size=189 val_size=47\n"
          ]
        },
        {
          "output_type": "stream",
          "name": "stderr",
          "text": [
            "2025-05-31 23:40:29,384 - PricePredictionExperiment_XGBRegressor - INFO - Before reverse - price mean: 0.47295177607112204\n",
            "INFO:PricePredictionExperiment_XGBRegressor:Before reverse - price mean: 0.47295177607112204\n",
            "2025-05-31 23:40:29,391 - PricePredictionExperiment_XGBRegressor - INFO - After reverse - price mean: 50921123.40425533\n",
            "INFO:PricePredictionExperiment_XGBRegressor:After reverse - price mean: 50921123.40425533\n",
            "2025-05-31 23:40:29,398 - PricePredictionExperiment_XGBRegressor - INFO -  Fold 2/5 | Log R2=0.9689 | Orig R2=0.8669\n",
            "INFO:PricePredictionExperiment_XGBRegressor: Fold 2/5 | Log R2=0.9689 | Orig R2=0.8669\n"
          ]
        },
        {
          "output_type": "stream",
          "name": "stdout",
          "text": [
            " FinalCV Fold 2: train_size=189 val_size=47\n"
          ]
        },
        {
          "output_type": "stream",
          "name": "stderr",
          "text": [
            "2025-05-31 23:40:29,834 - PricePredictionExperiment_XGBRegressor - INFO - Before reverse - price mean: 0.46109879287422134\n",
            "INFO:PricePredictionExperiment_XGBRegressor:Before reverse - price mean: 0.46109879287422134\n",
            "2025-05-31 23:40:29,837 - PricePredictionExperiment_XGBRegressor - INFO - After reverse - price mean: 50421914.893617004\n",
            "INFO:PricePredictionExperiment_XGBRegressor:After reverse - price mean: 50421914.893617004\n",
            "2025-05-31 23:40:29,842 - PricePredictionExperiment_XGBRegressor - INFO -  Fold 3/5 | Log R2=0.9791 | Orig R2=0.7629\n",
            "INFO:PricePredictionExperiment_XGBRegressor: Fold 3/5 | Log R2=0.9791 | Orig R2=0.7629\n"
          ]
        },
        {
          "output_type": "stream",
          "name": "stdout",
          "text": [
            " FinalCV Fold 3: train_size=189 val_size=47\n"
          ]
        },
        {
          "output_type": "stream",
          "name": "stderr",
          "text": [
            "2025-05-31 23:40:30,309 - PricePredictionExperiment_XGBRegressor - INFO - Before reverse - price mean: 0.4580297314108511\n",
            "INFO:PricePredictionExperiment_XGBRegressor:Before reverse - price mean: 0.4580297314108511\n",
            "2025-05-31 23:40:30,312 - PricePredictionExperiment_XGBRegressor - INFO - After reverse - price mean: 63415391.4893617\n",
            "INFO:PricePredictionExperiment_XGBRegressor:After reverse - price mean: 63415391.4893617\n",
            "2025-05-31 23:40:30,318 - PricePredictionExperiment_XGBRegressor - INFO -  Fold 4/5 | Log R2=0.9842 | Orig R2=0.7613\n",
            "INFO:PricePredictionExperiment_XGBRegressor: Fold 4/5 | Log R2=0.9842 | Orig R2=0.7613\n"
          ]
        },
        {
          "output_type": "stream",
          "name": "stdout",
          "text": [
            " FinalCV Fold 4: train_size=189 val_size=47\n"
          ]
        },
        {
          "output_type": "stream",
          "name": "stderr",
          "text": [
            "2025-05-31 23:40:30,769 - PricePredictionExperiment_XGBRegressor - INFO - Before reverse - price mean: 0.4727362701111664\n",
            "INFO:PricePredictionExperiment_XGBRegressor:Before reverse - price mean: 0.4727362701111664\n",
            "2025-05-31 23:40:30,772 - PricePredictionExperiment_XGBRegressor - INFO - After reverse - price mean: 67053424.65957447\n",
            "INFO:PricePredictionExperiment_XGBRegressor:After reverse - price mean: 67053424.65957447\n",
            "2025-05-31 23:40:30,777 - PricePredictionExperiment_XGBRegressor - INFO -  Fold 5/5 | Log R2=0.9687 | Orig R2=0.9105\n",
            "INFO:PricePredictionExperiment_XGBRegressor: Fold 5/5 | Log R2=0.9687 | Orig R2=0.9105\n",
            "2025-05-31 23:40:31,302 - PricePredictionExperiment_XGBRegressor - INFO - Before reverse - price mean: 0.46124991486493366\n",
            "INFO:PricePredictionExperiment_XGBRegressor:Before reverse - price mean: 0.46124991486493366\n",
            "2025-05-31 23:40:31,305 - PricePredictionExperiment_XGBRegressor - INFO - After reverse - price mean: 53129052.52542374\n",
            "INFO:PricePredictionExperiment_XGBRegressor:After reverse - price mean: 53129052.52542374\n",
            "2025-05-31 23:40:31,364 - PricePredictionExperiment_XGBRegressor - INFO - Evaluation artifacts saved to /content/results/metrics\n",
            "INFO:PricePredictionExperiment_XGBRegressor:Evaluation artifacts saved to /content/results/metrics\n",
            "2025-05-31 23:40:31,371 - PricePredictionExperiment_XGBRegressor - INFO - Elapsed time for final_cv: 3.02 seconds\n",
            "INFO:PricePredictionExperiment_XGBRegressor:Elapsed time for final_cv: 3.02 seconds\n",
            "2025-05-31 23:40:31,926 - PricePredictionExperiment_XGBRegressor - INFO - Timing started for: final_model_teaching\n",
            "INFO:PricePredictionExperiment_XGBRegressor:Timing started for: final_model_teaching\n"
          ]
        },
        {
          "output_type": "stream",
          "name": "stdout",
          "text": [
            "['landCategory', 'wallMaterial', 'bathroom', 'renovation', 'electricity', 'heating', 'waterSupply', 'gas', 'sewerage', 'media', 'parking', 'transportAccessibility', 'saleMethod', 'seller', 'category', 'infrastructure', 'terrace', 'recreation', 'region', 'nearestPPLA', 'nearestPPLA2']\n"
          ]
        },
        {
          "output_type": "stream",
          "name": "stderr",
          "text": [
            "2025-05-31 23:40:37,497 - PricePredictionExperiment_XGBRegressor - INFO - [before_final_fit] CPU: 51.7%, RAM: 3.60GB/12.67GB, GPU: 0%, GPU RAM: 1.06/15.00GB\n",
            "INFO:PricePredictionExperiment_XGBRegressor:[before_final_fit] CPU: 51.7%, RAM: 3.60GB/12.67GB, GPU: 0%, GPU RAM: 1.06/15.00GB\n",
            "2025-05-31 23:40:38,896 - PricePredictionExperiment_XGBRegressor - INFO - [after_final_fit] CPU: 32.8%, RAM: 3.57GB/12.67GB, GPU: 0%, GPU RAM: 1.06/15.00GB\n",
            "INFO:PricePredictionExperiment_XGBRegressor:[after_final_fit] CPU: 32.8%, RAM: 3.57GB/12.67GB, GPU: 0%, GPU RAM: 1.06/15.00GB\n"
          ]
        },
        {
          "output_type": "stream",
          "name": "stdout",
          "text": [
            "[EXTRACT] В ColumnTransformer нет шага 'text'\n",
            "[SAVE] No transformer to save.\n",
            "[SAVE] No tokenizer to save.\n",
            "[SAVE] All available components saved to /content/results/price_prediction_XGBRegressor_None_none_pca_None_gate_None_mtf_True_ (logged to MLflow: True)\n"
          ]
        },
        {
          "output_type": "stream",
          "name": "stderr",
          "text": [
            "Registered model 'XGBRegressor+sample_300+None+pca_False+gate_False+textfeat_True' already exists. Creating a new version of this model...\n",
            "Created version '3' of model 'XGBRegressor+sample_300+None+pca_False+gate_False+textfeat_True'.\n",
            "2025-05-31 23:40:39,519 - PricePredictionExperiment_XGBRegressor - INFO - Model registered as 'XGBRegressor+sample_300+None+pca_False+gate_False+textfeat_True', version 3\n",
            "INFO:PricePredictionExperiment_XGBRegressor:Model registered as 'XGBRegressor+sample_300+None+pca_False+gate_False+textfeat_True', version 3\n",
            "2025-05-31 23:40:39,570 - PricePredictionExperiment_XGBRegressor - INFO - Full model saved to /content/results/price_prediction_XGBRegressor_None_none_pca_None_gate_None_mtf_True_ and logged to MLflow\n",
            "INFO:PricePredictionExperiment_XGBRegressor:Full model saved to /content/results/price_prediction_XGBRegressor_None_none_pca_None_gate_None_mtf_True_ and logged to MLflow\n",
            "2025-05-31 23:40:39,572 - PricePredictionExperiment_XGBRegressor - INFO - Elapsed time for final_model_teaching: 7.65 seconds\n",
            "INFO:PricePredictionExperiment_XGBRegressor:Elapsed time for final_model_teaching: 7.65 seconds\n",
            "2025-05-31 23:40:39,584 - PricePredictionExperiment_XGBRegressor - INFO - Elapsed time for total: 12.95 seconds\n",
            "INFO:PricePredictionExperiment_XGBRegressor:Elapsed time for total: 12.95 seconds\n",
            "2025-05-31 23:40:39,621 - PricePredictionExperiment_XGBRegressor - INFO - → Запуск конфигурации: price_prediction_XGBRegressor_categorical-only_none_pca_False_gate_False_mtf_True_\n",
            "INFO:PricePredictionExperiment_XGBRegressor:→ Запуск конфигурации: price_prediction_XGBRegressor_categorical-only_none_pca_False_gate_False_mtf_True_\n",
            "2025-05-31 23:40:39,624 - PricePredictionExperiment_XGBRegressor - INFO - Loading and preprocessing data...\n",
            "INFO:PricePredictionExperiment_XGBRegressor:Loading and preprocessing data...\n",
            "2025-05-31 23:40:39,649 - PricePredictionExperiment_XGBRegressor - INFO - Applying sample_size: 300\n",
            "INFO:PricePredictionExperiment_XGBRegressor:Applying sample_size: 300\n",
            "2025-05-31 23:40:39,656 - PricePredictionExperiment_XGBRegressor - INFO - Данные прошли строгую валидацию профиля.\n",
            "INFO:PricePredictionExperiment_XGBRegressor:Данные прошли строгую валидацию профиля.\n"
          ]
        },
        {
          "output_type": "stream",
          "name": "stdout",
          "text": [
            "['landCategory', 'wallMaterial', 'bathroom', 'renovation', 'electricity', 'heating', 'waterSupply', 'gas', 'sewerage', 'media', 'parking', 'transportAccessibility', 'saleMethod', 'seller', 'category', 'infrastructure', 'terrace', 'recreation', 'region', 'nearestPPLA', 'nearestPPLA2']\n"
          ]
        },
        {
          "output_type": "stream",
          "name": "stderr",
          "text": [
            "\u001b[32m[I 2025-05-31 23:40:53,328]\u001b[0m A new study created in memory with name: no-name-a3eea72b-2cce-4f98-a66d-fb4cf066865e\u001b[0m\n",
            "2025-05-31 23:40:53,561 - PricePredictionExperiment_XGBRegressor - INFO - Timing started for: total\n",
            "INFO:PricePredictionExperiment_XGBRegressor:Timing started for: total\n",
            "2025-05-31 23:40:53,574 - PricePredictionExperiment_XGBRegressor - INFO - ENV: python_version: 3.11.12 (main, Apr  9 2025, 08:55:54) [GCC 11.4.0]\n",
            "INFO:PricePredictionExperiment_XGBRegressor:ENV: python_version: 3.11.12 (main, Apr  9 2025, 08:55:54) [GCC 11.4.0]\n",
            "2025-05-31 23:40:53,586 - PricePredictionExperiment_XGBRegressor - INFO - ENV: platform: Linux-6.1.123+-x86_64-with-glibc2.35\n",
            "INFO:PricePredictionExperiment_XGBRegressor:ENV: platform: Linux-6.1.123+-x86_64-with-glibc2.35\n",
            "2025-05-31 23:40:53,599 - PricePredictionExperiment_XGBRegressor - INFO - ENV: sklearn_version: 1.6.1\n",
            "INFO:PricePredictionExperiment_XGBRegressor:ENV: sklearn_version: 1.6.1\n",
            "2025-05-31 23:40:53,612 - PricePredictionExperiment_XGBRegressor - INFO - ENV: pandas_version: 2.2.2\n",
            "INFO:PricePredictionExperiment_XGBRegressor:ENV: pandas_version: 2.2.2\n",
            "2025-05-31 23:40:53,624 - PricePredictionExperiment_XGBRegressor - INFO - ENV: numpy_version: 1.26.4\n",
            "INFO:PricePredictionExperiment_XGBRegressor:ENV: numpy_version: 1.26.4\n",
            "2025-05-31 23:40:53,636 - PricePredictionExperiment_XGBRegressor - INFO - ENV: torch_version: 2.6.0+cu124\n",
            "INFO:PricePredictionExperiment_XGBRegressor:ENV: torch_version: 2.6.0+cu124\n",
            "2025-05-31 23:40:53,649 - PricePredictionExperiment_XGBRegressor - INFO - ENV: cuda_available: True\n",
            "INFO:PricePredictionExperiment_XGBRegressor:ENV: cuda_available: True\n",
            "2025-05-31 23:40:53,661 - PricePredictionExperiment_XGBRegressor - INFO - ENV: cuda_device: Tesla T4\n",
            "INFO:PricePredictionExperiment_XGBRegressor:ENV: cuda_device: Tesla T4\n",
            "2025-05-31 23:40:53,672 - PricePredictionExperiment_XGBRegressor - INFO - ENV: run_time: 2025-05-31 23:40:53\n",
            "INFO:PricePredictionExperiment_XGBRegressor:ENV: run_time: 2025-05-31 23:40:53\n",
            "2025-05-31 23:40:53,684 - PricePredictionExperiment_XGBRegressor - INFO - ENV: run_hostname: bd3d025abf46\n",
            "INFO:PricePredictionExperiment_XGBRegressor:ENV: run_hostname: bd3d025abf46\n",
            "2025-05-31 23:40:53,776 - PricePredictionExperiment_XGBRegressor - INFO - Timing started for: optuna\n",
            "INFO:PricePredictionExperiment_XGBRegressor:Timing started for: optuna\n"
          ]
        },
        {
          "output_type": "stream",
          "name": "stdout",
          "text": [
            "CV stratified bins counts: [51 49 50]\n",
            "Running 3-fold CV on 150 samples\n",
            " Fold 0: train_size=100 val_size=50\n"
          ]
        },
        {
          "output_type": "stream",
          "name": "stderr",
          "text": [
            "2025-05-31 23:40:54,141 - PricePredictionExperiment_XGBRegressor - INFO - Before reverse - price mean: 0.46163744810703816\n",
            "INFO:PricePredictionExperiment_XGBRegressor:Before reverse - price mean: 0.46163744810703816\n",
            "2025-05-31 23:40:54,144 - PricePredictionExperiment_XGBRegressor - INFO - After reverse - price mean: 52492874.37999999\n",
            "INFO:PricePredictionExperiment_XGBRegressor:After reverse - price mean: 52492874.37999999\n",
            "2025-05-31 23:40:54,197 - PricePredictionExperiment_XGBRegressor - INFO - Fold 0 - Log scale: R²=0.8959, RMSE=0.0705, SMAPE=14.0634%\n",
            "Original scale: R²=0.4923, RMSE=87669960.7162, SMAPE=30.0822%\n",
            "INFO:PricePredictionExperiment_XGBRegressor:Fold 0 - Log scale: R²=0.8959, RMSE=0.0705, SMAPE=14.0634%\n",
            "Original scale: R²=0.4923, RMSE=87669960.7162, SMAPE=30.0822%\n"
          ]
        },
        {
          "output_type": "stream",
          "name": "stdout",
          "text": [
            " Fold 1: train_size=100 val_size=50\n"
          ]
        },
        {
          "output_type": "stream",
          "name": "stderr",
          "text": [
            "2025-05-31 23:40:54,479 - PricePredictionExperiment_XGBRegressor - INFO - Before reverse - price mean: 0.44923494890588567\n",
            "INFO:PricePredictionExperiment_XGBRegressor:Before reverse - price mean: 0.44923494890588567\n",
            "2025-05-31 23:40:54,482 - PricePredictionExperiment_XGBRegressor - INFO - After reverse - price mean: 30649667.2\n",
            "INFO:PricePredictionExperiment_XGBRegressor:After reverse - price mean: 30649667.2\n",
            "2025-05-31 23:40:54,548 - PricePredictionExperiment_XGBRegressor - INFO - Fold 1 - Log scale: R²=0.8553, RMSE=0.0710, SMAPE=8.8070%\n",
            "Original scale: R²=0.5830, RMSE=37584227.8592, SMAPE=22.9750%\n",
            "INFO:PricePredictionExperiment_XGBRegressor:Fold 1 - Log scale: R²=0.8553, RMSE=0.0710, SMAPE=8.8070%\n",
            "Original scale: R²=0.5830, RMSE=37584227.8592, SMAPE=22.9750%\n"
          ]
        },
        {
          "output_type": "stream",
          "name": "stdout",
          "text": [
            " Fold 2: train_size=100 val_size=50\n"
          ]
        },
        {
          "output_type": "stream",
          "name": "stderr",
          "text": [
            "2025-05-31 23:40:54,807 - PricePredictionExperiment_XGBRegressor - INFO - Before reverse - price mean: 0.48160117863933743\n",
            "INFO:PricePredictionExperiment_XGBRegressor:Before reverse - price mean: 0.48160117863933743\n",
            "2025-05-31 23:40:54,811 - PricePredictionExperiment_XGBRegressor - INFO - After reverse - price mean: 70292049.59999996\n",
            "INFO:PricePredictionExperiment_XGBRegressor:After reverse - price mean: 70292049.59999996\n",
            "2025-05-31 23:40:54,866 - PricePredictionExperiment_XGBRegressor - INFO - Fold 2 - Log scale: R²=0.8047, RMSE=0.0985, SMAPE=7.3729%\n",
            "Original scale: R²=0.5312, RMSE=103799077.3332, SMAPE=19.1372%\n",
            "INFO:PricePredictionExperiment_XGBRegressor:Fold 2 - Log scale: R²=0.8047, RMSE=0.0985, SMAPE=7.3729%\n",
            "Original scale: R²=0.5312, RMSE=103799077.3332, SMAPE=19.1372%\n",
            "\u001b[32m[I 2025-05-31 23:40:54,870]\u001b[0m Trial 0 finished with value: 0.8519561494029696 and parameters: {'model__n_estimators': 687, 'model__max_depth': 6, 'model__learning_rate': 0.03793972738151323, 'model__subsample': 0.9197316968394074}. Best is trial 0 with value: 0.8519561494029696.\u001b[0m\n",
            "2025-05-31 23:40:54,871 - PricePredictionExperiment_XGBRegressor - INFO - Elapsed time for optuna: 1.10 seconds\n",
            "INFO:PricePredictionExperiment_XGBRegressor:Elapsed time for optuna: 1.10 seconds\n",
            "2025-05-31 23:40:54,883 - PricePredictionExperiment_XGBRegressor - INFO - Timing started for: final_cv\n",
            "INFO:PricePredictionExperiment_XGBRegressor:Timing started for: final_cv\n"
          ]
        },
        {
          "output_type": "stream",
          "name": "stdout",
          "text": [
            "Final CV stratified bins counts: [48 47 48 46 47]\n",
            "Running final 5-fold CV on 236 samples\n",
            " FinalCV Fold 0: train_size=188 val_size=48\n"
          ]
        },
        {
          "output_type": "stream",
          "name": "stderr",
          "text": [
            "2025-05-31 23:40:55,399 - PricePredictionExperiment_XGBRegressor - INFO - Before reverse - price mean: 0.4550678466274749\n",
            "INFO:PricePredictionExperiment_XGBRegressor:Before reverse - price mean: 0.4550678466274749\n",
            "2025-05-31 23:40:55,403 - PricePredictionExperiment_XGBRegressor - INFO - After reverse - price mean: 35495257.499999985\n",
            "INFO:PricePredictionExperiment_XGBRegressor:After reverse - price mean: 35495257.499999985\n",
            "2025-05-31 23:40:55,408 - PricePredictionExperiment_XGBRegressor - INFO -  Fold 1/5 | Log R2=0.9941 | Orig R2=0.8929\n",
            "INFO:PricePredictionExperiment_XGBRegressor: Fold 1/5 | Log R2=0.9941 | Orig R2=0.8929\n"
          ]
        },
        {
          "output_type": "stream",
          "name": "stdout",
          "text": [
            " FinalCV Fold 1: train_size=189 val_size=47\n"
          ]
        },
        {
          "output_type": "stream",
          "name": "stderr",
          "text": [
            "2025-05-31 23:40:55,851 - PricePredictionExperiment_XGBRegressor - INFO - Before reverse - price mean: 0.47295177607112204\n",
            "INFO:PricePredictionExperiment_XGBRegressor:Before reverse - price mean: 0.47295177607112204\n",
            "2025-05-31 23:40:55,854 - PricePredictionExperiment_XGBRegressor - INFO - After reverse - price mean: 50921123.40425533\n",
            "INFO:PricePredictionExperiment_XGBRegressor:After reverse - price mean: 50921123.40425533\n",
            "2025-05-31 23:40:55,859 - PricePredictionExperiment_XGBRegressor - INFO -  Fold 2/5 | Log R2=0.9691 | Orig R2=0.8696\n",
            "INFO:PricePredictionExperiment_XGBRegressor: Fold 2/5 | Log R2=0.9691 | Orig R2=0.8696\n"
          ]
        },
        {
          "output_type": "stream",
          "name": "stdout",
          "text": [
            " FinalCV Fold 2: train_size=189 val_size=47\n"
          ]
        },
        {
          "output_type": "stream",
          "name": "stderr",
          "text": [
            "2025-05-31 23:40:56,276 - PricePredictionExperiment_XGBRegressor - INFO - Before reverse - price mean: 0.46109879287422134\n",
            "INFO:PricePredictionExperiment_XGBRegressor:Before reverse - price mean: 0.46109879287422134\n",
            "2025-05-31 23:40:56,281 - PricePredictionExperiment_XGBRegressor - INFO - After reverse - price mean: 50421914.893617004\n",
            "INFO:PricePredictionExperiment_XGBRegressor:After reverse - price mean: 50421914.893617004\n",
            "2025-05-31 23:40:56,286 - PricePredictionExperiment_XGBRegressor - INFO -  Fold 3/5 | Log R2=0.9789 | Orig R2=0.7577\n",
            "INFO:PricePredictionExperiment_XGBRegressor: Fold 3/5 | Log R2=0.9789 | Orig R2=0.7577\n"
          ]
        },
        {
          "output_type": "stream",
          "name": "stdout",
          "text": [
            " FinalCV Fold 3: train_size=189 val_size=47\n"
          ]
        },
        {
          "output_type": "stream",
          "name": "stderr",
          "text": [
            "2025-05-31 23:40:56,739 - PricePredictionExperiment_XGBRegressor - INFO - Before reverse - price mean: 0.4580297314108511\n",
            "INFO:PricePredictionExperiment_XGBRegressor:Before reverse - price mean: 0.4580297314108511\n",
            "2025-05-31 23:40:56,744 - PricePredictionExperiment_XGBRegressor - INFO - After reverse - price mean: 63415391.4893617\n",
            "INFO:PricePredictionExperiment_XGBRegressor:After reverse - price mean: 63415391.4893617\n",
            "2025-05-31 23:40:56,749 - PricePredictionExperiment_XGBRegressor - INFO -  Fold 4/5 | Log R2=0.9840 | Orig R2=0.7536\n",
            "INFO:PricePredictionExperiment_XGBRegressor: Fold 4/5 | Log R2=0.9840 | Orig R2=0.7536\n"
          ]
        },
        {
          "output_type": "stream",
          "name": "stdout",
          "text": [
            " FinalCV Fold 4: train_size=189 val_size=47\n"
          ]
        },
        {
          "output_type": "stream",
          "name": "stderr",
          "text": [
            "2025-05-31 23:40:57,182 - PricePredictionExperiment_XGBRegressor - INFO - Before reverse - price mean: 0.4727362701111664\n",
            "INFO:PricePredictionExperiment_XGBRegressor:Before reverse - price mean: 0.4727362701111664\n",
            "2025-05-31 23:40:57,185 - PricePredictionExperiment_XGBRegressor - INFO - After reverse - price mean: 67053424.65957447\n",
            "INFO:PricePredictionExperiment_XGBRegressor:After reverse - price mean: 67053424.65957447\n",
            "2025-05-31 23:40:57,191 - PricePredictionExperiment_XGBRegressor - INFO -  Fold 5/5 | Log R2=0.9689 | Orig R2=0.9124\n",
            "INFO:PricePredictionExperiment_XGBRegressor: Fold 5/5 | Log R2=0.9689 | Orig R2=0.9124\n",
            "2025-05-31 23:40:57,727 - PricePredictionExperiment_XGBRegressor - INFO - Before reverse - price mean: 0.46124991486493366\n",
            "INFO:PricePredictionExperiment_XGBRegressor:Before reverse - price mean: 0.46124991486493366\n",
            "2025-05-31 23:40:57,731 - PricePredictionExperiment_XGBRegressor - INFO - After reverse - price mean: 53129052.52542374\n",
            "INFO:PricePredictionExperiment_XGBRegressor:After reverse - price mean: 53129052.52542374\n",
            "2025-05-31 23:40:57,922 - PricePredictionExperiment_XGBRegressor - INFO - Evaluation artifacts saved to /content/results/metrics\n",
            "INFO:PricePredictionExperiment_XGBRegressor:Evaluation artifacts saved to /content/results/metrics\n",
            "2025-05-31 23:40:57,931 - PricePredictionExperiment_XGBRegressor - INFO - Elapsed time for final_cv: 3.05 seconds\n",
            "INFO:PricePredictionExperiment_XGBRegressor:Elapsed time for final_cv: 3.05 seconds\n",
            "2025-05-31 23:40:58,444 - PricePredictionExperiment_XGBRegressor - INFO - Timing started for: final_model_teaching\n",
            "INFO:PricePredictionExperiment_XGBRegressor:Timing started for: final_model_teaching\n"
          ]
        },
        {
          "output_type": "stream",
          "name": "stdout",
          "text": [
            "['landCategory', 'wallMaterial', 'bathroom', 'renovation', 'electricity', 'heating', 'waterSupply', 'gas', 'sewerage', 'media', 'parking', 'transportAccessibility', 'saleMethod', 'seller', 'category', 'infrastructure', 'terrace', 'recreation', 'region', 'nearestPPLA', 'nearestPPLA2']\n"
          ]
        },
        {
          "output_type": "stream",
          "name": "stderr",
          "text": [
            "2025-05-31 23:41:03,853 - PricePredictionExperiment_XGBRegressor - INFO - [before_final_fit] CPU: 64.4%, RAM: 3.62GB/12.67GB, GPU: 0%, GPU RAM: 1.06/15.00GB\n",
            "INFO:PricePredictionExperiment_XGBRegressor:[before_final_fit] CPU: 64.4%, RAM: 3.62GB/12.67GB, GPU: 0%, GPU RAM: 1.06/15.00GB\n",
            "2025-05-31 23:41:05,041 - PricePredictionExperiment_XGBRegressor - INFO - [after_final_fit] CPU: 5.1%, RAM: 3.59GB/12.67GB, GPU: 0%, GPU RAM: 1.06/15.00GB\n",
            "INFO:PricePredictionExperiment_XGBRegressor:[after_final_fit] CPU: 5.1%, RAM: 3.59GB/12.67GB, GPU: 0%, GPU RAM: 1.06/15.00GB\n"
          ]
        },
        {
          "output_type": "stream",
          "name": "stdout",
          "text": [
            "[EXTRACT] В ColumnTransformer нет шага 'text'\n",
            "[SAVE] No transformer to save.\n",
            "[SAVE] No tokenizer to save.\n",
            "[SAVE] All available components saved to /content/results/price_prediction_XGBRegressor_categorical-only_none_pca_False_gate_False_mtf_True_ (logged to MLflow: True)\n"
          ]
        },
        {
          "output_type": "stream",
          "name": "stderr",
          "text": [
            "Registered model 'XGBRegressor+sample_300+None+pca_False+gate_False+textfeat_False' already exists. Creating a new version of this model...\n",
            "Created version '3' of model 'XGBRegressor+sample_300+None+pca_False+gate_False+textfeat_False'.\n",
            "2025-05-31 23:41:05,617 - PricePredictionExperiment_XGBRegressor - INFO - Model registered as 'XGBRegressor+sample_300+None+pca_False+gate_False+textfeat_False', version 3\n",
            "INFO:PricePredictionExperiment_XGBRegressor:Model registered as 'XGBRegressor+sample_300+None+pca_False+gate_False+textfeat_False', version 3\n",
            "2025-05-31 23:41:05,668 - PricePredictionExperiment_XGBRegressor - INFO - Full model saved to /content/results/price_prediction_XGBRegressor_categorical-only_none_pca_False_gate_False_mtf_True_ and logged to MLflow\n",
            "INFO:PricePredictionExperiment_XGBRegressor:Full model saved to /content/results/price_prediction_XGBRegressor_categorical-only_none_pca_False_gate_False_mtf_True_ and logged to MLflow\n",
            "2025-05-31 23:41:05,673 - PricePredictionExperiment_XGBRegressor - INFO - Elapsed time for final_model_teaching: 7.23 seconds\n",
            "INFO:PricePredictionExperiment_XGBRegressor:Elapsed time for final_model_teaching: 7.23 seconds\n",
            "2025-05-31 23:41:05,686 - PricePredictionExperiment_XGBRegressor - INFO - Elapsed time for total: 12.12 seconds\n",
            "INFO:PricePredictionExperiment_XGBRegressor:Elapsed time for total: 12.12 seconds\n",
            "2025-05-31 23:41:05,713 - PricePredictionExperiment_XGBRegressor - INFO - → Запуск конфигурации: price_prediction_XGBRegressor_categorical-only_none_pca_False_gate_False_mtf_False_\n",
            "INFO:PricePredictionExperiment_XGBRegressor:→ Запуск конфигурации: price_prediction_XGBRegressor_categorical-only_none_pca_False_gate_False_mtf_False_\n",
            "2025-05-31 23:41:05,715 - PricePredictionExperiment_XGBRegressor - INFO - Loading and preprocessing data...\n",
            "INFO:PricePredictionExperiment_XGBRegressor:Loading and preprocessing data...\n",
            "2025-05-31 23:41:05,742 - PricePredictionExperiment_XGBRegressor - INFO - Applying sample_size: 300\n",
            "INFO:PricePredictionExperiment_XGBRegressor:Applying sample_size: 300\n",
            "2025-05-31 23:41:05,751 - PricePredictionExperiment_XGBRegressor - INFO - Данные прошли строгую валидацию профиля.\n",
            "INFO:PricePredictionExperiment_XGBRegressor:Данные прошли строгую валидацию профиля.\n"
          ]
        },
        {
          "output_type": "stream",
          "name": "stdout",
          "text": [
            "['landCategory', 'wallMaterial', 'bathroom', 'renovation', 'electricity', 'heating', 'waterSupply', 'gas', 'sewerage', 'media', 'parking', 'transportAccessibility', 'saleMethod', 'seller', 'category', 'infrastructure', 'terrace', 'recreation', 'region', 'nearestPPLA', 'nearestPPLA2']\n"
          ]
        },
        {
          "output_type": "stream",
          "name": "stderr",
          "text": [
            "\u001b[32m[I 2025-05-31 23:41:18,410]\u001b[0m A new study created in memory with name: no-name-0a5a4976-a49d-4654-bfb3-6704492e381f\u001b[0m\n",
            "2025-05-31 23:41:18,616 - PricePredictionExperiment_XGBRegressor - INFO - Timing started for: total\n",
            "INFO:PricePredictionExperiment_XGBRegressor:Timing started for: total\n",
            "2025-05-31 23:41:18,629 - PricePredictionExperiment_XGBRegressor - INFO - ENV: python_version: 3.11.12 (main, Apr  9 2025, 08:55:54) [GCC 11.4.0]\n",
            "INFO:PricePredictionExperiment_XGBRegressor:ENV: python_version: 3.11.12 (main, Apr  9 2025, 08:55:54) [GCC 11.4.0]\n",
            "2025-05-31 23:41:18,640 - PricePredictionExperiment_XGBRegressor - INFO - ENV: platform: Linux-6.1.123+-x86_64-with-glibc2.35\n",
            "INFO:PricePredictionExperiment_XGBRegressor:ENV: platform: Linux-6.1.123+-x86_64-with-glibc2.35\n",
            "2025-05-31 23:41:18,668 - PricePredictionExperiment_XGBRegressor - INFO - ENV: sklearn_version: 1.6.1\n",
            "INFO:PricePredictionExperiment_XGBRegressor:ENV: sklearn_version: 1.6.1\n",
            "2025-05-31 23:41:18,681 - PricePredictionExperiment_XGBRegressor - INFO - ENV: pandas_version: 2.2.2\n",
            "INFO:PricePredictionExperiment_XGBRegressor:ENV: pandas_version: 2.2.2\n",
            "2025-05-31 23:41:18,692 - PricePredictionExperiment_XGBRegressor - INFO - ENV: numpy_version: 1.26.4\n",
            "INFO:PricePredictionExperiment_XGBRegressor:ENV: numpy_version: 1.26.4\n",
            "2025-05-31 23:41:18,704 - PricePredictionExperiment_XGBRegressor - INFO - ENV: torch_version: 2.6.0+cu124\n",
            "INFO:PricePredictionExperiment_XGBRegressor:ENV: torch_version: 2.6.0+cu124\n",
            "2025-05-31 23:41:18,716 - PricePredictionExperiment_XGBRegressor - INFO - ENV: cuda_available: True\n",
            "INFO:PricePredictionExperiment_XGBRegressor:ENV: cuda_available: True\n",
            "2025-05-31 23:41:18,728 - PricePredictionExperiment_XGBRegressor - INFO - ENV: cuda_device: Tesla T4\n",
            "INFO:PricePredictionExperiment_XGBRegressor:ENV: cuda_device: Tesla T4\n",
            "2025-05-31 23:41:18,739 - PricePredictionExperiment_XGBRegressor - INFO - ENV: run_time: 2025-05-31 23:41:18\n",
            "INFO:PricePredictionExperiment_XGBRegressor:ENV: run_time: 2025-05-31 23:41:18\n",
            "2025-05-31 23:41:18,751 - PricePredictionExperiment_XGBRegressor - INFO - ENV: run_hostname: bd3d025abf46\n",
            "INFO:PricePredictionExperiment_XGBRegressor:ENV: run_hostname: bd3d025abf46\n",
            "2025-05-31 23:41:18,846 - PricePredictionExperiment_XGBRegressor - INFO - Timing started for: optuna\n",
            "INFO:PricePredictionExperiment_XGBRegressor:Timing started for: optuna\n"
          ]
        },
        {
          "output_type": "stream",
          "name": "stdout",
          "text": [
            "CV stratified bins counts: [51 49 50]\n",
            "Running 3-fold CV on 150 samples\n",
            " Fold 0: train_size=100 val_size=50\n",
            "Epoch 1/3 - Loss: 0.0942\n",
            "Epoch 2/3 - Loss: 0.0268\n",
            "Epoch 3/3 - Loss: 0.0186\n"
          ]
        },
        {
          "output_type": "stream",
          "name": "stderr",
          "text": [
            "2025-05-31 23:41:24,877 - PricePredictionExperiment_XGBRegressor - INFO - Before reverse - price mean: 0.46163744810703816\n",
            "INFO:PricePredictionExperiment_XGBRegressor:Before reverse - price mean: 0.46163744810703816\n",
            "2025-05-31 23:41:24,881 - PricePredictionExperiment_XGBRegressor - INFO - After reverse - price mean: 52492874.37999999\n",
            "INFO:PricePredictionExperiment_XGBRegressor:After reverse - price mean: 52492874.37999999\n",
            "2025-05-31 23:41:24,933 - PricePredictionExperiment_XGBRegressor - INFO - Fold 0 - Log scale: R²=0.9050, RMSE=0.0674, SMAPE=14.1330%\n",
            "Original scale: R²=0.4567, RMSE=90689136.4034, SMAPE=29.4258%\n",
            "INFO:PricePredictionExperiment_XGBRegressor:Fold 0 - Log scale: R²=0.9050, RMSE=0.0674, SMAPE=14.1330%\n",
            "Original scale: R²=0.4567, RMSE=90689136.4034, SMAPE=29.4258%\n"
          ]
        },
        {
          "output_type": "stream",
          "name": "stdout",
          "text": [
            " Fold 1: train_size=100 val_size=50\n",
            "Epoch 1/3 - Loss: 0.3444\n",
            "Epoch 2/3 - Loss: 0.0792\n",
            "Epoch 3/3 - Loss: 0.0347\n"
          ]
        },
        {
          "output_type": "stream",
          "name": "stderr",
          "text": [
            "2025-05-31 23:41:32,263 - PricePredictionExperiment_XGBRegressor - INFO - Before reverse - price mean: 0.44923494890588567\n",
            "INFO:PricePredictionExperiment_XGBRegressor:Before reverse - price mean: 0.44923494890588567\n",
            "2025-05-31 23:41:32,266 - PricePredictionExperiment_XGBRegressor - INFO - After reverse - price mean: 30649667.2\n",
            "INFO:PricePredictionExperiment_XGBRegressor:After reverse - price mean: 30649667.2\n",
            "2025-05-31 23:41:32,318 - PricePredictionExperiment_XGBRegressor - INFO - Fold 1 - Log scale: R²=0.8625, RMSE=0.0692, SMAPE=9.2869%\n",
            "Original scale: R²=0.6455, RMSE=34656438.7295, SMAPE=25.1280%\n",
            "INFO:PricePredictionExperiment_XGBRegressor:Fold 1 - Log scale: R²=0.8625, RMSE=0.0692, SMAPE=9.2869%\n",
            "Original scale: R²=0.6455, RMSE=34656438.7295, SMAPE=25.1280%\n"
          ]
        },
        {
          "output_type": "stream",
          "name": "stdout",
          "text": [
            " Fold 2: train_size=100 val_size=50\n",
            "Epoch 1/3 - Loss: 0.1558\n",
            "Epoch 2/3 - Loss: 0.0532\n",
            "Epoch 3/3 - Loss: 0.0325\n"
          ]
        },
        {
          "output_type": "stream",
          "name": "stderr",
          "text": [
            "2025-05-31 23:41:37,870 - PricePredictionExperiment_XGBRegressor - INFO - Before reverse - price mean: 0.48160117863933743\n",
            "INFO:PricePredictionExperiment_XGBRegressor:Before reverse - price mean: 0.48160117863933743\n",
            "2025-05-31 23:41:37,874 - PricePredictionExperiment_XGBRegressor - INFO - After reverse - price mean: 70292049.59999996\n",
            "INFO:PricePredictionExperiment_XGBRegressor:After reverse - price mean: 70292049.59999996\n",
            "2025-05-31 23:41:37,952 - PricePredictionExperiment_XGBRegressor - INFO - Fold 2 - Log scale: R²=0.8035, RMSE=0.0988, SMAPE=7.4365%\n",
            "Original scale: R²=0.5254, RMSE=104434605.7539, SMAPE=19.3891%\n",
            "INFO:PricePredictionExperiment_XGBRegressor:Fold 2 - Log scale: R²=0.8035, RMSE=0.0988, SMAPE=7.4365%\n",
            "Original scale: R²=0.5254, RMSE=104434605.7539, SMAPE=19.3891%\n",
            "\u001b[32m[I 2025-05-31 23:41:37,995]\u001b[0m Trial 0 finished with value: 0.8570069294466766 and parameters: {'model__n_estimators': 687, 'model__max_depth': 6, 'model__learning_rate': 0.03793972738151323, 'model__subsample': 0.9197316968394074, 'bert__max_len': 256, 'bert__batch_size': 8, 'bert__pooling_type': 'cls', 'bert__lr': 5.6850797878654144e-05}. Best is trial 0 with value: 0.8570069294466766.\u001b[0m\n",
            "2025-05-31 23:41:37,996 - PricePredictionExperiment_XGBRegressor - INFO - Elapsed time for optuna: 19.15 seconds\n",
            "INFO:PricePredictionExperiment_XGBRegressor:Elapsed time for optuna: 19.15 seconds\n",
            "2025-05-31 23:41:38,012 - PricePredictionExperiment_XGBRegressor - INFO - Timing started for: final_cv\n",
            "INFO:PricePredictionExperiment_XGBRegressor:Timing started for: final_cv\n"
          ]
        },
        {
          "output_type": "stream",
          "name": "stdout",
          "text": [
            "Final CV stratified bins counts: [48 47 48 46 47]\n",
            "Running final 5-fold CV on 236 samples\n",
            " FinalCV Fold 0: train_size=188 val_size=48\n",
            "Couldn't determine BERT output dim, using default PCA: 'NoneType' object has no attribute 'bert'\n",
            "Epoch 1/3 - Loss: 0.1171\n",
            "Epoch 2/3 - Loss: 0.0282\n",
            "Epoch 3/3 - Loss: 0.0204\n"
          ]
        },
        {
          "output_type": "stream",
          "name": "stderr",
          "text": [
            "2025-05-31 23:41:46,169 - PricePredictionExperiment_XGBRegressor - INFO - Before reverse - price mean: 0.4550678466274749\n",
            "INFO:PricePredictionExperiment_XGBRegressor:Before reverse - price mean: 0.4550678466274749\n",
            "2025-05-31 23:41:46,178 - PricePredictionExperiment_XGBRegressor - INFO - After reverse - price mean: 35495257.499999985\n",
            "INFO:PricePredictionExperiment_XGBRegressor:After reverse - price mean: 35495257.499999985\n",
            "2025-05-31 23:41:46,186 - PricePredictionExperiment_XGBRegressor - INFO -  Fold 1/5 | Log R2=0.9944 | Orig R2=0.9602\n",
            "INFO:PricePredictionExperiment_XGBRegressor: Fold 1/5 | Log R2=0.9944 | Orig R2=0.9602\n"
          ]
        },
        {
          "output_type": "stream",
          "name": "stdout",
          "text": [
            " FinalCV Fold 1: train_size=189 val_size=47\n",
            "Couldn't determine BERT output dim, using default PCA: 'NoneType' object has no attribute 'bert'\n",
            "Epoch 1/3 - Loss: 0.0923\n",
            "Epoch 2/3 - Loss: 0.0236\n",
            "Epoch 3/3 - Loss: 0.0156\n"
          ]
        },
        {
          "output_type": "stream",
          "name": "stderr",
          "text": [
            "2025-05-31 23:41:52,505 - PricePredictionExperiment_XGBRegressor - INFO - Before reverse - price mean: 0.47295177607112204\n",
            "INFO:PricePredictionExperiment_XGBRegressor:Before reverse - price mean: 0.47295177607112204\n",
            "2025-05-31 23:41:52,509 - PricePredictionExperiment_XGBRegressor - INFO - After reverse - price mean: 50921123.40425533\n",
            "INFO:PricePredictionExperiment_XGBRegressor:After reverse - price mean: 50921123.40425533\n",
            "2025-05-31 23:41:52,516 - PricePredictionExperiment_XGBRegressor - INFO -  Fold 2/5 | Log R2=0.9703 | Orig R2=0.9149\n",
            "INFO:PricePredictionExperiment_XGBRegressor: Fold 2/5 | Log R2=0.9703 | Orig R2=0.9149\n"
          ]
        },
        {
          "output_type": "stream",
          "name": "stdout",
          "text": [
            " FinalCV Fold 2: train_size=189 val_size=47\n",
            "Couldn't determine BERT output dim, using default PCA: 'NoneType' object has no attribute 'bert'\n",
            "Epoch 1/3 - Loss: 0.0605\n",
            "Epoch 2/3 - Loss: 0.0291\n",
            "Epoch 3/3 - Loss: 0.0158\n"
          ]
        },
        {
          "output_type": "stream",
          "name": "stderr",
          "text": [
            "2025-05-31 23:41:59,713 - PricePredictionExperiment_XGBRegressor - INFO - Before reverse - price mean: 0.46109879287422134\n",
            "INFO:PricePredictionExperiment_XGBRegressor:Before reverse - price mean: 0.46109879287422134\n",
            "2025-05-31 23:41:59,716 - PricePredictionExperiment_XGBRegressor - INFO - After reverse - price mean: 50421914.893617004\n",
            "INFO:PricePredictionExperiment_XGBRegressor:After reverse - price mean: 50421914.893617004\n",
            "2025-05-31 23:41:59,725 - PricePredictionExperiment_XGBRegressor - INFO -  Fold 3/5 | Log R2=0.9714 | Orig R2=0.6854\n",
            "INFO:PricePredictionExperiment_XGBRegressor: Fold 3/5 | Log R2=0.9714 | Orig R2=0.6854\n"
          ]
        },
        {
          "output_type": "stream",
          "name": "stdout",
          "text": [
            " FinalCV Fold 3: train_size=189 val_size=47\n",
            "Couldn't determine BERT output dim, using default PCA: 'NoneType' object has no attribute 'bert'\n",
            "Epoch 1/3 - Loss: 0.1113\n",
            "Epoch 2/3 - Loss: 0.0316\n",
            "Epoch 3/3 - Loss: 0.0176\n"
          ]
        },
        {
          "output_type": "stream",
          "name": "stderr",
          "text": [
            "2025-05-31 23:42:06,079 - PricePredictionExperiment_XGBRegressor - INFO - Before reverse - price mean: 0.4580297314108511\n",
            "INFO:PricePredictionExperiment_XGBRegressor:Before reverse - price mean: 0.4580297314108511\n",
            "2025-05-31 23:42:06,083 - PricePredictionExperiment_XGBRegressor - INFO - After reverse - price mean: 63415391.4893617\n",
            "INFO:PricePredictionExperiment_XGBRegressor:After reverse - price mean: 63415391.4893617\n",
            "2025-05-31 23:42:06,090 - PricePredictionExperiment_XGBRegressor - INFO -  Fold 4/5 | Log R2=0.9794 | Orig R2=0.6703\n",
            "INFO:PricePredictionExperiment_XGBRegressor: Fold 4/5 | Log R2=0.9794 | Orig R2=0.6703\n"
          ]
        },
        {
          "output_type": "stream",
          "name": "stdout",
          "text": [
            " FinalCV Fold 4: train_size=189 val_size=47\n",
            "Couldn't determine BERT output dim, using default PCA: 'NoneType' object has no attribute 'bert'\n",
            "Epoch 1/3 - Loss: 0.0629\n",
            "Epoch 2/3 - Loss: 0.0223\n",
            "Epoch 3/3 - Loss: 0.0167\n"
          ]
        },
        {
          "output_type": "stream",
          "name": "stderr",
          "text": [
            "2025-05-31 23:42:13,455 - PricePredictionExperiment_XGBRegressor - INFO - Before reverse - price mean: 0.4727362701111664\n",
            "INFO:PricePredictionExperiment_XGBRegressor:Before reverse - price mean: 0.4727362701111664\n",
            "2025-05-31 23:42:13,463 - PricePredictionExperiment_XGBRegressor - INFO - After reverse - price mean: 67053424.65957447\n",
            "INFO:PricePredictionExperiment_XGBRegressor:After reverse - price mean: 67053424.65957447\n",
            "2025-05-31 23:42:13,472 - PricePredictionExperiment_XGBRegressor - INFO -  Fold 5/5 | Log R2=0.9609 | Orig R2=0.8191\n",
            "INFO:PricePredictionExperiment_XGBRegressor: Fold 5/5 | Log R2=0.9609 | Orig R2=0.8191\n"
          ]
        },
        {
          "output_type": "stream",
          "name": "stdout",
          "text": [
            "Couldn't determine BERT output dim, using default PCA: 'NoneType' object has no attribute 'bert'\n",
            "Epoch 1/3 - Loss: 0.0818\n",
            "Epoch 2/3 - Loss: 0.0227\n",
            "Epoch 3/3 - Loss: 0.0142\n"
          ]
        },
        {
          "output_type": "stream",
          "name": "stderr",
          "text": [
            "2025-05-31 23:42:21,565 - PricePredictionExperiment_XGBRegressor - INFO - Before reverse - price mean: 0.46124991486493366\n",
            "INFO:PricePredictionExperiment_XGBRegressor:Before reverse - price mean: 0.46124991486493366\n",
            "2025-05-31 23:42:21,571 - PricePredictionExperiment_XGBRegressor - INFO - After reverse - price mean: 53129052.52542374\n",
            "INFO:PricePredictionExperiment_XGBRegressor:After reverse - price mean: 53129052.52542374\n",
            "2025-05-31 23:42:21,824 - PricePredictionExperiment_XGBRegressor - INFO - Evaluation artifacts saved to /content/results/metrics\n",
            "INFO:PricePredictionExperiment_XGBRegressor:Evaluation artifacts saved to /content/results/metrics\n",
            "2025-05-31 23:42:21,871 - PricePredictionExperiment_XGBRegressor - INFO - Elapsed time for final_cv: 43.86 seconds\n",
            "INFO:PricePredictionExperiment_XGBRegressor:Elapsed time for final_cv: 43.86 seconds\n",
            "2025-05-31 23:42:22,381 - PricePredictionExperiment_XGBRegressor - INFO - Timing started for: final_model_teaching\n",
            "INFO:PricePredictionExperiment_XGBRegressor:Timing started for: final_model_teaching\n"
          ]
        },
        {
          "output_type": "stream",
          "name": "stdout",
          "text": [
            "['landCategory', 'wallMaterial', 'bathroom', 'renovation', 'electricity', 'heating', 'waterSupply', 'gas', 'sewerage', 'media', 'parking', 'transportAccessibility', 'saleMethod', 'seller', 'category', 'infrastructure', 'terrace', 'recreation', 'region', 'nearestPPLA', 'nearestPPLA2']\n",
            "Couldn't determine BERT output dim, using default PCA: 'NoneType' object has no attribute 'bert'\n"
          ]
        },
        {
          "output_type": "stream",
          "name": "stderr",
          "text": [
            "2025-05-31 23:42:27,011 - PricePredictionExperiment_XGBRegressor - INFO - [before_final_fit] CPU: 88.3%, RAM: 3.57GB/12.67GB, GPU: 0%, GPU RAM: 1.06/15.00GB\n",
            "INFO:PricePredictionExperiment_XGBRegressor:[before_final_fit] CPU: 88.3%, RAM: 3.57GB/12.67GB, GPU: 0%, GPU RAM: 1.06/15.00GB\n"
          ]
        },
        {
          "output_type": "stream",
          "name": "stdout",
          "text": [
            "Epoch 1/3 - Loss: 0.0715\n",
            "Epoch 2/3 - Loss: 0.0219\n",
            "Epoch 3/3 - Loss: 0.0155\n"
          ]
        },
        {
          "output_type": "stream",
          "name": "stderr",
          "text": [
            "2025-05-31 23:42:38,199 - PricePredictionExperiment_XGBRegressor - INFO - [after_final_fit] CPU: 0.0%, RAM: 3.53GB/12.67GB, GPU: 0%, GPU RAM: 1.06/15.00GB\n",
            "INFO:PricePredictionExperiment_XGBRegressor:[after_final_fit] CPU: 0.0%, RAM: 3.53GB/12.67GB, GPU: 0%, GPU RAM: 1.06/15.00GB\n"
          ]
        },
        {
          "output_type": "stream",
          "name": "stdout",
          "text": [
            "[EXTRACT] Найден transformer под именем 'text': <class 'sklearn.pipeline.Pipeline'>\n",
            "[SAVE] No tokenizer to save.\n",
            "[SAVE] All available components saved to /content/results/price_prediction_XGBRegressor_categorical-only_none_pca_False_gate_False_mtf_False_ (logged to MLflow: True)\n"
          ]
        },
        {
          "output_type": "stream",
          "name": "stderr",
          "text": [
            "Registered model 'XGBRegressor+sample_300+rubert+pca_True+gate_False+textfeat_False' already exists. Creating a new version of this model...\n",
            "Created version '5' of model 'XGBRegressor+sample_300+rubert+pca_True+gate_False+textfeat_False'.\n",
            "2025-05-31 23:42:40,973 - PricePredictionExperiment_XGBRegressor - INFO - Model registered as 'XGBRegressor+sample_300+rubert+pca_True+gate_False+textfeat_False', version 5\n",
            "INFO:PricePredictionExperiment_XGBRegressor:Model registered as 'XGBRegressor+sample_300+rubert+pca_True+gate_False+textfeat_False', version 5\n",
            "2025-05-31 23:42:41,022 - PricePredictionExperiment_XGBRegressor - INFO - Full model saved to /content/results/price_prediction_XGBRegressor_categorical-only_none_pca_False_gate_False_mtf_False_ and logged to MLflow\n",
            "INFO:PricePredictionExperiment_XGBRegressor:Full model saved to /content/results/price_prediction_XGBRegressor_categorical-only_none_pca_False_gate_False_mtf_False_ and logged to MLflow\n",
            "2025-05-31 23:42:41,050 - PricePredictionExperiment_XGBRegressor - INFO - Elapsed time for final_model_teaching: 18.67 seconds\n",
            "INFO:PricePredictionExperiment_XGBRegressor:Elapsed time for final_model_teaching: 18.67 seconds\n",
            "2025-05-31 23:42:41,064 - PricePredictionExperiment_XGBRegressor - INFO - Elapsed time for total: 82.45 seconds\n",
            "INFO:PricePredictionExperiment_XGBRegressor:Elapsed time for total: 82.45 seconds\n",
            "2025-05-31 23:42:41,098 - PricePredictionExperiment_XGBRegressor - INFO - → Запуск конфигурации: price_prediction_XGBRegressor_mixed_rubert_pca_True_gate_False_mtf_False_\n",
            "INFO:PricePredictionExperiment_XGBRegressor:→ Запуск конфигурации: price_prediction_XGBRegressor_mixed_rubert_pca_True_gate_False_mtf_False_\n",
            "2025-05-31 23:42:41,100 - PricePredictionExperiment_XGBRegressor - INFO - Loading and preprocessing data...\n",
            "INFO:PricePredictionExperiment_XGBRegressor:Loading and preprocessing data...\n",
            "2025-05-31 23:42:41,124 - PricePredictionExperiment_XGBRegressor - INFO - Applying sample_size: 300\n",
            "INFO:PricePredictionExperiment_XGBRegressor:Applying sample_size: 300\n",
            "2025-05-31 23:42:41,136 - PricePredictionExperiment_XGBRegressor - INFO - Данные прошли строгую валидацию профиля.\n",
            "INFO:PricePredictionExperiment_XGBRegressor:Данные прошли строгую валидацию профиля.\n"
          ]
        },
        {
          "output_type": "stream",
          "name": "stdout",
          "text": [
            "['landCategory', 'wallMaterial', 'bathroom', 'renovation', 'electricity', 'heating', 'waterSupply', 'gas', 'sewerage', 'media', 'parking', 'transportAccessibility', 'saleMethod', 'seller', 'category', 'infrastructure', 'terrace', 'recreation', 'region', 'nearestPPLA', 'nearestPPLA2']\n"
          ]
        },
        {
          "output_type": "stream",
          "name": "stderr",
          "text": [
            "\u001b[32m[I 2025-05-31 23:43:00,443]\u001b[0m A new study created in memory with name: no-name-0b28ffa2-0931-4dda-a31f-f35a8622c7b9\u001b[0m\n",
            "2025-05-31 23:43:00,658 - PricePredictionExperiment_XGBRegressor - INFO - Timing started for: total\n",
            "INFO:PricePredictionExperiment_XGBRegressor:Timing started for: total\n",
            "2025-05-31 23:43:00,670 - PricePredictionExperiment_XGBRegressor - INFO - ENV: python_version: 3.11.12 (main, Apr  9 2025, 08:55:54) [GCC 11.4.0]\n",
            "INFO:PricePredictionExperiment_XGBRegressor:ENV: python_version: 3.11.12 (main, Apr  9 2025, 08:55:54) [GCC 11.4.0]\n",
            "2025-05-31 23:43:00,684 - PricePredictionExperiment_XGBRegressor - INFO - ENV: platform: Linux-6.1.123+-x86_64-with-glibc2.35\n",
            "INFO:PricePredictionExperiment_XGBRegressor:ENV: platform: Linux-6.1.123+-x86_64-with-glibc2.35\n",
            "2025-05-31 23:43:00,699 - PricePredictionExperiment_XGBRegressor - INFO - ENV: sklearn_version: 1.6.1\n",
            "INFO:PricePredictionExperiment_XGBRegressor:ENV: sklearn_version: 1.6.1\n",
            "2025-05-31 23:43:00,714 - PricePredictionExperiment_XGBRegressor - INFO - ENV: pandas_version: 2.2.2\n",
            "INFO:PricePredictionExperiment_XGBRegressor:ENV: pandas_version: 2.2.2\n",
            "2025-05-31 23:43:00,732 - PricePredictionExperiment_XGBRegressor - INFO - ENV: numpy_version: 1.26.4\n",
            "INFO:PricePredictionExperiment_XGBRegressor:ENV: numpy_version: 1.26.4\n",
            "2025-05-31 23:43:00,745 - PricePredictionExperiment_XGBRegressor - INFO - ENV: torch_version: 2.6.0+cu124\n",
            "INFO:PricePredictionExperiment_XGBRegressor:ENV: torch_version: 2.6.0+cu124\n",
            "2025-05-31 23:43:00,758 - PricePredictionExperiment_XGBRegressor - INFO - ENV: cuda_available: True\n",
            "INFO:PricePredictionExperiment_XGBRegressor:ENV: cuda_available: True\n",
            "2025-05-31 23:43:00,771 - PricePredictionExperiment_XGBRegressor - INFO - ENV: cuda_device: Tesla T4\n",
            "INFO:PricePredictionExperiment_XGBRegressor:ENV: cuda_device: Tesla T4\n",
            "2025-05-31 23:43:00,787 - PricePredictionExperiment_XGBRegressor - INFO - ENV: run_time: 2025-05-31 23:43:00\n",
            "INFO:PricePredictionExperiment_XGBRegressor:ENV: run_time: 2025-05-31 23:43:00\n",
            "2025-05-31 23:43:00,801 - PricePredictionExperiment_XGBRegressor - INFO - ENV: run_hostname: bd3d025abf46\n",
            "INFO:PricePredictionExperiment_XGBRegressor:ENV: run_hostname: bd3d025abf46\n",
            "2025-05-31 23:43:00,906 - PricePredictionExperiment_XGBRegressor - INFO - Timing started for: optuna\n",
            "INFO:PricePredictionExperiment_XGBRegressor:Timing started for: optuna\n"
          ]
        },
        {
          "output_type": "stream",
          "name": "stdout",
          "text": [
            "CV stratified bins counts: [51 49 50]\n",
            "Running 3-fold CV on 150 samples\n",
            " Fold 0: train_size=100 val_size=50\n"
          ]
        },
        {
          "output_type": "stream",
          "name": "stderr",
          "text": [
            "2025-05-31 23:43:03,544 - PricePredictionExperiment_XGBRegressor - INFO - Before reverse - price mean: 0.46163744810703816\n",
            "INFO:PricePredictionExperiment_XGBRegressor:Before reverse - price mean: 0.46163744810703816\n",
            "2025-05-31 23:43:03,547 - PricePredictionExperiment_XGBRegressor - INFO - After reverse - price mean: 52492874.37999999\n",
            "INFO:PricePredictionExperiment_XGBRegressor:After reverse - price mean: 52492874.37999999\n",
            "2025-05-31 23:43:03,599 - PricePredictionExperiment_XGBRegressor - INFO - Fold 0 - Log scale: R²=0.9027, RMSE=0.0682, SMAPE=13.3072%\n",
            "Original scale: R²=0.4733, RMSE=89294001.3869, SMAPE=29.3842%\n",
            "INFO:PricePredictionExperiment_XGBRegressor:Fold 0 - Log scale: R²=0.9027, RMSE=0.0682, SMAPE=13.3072%\n",
            "Original scale: R²=0.4733, RMSE=89294001.3869, SMAPE=29.3842%\n"
          ]
        },
        {
          "output_type": "stream",
          "name": "stdout",
          "text": [
            " Fold 1: train_size=100 val_size=50\n"
          ]
        },
        {
          "output_type": "stream",
          "name": "stderr",
          "text": [
            "2025-05-31 23:43:05,251 - PricePredictionExperiment_XGBRegressor - INFO - Before reverse - price mean: 0.44923494890588567\n",
            "INFO:PricePredictionExperiment_XGBRegressor:Before reverse - price mean: 0.44923494890588567\n",
            "2025-05-31 23:43:05,254 - PricePredictionExperiment_XGBRegressor - INFO - After reverse - price mean: 30649667.2\n",
            "INFO:PricePredictionExperiment_XGBRegressor:After reverse - price mean: 30649667.2\n",
            "2025-05-31 23:43:05,320 - PricePredictionExperiment_XGBRegressor - INFO - Fold 1 - Log scale: R²=0.8561, RMSE=0.0708, SMAPE=8.7118%\n",
            "Original scale: R²=0.5972, RMSE=36938367.3225, SMAPE=22.9959%\n",
            "INFO:PricePredictionExperiment_XGBRegressor:Fold 1 - Log scale: R²=0.8561, RMSE=0.0708, SMAPE=8.7118%\n",
            "Original scale: R²=0.5972, RMSE=36938367.3225, SMAPE=22.9959%\n"
          ]
        },
        {
          "output_type": "stream",
          "name": "stdout",
          "text": [
            " Fold 2: train_size=100 val_size=50\n"
          ]
        },
        {
          "output_type": "stream",
          "name": "stderr",
          "text": [
            "2025-05-31 23:43:06,860 - PricePredictionExperiment_XGBRegressor - INFO - Before reverse - price mean: 0.48160117863933743\n",
            "INFO:PricePredictionExperiment_XGBRegressor:Before reverse - price mean: 0.48160117863933743\n",
            "2025-05-31 23:43:06,869 - PricePredictionExperiment_XGBRegressor - INFO - After reverse - price mean: 70292049.59999996\n",
            "INFO:PricePredictionExperiment_XGBRegressor:After reverse - price mean: 70292049.59999996\n",
            "2025-05-31 23:43:06,940 - PricePredictionExperiment_XGBRegressor - INFO - Fold 2 - Log scale: R²=0.8019, RMSE=0.0992, SMAPE=7.5357%\n",
            "Original scale: R²=0.5291, RMSE=104033722.6244, SMAPE=19.3980%\n",
            "INFO:PricePredictionExperiment_XGBRegressor:Fold 2 - Log scale: R²=0.8019, RMSE=0.0992, SMAPE=7.5357%\n",
            "Original scale: R²=0.5291, RMSE=104033722.6244, SMAPE=19.3980%\n",
            "\u001b[32m[I 2025-05-31 23:43:06,943]\u001b[0m Trial 0 finished with value: 0.8535643257401754 and parameters: {'model__n_estimators': 687, 'model__max_depth': 6, 'model__learning_rate': 0.03793972738151323, 'model__subsample': 0.9197316968394074, 'w2v__vector_size': 100, 'w2v__window': 6, 'w2v__min_count': 1, 'w2v__sg': 0}. Best is trial 0 with value: 0.8535643257401754.\u001b[0m\n",
            "2025-05-31 23:43:06,945 - PricePredictionExperiment_XGBRegressor - INFO - Elapsed time for optuna: 6.04 seconds\n",
            "INFO:PricePredictionExperiment_XGBRegressor:Elapsed time for optuna: 6.04 seconds\n",
            "2025-05-31 23:43:06,956 - PricePredictionExperiment_XGBRegressor - INFO - Timing started for: final_cv\n",
            "INFO:PricePredictionExperiment_XGBRegressor:Timing started for: final_cv\n"
          ]
        },
        {
          "output_type": "stream",
          "name": "stdout",
          "text": [
            "Final CV stratified bins counts: [48 47 48 46 47]\n",
            "Running final 5-fold CV on 236 samples\n",
            " FinalCV Fold 0: train_size=188 val_size=48\n"
          ]
        },
        {
          "output_type": "stream",
          "name": "stderr",
          "text": [
            "2025-05-31 23:43:10,475 - PricePredictionExperiment_XGBRegressor - INFO - Before reverse - price mean: 0.4550678466274749\n",
            "INFO:PricePredictionExperiment_XGBRegressor:Before reverse - price mean: 0.4550678466274749\n",
            "2025-05-31 23:43:10,481 - PricePredictionExperiment_XGBRegressor - INFO - After reverse - price mean: 35495257.499999985\n",
            "INFO:PricePredictionExperiment_XGBRegressor:After reverse - price mean: 35495257.499999985\n",
            "2025-05-31 23:43:10,486 - PricePredictionExperiment_XGBRegressor - INFO -  Fold 1/5 | Log R2=0.9919 | Orig R2=0.8852\n",
            "INFO:PricePredictionExperiment_XGBRegressor: Fold 1/5 | Log R2=0.9919 | Orig R2=0.8852\n"
          ]
        },
        {
          "output_type": "stream",
          "name": "stdout",
          "text": [
            " FinalCV Fold 1: train_size=189 val_size=47\n"
          ]
        },
        {
          "output_type": "stream",
          "name": "stderr",
          "text": [
            "2025-05-31 23:43:14,736 - PricePredictionExperiment_XGBRegressor - INFO - Before reverse - price mean: 0.47295177607112204\n",
            "INFO:PricePredictionExperiment_XGBRegressor:Before reverse - price mean: 0.47295177607112204\n",
            "2025-05-31 23:43:14,745 - PricePredictionExperiment_XGBRegressor - INFO - After reverse - price mean: 50921123.40425533\n",
            "INFO:PricePredictionExperiment_XGBRegressor:After reverse - price mean: 50921123.40425533\n",
            "2025-05-31 23:43:14,753 - PricePredictionExperiment_XGBRegressor - INFO -  Fold 2/5 | Log R2=0.9669 | Orig R2=0.9021\n",
            "INFO:PricePredictionExperiment_XGBRegressor: Fold 2/5 | Log R2=0.9669 | Orig R2=0.9021\n"
          ]
        },
        {
          "output_type": "stream",
          "name": "stdout",
          "text": [
            " FinalCV Fold 2: train_size=189 val_size=47\n"
          ]
        },
        {
          "output_type": "stream",
          "name": "stderr",
          "text": [
            "2025-05-31 23:43:18,665 - PricePredictionExperiment_XGBRegressor - INFO - Before reverse - price mean: 0.46109879287422134\n",
            "INFO:PricePredictionExperiment_XGBRegressor:Before reverse - price mean: 0.46109879287422134\n",
            "2025-05-31 23:43:18,668 - PricePredictionExperiment_XGBRegressor - INFO - After reverse - price mean: 50421914.893617004\n",
            "INFO:PricePredictionExperiment_XGBRegressor:After reverse - price mean: 50421914.893617004\n",
            "2025-05-31 23:43:18,677 - PricePredictionExperiment_XGBRegressor - INFO -  Fold 3/5 | Log R2=0.9613 | Orig R2=0.6179\n",
            "INFO:PricePredictionExperiment_XGBRegressor: Fold 3/5 | Log R2=0.9613 | Orig R2=0.6179\n"
          ]
        },
        {
          "output_type": "stream",
          "name": "stdout",
          "text": [
            " FinalCV Fold 3: train_size=189 val_size=47\n"
          ]
        },
        {
          "output_type": "stream",
          "name": "stderr",
          "text": [
            "2025-05-31 23:43:22,206 - PricePredictionExperiment_XGBRegressor - INFO - Before reverse - price mean: 0.4580297314108511\n",
            "INFO:PricePredictionExperiment_XGBRegressor:Before reverse - price mean: 0.4580297314108511\n",
            "2025-05-31 23:43:22,209 - PricePredictionExperiment_XGBRegressor - INFO - After reverse - price mean: 63415391.4893617\n",
            "INFO:PricePredictionExperiment_XGBRegressor:After reverse - price mean: 63415391.4893617\n",
            "2025-05-31 23:43:22,219 - PricePredictionExperiment_XGBRegressor - INFO -  Fold 4/5 | Log R2=0.9740 | Orig R2=0.5761\n",
            "INFO:PricePredictionExperiment_XGBRegressor: Fold 4/5 | Log R2=0.9740 | Orig R2=0.5761\n"
          ]
        },
        {
          "output_type": "stream",
          "name": "stdout",
          "text": [
            " FinalCV Fold 4: train_size=189 val_size=47\n"
          ]
        },
        {
          "output_type": "stream",
          "name": "stderr",
          "text": [
            "2025-05-31 23:43:25,644 - PricePredictionExperiment_XGBRegressor - INFO - Before reverse - price mean: 0.4727362701111664\n",
            "INFO:PricePredictionExperiment_XGBRegressor:Before reverse - price mean: 0.4727362701111664\n",
            "2025-05-31 23:43:25,647 - PricePredictionExperiment_XGBRegressor - INFO - After reverse - price mean: 67053424.65957447\n",
            "INFO:PricePredictionExperiment_XGBRegressor:After reverse - price mean: 67053424.65957447\n",
            "2025-05-31 23:43:25,652 - PricePredictionExperiment_XGBRegressor - INFO -  Fold 5/5 | Log R2=0.9634 | Orig R2=0.8254\n",
            "INFO:PricePredictionExperiment_XGBRegressor: Fold 5/5 | Log R2=0.9634 | Orig R2=0.8254\n",
            "2025-05-31 23:43:31,757 - PricePredictionExperiment_XGBRegressor - INFO - Before reverse - price mean: 0.46124991486493366\n",
            "INFO:PricePredictionExperiment_XGBRegressor:Before reverse - price mean: 0.46124991486493366\n",
            "2025-05-31 23:43:31,760 - PricePredictionExperiment_XGBRegressor - INFO - After reverse - price mean: 53129052.52542374\n",
            "INFO:PricePredictionExperiment_XGBRegressor:After reverse - price mean: 53129052.52542374\n",
            "2025-05-31 23:43:31,953 - PricePredictionExperiment_XGBRegressor - INFO - Evaluation artifacts saved to /content/results/metrics\n",
            "INFO:PricePredictionExperiment_XGBRegressor:Evaluation artifacts saved to /content/results/metrics\n",
            "2025-05-31 23:43:31,961 - PricePredictionExperiment_XGBRegressor - INFO - Elapsed time for final_cv: 25.01 seconds\n",
            "INFO:PricePredictionExperiment_XGBRegressor:Elapsed time for final_cv: 25.01 seconds\n",
            "2025-05-31 23:43:32,480 - PricePredictionExperiment_XGBRegressor - INFO - Timing started for: final_model_teaching\n",
            "INFO:PricePredictionExperiment_XGBRegressor:Timing started for: final_model_teaching\n"
          ]
        },
        {
          "output_type": "stream",
          "name": "stdout",
          "text": [
            "['landCategory', 'wallMaterial', 'bathroom', 'renovation', 'electricity', 'heating', 'waterSupply', 'gas', 'sewerage', 'media', 'parking', 'transportAccessibility', 'saleMethod', 'seller', 'category', 'infrastructure', 'terrace', 'recreation', 'region', 'nearestPPLA', 'nearestPPLA2']\n"
          ]
        },
        {
          "output_type": "stream",
          "name": "stderr",
          "text": [
            "2025-05-31 23:43:37,077 - PricePredictionExperiment_XGBRegressor - INFO - [before_final_fit] CPU: 0.0%, RAM: 3.59GB/12.67GB, GPU: 0%, GPU RAM: 1.06/15.00GB\n",
            "INFO:PricePredictionExperiment_XGBRegressor:[before_final_fit] CPU: 0.0%, RAM: 3.59GB/12.67GB, GPU: 0%, GPU RAM: 1.06/15.00GB\n",
            "2025-05-31 23:43:44,096 - PricePredictionExperiment_XGBRegressor - INFO - [after_final_fit] CPU: 5.1%, RAM: 3.57GB/12.67GB, GPU: 0%, GPU RAM: 1.06/15.00GB\n",
            "INFO:PricePredictionExperiment_XGBRegressor:[after_final_fit] CPU: 5.1%, RAM: 3.57GB/12.67GB, GPU: 0%, GPU RAM: 1.06/15.00GB\n"
          ]
        },
        {
          "output_type": "stream",
          "name": "stdout",
          "text": [
            "[EXTRACT] Найден transformer под именем 'text': <class 'sklearn.pipeline.Pipeline'>\n",
            "[SAVE] No tokenizer to save.\n",
            "[SAVE] All available components saved to /content/results/price_prediction_XGBRegressor_mixed_rubert_pca_True_gate_False_mtf_False_ (logged to MLflow: True)\n"
          ]
        },
        {
          "output_type": "stream",
          "name": "stderr",
          "text": [
            "Registered model 'XGBRegressor+sample_300+w2v+pca_True+gate_False+textfeat_False' already exists. Creating a new version of this model...\n",
            "Created version '5' of model 'XGBRegressor+sample_300+w2v+pca_True+gate_False+textfeat_False'.\n",
            "2025-05-31 23:43:44,859 - PricePredictionExperiment_XGBRegressor - INFO - Model registered as 'XGBRegressor+sample_300+w2v+pca_True+gate_False+textfeat_False', version 5\n",
            "INFO:PricePredictionExperiment_XGBRegressor:Model registered as 'XGBRegressor+sample_300+w2v+pca_True+gate_False+textfeat_False', version 5\n",
            "2025-05-31 23:43:44,909 - PricePredictionExperiment_XGBRegressor - INFO - Full model saved to /content/results/price_prediction_XGBRegressor_mixed_rubert_pca_True_gate_False_mtf_False_ and logged to MLflow\n",
            "INFO:PricePredictionExperiment_XGBRegressor:Full model saved to /content/results/price_prediction_XGBRegressor_mixed_rubert_pca_True_gate_False_mtf_False_ and logged to MLflow\n",
            "2025-05-31 23:43:44,912 - PricePredictionExperiment_XGBRegressor - INFO - Elapsed time for final_model_teaching: 12.43 seconds\n",
            "INFO:PricePredictionExperiment_XGBRegressor:Elapsed time for final_model_teaching: 12.43 seconds\n",
            "2025-05-31 23:43:44,926 - PricePredictionExperiment_XGBRegressor - INFO - Elapsed time for total: 44.27 seconds\n",
            "INFO:PricePredictionExperiment_XGBRegressor:Elapsed time for total: 44.27 seconds\n",
            "2025-05-31 23:43:44,966 - PricePredictionExperiment_XGBRegressor - INFO - → Запуск конфигурации: price_prediction_XGBRegressor_mixed_w2v_pca_True_gate_False_mtf_False_\n",
            "INFO:PricePredictionExperiment_XGBRegressor:→ Запуск конфигурации: price_prediction_XGBRegressor_mixed_w2v_pca_True_gate_False_mtf_False_\n",
            "2025-05-31 23:43:44,968 - PricePredictionExperiment_XGBRegressor - INFO - Loading and preprocessing data...\n",
            "INFO:PricePredictionExperiment_XGBRegressor:Loading and preprocessing data...\n",
            "2025-05-31 23:43:44,995 - PricePredictionExperiment_XGBRegressor - INFO - Applying sample_size: 300\n",
            "INFO:PricePredictionExperiment_XGBRegressor:Applying sample_size: 300\n",
            "2025-05-31 23:43:45,004 - PricePredictionExperiment_XGBRegressor - INFO - Данные прошли строгую валидацию профиля.\n",
            "INFO:PricePredictionExperiment_XGBRegressor:Данные прошли строгую валидацию профиля.\n"
          ]
        },
        {
          "output_type": "stream",
          "name": "stdout",
          "text": [
            "['landCategory', 'wallMaterial', 'bathroom', 'renovation', 'electricity', 'heating', 'waterSupply', 'gas', 'sewerage', 'media', 'parking', 'transportAccessibility', 'saleMethod', 'seller', 'category', 'infrastructure', 'terrace', 'recreation', 'region', 'nearestPPLA', 'nearestPPLA2']\n"
          ]
        },
        {
          "output_type": "stream",
          "name": "stderr",
          "text": [
            "\u001b[32m[I 2025-05-31 23:43:57,229]\u001b[0m A new study created in memory with name: no-name-6212f54d-448b-43c7-ab09-a350819dd2c2\u001b[0m\n",
            "2025-05-31 23:43:57,451 - PricePredictionExperiment_XGBRegressor - INFO - Timing started for: total\n",
            "INFO:PricePredictionExperiment_XGBRegressor:Timing started for: total\n",
            "2025-05-31 23:43:57,465 - PricePredictionExperiment_XGBRegressor - INFO - ENV: python_version: 3.11.12 (main, Apr  9 2025, 08:55:54) [GCC 11.4.0]\n",
            "INFO:PricePredictionExperiment_XGBRegressor:ENV: python_version: 3.11.12 (main, Apr  9 2025, 08:55:54) [GCC 11.4.0]\n",
            "2025-05-31 23:43:57,483 - PricePredictionExperiment_XGBRegressor - INFO - ENV: platform: Linux-6.1.123+-x86_64-with-glibc2.35\n",
            "INFO:PricePredictionExperiment_XGBRegressor:ENV: platform: Linux-6.1.123+-x86_64-with-glibc2.35\n",
            "2025-05-31 23:43:57,498 - PricePredictionExperiment_XGBRegressor - INFO - ENV: sklearn_version: 1.6.1\n",
            "INFO:PricePredictionExperiment_XGBRegressor:ENV: sklearn_version: 1.6.1\n",
            "2025-05-31 23:43:57,513 - PricePredictionExperiment_XGBRegressor - INFO - ENV: pandas_version: 2.2.2\n",
            "INFO:PricePredictionExperiment_XGBRegressor:ENV: pandas_version: 2.2.2\n",
            "2025-05-31 23:43:57,524 - PricePredictionExperiment_XGBRegressor - INFO - ENV: numpy_version: 1.26.4\n",
            "INFO:PricePredictionExperiment_XGBRegressor:ENV: numpy_version: 1.26.4\n",
            "2025-05-31 23:43:57,537 - PricePredictionExperiment_XGBRegressor - INFO - ENV: torch_version: 2.6.0+cu124\n",
            "INFO:PricePredictionExperiment_XGBRegressor:ENV: torch_version: 2.6.0+cu124\n",
            "2025-05-31 23:43:57,549 - PricePredictionExperiment_XGBRegressor - INFO - ENV: cuda_available: True\n",
            "INFO:PricePredictionExperiment_XGBRegressor:ENV: cuda_available: True\n",
            "2025-05-31 23:43:57,561 - PricePredictionExperiment_XGBRegressor - INFO - ENV: cuda_device: Tesla T4\n",
            "INFO:PricePredictionExperiment_XGBRegressor:ENV: cuda_device: Tesla T4\n",
            "2025-05-31 23:43:57,572 - PricePredictionExperiment_XGBRegressor - INFO - ENV: run_time: 2025-05-31 23:43:57\n",
            "INFO:PricePredictionExperiment_XGBRegressor:ENV: run_time: 2025-05-31 23:43:57\n",
            "2025-05-31 23:43:57,598 - PricePredictionExperiment_XGBRegressor - INFO - ENV: run_hostname: bd3d025abf46\n",
            "INFO:PricePredictionExperiment_XGBRegressor:ENV: run_hostname: bd3d025abf46\n",
            "2025-05-31 23:43:57,676 - PricePredictionExperiment_XGBRegressor - INFO - Timing started for: optuna\n",
            "INFO:PricePredictionExperiment_XGBRegressor:Timing started for: optuna\n"
          ]
        },
        {
          "output_type": "stream",
          "name": "stdout",
          "text": [
            "CV stratified bins counts: [51 49 50]\n",
            "Running 3-fold CV on 150 samples\n",
            " Fold 0: train_size=100 val_size=50\n"
          ]
        },
        {
          "output_type": "stream",
          "name": "stderr",
          "text": [
            "2025-05-31 23:43:58,677 - PricePredictionExperiment_XGBRegressor - INFO - Before reverse - price mean: 0.46163744810703816\n",
            "INFO:PricePredictionExperiment_XGBRegressor:Before reverse - price mean: 0.46163744810703816\n",
            "2025-05-31 23:43:58,681 - PricePredictionExperiment_XGBRegressor - INFO - After reverse - price mean: 52492874.37999999\n",
            "INFO:PricePredictionExperiment_XGBRegressor:After reverse - price mean: 52492874.37999999\n",
            "2025-05-31 23:43:58,737 - PricePredictionExperiment_XGBRegressor - INFO - Fold 0 - Log scale: R²=0.9111, RMSE=0.0652, SMAPE=13.8793%\n",
            "Original scale: R²=0.5223, RMSE=85040153.1325, SMAPE=29.8484%\n",
            "INFO:PricePredictionExperiment_XGBRegressor:Fold 0 - Log scale: R²=0.9111, RMSE=0.0652, SMAPE=13.8793%\n",
            "Original scale: R²=0.5223, RMSE=85040153.1325, SMAPE=29.8484%\n"
          ]
        },
        {
          "output_type": "stream",
          "name": "stdout",
          "text": [
            " Fold 1: train_size=100 val_size=50\n"
          ]
        },
        {
          "output_type": "stream",
          "name": "stderr",
          "text": [
            "2025-05-31 23:43:59,620 - PricePredictionExperiment_XGBRegressor - INFO - Before reverse - price mean: 0.44923494890588567\n",
            "INFO:PricePredictionExperiment_XGBRegressor:Before reverse - price mean: 0.44923494890588567\n",
            "2025-05-31 23:43:59,624 - PricePredictionExperiment_XGBRegressor - INFO - After reverse - price mean: 30649667.2\n",
            "INFO:PricePredictionExperiment_XGBRegressor:After reverse - price mean: 30649667.2\n",
            "2025-05-31 23:43:59,695 - PricePredictionExperiment_XGBRegressor - INFO - Fold 1 - Log scale: R²=0.8211, RMSE=0.0790, SMAPE=9.4983%\n",
            "Original scale: R²=0.3467, RMSE=47042941.9135, SMAPE=25.3194%\n",
            "INFO:PricePredictionExperiment_XGBRegressor:Fold 1 - Log scale: R²=0.8211, RMSE=0.0790, SMAPE=9.4983%\n",
            "Original scale: R²=0.3467, RMSE=47042941.9135, SMAPE=25.3194%\n"
          ]
        },
        {
          "output_type": "stream",
          "name": "stdout",
          "text": [
            " Fold 2: train_size=100 val_size=50\n"
          ]
        },
        {
          "output_type": "stream",
          "name": "stderr",
          "text": [
            "2025-05-31 23:44:00,501 - PricePredictionExperiment_XGBRegressor - INFO - Before reverse - price mean: 0.48160117863933743\n",
            "INFO:PricePredictionExperiment_XGBRegressor:Before reverse - price mean: 0.48160117863933743\n",
            "2025-05-31 23:44:00,504 - PricePredictionExperiment_XGBRegressor - INFO - After reverse - price mean: 70292049.59999996\n",
            "INFO:PricePredictionExperiment_XGBRegressor:After reverse - price mean: 70292049.59999996\n",
            "2025-05-31 23:44:00,557 - PricePredictionExperiment_XGBRegressor - INFO - Fold 2 - Log scale: R²=0.8062, RMSE=0.0982, SMAPE=6.9674%\n",
            "Original scale: R²=0.5286, RMSE=104088459.2713, SMAPE=18.6812%\n",
            "INFO:PricePredictionExperiment_XGBRegressor:Fold 2 - Log scale: R²=0.8062, RMSE=0.0982, SMAPE=6.9674%\n",
            "Original scale: R²=0.5286, RMSE=104088459.2713, SMAPE=18.6812%\n",
            "\u001b[32m[I 2025-05-31 23:44:00,560]\u001b[0m Trial 0 finished with value: 0.8461164981761963 and parameters: {'model__n_estimators': 687, 'model__max_depth': 6, 'model__learning_rate': 0.03793972738151323, 'model__subsample': 0.9197316968394074, 'tfidf__max_features': 331, 'tfidf__ngram_range_max': 1, 'tfidf__min_df': 1, 'tfidf__max_df': 0.9598528437324805}. Best is trial 0 with value: 0.8461164981761963.\u001b[0m\n",
            "2025-05-31 23:44:00,562 - PricePredictionExperiment_XGBRegressor - INFO - Elapsed time for optuna: 2.89 seconds\n",
            "INFO:PricePredictionExperiment_XGBRegressor:Elapsed time for optuna: 2.89 seconds\n",
            "2025-05-31 23:44:00,592 - PricePredictionExperiment_XGBRegressor - INFO - Timing started for: final_cv\n",
            "INFO:PricePredictionExperiment_XGBRegressor:Timing started for: final_cv\n"
          ]
        },
        {
          "output_type": "stream",
          "name": "stdout",
          "text": [
            "Final CV stratified bins counts: [48 47 48 46 47]\n",
            "Running final 5-fold CV on 236 samples\n",
            " FinalCV Fold 0: train_size=188 val_size=48\n"
          ]
        },
        {
          "output_type": "stream",
          "name": "stderr",
          "text": [
            "2025-05-31 23:44:03,960 - PricePredictionExperiment_XGBRegressor - INFO - Before reverse - price mean: 0.4550678466274749\n",
            "INFO:PricePredictionExperiment_XGBRegressor:Before reverse - price mean: 0.4550678466274749\n",
            "2025-05-31 23:44:03,963 - PricePredictionExperiment_XGBRegressor - INFO - After reverse - price mean: 35495257.499999985\n",
            "INFO:PricePredictionExperiment_XGBRegressor:After reverse - price mean: 35495257.499999985\n",
            "2025-05-31 23:44:03,973 - PricePredictionExperiment_XGBRegressor - INFO -  Fold 1/5 | Log R2=0.9929 | Orig R2=0.8219\n",
            "INFO:PricePredictionExperiment_XGBRegressor: Fold 1/5 | Log R2=0.9929 | Orig R2=0.8219\n"
          ]
        },
        {
          "output_type": "stream",
          "name": "stdout",
          "text": [
            " FinalCV Fold 1: train_size=189 val_size=47\n"
          ]
        },
        {
          "output_type": "stream",
          "name": "stderr",
          "text": [
            "2025-05-31 23:44:08,200 - PricePredictionExperiment_XGBRegressor - INFO - Before reverse - price mean: 0.47295177607112204\n",
            "INFO:PricePredictionExperiment_XGBRegressor:Before reverse - price mean: 0.47295177607112204\n",
            "2025-05-31 23:44:08,210 - PricePredictionExperiment_XGBRegressor - INFO - After reverse - price mean: 50921123.40425533\n",
            "INFO:PricePredictionExperiment_XGBRegressor:After reverse - price mean: 50921123.40425533\n",
            "2025-05-31 23:44:08,226 - PricePredictionExperiment_XGBRegressor - INFO -  Fold 2/5 | Log R2=0.9606 | Orig R2=0.8499\n",
            "INFO:PricePredictionExperiment_XGBRegressor: Fold 2/5 | Log R2=0.9606 | Orig R2=0.8499\n"
          ]
        },
        {
          "output_type": "stream",
          "name": "stdout",
          "text": [
            " FinalCV Fold 2: train_size=189 val_size=47\n"
          ]
        },
        {
          "output_type": "stream",
          "name": "stderr",
          "text": [
            "2025-05-31 23:44:11,776 - PricePredictionExperiment_XGBRegressor - INFO - Before reverse - price mean: 0.46109879287422134\n",
            "INFO:PricePredictionExperiment_XGBRegressor:Before reverse - price mean: 0.46109879287422134\n",
            "2025-05-31 23:44:11,787 - PricePredictionExperiment_XGBRegressor - INFO - After reverse - price mean: 50421914.893617004\n",
            "INFO:PricePredictionExperiment_XGBRegressor:After reverse - price mean: 50421914.893617004\n",
            "2025-05-31 23:44:11,794 - PricePredictionExperiment_XGBRegressor - INFO -  Fold 3/5 | Log R2=0.9709 | Orig R2=0.7014\n",
            "INFO:PricePredictionExperiment_XGBRegressor: Fold 3/5 | Log R2=0.9709 | Orig R2=0.7014\n"
          ]
        },
        {
          "output_type": "stream",
          "name": "stdout",
          "text": [
            " FinalCV Fold 3: train_size=189 val_size=47\n"
          ]
        },
        {
          "output_type": "stream",
          "name": "stderr",
          "text": [
            "2025-05-31 23:44:15,095 - PricePredictionExperiment_XGBRegressor - INFO - Before reverse - price mean: 0.4580297314108511\n",
            "INFO:PricePredictionExperiment_XGBRegressor:Before reverse - price mean: 0.4580297314108511\n",
            "2025-05-31 23:44:15,098 - PricePredictionExperiment_XGBRegressor - INFO - After reverse - price mean: 63415391.4893617\n",
            "INFO:PricePredictionExperiment_XGBRegressor:After reverse - price mean: 63415391.4893617\n",
            "2025-05-31 23:44:15,107 - PricePredictionExperiment_XGBRegressor - INFO -  Fold 4/5 | Log R2=0.9831 | Orig R2=0.7179\n",
            "INFO:PricePredictionExperiment_XGBRegressor: Fold 4/5 | Log R2=0.9831 | Orig R2=0.7179\n"
          ]
        },
        {
          "output_type": "stream",
          "name": "stdout",
          "text": [
            " FinalCV Fold 4: train_size=189 val_size=47\n"
          ]
        },
        {
          "output_type": "stream",
          "name": "stderr",
          "text": [
            "2025-05-31 23:44:18,380 - PricePredictionExperiment_XGBRegressor - INFO - Before reverse - price mean: 0.4727362701111664\n",
            "INFO:PricePredictionExperiment_XGBRegressor:Before reverse - price mean: 0.4727362701111664\n",
            "2025-05-31 23:44:18,383 - PricePredictionExperiment_XGBRegressor - INFO - After reverse - price mean: 67053424.65957447\n",
            "INFO:PricePredictionExperiment_XGBRegressor:After reverse - price mean: 67053424.65957447\n",
            "2025-05-31 23:44:18,388 - PricePredictionExperiment_XGBRegressor - INFO -  Fold 5/5 | Log R2=0.9253 | Orig R2=0.6288\n",
            "INFO:PricePredictionExperiment_XGBRegressor: Fold 5/5 | Log R2=0.9253 | Orig R2=0.6288\n",
            "2025-05-31 23:44:24,108 - PricePredictionExperiment_XGBRegressor - INFO - Before reverse - price mean: 0.46124991486493366\n",
            "INFO:PricePredictionExperiment_XGBRegressor:Before reverse - price mean: 0.46124991486493366\n",
            "2025-05-31 23:44:24,117 - PricePredictionExperiment_XGBRegressor - INFO - After reverse - price mean: 53129052.52542374\n",
            "INFO:PricePredictionExperiment_XGBRegressor:After reverse - price mean: 53129052.52542374\n",
            "2025-05-31 23:44:24,315 - PricePredictionExperiment_XGBRegressor - INFO - Evaluation artifacts saved to /content/results/metrics\n",
            "INFO:PricePredictionExperiment_XGBRegressor:Evaluation artifacts saved to /content/results/metrics\n",
            "2025-05-31 23:44:24,322 - PricePredictionExperiment_XGBRegressor - INFO - Elapsed time for final_cv: 23.73 seconds\n",
            "INFO:PricePredictionExperiment_XGBRegressor:Elapsed time for final_cv: 23.73 seconds\n",
            "2025-05-31 23:44:24,839 - PricePredictionExperiment_XGBRegressor - INFO - Timing started for: final_model_teaching\n",
            "INFO:PricePredictionExperiment_XGBRegressor:Timing started for: final_model_teaching\n"
          ]
        },
        {
          "output_type": "stream",
          "name": "stdout",
          "text": [
            "['landCategory', 'wallMaterial', 'bathroom', 'renovation', 'electricity', 'heating', 'waterSupply', 'gas', 'sewerage', 'media', 'parking', 'transportAccessibility', 'saleMethod', 'seller', 'category', 'infrastructure', 'terrace', 'recreation', 'region', 'nearestPPLA', 'nearestPPLA2']\n"
          ]
        },
        {
          "output_type": "stream",
          "name": "stderr",
          "text": [
            "2025-05-31 23:44:30,349 - PricePredictionExperiment_XGBRegressor - INFO - [before_final_fit] CPU: 0.0%, RAM: 3.54GB/12.67GB, GPU: 0%, GPU RAM: 1.06/15.00GB\n",
            "INFO:PricePredictionExperiment_XGBRegressor:[before_final_fit] CPU: 0.0%, RAM: 3.54GB/12.67GB, GPU: 0%, GPU RAM: 1.06/15.00GB\n",
            "2025-05-31 23:44:36,884 - PricePredictionExperiment_XGBRegressor - INFO - [after_final_fit] CPU: 1.7%, RAM: 3.55GB/12.67GB, GPU: 0%, GPU RAM: 1.06/15.00GB\n",
            "INFO:PricePredictionExperiment_XGBRegressor:[after_final_fit] CPU: 1.7%, RAM: 3.55GB/12.67GB, GPU: 0%, GPU RAM: 1.06/15.00GB\n"
          ]
        },
        {
          "output_type": "stream",
          "name": "stdout",
          "text": [
            "[EXTRACT] Найден transformer под именем 'text': <class 'sklearn.pipeline.Pipeline'>\n",
            "[SAVE] No tokenizer to save.\n",
            "[SAVE] All available components saved to /content/results/price_prediction_XGBRegressor_mixed_w2v_pca_True_gate_False_mtf_False_ (logged to MLflow: True)\n"
          ]
        },
        {
          "output_type": "stream",
          "name": "stderr",
          "text": [
            "Registered model 'XGBRegressor+sample_300+tfidf+pca_True+gate_False+textfeat_False' already exists. Creating a new version of this model...\n",
            "Created version '5' of model 'XGBRegressor+sample_300+tfidf+pca_True+gate_False+textfeat_False'.\n",
            "2025-05-31 23:44:37,498 - PricePredictionExperiment_XGBRegressor - INFO - Model registered as 'XGBRegressor+sample_300+tfidf+pca_True+gate_False+textfeat_False', version 5\n",
            "INFO:PricePredictionExperiment_XGBRegressor:Model registered as 'XGBRegressor+sample_300+tfidf+pca_True+gate_False+textfeat_False', version 5\n",
            "2025-05-31 23:44:37,550 - PricePredictionExperiment_XGBRegressor - INFO - Full model saved to /content/results/price_prediction_XGBRegressor_mixed_w2v_pca_True_gate_False_mtf_False_ and logged to MLflow\n",
            "INFO:PricePredictionExperiment_XGBRegressor:Full model saved to /content/results/price_prediction_XGBRegressor_mixed_w2v_pca_True_gate_False_mtf_False_ and logged to MLflow\n",
            "2025-05-31 23:44:37,553 - PricePredictionExperiment_XGBRegressor - INFO - Elapsed time for final_model_teaching: 12.71 seconds\n",
            "INFO:PricePredictionExperiment_XGBRegressor:Elapsed time for final_model_teaching: 12.71 seconds\n",
            "2025-05-31 23:44:37,568 - PricePredictionExperiment_XGBRegressor - INFO - Elapsed time for total: 40.12 seconds\n",
            "INFO:PricePredictionExperiment_XGBRegressor:Elapsed time for total: 40.12 seconds\n",
            "2025-05-31 23:44:37,606 - PricePredictionExperiment_XGBRegressor - INFO - → Запуск конфигурации: price_prediction_XGBRegressor_mixed_tfidf_pca_True_gate_False_mtf_False_\n",
            "INFO:PricePredictionExperiment_XGBRegressor:→ Запуск конфигурации: price_prediction_XGBRegressor_mixed_tfidf_pca_True_gate_False_mtf_False_\n",
            "2025-05-31 23:44:37,608 - PricePredictionExperiment_XGBRegressor - INFO - Loading and preprocessing data...\n",
            "INFO:PricePredictionExperiment_XGBRegressor:Loading and preprocessing data...\n",
            "2025-05-31 23:44:37,634 - PricePredictionExperiment_XGBRegressor - INFO - Applying sample_size: 300\n",
            "INFO:PricePredictionExperiment_XGBRegressor:Applying sample_size: 300\n",
            "2025-05-31 23:44:37,643 - PricePredictionExperiment_XGBRegressor - INFO - Данные прошли строгую валидацию профиля.\n",
            "INFO:PricePredictionExperiment_XGBRegressor:Данные прошли строгую валидацию профиля.\n"
          ]
        },
        {
          "output_type": "stream",
          "name": "stdout",
          "text": [
            "['landCategory', 'wallMaterial', 'bathroom', 'renovation', 'electricity', 'heating', 'waterSupply', 'gas', 'sewerage', 'media', 'parking', 'transportAccessibility', 'saleMethod', 'seller', 'category', 'infrastructure', 'terrace', 'recreation', 'region', 'nearestPPLA', 'nearestPPLA2']\n"
          ]
        },
        {
          "output_type": "stream",
          "name": "stderr",
          "text": [
            "\u001b[32m[I 2025-05-31 23:44:50,127]\u001b[0m A new study created in memory with name: no-name-2d9f711a-54f5-4fe1-a633-2243e71da97e\u001b[0m\n",
            "2025-05-31 23:44:50,350 - PricePredictionExperiment_XGBRegressor - INFO - Timing started for: total\n",
            "INFO:PricePredictionExperiment_XGBRegressor:Timing started for: total\n",
            "2025-05-31 23:44:50,364 - PricePredictionExperiment_XGBRegressor - INFO - ENV: python_version: 3.11.12 (main, Apr  9 2025, 08:55:54) [GCC 11.4.0]\n",
            "INFO:PricePredictionExperiment_XGBRegressor:ENV: python_version: 3.11.12 (main, Apr  9 2025, 08:55:54) [GCC 11.4.0]\n",
            "2025-05-31 23:44:50,377 - PricePredictionExperiment_XGBRegressor - INFO - ENV: platform: Linux-6.1.123+-x86_64-with-glibc2.35\n",
            "INFO:PricePredictionExperiment_XGBRegressor:ENV: platform: Linux-6.1.123+-x86_64-with-glibc2.35\n",
            "2025-05-31 23:44:50,390 - PricePredictionExperiment_XGBRegressor - INFO - ENV: sklearn_version: 1.6.1\n",
            "INFO:PricePredictionExperiment_XGBRegressor:ENV: sklearn_version: 1.6.1\n",
            "2025-05-31 23:44:50,404 - PricePredictionExperiment_XGBRegressor - INFO - ENV: pandas_version: 2.2.2\n",
            "INFO:PricePredictionExperiment_XGBRegressor:ENV: pandas_version: 2.2.2\n",
            "2025-05-31 23:44:50,415 - PricePredictionExperiment_XGBRegressor - INFO - ENV: numpy_version: 1.26.4\n",
            "INFO:PricePredictionExperiment_XGBRegressor:ENV: numpy_version: 1.26.4\n",
            "2025-05-31 23:44:50,427 - PricePredictionExperiment_XGBRegressor - INFO - ENV: torch_version: 2.6.0+cu124\n",
            "INFO:PricePredictionExperiment_XGBRegressor:ENV: torch_version: 2.6.0+cu124\n",
            "2025-05-31 23:44:50,439 - PricePredictionExperiment_XGBRegressor - INFO - ENV: cuda_available: True\n",
            "INFO:PricePredictionExperiment_XGBRegressor:ENV: cuda_available: True\n",
            "2025-05-31 23:44:50,452 - PricePredictionExperiment_XGBRegressor - INFO - ENV: cuda_device: Tesla T4\n",
            "INFO:PricePredictionExperiment_XGBRegressor:ENV: cuda_device: Tesla T4\n",
            "2025-05-31 23:44:50,465 - PricePredictionExperiment_XGBRegressor - INFO - ENV: run_time: 2025-05-31 23:44:50\n",
            "INFO:PricePredictionExperiment_XGBRegressor:ENV: run_time: 2025-05-31 23:44:50\n",
            "2025-05-31 23:44:50,476 - PricePredictionExperiment_XGBRegressor - INFO - ENV: run_hostname: bd3d025abf46\n",
            "INFO:PricePredictionExperiment_XGBRegressor:ENV: run_hostname: bd3d025abf46\n",
            "2025-05-31 23:44:50,570 - PricePredictionExperiment_XGBRegressor - INFO - Timing started for: optuna\n",
            "INFO:PricePredictionExperiment_XGBRegressor:Timing started for: optuna\n"
          ]
        },
        {
          "output_type": "stream",
          "name": "stdout",
          "text": [
            "CV stratified bins counts: [51 49 50]\n",
            "Running 3-fold CV on 150 samples\n",
            " Fold 0: train_size=100 val_size=50\n",
            "Epoch 1/3 - Loss: 0.0924\n",
            "Epoch 2/3 - Loss: 0.0317\n",
            "Epoch 3/3 - Loss: 0.0192\n"
          ]
        },
        {
          "output_type": "stream",
          "name": "stderr",
          "text": [
            "2025-05-31 23:44:56,488 - PricePredictionExperiment_XGBRegressor - INFO - Before reverse - price mean: 0.46163744810703816\n",
            "INFO:PricePredictionExperiment_XGBRegressor:Before reverse - price mean: 0.46163744810703816\n",
            "2025-05-31 23:44:56,493 - PricePredictionExperiment_XGBRegressor - INFO - After reverse - price mean: 52492874.37999999\n",
            "INFO:PricePredictionExperiment_XGBRegressor:After reverse - price mean: 52492874.37999999\n",
            "2025-05-31 23:44:56,562 - PricePredictionExperiment_XGBRegressor - INFO - Fold 0 - Log scale: R²=0.6089, RMSE=0.1367, SMAPE=29.9363%\n",
            "Original scale: R²=0.3439, RMSE=99658691.8419, SMAPE=76.1167%\n",
            "INFO:PricePredictionExperiment_XGBRegressor:Fold 0 - Log scale: R²=0.6089, RMSE=0.1367, SMAPE=29.9363%\n",
            "Original scale: R²=0.3439, RMSE=99658691.8419, SMAPE=76.1167%\n"
          ]
        },
        {
          "output_type": "stream",
          "name": "stdout",
          "text": [
            " Fold 1: train_size=100 val_size=50\n",
            "Epoch 1/3 - Loss: 0.0893\n",
            "Epoch 2/3 - Loss: 0.0298\n",
            "Epoch 3/3 - Loss: 0.0165\n"
          ]
        },
        {
          "output_type": "stream",
          "name": "stderr",
          "text": [
            "2025-05-31 23:45:04,133 - PricePredictionExperiment_XGBRegressor - INFO - Before reverse - price mean: 0.44923494890588567\n",
            "INFO:PricePredictionExperiment_XGBRegressor:Before reverse - price mean: 0.44923494890588567\n",
            "2025-05-31 23:45:04,137 - PricePredictionExperiment_XGBRegressor - INFO - After reverse - price mean: 30649667.2\n",
            "INFO:PricePredictionExperiment_XGBRegressor:After reverse - price mean: 30649667.2\n",
            "2025-05-31 23:45:04,202 - PricePredictionExperiment_XGBRegressor - INFO - Fold 1 - Log scale: R²=0.2028, RMSE=0.1667, SMAPE=29.8759%\n",
            "Original scale: R²=0.0410, RMSE=56997883.8458, SMAPE=77.7264%\n",
            "INFO:PricePredictionExperiment_XGBRegressor:Fold 1 - Log scale: R²=0.2028, RMSE=0.1667, SMAPE=29.8759%\n",
            "Original scale: R²=0.0410, RMSE=56997883.8458, SMAPE=77.7264%\n"
          ]
        },
        {
          "output_type": "stream",
          "name": "stdout",
          "text": [
            " Fold 2: train_size=100 val_size=50\n",
            "Epoch 1/3 - Loss: 0.1160\n",
            "Epoch 2/3 - Loss: 0.0366\n",
            "Epoch 3/3 - Loss: 0.0271\n"
          ]
        },
        {
          "output_type": "stream",
          "name": "stderr",
          "text": [
            "2025-05-31 23:45:10,183 - PricePredictionExperiment_XGBRegressor - INFO - Before reverse - price mean: 0.48160117863933743\n",
            "INFO:PricePredictionExperiment_XGBRegressor:Before reverse - price mean: 0.48160117863933743\n",
            "2025-05-31 23:45:10,186 - PricePredictionExperiment_XGBRegressor - INFO - After reverse - price mean: 70292049.59999996\n",
            "INFO:PricePredictionExperiment_XGBRegressor:After reverse - price mean: 70292049.59999996\n",
            "2025-05-31 23:45:10,259 - PricePredictionExperiment_XGBRegressor - INFO - Fold 2 - Log scale: R²=0.6807, RMSE=0.1260, SMAPE=24.2111%\n",
            "Original scale: R²=0.3335, RMSE=123766453.5575, SMAPE=71.5435%\n",
            "INFO:PricePredictionExperiment_XGBRegressor:Fold 2 - Log scale: R²=0.6807, RMSE=0.1260, SMAPE=24.2111%\n",
            "Original scale: R²=0.3335, RMSE=123766453.5575, SMAPE=71.5435%\n",
            "\u001b[32m[I 2025-05-31 23:45:10,290]\u001b[0m Trial 0 finished with value: 0.49745937957331093 and parameters: {'model__n_estimators': 687, 'model__max_depth': 6, 'model__learning_rate': 0.03793972738151323, 'model__subsample': 0.9197316968394074, 'bert__max_len': 256, 'bert__batch_size': 8, 'bert__pooling_type': 'cls', 'bert__lr': 5.6850797878654144e-05}. Best is trial 0 with value: 0.49745937957331093.\u001b[0m\n",
            "2025-05-31 23:45:10,291 - PricePredictionExperiment_XGBRegressor - INFO - Elapsed time for optuna: 19.72 seconds\n",
            "INFO:PricePredictionExperiment_XGBRegressor:Elapsed time for optuna: 19.72 seconds\n",
            "2025-05-31 23:45:10,305 - PricePredictionExperiment_XGBRegressor - INFO - Timing started for: final_cv\n",
            "INFO:PricePredictionExperiment_XGBRegressor:Timing started for: final_cv\n"
          ]
        },
        {
          "output_type": "stream",
          "name": "stdout",
          "text": [
            "Final CV stratified bins counts: [48 47 48 46 47]\n",
            "Running final 5-fold CV on 236 samples\n",
            " FinalCV Fold 0: train_size=188 val_size=48\n",
            "Couldn't determine BERT output dim, using default PCA: 'NoneType' object has no attribute 'bert'\n",
            "Epoch 1/3 - Loss: 0.1870\n",
            "Epoch 2/3 - Loss: 0.0413\n",
            "Epoch 3/3 - Loss: 0.0223\n"
          ]
        },
        {
          "output_type": "stream",
          "name": "stderr",
          "text": [
            "2025-05-31 23:45:18,756 - PricePredictionExperiment_XGBRegressor - INFO - Before reverse - price mean: 0.4550678466274749\n",
            "INFO:PricePredictionExperiment_XGBRegressor:Before reverse - price mean: 0.4550678466274749\n",
            "2025-05-31 23:45:18,762 - PricePredictionExperiment_XGBRegressor - INFO - After reverse - price mean: 35495257.499999985\n",
            "INFO:PricePredictionExperiment_XGBRegressor:After reverse - price mean: 35495257.499999985\n",
            "2025-05-31 23:45:18,769 - PricePredictionExperiment_XGBRegressor - INFO -  Fold 1/5 | Log R2=0.2998 | Orig R2=0.3289\n",
            "INFO:PricePredictionExperiment_XGBRegressor: Fold 1/5 | Log R2=0.2998 | Orig R2=0.3289\n"
          ]
        },
        {
          "output_type": "stream",
          "name": "stdout",
          "text": [
            " FinalCV Fold 1: train_size=189 val_size=47\n",
            "Couldn't determine BERT output dim, using default PCA: 'NoneType' object has no attribute 'bert'\n",
            "Epoch 1/3 - Loss: 0.1080\n",
            "Epoch 2/3 - Loss: 0.0315\n",
            "Epoch 3/3 - Loss: 0.0223\n"
          ]
        },
        {
          "output_type": "stream",
          "name": "stderr",
          "text": [
            "2025-05-31 23:45:25,938 - PricePredictionExperiment_XGBRegressor - INFO - Before reverse - price mean: 0.47295177607112204\n",
            "INFO:PricePredictionExperiment_XGBRegressor:Before reverse - price mean: 0.47295177607112204\n",
            "2025-05-31 23:45:25,945 - PricePredictionExperiment_XGBRegressor - INFO - After reverse - price mean: 50921123.40425533\n",
            "INFO:PricePredictionExperiment_XGBRegressor:After reverse - price mean: 50921123.40425533\n",
            "2025-05-31 23:45:25,957 - PricePredictionExperiment_XGBRegressor - INFO -  Fold 2/5 | Log R2=0.6467 | Orig R2=0.4622\n",
            "INFO:PricePredictionExperiment_XGBRegressor: Fold 2/5 | Log R2=0.6467 | Orig R2=0.4622\n"
          ]
        },
        {
          "output_type": "stream",
          "name": "stdout",
          "text": [
            " FinalCV Fold 2: train_size=189 val_size=47\n",
            "Couldn't determine BERT output dim, using default PCA: 'NoneType' object has no attribute 'bert'\n",
            "Epoch 1/3 - Loss: 0.0872\n",
            "Epoch 2/3 - Loss: 0.0213\n",
            "Epoch 3/3 - Loss: 0.0140\n"
          ]
        },
        {
          "output_type": "stream",
          "name": "stderr",
          "text": [
            "2025-05-31 23:45:33,487 - PricePredictionExperiment_XGBRegressor - INFO - Before reverse - price mean: 0.46109879287422134\n",
            "INFO:PricePredictionExperiment_XGBRegressor:Before reverse - price mean: 0.46109879287422134\n",
            "2025-05-31 23:45:33,496 - PricePredictionExperiment_XGBRegressor - INFO - After reverse - price mean: 50421914.893617004\n",
            "INFO:PricePredictionExperiment_XGBRegressor:After reverse - price mean: 50421914.893617004\n",
            "2025-05-31 23:45:33,502 - PricePredictionExperiment_XGBRegressor - INFO -  Fold 3/5 | Log R2=0.6353 | Orig R2=0.4387\n",
            "INFO:PricePredictionExperiment_XGBRegressor: Fold 3/5 | Log R2=0.6353 | Orig R2=0.4387\n"
          ]
        },
        {
          "output_type": "stream",
          "name": "stdout",
          "text": [
            " FinalCV Fold 3: train_size=189 val_size=47\n",
            "Couldn't determine BERT output dim, using default PCA: 'NoneType' object has no attribute 'bert'\n",
            "Epoch 1/3 - Loss: 0.0536\n",
            "Epoch 2/3 - Loss: 0.0248\n",
            "Epoch 3/3 - Loss: 0.0142\n"
          ]
        },
        {
          "output_type": "stream",
          "name": "stderr",
          "text": [
            "2025-05-31 23:45:41,019 - PricePredictionExperiment_XGBRegressor - INFO - Before reverse - price mean: 0.4580297314108511\n",
            "INFO:PricePredictionExperiment_XGBRegressor:Before reverse - price mean: 0.4580297314108511\n",
            "2025-05-31 23:45:41,024 - PricePredictionExperiment_XGBRegressor - INFO - After reverse - price mean: 63415391.4893617\n",
            "INFO:PricePredictionExperiment_XGBRegressor:After reverse - price mean: 63415391.4893617\n",
            "2025-05-31 23:45:41,029 - PricePredictionExperiment_XGBRegressor - INFO -  Fold 4/5 | Log R2=0.7018 | Orig R2=0.5609\n",
            "INFO:PricePredictionExperiment_XGBRegressor: Fold 4/5 | Log R2=0.7018 | Orig R2=0.5609\n"
          ]
        },
        {
          "output_type": "stream",
          "name": "stdout",
          "text": [
            " FinalCV Fold 4: train_size=189 val_size=47\n",
            "Couldn't determine BERT output dim, using default PCA: 'NoneType' object has no attribute 'bert'\n",
            "Epoch 1/3 - Loss: 0.0988\n",
            "Epoch 2/3 - Loss: 0.0303\n",
            "Epoch 3/3 - Loss: 0.0168\n"
          ]
        },
        {
          "output_type": "stream",
          "name": "stderr",
          "text": [
            "2025-05-31 23:45:48,485 - PricePredictionExperiment_XGBRegressor - INFO - Before reverse - price mean: 0.4727362701111664\n",
            "INFO:PricePredictionExperiment_XGBRegressor:Before reverse - price mean: 0.4727362701111664\n",
            "2025-05-31 23:45:48,488 - PricePredictionExperiment_XGBRegressor - INFO - After reverse - price mean: 67053424.65957447\n",
            "INFO:PricePredictionExperiment_XGBRegressor:After reverse - price mean: 67053424.65957447\n",
            "2025-05-31 23:45:48,499 - PricePredictionExperiment_XGBRegressor - INFO -  Fold 5/5 | Log R2=0.5866 | Orig R2=0.3298\n",
            "INFO:PricePredictionExperiment_XGBRegressor: Fold 5/5 | Log R2=0.5866 | Orig R2=0.3298\n"
          ]
        },
        {
          "output_type": "stream",
          "name": "stdout",
          "text": [
            "Couldn't determine BERT output dim, using default PCA: 'NoneType' object has no attribute 'bert'\n",
            "Epoch 1/3 - Loss: 0.0676\n",
            "Epoch 2/3 - Loss: 0.0217\n",
            "Epoch 3/3 - Loss: 0.0133\n"
          ]
        },
        {
          "output_type": "stream",
          "name": "stderr",
          "text": [
            "2025-05-31 23:45:59,316 - PricePredictionExperiment_XGBRegressor - INFO - Before reverse - price mean: 0.46124991486493366\n",
            "INFO:PricePredictionExperiment_XGBRegressor:Before reverse - price mean: 0.46124991486493366\n",
            "2025-05-31 23:45:59,319 - PricePredictionExperiment_XGBRegressor - INFO - After reverse - price mean: 53129052.52542374\n",
            "INFO:PricePredictionExperiment_XGBRegressor:After reverse - price mean: 53129052.52542374\n",
            "2025-05-31 23:45:59,543 - PricePredictionExperiment_XGBRegressor - INFO - Evaluation artifacts saved to /content/results/metrics\n",
            "INFO:PricePredictionExperiment_XGBRegressor:Evaluation artifacts saved to /content/results/metrics\n",
            "2025-05-31 23:45:59,579 - PricePredictionExperiment_XGBRegressor - INFO - Elapsed time for final_cv: 49.27 seconds\n",
            "INFO:PricePredictionExperiment_XGBRegressor:Elapsed time for final_cv: 49.27 seconds\n",
            "2025-05-31 23:46:00,107 - PricePredictionExperiment_XGBRegressor - INFO - Timing started for: final_model_teaching\n",
            "INFO:PricePredictionExperiment_XGBRegressor:Timing started for: final_model_teaching\n"
          ]
        },
        {
          "output_type": "stream",
          "name": "stdout",
          "text": [
            "['landCategory', 'wallMaterial', 'bathroom', 'renovation', 'electricity', 'heating', 'waterSupply', 'gas', 'sewerage', 'media', 'parking', 'transportAccessibility', 'saleMethod', 'seller', 'category', 'infrastructure', 'terrace', 'recreation', 'region', 'nearestPPLA', 'nearestPPLA2']\n",
            "Couldn't determine BERT output dim, using default PCA: 'NoneType' object has no attribute 'bert'\n"
          ]
        },
        {
          "output_type": "stream",
          "name": "stderr",
          "text": [
            "2025-05-31 23:46:04,842 - PricePredictionExperiment_XGBRegressor - INFO - [before_final_fit] CPU: 6.6%, RAM: 3.53GB/12.67GB, GPU: 0%, GPU RAM: 1.06/15.00GB\n",
            "INFO:PricePredictionExperiment_XGBRegressor:[before_final_fit] CPU: 6.6%, RAM: 3.53GB/12.67GB, GPU: 0%, GPU RAM: 1.06/15.00GB\n"
          ]
        },
        {
          "output_type": "stream",
          "name": "stdout",
          "text": [
            "Epoch 1/3 - Loss: 0.0764\n",
            "Epoch 2/3 - Loss: 0.0212\n",
            "Epoch 3/3 - Loss: 0.0133\n"
          ]
        },
        {
          "output_type": "stream",
          "name": "stderr",
          "text": [
            "2025-05-31 23:46:16,960 - PricePredictionExperiment_XGBRegressor - INFO - [after_final_fit] CPU: 3.3%, RAM: 3.53GB/12.67GB, GPU: 0%, GPU RAM: 1.06/15.00GB\n",
            "INFO:PricePredictionExperiment_XGBRegressor:[after_final_fit] CPU: 3.3%, RAM: 3.53GB/12.67GB, GPU: 0%, GPU RAM: 1.06/15.00GB\n"
          ]
        },
        {
          "output_type": "stream",
          "name": "stdout",
          "text": [
            "[EXTRACT] Найден transformer под именем 'text': <class 'sklearn.pipeline.Pipeline'>\n",
            "[SAVE] No tokenizer to save.\n",
            "[SAVE] All available components saved to /content/results/price_prediction_XGBRegressor_mixed_tfidf_pca_True_gate_False_mtf_False_ (logged to MLflow: True)\n"
          ]
        },
        {
          "output_type": "stream",
          "name": "stderr",
          "text": [
            "Registered model 'XGBRegressor+sample_300+rubert+pca_True+gate_False+textfeat_False' already exists. Creating a new version of this model...\n",
            "Created version '6' of model 'XGBRegressor+sample_300+rubert+pca_True+gate_False+textfeat_False'.\n",
            "2025-05-31 23:46:19,789 - PricePredictionExperiment_XGBRegressor - INFO - Model registered as 'XGBRegressor+sample_300+rubert+pca_True+gate_False+textfeat_False', version 6\n",
            "INFO:PricePredictionExperiment_XGBRegressor:Model registered as 'XGBRegressor+sample_300+rubert+pca_True+gate_False+textfeat_False', version 6\n",
            "2025-05-31 23:46:19,860 - PricePredictionExperiment_XGBRegressor - INFO - Full model saved to /content/results/price_prediction_XGBRegressor_mixed_tfidf_pca_True_gate_False_mtf_False_ and logged to MLflow\n",
            "INFO:PricePredictionExperiment_XGBRegressor:Full model saved to /content/results/price_prediction_XGBRegressor_mixed_tfidf_pca_True_gate_False_mtf_False_ and logged to MLflow\n",
            "2025-05-31 23:46:19,898 - PricePredictionExperiment_XGBRegressor - INFO - Elapsed time for final_model_teaching: 19.79 seconds\n",
            "INFO:PricePredictionExperiment_XGBRegressor:Elapsed time for final_model_teaching: 19.79 seconds\n",
            "2025-05-31 23:46:19,916 - PricePredictionExperiment_XGBRegressor - INFO - Elapsed time for total: 89.57 seconds\n",
            "INFO:PricePredictionExperiment_XGBRegressor:Elapsed time for total: 89.57 seconds\n",
            "2025-05-31 23:46:19,942 - PricePredictionExperiment_XGBRegressor - INFO - → Запуск конфигурации: price_prediction_XGBRegressor_text-only_rubert_pca_True_gate_False_mtf_False_\n",
            "INFO:PricePredictionExperiment_XGBRegressor:→ Запуск конфигурации: price_prediction_XGBRegressor_text-only_rubert_pca_True_gate_False_mtf_False_\n",
            "2025-05-31 23:46:19,947 - PricePredictionExperiment_XGBRegressor - INFO - Loading and preprocessing data...\n",
            "INFO:PricePredictionExperiment_XGBRegressor:Loading and preprocessing data...\n",
            "2025-05-31 23:46:19,989 - PricePredictionExperiment_XGBRegressor - INFO - Applying sample_size: 300\n",
            "INFO:PricePredictionExperiment_XGBRegressor:Applying sample_size: 300\n",
            "2025-05-31 23:46:19,999 - PricePredictionExperiment_XGBRegressor - INFO - Данные прошли строгую валидацию профиля.\n",
            "INFO:PricePredictionExperiment_XGBRegressor:Данные прошли строгую валидацию профиля.\n"
          ]
        },
        {
          "output_type": "stream",
          "name": "stdout",
          "text": [
            "['landCategory', 'wallMaterial', 'bathroom', 'renovation', 'electricity', 'heating', 'waterSupply', 'gas', 'sewerage', 'media', 'parking', 'transportAccessibility', 'saleMethod', 'seller', 'category', 'infrastructure', 'terrace', 'recreation', 'region', 'nearestPPLA', 'nearestPPLA2']\n"
          ]
        },
        {
          "output_type": "stream",
          "name": "stderr",
          "text": [
            "\u001b[32m[I 2025-05-31 23:46:38,914]\u001b[0m A new study created in memory with name: no-name-f9f6d10c-07bd-43a0-8aad-dbcd501d6c50\u001b[0m\n",
            "2025-05-31 23:46:39,127 - PricePredictionExperiment_XGBRegressor - INFO - Timing started for: total\n",
            "INFO:PricePredictionExperiment_XGBRegressor:Timing started for: total\n",
            "2025-05-31 23:46:39,139 - PricePredictionExperiment_XGBRegressor - INFO - ENV: python_version: 3.11.12 (main, Apr  9 2025, 08:55:54) [GCC 11.4.0]\n",
            "INFO:PricePredictionExperiment_XGBRegressor:ENV: python_version: 3.11.12 (main, Apr  9 2025, 08:55:54) [GCC 11.4.0]\n",
            "2025-05-31 23:46:39,151 - PricePredictionExperiment_XGBRegressor - INFO - ENV: platform: Linux-6.1.123+-x86_64-with-glibc2.35\n",
            "INFO:PricePredictionExperiment_XGBRegressor:ENV: platform: Linux-6.1.123+-x86_64-with-glibc2.35\n",
            "2025-05-31 23:46:39,164 - PricePredictionExperiment_XGBRegressor - INFO - ENV: sklearn_version: 1.6.1\n",
            "INFO:PricePredictionExperiment_XGBRegressor:ENV: sklearn_version: 1.6.1\n",
            "2025-05-31 23:46:39,178 - PricePredictionExperiment_XGBRegressor - INFO - ENV: pandas_version: 2.2.2\n",
            "INFO:PricePredictionExperiment_XGBRegressor:ENV: pandas_version: 2.2.2\n",
            "2025-05-31 23:46:39,193 - PricePredictionExperiment_XGBRegressor - INFO - ENV: numpy_version: 1.26.4\n",
            "INFO:PricePredictionExperiment_XGBRegressor:ENV: numpy_version: 1.26.4\n",
            "2025-05-31 23:46:39,205 - PricePredictionExperiment_XGBRegressor - INFO - ENV: torch_version: 2.6.0+cu124\n",
            "INFO:PricePredictionExperiment_XGBRegressor:ENV: torch_version: 2.6.0+cu124\n",
            "2025-05-31 23:46:39,217 - PricePredictionExperiment_XGBRegressor - INFO - ENV: cuda_available: True\n",
            "INFO:PricePredictionExperiment_XGBRegressor:ENV: cuda_available: True\n",
            "2025-05-31 23:46:39,228 - PricePredictionExperiment_XGBRegressor - INFO - ENV: cuda_device: Tesla T4\n",
            "INFO:PricePredictionExperiment_XGBRegressor:ENV: cuda_device: Tesla T4\n",
            "2025-05-31 23:46:39,258 - PricePredictionExperiment_XGBRegressor - INFO - ENV: run_time: 2025-05-31 23:46:39\n",
            "INFO:PricePredictionExperiment_XGBRegressor:ENV: run_time: 2025-05-31 23:46:39\n",
            "2025-05-31 23:46:39,271 - PricePredictionExperiment_XGBRegressor - INFO - ENV: run_hostname: bd3d025abf46\n",
            "INFO:PricePredictionExperiment_XGBRegressor:ENV: run_hostname: bd3d025abf46\n",
            "2025-05-31 23:46:39,348 - PricePredictionExperiment_XGBRegressor - INFO - Timing started for: optuna\n",
            "INFO:PricePredictionExperiment_XGBRegressor:Timing started for: optuna\n"
          ]
        },
        {
          "output_type": "stream",
          "name": "stdout",
          "text": [
            "CV stratified bins counts: [51 49 50]\n",
            "Running 3-fold CV on 150 samples\n",
            " Fold 0: train_size=100 val_size=50\n"
          ]
        },
        {
          "output_type": "stream",
          "name": "stderr",
          "text": [
            "2025-05-31 23:46:41,148 - PricePredictionExperiment_XGBRegressor - INFO - Before reverse - price mean: 0.46163744810703816\n",
            "INFO:PricePredictionExperiment_XGBRegressor:Before reverse - price mean: 0.46163744810703816\n",
            "2025-05-31 23:46:41,154 - PricePredictionExperiment_XGBRegressor - INFO - After reverse - price mean: 52492874.37999999\n",
            "INFO:PricePredictionExperiment_XGBRegressor:After reverse - price mean: 52492874.37999999\n",
            "2025-05-31 23:46:41,226 - PricePredictionExperiment_XGBRegressor - INFO - Fold 0 - Log scale: R²=0.3859, RMSE=0.1713, SMAPE=35.8510%\n",
            "Original scale: R²=0.5086, RMSE=86245907.2179, SMAPE=85.1647%\n",
            "INFO:PricePredictionExperiment_XGBRegressor:Fold 0 - Log scale: R²=0.3859, RMSE=0.1713, SMAPE=35.8510%\n",
            "Original scale: R²=0.5086, RMSE=86245907.2179, SMAPE=85.1647%\n"
          ]
        },
        {
          "output_type": "stream",
          "name": "stdout",
          "text": [
            " Fold 1: train_size=100 val_size=50\n"
          ]
        },
        {
          "output_type": "stream",
          "name": "stderr",
          "text": [
            "2025-05-31 23:46:43,023 - PricePredictionExperiment_XGBRegressor - INFO - Before reverse - price mean: 0.44923494890588567\n",
            "INFO:PricePredictionExperiment_XGBRegressor:Before reverse - price mean: 0.44923494890588567\n",
            "2025-05-31 23:46:43,027 - PricePredictionExperiment_XGBRegressor - INFO - After reverse - price mean: 30649667.2\n",
            "INFO:PricePredictionExperiment_XGBRegressor:After reverse - price mean: 30649667.2\n",
            "2025-05-31 23:46:43,080 - PricePredictionExperiment_XGBRegressor - INFO - Fold 1 - Log scale: R²=0.0041, RMSE=0.1864, SMAPE=32.6504%\n",
            "Original scale: R²=-0.5996, RMSE=73613910.7124, SMAPE=83.5777%\n",
            "INFO:PricePredictionExperiment_XGBRegressor:Fold 1 - Log scale: R²=0.0041, RMSE=0.1864, SMAPE=32.6504%\n",
            "Original scale: R²=-0.5996, RMSE=73613910.7124, SMAPE=83.5777%\n"
          ]
        },
        {
          "output_type": "stream",
          "name": "stdout",
          "text": [
            " Fold 2: train_size=100 val_size=50\n"
          ]
        },
        {
          "output_type": "stream",
          "name": "stderr",
          "text": [
            "2025-05-31 23:46:45,383 - PricePredictionExperiment_XGBRegressor - INFO - Before reverse - price mean: 0.48160117863933743\n",
            "INFO:PricePredictionExperiment_XGBRegressor:Before reverse - price mean: 0.48160117863933743\n",
            "2025-05-31 23:46:45,386 - PricePredictionExperiment_XGBRegressor - INFO - After reverse - price mean: 70292049.59999996\n",
            "INFO:PricePredictionExperiment_XGBRegressor:After reverse - price mean: 70292049.59999996\n",
            "2025-05-31 23:46:45,461 - PricePredictionExperiment_XGBRegressor - INFO - Fold 2 - Log scale: R²=0.2988, RMSE=0.1867, SMAPE=31.6073%\n",
            "Original scale: R²=0.0660, RMSE=146510798.8726, SMAPE=85.7715%\n",
            "INFO:PricePredictionExperiment_XGBRegressor:Fold 2 - Log scale: R²=0.2988, RMSE=0.1867, SMAPE=31.6073%\n",
            "Original scale: R²=0.0660, RMSE=146510798.8726, SMAPE=85.7715%\n",
            "\u001b[32m[I 2025-05-31 23:46:45,466]\u001b[0m Trial 0 finished with value: 0.22960561498006657 and parameters: {'model__n_estimators': 687, 'model__max_depth': 6, 'model__learning_rate': 0.03793972738151323, 'model__subsample': 0.9197316968394074, 'w2v__vector_size': 100, 'w2v__window': 6, 'w2v__min_count': 1, 'w2v__sg': 0}. Best is trial 0 with value: 0.22960561498006657.\u001b[0m\n",
            "2025-05-31 23:46:45,467 - PricePredictionExperiment_XGBRegressor - INFO - Elapsed time for optuna: 6.12 seconds\n",
            "INFO:PricePredictionExperiment_XGBRegressor:Elapsed time for optuna: 6.12 seconds\n",
            "2025-05-31 23:46:45,486 - PricePredictionExperiment_XGBRegressor - INFO - Timing started for: final_cv\n",
            "INFO:PricePredictionExperiment_XGBRegressor:Timing started for: final_cv\n"
          ]
        },
        {
          "output_type": "stream",
          "name": "stdout",
          "text": [
            "Final CV stratified bins counts: [48 47 48 46 47]\n",
            "Running final 5-fold CV on 236 samples\n",
            " FinalCV Fold 0: train_size=188 val_size=48\n"
          ]
        },
        {
          "output_type": "stream",
          "name": "stderr",
          "text": [
            "2025-05-31 23:46:50,623 - PricePredictionExperiment_XGBRegressor - INFO - Before reverse - price mean: 0.4550678466274749\n",
            "INFO:PricePredictionExperiment_XGBRegressor:Before reverse - price mean: 0.4550678466274749\n",
            "2025-05-31 23:46:50,626 - PricePredictionExperiment_XGBRegressor - INFO - After reverse - price mean: 35495257.499999985\n",
            "INFO:PricePredictionExperiment_XGBRegressor:After reverse - price mean: 35495257.499999985\n",
            "2025-05-31 23:46:50,634 - PricePredictionExperiment_XGBRegressor - INFO -  Fold 1/5 | Log R2=0.5040 | Orig R2=0.7356\n",
            "INFO:PricePredictionExperiment_XGBRegressor: Fold 1/5 | Log R2=0.5040 | Orig R2=0.7356\n"
          ]
        },
        {
          "output_type": "stream",
          "name": "stdout",
          "text": [
            " FinalCV Fold 1: train_size=189 val_size=47\n"
          ]
        },
        {
          "output_type": "stream",
          "name": "stderr",
          "text": [
            "2025-05-31 23:46:54,854 - PricePredictionExperiment_XGBRegressor - INFO - Before reverse - price mean: 0.47295177607112204\n",
            "INFO:PricePredictionExperiment_XGBRegressor:Before reverse - price mean: 0.47295177607112204\n",
            "2025-05-31 23:46:54,863 - PricePredictionExperiment_XGBRegressor - INFO - After reverse - price mean: 50921123.40425533\n",
            "INFO:PricePredictionExperiment_XGBRegressor:After reverse - price mean: 50921123.40425533\n",
            "2025-05-31 23:46:54,868 - PricePredictionExperiment_XGBRegressor - INFO -  Fold 2/5 | Log R2=0.5753 | Orig R2=0.2563\n",
            "INFO:PricePredictionExperiment_XGBRegressor: Fold 2/5 | Log R2=0.5753 | Orig R2=0.2563\n"
          ]
        },
        {
          "output_type": "stream",
          "name": "stdout",
          "text": [
            " FinalCV Fold 2: train_size=189 val_size=47\n"
          ]
        },
        {
          "output_type": "stream",
          "name": "stderr",
          "text": [
            "2025-05-31 23:46:59,944 - PricePredictionExperiment_XGBRegressor - INFO - Before reverse - price mean: 0.46109879287422134\n",
            "INFO:PricePredictionExperiment_XGBRegressor:Before reverse - price mean: 0.46109879287422134\n",
            "2025-05-31 23:46:59,949 - PricePredictionExperiment_XGBRegressor - INFO - After reverse - price mean: 50421914.893617004\n",
            "INFO:PricePredictionExperiment_XGBRegressor:After reverse - price mean: 50421914.893617004\n",
            "2025-05-31 23:46:59,961 - PricePredictionExperiment_XGBRegressor - INFO -  Fold 3/5 | Log R2=0.4843 | Orig R2=0.3176\n",
            "INFO:PricePredictionExperiment_XGBRegressor: Fold 3/5 | Log R2=0.4843 | Orig R2=0.3176\n"
          ]
        },
        {
          "output_type": "stream",
          "name": "stdout",
          "text": [
            " FinalCV Fold 3: train_size=189 val_size=47\n"
          ]
        },
        {
          "output_type": "stream",
          "name": "stderr",
          "text": [
            "2025-05-31 23:47:05,012 - PricePredictionExperiment_XGBRegressor - INFO - Before reverse - price mean: 0.4580297314108511\n",
            "INFO:PricePredictionExperiment_XGBRegressor:Before reverse - price mean: 0.4580297314108511\n",
            "2025-05-31 23:47:05,016 - PricePredictionExperiment_XGBRegressor - INFO - After reverse - price mean: 63415391.4893617\n",
            "INFO:PricePredictionExperiment_XGBRegressor:After reverse - price mean: 63415391.4893617\n",
            "2025-05-31 23:47:05,021 - PricePredictionExperiment_XGBRegressor - INFO -  Fold 4/5 | Log R2=0.4246 | Orig R2=0.3397\n",
            "INFO:PricePredictionExperiment_XGBRegressor: Fold 4/5 | Log R2=0.4246 | Orig R2=0.3397\n"
          ]
        },
        {
          "output_type": "stream",
          "name": "stdout",
          "text": [
            " FinalCV Fold 4: train_size=189 val_size=47\n"
          ]
        },
        {
          "output_type": "stream",
          "name": "stderr",
          "text": [
            "2025-05-31 23:47:09,262 - PricePredictionExperiment_XGBRegressor - INFO - Before reverse - price mean: 0.4727362701111664\n",
            "INFO:PricePredictionExperiment_XGBRegressor:Before reverse - price mean: 0.4727362701111664\n",
            "2025-05-31 23:47:09,266 - PricePredictionExperiment_XGBRegressor - INFO - After reverse - price mean: 67053424.65957447\n",
            "INFO:PricePredictionExperiment_XGBRegressor:After reverse - price mean: 67053424.65957447\n",
            "2025-05-31 23:47:09,271 - PricePredictionExperiment_XGBRegressor - INFO -  Fold 5/5 | Log R2=0.4353 | Orig R2=0.2155\n",
            "INFO:PricePredictionExperiment_XGBRegressor: Fold 5/5 | Log R2=0.4353 | Orig R2=0.2155\n",
            "2025-05-31 23:47:16,921 - PricePredictionExperiment_XGBRegressor - INFO - Before reverse - price mean: 0.46124991486493366\n",
            "INFO:PricePredictionExperiment_XGBRegressor:Before reverse - price mean: 0.46124991486493366\n",
            "2025-05-31 23:47:16,924 - PricePredictionExperiment_XGBRegressor - INFO - After reverse - price mean: 53129052.52542374\n",
            "INFO:PricePredictionExperiment_XGBRegressor:After reverse - price mean: 53129052.52542374\n",
            "2025-05-31 23:47:17,136 - PricePredictionExperiment_XGBRegressor - INFO - Evaluation artifacts saved to /content/results/metrics\n",
            "INFO:PricePredictionExperiment_XGBRegressor:Evaluation artifacts saved to /content/results/metrics\n",
            "2025-05-31 23:47:17,144 - PricePredictionExperiment_XGBRegressor - INFO - Elapsed time for final_cv: 31.66 seconds\n",
            "INFO:PricePredictionExperiment_XGBRegressor:Elapsed time for final_cv: 31.66 seconds\n",
            "2025-05-31 23:47:17,659 - PricePredictionExperiment_XGBRegressor - INFO - Timing started for: final_model_teaching\n",
            "INFO:PricePredictionExperiment_XGBRegressor:Timing started for: final_model_teaching\n"
          ]
        },
        {
          "output_type": "stream",
          "name": "stdout",
          "text": [
            "['landCategory', 'wallMaterial', 'bathroom', 'renovation', 'electricity', 'heating', 'waterSupply', 'gas', 'sewerage', 'media', 'parking', 'transportAccessibility', 'saleMethod', 'seller', 'category', 'infrastructure', 'terrace', 'recreation', 'region', 'nearestPPLA', 'nearestPPLA2']\n"
          ]
        },
        {
          "output_type": "stream",
          "name": "stderr",
          "text": [
            "2025-05-31 23:47:22,146 - PricePredictionExperiment_XGBRegressor - INFO - [before_final_fit] CPU: 1.7%, RAM: 3.52GB/12.67GB, GPU: 0%, GPU RAM: 1.06/15.00GB\n",
            "INFO:PricePredictionExperiment_XGBRegressor:[before_final_fit] CPU: 1.7%, RAM: 3.52GB/12.67GB, GPU: 0%, GPU RAM: 1.06/15.00GB\n",
            "2025-05-31 23:47:31,594 - PricePredictionExperiment_XGBRegressor - INFO - [after_final_fit] CPU: 1.7%, RAM: 3.55GB/12.67GB, GPU: 0%, GPU RAM: 1.06/15.00GB\n",
            "INFO:PricePredictionExperiment_XGBRegressor:[after_final_fit] CPU: 1.7%, RAM: 3.55GB/12.67GB, GPU: 0%, GPU RAM: 1.06/15.00GB\n"
          ]
        },
        {
          "output_type": "stream",
          "name": "stdout",
          "text": [
            "[EXTRACT] Найден transformer под именем 'text': <class 'sklearn.pipeline.Pipeline'>\n",
            "[SAVE] No tokenizer to save.\n",
            "[SAVE] All available components saved to /content/results/price_prediction_XGBRegressor_text-only_rubert_pca_True_gate_False_mtf_False_ (logged to MLflow: True)\n"
          ]
        },
        {
          "output_type": "stream",
          "name": "stderr",
          "text": [
            "Registered model 'XGBRegressor+sample_300+w2v+pca_True+gate_False+textfeat_False' already exists. Creating a new version of this model...\n",
            "Created version '6' of model 'XGBRegressor+sample_300+w2v+pca_True+gate_False+textfeat_False'.\n",
            "2025-05-31 23:47:32,356 - PricePredictionExperiment_XGBRegressor - INFO - Model registered as 'XGBRegressor+sample_300+w2v+pca_True+gate_False+textfeat_False', version 6\n",
            "INFO:PricePredictionExperiment_XGBRegressor:Model registered as 'XGBRegressor+sample_300+w2v+pca_True+gate_False+textfeat_False', version 6\n",
            "2025-05-31 23:47:32,423 - PricePredictionExperiment_XGBRegressor - INFO - Full model saved to /content/results/price_prediction_XGBRegressor_text-only_rubert_pca_True_gate_False_mtf_False_ and logged to MLflow\n",
            "INFO:PricePredictionExperiment_XGBRegressor:Full model saved to /content/results/price_prediction_XGBRegressor_text-only_rubert_pca_True_gate_False_mtf_False_ and logged to MLflow\n",
            "2025-05-31 23:47:32,427 - PricePredictionExperiment_XGBRegressor - INFO - Elapsed time for final_model_teaching: 14.77 seconds\n",
            "INFO:PricePredictionExperiment_XGBRegressor:Elapsed time for final_model_teaching: 14.77 seconds\n",
            "2025-05-31 23:47:32,439 - PricePredictionExperiment_XGBRegressor - INFO - Elapsed time for total: 53.31 seconds\n",
            "INFO:PricePredictionExperiment_XGBRegressor:Elapsed time for total: 53.31 seconds\n",
            "2025-05-31 23:47:32,475 - PricePredictionExperiment_XGBRegressor - INFO - → Запуск конфигурации: price_prediction_XGBRegressor_text-only_w2v_pca_True_gate_False_mtf_False_\n",
            "INFO:PricePredictionExperiment_XGBRegressor:→ Запуск конфигурации: price_prediction_XGBRegressor_text-only_w2v_pca_True_gate_False_mtf_False_\n",
            "2025-05-31 23:47:32,477 - PricePredictionExperiment_XGBRegressor - INFO - Loading and preprocessing data...\n",
            "INFO:PricePredictionExperiment_XGBRegressor:Loading and preprocessing data...\n",
            "2025-05-31 23:47:32,508 - PricePredictionExperiment_XGBRegressor - INFO - Applying sample_size: 300\n",
            "INFO:PricePredictionExperiment_XGBRegressor:Applying sample_size: 300\n",
            "2025-05-31 23:47:32,517 - PricePredictionExperiment_XGBRegressor - INFO - Данные прошли строгую валидацию профиля.\n",
            "INFO:PricePredictionExperiment_XGBRegressor:Данные прошли строгую валидацию профиля.\n"
          ]
        },
        {
          "output_type": "stream",
          "name": "stdout",
          "text": [
            "['landCategory', 'wallMaterial', 'bathroom', 'renovation', 'electricity', 'heating', 'waterSupply', 'gas', 'sewerage', 'media', 'parking', 'transportAccessibility', 'saleMethod', 'seller', 'category', 'infrastructure', 'terrace', 'recreation', 'region', 'nearestPPLA', 'nearestPPLA2']\n"
          ]
        },
        {
          "output_type": "stream",
          "name": "stderr",
          "text": [
            "\u001b[32m[I 2025-05-31 23:47:45,235]\u001b[0m A new study created in memory with name: no-name-711f771f-f6cf-4ae7-b5c0-6a1d6fb983a5\u001b[0m\n",
            "2025-05-31 23:47:45,438 - PricePredictionExperiment_XGBRegressor - INFO - Timing started for: total\n",
            "INFO:PricePredictionExperiment_XGBRegressor:Timing started for: total\n",
            "2025-05-31 23:47:45,458 - PricePredictionExperiment_XGBRegressor - INFO - ENV: python_version: 3.11.12 (main, Apr  9 2025, 08:55:54) [GCC 11.4.0]\n",
            "INFO:PricePredictionExperiment_XGBRegressor:ENV: python_version: 3.11.12 (main, Apr  9 2025, 08:55:54) [GCC 11.4.0]\n",
            "2025-05-31 23:47:45,472 - PricePredictionExperiment_XGBRegressor - INFO - ENV: platform: Linux-6.1.123+-x86_64-with-glibc2.35\n",
            "INFO:PricePredictionExperiment_XGBRegressor:ENV: platform: Linux-6.1.123+-x86_64-with-glibc2.35\n",
            "2025-05-31 23:47:45,486 - PricePredictionExperiment_XGBRegressor - INFO - ENV: sklearn_version: 1.6.1\n",
            "INFO:PricePredictionExperiment_XGBRegressor:ENV: sklearn_version: 1.6.1\n",
            "2025-05-31 23:47:45,500 - PricePredictionExperiment_XGBRegressor - INFO - ENV: pandas_version: 2.2.2\n",
            "INFO:PricePredictionExperiment_XGBRegressor:ENV: pandas_version: 2.2.2\n",
            "2025-05-31 23:47:45,513 - PricePredictionExperiment_XGBRegressor - INFO - ENV: numpy_version: 1.26.4\n",
            "INFO:PricePredictionExperiment_XGBRegressor:ENV: numpy_version: 1.26.4\n",
            "2025-05-31 23:47:45,541 - PricePredictionExperiment_XGBRegressor - INFO - ENV: torch_version: 2.6.0+cu124\n",
            "INFO:PricePredictionExperiment_XGBRegressor:ENV: torch_version: 2.6.0+cu124\n",
            "2025-05-31 23:47:45,554 - PricePredictionExperiment_XGBRegressor - INFO - ENV: cuda_available: True\n",
            "INFO:PricePredictionExperiment_XGBRegressor:ENV: cuda_available: True\n",
            "2025-05-31 23:47:45,567 - PricePredictionExperiment_XGBRegressor - INFO - ENV: cuda_device: Tesla T4\n",
            "INFO:PricePredictionExperiment_XGBRegressor:ENV: cuda_device: Tesla T4\n",
            "2025-05-31 23:47:45,580 - PricePredictionExperiment_XGBRegressor - INFO - ENV: run_time: 2025-05-31 23:47:45\n",
            "INFO:PricePredictionExperiment_XGBRegressor:ENV: run_time: 2025-05-31 23:47:45\n",
            "2025-05-31 23:47:45,591 - PricePredictionExperiment_XGBRegressor - INFO - ENV: run_hostname: bd3d025abf46\n",
            "INFO:PricePredictionExperiment_XGBRegressor:ENV: run_hostname: bd3d025abf46\n",
            "2025-05-31 23:47:45,686 - PricePredictionExperiment_XGBRegressor - INFO - Timing started for: optuna\n",
            "INFO:PricePredictionExperiment_XGBRegressor:Timing started for: optuna\n"
          ]
        },
        {
          "output_type": "stream",
          "name": "stdout",
          "text": [
            "CV stratified bins counts: [51 49 50]\n",
            "Running 3-fold CV on 150 samples\n",
            " Fold 0: train_size=100 val_size=50\n"
          ]
        },
        {
          "output_type": "stream",
          "name": "stderr",
          "text": [
            "2025-05-31 23:47:47,157 - PricePredictionExperiment_XGBRegressor - INFO - Before reverse - price mean: 0.46163744810703816\n",
            "INFO:PricePredictionExperiment_XGBRegressor:Before reverse - price mean: 0.46163744810703816\n",
            "2025-05-31 23:47:47,160 - PricePredictionExperiment_XGBRegressor - INFO - After reverse - price mean: 52492874.37999999\n",
            "INFO:PricePredictionExperiment_XGBRegressor:After reverse - price mean: 52492874.37999999\n",
            "2025-05-31 23:47:47,228 - PricePredictionExperiment_XGBRegressor - INFO - Fold 0 - Log scale: R²=0.5214, RMSE=0.1512, SMAPE=32.7444%\n",
            "Original scale: R²=0.3881, RMSE=96239932.5268, SMAPE=79.5984%\n",
            "INFO:PricePredictionExperiment_XGBRegressor:Fold 0 - Log scale: R²=0.5214, RMSE=0.1512, SMAPE=32.7444%\n",
            "Original scale: R²=0.3881, RMSE=96239932.5268, SMAPE=79.5984%\n"
          ]
        },
        {
          "output_type": "stream",
          "name": "stdout",
          "text": [
            " Fold 1: train_size=100 val_size=50\n"
          ]
        },
        {
          "output_type": "stream",
          "name": "stderr",
          "text": [
            "2025-05-31 23:47:48,594 - PricePredictionExperiment_XGBRegressor - INFO - Before reverse - price mean: 0.44923494890588567\n",
            "INFO:PricePredictionExperiment_XGBRegressor:Before reverse - price mean: 0.44923494890588567\n",
            "2025-05-31 23:47:48,598 - PricePredictionExperiment_XGBRegressor - INFO - After reverse - price mean: 30649667.2\n",
            "INFO:PricePredictionExperiment_XGBRegressor:After reverse - price mean: 30649667.2\n",
            "2025-05-31 23:47:48,651 - PricePredictionExperiment_XGBRegressor - INFO - Fold 1 - Log scale: R²=0.3623, RMSE=0.1491, SMAPE=29.2377%\n",
            "Original scale: R²=-0.6906, RMSE=75677691.2585, SMAPE=78.3467%\n",
            "INFO:PricePredictionExperiment_XGBRegressor:Fold 1 - Log scale: R²=0.3623, RMSE=0.1491, SMAPE=29.2377%\n",
            "Original scale: R²=-0.6906, RMSE=75677691.2585, SMAPE=78.3467%\n"
          ]
        },
        {
          "output_type": "stream",
          "name": "stdout",
          "text": [
            " Fold 2: train_size=100 val_size=50\n"
          ]
        },
        {
          "output_type": "stream",
          "name": "stderr",
          "text": [
            "2025-05-31 23:47:49,948 - PricePredictionExperiment_XGBRegressor - INFO - Before reverse - price mean: 0.48160117863933743\n",
            "INFO:PricePredictionExperiment_XGBRegressor:Before reverse - price mean: 0.48160117863933743\n",
            "2025-05-31 23:47:49,951 - PricePredictionExperiment_XGBRegressor - INFO - After reverse - price mean: 70292049.59999996\n",
            "INFO:PricePredictionExperiment_XGBRegressor:After reverse - price mean: 70292049.59999996\n",
            "2025-05-31 23:47:50,019 - PricePredictionExperiment_XGBRegressor - INFO - Fold 2 - Log scale: R²=0.4510, RMSE=0.1652, SMAPE=30.2989%\n",
            "Original scale: R²=0.1423, RMSE=140396200.8750, SMAPE=84.9827%\n",
            "INFO:PricePredictionExperiment_XGBRegressor:Fold 2 - Log scale: R²=0.4510, RMSE=0.1652, SMAPE=30.2989%\n",
            "Original scale: R²=0.1423, RMSE=140396200.8750, SMAPE=84.9827%\n",
            "\u001b[32m[I 2025-05-31 23:47:50,022]\u001b[0m Trial 0 finished with value: 0.44491759936438585 and parameters: {'model__n_estimators': 687, 'model__max_depth': 6, 'model__learning_rate': 0.03793972738151323, 'model__subsample': 0.9197316968394074, 'tfidf__max_features': 331, 'tfidf__ngram_range_max': 1, 'tfidf__min_df': 1, 'tfidf__max_df': 0.9598528437324805}. Best is trial 0 with value: 0.44491759936438585.\u001b[0m\n",
            "2025-05-31 23:47:50,023 - PricePredictionExperiment_XGBRegressor - INFO - Elapsed time for optuna: 4.34 seconds\n",
            "INFO:PricePredictionExperiment_XGBRegressor:Elapsed time for optuna: 4.34 seconds\n",
            "2025-05-31 23:47:50,039 - PricePredictionExperiment_XGBRegressor - INFO - Timing started for: final_cv\n",
            "INFO:PricePredictionExperiment_XGBRegressor:Timing started for: final_cv\n"
          ]
        },
        {
          "output_type": "stream",
          "name": "stdout",
          "text": [
            "Final CV stratified bins counts: [48 47 48 46 47]\n",
            "Running final 5-fold CV on 236 samples\n",
            " FinalCV Fold 0: train_size=188 val_size=48\n"
          ]
        },
        {
          "output_type": "stream",
          "name": "stderr",
          "text": [
            "2025-05-31 23:47:55,854 - PricePredictionExperiment_XGBRegressor - INFO - Before reverse - price mean: 0.4550678466274749\n",
            "INFO:PricePredictionExperiment_XGBRegressor:Before reverse - price mean: 0.4550678466274749\n",
            "2025-05-31 23:47:55,864 - PricePredictionExperiment_XGBRegressor - INFO - After reverse - price mean: 35495257.499999985\n",
            "INFO:PricePredictionExperiment_XGBRegressor:After reverse - price mean: 35495257.499999985\n",
            "2025-05-31 23:47:55,871 - PricePredictionExperiment_XGBRegressor - INFO -  Fold 1/5 | Log R2=0.5933 | Orig R2=0.7777\n",
            "INFO:PricePredictionExperiment_XGBRegressor: Fold 1/5 | Log R2=0.5933 | Orig R2=0.7777\n"
          ]
        },
        {
          "output_type": "stream",
          "name": "stdout",
          "text": [
            " FinalCV Fold 1: train_size=189 val_size=47\n"
          ]
        },
        {
          "output_type": "stream",
          "name": "stderr",
          "text": [
            "2025-05-31 23:47:59,739 - PricePredictionExperiment_XGBRegressor - INFO - Before reverse - price mean: 0.47295177607112204\n",
            "INFO:PricePredictionExperiment_XGBRegressor:Before reverse - price mean: 0.47295177607112204\n",
            "2025-05-31 23:47:59,742 - PricePredictionExperiment_XGBRegressor - INFO - After reverse - price mean: 50921123.40425533\n",
            "INFO:PricePredictionExperiment_XGBRegressor:After reverse - price mean: 50921123.40425533\n",
            "2025-05-31 23:47:59,750 - PricePredictionExperiment_XGBRegressor - INFO -  Fold 2/5 | Log R2=0.6697 | Orig R2=0.1034\n",
            "INFO:PricePredictionExperiment_XGBRegressor: Fold 2/5 | Log R2=0.6697 | Orig R2=0.1034\n"
          ]
        },
        {
          "output_type": "stream",
          "name": "stdout",
          "text": [
            " FinalCV Fold 2: train_size=189 val_size=47\n"
          ]
        },
        {
          "output_type": "stream",
          "name": "stderr",
          "text": [
            "2025-05-31 23:48:03,860 - PricePredictionExperiment_XGBRegressor - INFO - Before reverse - price mean: 0.46109879287422134\n",
            "INFO:PricePredictionExperiment_XGBRegressor:Before reverse - price mean: 0.46109879287422134\n",
            "2025-05-31 23:48:03,869 - PricePredictionExperiment_XGBRegressor - INFO - After reverse - price mean: 50421914.893617004\n",
            "INFO:PricePredictionExperiment_XGBRegressor:After reverse - price mean: 50421914.893617004\n",
            "2025-05-31 23:48:03,876 - PricePredictionExperiment_XGBRegressor - INFO -  Fold 3/5 | Log R2=0.7411 | Orig R2=0.8477\n",
            "INFO:PricePredictionExperiment_XGBRegressor: Fold 3/5 | Log R2=0.7411 | Orig R2=0.8477\n"
          ]
        },
        {
          "output_type": "stream",
          "name": "stdout",
          "text": [
            " FinalCV Fold 3: train_size=189 val_size=47\n"
          ]
        },
        {
          "output_type": "stream",
          "name": "stderr",
          "text": [
            "2025-05-31 23:48:09,316 - PricePredictionExperiment_XGBRegressor - INFO - Before reverse - price mean: 0.4580297314108511\n",
            "INFO:PricePredictionExperiment_XGBRegressor:Before reverse - price mean: 0.4580297314108511\n",
            "2025-05-31 23:48:09,326 - PricePredictionExperiment_XGBRegressor - INFO - After reverse - price mean: 63415391.4893617\n",
            "INFO:PricePredictionExperiment_XGBRegressor:After reverse - price mean: 63415391.4893617\n",
            "2025-05-31 23:48:09,335 - PricePredictionExperiment_XGBRegressor - INFO -  Fold 4/5 | Log R2=0.6781 | Orig R2=0.5441\n",
            "INFO:PricePredictionExperiment_XGBRegressor: Fold 4/5 | Log R2=0.6781 | Orig R2=0.5441\n"
          ]
        },
        {
          "output_type": "stream",
          "name": "stdout",
          "text": [
            " FinalCV Fold 4: train_size=189 val_size=47\n"
          ]
        },
        {
          "output_type": "stream",
          "name": "stderr",
          "text": [
            "2025-05-31 23:48:13,209 - PricePredictionExperiment_XGBRegressor - INFO - Before reverse - price mean: 0.4727362701111664\n",
            "INFO:PricePredictionExperiment_XGBRegressor:Before reverse - price mean: 0.4727362701111664\n",
            "2025-05-31 23:48:13,212 - PricePredictionExperiment_XGBRegressor - INFO - After reverse - price mean: 67053424.65957447\n",
            "INFO:PricePredictionExperiment_XGBRegressor:After reverse - price mean: 67053424.65957447\n",
            "2025-05-31 23:48:13,223 - PricePredictionExperiment_XGBRegressor - INFO -  Fold 5/5 | Log R2=0.5656 | Orig R2=0.1459\n",
            "INFO:PricePredictionExperiment_XGBRegressor: Fold 5/5 | Log R2=0.5656 | Orig R2=0.1459\n",
            "2025-05-31 23:48:18,818 - PricePredictionExperiment_XGBRegressor - INFO - Before reverse - price mean: 0.46124991486493366\n",
            "INFO:PricePredictionExperiment_XGBRegressor:Before reverse - price mean: 0.46124991486493366\n",
            "2025-05-31 23:48:18,822 - PricePredictionExperiment_XGBRegressor - INFO - After reverse - price mean: 53129052.52542374\n",
            "INFO:PricePredictionExperiment_XGBRegressor:After reverse - price mean: 53129052.52542374\n",
            "2025-05-31 23:48:19,040 - PricePredictionExperiment_XGBRegressor - INFO - Evaluation artifacts saved to /content/results/metrics\n",
            "INFO:PricePredictionExperiment_XGBRegressor:Evaluation artifacts saved to /content/results/metrics\n",
            "2025-05-31 23:48:19,050 - PricePredictionExperiment_XGBRegressor - INFO - Elapsed time for final_cv: 29.01 seconds\n",
            "INFO:PricePredictionExperiment_XGBRegressor:Elapsed time for final_cv: 29.01 seconds\n",
            "2025-05-31 23:48:19,572 - PricePredictionExperiment_XGBRegressor - INFO - Timing started for: final_model_teaching\n",
            "INFO:PricePredictionExperiment_XGBRegressor:Timing started for: final_model_teaching\n"
          ]
        },
        {
          "output_type": "stream",
          "name": "stdout",
          "text": [
            "['landCategory', 'wallMaterial', 'bathroom', 'renovation', 'electricity', 'heating', 'waterSupply', 'gas', 'sewerage', 'media', 'parking', 'transportAccessibility', 'saleMethod', 'seller', 'category', 'infrastructure', 'terrace', 'recreation', 'region', 'nearestPPLA', 'nearestPPLA2']\n"
          ]
        },
        {
          "output_type": "stream",
          "name": "stderr",
          "text": [
            "2025-05-31 23:48:24,136 - PricePredictionExperiment_XGBRegressor - INFO - [before_final_fit] CPU: 3.4%, RAM: 3.51GB/12.67GB, GPU: 0%, GPU RAM: 1.06/15.00GB\n",
            "INFO:PricePredictionExperiment_XGBRegressor:[before_final_fit] CPU: 3.4%, RAM: 3.51GB/12.67GB, GPU: 0%, GPU RAM: 1.06/15.00GB\n",
            "2025-05-31 23:48:31,244 - PricePredictionExperiment_XGBRegressor - INFO - [after_final_fit] CPU: 0.0%, RAM: 3.53GB/12.67GB, GPU: 0%, GPU RAM: 1.06/15.00GB\n",
            "INFO:PricePredictionExperiment_XGBRegressor:[after_final_fit] CPU: 0.0%, RAM: 3.53GB/12.67GB, GPU: 0%, GPU RAM: 1.06/15.00GB\n"
          ]
        },
        {
          "output_type": "stream",
          "name": "stdout",
          "text": [
            "[EXTRACT] Найден transformer под именем 'text': <class 'sklearn.pipeline.Pipeline'>\n",
            "[SAVE] No tokenizer to save.\n",
            "[SAVE] All available components saved to /content/results/price_prediction_XGBRegressor_text-only_w2v_pca_True_gate_False_mtf_False_ (logged to MLflow: True)\n"
          ]
        },
        {
          "output_type": "stream",
          "name": "stderr",
          "text": [
            "Registered model 'XGBRegressor+sample_300+tfidf+pca_True+gate_False+textfeat_False' already exists. Creating a new version of this model...\n",
            "Created version '6' of model 'XGBRegressor+sample_300+tfidf+pca_True+gate_False+textfeat_False'.\n",
            "2025-05-31 23:48:31,883 - PricePredictionExperiment_XGBRegressor - INFO - Model registered as 'XGBRegressor+sample_300+tfidf+pca_True+gate_False+textfeat_False', version 6\n",
            "INFO:PricePredictionExperiment_XGBRegressor:Model registered as 'XGBRegressor+sample_300+tfidf+pca_True+gate_False+textfeat_False', version 6\n",
            "2025-05-31 23:48:31,948 - PricePredictionExperiment_XGBRegressor - INFO - Full model saved to /content/results/price_prediction_XGBRegressor_text-only_w2v_pca_True_gate_False_mtf_False_ and logged to MLflow\n",
            "INFO:PricePredictionExperiment_XGBRegressor:Full model saved to /content/results/price_prediction_XGBRegressor_text-only_w2v_pca_True_gate_False_mtf_False_ and logged to MLflow\n",
            "2025-05-31 23:48:31,955 - PricePredictionExperiment_XGBRegressor - INFO - Elapsed time for final_model_teaching: 12.38 seconds\n",
            "INFO:PricePredictionExperiment_XGBRegressor:Elapsed time for final_model_teaching: 12.38 seconds\n",
            "2025-05-31 23:48:31,972 - PricePredictionExperiment_XGBRegressor - INFO - Elapsed time for total: 46.53 seconds\n",
            "INFO:PricePredictionExperiment_XGBRegressor:Elapsed time for total: 46.53 seconds\n"
          ]
        },
        {
          "output_type": "display_data",
          "data": {
            "text/plain": [
              "Empty DataFrame\n",
              "Columns: []\n",
              "Index: []"
            ],
            "text/html": [
              "\n",
              "  <div id=\"df-d8308f62-1ba0-4f80-9cef-7d13dea4959f\" class=\"colab-df-container\">\n",
              "    <div>\n",
              "<style scoped>\n",
              "    .dataframe tbody tr th:only-of-type {\n",
              "        vertical-align: middle;\n",
              "    }\n",
              "\n",
              "    .dataframe tbody tr th {\n",
              "        vertical-align: top;\n",
              "    }\n",
              "\n",
              "    .dataframe thead th {\n",
              "        text-align: right;\n",
              "    }\n",
              "</style>\n",
              "<table border=\"1\" class=\"dataframe\">\n",
              "  <thead>\n",
              "    <tr style=\"text-align: right;\">\n",
              "      <th></th>\n",
              "    </tr>\n",
              "  </thead>\n",
              "  <tbody>\n",
              "  </tbody>\n",
              "</table>\n",
              "</div>\n",
              "    <div class=\"colab-df-buttons\">\n",
              "\n",
              "  <div class=\"colab-df-container\">\n",
              "    <button class=\"colab-df-convert\" onclick=\"convertToInteractive('df-d8308f62-1ba0-4f80-9cef-7d13dea4959f')\"\n",
              "            title=\"Convert this dataframe to an interactive table.\"\n",
              "            style=\"display:none;\">\n",
              "\n",
              "  <svg xmlns=\"http://www.w3.org/2000/svg\" height=\"24px\" viewBox=\"0 -960 960 960\">\n",
              "    <path d=\"M120-120v-720h720v720H120Zm60-500h600v-160H180v160Zm220 220h160v-160H400v160Zm0 220h160v-160H400v160ZM180-400h160v-160H180v160Zm440 0h160v-160H620v160ZM180-180h160v-160H180v160Zm440 0h160v-160H620v160Z\"/>\n",
              "  </svg>\n",
              "    </button>\n",
              "\n",
              "  <style>\n",
              "    .colab-df-container {\n",
              "      display:flex;\n",
              "      gap: 12px;\n",
              "    }\n",
              "\n",
              "    .colab-df-convert {\n",
              "      background-color: #E8F0FE;\n",
              "      border: none;\n",
              "      border-radius: 50%;\n",
              "      cursor: pointer;\n",
              "      display: none;\n",
              "      fill: #1967D2;\n",
              "      height: 32px;\n",
              "      padding: 0 0 0 0;\n",
              "      width: 32px;\n",
              "    }\n",
              "\n",
              "    .colab-df-convert:hover {\n",
              "      background-color: #E2EBFA;\n",
              "      box-shadow: 0px 1px 2px rgba(60, 64, 67, 0.3), 0px 1px 3px 1px rgba(60, 64, 67, 0.15);\n",
              "      fill: #174EA6;\n",
              "    }\n",
              "\n",
              "    .colab-df-buttons div {\n",
              "      margin-bottom: 4px;\n",
              "    }\n",
              "\n",
              "    [theme=dark] .colab-df-convert {\n",
              "      background-color: #3B4455;\n",
              "      fill: #D2E3FC;\n",
              "    }\n",
              "\n",
              "    [theme=dark] .colab-df-convert:hover {\n",
              "      background-color: #434B5C;\n",
              "      box-shadow: 0px 1px 3px 1px rgba(0, 0, 0, 0.15);\n",
              "      filter: drop-shadow(0px 1px 2px rgba(0, 0, 0, 0.3));\n",
              "      fill: #FFFFFF;\n",
              "    }\n",
              "  </style>\n",
              "\n",
              "    <script>\n",
              "      const buttonEl =\n",
              "        document.querySelector('#df-d8308f62-1ba0-4f80-9cef-7d13dea4959f button.colab-df-convert');\n",
              "      buttonEl.style.display =\n",
              "        google.colab.kernel.accessAllowed ? 'block' : 'none';\n",
              "\n",
              "      async function convertToInteractive(key) {\n",
              "        const element = document.querySelector('#df-d8308f62-1ba0-4f80-9cef-7d13dea4959f');\n",
              "        const dataTable =\n",
              "          await google.colab.kernel.invokeFunction('convertToInteractive',\n",
              "                                                    [key], {});\n",
              "        if (!dataTable) return;\n",
              "\n",
              "        const docLinkHtml = 'Like what you see? Visit the ' +\n",
              "          '<a target=\"_blank\" href=https://colab.research.google.com/notebooks/data_table.ipynb>data table notebook</a>'\n",
              "          + ' to learn more about interactive tables.';\n",
              "        element.innerHTML = '';\n",
              "        dataTable['output_type'] = 'display_data';\n",
              "        await google.colab.output.renderOutput(dataTable, element);\n",
              "        const docLink = document.createElement('div');\n",
              "        docLink.innerHTML = docLinkHtml;\n",
              "        element.appendChild(docLink);\n",
              "      }\n",
              "    </script>\n",
              "  </div>\n",
              "\n",
              "    </div>\n",
              "  </div>\n"
            ],
            "application/vnd.google.colaboratory.intrinsic+json": {
              "type": "dataframe",
              "variable_name": "results_df",
              "summary": "{\n  \"name\": \"results_df\",\n  \"rows\": 0,\n  \"fields\": []\n}"
            }
          },
          "metadata": {}
        },
        {
          "output_type": "stream",
          "name": "stdout",
          "text": [
            "Drive already mounted at /content/drive; to attempt to forcibly remount, call drive.mount(\"/content/drive\", force_remount=True).\n"
          ]
        }
      ]
    },
    {
      "cell_type": "markdown",
      "source": [
        "### RFR experiment initiation"
      ],
      "metadata": {
        "id": "-wleDL6zoENh"
      }
    },
    {
      "cell_type": "code",
      "source": [
        "import logging\n",
        "import pandas as pd\n",
        "import json\n",
        "from pathlib import Path\n",
        "\n",
        "# 3. Создаем временную папку для результатов\n",
        "!mkdir -p /content/results\n",
        "\n",
        "# 4. Основной код эксперимента\n",
        "if __name__ == \"__main__\":\n",
        "    logging.basicConfig(\n",
        "        level=logging.INFO,\n",
        "        format='%(asctime)s - %(name)s - %(levelname)s - %(message)s',\n",
        "        handlers=[\n",
        "            logging.FileHandler('experiment.log'),\n",
        "            logging.StreamHandler()\n",
        "        ]\n",
        "    )\n",
        "    logger = logging.getLogger(__name__)\n",
        "    params = {\n",
        "        'model__bootstrap': [True, False],\n",
        "        'model__max_depth': [10, 20, 30, None],\n",
        "        'model__max_features': ['sqrt', 'log2'],  # Removed 'auto' for newer sklearn\n",
        "        'model__min_samples_leaf': list(range(2, 26, 2)),\n",
        "        'model__min_samples_split': list(range(2, 26, 2)),\n",
        "        'model__n_estimators': [32, 64, 100, 500]\n",
        "    }\n",
        "\n",
        "    combinations = [\n",
        "        ('categorical-only', None, False, False, True, True),\n",
        "        ('categorical-only', None, False, False, False, True),\n",
        "        ('mixed', 'rubert', True, False, False, True),\n",
        "        ('mixed', 'w2v', True, False, False, True),\n",
        "        ('mixed', 'tfidf', True, False, False, True),\n",
        "        ('text-only', 'rubert', True, False, False, True),\n",
        "        ('text-only', 'w2v', True, False, False, True),\n",
        "        ('text-only', 'tfidf', True, False, False, True),\n",
        "    ]\n",
        "\n",
        "    try:\n",
        "        # Полные пути к файлам в репозитории\n",
        "        repo_path = Path('/content/Price-prediction-with-textual-data')\n",
        "\n",
        "        experiment = PricePredictionExperiment(\n",
        "            model_name='RandomForestRegressor',\n",
        "            model_params=params,\n",
        "            experiment_name=\"price_prediction\",\n",
        "            data_path=str(repo_path/'experiments'/'sample_300.csv'), # путь к короткому доку - если нужен полный\n",
        "            results_dir='/content/results',  # временная папка в Colab\n",
        "            random_state=42,\n",
        "            use_hex_features=True,\n",
        "            hex_resolution=10,\n",
        "            verbose=True,\n",
        "            manual_text_params=True,\n",
        "            manual_text_params_path=str(repo_path/'experiments'/'manual_text_features_negative.json'),\n",
        "            profile_json_path=str(repo_path/'experiments'/'uniques_dict.json')\n",
        "        )\n",
        "\n",
        "        # Запуск экспериментов\n",
        "        results = experiment.run_for_combinations(\n",
        "            combinations=combinations,\n",
        "            n_trials=1, # для полного воспроизведения тестов = 50\n",
        "            sample_size=300, # для полного воспроизведения тестов = 65000\n",
        "            subsample=150 # для полного воспроизведения тестов = 20000\n",
        "        )\n",
        "\n",
        "        # Сохранение и отображение результатов\n",
        "        results_df = experiment.create_results_table(list(results.keys()))\n",
        "        display(results_df)\n",
        "\n",
        "        # Сохраняем результаты в CSV\n",
        "        results_df.to_csv('/content/results/experiment_results.csv', index=False)\n",
        "        logger.info(\"Эксперимент успешно завершен!\")\n",
        "\n",
        "        # Копируем результаты в Google Drive (если нужно)\n",
        "        from google.colab import drive\n",
        "        drive.mount('/content/drive')\n",
        "        !cp -r /content/results '/content/drive/MyDrive/thesis/DROP_SAMPLE/RFR'\n",
        "        logger.info(\"Результаты сохранены в Google Drive\")\n",
        "\n",
        "    except Exception as e:\n",
        "        logger.error(f\"Fatal error in main execution: {str(e)}\", exc_info=True)\n",
        "        raise"
      ],
      "metadata": {
        "colab": {
          "base_uri": "https://localhost:8080/",
          "height": 1000
        },
        "id": "uGz1DetUsKIX",
        "outputId": "856850b4-9e81-43d7-b039-10bcb93eadfb"
      },
      "execution_count": null,
      "outputs": [
        {
          "output_type": "stream",
          "name": "stderr",
          "text": [
            "2025-05-31 23:48:53,669 - PricePredictionExperiment_RandomForestRegressor - INFO - → Запуск конфигурации: price_prediction_RandomForestRegressor_None_none_pca_None_gate_None_mtf_True_\n",
            "INFO:PricePredictionExperiment_RandomForestRegressor:→ Запуск конфигурации: price_prediction_RandomForestRegressor_None_none_pca_None_gate_None_mtf_True_\n",
            "2025-05-31 23:48:53,671 - PricePredictionExperiment_RandomForestRegressor - INFO - Loading and preprocessing data...\n",
            "INFO:PricePredictionExperiment_RandomForestRegressor:Loading and preprocessing data...\n",
            "2025-05-31 23:48:53,694 - PricePredictionExperiment_RandomForestRegressor - INFO - Applying sample_size: 300\n",
            "INFO:PricePredictionExperiment_RandomForestRegressor:Applying sample_size: 300\n",
            "2025-05-31 23:48:53,701 - PricePredictionExperiment_RandomForestRegressor - INFO - Данные прошли строгую валидацию профиля.\n",
            "INFO:PricePredictionExperiment_RandomForestRegressor:Данные прошли строгую валидацию профиля.\n"
          ]
        },
        {
          "output_type": "stream",
          "name": "stdout",
          "text": [
            "['landCategory', 'wallMaterial', 'bathroom', 'renovation', 'electricity', 'heating', 'waterSupply', 'gas', 'sewerage', 'media', 'parking', 'transportAccessibility', 'saleMethod', 'seller', 'category', 'infrastructure', 'terrace', 'recreation', 'region', 'nearestPPLA', 'nearestPPLA2']\n"
          ]
        },
        {
          "output_type": "stream",
          "name": "stderr",
          "text": [
            "\u001b[32m[I 2025-05-31 23:49:06,427]\u001b[0m A new study created in memory with name: no-name-f7ff68a3-6cdf-4ccf-9572-4a91b88c39c1\u001b[0m\n",
            "2025-05-31 23:49:06,648 - PricePredictionExperiment_RandomForestRegressor - INFO - Timing started for: total\n",
            "INFO:PricePredictionExperiment_RandomForestRegressor:Timing started for: total\n",
            "2025-05-31 23:49:06,661 - PricePredictionExperiment_RandomForestRegressor - INFO - ENV: python_version: 3.11.12 (main, Apr  9 2025, 08:55:54) [GCC 11.4.0]\n",
            "INFO:PricePredictionExperiment_RandomForestRegressor:ENV: python_version: 3.11.12 (main, Apr  9 2025, 08:55:54) [GCC 11.4.0]\n",
            "2025-05-31 23:49:06,673 - PricePredictionExperiment_RandomForestRegressor - INFO - ENV: platform: Linux-6.1.123+-x86_64-with-glibc2.35\n",
            "INFO:PricePredictionExperiment_RandomForestRegressor:ENV: platform: Linux-6.1.123+-x86_64-with-glibc2.35\n",
            "2025-05-31 23:49:06,684 - PricePredictionExperiment_RandomForestRegressor - INFO - ENV: sklearn_version: 1.6.1\n",
            "INFO:PricePredictionExperiment_RandomForestRegressor:ENV: sklearn_version: 1.6.1\n",
            "2025-05-31 23:49:06,696 - PricePredictionExperiment_RandomForestRegressor - INFO - ENV: pandas_version: 2.2.2\n",
            "INFO:PricePredictionExperiment_RandomForestRegressor:ENV: pandas_version: 2.2.2\n",
            "2025-05-31 23:49:06,707 - PricePredictionExperiment_RandomForestRegressor - INFO - ENV: numpy_version: 1.26.4\n",
            "INFO:PricePredictionExperiment_RandomForestRegressor:ENV: numpy_version: 1.26.4\n",
            "2025-05-31 23:49:06,719 - PricePredictionExperiment_RandomForestRegressor - INFO - ENV: torch_version: 2.6.0+cu124\n",
            "INFO:PricePredictionExperiment_RandomForestRegressor:ENV: torch_version: 2.6.0+cu124\n",
            "2025-05-31 23:49:06,731 - PricePredictionExperiment_RandomForestRegressor - INFO - ENV: cuda_available: True\n",
            "INFO:PricePredictionExperiment_RandomForestRegressor:ENV: cuda_available: True\n",
            "2025-05-31 23:49:06,742 - PricePredictionExperiment_RandomForestRegressor - INFO - ENV: cuda_device: Tesla T4\n",
            "INFO:PricePredictionExperiment_RandomForestRegressor:ENV: cuda_device: Tesla T4\n",
            "2025-05-31 23:49:06,769 - PricePredictionExperiment_RandomForestRegressor - INFO - ENV: run_time: 2025-05-31 23:49:06\n",
            "INFO:PricePredictionExperiment_RandomForestRegressor:ENV: run_time: 2025-05-31 23:49:06\n",
            "2025-05-31 23:49:06,780 - PricePredictionExperiment_RandomForestRegressor - INFO - ENV: run_hostname: bd3d025abf46\n",
            "INFO:PricePredictionExperiment_RandomForestRegressor:ENV: run_hostname: bd3d025abf46\n",
            "2025-05-31 23:49:06,857 - PricePredictionExperiment_RandomForestRegressor - INFO - Timing started for: optuna\n",
            "INFO:PricePredictionExperiment_RandomForestRegressor:Timing started for: optuna\n",
            "2025-05-31 23:49:07,096 - PricePredictionExperiment_RandomForestRegressor - INFO - Before reverse - price mean: 0.46163744810703816\n",
            "INFO:PricePredictionExperiment_RandomForestRegressor:Before reverse - price mean: 0.46163744810703816\n",
            "2025-05-31 23:49:07,100 - PricePredictionExperiment_RandomForestRegressor - INFO - After reverse - price mean: 52492874.37999999\n",
            "INFO:PricePredictionExperiment_RandomForestRegressor:After reverse - price mean: 52492874.37999999\n",
            "2025-05-31 23:49:07,150 - PricePredictionExperiment_RandomForestRegressor - INFO - Fold 0 - Log scale: R²=0.5859, RMSE=0.1407, SMAPE=27.8119%\n",
            "Original scale: R²=0.0610, RMSE=119224901.6954, SMAPE=68.0816%\n",
            "INFO:PricePredictionExperiment_RandomForestRegressor:Fold 0 - Log scale: R²=0.5859, RMSE=0.1407, SMAPE=27.8119%\n",
            "Original scale: R²=0.0610, RMSE=119224901.6954, SMAPE=68.0816%\n",
            "2025-05-31 23:49:07,191 - PricePredictionExperiment_RandomForestRegressor - INFO - Before reverse - price mean: 0.44923494890588567\n",
            "INFO:PricePredictionExperiment_RandomForestRegressor:Before reverse - price mean: 0.44923494890588567\n",
            "2025-05-31 23:49:07,195 - PricePredictionExperiment_RandomForestRegressor - INFO - After reverse - price mean: 30649667.2\n",
            "INFO:PricePredictionExperiment_RandomForestRegressor:After reverse - price mean: 30649667.2\n"
          ]
        },
        {
          "output_type": "stream",
          "name": "stdout",
          "text": [
            "CV stratified bins counts: [51 49 50]\n",
            "Running 3-fold CV on 150 samples\n",
            " Fold 0: train_size=100 val_size=50\n",
            " Fold 1: train_size=100 val_size=50\n"
          ]
        },
        {
          "output_type": "stream",
          "name": "stderr",
          "text": [
            "2025-05-31 23:49:07,262 - PricePredictionExperiment_RandomForestRegressor - INFO - Fold 1 - Log scale: R²=0.6052, RMSE=0.1173, SMAPE=23.2217%\n",
            "Original scale: R²=0.2312, RMSE=51034102.0636, SMAPE=60.9114%\n",
            "INFO:PricePredictionExperiment_RandomForestRegressor:Fold 1 - Log scale: R²=0.6052, RMSE=0.1173, SMAPE=23.2217%\n",
            "Original scale: R²=0.2312, RMSE=51034102.0636, SMAPE=60.9114%\n",
            "2025-05-31 23:49:07,303 - PricePredictionExperiment_RandomForestRegressor - INFO - Before reverse - price mean: 0.48160117863933743\n",
            "INFO:PricePredictionExperiment_RandomForestRegressor:Before reverse - price mean: 0.48160117863933743\n",
            "2025-05-31 23:49:07,307 - PricePredictionExperiment_RandomForestRegressor - INFO - After reverse - price mean: 70292049.59999996\n",
            "INFO:PricePredictionExperiment_RandomForestRegressor:After reverse - price mean: 70292049.59999996\n",
            "2025-05-31 23:49:07,357 - PricePredictionExperiment_RandomForestRegressor - INFO - Fold 2 - Log scale: R²=0.5296, RMSE=0.1529, SMAPE=24.0376%\n",
            "Original scale: R²=-0.0550, RMSE=155712211.4285, SMAPE=70.2602%\n",
            "INFO:PricePredictionExperiment_RandomForestRegressor:Fold 2 - Log scale: R²=0.5296, RMSE=0.1529, SMAPE=24.0376%\n",
            "Original scale: R²=-0.0550, RMSE=155712211.4285, SMAPE=70.2602%\n",
            "\u001b[32m[I 2025-05-31 23:49:07,359]\u001b[0m Trial 0 finished with value: 0.5735707780945758 and parameters: {'model__bootstrap': False, 'model__max_depth': 10, 'model__max_features': 'log2', 'model__min_samples_leaf': 15, 'model__min_samples_split': 18, 'model__n_estimators': 41}. Best is trial 0 with value: 0.5735707780945758.\u001b[0m\n",
            "2025-05-31 23:49:07,361 - PricePredictionExperiment_RandomForestRegressor - INFO - Elapsed time for optuna: 0.50 seconds\n",
            "INFO:PricePredictionExperiment_RandomForestRegressor:Elapsed time for optuna: 0.50 seconds\n",
            "2025-05-31 23:49:07,373 - PricePredictionExperiment_RandomForestRegressor - INFO - Timing started for: final_cv\n",
            "INFO:PricePredictionExperiment_RandomForestRegressor:Timing started for: final_cv\n"
          ]
        },
        {
          "output_type": "stream",
          "name": "stdout",
          "text": [
            " Fold 2: train_size=100 val_size=50\n"
          ]
        },
        {
          "output_type": "stream",
          "name": "stderr",
          "text": [
            "2025-05-31 23:49:07,513 - PricePredictionExperiment_RandomForestRegressor - INFO - Before reverse - price mean: 0.4550678466274749\n",
            "INFO:PricePredictionExperiment_RandomForestRegressor:Before reverse - price mean: 0.4550678466274749\n",
            "2025-05-31 23:49:07,516 - PricePredictionExperiment_RandomForestRegressor - INFO - After reverse - price mean: 35495257.499999985\n",
            "INFO:PricePredictionExperiment_RandomForestRegressor:After reverse - price mean: 35495257.499999985\n",
            "2025-05-31 23:49:07,521 - PricePredictionExperiment_RandomForestRegressor - INFO -  Fold 1/5 | Log R2=0.7803 | Orig R2=0.2792\n",
            "INFO:PricePredictionExperiment_RandomForestRegressor: Fold 1/5 | Log R2=0.7803 | Orig R2=0.2792\n",
            "2025-05-31 23:49:07,561 - PricePredictionExperiment_RandomForestRegressor - INFO - Before reverse - price mean: 0.47295177607112204\n",
            "INFO:PricePredictionExperiment_RandomForestRegressor:Before reverse - price mean: 0.47295177607112204\n",
            "2025-05-31 23:49:07,564 - PricePredictionExperiment_RandomForestRegressor - INFO - After reverse - price mean: 50921123.40425533\n",
            "INFO:PricePredictionExperiment_RandomForestRegressor:After reverse - price mean: 50921123.40425533\n",
            "2025-05-31 23:49:07,570 - PricePredictionExperiment_RandomForestRegressor - INFO -  Fold 2/5 | Log R2=0.7897 | Orig R2=0.3017\n",
            "INFO:PricePredictionExperiment_RandomForestRegressor: Fold 2/5 | Log R2=0.7897 | Orig R2=0.3017\n",
            "2025-05-31 23:49:07,609 - PricePredictionExperiment_RandomForestRegressor - INFO - Before reverse - price mean: 0.46109879287422134\n",
            "INFO:PricePredictionExperiment_RandomForestRegressor:Before reverse - price mean: 0.46109879287422134\n",
            "2025-05-31 23:49:07,614 - PricePredictionExperiment_RandomForestRegressor - INFO - After reverse - price mean: 50421914.893617004\n",
            "INFO:PricePredictionExperiment_RandomForestRegressor:After reverse - price mean: 50421914.893617004\n",
            "2025-05-31 23:49:07,619 - PricePredictionExperiment_RandomForestRegressor - INFO -  Fold 3/5 | Log R2=0.6658 | Orig R2=0.1244\n",
            "INFO:PricePredictionExperiment_RandomForestRegressor: Fold 3/5 | Log R2=0.6658 | Orig R2=0.1244\n",
            "2025-05-31 23:49:07,658 - PricePredictionExperiment_RandomForestRegressor - INFO - Before reverse - price mean: 0.4580297314108511\n",
            "INFO:PricePredictionExperiment_RandomForestRegressor:Before reverse - price mean: 0.4580297314108511\n",
            "2025-05-31 23:49:07,662 - PricePredictionExperiment_RandomForestRegressor - INFO - After reverse - price mean: 63415391.4893617\n",
            "INFO:PricePredictionExperiment_RandomForestRegressor:After reverse - price mean: 63415391.4893617\n",
            "2025-05-31 23:49:07,666 - PricePredictionExperiment_RandomForestRegressor - INFO -  Fold 4/5 | Log R2=0.7147 | Orig R2=0.1038\n",
            "INFO:PricePredictionExperiment_RandomForestRegressor: Fold 4/5 | Log R2=0.7147 | Orig R2=0.1038\n"
          ]
        },
        {
          "output_type": "stream",
          "name": "stdout",
          "text": [
            "Final CV stratified bins counts: [48 47 48 46 47]\n",
            "Running final 5-fold CV on 236 samples\n",
            " FinalCV Fold 0: train_size=188 val_size=48\n",
            " FinalCV Fold 1: train_size=189 val_size=47\n",
            " FinalCV Fold 2: train_size=189 val_size=47\n",
            " FinalCV Fold 3: train_size=189 val_size=47\n",
            " FinalCV Fold 4: train_size=189 val_size=47\n"
          ]
        },
        {
          "output_type": "stream",
          "name": "stderr",
          "text": [
            "2025-05-31 23:49:07,709 - PricePredictionExperiment_RandomForestRegressor - INFO - Before reverse - price mean: 0.4727362701111664\n",
            "INFO:PricePredictionExperiment_RandomForestRegressor:Before reverse - price mean: 0.4727362701111664\n",
            "2025-05-31 23:49:07,712 - PricePredictionExperiment_RandomForestRegressor - INFO - After reverse - price mean: 67053424.65957447\n",
            "INFO:PricePredictionExperiment_RandomForestRegressor:After reverse - price mean: 67053424.65957447\n",
            "2025-05-31 23:49:07,717 - PricePredictionExperiment_RandomForestRegressor - INFO -  Fold 5/5 | Log R2=0.7671 | Orig R2=0.1343\n",
            "INFO:PricePredictionExperiment_RandomForestRegressor: Fold 5/5 | Log R2=0.7671 | Orig R2=0.1343\n",
            "2025-05-31 23:49:07,760 - PricePredictionExperiment_RandomForestRegressor - INFO - Before reverse - price mean: 0.46124991486493366\n",
            "INFO:PricePredictionExperiment_RandomForestRegressor:Before reverse - price mean: 0.46124991486493366\n",
            "2025-05-31 23:49:07,764 - PricePredictionExperiment_RandomForestRegressor - INFO - After reverse - price mean: 53129052.52542374\n",
            "INFO:PricePredictionExperiment_RandomForestRegressor:After reverse - price mean: 53129052.52542374\n",
            "2025-05-31 23:49:07,820 - PricePredictionExperiment_RandomForestRegressor - INFO - Evaluation artifacts saved to /content/results/metrics\n",
            "INFO:PricePredictionExperiment_RandomForestRegressor:Evaluation artifacts saved to /content/results/metrics\n",
            "2025-05-31 23:49:07,827 - PricePredictionExperiment_RandomForestRegressor - INFO - Elapsed time for final_cv: 0.45 seconds\n",
            "INFO:PricePredictionExperiment_RandomForestRegressor:Elapsed time for final_cv: 0.45 seconds\n",
            "2025-05-31 23:49:08,338 - PricePredictionExperiment_RandomForestRegressor - INFO - Timing started for: final_model_teaching\n",
            "INFO:PricePredictionExperiment_RandomForestRegressor:Timing started for: final_model_teaching\n"
          ]
        },
        {
          "output_type": "stream",
          "name": "stdout",
          "text": [
            "['landCategory', 'wallMaterial', 'bathroom', 'renovation', 'electricity', 'heating', 'waterSupply', 'gas', 'sewerage', 'media', 'parking', 'transportAccessibility', 'saleMethod', 'seller', 'category', 'infrastructure', 'terrace', 'recreation', 'region', 'nearestPPLA', 'nearestPPLA2']\n"
          ]
        },
        {
          "output_type": "stream",
          "name": "stderr",
          "text": [
            "2025-05-31 23:49:13,773 - PricePredictionExperiment_RandomForestRegressor - INFO - [before_final_fit] CPU: 5.1%, RAM: 3.54GB/12.67GB, GPU: 0%, GPU RAM: 1.06/15.00GB\n",
            "INFO:PricePredictionExperiment_RandomForestRegressor:[before_final_fit] CPU: 5.1%, RAM: 3.54GB/12.67GB, GPU: 0%, GPU RAM: 1.06/15.00GB\n",
            "2025-05-31 23:49:14,113 - PricePredictionExperiment_RandomForestRegressor - INFO - [after_final_fit] CPU: 14.8%, RAM: 3.54GB/12.67GB, GPU: 0%, GPU RAM: 1.06/15.00GB\n",
            "INFO:PricePredictionExperiment_RandomForestRegressor:[after_final_fit] CPU: 14.8%, RAM: 3.54GB/12.67GB, GPU: 0%, GPU RAM: 1.06/15.00GB\n"
          ]
        },
        {
          "output_type": "stream",
          "name": "stdout",
          "text": [
            "[EXTRACT] В ColumnTransformer нет шага 'text'\n",
            "[SAVE] No transformer to save.\n",
            "[SAVE] No tokenizer to save.\n",
            "[SAVE] All available components saved to /content/results/price_prediction_RandomForestRegressor_None_none_pca_None_gate_None_mtf_True_ (logged to MLflow: True)\n"
          ]
        },
        {
          "output_type": "stream",
          "name": "stderr",
          "text": [
            "Successfully registered model 'RandomForestRegressor+sample_300+None+pca_False+gate_False+textfeat_True'.\n",
            "Created version '1' of model 'RandomForestRegressor+sample_300+None+pca_False+gate_False+textfeat_True'.\n",
            "2025-05-31 23:49:14,625 - PricePredictionExperiment_RandomForestRegressor - INFO - Model registered as 'RandomForestRegressor+sample_300+None+pca_False+gate_False+textfeat_True', version 1\n",
            "INFO:PricePredictionExperiment_RandomForestRegressor:Model registered as 'RandomForestRegressor+sample_300+None+pca_False+gate_False+textfeat_True', version 1\n",
            "2025-05-31 23:49:14,675 - PricePredictionExperiment_RandomForestRegressor - INFO - Full model saved to /content/results/price_prediction_RandomForestRegressor_None_none_pca_None_gate_None_mtf_True_ and logged to MLflow\n",
            "INFO:PricePredictionExperiment_RandomForestRegressor:Full model saved to /content/results/price_prediction_RandomForestRegressor_None_none_pca_None_gate_None_mtf_True_ and logged to MLflow\n",
            "2025-05-31 23:49:14,677 - PricePredictionExperiment_RandomForestRegressor - INFO - Elapsed time for final_model_teaching: 6.34 seconds\n",
            "INFO:PricePredictionExperiment_RandomForestRegressor:Elapsed time for final_model_teaching: 6.34 seconds\n",
            "2025-05-31 23:49:14,689 - PricePredictionExperiment_RandomForestRegressor - INFO - Elapsed time for total: 8.04 seconds\n",
            "INFO:PricePredictionExperiment_RandomForestRegressor:Elapsed time for total: 8.04 seconds\n",
            "2025-05-31 23:49:14,711 - PricePredictionExperiment_RandomForestRegressor - INFO - → Запуск конфигурации: price_prediction_RandomForestRegressor_categorical-only_none_pca_False_gate_False_mtf_True_\n",
            "INFO:PricePredictionExperiment_RandomForestRegressor:→ Запуск конфигурации: price_prediction_RandomForestRegressor_categorical-only_none_pca_False_gate_False_mtf_True_\n",
            "2025-05-31 23:49:14,713 - PricePredictionExperiment_RandomForestRegressor - INFO - Loading and preprocessing data...\n",
            "INFO:PricePredictionExperiment_RandomForestRegressor:Loading and preprocessing data...\n",
            "2025-05-31 23:49:14,738 - PricePredictionExperiment_RandomForestRegressor - INFO - Applying sample_size: 300\n",
            "INFO:PricePredictionExperiment_RandomForestRegressor:Applying sample_size: 300\n",
            "2025-05-31 23:49:14,748 - PricePredictionExperiment_RandomForestRegressor - INFO - Данные прошли строгую валидацию профиля.\n",
            "INFO:PricePredictionExperiment_RandomForestRegressor:Данные прошли строгую валидацию профиля.\n"
          ]
        },
        {
          "output_type": "stream",
          "name": "stdout",
          "text": [
            "['landCategory', 'wallMaterial', 'bathroom', 'renovation', 'electricity', 'heating', 'waterSupply', 'gas', 'sewerage', 'media', 'parking', 'transportAccessibility', 'saleMethod', 'seller', 'category', 'infrastructure', 'terrace', 'recreation', 'region', 'nearestPPLA', 'nearestPPLA2']\n"
          ]
        },
        {
          "output_type": "stream",
          "name": "stderr",
          "text": [
            "\u001b[32m[I 2025-05-31 23:49:26,940]\u001b[0m A new study created in memory with name: no-name-d2ed4ab0-1195-4bd7-af44-0bc4c0164211\u001b[0m\n",
            "2025-05-31 23:49:27,174 - PricePredictionExperiment_RandomForestRegressor - INFO - Timing started for: total\n",
            "INFO:PricePredictionExperiment_RandomForestRegressor:Timing started for: total\n",
            "2025-05-31 23:49:27,185 - PricePredictionExperiment_RandomForestRegressor - INFO - ENV: python_version: 3.11.12 (main, Apr  9 2025, 08:55:54) [GCC 11.4.0]\n",
            "INFO:PricePredictionExperiment_RandomForestRegressor:ENV: python_version: 3.11.12 (main, Apr  9 2025, 08:55:54) [GCC 11.4.0]\n",
            "2025-05-31 23:49:27,197 - PricePredictionExperiment_RandomForestRegressor - INFO - ENV: platform: Linux-6.1.123+-x86_64-with-glibc2.35\n",
            "INFO:PricePredictionExperiment_RandomForestRegressor:ENV: platform: Linux-6.1.123+-x86_64-with-glibc2.35\n",
            "2025-05-31 23:49:27,208 - PricePredictionExperiment_RandomForestRegressor - INFO - ENV: sklearn_version: 1.6.1\n",
            "INFO:PricePredictionExperiment_RandomForestRegressor:ENV: sklearn_version: 1.6.1\n",
            "2025-05-31 23:49:27,221 - PricePredictionExperiment_RandomForestRegressor - INFO - ENV: pandas_version: 2.2.2\n",
            "INFO:PricePredictionExperiment_RandomForestRegressor:ENV: pandas_version: 2.2.2\n",
            "2025-05-31 23:49:27,234 - PricePredictionExperiment_RandomForestRegressor - INFO - ENV: numpy_version: 1.26.4\n",
            "INFO:PricePredictionExperiment_RandomForestRegressor:ENV: numpy_version: 1.26.4\n",
            "2025-05-31 23:49:27,245 - PricePredictionExperiment_RandomForestRegressor - INFO - ENV: torch_version: 2.6.0+cu124\n",
            "INFO:PricePredictionExperiment_RandomForestRegressor:ENV: torch_version: 2.6.0+cu124\n",
            "2025-05-31 23:49:27,256 - PricePredictionExperiment_RandomForestRegressor - INFO - ENV: cuda_available: True\n",
            "INFO:PricePredictionExperiment_RandomForestRegressor:ENV: cuda_available: True\n",
            "2025-05-31 23:49:27,267 - PricePredictionExperiment_RandomForestRegressor - INFO - ENV: cuda_device: Tesla T4\n",
            "INFO:PricePredictionExperiment_RandomForestRegressor:ENV: cuda_device: Tesla T4\n",
            "2025-05-31 23:49:27,278 - PricePredictionExperiment_RandomForestRegressor - INFO - ENV: run_time: 2025-05-31 23:49:27\n",
            "INFO:PricePredictionExperiment_RandomForestRegressor:ENV: run_time: 2025-05-31 23:49:27\n",
            "2025-05-31 23:49:27,289 - PricePredictionExperiment_RandomForestRegressor - INFO - ENV: run_hostname: bd3d025abf46\n",
            "INFO:PricePredictionExperiment_RandomForestRegressor:ENV: run_hostname: bd3d025abf46\n",
            "2025-05-31 23:49:27,382 - PricePredictionExperiment_RandomForestRegressor - INFO - Timing started for: optuna\n",
            "INFO:PricePredictionExperiment_RandomForestRegressor:Timing started for: optuna\n",
            "2025-05-31 23:49:27,508 - PricePredictionExperiment_RandomForestRegressor - INFO - Before reverse - price mean: 0.46163744810703816\n",
            "INFO:PricePredictionExperiment_RandomForestRegressor:Before reverse - price mean: 0.46163744810703816\n",
            "2025-05-31 23:49:27,511 - PricePredictionExperiment_RandomForestRegressor - INFO - After reverse - price mean: 52492874.37999999\n",
            "INFO:PricePredictionExperiment_RandomForestRegressor:After reverse - price mean: 52492874.37999999\n",
            "2025-05-31 23:49:27,563 - PricePredictionExperiment_RandomForestRegressor - INFO - Fold 0 - Log scale: R²=0.6637, RMSE=0.1268, SMAPE=25.1959%\n",
            "Original scale: R²=0.0935, RMSE=117143352.3433, SMAPE=60.5472%\n",
            "INFO:PricePredictionExperiment_RandomForestRegressor:Fold 0 - Log scale: R²=0.6637, RMSE=0.1268, SMAPE=25.1959%\n",
            "Original scale: R²=0.0935, RMSE=117143352.3433, SMAPE=60.5472%\n",
            "2025-05-31 23:49:27,600 - PricePredictionExperiment_RandomForestRegressor - INFO - Before reverse - price mean: 0.44923494890588567\n",
            "INFO:PricePredictionExperiment_RandomForestRegressor:Before reverse - price mean: 0.44923494890588567\n",
            "2025-05-31 23:49:27,604 - PricePredictionExperiment_RandomForestRegressor - INFO - After reverse - price mean: 30649667.2\n",
            "INFO:PricePredictionExperiment_RandomForestRegressor:After reverse - price mean: 30649667.2\n",
            "2025-05-31 23:49:27,670 - PricePredictionExperiment_RandomForestRegressor - INFO - Fold 1 - Log scale: R²=0.6160, RMSE=0.1157, SMAPE=23.0477%\n",
            "Original scale: R²=0.2686, RMSE=49777770.2849, SMAPE=59.8090%\n",
            "INFO:PricePredictionExperiment_RandomForestRegressor:Fold 1 - Log scale: R²=0.6160, RMSE=0.1157, SMAPE=23.0477%\n",
            "Original scale: R²=0.2686, RMSE=49777770.2849, SMAPE=59.8090%\n"
          ]
        },
        {
          "output_type": "stream",
          "name": "stdout",
          "text": [
            "CV stratified bins counts: [51 49 50]\n",
            "Running 3-fold CV on 150 samples\n",
            " Fold 0: train_size=100 val_size=50\n",
            " Fold 1: train_size=100 val_size=50\n",
            " Fold 2: train_size=100 val_size=50\n"
          ]
        },
        {
          "output_type": "stream",
          "name": "stderr",
          "text": [
            "2025-05-31 23:49:27,716 - PricePredictionExperiment_RandomForestRegressor - INFO - Before reverse - price mean: 0.48160117863933743\n",
            "INFO:PricePredictionExperiment_RandomForestRegressor:Before reverse - price mean: 0.48160117863933743\n",
            "2025-05-31 23:49:27,720 - PricePredictionExperiment_RandomForestRegressor - INFO - After reverse - price mean: 70292049.59999996\n",
            "INFO:PricePredictionExperiment_RandomForestRegressor:After reverse - price mean: 70292049.59999996\n",
            "2025-05-31 23:49:27,771 - PricePredictionExperiment_RandomForestRegressor - INFO - Fold 2 - Log scale: R²=0.5958, RMSE=0.1418, SMAPE=22.2601%\n",
            "Original scale: R²=-0.0189, RMSE=153020740.3356, SMAPE=65.8258%\n",
            "INFO:PricePredictionExperiment_RandomForestRegressor:Fold 2 - Log scale: R²=0.5958, RMSE=0.1418, SMAPE=22.2601%\n",
            "Original scale: R²=-0.0189, RMSE=153020740.3356, SMAPE=65.8258%\n",
            "\u001b[32m[I 2025-05-31 23:49:27,774]\u001b[0m Trial 0 finished with value: 0.6251798826765448 and parameters: {'model__bootstrap': False, 'model__max_depth': 10, 'model__max_features': 'log2', 'model__min_samples_leaf': 15, 'model__min_samples_split': 18, 'model__n_estimators': 41}. Best is trial 0 with value: 0.6251798826765448.\u001b[0m\n",
            "2025-05-31 23:49:27,775 - PricePredictionExperiment_RandomForestRegressor - INFO - Elapsed time for optuna: 0.39 seconds\n",
            "INFO:PricePredictionExperiment_RandomForestRegressor:Elapsed time for optuna: 0.39 seconds\n",
            "2025-05-31 23:49:27,788 - PricePredictionExperiment_RandomForestRegressor - INFO - Timing started for: final_cv\n",
            "INFO:PricePredictionExperiment_RandomForestRegressor:Timing started for: final_cv\n",
            "2025-05-31 23:49:27,918 - PricePredictionExperiment_RandomForestRegressor - INFO - Before reverse - price mean: 0.4550678466274749\n",
            "INFO:PricePredictionExperiment_RandomForestRegressor:Before reverse - price mean: 0.4550678466274749\n",
            "2025-05-31 23:49:27,922 - PricePredictionExperiment_RandomForestRegressor - INFO - After reverse - price mean: 35495257.499999985\n",
            "INFO:PricePredictionExperiment_RandomForestRegressor:After reverse - price mean: 35495257.499999985\n",
            "2025-05-31 23:49:27,927 - PricePredictionExperiment_RandomForestRegressor - INFO -  Fold 1/5 | Log R2=0.8369 | Orig R2=0.4431\n",
            "INFO:PricePredictionExperiment_RandomForestRegressor: Fold 1/5 | Log R2=0.8369 | Orig R2=0.4431\n",
            "2025-05-31 23:49:27,970 - PricePredictionExperiment_RandomForestRegressor - INFO - Before reverse - price mean: 0.47295177607112204\n",
            "INFO:PricePredictionExperiment_RandomForestRegressor:Before reverse - price mean: 0.47295177607112204\n",
            "2025-05-31 23:49:27,974 - PricePredictionExperiment_RandomForestRegressor - INFO - After reverse - price mean: 50921123.40425533\n",
            "INFO:PricePredictionExperiment_RandomForestRegressor:After reverse - price mean: 50921123.40425533\n",
            "2025-05-31 23:49:27,979 - PricePredictionExperiment_RandomForestRegressor - INFO -  Fold 2/5 | Log R2=0.7938 | Orig R2=0.3568\n",
            "INFO:PricePredictionExperiment_RandomForestRegressor: Fold 2/5 | Log R2=0.7938 | Orig R2=0.3568\n",
            "2025-05-31 23:49:28,018 - PricePredictionExperiment_RandomForestRegressor - INFO - Before reverse - price mean: 0.46109879287422134\n",
            "INFO:PricePredictionExperiment_RandomForestRegressor:Before reverse - price mean: 0.46109879287422134\n",
            "2025-05-31 23:49:28,022 - PricePredictionExperiment_RandomForestRegressor - INFO - After reverse - price mean: 50421914.893617004\n",
            "INFO:PricePredictionExperiment_RandomForestRegressor:After reverse - price mean: 50421914.893617004\n",
            "2025-05-31 23:49:28,031 - PricePredictionExperiment_RandomForestRegressor - INFO -  Fold 3/5 | Log R2=0.6847 | Orig R2=0.1553\n",
            "INFO:PricePredictionExperiment_RandomForestRegressor: Fold 3/5 | Log R2=0.6847 | Orig R2=0.1553\n",
            "2025-05-31 23:49:28,073 - PricePredictionExperiment_RandomForestRegressor - INFO - Before reverse - price mean: 0.4580297314108511\n",
            "INFO:PricePredictionExperiment_RandomForestRegressor:Before reverse - price mean: 0.4580297314108511\n",
            "2025-05-31 23:49:28,076 - PricePredictionExperiment_RandomForestRegressor - INFO - After reverse - price mean: 63415391.4893617\n",
            "INFO:PricePredictionExperiment_RandomForestRegressor:After reverse - price mean: 63415391.4893617\n"
          ]
        },
        {
          "output_type": "stream",
          "name": "stdout",
          "text": [
            "Final CV stratified bins counts: [48 47 48 46 47]\n",
            "Running final 5-fold CV on 236 samples\n",
            " FinalCV Fold 0: train_size=188 val_size=48\n",
            " FinalCV Fold 1: train_size=189 val_size=47\n",
            " FinalCV Fold 2: train_size=189 val_size=47\n",
            " FinalCV Fold 3: train_size=189 val_size=47\n"
          ]
        },
        {
          "output_type": "stream",
          "name": "stderr",
          "text": [
            "2025-05-31 23:49:28,083 - PricePredictionExperiment_RandomForestRegressor - INFO -  Fold 4/5 | Log R2=0.7681 | Orig R2=0.1593\n",
            "INFO:PricePredictionExperiment_RandomForestRegressor: Fold 4/5 | Log R2=0.7681 | Orig R2=0.1593\n",
            "2025-05-31 23:49:28,123 - PricePredictionExperiment_RandomForestRegressor - INFO - Before reverse - price mean: 0.4727362701111664\n",
            "INFO:PricePredictionExperiment_RandomForestRegressor:Before reverse - price mean: 0.4727362701111664\n",
            "2025-05-31 23:49:28,127 - PricePredictionExperiment_RandomForestRegressor - INFO - After reverse - price mean: 67053424.65957447\n",
            "INFO:PricePredictionExperiment_RandomForestRegressor:After reverse - price mean: 67053424.65957447\n",
            "2025-05-31 23:49:28,133 - PricePredictionExperiment_RandomForestRegressor - INFO -  Fold 5/5 | Log R2=0.7875 | Orig R2=0.2266\n",
            "INFO:PricePredictionExperiment_RandomForestRegressor: Fold 5/5 | Log R2=0.7875 | Orig R2=0.2266\n",
            "2025-05-31 23:49:28,193 - PricePredictionExperiment_RandomForestRegressor - INFO - Before reverse - price mean: 0.46124991486493366\n",
            "INFO:PricePredictionExperiment_RandomForestRegressor:Before reverse - price mean: 0.46124991486493366\n",
            "2025-05-31 23:49:28,196 - PricePredictionExperiment_RandomForestRegressor - INFO - After reverse - price mean: 53129052.52542374\n",
            "INFO:PricePredictionExperiment_RandomForestRegressor:After reverse - price mean: 53129052.52542374\n"
          ]
        },
        {
          "output_type": "stream",
          "name": "stdout",
          "text": [
            " FinalCV Fold 4: train_size=189 val_size=47\n"
          ]
        },
        {
          "output_type": "stream",
          "name": "stderr",
          "text": [
            "2025-05-31 23:49:28,402 - PricePredictionExperiment_RandomForestRegressor - INFO - Evaluation artifacts saved to /content/results/metrics\n",
            "INFO:PricePredictionExperiment_RandomForestRegressor:Evaluation artifacts saved to /content/results/metrics\n",
            "2025-05-31 23:49:28,408 - PricePredictionExperiment_RandomForestRegressor - INFO - Elapsed time for final_cv: 0.62 seconds\n",
            "INFO:PricePredictionExperiment_RandomForestRegressor:Elapsed time for final_cv: 0.62 seconds\n",
            "2025-05-31 23:49:28,926 - PricePredictionExperiment_RandomForestRegressor - INFO - Timing started for: final_model_teaching\n",
            "INFO:PricePredictionExperiment_RandomForestRegressor:Timing started for: final_model_teaching\n"
          ]
        },
        {
          "output_type": "stream",
          "name": "stdout",
          "text": [
            "['landCategory', 'wallMaterial', 'bathroom', 'renovation', 'electricity', 'heating', 'waterSupply', 'gas', 'sewerage', 'media', 'parking', 'transportAccessibility', 'saleMethod', 'seller', 'category', 'infrastructure', 'terrace', 'recreation', 'region', 'nearestPPLA', 'nearestPPLA2']\n"
          ]
        },
        {
          "output_type": "stream",
          "name": "stderr",
          "text": [
            "2025-05-31 23:49:33,358 - PricePredictionExperiment_RandomForestRegressor - INFO - [before_final_fit] CPU: 11.9%, RAM: 3.53GB/12.67GB, GPU: 0%, GPU RAM: 1.06/15.00GB\n",
            "INFO:PricePredictionExperiment_RandomForestRegressor:[before_final_fit] CPU: 11.9%, RAM: 3.53GB/12.67GB, GPU: 0%, GPU RAM: 1.06/15.00GB\n",
            "2025-05-31 23:49:33,702 - PricePredictionExperiment_RandomForestRegressor - INFO - [after_final_fit] CPU: 3.3%, RAM: 3.53GB/12.67GB, GPU: 0%, GPU RAM: 1.06/15.00GB\n",
            "INFO:PricePredictionExperiment_RandomForestRegressor:[after_final_fit] CPU: 3.3%, RAM: 3.53GB/12.67GB, GPU: 0%, GPU RAM: 1.06/15.00GB\n"
          ]
        },
        {
          "output_type": "stream",
          "name": "stdout",
          "text": [
            "[EXTRACT] В ColumnTransformer нет шага 'text'\n",
            "[SAVE] No transformer to save.\n",
            "[SAVE] No tokenizer to save.\n",
            "[SAVE] All available components saved to /content/results/price_prediction_RandomForestRegressor_categorical-only_none_pca_False_gate_False_mtf_True_ (logged to MLflow: True)\n"
          ]
        },
        {
          "output_type": "stream",
          "name": "stderr",
          "text": [
            "Successfully registered model 'RandomForestRegressor+sample_300+None+pca_False+gate_False+textfeat_False'.\n",
            "Created version '1' of model 'RandomForestRegressor+sample_300+None+pca_False+gate_False+textfeat_False'.\n",
            "2025-05-31 23:49:34,189 - PricePredictionExperiment_RandomForestRegressor - INFO - Model registered as 'RandomForestRegressor+sample_300+None+pca_False+gate_False+textfeat_False', version 1\n",
            "INFO:PricePredictionExperiment_RandomForestRegressor:Model registered as 'RandomForestRegressor+sample_300+None+pca_False+gate_False+textfeat_False', version 1\n",
            "2025-05-31 23:49:34,253 - PricePredictionExperiment_RandomForestRegressor - INFO - Full model saved to /content/results/price_prediction_RandomForestRegressor_categorical-only_none_pca_False_gate_False_mtf_True_ and logged to MLflow\n",
            "INFO:PricePredictionExperiment_RandomForestRegressor:Full model saved to /content/results/price_prediction_RandomForestRegressor_categorical-only_none_pca_False_gate_False_mtf_True_ and logged to MLflow\n",
            "2025-05-31 23:49:34,255 - PricePredictionExperiment_RandomForestRegressor - INFO - Elapsed time for final_model_teaching: 5.33 seconds\n",
            "INFO:PricePredictionExperiment_RandomForestRegressor:Elapsed time for final_model_teaching: 5.33 seconds\n",
            "2025-05-31 23:49:34,268 - PricePredictionExperiment_RandomForestRegressor - INFO - Elapsed time for total: 7.09 seconds\n",
            "INFO:PricePredictionExperiment_RandomForestRegressor:Elapsed time for total: 7.09 seconds\n",
            "2025-05-31 23:49:34,291 - PricePredictionExperiment_RandomForestRegressor - INFO - → Запуск конфигурации: price_prediction_RandomForestRegressor_categorical-only_none_pca_False_gate_False_mtf_False_\n",
            "INFO:PricePredictionExperiment_RandomForestRegressor:→ Запуск конфигурации: price_prediction_RandomForestRegressor_categorical-only_none_pca_False_gate_False_mtf_False_\n",
            "2025-05-31 23:49:34,293 - PricePredictionExperiment_RandomForestRegressor - INFO - Loading and preprocessing data...\n",
            "INFO:PricePredictionExperiment_RandomForestRegressor:Loading and preprocessing data...\n",
            "2025-05-31 23:49:34,318 - PricePredictionExperiment_RandomForestRegressor - INFO - Applying sample_size: 300\n",
            "INFO:PricePredictionExperiment_RandomForestRegressor:Applying sample_size: 300\n",
            "2025-05-31 23:49:34,328 - PricePredictionExperiment_RandomForestRegressor - INFO - Данные прошли строгую валидацию профиля.\n",
            "INFO:PricePredictionExperiment_RandomForestRegressor:Данные прошли строгую валидацию профиля.\n"
          ]
        },
        {
          "output_type": "stream",
          "name": "stdout",
          "text": [
            "['landCategory', 'wallMaterial', 'bathroom', 'renovation', 'electricity', 'heating', 'waterSupply', 'gas', 'sewerage', 'media', 'parking', 'transportAccessibility', 'saleMethod', 'seller', 'category', 'infrastructure', 'terrace', 'recreation', 'region', 'nearestPPLA', 'nearestPPLA2']\n"
          ]
        },
        {
          "output_type": "stream",
          "name": "stderr",
          "text": [
            "\u001b[32m[I 2025-05-31 23:49:46,782]\u001b[0m A new study created in memory with name: no-name-fc464425-6adf-430f-b35a-6f97df308960\u001b[0m\n",
            "2025-05-31 23:49:47,007 - PricePredictionExperiment_RandomForestRegressor - INFO - Timing started for: total\n",
            "INFO:PricePredictionExperiment_RandomForestRegressor:Timing started for: total\n",
            "2025-05-31 23:49:47,019 - PricePredictionExperiment_RandomForestRegressor - INFO - ENV: python_version: 3.11.12 (main, Apr  9 2025, 08:55:54) [GCC 11.4.0]\n",
            "INFO:PricePredictionExperiment_RandomForestRegressor:ENV: python_version: 3.11.12 (main, Apr  9 2025, 08:55:54) [GCC 11.4.0]\n",
            "2025-05-31 23:49:47,031 - PricePredictionExperiment_RandomForestRegressor - INFO - ENV: platform: Linux-6.1.123+-x86_64-with-glibc2.35\n",
            "INFO:PricePredictionExperiment_RandomForestRegressor:ENV: platform: Linux-6.1.123+-x86_64-with-glibc2.35\n",
            "2025-05-31 23:49:47,043 - PricePredictionExperiment_RandomForestRegressor - INFO - ENV: sklearn_version: 1.6.1\n",
            "INFO:PricePredictionExperiment_RandomForestRegressor:ENV: sklearn_version: 1.6.1\n",
            "2025-05-31 23:49:47,058 - PricePredictionExperiment_RandomForestRegressor - INFO - ENV: pandas_version: 2.2.2\n",
            "INFO:PricePredictionExperiment_RandomForestRegressor:ENV: pandas_version: 2.2.2\n",
            "2025-05-31 23:49:47,070 - PricePredictionExperiment_RandomForestRegressor - INFO - ENV: numpy_version: 1.26.4\n",
            "INFO:PricePredictionExperiment_RandomForestRegressor:ENV: numpy_version: 1.26.4\n",
            "2025-05-31 23:49:47,081 - PricePredictionExperiment_RandomForestRegressor - INFO - ENV: torch_version: 2.6.0+cu124\n",
            "INFO:PricePredictionExperiment_RandomForestRegressor:ENV: torch_version: 2.6.0+cu124\n",
            "2025-05-31 23:49:47,093 - PricePredictionExperiment_RandomForestRegressor - INFO - ENV: cuda_available: True\n",
            "INFO:PricePredictionExperiment_RandomForestRegressor:ENV: cuda_available: True\n",
            "2025-05-31 23:49:47,105 - PricePredictionExperiment_RandomForestRegressor - INFO - ENV: cuda_device: Tesla T4\n",
            "INFO:PricePredictionExperiment_RandomForestRegressor:ENV: cuda_device: Tesla T4\n",
            "2025-05-31 23:49:47,116 - PricePredictionExperiment_RandomForestRegressor - INFO - ENV: run_time: 2025-05-31 23:49:47\n",
            "INFO:PricePredictionExperiment_RandomForestRegressor:ENV: run_time: 2025-05-31 23:49:47\n",
            "2025-05-31 23:49:47,142 - PricePredictionExperiment_RandomForestRegressor - INFO - ENV: run_hostname: bd3d025abf46\n",
            "INFO:PricePredictionExperiment_RandomForestRegressor:ENV: run_hostname: bd3d025abf46\n",
            "2025-05-31 23:49:47,218 - PricePredictionExperiment_RandomForestRegressor - INFO - Timing started for: optuna\n",
            "INFO:PricePredictionExperiment_RandomForestRegressor:Timing started for: optuna\n"
          ]
        },
        {
          "output_type": "stream",
          "name": "stdout",
          "text": [
            "CV stratified bins counts: [51 49 50]\n",
            "Running 3-fold CV on 150 samples\n",
            " Fold 0: train_size=100 val_size=50\n",
            "Epoch 1/3 - Loss: 0.0811\n",
            "Epoch 2/3 - Loss: 0.0420\n",
            "Epoch 3/3 - Loss: 0.0243\n"
          ]
        },
        {
          "output_type": "stream",
          "name": "stderr",
          "text": [
            "2025-05-31 23:49:51,088 - PricePredictionExperiment_RandomForestRegressor - INFO - Before reverse - price mean: 0.46163744810703816\n",
            "INFO:PricePredictionExperiment_RandomForestRegressor:Before reverse - price mean: 0.46163744810703816\n",
            "2025-05-31 23:49:51,093 - PricePredictionExperiment_RandomForestRegressor - INFO - After reverse - price mean: 52492874.37999999\n",
            "INFO:PricePredictionExperiment_RandomForestRegressor:After reverse - price mean: 52492874.37999999\n",
            "2025-05-31 23:49:51,197 - PricePredictionExperiment_RandomForestRegressor - INFO - Fold 0 - Log scale: R²=0.5414, RMSE=0.1480, SMAPE=30.5772%\n",
            "Original scale: R²=0.0671, RMSE=118834960.0001, SMAPE=76.9779%\n",
            "INFO:PricePredictionExperiment_RandomForestRegressor:Fold 0 - Log scale: R²=0.5414, RMSE=0.1480, SMAPE=30.5772%\n",
            "Original scale: R²=0.0671, RMSE=118834960.0001, SMAPE=76.9779%\n"
          ]
        },
        {
          "output_type": "stream",
          "name": "stdout",
          "text": [
            " Fold 1: train_size=100 val_size=50\n",
            "Epoch 1/3 - Loss: 0.1167\n",
            "Epoch 2/3 - Loss: 0.0457\n",
            "Epoch 3/3 - Loss: 0.0244\n"
          ]
        },
        {
          "output_type": "stream",
          "name": "stderr",
          "text": [
            "2025-05-31 23:49:54,474 - PricePredictionExperiment_RandomForestRegressor - INFO - Before reverse - price mean: 0.44923494890588567\n",
            "INFO:PricePredictionExperiment_RandomForestRegressor:Before reverse - price mean: 0.44923494890588567\n",
            "2025-05-31 23:49:54,480 - PricePredictionExperiment_RandomForestRegressor - INFO - After reverse - price mean: 30649667.2\n",
            "INFO:PricePredictionExperiment_RandomForestRegressor:After reverse - price mean: 30649667.2\n",
            "2025-05-31 23:49:54,532 - PricePredictionExperiment_RandomForestRegressor - INFO - Fold 1 - Log scale: R²=0.5059, RMSE=0.1313, SMAPE=26.1851%\n",
            "Original scale: R²=0.1643, RMSE=53208722.5582, SMAPE=68.7671%\n",
            "INFO:PricePredictionExperiment_RandomForestRegressor:Fold 1 - Log scale: R²=0.5059, RMSE=0.1313, SMAPE=26.1851%\n",
            "Original scale: R²=0.1643, RMSE=53208722.5582, SMAPE=68.7671%\n"
          ]
        },
        {
          "output_type": "stream",
          "name": "stdout",
          "text": [
            " Fold 2: train_size=100 val_size=50\n",
            "Epoch 1/3 - Loss: 0.0533\n",
            "Epoch 2/3 - Loss: 0.0279\n",
            "Epoch 3/3 - Loss: 0.0190\n"
          ]
        },
        {
          "output_type": "stream",
          "name": "stderr",
          "text": [
            "2025-05-31 23:49:57,717 - PricePredictionExperiment_RandomForestRegressor - INFO - Before reverse - price mean: 0.48160117863933743\n",
            "INFO:PricePredictionExperiment_RandomForestRegressor:Before reverse - price mean: 0.48160117863933743\n",
            "2025-05-31 23:49:57,721 - PricePredictionExperiment_RandomForestRegressor - INFO - After reverse - price mean: 70292049.59999996\n",
            "INFO:PricePredictionExperiment_RandomForestRegressor:After reverse - price mean: 70292049.59999996\n",
            "2025-05-31 23:49:57,789 - PricePredictionExperiment_RandomForestRegressor - INFO - Fold 2 - Log scale: R²=0.5388, RMSE=0.1514, SMAPE=26.8998%\n",
            "Original scale: R²=0.0022, RMSE=151425669.6268, SMAPE=79.7372%\n",
            "INFO:PricePredictionExperiment_RandomForestRegressor:Fold 2 - Log scale: R²=0.5388, RMSE=0.1514, SMAPE=26.8998%\n",
            "Original scale: R²=0.0022, RMSE=151425669.6268, SMAPE=79.7372%\n",
            "\u001b[32m[I 2025-05-31 23:49:57,818]\u001b[0m Trial 0 finished with value: 0.5286899990864408 and parameters: {'model__bootstrap': False, 'model__max_depth': 10, 'model__max_features': 'log2', 'model__min_samples_leaf': 15, 'model__min_samples_split': 18, 'model__n_estimators': 41, 'bert__max_len': 512, 'bert__batch_size': 8, 'bert__pooling_type': 'weighted', 'bert__lr': 2.1682959386691933e-05}. Best is trial 0 with value: 0.5286899990864408.\u001b[0m\n",
            "2025-05-31 23:49:57,819 - PricePredictionExperiment_RandomForestRegressor - INFO - Elapsed time for optuna: 10.60 seconds\n",
            "INFO:PricePredictionExperiment_RandomForestRegressor:Elapsed time for optuna: 10.60 seconds\n",
            "2025-05-31 23:49:57,832 - PricePredictionExperiment_RandomForestRegressor - INFO - Timing started for: final_cv\n",
            "INFO:PricePredictionExperiment_RandomForestRegressor:Timing started for: final_cv\n"
          ]
        },
        {
          "output_type": "stream",
          "name": "stdout",
          "text": [
            "Final CV stratified bins counts: [48 47 48 46 47]\n",
            "Running final 5-fold CV on 236 samples\n",
            " FinalCV Fold 0: train_size=188 val_size=48\n",
            "Couldn't determine BERT output dim, using default PCA: 'NoneType' object has no attribute 'bert'\n",
            "Epoch 1/3 - Loss: 0.1943\n",
            "Epoch 2/3 - Loss: 0.0510\n",
            "Epoch 3/3 - Loss: 0.0287\n"
          ]
        },
        {
          "output_type": "stream",
          "name": "stderr",
          "text": [
            "2025-05-31 23:50:03,790 - PricePredictionExperiment_RandomForestRegressor - INFO - Before reverse - price mean: 0.4550678466274749\n",
            "INFO:PricePredictionExperiment_RandomForestRegressor:Before reverse - price mean: 0.4550678466274749\n",
            "2025-05-31 23:50:03,794 - PricePredictionExperiment_RandomForestRegressor - INFO - After reverse - price mean: 35495257.499999985\n",
            "INFO:PricePredictionExperiment_RandomForestRegressor:After reverse - price mean: 35495257.499999985\n",
            "2025-05-31 23:50:03,807 - PricePredictionExperiment_RandomForestRegressor - INFO -  Fold 1/5 | Log R2=0.7598 | Orig R2=0.2376\n",
            "INFO:PricePredictionExperiment_RandomForestRegressor: Fold 1/5 | Log R2=0.7598 | Orig R2=0.2376\n"
          ]
        },
        {
          "output_type": "stream",
          "name": "stdout",
          "text": [
            " FinalCV Fold 1: train_size=189 val_size=47\n",
            "Couldn't determine BERT output dim, using default PCA: 'NoneType' object has no attribute 'bert'\n",
            "Epoch 1/3 - Loss: 0.0450\n",
            "Epoch 2/3 - Loss: 0.0253\n",
            "Epoch 3/3 - Loss: 0.0158\n"
          ]
        },
        {
          "output_type": "stream",
          "name": "stderr",
          "text": [
            "2025-05-31 23:50:09,543 - PricePredictionExperiment_RandomForestRegressor - INFO - Before reverse - price mean: 0.47295177607112204\n",
            "INFO:PricePredictionExperiment_RandomForestRegressor:Before reverse - price mean: 0.47295177607112204\n",
            "2025-05-31 23:50:09,552 - PricePredictionExperiment_RandomForestRegressor - INFO - After reverse - price mean: 50921123.40425533\n",
            "INFO:PricePredictionExperiment_RandomForestRegressor:After reverse - price mean: 50921123.40425533\n",
            "2025-05-31 23:50:09,561 - PricePredictionExperiment_RandomForestRegressor - INFO -  Fold 2/5 | Log R2=0.7156 | Orig R2=0.2095\n",
            "INFO:PricePredictionExperiment_RandomForestRegressor: Fold 2/5 | Log R2=0.7156 | Orig R2=0.2095\n"
          ]
        },
        {
          "output_type": "stream",
          "name": "stdout",
          "text": [
            " FinalCV Fold 2: train_size=189 val_size=47\n",
            "Couldn't determine BERT output dim, using default PCA: 'NoneType' object has no attribute 'bert'\n",
            "Epoch 1/3 - Loss: 0.0777\n",
            "Epoch 2/3 - Loss: 0.0274\n",
            "Epoch 3/3 - Loss: 0.0197\n"
          ]
        },
        {
          "output_type": "stream",
          "name": "stderr",
          "text": [
            "2025-05-31 23:50:15,277 - PricePredictionExperiment_RandomForestRegressor - INFO - Before reverse - price mean: 0.46109879287422134\n",
            "INFO:PricePredictionExperiment_RandomForestRegressor:Before reverse - price mean: 0.46109879287422134\n",
            "2025-05-31 23:50:15,285 - PricePredictionExperiment_RandomForestRegressor - INFO - After reverse - price mean: 50421914.893617004\n",
            "INFO:PricePredictionExperiment_RandomForestRegressor:After reverse - price mean: 50421914.893617004\n",
            "2025-05-31 23:50:15,295 - PricePredictionExperiment_RandomForestRegressor - INFO -  Fold 3/5 | Log R2=0.6110 | Orig R2=0.0939\n",
            "INFO:PricePredictionExperiment_RandomForestRegressor: Fold 3/5 | Log R2=0.6110 | Orig R2=0.0939\n"
          ]
        },
        {
          "output_type": "stream",
          "name": "stdout",
          "text": [
            " FinalCV Fold 3: train_size=189 val_size=47\n",
            "Couldn't determine BERT output dim, using default PCA: 'NoneType' object has no attribute 'bert'\n",
            "Epoch 1/3 - Loss: 0.0837\n",
            "Epoch 2/3 - Loss: 0.0322\n",
            "Epoch 3/3 - Loss: 0.0199\n"
          ]
        },
        {
          "output_type": "stream",
          "name": "stderr",
          "text": [
            "2025-05-31 23:50:21,242 - PricePredictionExperiment_RandomForestRegressor - INFO - Before reverse - price mean: 0.4580297314108511\n",
            "INFO:PricePredictionExperiment_RandomForestRegressor:Before reverse - price mean: 0.4580297314108511\n",
            "2025-05-31 23:50:21,250 - PricePredictionExperiment_RandomForestRegressor - INFO - After reverse - price mean: 63415391.4893617\n",
            "INFO:PricePredictionExperiment_RandomForestRegressor:After reverse - price mean: 63415391.4893617\n",
            "2025-05-31 23:50:21,257 - PricePredictionExperiment_RandomForestRegressor - INFO -  Fold 4/5 | Log R2=0.6584 | Orig R2=0.0907\n",
            "INFO:PricePredictionExperiment_RandomForestRegressor: Fold 4/5 | Log R2=0.6584 | Orig R2=0.0907\n"
          ]
        },
        {
          "output_type": "stream",
          "name": "stdout",
          "text": [
            " FinalCV Fold 4: train_size=189 val_size=47\n",
            "Couldn't determine BERT output dim, using default PCA: 'NoneType' object has no attribute 'bert'\n",
            "Epoch 1/3 - Loss: 0.0811\n",
            "Epoch 2/3 - Loss: 0.0335\n",
            "Epoch 3/3 - Loss: 0.0194\n"
          ]
        },
        {
          "output_type": "stream",
          "name": "stderr",
          "text": [
            "2025-05-31 23:50:26,816 - PricePredictionExperiment_RandomForestRegressor - INFO - Before reverse - price mean: 0.4727362701111664\n",
            "INFO:PricePredictionExperiment_RandomForestRegressor:Before reverse - price mean: 0.4727362701111664\n",
            "2025-05-31 23:50:26,819 - PricePredictionExperiment_RandomForestRegressor - INFO - After reverse - price mean: 67053424.65957447\n",
            "INFO:PricePredictionExperiment_RandomForestRegressor:After reverse - price mean: 67053424.65957447\n",
            "2025-05-31 23:50:26,826 - PricePredictionExperiment_RandomForestRegressor - INFO -  Fold 5/5 | Log R2=0.6805 | Orig R2=0.0834\n",
            "INFO:PricePredictionExperiment_RandomForestRegressor: Fold 5/5 | Log R2=0.6805 | Orig R2=0.0834\n"
          ]
        },
        {
          "output_type": "stream",
          "name": "stdout",
          "text": [
            "Couldn't determine BERT output dim, using default PCA: 'NoneType' object has no attribute 'bert'\n",
            "Epoch 1/3 - Loss: 0.0938\n",
            "Epoch 2/3 - Loss: 0.0319\n",
            "Epoch 3/3 - Loss: 0.0236\n"
          ]
        },
        {
          "output_type": "stream",
          "name": "stderr",
          "text": [
            "2025-05-31 23:50:34,413 - PricePredictionExperiment_RandomForestRegressor - INFO - Before reverse - price mean: 0.46124991486493366\n",
            "INFO:PricePredictionExperiment_RandomForestRegressor:Before reverse - price mean: 0.46124991486493366\n",
            "2025-05-31 23:50:34,416 - PricePredictionExperiment_RandomForestRegressor - INFO - After reverse - price mean: 53129052.52542374\n",
            "INFO:PricePredictionExperiment_RandomForestRegressor:After reverse - price mean: 53129052.52542374\n",
            "2025-05-31 23:50:34,625 - PricePredictionExperiment_RandomForestRegressor - INFO - Evaluation artifacts saved to /content/results/metrics\n",
            "INFO:PricePredictionExperiment_RandomForestRegressor:Evaluation artifacts saved to /content/results/metrics\n",
            "2025-05-31 23:50:34,657 - PricePredictionExperiment_RandomForestRegressor - INFO - Elapsed time for final_cv: 36.82 seconds\n",
            "INFO:PricePredictionExperiment_RandomForestRegressor:Elapsed time for final_cv: 36.82 seconds\n",
            "2025-05-31 23:50:35,176 - PricePredictionExperiment_RandomForestRegressor - INFO - Timing started for: final_model_teaching\n",
            "INFO:PricePredictionExperiment_RandomForestRegressor:Timing started for: final_model_teaching\n"
          ]
        },
        {
          "output_type": "stream",
          "name": "stdout",
          "text": [
            "['landCategory', 'wallMaterial', 'bathroom', 'renovation', 'electricity', 'heating', 'waterSupply', 'gas', 'sewerage', 'media', 'parking', 'transportAccessibility', 'saleMethod', 'seller', 'category', 'infrastructure', 'terrace', 'recreation', 'region', 'nearestPPLA', 'nearestPPLA2']\n",
            "Couldn't determine BERT output dim, using default PCA: 'NoneType' object has no attribute 'bert'\n"
          ]
        },
        {
          "output_type": "stream",
          "name": "stderr",
          "text": [
            "2025-05-31 23:50:39,711 - PricePredictionExperiment_RandomForestRegressor - INFO - [before_final_fit] CPU: 1.7%, RAM: 3.56GB/12.67GB, GPU: 0%, GPU RAM: 1.06/15.00GB\n",
            "INFO:PricePredictionExperiment_RandomForestRegressor:[before_final_fit] CPU: 1.7%, RAM: 3.56GB/12.67GB, GPU: 0%, GPU RAM: 1.06/15.00GB\n"
          ]
        },
        {
          "output_type": "stream",
          "name": "stdout",
          "text": [
            "Epoch 1/3 - Loss: 0.0763\n",
            "Epoch 2/3 - Loss: 0.0280\n",
            "Epoch 3/3 - Loss: 0.0182\n"
          ]
        },
        {
          "output_type": "stream",
          "name": "stderr",
          "text": [
            "2025-05-31 23:50:48,698 - PricePredictionExperiment_RandomForestRegressor - INFO - [after_final_fit] CPU: 8.5%, RAM: 3.55GB/12.67GB, GPU: 0%, GPU RAM: 1.06/15.00GB\n",
            "INFO:PricePredictionExperiment_RandomForestRegressor:[after_final_fit] CPU: 8.5%, RAM: 3.55GB/12.67GB, GPU: 0%, GPU RAM: 1.06/15.00GB\n"
          ]
        },
        {
          "output_type": "stream",
          "name": "stdout",
          "text": [
            "[EXTRACT] Найден transformer под именем 'text': <class 'sklearn.pipeline.Pipeline'>\n",
            "[SAVE] No tokenizer to save.\n",
            "[SAVE] All available components saved to /content/results/price_prediction_RandomForestRegressor_categorical-only_none_pca_False_gate_False_mtf_False_ (logged to MLflow: True)\n"
          ]
        },
        {
          "output_type": "stream",
          "name": "stderr",
          "text": [
            "Successfully registered model 'RandomForestRegressor+sample_300+rubert+pca_True+gate_False+textfeat_False'.\n",
            "Created version '1' of model 'RandomForestRegressor+sample_300+rubert+pca_True+gate_False+textfeat_False'.\n",
            "2025-05-31 23:50:51,392 - PricePredictionExperiment_RandomForestRegressor - INFO - Model registered as 'RandomForestRegressor+sample_300+rubert+pca_True+gate_False+textfeat_False', version 1\n",
            "INFO:PricePredictionExperiment_RandomForestRegressor:Model registered as 'RandomForestRegressor+sample_300+rubert+pca_True+gate_False+textfeat_False', version 1\n",
            "2025-05-31 23:50:51,443 - PricePredictionExperiment_RandomForestRegressor - INFO - Full model saved to /content/results/price_prediction_RandomForestRegressor_categorical-only_none_pca_False_gate_False_mtf_False_ and logged to MLflow\n",
            "INFO:PricePredictionExperiment_RandomForestRegressor:Full model saved to /content/results/price_prediction_RandomForestRegressor_categorical-only_none_pca_False_gate_False_mtf_False_ and logged to MLflow\n",
            "2025-05-31 23:50:51,478 - PricePredictionExperiment_RandomForestRegressor - INFO - Elapsed time for final_model_teaching: 16.30 seconds\n",
            "INFO:PricePredictionExperiment_RandomForestRegressor:Elapsed time for final_model_teaching: 16.30 seconds\n",
            "2025-05-31 23:50:51,492 - PricePredictionExperiment_RandomForestRegressor - INFO - Elapsed time for total: 64.49 seconds\n",
            "INFO:PricePredictionExperiment_RandomForestRegressor:Elapsed time for total: 64.49 seconds\n",
            "2025-05-31 23:50:51,516 - PricePredictionExperiment_RandomForestRegressor - INFO - → Запуск конфигурации: price_prediction_RandomForestRegressor_mixed_rubert_pca_True_gate_False_mtf_False_\n",
            "INFO:PricePredictionExperiment_RandomForestRegressor:→ Запуск конфигурации: price_prediction_RandomForestRegressor_mixed_rubert_pca_True_gate_False_mtf_False_\n",
            "2025-05-31 23:50:51,518 - PricePredictionExperiment_RandomForestRegressor - INFO - Loading and preprocessing data...\n",
            "INFO:PricePredictionExperiment_RandomForestRegressor:Loading and preprocessing data...\n",
            "2025-05-31 23:50:51,546 - PricePredictionExperiment_RandomForestRegressor - INFO - Applying sample_size: 300\n",
            "INFO:PricePredictionExperiment_RandomForestRegressor:Applying sample_size: 300\n",
            "2025-05-31 23:50:51,555 - PricePredictionExperiment_RandomForestRegressor - INFO - Данные прошли строгую валидацию профиля.\n",
            "INFO:PricePredictionExperiment_RandomForestRegressor:Данные прошли строгую валидацию профиля.\n"
          ]
        },
        {
          "output_type": "stream",
          "name": "stdout",
          "text": [
            "['landCategory', 'wallMaterial', 'bathroom', 'renovation', 'electricity', 'heating', 'waterSupply', 'gas', 'sewerage', 'media', 'parking', 'transportAccessibility', 'saleMethod', 'seller', 'category', 'infrastructure', 'terrace', 'recreation', 'region', 'nearestPPLA', 'nearestPPLA2']\n"
          ]
        },
        {
          "output_type": "stream",
          "name": "stderr",
          "text": [
            "\u001b[32m[I 2025-05-31 23:51:04,762]\u001b[0m A new study created in memory with name: no-name-f009673f-bf86-404b-b6d9-5216558f760c\u001b[0m\n",
            "2025-05-31 23:51:04,975 - PricePredictionExperiment_RandomForestRegressor - INFO - Timing started for: total\n",
            "INFO:PricePredictionExperiment_RandomForestRegressor:Timing started for: total\n",
            "2025-05-31 23:51:04,989 - PricePredictionExperiment_RandomForestRegressor - INFO - ENV: python_version: 3.11.12 (main, Apr  9 2025, 08:55:54) [GCC 11.4.0]\n",
            "INFO:PricePredictionExperiment_RandomForestRegressor:ENV: python_version: 3.11.12 (main, Apr  9 2025, 08:55:54) [GCC 11.4.0]\n",
            "2025-05-31 23:51:05,001 - PricePredictionExperiment_RandomForestRegressor - INFO - ENV: platform: Linux-6.1.123+-x86_64-with-glibc2.35\n",
            "INFO:PricePredictionExperiment_RandomForestRegressor:ENV: platform: Linux-6.1.123+-x86_64-with-glibc2.35\n",
            "2025-05-31 23:51:05,030 - PricePredictionExperiment_RandomForestRegressor - INFO - ENV: sklearn_version: 1.6.1\n",
            "INFO:PricePredictionExperiment_RandomForestRegressor:ENV: sklearn_version: 1.6.1\n",
            "2025-05-31 23:51:05,042 - PricePredictionExperiment_RandomForestRegressor - INFO - ENV: pandas_version: 2.2.2\n",
            "INFO:PricePredictionExperiment_RandomForestRegressor:ENV: pandas_version: 2.2.2\n",
            "2025-05-31 23:51:05,055 - PricePredictionExperiment_RandomForestRegressor - INFO - ENV: numpy_version: 1.26.4\n",
            "INFO:PricePredictionExperiment_RandomForestRegressor:ENV: numpy_version: 1.26.4\n",
            "2025-05-31 23:51:05,067 - PricePredictionExperiment_RandomForestRegressor - INFO - ENV: torch_version: 2.6.0+cu124\n",
            "INFO:PricePredictionExperiment_RandomForestRegressor:ENV: torch_version: 2.6.0+cu124\n",
            "2025-05-31 23:51:05,080 - PricePredictionExperiment_RandomForestRegressor - INFO - ENV: cuda_available: True\n",
            "INFO:PricePredictionExperiment_RandomForestRegressor:ENV: cuda_available: True\n",
            "2025-05-31 23:51:05,092 - PricePredictionExperiment_RandomForestRegressor - INFO - ENV: cuda_device: Tesla T4\n",
            "INFO:PricePredictionExperiment_RandomForestRegressor:ENV: cuda_device: Tesla T4\n",
            "2025-05-31 23:51:05,103 - PricePredictionExperiment_RandomForestRegressor - INFO - ENV: run_time: 2025-05-31 23:51:04\n",
            "INFO:PricePredictionExperiment_RandomForestRegressor:ENV: run_time: 2025-05-31 23:51:04\n",
            "2025-05-31 23:51:05,115 - PricePredictionExperiment_RandomForestRegressor - INFO - ENV: run_hostname: bd3d025abf46\n",
            "INFO:PricePredictionExperiment_RandomForestRegressor:ENV: run_hostname: bd3d025abf46\n",
            "2025-05-31 23:51:05,206 - PricePredictionExperiment_RandomForestRegressor - INFO - Timing started for: optuna\n",
            "INFO:PricePredictionExperiment_RandomForestRegressor:Timing started for: optuna\n"
          ]
        },
        {
          "output_type": "stream",
          "name": "stdout",
          "text": [
            "CV stratified bins counts: [51 49 50]\n",
            "Running 3-fold CV on 150 samples\n",
            " Fold 0: train_size=100 val_size=50\n"
          ]
        },
        {
          "output_type": "stream",
          "name": "stderr",
          "text": [
            "2025-05-31 23:51:06,539 - PricePredictionExperiment_RandomForestRegressor - INFO - Before reverse - price mean: 0.46163744810703816\n",
            "INFO:PricePredictionExperiment_RandomForestRegressor:Before reverse - price mean: 0.46163744810703816\n",
            "2025-05-31 23:51:06,544 - PricePredictionExperiment_RandomForestRegressor - INFO - After reverse - price mean: 52492874.37999999\n",
            "INFO:PricePredictionExperiment_RandomForestRegressor:After reverse - price mean: 52492874.37999999\n",
            "2025-05-31 23:51:06,595 - PricePredictionExperiment_RandomForestRegressor - INFO - Fold 0 - Log scale: R²=0.6843, RMSE=0.1228, SMAPE=26.4730%\n",
            "Original scale: R²=0.3120, RMSE=102054390.6143, SMAPE=65.0386%\n",
            "INFO:PricePredictionExperiment_RandomForestRegressor:Fold 0 - Log scale: R²=0.6843, RMSE=0.1228, SMAPE=26.4730%\n",
            "Original scale: R²=0.3120, RMSE=102054390.6143, SMAPE=65.0386%\n"
          ]
        },
        {
          "output_type": "stream",
          "name": "stdout",
          "text": [
            " Fold 1: train_size=100 val_size=50\n"
          ]
        },
        {
          "output_type": "stream",
          "name": "stderr",
          "text": [
            "2025-05-31 23:51:07,759 - PricePredictionExperiment_RandomForestRegressor - INFO - Before reverse - price mean: 0.44923494890588567\n",
            "INFO:PricePredictionExperiment_RandomForestRegressor:Before reverse - price mean: 0.44923494890588567\n",
            "2025-05-31 23:51:07,763 - PricePredictionExperiment_RandomForestRegressor - INFO - After reverse - price mean: 30649667.2\n",
            "INFO:PricePredictionExperiment_RandomForestRegressor:After reverse - price mean: 30649667.2\n",
            "2025-05-31 23:51:07,830 - PricePredictionExperiment_RandomForestRegressor - INFO - Fold 1 - Log scale: R²=0.5617, RMSE=0.1236, SMAPE=25.6224%\n",
            "Original scale: R²=0.4822, RMSE=41883021.3928, SMAPE=68.6338%\n",
            "INFO:PricePredictionExperiment_RandomForestRegressor:Fold 1 - Log scale: R²=0.5617, RMSE=0.1236, SMAPE=25.6224%\n",
            "Original scale: R²=0.4822, RMSE=41883021.3928, SMAPE=68.6338%\n"
          ]
        },
        {
          "output_type": "stream",
          "name": "stdout",
          "text": [
            " Fold 2: train_size=100 val_size=50\n"
          ]
        },
        {
          "output_type": "stream",
          "name": "stderr",
          "text": [
            "2025-05-31 23:51:09,510 - PricePredictionExperiment_RandomForestRegressor - INFO - Before reverse - price mean: 0.48160117863933743\n",
            "INFO:PricePredictionExperiment_RandomForestRegressor:Before reverse - price mean: 0.48160117863933743\n",
            "2025-05-31 23:51:09,516 - PricePredictionExperiment_RandomForestRegressor - INFO - After reverse - price mean: 70292049.59999996\n",
            "INFO:PricePredictionExperiment_RandomForestRegressor:After reverse - price mean: 70292049.59999996\n",
            "2025-05-31 23:51:09,569 - PricePredictionExperiment_RandomForestRegressor - INFO - Fold 2 - Log scale: R²=0.6739, RMSE=0.1273, SMAPE=22.5868%\n",
            "Original scale: R²=0.1615, RMSE=138814132.8813, SMAPE=69.1408%\n",
            "INFO:PricePredictionExperiment_RandomForestRegressor:Fold 2 - Log scale: R²=0.6739, RMSE=0.1273, SMAPE=22.5868%\n",
            "Original scale: R²=0.1615, RMSE=138814132.8813, SMAPE=69.1408%\n",
            "\u001b[32m[I 2025-05-31 23:51:09,581]\u001b[0m Trial 0 finished with value: 0.6399844015407171 and parameters: {'model__bootstrap': False, 'model__max_depth': 10, 'model__max_features': 'log2', 'model__min_samples_leaf': 15, 'model__min_samples_split': 18, 'model__n_estimators': 41, 'w2v__vector_size': 300, 'w2v__window': 14, 'w2v__min_count': 3, 'w2v__sg': 1}. Best is trial 0 with value: 0.6399844015407171.\u001b[0m\n",
            "2025-05-31 23:51:09,581 - PricePredictionExperiment_RandomForestRegressor - INFO - Elapsed time for optuna: 4.38 seconds\n",
            "INFO:PricePredictionExperiment_RandomForestRegressor:Elapsed time for optuna: 4.38 seconds\n",
            "2025-05-31 23:51:09,594 - PricePredictionExperiment_RandomForestRegressor - INFO - Timing started for: final_cv\n",
            "INFO:PricePredictionExperiment_RandomForestRegressor:Timing started for: final_cv\n"
          ]
        },
        {
          "output_type": "stream",
          "name": "stdout",
          "text": [
            "Final CV stratified bins counts: [48 47 48 46 47]\n",
            "Running final 5-fold CV on 236 samples\n",
            " FinalCV Fold 0: train_size=188 val_size=48\n"
          ]
        },
        {
          "output_type": "stream",
          "name": "stderr",
          "text": [
            "2025-05-31 23:51:12,710 - PricePredictionExperiment_RandomForestRegressor - INFO - Before reverse - price mean: 0.4550678466274749\n",
            "INFO:PricePredictionExperiment_RandomForestRegressor:Before reverse - price mean: 0.4550678466274749\n",
            "2025-05-31 23:51:12,713 - PricePredictionExperiment_RandomForestRegressor - INFO - After reverse - price mean: 35495257.499999985\n",
            "INFO:PricePredictionExperiment_RandomForestRegressor:After reverse - price mean: 35495257.499999985\n",
            "2025-05-31 23:51:12,719 - PricePredictionExperiment_RandomForestRegressor - INFO -  Fold 1/5 | Log R2=0.7693 | Orig R2=0.3023\n",
            "INFO:PricePredictionExperiment_RandomForestRegressor: Fold 1/5 | Log R2=0.7693 | Orig R2=0.3023\n"
          ]
        },
        {
          "output_type": "stream",
          "name": "stdout",
          "text": [
            " FinalCV Fold 1: train_size=189 val_size=47\n"
          ]
        },
        {
          "output_type": "stream",
          "name": "stderr",
          "text": [
            "2025-05-31 23:51:14,828 - PricePredictionExperiment_RandomForestRegressor - INFO - Before reverse - price mean: 0.47295177607112204\n",
            "INFO:PricePredictionExperiment_RandomForestRegressor:Before reverse - price mean: 0.47295177607112204\n",
            "2025-05-31 23:51:14,837 - PricePredictionExperiment_RandomForestRegressor - INFO - After reverse - price mean: 50921123.40425533\n",
            "INFO:PricePredictionExperiment_RandomForestRegressor:After reverse - price mean: 50921123.40425533\n",
            "2025-05-31 23:51:14,842 - PricePredictionExperiment_RandomForestRegressor - INFO -  Fold 2/5 | Log R2=0.7069 | Orig R2=0.1958\n",
            "INFO:PricePredictionExperiment_RandomForestRegressor: Fold 2/5 | Log R2=0.7069 | Orig R2=0.1958\n"
          ]
        },
        {
          "output_type": "stream",
          "name": "stdout",
          "text": [
            " FinalCV Fold 2: train_size=189 val_size=47\n"
          ]
        },
        {
          "output_type": "stream",
          "name": "stderr",
          "text": [
            "2025-05-31 23:51:17,040 - PricePredictionExperiment_RandomForestRegressor - INFO - Before reverse - price mean: 0.46109879287422134\n",
            "INFO:PricePredictionExperiment_RandomForestRegressor:Before reverse - price mean: 0.46109879287422134\n",
            "2025-05-31 23:51:17,043 - PricePredictionExperiment_RandomForestRegressor - INFO - After reverse - price mean: 50421914.893617004\n",
            "INFO:PricePredictionExperiment_RandomForestRegressor:After reverse - price mean: 50421914.893617004\n",
            "2025-05-31 23:51:17,049 - PricePredictionExperiment_RandomForestRegressor - INFO -  Fold 3/5 | Log R2=0.6091 | Orig R2=0.1075\n",
            "INFO:PricePredictionExperiment_RandomForestRegressor: Fold 3/5 | Log R2=0.6091 | Orig R2=0.1075\n"
          ]
        },
        {
          "output_type": "stream",
          "name": "stdout",
          "text": [
            " FinalCV Fold 3: train_size=189 val_size=47\n"
          ]
        },
        {
          "output_type": "stream",
          "name": "stderr",
          "text": [
            "2025-05-31 23:51:19,173 - PricePredictionExperiment_RandomForestRegressor - INFO - Before reverse - price mean: 0.4580297314108511\n",
            "INFO:PricePredictionExperiment_RandomForestRegressor:Before reverse - price mean: 0.4580297314108511\n",
            "2025-05-31 23:51:19,184 - PricePredictionExperiment_RandomForestRegressor - INFO - After reverse - price mean: 63415391.4893617\n",
            "INFO:PricePredictionExperiment_RandomForestRegressor:After reverse - price mean: 63415391.4893617\n",
            "2025-05-31 23:51:19,191 - PricePredictionExperiment_RandomForestRegressor - INFO -  Fold 4/5 | Log R2=0.5963 | Orig R2=0.0565\n",
            "INFO:PricePredictionExperiment_RandomForestRegressor: Fold 4/5 | Log R2=0.5963 | Orig R2=0.0565\n"
          ]
        },
        {
          "output_type": "stream",
          "name": "stdout",
          "text": [
            " FinalCV Fold 4: train_size=189 val_size=47\n"
          ]
        },
        {
          "output_type": "stream",
          "name": "stderr",
          "text": [
            "2025-05-31 23:51:21,236 - PricePredictionExperiment_RandomForestRegressor - INFO - Before reverse - price mean: 0.4727362701111664\n",
            "INFO:PricePredictionExperiment_RandomForestRegressor:Before reverse - price mean: 0.4727362701111664\n",
            "2025-05-31 23:51:21,245 - PricePredictionExperiment_RandomForestRegressor - INFO - After reverse - price mean: 67053424.65957447\n",
            "INFO:PricePredictionExperiment_RandomForestRegressor:After reverse - price mean: 67053424.65957447\n",
            "2025-05-31 23:51:21,254 - PricePredictionExperiment_RandomForestRegressor - INFO -  Fold 5/5 | Log R2=0.7063 | Orig R2=0.1376\n",
            "INFO:PricePredictionExperiment_RandomForestRegressor: Fold 5/5 | Log R2=0.7063 | Orig R2=0.1376\n",
            "2025-05-31 23:51:25,351 - PricePredictionExperiment_RandomForestRegressor - INFO - Before reverse - price mean: 0.46124991486493366\n",
            "INFO:PricePredictionExperiment_RandomForestRegressor:Before reverse - price mean: 0.46124991486493366\n",
            "2025-05-31 23:51:25,360 - PricePredictionExperiment_RandomForestRegressor - INFO - After reverse - price mean: 53129052.52542374\n",
            "INFO:PricePredictionExperiment_RandomForestRegressor:After reverse - price mean: 53129052.52542374\n",
            "2025-05-31 23:51:25,615 - PricePredictionExperiment_RandomForestRegressor - INFO - Evaluation artifacts saved to /content/results/metrics\n",
            "INFO:PricePredictionExperiment_RandomForestRegressor:Evaluation artifacts saved to /content/results/metrics\n",
            "2025-05-31 23:51:25,623 - PricePredictionExperiment_RandomForestRegressor - INFO - Elapsed time for final_cv: 16.03 seconds\n",
            "INFO:PricePredictionExperiment_RandomForestRegressor:Elapsed time for final_cv: 16.03 seconds\n",
            "2025-05-31 23:51:26,200 - PricePredictionExperiment_RandomForestRegressor - INFO - Timing started for: final_model_teaching\n",
            "INFO:PricePredictionExperiment_RandomForestRegressor:Timing started for: final_model_teaching\n"
          ]
        },
        {
          "output_type": "stream",
          "name": "stdout",
          "text": [
            "['landCategory', 'wallMaterial', 'bathroom', 'renovation', 'electricity', 'heating', 'waterSupply', 'gas', 'sewerage', 'media', 'parking', 'transportAccessibility', 'saleMethod', 'seller', 'category', 'infrastructure', 'terrace', 'recreation', 'region', 'nearestPPLA', 'nearestPPLA2']\n"
          ]
        },
        {
          "output_type": "stream",
          "name": "stderr",
          "text": [
            "2025-05-31 23:51:31,232 - PricePredictionExperiment_RandomForestRegressor - INFO - [before_final_fit] CPU: 4.9%, RAM: 3.59GB/12.67GB, GPU: 0%, GPU RAM: 1.06/15.00GB\n",
            "INFO:PricePredictionExperiment_RandomForestRegressor:[before_final_fit] CPU: 4.9%, RAM: 3.59GB/12.67GB, GPU: 0%, GPU RAM: 1.06/15.00GB\n",
            "2025-05-31 23:51:34,730 - PricePredictionExperiment_RandomForestRegressor - INFO - [after_final_fit] CPU: 8.3%, RAM: 3.59GB/12.67GB, GPU: 0%, GPU RAM: 1.06/15.00GB\n",
            "INFO:PricePredictionExperiment_RandomForestRegressor:[after_final_fit] CPU: 8.3%, RAM: 3.59GB/12.67GB, GPU: 0%, GPU RAM: 1.06/15.00GB\n"
          ]
        },
        {
          "output_type": "stream",
          "name": "stdout",
          "text": [
            "[EXTRACT] Найден transformer под именем 'text': <class 'sklearn.pipeline.Pipeline'>\n",
            "[SAVE] No tokenizer to save.\n",
            "[SAVE] All available components saved to /content/results/price_prediction_RandomForestRegressor_mixed_rubert_pca_True_gate_False_mtf_False_ (logged to MLflow: True)\n"
          ]
        },
        {
          "output_type": "stream",
          "name": "stderr",
          "text": [
            "Successfully registered model 'RandomForestRegressor+sample_300+w2v+pca_True+gate_False+textfeat_False'.\n",
            "Created version '1' of model 'RandomForestRegressor+sample_300+w2v+pca_True+gate_False+textfeat_False'.\n",
            "2025-05-31 23:51:35,389 - PricePredictionExperiment_RandomForestRegressor - INFO - Model registered as 'RandomForestRegressor+sample_300+w2v+pca_True+gate_False+textfeat_False', version 1\n",
            "INFO:PricePredictionExperiment_RandomForestRegressor:Model registered as 'RandomForestRegressor+sample_300+w2v+pca_True+gate_False+textfeat_False', version 1\n",
            "2025-05-31 23:51:35,455 - PricePredictionExperiment_RandomForestRegressor - INFO - Full model saved to /content/results/price_prediction_RandomForestRegressor_mixed_rubert_pca_True_gate_False_mtf_False_ and logged to MLflow\n",
            "INFO:PricePredictionExperiment_RandomForestRegressor:Full model saved to /content/results/price_prediction_RandomForestRegressor_mixed_rubert_pca_True_gate_False_mtf_False_ and logged to MLflow\n",
            "2025-05-31 23:51:35,457 - PricePredictionExperiment_RandomForestRegressor - INFO - Elapsed time for final_model_teaching: 9.26 seconds\n",
            "INFO:PricePredictionExperiment_RandomForestRegressor:Elapsed time for final_model_teaching: 9.26 seconds\n",
            "2025-05-31 23:51:35,469 - PricePredictionExperiment_RandomForestRegressor - INFO - Elapsed time for total: 30.49 seconds\n",
            "INFO:PricePredictionExperiment_RandomForestRegressor:Elapsed time for total: 30.49 seconds\n",
            "2025-05-31 23:51:35,493 - PricePredictionExperiment_RandomForestRegressor - INFO - → Запуск конфигурации: price_prediction_RandomForestRegressor_mixed_w2v_pca_True_gate_False_mtf_False_\n",
            "INFO:PricePredictionExperiment_RandomForestRegressor:→ Запуск конфигурации: price_prediction_RandomForestRegressor_mixed_w2v_pca_True_gate_False_mtf_False_\n",
            "2025-05-31 23:51:35,495 - PricePredictionExperiment_RandomForestRegressor - INFO - Loading and preprocessing data...\n",
            "INFO:PricePredictionExperiment_RandomForestRegressor:Loading and preprocessing data...\n",
            "2025-05-31 23:51:35,521 - PricePredictionExperiment_RandomForestRegressor - INFO - Applying sample_size: 300\n",
            "INFO:PricePredictionExperiment_RandomForestRegressor:Applying sample_size: 300\n",
            "2025-05-31 23:51:35,531 - PricePredictionExperiment_RandomForestRegressor - INFO - Данные прошли строгую валидацию профиля.\n",
            "INFO:PricePredictionExperiment_RandomForestRegressor:Данные прошли строгую валидацию профиля.\n"
          ]
        },
        {
          "output_type": "stream",
          "name": "stdout",
          "text": [
            "['landCategory', 'wallMaterial', 'bathroom', 'renovation', 'electricity', 'heating', 'waterSupply', 'gas', 'sewerage', 'media', 'parking', 'transportAccessibility', 'saleMethod', 'seller', 'category', 'infrastructure', 'terrace', 'recreation', 'region', 'nearestPPLA', 'nearestPPLA2']\n"
          ]
        },
        {
          "output_type": "stream",
          "name": "stderr",
          "text": [
            "\u001b[32m[I 2025-05-31 23:51:47,903]\u001b[0m A new study created in memory with name: no-name-6568f42c-42cf-4b6a-83fa-e22bfb5b9760\u001b[0m\n",
            "2025-05-31 23:51:48,128 - PricePredictionExperiment_RandomForestRegressor - INFO - Timing started for: total\n",
            "INFO:PricePredictionExperiment_RandomForestRegressor:Timing started for: total\n",
            "2025-05-31 23:51:48,140 - PricePredictionExperiment_RandomForestRegressor - INFO - ENV: python_version: 3.11.12 (main, Apr  9 2025, 08:55:54) [GCC 11.4.0]\n",
            "INFO:PricePredictionExperiment_RandomForestRegressor:ENV: python_version: 3.11.12 (main, Apr  9 2025, 08:55:54) [GCC 11.4.0]\n",
            "2025-05-31 23:51:48,153 - PricePredictionExperiment_RandomForestRegressor - INFO - ENV: platform: Linux-6.1.123+-x86_64-with-glibc2.35\n",
            "INFO:PricePredictionExperiment_RandomForestRegressor:ENV: platform: Linux-6.1.123+-x86_64-with-glibc2.35\n",
            "2025-05-31 23:51:48,166 - PricePredictionExperiment_RandomForestRegressor - INFO - ENV: sklearn_version: 1.6.1\n",
            "INFO:PricePredictionExperiment_RandomForestRegressor:ENV: sklearn_version: 1.6.1\n",
            "2025-05-31 23:51:48,178 - PricePredictionExperiment_RandomForestRegressor - INFO - ENV: pandas_version: 2.2.2\n",
            "INFO:PricePredictionExperiment_RandomForestRegressor:ENV: pandas_version: 2.2.2\n",
            "2025-05-31 23:51:48,191 - PricePredictionExperiment_RandomForestRegressor - INFO - ENV: numpy_version: 1.26.4\n",
            "INFO:PricePredictionExperiment_RandomForestRegressor:ENV: numpy_version: 1.26.4\n",
            "2025-05-31 23:51:48,203 - PricePredictionExperiment_RandomForestRegressor - INFO - ENV: torch_version: 2.6.0+cu124\n",
            "INFO:PricePredictionExperiment_RandomForestRegressor:ENV: torch_version: 2.6.0+cu124\n",
            "2025-05-31 23:51:48,214 - PricePredictionExperiment_RandomForestRegressor - INFO - ENV: cuda_available: True\n",
            "INFO:PricePredictionExperiment_RandomForestRegressor:ENV: cuda_available: True\n",
            "2025-05-31 23:51:48,226 - PricePredictionExperiment_RandomForestRegressor - INFO - ENV: cuda_device: Tesla T4\n",
            "INFO:PricePredictionExperiment_RandomForestRegressor:ENV: cuda_device: Tesla T4\n",
            "2025-05-31 23:51:48,238 - PricePredictionExperiment_RandomForestRegressor - INFO - ENV: run_time: 2025-05-31 23:51:48\n",
            "INFO:PricePredictionExperiment_RandomForestRegressor:ENV: run_time: 2025-05-31 23:51:48\n",
            "2025-05-31 23:51:48,266 - PricePredictionExperiment_RandomForestRegressor - INFO - ENV: run_hostname: bd3d025abf46\n",
            "INFO:PricePredictionExperiment_RandomForestRegressor:ENV: run_hostname: bd3d025abf46\n",
            "2025-05-31 23:51:48,345 - PricePredictionExperiment_RandomForestRegressor - INFO - Timing started for: optuna\n",
            "INFO:PricePredictionExperiment_RandomForestRegressor:Timing started for: optuna\n",
            "2025-05-31 23:51:48,618 - PricePredictionExperiment_RandomForestRegressor - INFO - Before reverse - price mean: 0.46163744810703816\n",
            "INFO:PricePredictionExperiment_RandomForestRegressor:Before reverse - price mean: 0.46163744810703816\n",
            "2025-05-31 23:51:48,622 - PricePredictionExperiment_RandomForestRegressor - INFO - After reverse - price mean: 52492874.37999999\n",
            "INFO:PricePredictionExperiment_RandomForestRegressor:After reverse - price mean: 52492874.37999999\n"
          ]
        },
        {
          "output_type": "stream",
          "name": "stdout",
          "text": [
            "CV stratified bins counts: [51 49 50]\n",
            "Running 3-fold CV on 150 samples\n",
            " Fold 0: train_size=100 val_size=50\n"
          ]
        },
        {
          "output_type": "stream",
          "name": "stderr",
          "text": [
            "2025-05-31 23:51:48,675 - PricePredictionExperiment_RandomForestRegressor - INFO - Fold 0 - Log scale: R²=0.4221, RMSE=0.1662, SMAPE=32.4414%\n",
            "Original scale: R²=-0.0157, RMSE=123996968.1437, SMAPE=80.5590%\n",
            "INFO:PricePredictionExperiment_RandomForestRegressor:Fold 0 - Log scale: R²=0.4221, RMSE=0.1662, SMAPE=32.4414%\n",
            "Original scale: R²=-0.0157, RMSE=123996968.1437, SMAPE=80.5590%\n"
          ]
        },
        {
          "output_type": "stream",
          "name": "stdout",
          "text": [
            " Fold 1: train_size=100 val_size=50\n"
          ]
        },
        {
          "output_type": "stream",
          "name": "stderr",
          "text": [
            "2025-05-31 23:51:48,989 - PricePredictionExperiment_RandomForestRegressor - INFO - Before reverse - price mean: 0.44923494890588567\n",
            "INFO:PricePredictionExperiment_RandomForestRegressor:Before reverse - price mean: 0.44923494890588567\n",
            "2025-05-31 23:51:48,995 - PricePredictionExperiment_RandomForestRegressor - INFO - After reverse - price mean: 30649667.2\n",
            "INFO:PricePredictionExperiment_RandomForestRegressor:After reverse - price mean: 30649667.2\n",
            "2025-05-31 23:51:49,069 - PricePredictionExperiment_RandomForestRegressor - INFO - Fold 1 - Log scale: R²=0.3834, RMSE=0.1466, SMAPE=28.8714%\n",
            "Original scale: R²=0.0680, RMSE=56189874.7699, SMAPE=76.3922%\n",
            "INFO:PricePredictionExperiment_RandomForestRegressor:Fold 1 - Log scale: R²=0.3834, RMSE=0.1466, SMAPE=28.8714%\n",
            "Original scale: R²=0.0680, RMSE=56189874.7699, SMAPE=76.3922%\n"
          ]
        },
        {
          "output_type": "stream",
          "name": "stdout",
          "text": [
            " Fold 2: train_size=100 val_size=50\n"
          ]
        },
        {
          "output_type": "stream",
          "name": "stderr",
          "text": [
            "2025-05-31 23:51:49,397 - PricePredictionExperiment_RandomForestRegressor - INFO - Before reverse - price mean: 0.48160117863933743\n",
            "INFO:PricePredictionExperiment_RandomForestRegressor:Before reverse - price mean: 0.48160117863933743\n",
            "2025-05-31 23:51:49,400 - PricePredictionExperiment_RandomForestRegressor - INFO - After reverse - price mean: 70292049.59999996\n",
            "INFO:PricePredictionExperiment_RandomForestRegressor:After reverse - price mean: 70292049.59999996\n",
            "2025-05-31 23:51:49,463 - PricePredictionExperiment_RandomForestRegressor - INFO - Fold 2 - Log scale: R²=0.3441, RMSE=0.1806, SMAPE=30.0062%\n",
            "Original scale: R²=-0.0962, RMSE=158717460.4229, SMAPE=84.8533%\n",
            "INFO:PricePredictionExperiment_RandomForestRegressor:Fold 2 - Log scale: R²=0.3441, RMSE=0.1806, SMAPE=30.0062%\n",
            "Original scale: R²=-0.0962, RMSE=158717460.4229, SMAPE=84.8533%\n",
            "\u001b[32m[I 2025-05-31 23:51:49,468]\u001b[0m Trial 0 finished with value: 0.38316974108210466 and parameters: {'model__bootstrap': False, 'model__max_depth': 10, 'model__max_features': 'log2', 'model__min_samples_leaf': 15, 'model__min_samples_split': 18, 'model__n_estimators': 41, 'tfidf__max_features': 494, 'tfidf__ngram_range_max': 3, 'tfidf__min_df': 3, 'tfidf__max_df': 0.7545474901621302}. Best is trial 0 with value: 0.38316974108210466.\u001b[0m\n",
            "2025-05-31 23:51:49,469 - PricePredictionExperiment_RandomForestRegressor - INFO - Elapsed time for optuna: 1.12 seconds\n",
            "INFO:PricePredictionExperiment_RandomForestRegressor:Elapsed time for optuna: 1.12 seconds\n",
            "2025-05-31 23:51:49,500 - PricePredictionExperiment_RandomForestRegressor - INFO - Timing started for: final_cv\n",
            "INFO:PricePredictionExperiment_RandomForestRegressor:Timing started for: final_cv\n"
          ]
        },
        {
          "output_type": "stream",
          "name": "stdout",
          "text": [
            "Final CV stratified bins counts: [48 47 48 46 47]\n",
            "Running final 5-fold CV on 236 samples\n",
            " FinalCV Fold 0: train_size=188 val_size=48\n"
          ]
        },
        {
          "output_type": "stream",
          "name": "stderr",
          "text": [
            "2025-05-31 23:51:50,356 - PricePredictionExperiment_RandomForestRegressor - INFO - Before reverse - price mean: 0.4550678466274749\n",
            "INFO:PricePredictionExperiment_RandomForestRegressor:Before reverse - price mean: 0.4550678466274749\n",
            "2025-05-31 23:51:50,371 - PricePredictionExperiment_RandomForestRegressor - INFO - After reverse - price mean: 35495257.499999985\n",
            "INFO:PricePredictionExperiment_RandomForestRegressor:After reverse - price mean: 35495257.499999985\n",
            "2025-05-31 23:51:50,383 - PricePredictionExperiment_RandomForestRegressor - INFO -  Fold 1/5 | Log R2=0.7295 | Orig R2=0.2806\n",
            "INFO:PricePredictionExperiment_RandomForestRegressor: Fold 1/5 | Log R2=0.7295 | Orig R2=0.2806\n"
          ]
        },
        {
          "output_type": "stream",
          "name": "stdout",
          "text": [
            " FinalCV Fold 1: train_size=189 val_size=47\n"
          ]
        },
        {
          "output_type": "stream",
          "name": "stderr",
          "text": [
            "2025-05-31 23:51:51,140 - PricePredictionExperiment_RandomForestRegressor - INFO - Before reverse - price mean: 0.47295177607112204\n",
            "INFO:PricePredictionExperiment_RandomForestRegressor:Before reverse - price mean: 0.47295177607112204\n",
            "2025-05-31 23:51:51,151 - PricePredictionExperiment_RandomForestRegressor - INFO - After reverse - price mean: 50921123.40425533\n",
            "INFO:PricePredictionExperiment_RandomForestRegressor:After reverse - price mean: 50921123.40425533\n",
            "2025-05-31 23:51:51,160 - PricePredictionExperiment_RandomForestRegressor - INFO -  Fold 2/5 | Log R2=0.6950 | Orig R2=0.2042\n",
            "INFO:PricePredictionExperiment_RandomForestRegressor: Fold 2/5 | Log R2=0.6950 | Orig R2=0.2042\n"
          ]
        },
        {
          "output_type": "stream",
          "name": "stdout",
          "text": [
            " FinalCV Fold 2: train_size=189 val_size=47\n"
          ]
        },
        {
          "output_type": "stream",
          "name": "stderr",
          "text": [
            "2025-05-31 23:51:51,975 - PricePredictionExperiment_RandomForestRegressor - INFO - Before reverse - price mean: 0.46109879287422134\n",
            "INFO:PricePredictionExperiment_RandomForestRegressor:Before reverse - price mean: 0.46109879287422134\n",
            "2025-05-31 23:51:51,980 - PricePredictionExperiment_RandomForestRegressor - INFO - After reverse - price mean: 50421914.893617004\n",
            "INFO:PricePredictionExperiment_RandomForestRegressor:After reverse - price mean: 50421914.893617004\n",
            "2025-05-31 23:51:51,996 - PricePredictionExperiment_RandomForestRegressor - INFO -  Fold 3/5 | Log R2=0.6572 | Orig R2=0.1336\n",
            "INFO:PricePredictionExperiment_RandomForestRegressor: Fold 3/5 | Log R2=0.6572 | Orig R2=0.1336\n"
          ]
        },
        {
          "output_type": "stream",
          "name": "stdout",
          "text": [
            " FinalCV Fold 3: train_size=189 val_size=47\n"
          ]
        },
        {
          "output_type": "stream",
          "name": "stderr",
          "text": [
            "2025-05-31 23:51:52,667 - PricePredictionExperiment_RandomForestRegressor - INFO - Before reverse - price mean: 0.4580297314108511\n",
            "INFO:PricePredictionExperiment_RandomForestRegressor:Before reverse - price mean: 0.4580297314108511\n",
            "2025-05-31 23:51:52,676 - PricePredictionExperiment_RandomForestRegressor - INFO - After reverse - price mean: 63415391.4893617\n",
            "INFO:PricePredictionExperiment_RandomForestRegressor:After reverse - price mean: 63415391.4893617\n",
            "2025-05-31 23:51:52,688 - PricePredictionExperiment_RandomForestRegressor - INFO -  Fold 4/5 | Log R2=0.6555 | Orig R2=0.0910\n",
            "INFO:PricePredictionExperiment_RandomForestRegressor: Fold 4/5 | Log R2=0.6555 | Orig R2=0.0910\n"
          ]
        },
        {
          "output_type": "stream",
          "name": "stdout",
          "text": [
            " FinalCV Fold 4: train_size=189 val_size=47\n"
          ]
        },
        {
          "output_type": "stream",
          "name": "stderr",
          "text": [
            "2025-05-31 23:51:53,161 - PricePredictionExperiment_RandomForestRegressor - INFO - Before reverse - price mean: 0.4727362701111664\n",
            "INFO:PricePredictionExperiment_RandomForestRegressor:Before reverse - price mean: 0.4727362701111664\n",
            "2025-05-31 23:51:53,171 - PricePredictionExperiment_RandomForestRegressor - INFO - After reverse - price mean: 67053424.65957447\n",
            "INFO:PricePredictionExperiment_RandomForestRegressor:After reverse - price mean: 67053424.65957447\n",
            "2025-05-31 23:51:53,180 - PricePredictionExperiment_RandomForestRegressor - INFO -  Fold 5/5 | Log R2=0.6942 | Orig R2=0.1018\n",
            "INFO:PricePredictionExperiment_RandomForestRegressor: Fold 5/5 | Log R2=0.6942 | Orig R2=0.1018\n",
            "2025-05-31 23:51:53,725 - PricePredictionExperiment_RandomForestRegressor - INFO - Before reverse - price mean: 0.46124991486493366\n",
            "INFO:PricePredictionExperiment_RandomForestRegressor:Before reverse - price mean: 0.46124991486493366\n",
            "2025-05-31 23:51:53,729 - PricePredictionExperiment_RandomForestRegressor - INFO - After reverse - price mean: 53129052.52542374\n",
            "INFO:PricePredictionExperiment_RandomForestRegressor:After reverse - price mean: 53129052.52542374\n",
            "2025-05-31 23:51:53,927 - PricePredictionExperiment_RandomForestRegressor - INFO - Evaluation artifacts saved to /content/results/metrics\n",
            "INFO:PricePredictionExperiment_RandomForestRegressor:Evaluation artifacts saved to /content/results/metrics\n",
            "2025-05-31 23:51:53,937 - PricePredictionExperiment_RandomForestRegressor - INFO - Elapsed time for final_cv: 4.44 seconds\n",
            "INFO:PricePredictionExperiment_RandomForestRegressor:Elapsed time for final_cv: 4.44 seconds\n",
            "2025-05-31 23:51:54,480 - PricePredictionExperiment_RandomForestRegressor - INFO - Timing started for: final_model_teaching\n",
            "INFO:PricePredictionExperiment_RandomForestRegressor:Timing started for: final_model_teaching\n"
          ]
        },
        {
          "output_type": "stream",
          "name": "stdout",
          "text": [
            "['landCategory', 'wallMaterial', 'bathroom', 'renovation', 'electricity', 'heating', 'waterSupply', 'gas', 'sewerage', 'media', 'parking', 'transportAccessibility', 'saleMethod', 'seller', 'category', 'infrastructure', 'terrace', 'recreation', 'region', 'nearestPPLA', 'nearestPPLA2']\n"
          ]
        },
        {
          "output_type": "stream",
          "name": "stderr",
          "text": [
            "2025-05-31 23:51:59,193 - PricePredictionExperiment_RandomForestRegressor - INFO - [before_final_fit] CPU: 8.3%, RAM: 3.58GB/12.67GB, GPU: 0%, GPU RAM: 1.06/15.00GB\n",
            "INFO:PricePredictionExperiment_RandomForestRegressor:[before_final_fit] CPU: 8.3%, RAM: 3.58GB/12.67GB, GPU: 0%, GPU RAM: 1.06/15.00GB\n",
            "2025-05-31 23:52:00,048 - PricePredictionExperiment_RandomForestRegressor - INFO - [after_final_fit] CPU: 5.1%, RAM: 3.58GB/12.67GB, GPU: 0%, GPU RAM: 1.06/15.00GB\n",
            "INFO:PricePredictionExperiment_RandomForestRegressor:[after_final_fit] CPU: 5.1%, RAM: 3.58GB/12.67GB, GPU: 0%, GPU RAM: 1.06/15.00GB\n"
          ]
        },
        {
          "output_type": "stream",
          "name": "stdout",
          "text": [
            "[EXTRACT] Найден transformer под именем 'text': <class 'sklearn.pipeline.Pipeline'>\n",
            "[SAVE] No tokenizer to save.\n",
            "[SAVE] All available components saved to /content/results/price_prediction_RandomForestRegressor_mixed_w2v_pca_True_gate_False_mtf_False_ (logged to MLflow: True)\n"
          ]
        },
        {
          "output_type": "stream",
          "name": "stderr",
          "text": [
            "Successfully registered model 'RandomForestRegressor+sample_300+tfidf+pca_True+gate_False+textfeat_False'.\n",
            "Created version '1' of model 'RandomForestRegressor+sample_300+tfidf+pca_True+gate_False+textfeat_False'.\n",
            "2025-05-31 23:52:00,680 - PricePredictionExperiment_RandomForestRegressor - INFO - Model registered as 'RandomForestRegressor+sample_300+tfidf+pca_True+gate_False+textfeat_False', version 1\n",
            "INFO:PricePredictionExperiment_RandomForestRegressor:Model registered as 'RandomForestRegressor+sample_300+tfidf+pca_True+gate_False+textfeat_False', version 1\n",
            "2025-05-31 23:52:00,735 - PricePredictionExperiment_RandomForestRegressor - INFO - Full model saved to /content/results/price_prediction_RandomForestRegressor_mixed_w2v_pca_True_gate_False_mtf_False_ and logged to MLflow\n",
            "INFO:PricePredictionExperiment_RandomForestRegressor:Full model saved to /content/results/price_prediction_RandomForestRegressor_mixed_w2v_pca_True_gate_False_mtf_False_ and logged to MLflow\n",
            "2025-05-31 23:52:00,739 - PricePredictionExperiment_RandomForestRegressor - INFO - Elapsed time for final_model_teaching: 6.26 seconds\n",
            "INFO:PricePredictionExperiment_RandomForestRegressor:Elapsed time for final_model_teaching: 6.26 seconds\n",
            "2025-05-31 23:52:00,769 - PricePredictionExperiment_RandomForestRegressor - INFO - Elapsed time for total: 12.64 seconds\n",
            "INFO:PricePredictionExperiment_RandomForestRegressor:Elapsed time for total: 12.64 seconds\n",
            "2025-05-31 23:52:00,793 - PricePredictionExperiment_RandomForestRegressor - INFO - → Запуск конфигурации: price_prediction_RandomForestRegressor_mixed_tfidf_pca_True_gate_False_mtf_False_\n",
            "INFO:PricePredictionExperiment_RandomForestRegressor:→ Запуск конфигурации: price_prediction_RandomForestRegressor_mixed_tfidf_pca_True_gate_False_mtf_False_\n",
            "2025-05-31 23:52:00,795 - PricePredictionExperiment_RandomForestRegressor - INFO - Loading and preprocessing data...\n",
            "INFO:PricePredictionExperiment_RandomForestRegressor:Loading and preprocessing data...\n",
            "2025-05-31 23:52:00,824 - PricePredictionExperiment_RandomForestRegressor - INFO - Applying sample_size: 300\n",
            "INFO:PricePredictionExperiment_RandomForestRegressor:Applying sample_size: 300\n",
            "2025-05-31 23:52:00,833 - PricePredictionExperiment_RandomForestRegressor - INFO - Данные прошли строгую валидацию профиля.\n",
            "INFO:PricePredictionExperiment_RandomForestRegressor:Данные прошли строгую валидацию профиля.\n"
          ]
        },
        {
          "output_type": "stream",
          "name": "stdout",
          "text": [
            "['landCategory', 'wallMaterial', 'bathroom', 'renovation', 'electricity', 'heating', 'waterSupply', 'gas', 'sewerage', 'media', 'parking', 'transportAccessibility', 'saleMethod', 'seller', 'category', 'infrastructure', 'terrace', 'recreation', 'region', 'nearestPPLA', 'nearestPPLA2']\n"
          ]
        },
        {
          "output_type": "stream",
          "name": "stderr",
          "text": [
            "\u001b[32m[I 2025-05-31 23:52:14,405]\u001b[0m A new study created in memory with name: no-name-8e9ecaaf-b7ec-4709-81e8-f011e26ce727\u001b[0m\n",
            "2025-05-31 23:52:14,626 - PricePredictionExperiment_RandomForestRegressor - INFO - Timing started for: total\n",
            "INFO:PricePredictionExperiment_RandomForestRegressor:Timing started for: total\n",
            "2025-05-31 23:52:14,637 - PricePredictionExperiment_RandomForestRegressor - INFO - ENV: python_version: 3.11.12 (main, Apr  9 2025, 08:55:54) [GCC 11.4.0]\n",
            "INFO:PricePredictionExperiment_RandomForestRegressor:ENV: python_version: 3.11.12 (main, Apr  9 2025, 08:55:54) [GCC 11.4.0]\n",
            "2025-05-31 23:52:14,668 - PricePredictionExperiment_RandomForestRegressor - INFO - ENV: platform: Linux-6.1.123+-x86_64-with-glibc2.35\n",
            "INFO:PricePredictionExperiment_RandomForestRegressor:ENV: platform: Linux-6.1.123+-x86_64-with-glibc2.35\n",
            "2025-05-31 23:52:14,682 - PricePredictionExperiment_RandomForestRegressor - INFO - ENV: sklearn_version: 1.6.1\n",
            "INFO:PricePredictionExperiment_RandomForestRegressor:ENV: sklearn_version: 1.6.1\n",
            "2025-05-31 23:52:14,694 - PricePredictionExperiment_RandomForestRegressor - INFO - ENV: pandas_version: 2.2.2\n",
            "INFO:PricePredictionExperiment_RandomForestRegressor:ENV: pandas_version: 2.2.2\n",
            "2025-05-31 23:52:14,706 - PricePredictionExperiment_RandomForestRegressor - INFO - ENV: numpy_version: 1.26.4\n",
            "INFO:PricePredictionExperiment_RandomForestRegressor:ENV: numpy_version: 1.26.4\n",
            "2025-05-31 23:52:14,718 - PricePredictionExperiment_RandomForestRegressor - INFO - ENV: torch_version: 2.6.0+cu124\n",
            "INFO:PricePredictionExperiment_RandomForestRegressor:ENV: torch_version: 2.6.0+cu124\n",
            "2025-05-31 23:52:14,731 - PricePredictionExperiment_RandomForestRegressor - INFO - ENV: cuda_available: True\n",
            "INFO:PricePredictionExperiment_RandomForestRegressor:ENV: cuda_available: True\n",
            "2025-05-31 23:52:14,743 - PricePredictionExperiment_RandomForestRegressor - INFO - ENV: cuda_device: Tesla T4\n",
            "INFO:PricePredictionExperiment_RandomForestRegressor:ENV: cuda_device: Tesla T4\n",
            "2025-05-31 23:52:14,756 - PricePredictionExperiment_RandomForestRegressor - INFO - ENV: run_time: 2025-05-31 23:52:14\n",
            "INFO:PricePredictionExperiment_RandomForestRegressor:ENV: run_time: 2025-05-31 23:52:14\n",
            "2025-05-31 23:52:14,769 - PricePredictionExperiment_RandomForestRegressor - INFO - ENV: run_hostname: bd3d025abf46\n",
            "INFO:PricePredictionExperiment_RandomForestRegressor:ENV: run_hostname: bd3d025abf46\n",
            "2025-05-31 23:52:14,868 - PricePredictionExperiment_RandomForestRegressor - INFO - Timing started for: optuna\n",
            "INFO:PricePredictionExperiment_RandomForestRegressor:Timing started for: optuna\n"
          ]
        },
        {
          "output_type": "stream",
          "name": "stdout",
          "text": [
            "CV stratified bins counts: [51 49 50]\n",
            "Running 3-fold CV on 150 samples\n",
            " Fold 0: train_size=100 val_size=50\n",
            "Epoch 1/3 - Loss: 0.1570\n",
            "Epoch 2/3 - Loss: 0.0485\n",
            "Epoch 3/3 - Loss: 0.0388\n"
          ]
        },
        {
          "output_type": "stream",
          "name": "stderr",
          "text": [
            "2025-05-31 23:52:18,697 - PricePredictionExperiment_RandomForestRegressor - INFO - Before reverse - price mean: 0.46163744810703816\n",
            "INFO:PricePredictionExperiment_RandomForestRegressor:Before reverse - price mean: 0.46163744810703816\n",
            "2025-05-31 23:52:18,701 - PricePredictionExperiment_RandomForestRegressor - INFO - After reverse - price mean: 52492874.37999999\n",
            "INFO:PricePredictionExperiment_RandomForestRegressor:After reverse - price mean: 52492874.37999999\n",
            "2025-05-31 23:52:18,755 - PricePredictionExperiment_RandomForestRegressor - INFO - Fold 0 - Log scale: R²=0.4402, RMSE=0.1635, SMAPE=34.3451%\n",
            "Original scale: R²=0.0694, RMSE=118688144.6833, SMAPE=86.4384%\n",
            "INFO:PricePredictionExperiment_RandomForestRegressor:Fold 0 - Log scale: R²=0.4402, RMSE=0.1635, SMAPE=34.3451%\n",
            "Original scale: R²=0.0694, RMSE=118688144.6833, SMAPE=86.4384%\n"
          ]
        },
        {
          "output_type": "stream",
          "name": "stdout",
          "text": [
            " Fold 1: train_size=100 val_size=50\n",
            "Epoch 1/3 - Loss: 0.0614\n",
            "Epoch 2/3 - Loss: 0.0342\n",
            "Epoch 3/3 - Loss: 0.0188\n"
          ]
        },
        {
          "output_type": "stream",
          "name": "stderr",
          "text": [
            "2025-05-31 23:52:22,009 - PricePredictionExperiment_RandomForestRegressor - INFO - Before reverse - price mean: 0.44923494890588567\n",
            "INFO:PricePredictionExperiment_RandomForestRegressor:Before reverse - price mean: 0.44923494890588567\n",
            "2025-05-31 23:52:22,012 - PricePredictionExperiment_RandomForestRegressor - INFO - After reverse - price mean: 30649667.2\n",
            "INFO:PricePredictionExperiment_RandomForestRegressor:After reverse - price mean: 30649667.2\n",
            "2025-05-31 23:52:22,085 - PricePredictionExperiment_RandomForestRegressor - INFO - Fold 1 - Log scale: R²=0.3253, RMSE=0.1534, SMAPE=29.9871%\n",
            "Original scale: R²=0.0552, RMSE=56573761.1472, SMAPE=78.5492%\n",
            "INFO:PricePredictionExperiment_RandomForestRegressor:Fold 1 - Log scale: R²=0.3253, RMSE=0.1534, SMAPE=29.9871%\n",
            "Original scale: R²=0.0552, RMSE=56573761.1472, SMAPE=78.5492%\n"
          ]
        },
        {
          "output_type": "stream",
          "name": "stdout",
          "text": [
            " Fold 2: train_size=100 val_size=50\n",
            "Epoch 1/3 - Loss: 0.0531\n",
            "Epoch 2/3 - Loss: 0.0276\n",
            "Epoch 3/3 - Loss: 0.0215\n"
          ]
        },
        {
          "output_type": "stream",
          "name": "stderr",
          "text": [
            "2025-05-31 23:52:25,350 - PricePredictionExperiment_RandomForestRegressor - INFO - Before reverse - price mean: 0.48160117863933743\n",
            "INFO:PricePredictionExperiment_RandomForestRegressor:Before reverse - price mean: 0.48160117863933743\n",
            "2025-05-31 23:52:25,353 - PricePredictionExperiment_RandomForestRegressor - INFO - After reverse - price mean: 70292049.59999996\n",
            "INFO:PricePredictionExperiment_RandomForestRegressor:After reverse - price mean: 70292049.59999996\n",
            "2025-05-31 23:52:25,435 - PricePredictionExperiment_RandomForestRegressor - INFO - Fold 2 - Log scale: R²=0.4553, RMSE=0.1646, SMAPE=29.2458%\n",
            "Original scale: R²=-0.0181, RMSE=152961263.7110, SMAPE=85.3920%\n",
            "INFO:PricePredictionExperiment_RandomForestRegressor:Fold 2 - Log scale: R²=0.4553, RMSE=0.1646, SMAPE=29.2458%\n",
            "Original scale: R²=-0.0181, RMSE=152961263.7110, SMAPE=85.3920%\n",
            "\u001b[32m[I 2025-05-31 23:52:25,469]\u001b[0m Trial 0 finished with value: 0.4069657203790187 and parameters: {'model__bootstrap': False, 'model__max_depth': 10, 'model__max_features': 'log2', 'model__min_samples_leaf': 15, 'model__min_samples_split': 18, 'model__n_estimators': 41, 'bert__max_len': 512, 'bert__batch_size': 8, 'bert__pooling_type': 'weighted', 'bert__lr': 2.1682959386691933e-05}. Best is trial 0 with value: 0.4069657203790187.\u001b[0m\n",
            "2025-05-31 23:52:25,470 - PricePredictionExperiment_RandomForestRegressor - INFO - Elapsed time for optuna: 10.60 seconds\n",
            "INFO:PricePredictionExperiment_RandomForestRegressor:Elapsed time for optuna: 10.60 seconds\n",
            "2025-05-31 23:52:25,484 - PricePredictionExperiment_RandomForestRegressor - INFO - Timing started for: final_cv\n",
            "INFO:PricePredictionExperiment_RandomForestRegressor:Timing started for: final_cv\n"
          ]
        },
        {
          "output_type": "stream",
          "name": "stdout",
          "text": [
            "Final CV stratified bins counts: [48 47 48 46 47]\n",
            "Running final 5-fold CV on 236 samples\n",
            " FinalCV Fold 0: train_size=188 val_size=48\n",
            "Couldn't determine BERT output dim, using default PCA: 'NoneType' object has no attribute 'bert'\n",
            "Epoch 1/3 - Loss: 0.1007\n",
            "Epoch 2/3 - Loss: 0.0346\n",
            "Epoch 3/3 - Loss: 0.0228\n"
          ]
        },
        {
          "output_type": "stream",
          "name": "stderr",
          "text": [
            "2025-05-31 23:52:31,735 - PricePredictionExperiment_RandomForestRegressor - INFO - Before reverse - price mean: 0.4550678466274749\n",
            "INFO:PricePredictionExperiment_RandomForestRegressor:Before reverse - price mean: 0.4550678466274749\n",
            "2025-05-31 23:52:31,746 - PricePredictionExperiment_RandomForestRegressor - INFO - After reverse - price mean: 35495257.499999985\n",
            "INFO:PricePredictionExperiment_RandomForestRegressor:After reverse - price mean: 35495257.499999985\n",
            "2025-05-31 23:52:31,751 - PricePredictionExperiment_RandomForestRegressor - INFO -  Fold 1/5 | Log R2=0.3686 | Orig R2=0.0282\n",
            "INFO:PricePredictionExperiment_RandomForestRegressor: Fold 1/5 | Log R2=0.3686 | Orig R2=0.0282\n"
          ]
        },
        {
          "output_type": "stream",
          "name": "stdout",
          "text": [
            " FinalCV Fold 1: train_size=189 val_size=47\n",
            "Couldn't determine BERT output dim, using default PCA: 'NoneType' object has no attribute 'bert'\n",
            "Epoch 1/3 - Loss: 0.0581\n",
            "Epoch 2/3 - Loss: 0.0276\n",
            "Epoch 3/3 - Loss: 0.0178\n"
          ]
        },
        {
          "output_type": "stream",
          "name": "stderr",
          "text": [
            "2025-05-31 23:52:37,490 - PricePredictionExperiment_RandomForestRegressor - INFO - Before reverse - price mean: 0.47295177607112204\n",
            "INFO:PricePredictionExperiment_RandomForestRegressor:Before reverse - price mean: 0.47295177607112204\n",
            "2025-05-31 23:52:37,496 - PricePredictionExperiment_RandomForestRegressor - INFO - After reverse - price mean: 50921123.40425533\n",
            "INFO:PricePredictionExperiment_RandomForestRegressor:After reverse - price mean: 50921123.40425533\n",
            "2025-05-31 23:52:37,502 - PricePredictionExperiment_RandomForestRegressor - INFO -  Fold 2/5 | Log R2=0.3336 | Orig R2=-0.0230\n",
            "INFO:PricePredictionExperiment_RandomForestRegressor: Fold 2/5 | Log R2=0.3336 | Orig R2=-0.0230\n"
          ]
        },
        {
          "output_type": "stream",
          "name": "stdout",
          "text": [
            " FinalCV Fold 2: train_size=189 val_size=47\n",
            "Couldn't determine BERT output dim, using default PCA: 'NoneType' object has no attribute 'bert'\n",
            "Epoch 1/3 - Loss: 0.0786\n",
            "Epoch 2/3 - Loss: 0.0309\n",
            "Epoch 3/3 - Loss: 0.0184\n"
          ]
        },
        {
          "output_type": "stream",
          "name": "stderr",
          "text": [
            "2025-05-31 23:52:44,141 - PricePredictionExperiment_RandomForestRegressor - INFO - Before reverse - price mean: 0.46109879287422134\n",
            "INFO:PricePredictionExperiment_RandomForestRegressor:Before reverse - price mean: 0.46109879287422134\n",
            "2025-05-31 23:52:44,149 - PricePredictionExperiment_RandomForestRegressor - INFO - After reverse - price mean: 50421914.893617004\n",
            "INFO:PricePredictionExperiment_RandomForestRegressor:After reverse - price mean: 50421914.893617004\n",
            "2025-05-31 23:52:44,154 - PricePredictionExperiment_RandomForestRegressor - INFO -  Fold 3/5 | Log R2=0.3539 | Orig R2=-0.0119\n",
            "INFO:PricePredictionExperiment_RandomForestRegressor: Fold 3/5 | Log R2=0.3539 | Orig R2=-0.0119\n"
          ]
        },
        {
          "output_type": "stream",
          "name": "stdout",
          "text": [
            " FinalCV Fold 3: train_size=189 val_size=47\n",
            "Couldn't determine BERT output dim, using default PCA: 'NoneType' object has no attribute 'bert'\n",
            "Epoch 1/3 - Loss: 0.0603\n",
            "Epoch 2/3 - Loss: 0.0237\n",
            "Epoch 3/3 - Loss: 0.0124\n"
          ]
        },
        {
          "output_type": "stream",
          "name": "stderr",
          "text": [
            "2025-05-31 23:52:50,099 - PricePredictionExperiment_RandomForestRegressor - INFO - Before reverse - price mean: 0.4580297314108511\n",
            "INFO:PricePredictionExperiment_RandomForestRegressor:Before reverse - price mean: 0.4580297314108511\n",
            "2025-05-31 23:52:50,102 - PricePredictionExperiment_RandomForestRegressor - INFO - After reverse - price mean: 63415391.4893617\n",
            "INFO:PricePredictionExperiment_RandomForestRegressor:After reverse - price mean: 63415391.4893617\n",
            "2025-05-31 23:52:50,112 - PricePredictionExperiment_RandomForestRegressor - INFO -  Fold 4/5 | Log R2=0.2501 | Orig R2=-0.0429\n",
            "INFO:PricePredictionExperiment_RandomForestRegressor: Fold 4/5 | Log R2=0.2501 | Orig R2=-0.0429\n"
          ]
        },
        {
          "output_type": "stream",
          "name": "stdout",
          "text": [
            " FinalCV Fold 4: train_size=189 val_size=47\n",
            "Couldn't determine BERT output dim, using default PCA: 'NoneType' object has no attribute 'bert'\n",
            "Epoch 1/3 - Loss: 0.1110\n",
            "Epoch 2/3 - Loss: 0.0382\n",
            "Epoch 3/3 - Loss: 0.0220\n"
          ]
        },
        {
          "output_type": "stream",
          "name": "stderr",
          "text": [
            "2025-05-31 23:52:56,013 - PricePredictionExperiment_RandomForestRegressor - INFO - Before reverse - price mean: 0.4727362701111664\n",
            "INFO:PricePredictionExperiment_RandomForestRegressor:Before reverse - price mean: 0.4727362701111664\n",
            "2025-05-31 23:52:56,022 - PricePredictionExperiment_RandomForestRegressor - INFO - After reverse - price mean: 67053424.65957447\n",
            "INFO:PricePredictionExperiment_RandomForestRegressor:After reverse - price mean: 67053424.65957447\n",
            "2025-05-31 23:52:56,026 - PricePredictionExperiment_RandomForestRegressor - INFO -  Fold 5/5 | Log R2=0.2716 | Orig R2=-0.0776\n",
            "INFO:PricePredictionExperiment_RandomForestRegressor: Fold 5/5 | Log R2=0.2716 | Orig R2=-0.0776\n"
          ]
        },
        {
          "output_type": "stream",
          "name": "stdout",
          "text": [
            "Couldn't determine BERT output dim, using default PCA: 'NoneType' object has no attribute 'bert'\n",
            "Epoch 1/3 - Loss: 0.0682\n",
            "Epoch 2/3 - Loss: 0.0244\n",
            "Epoch 3/3 - Loss: 0.0148\n"
          ]
        },
        {
          "output_type": "stream",
          "name": "stderr",
          "text": [
            "2025-05-31 23:53:03,392 - PricePredictionExperiment_RandomForestRegressor - INFO - Before reverse - price mean: 0.46124991486493366\n",
            "INFO:PricePredictionExperiment_RandomForestRegressor:Before reverse - price mean: 0.46124991486493366\n",
            "2025-05-31 23:53:03,396 - PricePredictionExperiment_RandomForestRegressor - INFO - After reverse - price mean: 53129052.52542374\n",
            "INFO:PricePredictionExperiment_RandomForestRegressor:After reverse - price mean: 53129052.52542374\n",
            "2025-05-31 23:53:03,595 - PricePredictionExperiment_RandomForestRegressor - INFO - Evaluation artifacts saved to /content/results/metrics\n",
            "INFO:PricePredictionExperiment_RandomForestRegressor:Evaluation artifacts saved to /content/results/metrics\n",
            "2025-05-31 23:53:03,637 - PricePredictionExperiment_RandomForestRegressor - INFO - Elapsed time for final_cv: 38.15 seconds\n",
            "INFO:PricePredictionExperiment_RandomForestRegressor:Elapsed time for final_cv: 38.15 seconds\n",
            "2025-05-31 23:53:04,151 - PricePredictionExperiment_RandomForestRegressor - INFO - Timing started for: final_model_teaching\n",
            "INFO:PricePredictionExperiment_RandomForestRegressor:Timing started for: final_model_teaching\n"
          ]
        },
        {
          "output_type": "stream",
          "name": "stdout",
          "text": [
            "['landCategory', 'wallMaterial', 'bathroom', 'renovation', 'electricity', 'heating', 'waterSupply', 'gas', 'sewerage', 'media', 'parking', 'transportAccessibility', 'saleMethod', 'seller', 'category', 'infrastructure', 'terrace', 'recreation', 'region', 'nearestPPLA', 'nearestPPLA2']\n",
            "Couldn't determine BERT output dim, using default PCA: 'NoneType' object has no attribute 'bert'\n"
          ]
        },
        {
          "output_type": "stream",
          "name": "stderr",
          "text": [
            "2025-05-31 23:53:08,698 - PricePredictionExperiment_RandomForestRegressor - INFO - [before_final_fit] CPU: 16.9%, RAM: 3.63GB/12.67GB, GPU: 0%, GPU RAM: 1.06/15.00GB\n",
            "INFO:PricePredictionExperiment_RandomForestRegressor:[before_final_fit] CPU: 16.9%, RAM: 3.63GB/12.67GB, GPU: 0%, GPU RAM: 1.06/15.00GB\n"
          ]
        },
        {
          "output_type": "stream",
          "name": "stdout",
          "text": [
            "Epoch 1/3 - Loss: 0.0876\n",
            "Epoch 2/3 - Loss: 0.0347\n",
            "Epoch 3/3 - Loss: 0.0232\n"
          ]
        },
        {
          "output_type": "stream",
          "name": "stderr",
          "text": [
            "2025-05-31 23:53:17,889 - PricePredictionExperiment_RandomForestRegressor - INFO - [after_final_fit] CPU: 5.1%, RAM: 3.61GB/12.67GB, GPU: 0%, GPU RAM: 1.06/15.00GB\n",
            "INFO:PricePredictionExperiment_RandomForestRegressor:[after_final_fit] CPU: 5.1%, RAM: 3.61GB/12.67GB, GPU: 0%, GPU RAM: 1.06/15.00GB\n"
          ]
        },
        {
          "output_type": "stream",
          "name": "stdout",
          "text": [
            "[EXTRACT] Найден transformer под именем 'text': <class 'sklearn.pipeline.Pipeline'>\n",
            "[SAVE] No tokenizer to save.\n",
            "[SAVE] All available components saved to /content/results/price_prediction_RandomForestRegressor_mixed_tfidf_pca_True_gate_False_mtf_False_ (logged to MLflow: True)\n"
          ]
        },
        {
          "output_type": "stream",
          "name": "stderr",
          "text": [
            "Registered model 'RandomForestRegressor+sample_300+rubert+pca_True+gate_False+textfeat_False' already exists. Creating a new version of this model...\n",
            "Created version '2' of model 'RandomForestRegressor+sample_300+rubert+pca_True+gate_False+textfeat_False'.\n",
            "2025-05-31 23:53:21,031 - PricePredictionExperiment_RandomForestRegressor - INFO - Model registered as 'RandomForestRegressor+sample_300+rubert+pca_True+gate_False+textfeat_False', version 2\n",
            "INFO:PricePredictionExperiment_RandomForestRegressor:Model registered as 'RandomForestRegressor+sample_300+rubert+pca_True+gate_False+textfeat_False', version 2\n",
            "2025-05-31 23:53:21,083 - PricePredictionExperiment_RandomForestRegressor - INFO - Full model saved to /content/results/price_prediction_RandomForestRegressor_mixed_tfidf_pca_True_gate_False_mtf_False_ and logged to MLflow\n",
            "INFO:PricePredictionExperiment_RandomForestRegressor:Full model saved to /content/results/price_prediction_RandomForestRegressor_mixed_tfidf_pca_True_gate_False_mtf_False_ and logged to MLflow\n",
            "2025-05-31 23:53:21,112 - PricePredictionExperiment_RandomForestRegressor - INFO - Elapsed time for final_model_teaching: 16.96 seconds\n",
            "INFO:PricePredictionExperiment_RandomForestRegressor:Elapsed time for final_model_teaching: 16.96 seconds\n",
            "2025-05-31 23:53:21,125 - PricePredictionExperiment_RandomForestRegressor - INFO - Elapsed time for total: 66.50 seconds\n",
            "INFO:PricePredictionExperiment_RandomForestRegressor:Elapsed time for total: 66.50 seconds\n",
            "2025-05-31 23:53:21,148 - PricePredictionExperiment_RandomForestRegressor - INFO - → Запуск конфигурации: price_prediction_RandomForestRegressor_text-only_rubert_pca_True_gate_False_mtf_False_\n",
            "INFO:PricePredictionExperiment_RandomForestRegressor:→ Запуск конфигурации: price_prediction_RandomForestRegressor_text-only_rubert_pca_True_gate_False_mtf_False_\n",
            "2025-05-31 23:53:21,150 - PricePredictionExperiment_RandomForestRegressor - INFO - Loading and preprocessing data...\n",
            "INFO:PricePredictionExperiment_RandomForestRegressor:Loading and preprocessing data...\n",
            "2025-05-31 23:53:21,186 - PricePredictionExperiment_RandomForestRegressor - INFO - Applying sample_size: 300\n",
            "INFO:PricePredictionExperiment_RandomForestRegressor:Applying sample_size: 300\n",
            "2025-05-31 23:53:21,201 - PricePredictionExperiment_RandomForestRegressor - INFO - Данные прошли строгую валидацию профиля.\n",
            "INFO:PricePredictionExperiment_RandomForestRegressor:Данные прошли строгую валидацию профиля.\n"
          ]
        },
        {
          "output_type": "stream",
          "name": "stdout",
          "text": [
            "['landCategory', 'wallMaterial', 'bathroom', 'renovation', 'electricity', 'heating', 'waterSupply', 'gas', 'sewerage', 'media', 'parking', 'transportAccessibility', 'saleMethod', 'seller', 'category', 'infrastructure', 'terrace', 'recreation', 'region', 'nearestPPLA', 'nearestPPLA2']\n"
          ]
        },
        {
          "output_type": "stream",
          "name": "stderr",
          "text": [
            "\u001b[32m[I 2025-05-31 23:53:41,160]\u001b[0m A new study created in memory with name: no-name-8324cdfa-1100-41f1-b4bc-04446f1df721\u001b[0m\n",
            "2025-05-31 23:53:41,368 - PricePredictionExperiment_RandomForestRegressor - INFO - Timing started for: total\n",
            "INFO:PricePredictionExperiment_RandomForestRegressor:Timing started for: total\n",
            "2025-05-31 23:53:41,382 - PricePredictionExperiment_RandomForestRegressor - INFO - ENV: python_version: 3.11.12 (main, Apr  9 2025, 08:55:54) [GCC 11.4.0]\n",
            "INFO:PricePredictionExperiment_RandomForestRegressor:ENV: python_version: 3.11.12 (main, Apr  9 2025, 08:55:54) [GCC 11.4.0]\n",
            "2025-05-31 23:53:41,395 - PricePredictionExperiment_RandomForestRegressor - INFO - ENV: platform: Linux-6.1.123+-x86_64-with-glibc2.35\n",
            "INFO:PricePredictionExperiment_RandomForestRegressor:ENV: platform: Linux-6.1.123+-x86_64-with-glibc2.35\n",
            "2025-05-31 23:53:41,424 - PricePredictionExperiment_RandomForestRegressor - INFO - ENV: sklearn_version: 1.6.1\n",
            "INFO:PricePredictionExperiment_RandomForestRegressor:ENV: sklearn_version: 1.6.1\n",
            "2025-05-31 23:53:41,438 - PricePredictionExperiment_RandomForestRegressor - INFO - ENV: pandas_version: 2.2.2\n",
            "INFO:PricePredictionExperiment_RandomForestRegressor:ENV: pandas_version: 2.2.2\n",
            "2025-05-31 23:53:41,452 - PricePredictionExperiment_RandomForestRegressor - INFO - ENV: numpy_version: 1.26.4\n",
            "INFO:PricePredictionExperiment_RandomForestRegressor:ENV: numpy_version: 1.26.4\n",
            "2025-05-31 23:53:41,465 - PricePredictionExperiment_RandomForestRegressor - INFO - ENV: torch_version: 2.6.0+cu124\n",
            "INFO:PricePredictionExperiment_RandomForestRegressor:ENV: torch_version: 2.6.0+cu124\n",
            "2025-05-31 23:53:41,478 - PricePredictionExperiment_RandomForestRegressor - INFO - ENV: cuda_available: True\n",
            "INFO:PricePredictionExperiment_RandomForestRegressor:ENV: cuda_available: True\n",
            "2025-05-31 23:53:41,491 - PricePredictionExperiment_RandomForestRegressor - INFO - ENV: cuda_device: Tesla T4\n",
            "INFO:PricePredictionExperiment_RandomForestRegressor:ENV: cuda_device: Tesla T4\n",
            "2025-05-31 23:53:41,504 - PricePredictionExperiment_RandomForestRegressor - INFO - ENV: run_time: 2025-05-31 23:53:41\n",
            "INFO:PricePredictionExperiment_RandomForestRegressor:ENV: run_time: 2025-05-31 23:53:41\n",
            "2025-05-31 23:53:41,516 - PricePredictionExperiment_RandomForestRegressor - INFO - ENV: run_hostname: bd3d025abf46\n",
            "INFO:PricePredictionExperiment_RandomForestRegressor:ENV: run_hostname: bd3d025abf46\n",
            "2025-05-31 23:53:41,612 - PricePredictionExperiment_RandomForestRegressor - INFO - Timing started for: optuna\n",
            "INFO:PricePredictionExperiment_RandomForestRegressor:Timing started for: optuna\n"
          ]
        },
        {
          "output_type": "stream",
          "name": "stdout",
          "text": [
            "CV stratified bins counts: [51 49 50]\n",
            "Running 3-fold CV on 150 samples\n",
            " Fold 0: train_size=100 val_size=50\n"
          ]
        },
        {
          "output_type": "stream",
          "name": "stderr",
          "text": [
            "2025-05-31 23:53:42,985 - PricePredictionExperiment_RandomForestRegressor - INFO - Before reverse - price mean: 0.46163744810703816\n",
            "INFO:PricePredictionExperiment_RandomForestRegressor:Before reverse - price mean: 0.46163744810703816\n",
            "2025-05-31 23:53:42,989 - PricePredictionExperiment_RandomForestRegressor - INFO - After reverse - price mean: 52492874.37999999\n",
            "INFO:PricePredictionExperiment_RandomForestRegressor:After reverse - price mean: 52492874.37999999\n",
            "2025-05-31 23:53:43,043 - PricePredictionExperiment_RandomForestRegressor - INFO - Fold 0 - Log scale: R²=0.6196, RMSE=0.1348, SMAPE=29.3846%\n",
            "Original scale: R²=0.3280, RMSE=100857826.0218, SMAPE=73.1742%\n",
            "INFO:PricePredictionExperiment_RandomForestRegressor:Fold 0 - Log scale: R²=0.6196, RMSE=0.1348, SMAPE=29.3846%\n",
            "Original scale: R²=0.3280, RMSE=100857826.0218, SMAPE=73.1742%\n"
          ]
        },
        {
          "output_type": "stream",
          "name": "stdout",
          "text": [
            " Fold 1: train_size=100 val_size=50\n"
          ]
        },
        {
          "output_type": "stream",
          "name": "stderr",
          "text": [
            "2025-05-31 23:53:44,250 - PricePredictionExperiment_RandomForestRegressor - INFO - Before reverse - price mean: 0.44923494890588567\n",
            "INFO:PricePredictionExperiment_RandomForestRegressor:Before reverse - price mean: 0.44923494890588567\n",
            "2025-05-31 23:53:44,253 - PricePredictionExperiment_RandomForestRegressor - INFO - After reverse - price mean: 30649667.2\n",
            "INFO:PricePredictionExperiment_RandomForestRegressor:After reverse - price mean: 30649667.2\n",
            "2025-05-31 23:53:44,323 - PricePredictionExperiment_RandomForestRegressor - INFO - Fold 1 - Log scale: R²=0.4703, RMSE=0.1359, SMAPE=29.0002%\n",
            "Original scale: R²=0.4119, RMSE=44634242.7636, SMAPE=77.7283%\n",
            "INFO:PricePredictionExperiment_RandomForestRegressor:Fold 1 - Log scale: R²=0.4703, RMSE=0.1359, SMAPE=29.0002%\n",
            "Original scale: R²=0.4119, RMSE=44634242.7636, SMAPE=77.7283%\n"
          ]
        },
        {
          "output_type": "stream",
          "name": "stdout",
          "text": [
            " Fold 2: train_size=100 val_size=50\n"
          ]
        },
        {
          "output_type": "stream",
          "name": "stderr",
          "text": [
            "2025-05-31 23:53:45,526 - PricePredictionExperiment_RandomForestRegressor - INFO - Before reverse - price mean: 0.48160117863933743\n",
            "INFO:PricePredictionExperiment_RandomForestRegressor:Before reverse - price mean: 0.48160117863933743\n",
            "2025-05-31 23:53:45,529 - PricePredictionExperiment_RandomForestRegressor - INFO - After reverse - price mean: 70292049.59999996\n",
            "INFO:PricePredictionExperiment_RandomForestRegressor:After reverse - price mean: 70292049.59999996\n",
            "2025-05-31 23:53:45,580 - PricePredictionExperiment_RandomForestRegressor - INFO - Fold 2 - Log scale: R²=0.6331, RMSE=0.1351, SMAPE=24.3263%\n",
            "Original scale: R²=0.1564, RMSE=139238433.9088, SMAPE=74.0579%\n",
            "INFO:PricePredictionExperiment_RandomForestRegressor:Fold 2 - Log scale: R²=0.6331, RMSE=0.1351, SMAPE=24.3263%\n",
            "Original scale: R²=0.1564, RMSE=139238433.9088, SMAPE=74.0579%\n",
            "\u001b[32m[I 2025-05-31 23:53:45,583]\u001b[0m Trial 0 finished with value: 0.5743182880969292 and parameters: {'model__bootstrap': False, 'model__max_depth': 10, 'model__max_features': 'log2', 'model__min_samples_leaf': 15, 'model__min_samples_split': 18, 'model__n_estimators': 41, 'w2v__vector_size': 300, 'w2v__window': 14, 'w2v__min_count': 3, 'w2v__sg': 1}. Best is trial 0 with value: 0.5743182880969292.\u001b[0m\n",
            "2025-05-31 23:53:45,584 - PricePredictionExperiment_RandomForestRegressor - INFO - Elapsed time for optuna: 3.97 seconds\n",
            "INFO:PricePredictionExperiment_RandomForestRegressor:Elapsed time for optuna: 3.97 seconds\n",
            "2025-05-31 23:53:45,600 - PricePredictionExperiment_RandomForestRegressor - INFO - Timing started for: final_cv\n",
            "INFO:PricePredictionExperiment_RandomForestRegressor:Timing started for: final_cv\n"
          ]
        },
        {
          "output_type": "stream",
          "name": "stdout",
          "text": [
            "Final CV stratified bins counts: [48 47 48 46 47]\n",
            "Running final 5-fold CV on 236 samples\n",
            " FinalCV Fold 0: train_size=188 val_size=48\n"
          ]
        },
        {
          "output_type": "stream",
          "name": "stderr",
          "text": [
            "2025-05-31 23:53:47,977 - PricePredictionExperiment_RandomForestRegressor - INFO - Before reverse - price mean: 0.4550678466274749\n",
            "INFO:PricePredictionExperiment_RandomForestRegressor:Before reverse - price mean: 0.4550678466274749\n",
            "2025-05-31 23:53:47,986 - PricePredictionExperiment_RandomForestRegressor - INFO - After reverse - price mean: 35495257.499999985\n",
            "INFO:PricePredictionExperiment_RandomForestRegressor:After reverse - price mean: 35495257.499999985\n",
            "2025-05-31 23:53:47,994 - PricePredictionExperiment_RandomForestRegressor - INFO -  Fold 1/5 | Log R2=0.2476 | Orig R2=0.0095\n",
            "INFO:PricePredictionExperiment_RandomForestRegressor: Fold 1/5 | Log R2=0.2476 | Orig R2=0.0095\n"
          ]
        },
        {
          "output_type": "stream",
          "name": "stdout",
          "text": [
            " FinalCV Fold 1: train_size=189 val_size=47\n"
          ]
        },
        {
          "output_type": "stream",
          "name": "stderr",
          "text": [
            "2025-05-31 23:53:51,538 - PricePredictionExperiment_RandomForestRegressor - INFO - Before reverse - price mean: 0.47295177607112204\n",
            "INFO:PricePredictionExperiment_RandomForestRegressor:Before reverse - price mean: 0.47295177607112204\n",
            "2025-05-31 23:53:51,547 - PricePredictionExperiment_RandomForestRegressor - INFO - After reverse - price mean: 50921123.40425533\n",
            "INFO:PricePredictionExperiment_RandomForestRegressor:After reverse - price mean: 50921123.40425533\n",
            "2025-05-31 23:53:51,554 - PricePredictionExperiment_RandomForestRegressor - INFO -  Fold 2/5 | Log R2=0.3252 | Orig R2=-0.0209\n",
            "INFO:PricePredictionExperiment_RandomForestRegressor: Fold 2/5 | Log R2=0.3252 | Orig R2=-0.0209\n"
          ]
        },
        {
          "output_type": "stream",
          "name": "stdout",
          "text": [
            " FinalCV Fold 2: train_size=189 val_size=47\n"
          ]
        },
        {
          "output_type": "stream",
          "name": "stderr",
          "text": [
            "2025-05-31 23:53:53,728 - PricePredictionExperiment_RandomForestRegressor - INFO - Before reverse - price mean: 0.46109879287422134\n",
            "INFO:PricePredictionExperiment_RandomForestRegressor:Before reverse - price mean: 0.46109879287422134\n",
            "2025-05-31 23:53:53,736 - PricePredictionExperiment_RandomForestRegressor - INFO - After reverse - price mean: 50421914.893617004\n",
            "INFO:PricePredictionExperiment_RandomForestRegressor:After reverse - price mean: 50421914.893617004\n",
            "2025-05-31 23:53:53,745 - PricePredictionExperiment_RandomForestRegressor - INFO -  Fold 3/5 | Log R2=0.3107 | Orig R2=-0.0473\n",
            "INFO:PricePredictionExperiment_RandomForestRegressor: Fold 3/5 | Log R2=0.3107 | Orig R2=-0.0473\n"
          ]
        },
        {
          "output_type": "stream",
          "name": "stdout",
          "text": [
            " FinalCV Fold 3: train_size=189 val_size=47\n"
          ]
        },
        {
          "output_type": "stream",
          "name": "stderr",
          "text": [
            "2025-05-31 23:53:55,866 - PricePredictionExperiment_RandomForestRegressor - INFO - Before reverse - price mean: 0.4580297314108511\n",
            "INFO:PricePredictionExperiment_RandomForestRegressor:Before reverse - price mean: 0.4580297314108511\n",
            "2025-05-31 23:53:55,873 - PricePredictionExperiment_RandomForestRegressor - INFO - After reverse - price mean: 63415391.4893617\n",
            "INFO:PricePredictionExperiment_RandomForestRegressor:After reverse - price mean: 63415391.4893617\n",
            "2025-05-31 23:53:55,879 - PricePredictionExperiment_RandomForestRegressor - INFO -  Fold 4/5 | Log R2=0.3290 | Orig R2=-0.0350\n",
            "INFO:PricePredictionExperiment_RandomForestRegressor: Fold 4/5 | Log R2=0.3290 | Orig R2=-0.0350\n"
          ]
        },
        {
          "output_type": "stream",
          "name": "stdout",
          "text": [
            " FinalCV Fold 4: train_size=189 val_size=47\n"
          ]
        },
        {
          "output_type": "stream",
          "name": "stderr",
          "text": [
            "2025-05-31 23:53:57,984 - PricePredictionExperiment_RandomForestRegressor - INFO - Before reverse - price mean: 0.4727362701111664\n",
            "INFO:PricePredictionExperiment_RandomForestRegressor:Before reverse - price mean: 0.4727362701111664\n",
            "2025-05-31 23:53:57,990 - PricePredictionExperiment_RandomForestRegressor - INFO - After reverse - price mean: 67053424.65957447\n",
            "INFO:PricePredictionExperiment_RandomForestRegressor:After reverse - price mean: 67053424.65957447\n",
            "2025-05-31 23:53:57,998 - PricePredictionExperiment_RandomForestRegressor - INFO -  Fold 5/5 | Log R2=0.3154 | Orig R2=-0.0733\n",
            "INFO:PricePredictionExperiment_RandomForestRegressor: Fold 5/5 | Log R2=0.3154 | Orig R2=-0.0733\n",
            "2025-05-31 23:54:00,644 - PricePredictionExperiment_RandomForestRegressor - INFO - Before reverse - price mean: 0.46124991486493366\n",
            "INFO:PricePredictionExperiment_RandomForestRegressor:Before reverse - price mean: 0.46124991486493366\n",
            "2025-05-31 23:54:00,653 - PricePredictionExperiment_RandomForestRegressor - INFO - After reverse - price mean: 53129052.52542374\n",
            "INFO:PricePredictionExperiment_RandomForestRegressor:After reverse - price mean: 53129052.52542374\n",
            "2025-05-31 23:54:00,884 - PricePredictionExperiment_RandomForestRegressor - INFO - Evaluation artifacts saved to /content/results/metrics\n",
            "INFO:PricePredictionExperiment_RandomForestRegressor:Evaluation artifacts saved to /content/results/metrics\n",
            "2025-05-31 23:54:00,892 - PricePredictionExperiment_RandomForestRegressor - INFO - Elapsed time for final_cv: 15.29 seconds\n",
            "INFO:PricePredictionExperiment_RandomForestRegressor:Elapsed time for final_cv: 15.29 seconds\n",
            "2025-05-31 23:54:01,421 - PricePredictionExperiment_RandomForestRegressor - INFO - Timing started for: final_model_teaching\n",
            "INFO:PricePredictionExperiment_RandomForestRegressor:Timing started for: final_model_teaching\n"
          ]
        },
        {
          "output_type": "stream",
          "name": "stdout",
          "text": [
            "['landCategory', 'wallMaterial', 'bathroom', 'renovation', 'electricity', 'heating', 'waterSupply', 'gas', 'sewerage', 'media', 'parking', 'transportAccessibility', 'saleMethod', 'seller', 'category', 'infrastructure', 'terrace', 'recreation', 'region', 'nearestPPLA', 'nearestPPLA2']\n"
          ]
        },
        {
          "output_type": "stream",
          "name": "stderr",
          "text": [
            "2025-05-31 23:54:06,140 - PricePredictionExperiment_RandomForestRegressor - INFO - [before_final_fit] CPU: 10.0%, RAM: 3.66GB/12.67GB, GPU: 0%, GPU RAM: 1.06/15.00GB\n",
            "INFO:PricePredictionExperiment_RandomForestRegressor:[before_final_fit] CPU: 10.0%, RAM: 3.66GB/12.67GB, GPU: 0%, GPU RAM: 1.06/15.00GB\n",
            "2025-05-31 23:54:09,853 - PricePredictionExperiment_RandomForestRegressor - INFO - [after_final_fit] CPU: 5.0%, RAM: 3.66GB/12.67GB, GPU: 0%, GPU RAM: 1.06/15.00GB\n",
            "INFO:PricePredictionExperiment_RandomForestRegressor:[after_final_fit] CPU: 5.0%, RAM: 3.66GB/12.67GB, GPU: 0%, GPU RAM: 1.06/15.00GB\n"
          ]
        },
        {
          "output_type": "stream",
          "name": "stdout",
          "text": [
            "[EXTRACT] Найден transformer под именем 'text': <class 'sklearn.pipeline.Pipeline'>\n",
            "[SAVE] No tokenizer to save.\n",
            "[SAVE] All available components saved to /content/results/price_prediction_RandomForestRegressor_text-only_rubert_pca_True_gate_False_mtf_False_ (logged to MLflow: True)\n"
          ]
        },
        {
          "output_type": "stream",
          "name": "stderr",
          "text": [
            "Registered model 'RandomForestRegressor+sample_300+w2v+pca_True+gate_False+textfeat_False' already exists. Creating a new version of this model...\n",
            "Created version '2' of model 'RandomForestRegressor+sample_300+w2v+pca_True+gate_False+textfeat_False'.\n",
            "2025-05-31 23:54:10,524 - PricePredictionExperiment_RandomForestRegressor - INFO - Model registered as 'RandomForestRegressor+sample_300+w2v+pca_True+gate_False+textfeat_False', version 2\n",
            "INFO:PricePredictionExperiment_RandomForestRegressor:Model registered as 'RandomForestRegressor+sample_300+w2v+pca_True+gate_False+textfeat_False', version 2\n",
            "2025-05-31 23:54:10,590 - PricePredictionExperiment_RandomForestRegressor - INFO - Full model saved to /content/results/price_prediction_RandomForestRegressor_text-only_rubert_pca_True_gate_False_mtf_False_ and logged to MLflow\n",
            "INFO:PricePredictionExperiment_RandomForestRegressor:Full model saved to /content/results/price_prediction_RandomForestRegressor_text-only_rubert_pca_True_gate_False_mtf_False_ and logged to MLflow\n",
            "2025-05-31 23:54:10,591 - PricePredictionExperiment_RandomForestRegressor - INFO - Elapsed time for final_model_teaching: 9.17 seconds\n",
            "INFO:PricePredictionExperiment_RandomForestRegressor:Elapsed time for final_model_teaching: 9.17 seconds\n",
            "2025-05-31 23:54:10,602 - PricePredictionExperiment_RandomForestRegressor - INFO - Elapsed time for total: 29.23 seconds\n",
            "INFO:PricePredictionExperiment_RandomForestRegressor:Elapsed time for total: 29.23 seconds\n",
            "2025-05-31 23:54:10,629 - PricePredictionExperiment_RandomForestRegressor - INFO - → Запуск конфигурации: price_prediction_RandomForestRegressor_text-only_w2v_pca_True_gate_False_mtf_False_\n",
            "INFO:PricePredictionExperiment_RandomForestRegressor:→ Запуск конфигурации: price_prediction_RandomForestRegressor_text-only_w2v_pca_True_gate_False_mtf_False_\n",
            "2025-05-31 23:54:10,631 - PricePredictionExperiment_RandomForestRegressor - INFO - Loading and preprocessing data...\n",
            "INFO:PricePredictionExperiment_RandomForestRegressor:Loading and preprocessing data...\n",
            "2025-05-31 23:54:10,658 - PricePredictionExperiment_RandomForestRegressor - INFO - Applying sample_size: 300\n",
            "INFO:PricePredictionExperiment_RandomForestRegressor:Applying sample_size: 300\n",
            "2025-05-31 23:54:10,667 - PricePredictionExperiment_RandomForestRegressor - INFO - Данные прошли строгую валидацию профиля.\n",
            "INFO:PricePredictionExperiment_RandomForestRegressor:Данные прошли строгую валидацию профиля.\n"
          ]
        },
        {
          "output_type": "stream",
          "name": "stdout",
          "text": [
            "['landCategory', 'wallMaterial', 'bathroom', 'renovation', 'electricity', 'heating', 'waterSupply', 'gas', 'sewerage', 'media', 'parking', 'transportAccessibility', 'saleMethod', 'seller', 'category', 'infrastructure', 'terrace', 'recreation', 'region', 'nearestPPLA', 'nearestPPLA2']\n"
          ]
        },
        {
          "output_type": "stream",
          "name": "stderr",
          "text": [
            "\u001b[32m[I 2025-05-31 23:54:24,201]\u001b[0m A new study created in memory with name: no-name-5496afe0-e489-4d2e-a5de-0df5577776e6\u001b[0m\n",
            "2025-05-31 23:54:24,412 - PricePredictionExperiment_RandomForestRegressor - INFO - Timing started for: total\n",
            "INFO:PricePredictionExperiment_RandomForestRegressor:Timing started for: total\n",
            "2025-05-31 23:54:24,424 - PricePredictionExperiment_RandomForestRegressor - INFO - ENV: python_version: 3.11.12 (main, Apr  9 2025, 08:55:54) [GCC 11.4.0]\n",
            "INFO:PricePredictionExperiment_RandomForestRegressor:ENV: python_version: 3.11.12 (main, Apr  9 2025, 08:55:54) [GCC 11.4.0]\n",
            "2025-05-31 23:54:24,436 - PricePredictionExperiment_RandomForestRegressor - INFO - ENV: platform: Linux-6.1.123+-x86_64-with-glibc2.35\n",
            "INFO:PricePredictionExperiment_RandomForestRegressor:ENV: platform: Linux-6.1.123+-x86_64-with-glibc2.35\n",
            "2025-05-31 23:54:24,450 - PricePredictionExperiment_RandomForestRegressor - INFO - ENV: sklearn_version: 1.6.1\n",
            "INFO:PricePredictionExperiment_RandomForestRegressor:ENV: sklearn_version: 1.6.1\n",
            "2025-05-31 23:54:24,465 - PricePredictionExperiment_RandomForestRegressor - INFO - ENV: pandas_version: 2.2.2\n",
            "INFO:PricePredictionExperiment_RandomForestRegressor:ENV: pandas_version: 2.2.2\n",
            "2025-05-31 23:54:24,479 - PricePredictionExperiment_RandomForestRegressor - INFO - ENV: numpy_version: 1.26.4\n",
            "INFO:PricePredictionExperiment_RandomForestRegressor:ENV: numpy_version: 1.26.4\n",
            "2025-05-31 23:54:24,507 - PricePredictionExperiment_RandomForestRegressor - INFO - ENV: torch_version: 2.6.0+cu124\n",
            "INFO:PricePredictionExperiment_RandomForestRegressor:ENV: torch_version: 2.6.0+cu124\n",
            "2025-05-31 23:54:24,519 - PricePredictionExperiment_RandomForestRegressor - INFO - ENV: cuda_available: True\n",
            "INFO:PricePredictionExperiment_RandomForestRegressor:ENV: cuda_available: True\n",
            "2025-05-31 23:54:24,531 - PricePredictionExperiment_RandomForestRegressor - INFO - ENV: cuda_device: Tesla T4\n",
            "INFO:PricePredictionExperiment_RandomForestRegressor:ENV: cuda_device: Tesla T4\n",
            "2025-05-31 23:54:24,543 - PricePredictionExperiment_RandomForestRegressor - INFO - ENV: run_time: 2025-05-31 23:54:24\n",
            "INFO:PricePredictionExperiment_RandomForestRegressor:ENV: run_time: 2025-05-31 23:54:24\n",
            "2025-05-31 23:54:24,556 - PricePredictionExperiment_RandomForestRegressor - INFO - ENV: run_hostname: bd3d025abf46\n",
            "INFO:PricePredictionExperiment_RandomForestRegressor:ENV: run_hostname: bd3d025abf46\n",
            "2025-05-31 23:54:24,652 - PricePredictionExperiment_RandomForestRegressor - INFO - Timing started for: optuna\n",
            "INFO:PricePredictionExperiment_RandomForestRegressor:Timing started for: optuna\n",
            "2025-05-31 23:54:24,945 - PricePredictionExperiment_RandomForestRegressor - INFO - Before reverse - price mean: 0.46163744810703816\n",
            "INFO:PricePredictionExperiment_RandomForestRegressor:Before reverse - price mean: 0.46163744810703816\n",
            "2025-05-31 23:54:24,949 - PricePredictionExperiment_RandomForestRegressor - INFO - After reverse - price mean: 52492874.37999999\n",
            "INFO:PricePredictionExperiment_RandomForestRegressor:After reverse - price mean: 52492874.37999999\n"
          ]
        },
        {
          "output_type": "stream",
          "name": "stdout",
          "text": [
            "CV stratified bins counts: [51 49 50]\n",
            "Running 3-fold CV on 150 samples\n",
            " Fold 0: train_size=100 val_size=50\n"
          ]
        },
        {
          "output_type": "stream",
          "name": "stderr",
          "text": [
            "2025-05-31 23:54:25,024 - PricePredictionExperiment_RandomForestRegressor - INFO - Fold 0 - Log scale: R²=0.1675, RMSE=0.1994, SMAPE=36.7940%\n",
            "Original scale: R²=-0.0851, RMSE=128165072.3130, SMAPE=89.2781%\n",
            "INFO:PricePredictionExperiment_RandomForestRegressor:Fold 0 - Log scale: R²=0.1675, RMSE=0.1994, SMAPE=36.7940%\n",
            "Original scale: R²=-0.0851, RMSE=128165072.3130, SMAPE=89.2781%\n",
            "2025-05-31 23:54:25,196 - PricePredictionExperiment_RandomForestRegressor - INFO - Before reverse - price mean: 0.44923494890588567\n",
            "INFO:PricePredictionExperiment_RandomForestRegressor:Before reverse - price mean: 0.44923494890588567\n",
            "2025-05-31 23:54:25,201 - PricePredictionExperiment_RandomForestRegressor - INFO - After reverse - price mean: 30649667.2\n",
            "INFO:PricePredictionExperiment_RandomForestRegressor:After reverse - price mean: 30649667.2\n"
          ]
        },
        {
          "output_type": "stream",
          "name": "stdout",
          "text": [
            " Fold 1: train_size=100 val_size=50\n"
          ]
        },
        {
          "output_type": "stream",
          "name": "stderr",
          "text": [
            "2025-05-31 23:54:25,259 - PricePredictionExperiment_RandomForestRegressor - INFO - Fold 1 - Log scale: R²=0.1431, RMSE=0.1729, SMAPE=33.6443%\n",
            "Original scale: R²=-0.0475, RMSE=59568937.5658, SMAPE=88.4447%\n",
            "INFO:PricePredictionExperiment_RandomForestRegressor:Fold 1 - Log scale: R²=0.1431, RMSE=0.1729, SMAPE=33.6443%\n",
            "Original scale: R²=-0.0475, RMSE=59568937.5658, SMAPE=88.4447%\n",
            "2025-05-31 23:54:25,435 - PricePredictionExperiment_RandomForestRegressor - INFO - Before reverse - price mean: 0.48160117863933743\n",
            "INFO:PricePredictionExperiment_RandomForestRegressor:Before reverse - price mean: 0.48160117863933743\n",
            "2025-05-31 23:54:25,438 - PricePredictionExperiment_RandomForestRegressor - INFO - After reverse - price mean: 70292049.59999996\n",
            "INFO:PricePredictionExperiment_RandomForestRegressor:After reverse - price mean: 70292049.59999996\n"
          ]
        },
        {
          "output_type": "stream",
          "name": "stdout",
          "text": [
            " Fold 2: train_size=100 val_size=50\n"
          ]
        },
        {
          "output_type": "stream",
          "name": "stderr",
          "text": [
            "2025-05-31 23:54:25,508 - PricePredictionExperiment_RandomForestRegressor - INFO - Fold 2 - Log scale: R²=0.1469, RMSE=0.2059, SMAPE=34.5010%\n",
            "Original scale: R²=-0.1266, RMSE=160907006.7290, SMAPE=94.4675%\n",
            "INFO:PricePredictionExperiment_RandomForestRegressor:Fold 2 - Log scale: R²=0.1469, RMSE=0.2059, SMAPE=34.5010%\n",
            "Original scale: R²=-0.1266, RMSE=160907006.7290, SMAPE=94.4675%\n",
            "\u001b[32m[I 2025-05-31 23:54:25,511]\u001b[0m Trial 0 finished with value: 0.15251953681464206 and parameters: {'model__bootstrap': False, 'model__max_depth': 10, 'model__max_features': 'log2', 'model__min_samples_leaf': 15, 'model__min_samples_split': 18, 'model__n_estimators': 41, 'tfidf__max_features': 494, 'tfidf__ngram_range_max': 3, 'tfidf__min_df': 3, 'tfidf__max_df': 0.7545474901621302}. Best is trial 0 with value: 0.15251953681464206.\u001b[0m\n",
            "2025-05-31 23:54:25,512 - PricePredictionExperiment_RandomForestRegressor - INFO - Elapsed time for optuna: 0.86 seconds\n",
            "INFO:PricePredictionExperiment_RandomForestRegressor:Elapsed time for optuna: 0.86 seconds\n",
            "2025-05-31 23:54:25,526 - PricePredictionExperiment_RandomForestRegressor - INFO - Timing started for: final_cv\n",
            "INFO:PricePredictionExperiment_RandomForestRegressor:Timing started for: final_cv\n"
          ]
        },
        {
          "output_type": "stream",
          "name": "stdout",
          "text": [
            "Final CV stratified bins counts: [48 47 48 46 47]\n",
            "Running final 5-fold CV on 236 samples\n",
            " FinalCV Fold 0: train_size=188 val_size=48\n"
          ]
        },
        {
          "output_type": "stream",
          "name": "stderr",
          "text": [
            "2025-05-31 23:54:26,055 - PricePredictionExperiment_RandomForestRegressor - INFO - Before reverse - price mean: 0.4550678466274749\n",
            "INFO:PricePredictionExperiment_RandomForestRegressor:Before reverse - price mean: 0.4550678466274749\n",
            "2025-05-31 23:54:26,058 - PricePredictionExperiment_RandomForestRegressor - INFO - After reverse - price mean: 35495257.499999985\n",
            "INFO:PricePredictionExperiment_RandomForestRegressor:After reverse - price mean: 35495257.499999985\n",
            "2025-05-31 23:54:26,067 - PricePredictionExperiment_RandomForestRegressor - INFO -  Fold 1/5 | Log R2=0.1946 | Orig R2=0.0046\n",
            "INFO:PricePredictionExperiment_RandomForestRegressor: Fold 1/5 | Log R2=0.1946 | Orig R2=0.0046\n"
          ]
        },
        {
          "output_type": "stream",
          "name": "stdout",
          "text": [
            " FinalCV Fold 1: train_size=189 val_size=47\n"
          ]
        },
        {
          "output_type": "stream",
          "name": "stderr",
          "text": [
            "2025-05-31 23:54:26,542 - PricePredictionExperiment_RandomForestRegressor - INFO - Before reverse - price mean: 0.47295177607112204\n",
            "INFO:PricePredictionExperiment_RandomForestRegressor:Before reverse - price mean: 0.47295177607112204\n",
            "2025-05-31 23:54:26,552 - PricePredictionExperiment_RandomForestRegressor - INFO - After reverse - price mean: 50921123.40425533\n",
            "INFO:PricePredictionExperiment_RandomForestRegressor:After reverse - price mean: 50921123.40425533\n",
            "2025-05-31 23:54:26,567 - PricePredictionExperiment_RandomForestRegressor - INFO -  Fold 2/5 | Log R2=0.3255 | Orig R2=-0.0045\n",
            "INFO:PricePredictionExperiment_RandomForestRegressor: Fold 2/5 | Log R2=0.3255 | Orig R2=-0.0045\n"
          ]
        },
        {
          "output_type": "stream",
          "name": "stdout",
          "text": [
            " FinalCV Fold 2: train_size=189 val_size=47\n"
          ]
        },
        {
          "output_type": "stream",
          "name": "stderr",
          "text": [
            "2025-05-31 23:54:27,073 - PricePredictionExperiment_RandomForestRegressor - INFO - Before reverse - price mean: 0.46109879287422134\n",
            "INFO:PricePredictionExperiment_RandomForestRegressor:Before reverse - price mean: 0.46109879287422134\n",
            "2025-05-31 23:54:27,083 - PricePredictionExperiment_RandomForestRegressor - INFO - After reverse - price mean: 50421914.893617004\n",
            "INFO:PricePredictionExperiment_RandomForestRegressor:After reverse - price mean: 50421914.893617004\n",
            "2025-05-31 23:54:27,093 - PricePredictionExperiment_RandomForestRegressor - INFO -  Fold 3/5 | Log R2=0.3243 | Orig R2=0.0007\n",
            "INFO:PricePredictionExperiment_RandomForestRegressor: Fold 3/5 | Log R2=0.3243 | Orig R2=0.0007\n"
          ]
        },
        {
          "output_type": "stream",
          "name": "stdout",
          "text": [
            " FinalCV Fold 3: train_size=189 val_size=47\n"
          ]
        },
        {
          "output_type": "stream",
          "name": "stderr",
          "text": [
            "2025-05-31 23:54:27,786 - PricePredictionExperiment_RandomForestRegressor - INFO - Before reverse - price mean: 0.4580297314108511\n",
            "INFO:PricePredictionExperiment_RandomForestRegressor:Before reverse - price mean: 0.4580297314108511\n",
            "2025-05-31 23:54:27,793 - PricePredictionExperiment_RandomForestRegressor - INFO - After reverse - price mean: 63415391.4893617\n",
            "INFO:PricePredictionExperiment_RandomForestRegressor:After reverse - price mean: 63415391.4893617\n",
            "2025-05-31 23:54:27,805 - PricePredictionExperiment_RandomForestRegressor - INFO -  Fold 4/5 | Log R2=0.2067 | Orig R2=-0.0522\n",
            "INFO:PricePredictionExperiment_RandomForestRegressor: Fold 4/5 | Log R2=0.2067 | Orig R2=-0.0522\n"
          ]
        },
        {
          "output_type": "stream",
          "name": "stdout",
          "text": [
            " FinalCV Fold 4: train_size=189 val_size=47\n"
          ]
        },
        {
          "output_type": "stream",
          "name": "stderr",
          "text": [
            "2025-05-31 23:54:28,562 - PricePredictionExperiment_RandomForestRegressor - INFO - Before reverse - price mean: 0.4727362701111664\n",
            "INFO:PricePredictionExperiment_RandomForestRegressor:Before reverse - price mean: 0.4727362701111664\n",
            "2025-05-31 23:54:28,565 - PricePredictionExperiment_RandomForestRegressor - INFO - After reverse - price mean: 67053424.65957447\n",
            "INFO:PricePredictionExperiment_RandomForestRegressor:After reverse - price mean: 67053424.65957447\n",
            "2025-05-31 23:54:28,571 - PricePredictionExperiment_RandomForestRegressor - INFO -  Fold 5/5 | Log R2=0.2640 | Orig R2=-0.0641\n",
            "INFO:PricePredictionExperiment_RandomForestRegressor: Fold 5/5 | Log R2=0.2640 | Orig R2=-0.0641\n",
            "2025-05-31 23:54:29,607 - PricePredictionExperiment_RandomForestRegressor - INFO - Before reverse - price mean: 0.46124991486493366\n",
            "INFO:PricePredictionExperiment_RandomForestRegressor:Before reverse - price mean: 0.46124991486493366\n",
            "2025-05-31 23:54:29,616 - PricePredictionExperiment_RandomForestRegressor - INFO - After reverse - price mean: 53129052.52542374\n",
            "INFO:PricePredictionExperiment_RandomForestRegressor:After reverse - price mean: 53129052.52542374\n",
            "2025-05-31 23:54:29,903 - PricePredictionExperiment_RandomForestRegressor - INFO - Evaluation artifacts saved to /content/results/metrics\n",
            "INFO:PricePredictionExperiment_RandomForestRegressor:Evaluation artifacts saved to /content/results/metrics\n",
            "2025-05-31 23:54:29,915 - PricePredictionExperiment_RandomForestRegressor - INFO - Elapsed time for final_cv: 4.39 seconds\n",
            "INFO:PricePredictionExperiment_RandomForestRegressor:Elapsed time for final_cv: 4.39 seconds\n",
            "2025-05-31 23:54:30,561 - PricePredictionExperiment_RandomForestRegressor - INFO - Timing started for: final_model_teaching\n",
            "INFO:PricePredictionExperiment_RandomForestRegressor:Timing started for: final_model_teaching\n"
          ]
        },
        {
          "output_type": "stream",
          "name": "stdout",
          "text": [
            "['landCategory', 'wallMaterial', 'bathroom', 'renovation', 'electricity', 'heating', 'waterSupply', 'gas', 'sewerage', 'media', 'parking', 'transportAccessibility', 'saleMethod', 'seller', 'category', 'infrastructure', 'terrace', 'recreation', 'region', 'nearestPPLA', 'nearestPPLA2']\n"
          ]
        },
        {
          "output_type": "stream",
          "name": "stderr",
          "text": [
            "2025-05-31 23:54:35,299 - PricePredictionExperiment_RandomForestRegressor - INFO - [before_final_fit] CPU: 9.8%, RAM: 3.60GB/12.67GB, GPU: 0%, GPU RAM: 1.06/15.00GB\n",
            "INFO:PricePredictionExperiment_RandomForestRegressor:[before_final_fit] CPU: 9.8%, RAM: 3.60GB/12.67GB, GPU: 0%, GPU RAM: 1.06/15.00GB\n",
            "2025-05-31 23:54:36,167 - PricePredictionExperiment_RandomForestRegressor - INFO - [after_final_fit] CPU: 3.3%, RAM: 3.60GB/12.67GB, GPU: 0%, GPU RAM: 1.06/15.00GB\n",
            "INFO:PricePredictionExperiment_RandomForestRegressor:[after_final_fit] CPU: 3.3%, RAM: 3.60GB/12.67GB, GPU: 0%, GPU RAM: 1.06/15.00GB\n"
          ]
        },
        {
          "output_type": "stream",
          "name": "stdout",
          "text": [
            "[EXTRACT] Найден transformer под именем 'text': <class 'sklearn.pipeline.Pipeline'>\n",
            "[SAVE] No tokenizer to save.\n",
            "[SAVE] All available components saved to /content/results/price_prediction_RandomForestRegressor_text-only_w2v_pca_True_gate_False_mtf_False_ (logged to MLflow: True)\n"
          ]
        },
        {
          "output_type": "stream",
          "name": "stderr",
          "text": [
            "Registered model 'RandomForestRegressor+sample_300+tfidf+pca_True+gate_False+textfeat_False' already exists. Creating a new version of this model...\n",
            "Created version '2' of model 'RandomForestRegressor+sample_300+tfidf+pca_True+gate_False+textfeat_False'.\n",
            "2025-05-31 23:54:36,816 - PricePredictionExperiment_RandomForestRegressor - INFO - Model registered as 'RandomForestRegressor+sample_300+tfidf+pca_True+gate_False+textfeat_False', version 2\n",
            "INFO:PricePredictionExperiment_RandomForestRegressor:Model registered as 'RandomForestRegressor+sample_300+tfidf+pca_True+gate_False+textfeat_False', version 2\n",
            "2025-05-31 23:54:36,869 - PricePredictionExperiment_RandomForestRegressor - INFO - Full model saved to /content/results/price_prediction_RandomForestRegressor_text-only_w2v_pca_True_gate_False_mtf_False_ and logged to MLflow\n",
            "INFO:PricePredictionExperiment_RandomForestRegressor:Full model saved to /content/results/price_prediction_RandomForestRegressor_text-only_w2v_pca_True_gate_False_mtf_False_ and logged to MLflow\n",
            "2025-05-31 23:54:36,871 - PricePredictionExperiment_RandomForestRegressor - INFO - Elapsed time for final_model_teaching: 6.31 seconds\n",
            "INFO:PricePredictionExperiment_RandomForestRegressor:Elapsed time for final_model_teaching: 6.31 seconds\n",
            "2025-05-31 23:54:36,882 - PricePredictionExperiment_RandomForestRegressor - INFO - Elapsed time for total: 12.47 seconds\n",
            "INFO:PricePredictionExperiment_RandomForestRegressor:Elapsed time for total: 12.47 seconds\n"
          ]
        },
        {
          "output_type": "display_data",
          "data": {
            "text/plain": [
              "Empty DataFrame\n",
              "Columns: []\n",
              "Index: []"
            ],
            "text/html": [
              "\n",
              "  <div id=\"df-c799c5bc-926a-479c-82e0-9be083a5775f\" class=\"colab-df-container\">\n",
              "    <div>\n",
              "<style scoped>\n",
              "    .dataframe tbody tr th:only-of-type {\n",
              "        vertical-align: middle;\n",
              "    }\n",
              "\n",
              "    .dataframe tbody tr th {\n",
              "        vertical-align: top;\n",
              "    }\n",
              "\n",
              "    .dataframe thead th {\n",
              "        text-align: right;\n",
              "    }\n",
              "</style>\n",
              "<table border=\"1\" class=\"dataframe\">\n",
              "  <thead>\n",
              "    <tr style=\"text-align: right;\">\n",
              "      <th></th>\n",
              "    </tr>\n",
              "  </thead>\n",
              "  <tbody>\n",
              "  </tbody>\n",
              "</table>\n",
              "</div>\n",
              "    <div class=\"colab-df-buttons\">\n",
              "\n",
              "  <div class=\"colab-df-container\">\n",
              "    <button class=\"colab-df-convert\" onclick=\"convertToInteractive('df-c799c5bc-926a-479c-82e0-9be083a5775f')\"\n",
              "            title=\"Convert this dataframe to an interactive table.\"\n",
              "            style=\"display:none;\">\n",
              "\n",
              "  <svg xmlns=\"http://www.w3.org/2000/svg\" height=\"24px\" viewBox=\"0 -960 960 960\">\n",
              "    <path d=\"M120-120v-720h720v720H120Zm60-500h600v-160H180v160Zm220 220h160v-160H400v160Zm0 220h160v-160H400v160ZM180-400h160v-160H180v160Zm440 0h160v-160H620v160ZM180-180h160v-160H180v160Zm440 0h160v-160H620v160Z\"/>\n",
              "  </svg>\n",
              "    </button>\n",
              "\n",
              "  <style>\n",
              "    .colab-df-container {\n",
              "      display:flex;\n",
              "      gap: 12px;\n",
              "    }\n",
              "\n",
              "    .colab-df-convert {\n",
              "      background-color: #E8F0FE;\n",
              "      border: none;\n",
              "      border-radius: 50%;\n",
              "      cursor: pointer;\n",
              "      display: none;\n",
              "      fill: #1967D2;\n",
              "      height: 32px;\n",
              "      padding: 0 0 0 0;\n",
              "      width: 32px;\n",
              "    }\n",
              "\n",
              "    .colab-df-convert:hover {\n",
              "      background-color: #E2EBFA;\n",
              "      box-shadow: 0px 1px 2px rgba(60, 64, 67, 0.3), 0px 1px 3px 1px rgba(60, 64, 67, 0.15);\n",
              "      fill: #174EA6;\n",
              "    }\n",
              "\n",
              "    .colab-df-buttons div {\n",
              "      margin-bottom: 4px;\n",
              "    }\n",
              "\n",
              "    [theme=dark] .colab-df-convert {\n",
              "      background-color: #3B4455;\n",
              "      fill: #D2E3FC;\n",
              "    }\n",
              "\n",
              "    [theme=dark] .colab-df-convert:hover {\n",
              "      background-color: #434B5C;\n",
              "      box-shadow: 0px 1px 3px 1px rgba(0, 0, 0, 0.15);\n",
              "      filter: drop-shadow(0px 1px 2px rgba(0, 0, 0, 0.3));\n",
              "      fill: #FFFFFF;\n",
              "    }\n",
              "  </style>\n",
              "\n",
              "    <script>\n",
              "      const buttonEl =\n",
              "        document.querySelector('#df-c799c5bc-926a-479c-82e0-9be083a5775f button.colab-df-convert');\n",
              "      buttonEl.style.display =\n",
              "        google.colab.kernel.accessAllowed ? 'block' : 'none';\n",
              "\n",
              "      async function convertToInteractive(key) {\n",
              "        const element = document.querySelector('#df-c799c5bc-926a-479c-82e0-9be083a5775f');\n",
              "        const dataTable =\n",
              "          await google.colab.kernel.invokeFunction('convertToInteractive',\n",
              "                                                    [key], {});\n",
              "        if (!dataTable) return;\n",
              "\n",
              "        const docLinkHtml = 'Like what you see? Visit the ' +\n",
              "          '<a target=\"_blank\" href=https://colab.research.google.com/notebooks/data_table.ipynb>data table notebook</a>'\n",
              "          + ' to learn more about interactive tables.';\n",
              "        element.innerHTML = '';\n",
              "        dataTable['output_type'] = 'display_data';\n",
              "        await google.colab.output.renderOutput(dataTable, element);\n",
              "        const docLink = document.createElement('div');\n",
              "        docLink.innerHTML = docLinkHtml;\n",
              "        element.appendChild(docLink);\n",
              "      }\n",
              "    </script>\n",
              "  </div>\n",
              "\n",
              "    </div>\n",
              "  </div>\n"
            ],
            "application/vnd.google.colaboratory.intrinsic+json": {
              "type": "dataframe",
              "variable_name": "results_df",
              "summary": "{\n  \"name\": \"results_df\",\n  \"rows\": 0,\n  \"fields\": []\n}"
            }
          },
          "metadata": {}
        },
        {
          "output_type": "stream",
          "name": "stdout",
          "text": [
            "Drive already mounted at /content/drive; to attempt to forcibly remount, call drive.mount(\"/content/drive\", force_remount=True).\n"
          ]
        }
      ]
    },
    {
      "cell_type": "markdown",
      "source": [
        "### ANN experiment initiation\n"
      ],
      "metadata": {
        "id": "hsZZTB4asXGn"
      }
    },
    {
      "cell_type": "code",
      "source": [
        "import logging\n",
        "import pandas as pd\n",
        "import json\n",
        "from pathlib import Path\n",
        "\n",
        "# 3. Создаем временную папку для результатов\n",
        "!mkdir -p /content/results\n",
        "\n",
        "# 4. Основной код эксперимента\n",
        "if __name__ == \"__main__\":\n",
        "    logging.basicConfig(\n",
        "        level=logging.INFO,\n",
        "        format='%(asctime)s - %(name)s - %(levelname)s - %(message)s',\n",
        "        handlers=[\n",
        "            logging.FileHandler('experiment.log'),\n",
        "            logging.StreamHandler()\n",
        "        ]\n",
        "    )\n",
        "    logger = logging.getLogger(__name__)\n",
        "\n",
        "    params = {\n",
        "        'model__learning_rate': [0.0005, 0.001, 0.002, 0.003],  # сужаем диапазон\n",
        "        'model__neurons_layer1': [100, 128, 150, 180, 200],\n",
        "        'model__neurons_layer2': [40, 64, 80, 100],\n",
        "        'model__neurons_layer3': [16, 32, 48, 64],\n",
        "        'model__batch_size': [64, 96, 128],  # убираем очень маленькие батчи\n",
        "        'model__epochs': [70, 100, 120],  # увеличиваем верхнюю границу\n",
        "        'model__l1_reg': [0.0005, 0.001, 0.005, 0.01],\n",
        "        'model__l2_reg': [0.0005, 0.001, 0.005, 0.01],\n",
        "        'model__activation': ['sigmoid']  # оставляем только sigmoid\n",
        "    }\n",
        "\n",
        "    combinations = [\n",
        "        ('categorical-only', None, False, False, True, False),\n",
        "        ('categorical-only', None, False, False, False, False),\n",
        "        ('mixed', 'rubert', True, False, False, False),\n",
        "        ('mixed', 'w2v', True, False, False, False),\n",
        "        ('mixed', 'tfidf', True, False, False, False),\n",
        "        ('text-only', 'rubert', True, False, False, False),\n",
        "        ('text-only', 'w2v', True, False, False, False),\n",
        "        ('text-only', 'tfidf', True, False, False, False),\n",
        "    ]\n",
        "\n",
        "    try:\n",
        "        # Полные пути к файлам в репозитории\n",
        "        repo_path = Path('/content/Price-prediction-with-textual-data')\n",
        "\n",
        "        experiment = PricePredictionExperiment(\n",
        "            model_name='ANNRegressor',\n",
        "            model_params=params,\n",
        "            experiment_name=\"price_prediction\",\n",
        "            data_path=str(repo_path/'experiments'/'sample_300.csv'), # путь к короткому доку - если нужен полный\n",
        "            results_dir='/content/results',  # временная папка в Colab\n",
        "            random_state=42,\n",
        "            use_hex_features=True,\n",
        "            hex_resolution=10,\n",
        "            verbose=True,\n",
        "            manual_text_params=True,\n",
        "            manual_text_params_path=str(repo_path/'experiments'/'manual_text_features_negative.json'),\n",
        "            profile_json_path=str(repo_path/'experiments'/'uniques_dict.json')\n",
        "        )\n",
        "\n",
        "        # Запуск экспериментов\n",
        "        results = experiment.run_for_combinations(\n",
        "            combinations=combinations,\n",
        "            n_trials=1, # для полного воспроизведения тестов = 50\n",
        "            sample_size=300, # для полного воспроизведения тестов = 65000\n",
        "            subsample=150 # для полного воспроизведения тестов = 20000\n",
        "        )\n",
        "\n",
        "        # Сохранение и отображение результатов\n",
        "        results_df = experiment.create_results_table(list(results.keys()))\n",
        "        display(results_df)\n",
        "\n",
        "        # Сохраняем результаты в CSV\n",
        "        results_df.to_csv('/content/results/experiment_results.csv', index=False)\n",
        "        logger.info(\"Эксперимент успешно завершен!\")\n",
        "\n",
        "        # Копируем результаты в Google Drive (если нужно)\n",
        "        from google.colab import drive\n",
        "        drive.mount('/content/drive')\n",
        "        !cp -r /content/results '/content/drive/MyDrive/thesis/DROP_SAMPLE/ANN'\n",
        "        logger.info(\"Результаты сохранены в Google Drive\")\n",
        "\n",
        "    except Exception as e:\n",
        "        logger.error(f\"Fatal error in main execution: {str(e)}\", exc_info=True)\n",
        "        raise"
      ],
      "metadata": {
        "colab": {
          "base_uri": "https://localhost:8080/",
          "height": 1000
        },
        "id": "A-SItM7zsXa3",
        "outputId": "ca27c664-9c40-4bed-c8df-1e34dda2ff25"
      },
      "execution_count": null,
      "outputs": [
        {
          "output_type": "stream",
          "name": "stderr",
          "text": [
            "2025-05-31 23:54:53,861 - PricePredictionExperiment_ANNRegressor - INFO - → Запуск конфигурации: price_prediction_ANNRegressor_None_none_pca_None_gate_None_mtf_True_\n",
            "INFO:PricePredictionExperiment_ANNRegressor:→ Запуск конфигурации: price_prediction_ANNRegressor_None_none_pca_None_gate_None_mtf_True_\n",
            "2025-05-31 23:54:53,866 - PricePredictionExperiment_ANNRegressor - INFO - Loading and preprocessing data...\n",
            "INFO:PricePredictionExperiment_ANNRegressor:Loading and preprocessing data...\n",
            "2025-05-31 23:54:53,908 - PricePredictionExperiment_ANNRegressor - INFO - Applying sample_size: 300\n",
            "INFO:PricePredictionExperiment_ANNRegressor:Applying sample_size: 300\n",
            "2025-05-31 23:54:53,922 - PricePredictionExperiment_ANNRegressor - INFO - Данные прошли строгую валидацию профиля.\n",
            "INFO:PricePredictionExperiment_ANNRegressor:Данные прошли строгую валидацию профиля.\n"
          ]
        },
        {
          "output_type": "stream",
          "name": "stdout",
          "text": [
            "['landCategory', 'wallMaterial', 'bathroom', 'renovation', 'electricity', 'heating', 'waterSupply', 'gas', 'sewerage', 'media', 'parking', 'transportAccessibility', 'saleMethod', 'seller', 'category', 'infrastructure', 'terrace', 'recreation', 'region', 'nearestPPLA', 'nearestPPLA2']\n"
          ]
        },
        {
          "output_type": "stream",
          "name": "stderr",
          "text": [
            "\u001b[32m[I 2025-05-31 23:55:07,461]\u001b[0m A new study created in memory with name: no-name-76dbb481-d3ed-4588-8e52-33070dda7b50\u001b[0m\n",
            "2025-05-31 23:55:07,709 - PricePredictionExperiment_ANNRegressor - INFO - Timing started for: total\n",
            "INFO:PricePredictionExperiment_ANNRegressor:Timing started for: total\n",
            "2025-05-31 23:55:07,722 - PricePredictionExperiment_ANNRegressor - INFO - ENV: python_version: 3.11.12 (main, Apr  9 2025, 08:55:54) [GCC 11.4.0]\n",
            "INFO:PricePredictionExperiment_ANNRegressor:ENV: python_version: 3.11.12 (main, Apr  9 2025, 08:55:54) [GCC 11.4.0]\n",
            "2025-05-31 23:55:07,735 - PricePredictionExperiment_ANNRegressor - INFO - ENV: platform: Linux-6.1.123+-x86_64-with-glibc2.35\n",
            "INFO:PricePredictionExperiment_ANNRegressor:ENV: platform: Linux-6.1.123+-x86_64-with-glibc2.35\n",
            "2025-05-31 23:55:07,747 - PricePredictionExperiment_ANNRegressor - INFO - ENV: sklearn_version: 1.6.1\n",
            "INFO:PricePredictionExperiment_ANNRegressor:ENV: sklearn_version: 1.6.1\n",
            "2025-05-31 23:55:07,758 - PricePredictionExperiment_ANNRegressor - INFO - ENV: pandas_version: 2.2.2\n",
            "INFO:PricePredictionExperiment_ANNRegressor:ENV: pandas_version: 2.2.2\n",
            "2025-05-31 23:55:07,769 - PricePredictionExperiment_ANNRegressor - INFO - ENV: numpy_version: 1.26.4\n",
            "INFO:PricePredictionExperiment_ANNRegressor:ENV: numpy_version: 1.26.4\n",
            "2025-05-31 23:55:07,781 - PricePredictionExperiment_ANNRegressor - INFO - ENV: torch_version: 2.6.0+cu124\n",
            "INFO:PricePredictionExperiment_ANNRegressor:ENV: torch_version: 2.6.0+cu124\n",
            "2025-05-31 23:55:07,792 - PricePredictionExperiment_ANNRegressor - INFO - ENV: cuda_available: True\n",
            "INFO:PricePredictionExperiment_ANNRegressor:ENV: cuda_available: True\n",
            "2025-05-31 23:55:07,804 - PricePredictionExperiment_ANNRegressor - INFO - ENV: cuda_device: Tesla T4\n",
            "INFO:PricePredictionExperiment_ANNRegressor:ENV: cuda_device: Tesla T4\n",
            "2025-05-31 23:55:07,818 - PricePredictionExperiment_ANNRegressor - INFO - ENV: run_time: 2025-05-31 23:55:07\n",
            "INFO:PricePredictionExperiment_ANNRegressor:ENV: run_time: 2025-05-31 23:55:07\n",
            "2025-05-31 23:55:07,830 - PricePredictionExperiment_ANNRegressor - INFO - ENV: run_hostname: bd3d025abf46\n",
            "INFO:PricePredictionExperiment_ANNRegressor:ENV: run_hostname: bd3d025abf46\n",
            "2025-05-31 23:55:07,919 - PricePredictionExperiment_ANNRegressor - INFO - Timing started for: optuna\n",
            "INFO:PricePredictionExperiment_ANNRegressor:Timing started for: optuna\n"
          ]
        },
        {
          "output_type": "stream",
          "name": "stdout",
          "text": [
            "CV stratified bins counts: [51 49 50]\n",
            "Running 3-fold CV on 150 samples\n",
            " Fold 0: train_size=100 val_size=50\n"
          ]
        },
        {
          "output_type": "stream",
          "name": "stderr",
          "text": [
            "2025-05-31 23:55:08,376 - PricePredictionExperiment_ANNRegressor - INFO - Before reverse - price mean: 0.46163744810703816\n",
            "INFO:PricePredictionExperiment_ANNRegressor:Before reverse - price mean: 0.46163744810703816\n",
            "2025-05-31 23:55:08,382 - PricePredictionExperiment_ANNRegressor - INFO - After reverse - price mean: 52492874.37999999\n",
            "INFO:PricePredictionExperiment_ANNRegressor:After reverse - price mean: 52492874.37999999\n",
            "2025-05-31 23:55:08,441 - PricePredictionExperiment_ANNRegressor - INFO - Fold 0 - Log scale: R²=-0.9628, RMSE=0.3063, SMAPE=54.2527%\n",
            "Original scale: R²=0.0432, RMSE=120348523.7328, SMAPE=139.8799%\n",
            "INFO:PricePredictionExperiment_ANNRegressor:Fold 0 - Log scale: R²=-0.9628, RMSE=0.3063, SMAPE=54.2527%\n",
            "Original scale: R²=0.0432, RMSE=120348523.7328, SMAPE=139.8799%\n",
            "2025-05-31 23:55:08,506 - PricePredictionExperiment_ANNRegressor - INFO - Before reverse - price mean: 0.44923494890588567\n",
            "INFO:PricePredictionExperiment_ANNRegressor:Before reverse - price mean: 0.44923494890588567\n",
            "2025-05-31 23:55:08,511 - PricePredictionExperiment_ANNRegressor - INFO - After reverse - price mean: 30649667.2\n",
            "INFO:PricePredictionExperiment_ANNRegressor:After reverse - price mean: 30649667.2\n",
            "2025-05-31 23:55:08,580 - PricePredictionExperiment_ANNRegressor - INFO - Fold 1 - Log scale: R²=-2.3937, RMSE=0.3440, SMAPE=57.2600%\n",
            "Original scale: R²=-1.3796, RMSE=89784388.8570, SMAPE=147.3769%\n",
            "INFO:PricePredictionExperiment_ANNRegressor:Fold 1 - Log scale: R²=-2.3937, RMSE=0.3440, SMAPE=57.2600%\n",
            "Original scale: R²=-1.3796, RMSE=89784388.8570, SMAPE=147.3769%\n",
            "2025-05-31 23:55:08,644 - PricePredictionExperiment_ANNRegressor - INFO - Before reverse - price mean: 0.48160117863933743\n",
            "INFO:PricePredictionExperiment_ANNRegressor:Before reverse - price mean: 0.48160117863933743\n"
          ]
        },
        {
          "output_type": "stream",
          "name": "stdout",
          "text": [
            " Fold 1: train_size=100 val_size=50\n",
            " Fold 2: train_size=100 val_size=50\n"
          ]
        },
        {
          "output_type": "stream",
          "name": "stderr",
          "text": [
            "2025-05-31 23:55:08,651 - PricePredictionExperiment_ANNRegressor - INFO - After reverse - price mean: 70292049.59999996\n",
            "INFO:PricePredictionExperiment_ANNRegressor:After reverse - price mean: 70292049.59999996\n",
            "2025-05-31 23:55:08,704 - PricePredictionExperiment_ANNRegressor - INFO - Fold 2 - Log scale: R²=-0.7586, RMSE=0.2957, SMAPE=51.4635%\n",
            "Original scale: R²=-0.0066, RMSE=152092275.9346, SMAPE=142.6816%\n",
            "INFO:PricePredictionExperiment_ANNRegressor:Fold 2 - Log scale: R²=-0.7586, RMSE=0.2957, SMAPE=51.4635%\n",
            "Original scale: R²=-0.0066, RMSE=152092275.9346, SMAPE=142.6816%\n",
            "\u001b[32m[I 2025-05-31 23:55:08,710]\u001b[0m Trial 0 finished with value: -1.3717060441261755 and parameters: {'model__learning_rate': 0.0014363502971184061, 'model__neurons_layer1': 196, 'model__neurons_layer2': 84, 'model__neurons_layer3': 45, 'model__batch_size': 74, 'model__epochs': 77, 'model__l1_reg': 0.001051794315597895, 'model__l2_reg': 0.008728673384861885, 'model__activation': 'sigmoid'}. Best is trial 0 with value: -1.3717060441261755.\u001b[0m\n",
            "2025-05-31 23:55:08,711 - PricePredictionExperiment_ANNRegressor - INFO - Elapsed time for optuna: 0.79 seconds\n",
            "INFO:PricePredictionExperiment_ANNRegressor:Elapsed time for optuna: 0.79 seconds\n",
            "2025-05-31 23:55:08,728 - PricePredictionExperiment_ANNRegressor - INFO - Timing started for: final_cv\n",
            "INFO:PricePredictionExperiment_ANNRegressor:Timing started for: final_cv\n"
          ]
        },
        {
          "output_type": "stream",
          "name": "stdout",
          "text": [
            "Final CV stratified bins counts: [48 47 48 46 47]\n",
            "Running final 5-fold CV on 236 samples\n",
            " FinalCV Fold 0: train_size=188 val_size=48\n"
          ]
        },
        {
          "output_type": "stream",
          "name": "stderr",
          "text": [
            "2025-05-31 23:55:09,081 - PricePredictionExperiment_ANNRegressor - INFO - Before reverse - price mean: 0.4550678466274749\n",
            "INFO:PricePredictionExperiment_ANNRegressor:Before reverse - price mean: 0.4550678466274749\n",
            "2025-05-31 23:55:09,086 - PricePredictionExperiment_ANNRegressor - INFO - After reverse - price mean: 35495257.499999985\n",
            "INFO:PricePredictionExperiment_ANNRegressor:After reverse - price mean: 35495257.499999985\n",
            "2025-05-31 23:55:09,093 - PricePredictionExperiment_ANNRegressor - INFO -  Fold 1/5 | Log R2=0.7560 | Orig R2=0.7291\n",
            "INFO:PricePredictionExperiment_ANNRegressor: Fold 1/5 | Log R2=0.7560 | Orig R2=0.7291\n",
            "2025-05-31 23:55:09,287 - PricePredictionExperiment_ANNRegressor - INFO - Before reverse - price mean: 0.47295177607112204\n",
            "INFO:PricePredictionExperiment_ANNRegressor:Before reverse - price mean: 0.47295177607112204\n",
            "2025-05-31 23:55:09,291 - PricePredictionExperiment_ANNRegressor - INFO - After reverse - price mean: 50921123.40425533\n",
            "INFO:PricePredictionExperiment_ANNRegressor:After reverse - price mean: 50921123.40425533\n",
            "2025-05-31 23:55:09,298 - PricePredictionExperiment_ANNRegressor - INFO -  Fold 2/5 | Log R2=0.6930 | Orig R2=0.4212\n",
            "INFO:PricePredictionExperiment_ANNRegressor: Fold 2/5 | Log R2=0.6930 | Orig R2=0.4212\n"
          ]
        },
        {
          "output_type": "stream",
          "name": "stdout",
          "text": [
            " FinalCV Fold 1: train_size=189 val_size=47\n",
            " FinalCV Fold 2: train_size=189 val_size=47\n"
          ]
        },
        {
          "output_type": "stream",
          "name": "stderr",
          "text": [
            "2025-05-31 23:55:09,527 - PricePredictionExperiment_ANNRegressor - INFO - Before reverse - price mean: 0.46109879287422134\n",
            "INFO:PricePredictionExperiment_ANNRegressor:Before reverse - price mean: 0.46109879287422134\n",
            "2025-05-31 23:55:09,534 - PricePredictionExperiment_ANNRegressor - INFO - After reverse - price mean: 50421914.893617004\n",
            "INFO:PricePredictionExperiment_ANNRegressor:After reverse - price mean: 50421914.893617004\n",
            "2025-05-31 23:55:09,541 - PricePredictionExperiment_ANNRegressor - INFO -  Fold 3/5 | Log R2=0.5666 | Orig R2=0.1482\n",
            "INFO:PricePredictionExperiment_ANNRegressor: Fold 3/5 | Log R2=0.5666 | Orig R2=0.1482\n",
            "2025-05-31 23:55:09,613 - PricePredictionExperiment_ANNRegressor - INFO - Before reverse - price mean: 0.4580297314108511\n",
            "INFO:PricePredictionExperiment_ANNRegressor:Before reverse - price mean: 0.4580297314108511\n",
            "2025-05-31 23:55:09,616 - PricePredictionExperiment_ANNRegressor - INFO - After reverse - price mean: 63415391.4893617\n",
            "INFO:PricePredictionExperiment_ANNRegressor:After reverse - price mean: 63415391.4893617\n",
            "2025-05-31 23:55:09,620 - PricePredictionExperiment_ANNRegressor - INFO -  Fold 4/5 | Log R2=-0.0832 | Orig R2=-0.0387\n",
            "INFO:PricePredictionExperiment_ANNRegressor: Fold 4/5 | Log R2=-0.0832 | Orig R2=-0.0387\n"
          ]
        },
        {
          "output_type": "stream",
          "name": "stdout",
          "text": [
            " FinalCV Fold 3: train_size=189 val_size=47\n",
            " FinalCV Fold 4: train_size=189 val_size=47\n"
          ]
        },
        {
          "output_type": "stream",
          "name": "stderr",
          "text": [
            "2025-05-31 23:55:09,750 - PricePredictionExperiment_ANNRegressor - INFO - Before reverse - price mean: 0.4727362701111664\n",
            "INFO:PricePredictionExperiment_ANNRegressor:Before reverse - price mean: 0.4727362701111664\n",
            "2025-05-31 23:55:09,756 - PricePredictionExperiment_ANNRegressor - INFO - After reverse - price mean: 67053424.65957447\n",
            "INFO:PricePredictionExperiment_ANNRegressor:After reverse - price mean: 67053424.65957447\n",
            "2025-05-31 23:55:09,762 - PricePredictionExperiment_ANNRegressor - INFO -  Fold 5/5 | Log R2=0.6828 | Orig R2=0.2317\n",
            "INFO:PricePredictionExperiment_ANNRegressor: Fold 5/5 | Log R2=0.6828 | Orig R2=0.2317\n",
            "2025-05-31 23:55:10,026 - PricePredictionExperiment_ANNRegressor - INFO - Before reverse - price mean: 0.46124991486493366\n",
            "INFO:PricePredictionExperiment_ANNRegressor:Before reverse - price mean: 0.46124991486493366\n",
            "2025-05-31 23:55:10,030 - PricePredictionExperiment_ANNRegressor - INFO - After reverse - price mean: 53129052.52542374\n",
            "INFO:PricePredictionExperiment_ANNRegressor:After reverse - price mean: 53129052.52542374\n",
            "2025-05-31 23:55:10,097 - PricePredictionExperiment_ANNRegressor - INFO - Evaluation artifacts saved to /content/results/metrics\n",
            "INFO:PricePredictionExperiment_ANNRegressor:Evaluation artifacts saved to /content/results/metrics\n",
            "2025-05-31 23:55:10,103 - PricePredictionExperiment_ANNRegressor - INFO - Elapsed time for final_cv: 1.38 seconds\n",
            "INFO:PricePredictionExperiment_ANNRegressor:Elapsed time for final_cv: 1.38 seconds\n",
            "2025-05-31 23:55:10,678 - PricePredictionExperiment_ANNRegressor - INFO - Timing started for: final_model_teaching\n",
            "INFO:PricePredictionExperiment_ANNRegressor:Timing started for: final_model_teaching\n",
            "2025-05-31 23:55:10,680 - PricePredictionExperiment_ANNRegressor - INFO - Elapsed time for final_model_teaching: 0.00 seconds\n",
            "INFO:PricePredictionExperiment_ANNRegressor:Elapsed time for final_model_teaching: 0.00 seconds\n",
            "2025-05-31 23:55:10,699 - PricePredictionExperiment_ANNRegressor - INFO - Elapsed time for total: 2.99 seconds\n",
            "INFO:PricePredictionExperiment_ANNRegressor:Elapsed time for total: 2.99 seconds\n",
            "2025-05-31 23:55:10,724 - PricePredictionExperiment_ANNRegressor - INFO - → Запуск конфигурации: price_prediction_ANNRegressor_categorical-only_none_pca_False_gate_False_mtf_True_\n",
            "INFO:PricePredictionExperiment_ANNRegressor:→ Запуск конфигурации: price_prediction_ANNRegressor_categorical-only_none_pca_False_gate_False_mtf_True_\n",
            "2025-05-31 23:55:10,726 - PricePredictionExperiment_ANNRegressor - INFO - Loading and preprocessing data...\n",
            "INFO:PricePredictionExperiment_ANNRegressor:Loading and preprocessing data...\n",
            "2025-05-31 23:55:10,759 - PricePredictionExperiment_ANNRegressor - INFO - Applying sample_size: 300\n",
            "INFO:PricePredictionExperiment_ANNRegressor:Applying sample_size: 300\n",
            "2025-05-31 23:55:10,776 - PricePredictionExperiment_ANNRegressor - INFO - Данные прошли строгую валидацию профиля.\n",
            "INFO:PricePredictionExperiment_ANNRegressor:Данные прошли строгую валидацию профиля.\n"
          ]
        },
        {
          "output_type": "stream",
          "name": "stdout",
          "text": [
            "['landCategory', 'wallMaterial', 'bathroom', 'renovation', 'electricity', 'heating', 'waterSupply', 'gas', 'sewerage', 'media', 'parking', 'transportAccessibility', 'saleMethod', 'seller', 'category', 'infrastructure', 'terrace', 'recreation', 'region', 'nearestPPLA', 'nearestPPLA2']\n"
          ]
        },
        {
          "output_type": "stream",
          "name": "stderr",
          "text": [
            "\u001b[32m[I 2025-05-31 23:55:23,922]\u001b[0m A new study created in memory with name: no-name-18c846b9-0138-4bc0-bcb3-9311f49fb06f\u001b[0m\n",
            "2025-05-31 23:55:24,178 - PricePredictionExperiment_ANNRegressor - INFO - Timing started for: total\n",
            "INFO:PricePredictionExperiment_ANNRegressor:Timing started for: total\n",
            "2025-05-31 23:55:24,193 - PricePredictionExperiment_ANNRegressor - INFO - ENV: python_version: 3.11.12 (main, Apr  9 2025, 08:55:54) [GCC 11.4.0]\n",
            "INFO:PricePredictionExperiment_ANNRegressor:ENV: python_version: 3.11.12 (main, Apr  9 2025, 08:55:54) [GCC 11.4.0]\n",
            "2025-05-31 23:55:24,218 - PricePredictionExperiment_ANNRegressor - INFO - ENV: platform: Linux-6.1.123+-x86_64-with-glibc2.35\n",
            "INFO:PricePredictionExperiment_ANNRegressor:ENV: platform: Linux-6.1.123+-x86_64-with-glibc2.35\n",
            "2025-05-31 23:55:24,230 - PricePredictionExperiment_ANNRegressor - INFO - ENV: sklearn_version: 1.6.1\n",
            "INFO:PricePredictionExperiment_ANNRegressor:ENV: sklearn_version: 1.6.1\n",
            "2025-05-31 23:55:24,245 - PricePredictionExperiment_ANNRegressor - INFO - ENV: pandas_version: 2.2.2\n",
            "INFO:PricePredictionExperiment_ANNRegressor:ENV: pandas_version: 2.2.2\n",
            "2025-05-31 23:55:24,263 - PricePredictionExperiment_ANNRegressor - INFO - ENV: numpy_version: 1.26.4\n",
            "INFO:PricePredictionExperiment_ANNRegressor:ENV: numpy_version: 1.26.4\n",
            "2025-05-31 23:55:24,289 - PricePredictionExperiment_ANNRegressor - INFO - ENV: torch_version: 2.6.0+cu124\n",
            "INFO:PricePredictionExperiment_ANNRegressor:ENV: torch_version: 2.6.0+cu124\n",
            "2025-05-31 23:55:24,305 - PricePredictionExperiment_ANNRegressor - INFO - ENV: cuda_available: True\n",
            "INFO:PricePredictionExperiment_ANNRegressor:ENV: cuda_available: True\n",
            "2025-05-31 23:55:24,326 - PricePredictionExperiment_ANNRegressor - INFO - ENV: cuda_device: Tesla T4\n",
            "INFO:PricePredictionExperiment_ANNRegressor:ENV: cuda_device: Tesla T4\n",
            "2025-05-31 23:55:24,338 - PricePredictionExperiment_ANNRegressor - INFO - ENV: run_time: 2025-05-31 23:55:24\n",
            "INFO:PricePredictionExperiment_ANNRegressor:ENV: run_time: 2025-05-31 23:55:24\n",
            "2025-05-31 23:55:24,351 - PricePredictionExperiment_ANNRegressor - INFO - ENV: run_hostname: bd3d025abf46\n",
            "INFO:PricePredictionExperiment_ANNRegressor:ENV: run_hostname: bd3d025abf46\n",
            "2025-05-31 23:55:24,459 - PricePredictionExperiment_ANNRegressor - INFO - Timing started for: optuna\n",
            "INFO:PricePredictionExperiment_ANNRegressor:Timing started for: optuna\n",
            "2025-05-31 23:55:24,596 - PricePredictionExperiment_ANNRegressor - INFO - Before reverse - price mean: 0.46163744810703816\n",
            "INFO:PricePredictionExperiment_ANNRegressor:Before reverse - price mean: 0.46163744810703816\n",
            "2025-05-31 23:55:24,600 - PricePredictionExperiment_ANNRegressor - INFO - After reverse - price mean: 52492874.37999999\n",
            "INFO:PricePredictionExperiment_ANNRegressor:After reverse - price mean: 52492874.37999999\n",
            "2025-05-31 23:55:24,650 - PricePredictionExperiment_ANNRegressor - INFO - Fold 0 - Log scale: R²=0.2056, RMSE=0.1948, SMAPE=36.7466%\n",
            "Original scale: R²=-0.0557, RMSE=126413479.5959, SMAPE=90.0563%\n",
            "INFO:PricePredictionExperiment_ANNRegressor:Fold 0 - Log scale: R²=0.2056, RMSE=0.1948, SMAPE=36.7466%\n",
            "Original scale: R²=-0.0557, RMSE=126413479.5959, SMAPE=90.0563%\n",
            "2025-05-31 23:55:24,694 - PricePredictionExperiment_ANNRegressor - INFO - Before reverse - price mean: 0.44923494890588567\n",
            "INFO:PricePredictionExperiment_ANNRegressor:Before reverse - price mean: 0.44923494890588567\n",
            "2025-05-31 23:55:24,698 - PricePredictionExperiment_ANNRegressor - INFO - After reverse - price mean: 30649667.2\n",
            "INFO:PricePredictionExperiment_ANNRegressor:After reverse - price mean: 30649667.2\n"
          ]
        },
        {
          "output_type": "stream",
          "name": "stdout",
          "text": [
            "CV stratified bins counts: [51 49 50]\n",
            "Running 3-fold CV on 150 samples\n",
            " Fold 0: train_size=100 val_size=50\n",
            " Fold 1: train_size=100 val_size=50\n"
          ]
        },
        {
          "output_type": "stream",
          "name": "stderr",
          "text": [
            "2025-05-31 23:55:24,767 - PricePredictionExperiment_ANNRegressor - INFO - Fold 1 - Log scale: R²=-0.7759, RMSE=0.2489, SMAPE=45.1568%\n",
            "Original scale: R²=0.0553, RMSE=56570463.6814, SMAPE=118.4388%\n",
            "INFO:PricePredictionExperiment_ANNRegressor:Fold 1 - Log scale: R²=-0.7759, RMSE=0.2489, SMAPE=45.1568%\n",
            "Original scale: R²=0.0553, RMSE=56570463.6814, SMAPE=118.4388%\n",
            "2025-05-31 23:55:24,809 - PricePredictionExperiment_ANNRegressor - INFO - Before reverse - price mean: 0.48160117863933743\n",
            "INFO:PricePredictionExperiment_ANNRegressor:Before reverse - price mean: 0.48160117863933743\n",
            "2025-05-31 23:55:24,812 - PricePredictionExperiment_ANNRegressor - INFO - After reverse - price mean: 70292049.59999996\n",
            "INFO:PricePredictionExperiment_ANNRegressor:After reverse - price mean: 70292049.59999996\n",
            "2025-05-31 23:55:24,863 - PricePredictionExperiment_ANNRegressor - INFO - Fold 2 - Log scale: R²=0.0027, RMSE=0.2227, SMAPE=39.7917%\n",
            "Original scale: R²=-0.0865, RMSE=158016229.3363, SMAPE=111.1538%\n",
            "INFO:PricePredictionExperiment_ANNRegressor:Fold 2 - Log scale: R²=0.0027, RMSE=0.2227, SMAPE=39.7917%\n",
            "Original scale: R²=-0.0865, RMSE=158016229.3363, SMAPE=111.1538%\n",
            "\u001b[32m[I 2025-05-31 23:55:24,866]\u001b[0m Trial 0 finished with value: -0.18921943915978867 and parameters: {'model__learning_rate': 0.0014363502971184061, 'model__neurons_layer1': 196, 'model__neurons_layer2': 84, 'model__neurons_layer3': 45, 'model__batch_size': 74, 'model__epochs': 77, 'model__l1_reg': 0.001051794315597895, 'model__l2_reg': 0.008728673384861885, 'model__activation': 'sigmoid'}. Best is trial 0 with value: -0.18921943915978867.\u001b[0m\n",
            "2025-05-31 23:55:24,867 - PricePredictionExperiment_ANNRegressor - INFO - Elapsed time for optuna: 0.41 seconds\n",
            "INFO:PricePredictionExperiment_ANNRegressor:Elapsed time for optuna: 0.41 seconds\n",
            "2025-05-31 23:55:24,879 - PricePredictionExperiment_ANNRegressor - INFO - Timing started for: final_cv\n",
            "INFO:PricePredictionExperiment_ANNRegressor:Timing started for: final_cv\n"
          ]
        },
        {
          "output_type": "stream",
          "name": "stdout",
          "text": [
            " Fold 2: train_size=100 val_size=50\n"
          ]
        },
        {
          "output_type": "stream",
          "name": "stderr",
          "text": [
            "2025-05-31 23:55:25,054 - PricePredictionExperiment_ANNRegressor - INFO - Before reverse - price mean: 0.4550678466274749\n",
            "INFO:PricePredictionExperiment_ANNRegressor:Before reverse - price mean: 0.4550678466274749\n",
            "2025-05-31 23:55:25,057 - PricePredictionExperiment_ANNRegressor - INFO - After reverse - price mean: 35495257.499999985\n",
            "INFO:PricePredictionExperiment_ANNRegressor:After reverse - price mean: 35495257.499999985\n",
            "2025-05-31 23:55:25,061 - PricePredictionExperiment_ANNRegressor - INFO -  Fold 1/5 | Log R2=-1.0230 | Orig R2=0.0005\n",
            "INFO:PricePredictionExperiment_ANNRegressor: Fold 1/5 | Log R2=-1.0230 | Orig R2=0.0005\n"
          ]
        },
        {
          "output_type": "stream",
          "name": "stdout",
          "text": [
            "Final CV stratified bins counts: [48 47 48 46 47]\n",
            "Running final 5-fold CV on 236 samples\n",
            " FinalCV Fold 0: train_size=188 val_size=48\n",
            " FinalCV Fold 1: train_size=189 val_size=47\n"
          ]
        },
        {
          "output_type": "stream",
          "name": "stderr",
          "text": [
            "2025-05-31 23:55:25,239 - PricePredictionExperiment_ANNRegressor - INFO - Before reverse - price mean: 0.47295177607112204\n",
            "INFO:PricePredictionExperiment_ANNRegressor:Before reverse - price mean: 0.47295177607112204\n",
            "2025-05-31 23:55:25,242 - PricePredictionExperiment_ANNRegressor - INFO - After reverse - price mean: 50921123.40425533\n",
            "INFO:PricePredictionExperiment_ANNRegressor:After reverse - price mean: 50921123.40425533\n",
            "2025-05-31 23:55:25,247 - PricePredictionExperiment_ANNRegressor - INFO -  Fold 2/5 | Log R2=0.6649 | Orig R2=0.3526\n",
            "INFO:PricePredictionExperiment_ANNRegressor: Fold 2/5 | Log R2=0.6649 | Orig R2=0.3526\n"
          ]
        },
        {
          "output_type": "stream",
          "name": "stdout",
          "text": [
            " FinalCV Fold 2: train_size=189 val_size=47\n"
          ]
        },
        {
          "output_type": "stream",
          "name": "stderr",
          "text": [
            "2025-05-31 23:55:25,487 - PricePredictionExperiment_ANNRegressor - INFO - Before reverse - price mean: 0.46109879287422134\n",
            "INFO:PricePredictionExperiment_ANNRegressor:Before reverse - price mean: 0.46109879287422134\n",
            "2025-05-31 23:55:25,490 - PricePredictionExperiment_ANNRegressor - INFO - After reverse - price mean: 50421914.893617004\n",
            "INFO:PricePredictionExperiment_ANNRegressor:After reverse - price mean: 50421914.893617004\n",
            "2025-05-31 23:55:25,494 - PricePredictionExperiment_ANNRegressor - INFO -  Fold 3/5 | Log R2=0.5623 | Orig R2=0.1606\n",
            "INFO:PricePredictionExperiment_ANNRegressor: Fold 3/5 | Log R2=0.5623 | Orig R2=0.1606\n",
            "2025-05-31 23:55:25,634 - PricePredictionExperiment_ANNRegressor - INFO - Before reverse - price mean: 0.4580297314108511\n",
            "INFO:PricePredictionExperiment_ANNRegressor:Before reverse - price mean: 0.4580297314108511\n",
            "2025-05-31 23:55:25,638 - PricePredictionExperiment_ANNRegressor - INFO - After reverse - price mean: 63415391.4893617\n",
            "INFO:PricePredictionExperiment_ANNRegressor:After reverse - price mean: 63415391.4893617\n",
            "2025-05-31 23:55:25,644 - PricePredictionExperiment_ANNRegressor - INFO -  Fold 4/5 | Log R2=0.7582 | Orig R2=0.2589\n",
            "INFO:PricePredictionExperiment_ANNRegressor: Fold 4/5 | Log R2=0.7582 | Orig R2=0.2589\n"
          ]
        },
        {
          "output_type": "stream",
          "name": "stdout",
          "text": [
            " FinalCV Fold 3: train_size=189 val_size=47\n",
            " FinalCV Fold 4: train_size=189 val_size=47\n"
          ]
        },
        {
          "output_type": "stream",
          "name": "stderr",
          "text": [
            "2025-05-31 23:55:25,714 - PricePredictionExperiment_ANNRegressor - INFO - Before reverse - price mean: 0.4727362701111664\n",
            "INFO:PricePredictionExperiment_ANNRegressor:Before reverse - price mean: 0.4727362701111664\n",
            "2025-05-31 23:55:25,717 - PricePredictionExperiment_ANNRegressor - INFO - After reverse - price mean: 67053424.65957447\n",
            "INFO:PricePredictionExperiment_ANNRegressor:After reverse - price mean: 67053424.65957447\n",
            "2025-05-31 23:55:25,722 - PricePredictionExperiment_ANNRegressor - INFO -  Fold 5/5 | Log R2=-0.1762 | Orig R2=-0.0624\n",
            "INFO:PricePredictionExperiment_ANNRegressor: Fold 5/5 | Log R2=-0.1762 | Orig R2=-0.0624\n",
            "2025-05-31 23:55:25,918 - PricePredictionExperiment_ANNRegressor - INFO - Before reverse - price mean: 0.46124991486493366\n",
            "INFO:PricePredictionExperiment_ANNRegressor:Before reverse - price mean: 0.46124991486493366\n",
            "2025-05-31 23:55:25,922 - PricePredictionExperiment_ANNRegressor - INFO - After reverse - price mean: 53129052.52542374\n",
            "INFO:PricePredictionExperiment_ANNRegressor:After reverse - price mean: 53129052.52542374\n",
            "2025-05-31 23:55:26,127 - PricePredictionExperiment_ANNRegressor - INFO - Evaluation artifacts saved to /content/results/metrics\n",
            "INFO:PricePredictionExperiment_ANNRegressor:Evaluation artifacts saved to /content/results/metrics\n",
            "2025-05-31 23:55:26,133 - PricePredictionExperiment_ANNRegressor - INFO - Elapsed time for final_cv: 1.25 seconds\n",
            "INFO:PricePredictionExperiment_ANNRegressor:Elapsed time for final_cv: 1.25 seconds\n",
            "2025-05-31 23:55:26,662 - PricePredictionExperiment_ANNRegressor - INFO - Timing started for: final_model_teaching\n",
            "INFO:PricePredictionExperiment_ANNRegressor:Timing started for: final_model_teaching\n",
            "2025-05-31 23:55:26,664 - PricePredictionExperiment_ANNRegressor - INFO - Elapsed time for final_model_teaching: 0.00 seconds\n",
            "INFO:PricePredictionExperiment_ANNRegressor:Elapsed time for final_model_teaching: 0.00 seconds\n",
            "2025-05-31 23:55:26,680 - PricePredictionExperiment_ANNRegressor - INFO - Elapsed time for total: 2.50 seconds\n",
            "INFO:PricePredictionExperiment_ANNRegressor:Elapsed time for total: 2.50 seconds\n",
            "2025-05-31 23:55:26,703 - PricePredictionExperiment_ANNRegressor - INFO - → Запуск конфигурации: price_prediction_ANNRegressor_categorical-only_none_pca_False_gate_False_mtf_False_\n",
            "INFO:PricePredictionExperiment_ANNRegressor:→ Запуск конфигурации: price_prediction_ANNRegressor_categorical-only_none_pca_False_gate_False_mtf_False_\n",
            "2025-05-31 23:55:26,707 - PricePredictionExperiment_ANNRegressor - INFO - Loading and preprocessing data...\n",
            "INFO:PricePredictionExperiment_ANNRegressor:Loading and preprocessing data...\n",
            "2025-05-31 23:55:26,732 - PricePredictionExperiment_ANNRegressor - INFO - Applying sample_size: 300\n",
            "INFO:PricePredictionExperiment_ANNRegressor:Applying sample_size: 300\n",
            "2025-05-31 23:55:26,739 - PricePredictionExperiment_ANNRegressor - INFO - Данные прошли строгую валидацию профиля.\n",
            "INFO:PricePredictionExperiment_ANNRegressor:Данные прошли строгую валидацию профиля.\n"
          ]
        },
        {
          "output_type": "stream",
          "name": "stdout",
          "text": [
            "['landCategory', 'wallMaterial', 'bathroom', 'renovation', 'electricity', 'heating', 'waterSupply', 'gas', 'sewerage', 'media', 'parking', 'transportAccessibility', 'saleMethod', 'seller', 'category', 'infrastructure', 'terrace', 'recreation', 'region', 'nearestPPLA', 'nearestPPLA2']\n"
          ]
        },
        {
          "output_type": "stream",
          "name": "stderr",
          "text": [
            "\u001b[32m[I 2025-05-31 23:55:39,183]\u001b[0m A new study created in memory with name: no-name-33e39d44-3e3e-4fc9-8e82-319936662f9c\u001b[0m\n",
            "2025-05-31 23:55:39,414 - PricePredictionExperiment_ANNRegressor - INFO - Timing started for: total\n",
            "INFO:PricePredictionExperiment_ANNRegressor:Timing started for: total\n",
            "2025-05-31 23:55:39,427 - PricePredictionExperiment_ANNRegressor - INFO - ENV: python_version: 3.11.12 (main, Apr  9 2025, 08:55:54) [GCC 11.4.0]\n",
            "INFO:PricePredictionExperiment_ANNRegressor:ENV: python_version: 3.11.12 (main, Apr  9 2025, 08:55:54) [GCC 11.4.0]\n",
            "2025-05-31 23:55:39,438 - PricePredictionExperiment_ANNRegressor - INFO - ENV: platform: Linux-6.1.123+-x86_64-with-glibc2.35\n",
            "INFO:PricePredictionExperiment_ANNRegressor:ENV: platform: Linux-6.1.123+-x86_64-with-glibc2.35\n",
            "2025-05-31 23:55:39,452 - PricePredictionExperiment_ANNRegressor - INFO - ENV: sklearn_version: 1.6.1\n",
            "INFO:PricePredictionExperiment_ANNRegressor:ENV: sklearn_version: 1.6.1\n",
            "2025-05-31 23:55:39,464 - PricePredictionExperiment_ANNRegressor - INFO - ENV: pandas_version: 2.2.2\n",
            "INFO:PricePredictionExperiment_ANNRegressor:ENV: pandas_version: 2.2.2\n",
            "2025-05-31 23:55:39,476 - PricePredictionExperiment_ANNRegressor - INFO - ENV: numpy_version: 1.26.4\n",
            "INFO:PricePredictionExperiment_ANNRegressor:ENV: numpy_version: 1.26.4\n",
            "2025-05-31 23:55:39,489 - PricePredictionExperiment_ANNRegressor - INFO - ENV: torch_version: 2.6.0+cu124\n",
            "INFO:PricePredictionExperiment_ANNRegressor:ENV: torch_version: 2.6.0+cu124\n",
            "2025-05-31 23:55:39,501 - PricePredictionExperiment_ANNRegressor - INFO - ENV: cuda_available: True\n",
            "INFO:PricePredictionExperiment_ANNRegressor:ENV: cuda_available: True\n",
            "2025-05-31 23:55:39,513 - PricePredictionExperiment_ANNRegressor - INFO - ENV: cuda_device: Tesla T4\n",
            "INFO:PricePredictionExperiment_ANNRegressor:ENV: cuda_device: Tesla T4\n",
            "2025-05-31 23:55:39,524 - PricePredictionExperiment_ANNRegressor - INFO - ENV: run_time: 2025-05-31 23:55:39\n",
            "INFO:PricePredictionExperiment_ANNRegressor:ENV: run_time: 2025-05-31 23:55:39\n",
            "2025-05-31 23:55:39,537 - PricePredictionExperiment_ANNRegressor - INFO - ENV: run_hostname: bd3d025abf46\n",
            "INFO:PricePredictionExperiment_ANNRegressor:ENV: run_hostname: bd3d025abf46\n",
            "2025-05-31 23:55:39,636 - PricePredictionExperiment_ANNRegressor - INFO - Timing started for: optuna\n",
            "INFO:PricePredictionExperiment_ANNRegressor:Timing started for: optuna\n"
          ]
        },
        {
          "output_type": "stream",
          "name": "stdout",
          "text": [
            "CV stratified bins counts: [51 49 50]\n",
            "Running 3-fold CV on 150 samples\n",
            " Fold 0: train_size=100 val_size=50\n",
            "Epoch 1/3 - Loss: 0.2223\n",
            "Epoch 2/3 - Loss: 0.0923\n",
            "Epoch 3/3 - Loss: 0.0602\n"
          ]
        },
        {
          "output_type": "stream",
          "name": "stderr",
          "text": [
            "2025-05-31 23:55:42,404 - PricePredictionExperiment_ANNRegressor - INFO - Before reverse - price mean: 0.46163744810703816\n",
            "INFO:PricePredictionExperiment_ANNRegressor:Before reverse - price mean: 0.46163744810703816\n",
            "2025-05-31 23:55:42,408 - PricePredictionExperiment_ANNRegressor - INFO - After reverse - price mean: 52492874.37999999\n",
            "INFO:PricePredictionExperiment_ANNRegressor:After reverse - price mean: 52492874.37999999\n",
            "2025-05-31 23:55:42,462 - PricePredictionExperiment_ANNRegressor - INFO - Fold 0 - Log scale: R²=-0.1592, RMSE=0.2354, SMAPE=44.1287%\n",
            "Original scale: R²=0.0038, RMSE=122798677.7961, SMAPE=112.2650%\n",
            "INFO:PricePredictionExperiment_ANNRegressor:Fold 0 - Log scale: R²=-0.1592, RMSE=0.2354, SMAPE=44.1287%\n",
            "Original scale: R²=0.0038, RMSE=122798677.7961, SMAPE=112.2650%\n"
          ]
        },
        {
          "output_type": "stream",
          "name": "stdout",
          "text": [
            " Fold 1: train_size=100 val_size=50\n",
            "Epoch 1/3 - Loss: 0.1157\n",
            "Epoch 2/3 - Loss: 0.0766\n",
            "Epoch 3/3 - Loss: 0.0375\n"
          ]
        },
        {
          "output_type": "stream",
          "name": "stderr",
          "text": [
            "2025-05-31 23:55:45,073 - PricePredictionExperiment_ANNRegressor - INFO - Before reverse - price mean: 0.44923494890588567\n",
            "INFO:PricePredictionExperiment_ANNRegressor:Before reverse - price mean: 0.44923494890588567\n",
            "2025-05-31 23:55:45,076 - PricePredictionExperiment_ANNRegressor - INFO - After reverse - price mean: 30649667.2\n",
            "INFO:PricePredictionExperiment_ANNRegressor:After reverse - price mean: 30649667.2\n",
            "2025-05-31 23:55:45,144 - PricePredictionExperiment_ANNRegressor - INFO - Fold 1 - Log scale: R²=0.4358, RMSE=0.1403, SMAPE=24.1956%\n",
            "Original scale: R²=0.3620, RMSE=46490322.9863, SMAPE=62.6154%\n",
            "INFO:PricePredictionExperiment_ANNRegressor:Fold 1 - Log scale: R²=0.4358, RMSE=0.1403, SMAPE=24.1956%\n",
            "Original scale: R²=0.3620, RMSE=46490322.9863, SMAPE=62.6154%\n"
          ]
        },
        {
          "output_type": "stream",
          "name": "stdout",
          "text": [
            " Fold 2: train_size=100 val_size=50\n",
            "Epoch 1/3 - Loss: 0.1146\n",
            "Epoch 2/3 - Loss: 0.0569\n",
            "Epoch 3/3 - Loss: 0.0370\n"
          ]
        },
        {
          "output_type": "stream",
          "name": "stderr",
          "text": [
            "2025-05-31 23:55:47,891 - PricePredictionExperiment_ANNRegressor - INFO - Before reverse - price mean: 0.48160117863933743\n",
            "INFO:PricePredictionExperiment_ANNRegressor:Before reverse - price mean: 0.48160117863933743\n",
            "2025-05-31 23:55:47,897 - PricePredictionExperiment_ANNRegressor - INFO - After reverse - price mean: 70292049.59999996\n",
            "INFO:PricePredictionExperiment_ANNRegressor:After reverse - price mean: 70292049.59999996\n",
            "2025-05-31 23:55:47,980 - PricePredictionExperiment_ANNRegressor - INFO - Fold 2 - Log scale: R²=0.1538, RMSE=0.2051, SMAPE=36.0267%\n",
            "Original scale: R²=-0.0841, RMSE=157844486.8593, SMAPE=100.7382%\n",
            "INFO:PricePredictionExperiment_ANNRegressor:Fold 2 - Log scale: R²=0.1538, RMSE=0.2051, SMAPE=36.0267%\n",
            "Original scale: R²=-0.0841, RMSE=157844486.8593, SMAPE=100.7382%\n",
            "\u001b[32m[I 2025-05-31 23:55:48,019]\u001b[0m Trial 0 finished with value: 0.14344935653771218 and parameters: {'model__learning_rate': 0.0014363502971184061, 'model__neurons_layer1': 196, 'model__neurons_layer2': 84, 'model__neurons_layer3': 45, 'model__batch_size': 74, 'model__epochs': 77, 'model__l1_reg': 0.001051794315597895, 'model__l2_reg': 0.008728673384861885, 'model__activation': 'sigmoid', 'bert__max_len': 384, 'bert__batch_size': 8, 'bert__pooling_type': 'cls', 'bert__lr': 1.3890454258443006e-05}. Best is trial 0 with value: 0.14344935653771218.\u001b[0m\n",
            "2025-05-31 23:55:48,021 - PricePredictionExperiment_ANNRegressor - INFO - Elapsed time for optuna: 8.39 seconds\n",
            "INFO:PricePredictionExperiment_ANNRegressor:Elapsed time for optuna: 8.39 seconds\n",
            "2025-05-31 23:55:48,036 - PricePredictionExperiment_ANNRegressor - INFO - Timing started for: final_cv\n",
            "INFO:PricePredictionExperiment_ANNRegressor:Timing started for: final_cv\n"
          ]
        },
        {
          "output_type": "stream",
          "name": "stdout",
          "text": [
            "Final CV stratified bins counts: [48 47 48 46 47]\n",
            "Running final 5-fold CV on 236 samples\n",
            " FinalCV Fold 0: train_size=188 val_size=48\n",
            "Couldn't determine BERT output dim, using default PCA: 'NoneType' object has no attribute 'bert'\n",
            "Epoch 1/3 - Loss: 0.0970\n",
            "Epoch 2/3 - Loss: 0.0550\n",
            "Epoch 3/3 - Loss: 0.0361\n"
          ]
        },
        {
          "output_type": "stream",
          "name": "stderr",
          "text": [
            "2025-05-31 23:55:52,940 - PricePredictionExperiment_ANNRegressor - INFO - Before reverse - price mean: 0.4550678466274749\n",
            "INFO:PricePredictionExperiment_ANNRegressor:Before reverse - price mean: 0.4550678466274749\n",
            "2025-05-31 23:55:52,945 - PricePredictionExperiment_ANNRegressor - INFO - After reverse - price mean: 35495257.499999985\n",
            "INFO:PricePredictionExperiment_ANNRegressor:After reverse - price mean: 35495257.499999985\n",
            "2025-05-31 23:55:52,953 - PricePredictionExperiment_ANNRegressor - INFO -  Fold 1/5 | Log R2=0.7516 | Orig R2=0.5380\n",
            "INFO:PricePredictionExperiment_ANNRegressor: Fold 1/5 | Log R2=0.7516 | Orig R2=0.5380\n"
          ]
        },
        {
          "output_type": "stream",
          "name": "stdout",
          "text": [
            " FinalCV Fold 1: train_size=189 val_size=47\n",
            "Couldn't determine BERT output dim, using default PCA: 'NoneType' object has no attribute 'bert'\n",
            "Epoch 1/3 - Loss: 0.1777\n",
            "Epoch 2/3 - Loss: 0.0651\n",
            "Epoch 3/3 - Loss: 0.0374\n"
          ]
        },
        {
          "output_type": "stream",
          "name": "stderr",
          "text": [
            "2025-05-31 23:55:57,838 - PricePredictionExperiment_ANNRegressor - INFO - Before reverse - price mean: 0.47295177607112204\n",
            "INFO:PricePredictionExperiment_ANNRegressor:Before reverse - price mean: 0.47295177607112204\n",
            "2025-05-31 23:55:57,841 - PricePredictionExperiment_ANNRegressor - INFO - After reverse - price mean: 50921123.40425533\n",
            "INFO:PricePredictionExperiment_ANNRegressor:After reverse - price mean: 50921123.40425533\n",
            "2025-05-31 23:55:57,845 - PricePredictionExperiment_ANNRegressor - INFO -  Fold 2/5 | Log R2=0.6524 | Orig R2=0.3274\n",
            "INFO:PricePredictionExperiment_ANNRegressor: Fold 2/5 | Log R2=0.6524 | Orig R2=0.3274\n"
          ]
        },
        {
          "output_type": "stream",
          "name": "stdout",
          "text": [
            " FinalCV Fold 2: train_size=189 val_size=47\n",
            "Couldn't determine BERT output dim, using default PCA: 'NoneType' object has no attribute 'bert'\n",
            "Epoch 1/3 - Loss: 0.0926\n",
            "Epoch 2/3 - Loss: 0.0503\n",
            "Epoch 3/3 - Loss: 0.0391\n"
          ]
        },
        {
          "output_type": "stream",
          "name": "stderr",
          "text": [
            "2025-05-31 23:56:02,891 - PricePredictionExperiment_ANNRegressor - INFO - Before reverse - price mean: 0.46109879287422134\n",
            "INFO:PricePredictionExperiment_ANNRegressor:Before reverse - price mean: 0.46109879287422134\n",
            "2025-05-31 23:56:02,898 - PricePredictionExperiment_ANNRegressor - INFO - After reverse - price mean: 50421914.893617004\n",
            "INFO:PricePredictionExperiment_ANNRegressor:After reverse - price mean: 50421914.893617004\n",
            "2025-05-31 23:56:02,905 - PricePredictionExperiment_ANNRegressor - INFO -  Fold 3/5 | Log R2=0.6258 | Orig R2=0.1958\n",
            "INFO:PricePredictionExperiment_ANNRegressor: Fold 3/5 | Log R2=0.6258 | Orig R2=0.1958\n"
          ]
        },
        {
          "output_type": "stream",
          "name": "stdout",
          "text": [
            " FinalCV Fold 3: train_size=189 val_size=47\n",
            "Couldn't determine BERT output dim, using default PCA: 'NoneType' object has no attribute 'bert'\n",
            "Epoch 1/3 - Loss: 0.1683\n",
            "Epoch 2/3 - Loss: 0.0590\n",
            "Epoch 3/3 - Loss: 0.0433\n"
          ]
        },
        {
          "output_type": "stream",
          "name": "stderr",
          "text": [
            "2025-05-31 23:56:07,468 - PricePredictionExperiment_ANNRegressor - INFO - Before reverse - price mean: 0.4580297314108511\n",
            "INFO:PricePredictionExperiment_ANNRegressor:Before reverse - price mean: 0.4580297314108511\n",
            "2025-05-31 23:56:07,475 - PricePredictionExperiment_ANNRegressor - INFO - After reverse - price mean: 63415391.4893617\n",
            "INFO:PricePredictionExperiment_ANNRegressor:After reverse - price mean: 63415391.4893617\n",
            "2025-05-31 23:56:07,483 - PricePredictionExperiment_ANNRegressor - INFO -  Fold 4/5 | Log R2=0.7690 | Orig R2=0.2737\n",
            "INFO:PricePredictionExperiment_ANNRegressor: Fold 4/5 | Log R2=0.7690 | Orig R2=0.2737\n"
          ]
        },
        {
          "output_type": "stream",
          "name": "stdout",
          "text": [
            " FinalCV Fold 4: train_size=189 val_size=47\n",
            "Couldn't determine BERT output dim, using default PCA: 'NoneType' object has no attribute 'bert'\n",
            "Epoch 1/3 - Loss: 0.0847\n",
            "Epoch 2/3 - Loss: 0.0466\n",
            "Epoch 3/3 - Loss: 0.0314\n"
          ]
        },
        {
          "output_type": "stream",
          "name": "stderr",
          "text": [
            "2025-05-31 23:56:11,916 - PricePredictionExperiment_ANNRegressor - INFO - Before reverse - price mean: 0.4727362701111664\n",
            "INFO:PricePredictionExperiment_ANNRegressor:Before reverse - price mean: 0.4727362701111664\n",
            "2025-05-31 23:56:11,920 - PricePredictionExperiment_ANNRegressor - INFO - After reverse - price mean: 67053424.65957447\n",
            "INFO:PricePredictionExperiment_ANNRegressor:After reverse - price mean: 67053424.65957447\n",
            "2025-05-31 23:56:11,925 - PricePredictionExperiment_ANNRegressor - INFO -  Fold 5/5 | Log R2=0.7184 | Orig R2=0.3620\n",
            "INFO:PricePredictionExperiment_ANNRegressor: Fold 5/5 | Log R2=0.7184 | Orig R2=0.3620\n"
          ]
        },
        {
          "output_type": "stream",
          "name": "stdout",
          "text": [
            "Couldn't determine BERT output dim, using default PCA: 'NoneType' object has no attribute 'bert'\n",
            "Epoch 1/3 - Loss: 0.0744\n",
            "Epoch 2/3 - Loss: 0.0390\n",
            "Epoch 3/3 - Loss: 0.0261\n"
          ]
        },
        {
          "output_type": "stream",
          "name": "stderr",
          "text": [
            "2025-05-31 23:56:17,740 - PricePredictionExperiment_ANNRegressor - INFO - Before reverse - price mean: 0.46124991486493366\n",
            "INFO:PricePredictionExperiment_ANNRegressor:Before reverse - price mean: 0.46124991486493366\n",
            "2025-05-31 23:56:17,747 - PricePredictionExperiment_ANNRegressor - INFO - After reverse - price mean: 53129052.52542374\n",
            "INFO:PricePredictionExperiment_ANNRegressor:After reverse - price mean: 53129052.52542374\n",
            "2025-05-31 23:56:17,945 - PricePredictionExperiment_ANNRegressor - INFO - Evaluation artifacts saved to /content/results/metrics\n",
            "INFO:PricePredictionExperiment_ANNRegressor:Evaluation artifacts saved to /content/results/metrics\n",
            "2025-05-31 23:56:17,976 - PricePredictionExperiment_ANNRegressor - INFO - Elapsed time for final_cv: 29.94 seconds\n",
            "INFO:PricePredictionExperiment_ANNRegressor:Elapsed time for final_cv: 29.94 seconds\n",
            "2025-05-31 23:56:18,497 - PricePredictionExperiment_ANNRegressor - INFO - Timing started for: final_model_teaching\n",
            "INFO:PricePredictionExperiment_ANNRegressor:Timing started for: final_model_teaching\n",
            "2025-05-31 23:56:18,500 - PricePredictionExperiment_ANNRegressor - INFO - Elapsed time for final_model_teaching: 0.00 seconds\n",
            "INFO:PricePredictionExperiment_ANNRegressor:Elapsed time for final_model_teaching: 0.00 seconds\n",
            "2025-05-31 23:56:18,512 - PricePredictionExperiment_ANNRegressor - INFO - Elapsed time for total: 39.10 seconds\n",
            "INFO:PricePredictionExperiment_ANNRegressor:Elapsed time for total: 39.10 seconds\n",
            "2025-05-31 23:56:18,551 - PricePredictionExperiment_ANNRegressor - INFO - → Запуск конфигурации: price_prediction_ANNRegressor_mixed_rubert_pca_True_gate_False_mtf_False_\n",
            "INFO:PricePredictionExperiment_ANNRegressor:→ Запуск конфигурации: price_prediction_ANNRegressor_mixed_rubert_pca_True_gate_False_mtf_False_\n",
            "2025-05-31 23:56:18,553 - PricePredictionExperiment_ANNRegressor - INFO - Loading and preprocessing data...\n",
            "INFO:PricePredictionExperiment_ANNRegressor:Loading and preprocessing data...\n",
            "2025-05-31 23:56:18,579 - PricePredictionExperiment_ANNRegressor - INFO - Applying sample_size: 300\n",
            "INFO:PricePredictionExperiment_ANNRegressor:Applying sample_size: 300\n",
            "2025-05-31 23:56:18,587 - PricePredictionExperiment_ANNRegressor - INFO - Данные прошли строгую валидацию профиля.\n",
            "INFO:PricePredictionExperiment_ANNRegressor:Данные прошли строгую валидацию профиля.\n"
          ]
        },
        {
          "output_type": "stream",
          "name": "stdout",
          "text": [
            "['landCategory', 'wallMaterial', 'bathroom', 'renovation', 'electricity', 'heating', 'waterSupply', 'gas', 'sewerage', 'media', 'parking', 'transportAccessibility', 'saleMethod', 'seller', 'category', 'infrastructure', 'terrace', 'recreation', 'region', 'nearestPPLA', 'nearestPPLA2']\n"
          ]
        },
        {
          "output_type": "stream",
          "name": "stderr",
          "text": [
            "\u001b[32m[I 2025-05-31 23:56:30,737]\u001b[0m A new study created in memory with name: no-name-ddae2847-6acf-49af-b74c-ccb9c701f071\u001b[0m\n",
            "2025-05-31 23:56:30,967 - PricePredictionExperiment_ANNRegressor - INFO - Timing started for: total\n",
            "INFO:PricePredictionExperiment_ANNRegressor:Timing started for: total\n",
            "2025-05-31 23:56:30,978 - PricePredictionExperiment_ANNRegressor - INFO - ENV: python_version: 3.11.12 (main, Apr  9 2025, 08:55:54) [GCC 11.4.0]\n",
            "INFO:PricePredictionExperiment_ANNRegressor:ENV: python_version: 3.11.12 (main, Apr  9 2025, 08:55:54) [GCC 11.4.0]\n",
            "2025-05-31 23:56:30,990 - PricePredictionExperiment_ANNRegressor - INFO - ENV: platform: Linux-6.1.123+-x86_64-with-glibc2.35\n",
            "INFO:PricePredictionExperiment_ANNRegressor:ENV: platform: Linux-6.1.123+-x86_64-with-glibc2.35\n",
            "2025-05-31 23:56:31,011 - PricePredictionExperiment_ANNRegressor - INFO - ENV: sklearn_version: 1.6.1\n",
            "INFO:PricePredictionExperiment_ANNRegressor:ENV: sklearn_version: 1.6.1\n",
            "2025-05-31 23:56:31,023 - PricePredictionExperiment_ANNRegressor - INFO - ENV: pandas_version: 2.2.2\n",
            "INFO:PricePredictionExperiment_ANNRegressor:ENV: pandas_version: 2.2.2\n",
            "2025-05-31 23:56:31,035 - PricePredictionExperiment_ANNRegressor - INFO - ENV: numpy_version: 1.26.4\n",
            "INFO:PricePredictionExperiment_ANNRegressor:ENV: numpy_version: 1.26.4\n",
            "2025-05-31 23:56:31,047 - PricePredictionExperiment_ANNRegressor - INFO - ENV: torch_version: 2.6.0+cu124\n",
            "INFO:PricePredictionExperiment_ANNRegressor:ENV: torch_version: 2.6.0+cu124\n",
            "2025-05-31 23:56:31,059 - PricePredictionExperiment_ANNRegressor - INFO - ENV: cuda_available: True\n",
            "INFO:PricePredictionExperiment_ANNRegressor:ENV: cuda_available: True\n",
            "2025-05-31 23:56:31,071 - PricePredictionExperiment_ANNRegressor - INFO - ENV: cuda_device: Tesla T4\n",
            "INFO:PricePredictionExperiment_ANNRegressor:ENV: cuda_device: Tesla T4\n",
            "2025-05-31 23:56:31,083 - PricePredictionExperiment_ANNRegressor - INFO - ENV: run_time: 2025-05-31 23:56:30\n",
            "INFO:PricePredictionExperiment_ANNRegressor:ENV: run_time: 2025-05-31 23:56:30\n",
            "2025-05-31 23:56:31,093 - PricePredictionExperiment_ANNRegressor - INFO - ENV: run_hostname: bd3d025abf46\n",
            "INFO:PricePredictionExperiment_ANNRegressor:ENV: run_hostname: bd3d025abf46\n",
            "2025-05-31 23:56:31,186 - PricePredictionExperiment_ANNRegressor - INFO - Timing started for: optuna\n",
            "INFO:PricePredictionExperiment_ANNRegressor:Timing started for: optuna\n"
          ]
        },
        {
          "output_type": "stream",
          "name": "stdout",
          "text": [
            "CV stratified bins counts: [51 49 50]\n",
            "Running 3-fold CV on 150 samples\n",
            " Fold 0: train_size=100 val_size=50\n"
          ]
        },
        {
          "output_type": "stream",
          "name": "stderr",
          "text": [
            "2025-05-31 23:56:31,740 - PricePredictionExperiment_ANNRegressor - INFO - Before reverse - price mean: 0.46163744810703816\n",
            "INFO:PricePredictionExperiment_ANNRegressor:Before reverse - price mean: 0.46163744810703816\n",
            "2025-05-31 23:56:31,744 - PricePredictionExperiment_ANNRegressor - INFO - After reverse - price mean: 52492874.37999999\n",
            "INFO:PricePredictionExperiment_ANNRegressor:After reverse - price mean: 52492874.37999999\n",
            "2025-05-31 23:56:31,806 - PricePredictionExperiment_ANNRegressor - INFO - Fold 0 - Log scale: R²=-0.6944, RMSE=0.2845, SMAPE=51.5743%\n",
            "Original scale: R²=0.0676, RMSE=118803786.3136, SMAPE=133.4827%\n",
            "INFO:PricePredictionExperiment_ANNRegressor:Fold 0 - Log scale: R²=-0.6944, RMSE=0.2845, SMAPE=51.5743%\n",
            "Original scale: R²=0.0676, RMSE=118803786.3136, SMAPE=133.4827%\n"
          ]
        },
        {
          "output_type": "stream",
          "name": "stdout",
          "text": [
            " Fold 1: train_size=100 val_size=50\n"
          ]
        },
        {
          "output_type": "stream",
          "name": "stderr",
          "text": [
            "2025-05-31 23:56:32,255 - PricePredictionExperiment_ANNRegressor - INFO - Before reverse - price mean: 0.44923494890588567\n",
            "INFO:PricePredictionExperiment_ANNRegressor:Before reverse - price mean: 0.44923494890588567\n",
            "2025-05-31 23:56:32,259 - PricePredictionExperiment_ANNRegressor - INFO - After reverse - price mean: 30649667.2\n",
            "INFO:PricePredictionExperiment_ANNRegressor:After reverse - price mean: 30649667.2\n",
            "2025-05-31 23:56:32,328 - PricePredictionExperiment_ANNRegressor - INFO - Fold 1 - Log scale: R²=-0.8764, RMSE=0.2558, SMAPE=46.0812%\n",
            "Original scale: R²=0.0419, RMSE=56972629.2608, SMAPE=120.8037%\n",
            "INFO:PricePredictionExperiment_ANNRegressor:Fold 1 - Log scale: R²=-0.8764, RMSE=0.2558, SMAPE=46.0812%\n",
            "Original scale: R²=0.0419, RMSE=56972629.2608, SMAPE=120.8037%\n"
          ]
        },
        {
          "output_type": "stream",
          "name": "stdout",
          "text": [
            " Fold 2: train_size=100 val_size=50\n"
          ]
        },
        {
          "output_type": "stream",
          "name": "stderr",
          "text": [
            "2025-05-31 23:56:32,750 - PricePredictionExperiment_ANNRegressor - INFO - Before reverse - price mean: 0.48160117863933743\n",
            "INFO:PricePredictionExperiment_ANNRegressor:Before reverse - price mean: 0.48160117863933743\n",
            "2025-05-31 23:56:32,753 - PricePredictionExperiment_ANNRegressor - INFO - After reverse - price mean: 70292049.59999996\n",
            "INFO:PricePredictionExperiment_ANNRegressor:After reverse - price mean: 70292049.59999996\n",
            "2025-05-31 23:56:32,809 - PricePredictionExperiment_ANNRegressor - INFO - Fold 2 - Log scale: R²=-0.8489, RMSE=0.3032, SMAPE=52.2155%\n",
            "Original scale: R²=0.0058, RMSE=151155634.6778, SMAPE=144.0887%\n",
            "INFO:PricePredictionExperiment_ANNRegressor:Fold 2 - Log scale: R²=-0.8489, RMSE=0.3032, SMAPE=52.2155%\n",
            "Original scale: R²=0.0058, RMSE=151155634.6778, SMAPE=144.0887%\n",
            "\u001b[32m[I 2025-05-31 23:56:32,817]\u001b[0m Trial 0 finished with value: -0.806569767468818 and parameters: {'model__learning_rate': 0.0014363502971184061, 'model__neurons_layer1': 196, 'model__neurons_layer2': 84, 'model__neurons_layer3': 45, 'model__batch_size': 74, 'model__epochs': 77, 'model__l1_reg': 0.001051794315597895, 'model__l2_reg': 0.008728673384861885, 'model__activation': 'sigmoid', 'w2v__vector_size': 250, 'w2v__window': 12, 'w2v__min_count': 1, 'w2v__sg': 0}. Best is trial 0 with value: -0.806569767468818.\u001b[0m\n",
            "2025-05-31 23:56:32,818 - PricePredictionExperiment_ANNRegressor - INFO - Elapsed time for optuna: 1.63 seconds\n",
            "INFO:PricePredictionExperiment_ANNRegressor:Elapsed time for optuna: 1.63 seconds\n",
            "2025-05-31 23:56:32,834 - PricePredictionExperiment_ANNRegressor - INFO - Timing started for: final_cv\n",
            "INFO:PricePredictionExperiment_ANNRegressor:Timing started for: final_cv\n"
          ]
        },
        {
          "output_type": "stream",
          "name": "stdout",
          "text": [
            "Final CV stratified bins counts: [48 47 48 46 47]\n",
            "Running final 5-fold CV on 236 samples\n",
            " FinalCV Fold 0: train_size=188 val_size=48\n"
          ]
        },
        {
          "output_type": "stream",
          "name": "stderr",
          "text": [
            "2025-05-31 23:56:33,851 - PricePredictionExperiment_ANNRegressor - INFO - Before reverse - price mean: 0.4550678466274749\n",
            "INFO:PricePredictionExperiment_ANNRegressor:Before reverse - price mean: 0.4550678466274749\n",
            "2025-05-31 23:56:33,859 - PricePredictionExperiment_ANNRegressor - INFO - After reverse - price mean: 35495257.499999985\n",
            "INFO:PricePredictionExperiment_ANNRegressor:After reverse - price mean: 35495257.499999985\n",
            "2025-05-31 23:56:33,869 - PricePredictionExperiment_ANNRegressor - INFO -  Fold 1/5 | Log R2=0.7304 | Orig R2=0.5875\n",
            "INFO:PricePredictionExperiment_ANNRegressor: Fold 1/5 | Log R2=0.7304 | Orig R2=0.5875\n"
          ]
        },
        {
          "output_type": "stream",
          "name": "stdout",
          "text": [
            " FinalCV Fold 1: train_size=189 val_size=47\n"
          ]
        },
        {
          "output_type": "stream",
          "name": "stderr",
          "text": [
            "2025-05-31 23:56:34,742 - PricePredictionExperiment_ANNRegressor - INFO - Before reverse - price mean: 0.47295177607112204\n",
            "INFO:PricePredictionExperiment_ANNRegressor:Before reverse - price mean: 0.47295177607112204\n",
            "2025-05-31 23:56:34,746 - PricePredictionExperiment_ANNRegressor - INFO - After reverse - price mean: 50921123.40425533\n",
            "INFO:PricePredictionExperiment_ANNRegressor:After reverse - price mean: 50921123.40425533\n",
            "2025-05-31 23:56:34,751 - PricePredictionExperiment_ANNRegressor - INFO -  Fold 2/5 | Log R2=0.7327 | Orig R2=0.4937\n",
            "INFO:PricePredictionExperiment_ANNRegressor: Fold 2/5 | Log R2=0.7327 | Orig R2=0.4937\n"
          ]
        },
        {
          "output_type": "stream",
          "name": "stdout",
          "text": [
            " FinalCV Fold 2: train_size=189 val_size=47\n"
          ]
        },
        {
          "output_type": "stream",
          "name": "stderr",
          "text": [
            "2025-05-31 23:56:35,573 - PricePredictionExperiment_ANNRegressor - INFO - Before reverse - price mean: 0.46109879287422134\n",
            "INFO:PricePredictionExperiment_ANNRegressor:Before reverse - price mean: 0.46109879287422134\n",
            "2025-05-31 23:56:35,581 - PricePredictionExperiment_ANNRegressor - INFO - After reverse - price mean: 50421914.893617004\n",
            "INFO:PricePredictionExperiment_ANNRegressor:After reverse - price mean: 50421914.893617004\n",
            "2025-05-31 23:56:35,590 - PricePredictionExperiment_ANNRegressor - INFO -  Fold 3/5 | Log R2=0.5315 | Orig R2=0.1151\n",
            "INFO:PricePredictionExperiment_ANNRegressor: Fold 3/5 | Log R2=0.5315 | Orig R2=0.1151\n"
          ]
        },
        {
          "output_type": "stream",
          "name": "stdout",
          "text": [
            " FinalCV Fold 3: train_size=189 val_size=47\n"
          ]
        },
        {
          "output_type": "stream",
          "name": "stderr",
          "text": [
            "2025-05-31 23:56:36,430 - PricePredictionExperiment_ANNRegressor - INFO - Before reverse - price mean: 0.4580297314108511\n",
            "INFO:PricePredictionExperiment_ANNRegressor:Before reverse - price mean: 0.4580297314108511\n",
            "2025-05-31 23:56:36,433 - PricePredictionExperiment_ANNRegressor - INFO - After reverse - price mean: 63415391.4893617\n",
            "INFO:PricePredictionExperiment_ANNRegressor:After reverse - price mean: 63415391.4893617\n",
            "2025-05-31 23:56:36,440 - PricePredictionExperiment_ANNRegressor - INFO -  Fold 4/5 | Log R2=0.7157 | Orig R2=0.1940\n",
            "INFO:PricePredictionExperiment_ANNRegressor: Fold 4/5 | Log R2=0.7157 | Orig R2=0.1940\n"
          ]
        },
        {
          "output_type": "stream",
          "name": "stdout",
          "text": [
            " FinalCV Fold 4: train_size=189 val_size=47\n"
          ]
        },
        {
          "output_type": "stream",
          "name": "stderr",
          "text": [
            "2025-05-31 23:56:37,280 - PricePredictionExperiment_ANNRegressor - INFO - Before reverse - price mean: 0.4727362701111664\n",
            "INFO:PricePredictionExperiment_ANNRegressor:Before reverse - price mean: 0.4727362701111664\n",
            "2025-05-31 23:56:37,283 - PricePredictionExperiment_ANNRegressor - INFO - After reverse - price mean: 67053424.65957447\n",
            "INFO:PricePredictionExperiment_ANNRegressor:After reverse - price mean: 67053424.65957447\n",
            "2025-05-31 23:56:37,294 - PricePredictionExperiment_ANNRegressor - INFO -  Fold 5/5 | Log R2=0.6454 | Orig R2=0.1482\n",
            "INFO:PricePredictionExperiment_ANNRegressor: Fold 5/5 | Log R2=0.6454 | Orig R2=0.1482\n",
            "2025-05-31 23:56:38,363 - PricePredictionExperiment_ANNRegressor - INFO - Before reverse - price mean: 0.46124991486493366\n",
            "INFO:PricePredictionExperiment_ANNRegressor:Before reverse - price mean: 0.46124991486493366\n",
            "2025-05-31 23:56:38,371 - PricePredictionExperiment_ANNRegressor - INFO - After reverse - price mean: 53129052.52542374\n",
            "INFO:PricePredictionExperiment_ANNRegressor:After reverse - price mean: 53129052.52542374\n",
            "2025-05-31 23:56:38,572 - PricePredictionExperiment_ANNRegressor - INFO - Evaluation artifacts saved to /content/results/metrics\n",
            "INFO:PricePredictionExperiment_ANNRegressor:Evaluation artifacts saved to /content/results/metrics\n",
            "2025-05-31 23:56:38,579 - PricePredictionExperiment_ANNRegressor - INFO - Elapsed time for final_cv: 5.74 seconds\n",
            "INFO:PricePredictionExperiment_ANNRegressor:Elapsed time for final_cv: 5.74 seconds\n",
            "2025-05-31 23:56:39,123 - PricePredictionExperiment_ANNRegressor - INFO - Timing started for: final_model_teaching\n",
            "INFO:PricePredictionExperiment_ANNRegressor:Timing started for: final_model_teaching\n",
            "2025-05-31 23:56:39,126 - PricePredictionExperiment_ANNRegressor - INFO - Elapsed time for final_model_teaching: 0.00 seconds\n",
            "INFO:PricePredictionExperiment_ANNRegressor:Elapsed time for final_model_teaching: 0.00 seconds\n",
            "2025-05-31 23:56:39,139 - PricePredictionExperiment_ANNRegressor - INFO - Elapsed time for total: 8.17 seconds\n",
            "INFO:PricePredictionExperiment_ANNRegressor:Elapsed time for total: 8.17 seconds\n",
            "2025-05-31 23:56:39,164 - PricePredictionExperiment_ANNRegressor - INFO - → Запуск конфигурации: price_prediction_ANNRegressor_mixed_w2v_pca_True_gate_False_mtf_False_\n",
            "INFO:PricePredictionExperiment_ANNRegressor:→ Запуск конфигурации: price_prediction_ANNRegressor_mixed_w2v_pca_True_gate_False_mtf_False_\n",
            "2025-05-31 23:56:39,166 - PricePredictionExperiment_ANNRegressor - INFO - Loading and preprocessing data...\n",
            "INFO:PricePredictionExperiment_ANNRegressor:Loading and preprocessing data...\n",
            "2025-05-31 23:56:39,193 - PricePredictionExperiment_ANNRegressor - INFO - Applying sample_size: 300\n",
            "INFO:PricePredictionExperiment_ANNRegressor:Applying sample_size: 300\n",
            "2025-05-31 23:56:39,201 - PricePredictionExperiment_ANNRegressor - INFO - Данные прошли строгую валидацию профиля.\n",
            "INFO:PricePredictionExperiment_ANNRegressor:Данные прошли строгую валидацию профиля.\n"
          ]
        },
        {
          "output_type": "stream",
          "name": "stdout",
          "text": [
            "['landCategory', 'wallMaterial', 'bathroom', 'renovation', 'electricity', 'heating', 'waterSupply', 'gas', 'sewerage', 'media', 'parking', 'transportAccessibility', 'saleMethod', 'seller', 'category', 'infrastructure', 'terrace', 'recreation', 'region', 'nearestPPLA', 'nearestPPLA2']\n"
          ]
        },
        {
          "output_type": "stream",
          "name": "stderr",
          "text": [
            "\u001b[32m[I 2025-05-31 23:56:51,256]\u001b[0m A new study created in memory with name: no-name-a72674e8-8ce2-4645-aafc-402c35ff016c\u001b[0m\n",
            "2025-05-31 23:56:51,468 - PricePredictionExperiment_ANNRegressor - INFO - Timing started for: total\n",
            "INFO:PricePredictionExperiment_ANNRegressor:Timing started for: total\n",
            "2025-05-31 23:56:51,482 - PricePredictionExperiment_ANNRegressor - INFO - ENV: python_version: 3.11.12 (main, Apr  9 2025, 08:55:54) [GCC 11.4.0]\n",
            "INFO:PricePredictionExperiment_ANNRegressor:ENV: python_version: 3.11.12 (main, Apr  9 2025, 08:55:54) [GCC 11.4.0]\n",
            "2025-05-31 23:56:51,493 - PricePredictionExperiment_ANNRegressor - INFO - ENV: platform: Linux-6.1.123+-x86_64-with-glibc2.35\n",
            "INFO:PricePredictionExperiment_ANNRegressor:ENV: platform: Linux-6.1.123+-x86_64-with-glibc2.35\n",
            "2025-05-31 23:56:51,505 - PricePredictionExperiment_ANNRegressor - INFO - ENV: sklearn_version: 1.6.1\n",
            "INFO:PricePredictionExperiment_ANNRegressor:ENV: sklearn_version: 1.6.1\n",
            "2025-05-31 23:56:51,517 - PricePredictionExperiment_ANNRegressor - INFO - ENV: pandas_version: 2.2.2\n",
            "INFO:PricePredictionExperiment_ANNRegressor:ENV: pandas_version: 2.2.2\n",
            "2025-05-31 23:56:51,528 - PricePredictionExperiment_ANNRegressor - INFO - ENV: numpy_version: 1.26.4\n",
            "INFO:PricePredictionExperiment_ANNRegressor:ENV: numpy_version: 1.26.4\n",
            "2025-05-31 23:56:51,555 - PricePredictionExperiment_ANNRegressor - INFO - ENV: torch_version: 2.6.0+cu124\n",
            "INFO:PricePredictionExperiment_ANNRegressor:ENV: torch_version: 2.6.0+cu124\n",
            "2025-05-31 23:56:51,567 - PricePredictionExperiment_ANNRegressor - INFO - ENV: cuda_available: True\n",
            "INFO:PricePredictionExperiment_ANNRegressor:ENV: cuda_available: True\n",
            "2025-05-31 23:56:51,579 - PricePredictionExperiment_ANNRegressor - INFO - ENV: cuda_device: Tesla T4\n",
            "INFO:PricePredictionExperiment_ANNRegressor:ENV: cuda_device: Tesla T4\n",
            "2025-05-31 23:56:51,591 - PricePredictionExperiment_ANNRegressor - INFO - ENV: run_time: 2025-05-31 23:56:51\n",
            "INFO:PricePredictionExperiment_ANNRegressor:ENV: run_time: 2025-05-31 23:56:51\n",
            "2025-05-31 23:56:51,603 - PricePredictionExperiment_ANNRegressor - INFO - ENV: run_hostname: bd3d025abf46\n",
            "INFO:PricePredictionExperiment_ANNRegressor:ENV: run_hostname: bd3d025abf46\n",
            "2025-05-31 23:56:51,698 - PricePredictionExperiment_ANNRegressor - INFO - Timing started for: optuna\n",
            "INFO:PricePredictionExperiment_ANNRegressor:Timing started for: optuna\n",
            "2025-05-31 23:56:51,969 - PricePredictionExperiment_ANNRegressor - INFO - Before reverse - price mean: 0.46163744810703816\n",
            "INFO:PricePredictionExperiment_ANNRegressor:Before reverse - price mean: 0.46163744810703816\n",
            "2025-05-31 23:56:51,972 - PricePredictionExperiment_ANNRegressor - INFO - After reverse - price mean: 52492874.37999999\n",
            "INFO:PricePredictionExperiment_ANNRegressor:After reverse - price mean: 52492874.37999999\n"
          ]
        },
        {
          "output_type": "stream",
          "name": "stdout",
          "text": [
            "CV stratified bins counts: [51 49 50]\n",
            "Running 3-fold CV on 150 samples\n",
            " Fold 0: train_size=100 val_size=50\n"
          ]
        },
        {
          "output_type": "stream",
          "name": "stderr",
          "text": [
            "2025-05-31 23:56:52,041 - PricePredictionExperiment_ANNRegressor - INFO - Fold 0 - Log scale: R²=-0.9669, RMSE=0.3066, SMAPE=54.0766%\n",
            "Original scale: R²=0.0406, RMSE=120511729.7603, SMAPE=139.1507%\n",
            "INFO:PricePredictionExperiment_ANNRegressor:Fold 0 - Log scale: R²=-0.9669, RMSE=0.3066, SMAPE=54.0766%\n",
            "Original scale: R²=0.0406, RMSE=120511729.7603, SMAPE=139.1507%\n",
            "2025-05-31 23:56:52,231 - PricePredictionExperiment_ANNRegressor - INFO - Before reverse - price mean: 0.44923494890588567\n",
            "INFO:PricePredictionExperiment_ANNRegressor:Before reverse - price mean: 0.44923494890588567\n",
            "2025-05-31 23:56:52,235 - PricePredictionExperiment_ANNRegressor - INFO - After reverse - price mean: 30649667.2\n",
            "INFO:PricePredictionExperiment_ANNRegressor:After reverse - price mean: 30649667.2\n"
          ]
        },
        {
          "output_type": "stream",
          "name": "stdout",
          "text": [
            " Fold 1: train_size=100 val_size=50\n"
          ]
        },
        {
          "output_type": "stream",
          "name": "stderr",
          "text": [
            "2025-05-31 23:56:52,291 - PricePredictionExperiment_ANNRegressor - INFO - Fold 1 - Log scale: R²=-0.5544, RMSE=0.2328, SMAPE=42.9343%\n",
            "Original scale: R²=0.1146, RMSE=54768065.5065, SMAPE=112.7643%\n",
            "INFO:PricePredictionExperiment_ANNRegressor:Fold 1 - Log scale: R²=-0.5544, RMSE=0.2328, SMAPE=42.9343%\n",
            "Original scale: R²=0.1146, RMSE=54768065.5065, SMAPE=112.7643%\n"
          ]
        },
        {
          "output_type": "stream",
          "name": "stdout",
          "text": [
            " Fold 2: train_size=100 val_size=50\n"
          ]
        },
        {
          "output_type": "stream",
          "name": "stderr",
          "text": [
            "2025-05-31 23:56:52,501 - PricePredictionExperiment_ANNRegressor - INFO - Before reverse - price mean: 0.48160117863933743\n",
            "INFO:PricePredictionExperiment_ANNRegressor:Before reverse - price mean: 0.48160117863933743\n",
            "2025-05-31 23:56:52,505 - PricePredictionExperiment_ANNRegressor - INFO - After reverse - price mean: 70292049.59999996\n",
            "INFO:PricePredictionExperiment_ANNRegressor:After reverse - price mean: 70292049.59999996\n",
            "2025-05-31 23:56:52,578 - PricePredictionExperiment_ANNRegressor - INFO - Fold 2 - Log scale: R²=-0.5088, RMSE=0.2739, SMAPE=48.4023%\n",
            "Original scale: R²=-0.0120, RMSE=152502609.3214, SMAPE=135.1926%\n",
            "INFO:PricePredictionExperiment_ANNRegressor:Fold 2 - Log scale: R²=-0.5088, RMSE=0.2739, SMAPE=48.4023%\n",
            "Original scale: R²=-0.0120, RMSE=152502609.3214, SMAPE=135.1926%\n",
            "\u001b[32m[I 2025-05-31 23:56:52,582]\u001b[0m Trial 0 finished with value: -0.6767177262043766 and parameters: {'model__learning_rate': 0.0014363502971184061, 'model__neurons_layer1': 196, 'model__neurons_layer2': 84, 'model__neurons_layer3': 45, 'model__batch_size': 74, 'model__epochs': 77, 'model__l1_reg': 0.001051794315597895, 'model__l2_reg': 0.008728673384861885, 'model__activation': 'sigmoid', 'tfidf__max_features': 420, 'tfidf__ngram_range_max': 3, 'tfidf__min_df': 1, 'tfidf__max_df': 0.9909729556485982}. Best is trial 0 with value: -0.6767177262043766.\u001b[0m\n",
            "2025-05-31 23:56:52,583 - PricePredictionExperiment_ANNRegressor - INFO - Elapsed time for optuna: 0.89 seconds\n",
            "INFO:PricePredictionExperiment_ANNRegressor:Elapsed time for optuna: 0.89 seconds\n",
            "2025-05-31 23:56:52,598 - PricePredictionExperiment_ANNRegressor - INFO - Timing started for: final_cv\n",
            "INFO:PricePredictionExperiment_ANNRegressor:Timing started for: final_cv\n"
          ]
        },
        {
          "output_type": "stream",
          "name": "stdout",
          "text": [
            "Final CV stratified bins counts: [48 47 48 46 47]\n",
            "Running final 5-fold CV on 236 samples\n",
            " FinalCV Fold 0: train_size=188 val_size=48\n"
          ]
        },
        {
          "output_type": "stream",
          "name": "stderr",
          "text": [
            "2025-05-31 23:56:53,581 - PricePredictionExperiment_ANNRegressor - INFO - Before reverse - price mean: 0.4550678466274749\n",
            "INFO:PricePredictionExperiment_ANNRegressor:Before reverse - price mean: 0.4550678466274749\n",
            "2025-05-31 23:56:53,593 - PricePredictionExperiment_ANNRegressor - INFO - After reverse - price mean: 35495257.499999985\n",
            "INFO:PricePredictionExperiment_ANNRegressor:After reverse - price mean: 35495257.499999985\n",
            "2025-05-31 23:56:53,601 - PricePredictionExperiment_ANNRegressor - INFO -  Fold 1/5 | Log R2=0.7687 | Orig R2=0.6752\n",
            "INFO:PricePredictionExperiment_ANNRegressor: Fold 1/5 | Log R2=0.7687 | Orig R2=0.6752\n"
          ]
        },
        {
          "output_type": "stream",
          "name": "stdout",
          "text": [
            " FinalCV Fold 1: train_size=189 val_size=47\n"
          ]
        },
        {
          "output_type": "stream",
          "name": "stderr",
          "text": [
            "2025-05-31 23:56:54,458 - PricePredictionExperiment_ANNRegressor - INFO - Before reverse - price mean: 0.47295177607112204\n",
            "INFO:PricePredictionExperiment_ANNRegressor:Before reverse - price mean: 0.47295177607112204\n",
            "2025-05-31 23:56:54,468 - PricePredictionExperiment_ANNRegressor - INFO - After reverse - price mean: 50921123.40425533\n",
            "INFO:PricePredictionExperiment_ANNRegressor:After reverse - price mean: 50921123.40425533\n",
            "2025-05-31 23:56:54,483 - PricePredictionExperiment_ANNRegressor - INFO -  Fold 2/5 | Log R2=0.7215 | Orig R2=0.4040\n",
            "INFO:PricePredictionExperiment_ANNRegressor: Fold 2/5 | Log R2=0.7215 | Orig R2=0.4040\n"
          ]
        },
        {
          "output_type": "stream",
          "name": "stdout",
          "text": [
            " FinalCV Fold 2: train_size=189 val_size=47\n"
          ]
        },
        {
          "output_type": "stream",
          "name": "stderr",
          "text": [
            "2025-05-31 23:56:55,513 - PricePredictionExperiment_ANNRegressor - INFO - Before reverse - price mean: 0.46109879287422134\n",
            "INFO:PricePredictionExperiment_ANNRegressor:Before reverse - price mean: 0.46109879287422134\n",
            "2025-05-31 23:56:55,519 - PricePredictionExperiment_ANNRegressor - INFO - After reverse - price mean: 50421914.893617004\n",
            "INFO:PricePredictionExperiment_ANNRegressor:After reverse - price mean: 50421914.893617004\n",
            "2025-05-31 23:56:55,528 - PricePredictionExperiment_ANNRegressor - INFO -  Fold 3/5 | Log R2=0.5702 | Orig R2=0.1416\n",
            "INFO:PricePredictionExperiment_ANNRegressor: Fold 3/5 | Log R2=0.5702 | Orig R2=0.1416\n"
          ]
        },
        {
          "output_type": "stream",
          "name": "stdout",
          "text": [
            " FinalCV Fold 3: train_size=189 val_size=47\n"
          ]
        },
        {
          "output_type": "stream",
          "name": "stderr",
          "text": [
            "2025-05-31 23:56:56,331 - PricePredictionExperiment_ANNRegressor - INFO - Before reverse - price mean: 0.4580297314108511\n",
            "INFO:PricePredictionExperiment_ANNRegressor:Before reverse - price mean: 0.4580297314108511\n",
            "2025-05-31 23:56:56,334 - PricePredictionExperiment_ANNRegressor - INFO - After reverse - price mean: 63415391.4893617\n",
            "INFO:PricePredictionExperiment_ANNRegressor:After reverse - price mean: 63415391.4893617\n",
            "2025-05-31 23:56:56,344 - PricePredictionExperiment_ANNRegressor - INFO -  Fold 4/5 | Log R2=0.7048 | Orig R2=0.1478\n",
            "INFO:PricePredictionExperiment_ANNRegressor: Fold 4/5 | Log R2=0.7048 | Orig R2=0.1478\n"
          ]
        },
        {
          "output_type": "stream",
          "name": "stdout",
          "text": [
            " FinalCV Fold 4: train_size=189 val_size=47\n"
          ]
        },
        {
          "output_type": "stream",
          "name": "stderr",
          "text": [
            "2025-05-31 23:56:57,001 - PricePredictionExperiment_ANNRegressor - INFO - Before reverse - price mean: 0.4727362701111664\n",
            "INFO:PricePredictionExperiment_ANNRegressor:Before reverse - price mean: 0.4727362701111664\n",
            "2025-05-31 23:56:57,005 - PricePredictionExperiment_ANNRegressor - INFO - After reverse - price mean: 67053424.65957447\n",
            "INFO:PricePredictionExperiment_ANNRegressor:After reverse - price mean: 67053424.65957447\n",
            "2025-05-31 23:56:57,012 - PricePredictionExperiment_ANNRegressor - INFO -  Fold 5/5 | Log R2=0.7147 | Orig R2=0.3527\n",
            "INFO:PricePredictionExperiment_ANNRegressor: Fold 5/5 | Log R2=0.7147 | Orig R2=0.3527\n",
            "2025-05-31 23:56:57,767 - PricePredictionExperiment_ANNRegressor - INFO - Before reverse - price mean: 0.46124991486493366\n",
            "INFO:PricePredictionExperiment_ANNRegressor:Before reverse - price mean: 0.46124991486493366\n",
            "2025-05-31 23:56:57,773 - PricePredictionExperiment_ANNRegressor - INFO - After reverse - price mean: 53129052.52542374\n",
            "INFO:PricePredictionExperiment_ANNRegressor:After reverse - price mean: 53129052.52542374\n",
            "2025-05-31 23:56:57,985 - PricePredictionExperiment_ANNRegressor - INFO - Evaluation artifacts saved to /content/results/metrics\n",
            "INFO:PricePredictionExperiment_ANNRegressor:Evaluation artifacts saved to /content/results/metrics\n",
            "2025-05-31 23:56:57,995 - PricePredictionExperiment_ANNRegressor - INFO - Elapsed time for final_cv: 5.40 seconds\n",
            "INFO:PricePredictionExperiment_ANNRegressor:Elapsed time for final_cv: 5.40 seconds\n",
            "2025-05-31 23:56:58,518 - PricePredictionExperiment_ANNRegressor - INFO - Timing started for: final_model_teaching\n",
            "INFO:PricePredictionExperiment_ANNRegressor:Timing started for: final_model_teaching\n",
            "2025-05-31 23:56:58,520 - PricePredictionExperiment_ANNRegressor - INFO - Elapsed time for final_model_teaching: 0.00 seconds\n",
            "INFO:PricePredictionExperiment_ANNRegressor:Elapsed time for final_model_teaching: 0.00 seconds\n",
            "2025-05-31 23:56:58,532 - PricePredictionExperiment_ANNRegressor - INFO - Elapsed time for total: 7.06 seconds\n",
            "INFO:PricePredictionExperiment_ANNRegressor:Elapsed time for total: 7.06 seconds\n",
            "2025-05-31 23:56:58,555 - PricePredictionExperiment_ANNRegressor - INFO - → Запуск конфигурации: price_prediction_ANNRegressor_mixed_tfidf_pca_True_gate_False_mtf_False_\n",
            "INFO:PricePredictionExperiment_ANNRegressor:→ Запуск конфигурации: price_prediction_ANNRegressor_mixed_tfidf_pca_True_gate_False_mtf_False_\n",
            "2025-05-31 23:56:58,556 - PricePredictionExperiment_ANNRegressor - INFO - Loading and preprocessing data...\n",
            "INFO:PricePredictionExperiment_ANNRegressor:Loading and preprocessing data...\n",
            "2025-05-31 23:56:58,583 - PricePredictionExperiment_ANNRegressor - INFO - Applying sample_size: 300\n",
            "INFO:PricePredictionExperiment_ANNRegressor:Applying sample_size: 300\n",
            "2025-05-31 23:56:58,594 - PricePredictionExperiment_ANNRegressor - INFO - Данные прошли строгую валидацию профиля.\n",
            "INFO:PricePredictionExperiment_ANNRegressor:Данные прошли строгую валидацию профиля.\n"
          ]
        },
        {
          "output_type": "stream",
          "name": "stdout",
          "text": [
            "['landCategory', 'wallMaterial', 'bathroom', 'renovation', 'electricity', 'heating', 'waterSupply', 'gas', 'sewerage', 'media', 'parking', 'transportAccessibility', 'saleMethod', 'seller', 'category', 'infrastructure', 'terrace', 'recreation', 'region', 'nearestPPLA', 'nearestPPLA2']\n"
          ]
        },
        {
          "output_type": "stream",
          "name": "stderr",
          "text": [
            "\u001b[32m[I 2025-05-31 23:57:11,323]\u001b[0m A new study created in memory with name: no-name-22fbbe59-88ac-4e14-acd4-e239a6dc316d\u001b[0m\n",
            "2025-05-31 23:57:11,554 - PricePredictionExperiment_ANNRegressor - INFO - Timing started for: total\n",
            "INFO:PricePredictionExperiment_ANNRegressor:Timing started for: total\n",
            "2025-05-31 23:57:11,568 - PricePredictionExperiment_ANNRegressor - INFO - ENV: python_version: 3.11.12 (main, Apr  9 2025, 08:55:54) [GCC 11.4.0]\n",
            "INFO:PricePredictionExperiment_ANNRegressor:ENV: python_version: 3.11.12 (main, Apr  9 2025, 08:55:54) [GCC 11.4.0]\n",
            "2025-05-31 23:57:11,581 - PricePredictionExperiment_ANNRegressor - INFO - ENV: platform: Linux-6.1.123+-x86_64-with-glibc2.35\n",
            "INFO:PricePredictionExperiment_ANNRegressor:ENV: platform: Linux-6.1.123+-x86_64-with-glibc2.35\n",
            "2025-05-31 23:57:11,594 - PricePredictionExperiment_ANNRegressor - INFO - ENV: sklearn_version: 1.6.1\n",
            "INFO:PricePredictionExperiment_ANNRegressor:ENV: sklearn_version: 1.6.1\n",
            "2025-05-31 23:57:11,607 - PricePredictionExperiment_ANNRegressor - INFO - ENV: pandas_version: 2.2.2\n",
            "INFO:PricePredictionExperiment_ANNRegressor:ENV: pandas_version: 2.2.2\n",
            "2025-05-31 23:57:11,619 - PricePredictionExperiment_ANNRegressor - INFO - ENV: numpy_version: 1.26.4\n",
            "INFO:PricePredictionExperiment_ANNRegressor:ENV: numpy_version: 1.26.4\n",
            "2025-05-31 23:57:11,632 - PricePredictionExperiment_ANNRegressor - INFO - ENV: torch_version: 2.6.0+cu124\n",
            "INFO:PricePredictionExperiment_ANNRegressor:ENV: torch_version: 2.6.0+cu124\n",
            "2025-05-31 23:57:11,644 - PricePredictionExperiment_ANNRegressor - INFO - ENV: cuda_available: True\n",
            "INFO:PricePredictionExperiment_ANNRegressor:ENV: cuda_available: True\n",
            "2025-05-31 23:57:11,657 - PricePredictionExperiment_ANNRegressor - INFO - ENV: cuda_device: Tesla T4\n",
            "INFO:PricePredictionExperiment_ANNRegressor:ENV: cuda_device: Tesla T4\n",
            "2025-05-31 23:57:11,668 - PricePredictionExperiment_ANNRegressor - INFO - ENV: run_time: 2025-05-31 23:57:11\n",
            "INFO:PricePredictionExperiment_ANNRegressor:ENV: run_time: 2025-05-31 23:57:11\n",
            "2025-05-31 23:57:11,695 - PricePredictionExperiment_ANNRegressor - INFO - ENV: run_hostname: bd3d025abf46\n",
            "INFO:PricePredictionExperiment_ANNRegressor:ENV: run_hostname: bd3d025abf46\n",
            "2025-05-31 23:57:11,781 - PricePredictionExperiment_ANNRegressor - INFO - Timing started for: optuna\n",
            "INFO:PricePredictionExperiment_ANNRegressor:Timing started for: optuna\n"
          ]
        },
        {
          "output_type": "stream",
          "name": "stdout",
          "text": [
            "CV stratified bins counts: [51 49 50]\n",
            "Running 3-fold CV on 150 samples\n",
            " Fold 0: train_size=100 val_size=50\n",
            "Epoch 1/3 - Loss: 0.0756\n",
            "Epoch 2/3 - Loss: 0.0429\n",
            "Epoch 3/3 - Loss: 0.0328\n"
          ]
        },
        {
          "output_type": "stream",
          "name": "stderr",
          "text": [
            "2025-05-31 23:57:14,524 - PricePredictionExperiment_ANNRegressor - INFO - Before reverse - price mean: 0.46163744810703816\n",
            "INFO:PricePredictionExperiment_ANNRegressor:Before reverse - price mean: 0.46163744810703816\n",
            "2025-05-31 23:57:14,528 - PricePredictionExperiment_ANNRegressor - INFO - After reverse - price mean: 52492874.37999999\n",
            "INFO:PricePredictionExperiment_ANNRegressor:After reverse - price mean: 52492874.37999999\n",
            "2025-05-31 23:57:14,582 - PricePredictionExperiment_ANNRegressor - INFO - Fold 0 - Log scale: R²=-0.2238, RMSE=0.2418, SMAPE=44.0379%\n",
            "Original scale: R²=-0.0341, RMSE=125112856.8253, SMAPE=109.7783%\n",
            "INFO:PricePredictionExperiment_ANNRegressor:Fold 0 - Log scale: R²=-0.2238, RMSE=0.2418, SMAPE=44.0379%\n",
            "Original scale: R²=-0.0341, RMSE=125112856.8253, SMAPE=109.7783%\n"
          ]
        },
        {
          "output_type": "stream",
          "name": "stdout",
          "text": [
            " Fold 1: train_size=100 val_size=50\n",
            "Epoch 1/3 - Loss: 0.3130\n",
            "Epoch 2/3 - Loss: 0.1158\n",
            "Epoch 3/3 - Loss: 0.0606\n"
          ]
        },
        {
          "output_type": "stream",
          "name": "stderr",
          "text": [
            "2025-05-31 23:57:17,126 - PricePredictionExperiment_ANNRegressor - INFO - Before reverse - price mean: 0.44923494890588567\n",
            "INFO:PricePredictionExperiment_ANNRegressor:Before reverse - price mean: 0.44923494890588567\n",
            "2025-05-31 23:57:17,130 - PricePredictionExperiment_ANNRegressor - INFO - After reverse - price mean: 30649667.2\n",
            "INFO:PricePredictionExperiment_ANNRegressor:After reverse - price mean: 30649667.2\n",
            "2025-05-31 23:57:17,192 - PricePredictionExperiment_ANNRegressor - INFO - Fold 1 - Log scale: R²=-2.3701, RMSE=0.3428, SMAPE=56.8777%\n",
            "Original scale: R²=-1.2823, RMSE=87930703.8845, SMAPE=146.0923%\n",
            "INFO:PricePredictionExperiment_ANNRegressor:Fold 1 - Log scale: R²=-2.3701, RMSE=0.3428, SMAPE=56.8777%\n",
            "Original scale: R²=-1.2823, RMSE=87930703.8845, SMAPE=146.0923%\n"
          ]
        },
        {
          "output_type": "stream",
          "name": "stdout",
          "text": [
            " Fold 2: train_size=100 val_size=50\n",
            "Epoch 1/3 - Loss: 0.1666\n",
            "Epoch 2/3 - Loss: 0.0696\n",
            "Epoch 3/3 - Loss: 0.0511\n"
          ]
        },
        {
          "output_type": "stream",
          "name": "stderr",
          "text": [
            "2025-05-31 23:57:20,049 - PricePredictionExperiment_ANNRegressor - INFO - Before reverse - price mean: 0.48160117863933743\n",
            "INFO:PricePredictionExperiment_ANNRegressor:Before reverse - price mean: 0.48160117863933743\n",
            "2025-05-31 23:57:20,056 - PricePredictionExperiment_ANNRegressor - INFO - After reverse - price mean: 70292049.59999996\n",
            "INFO:PricePredictionExperiment_ANNRegressor:After reverse - price mean: 70292049.59999996\n",
            "2025-05-31 23:57:20,142 - PricePredictionExperiment_ANNRegressor - INFO - Fold 2 - Log scale: R²=-0.7622, RMSE=0.2960, SMAPE=50.9087%\n",
            "Original scale: R²=0.0064, RMSE=151108914.8224, SMAPE=140.4930%\n",
            "INFO:PricePredictionExperiment_ANNRegressor:Fold 2 - Log scale: R²=-0.7622, RMSE=0.2960, SMAPE=50.9087%\n",
            "Original scale: R²=0.0064, RMSE=151108914.8224, SMAPE=140.4930%\n",
            "\u001b[32m[I 2025-05-31 23:57:20,186]\u001b[0m Trial 0 finished with value: -1.1186893342471154 and parameters: {'model__learning_rate': 0.0014363502971184061, 'model__neurons_layer1': 196, 'model__neurons_layer2': 84, 'model__neurons_layer3': 45, 'model__batch_size': 74, 'model__epochs': 77, 'model__l1_reg': 0.001051794315597895, 'model__l2_reg': 0.008728673384861885, 'model__activation': 'sigmoid', 'bert__max_len': 384, 'bert__batch_size': 8, 'bert__pooling_type': 'cls', 'bert__lr': 1.3890454258443006e-05}. Best is trial 0 with value: -1.1186893342471154.\u001b[0m\n",
            "2025-05-31 23:57:20,191 - PricePredictionExperiment_ANNRegressor - INFO - Elapsed time for optuna: 8.41 seconds\n",
            "INFO:PricePredictionExperiment_ANNRegressor:Elapsed time for optuna: 8.41 seconds\n",
            "2025-05-31 23:57:20,210 - PricePredictionExperiment_ANNRegressor - INFO - Timing started for: final_cv\n",
            "INFO:PricePredictionExperiment_ANNRegressor:Timing started for: final_cv\n"
          ]
        },
        {
          "output_type": "stream",
          "name": "stdout",
          "text": [
            "Final CV stratified bins counts: [48 47 48 46 47]\n",
            "Running final 5-fold CV on 236 samples\n",
            " FinalCV Fold 0: train_size=188 val_size=48\n",
            "Couldn't determine BERT output dim, using default PCA: 'NoneType' object has no attribute 'bert'\n",
            "Epoch 1/3 - Loss: 0.1045\n",
            "Epoch 2/3 - Loss: 0.0396\n",
            "Epoch 3/3 - Loss: 0.0330\n"
          ]
        },
        {
          "output_type": "stream",
          "name": "stderr",
          "text": [
            "2025-05-31 23:57:25,025 - PricePredictionExperiment_ANNRegressor - INFO - Before reverse - price mean: 0.4550678466274749\n",
            "INFO:PricePredictionExperiment_ANNRegressor:Before reverse - price mean: 0.4550678466274749\n",
            "2025-05-31 23:57:25,034 - PricePredictionExperiment_ANNRegressor - INFO - After reverse - price mean: 35495257.499999985\n",
            "INFO:PricePredictionExperiment_ANNRegressor:After reverse - price mean: 35495257.499999985\n",
            "2025-05-31 23:57:25,044 - PricePredictionExperiment_ANNRegressor - INFO -  Fold 1/5 | Log R2=0.0303 | Orig R2=-0.0456\n",
            "INFO:PricePredictionExperiment_ANNRegressor: Fold 1/5 | Log R2=0.0303 | Orig R2=-0.0456\n"
          ]
        },
        {
          "output_type": "stream",
          "name": "stdout",
          "text": [
            " FinalCV Fold 1: train_size=189 val_size=47\n",
            "Couldn't determine BERT output dim, using default PCA: 'NoneType' object has no attribute 'bert'\n",
            "Epoch 1/3 - Loss: 0.0644\n",
            "Epoch 2/3 - Loss: 0.0424\n",
            "Epoch 3/3 - Loss: 0.0297\n"
          ]
        },
        {
          "output_type": "stream",
          "name": "stderr",
          "text": [
            "2025-05-31 23:57:29,361 - PricePredictionExperiment_ANNRegressor - INFO - Before reverse - price mean: 0.47295177607112204\n",
            "INFO:PricePredictionExperiment_ANNRegressor:Before reverse - price mean: 0.47295177607112204\n",
            "2025-05-31 23:57:29,364 - PricePredictionExperiment_ANNRegressor - INFO - After reverse - price mean: 50921123.40425533\n",
            "INFO:PricePredictionExperiment_ANNRegressor:After reverse - price mean: 50921123.40425533\n",
            "2025-05-31 23:57:29,373 - PricePredictionExperiment_ANNRegressor - INFO -  Fold 2/5 | Log R2=-0.0346 | Orig R2=-0.1484\n",
            "INFO:PricePredictionExperiment_ANNRegressor: Fold 2/5 | Log R2=-0.0346 | Orig R2=-0.1484\n"
          ]
        },
        {
          "output_type": "stream",
          "name": "stdout",
          "text": [
            " FinalCV Fold 2: train_size=189 val_size=47\n",
            "Couldn't determine BERT output dim, using default PCA: 'NoneType' object has no attribute 'bert'\n",
            "Epoch 1/3 - Loss: 0.1045\n",
            "Epoch 2/3 - Loss: 0.0582\n",
            "Epoch 3/3 - Loss: 0.0314\n"
          ]
        },
        {
          "output_type": "stream",
          "name": "stderr",
          "text": [
            "2025-05-31 23:57:34,344 - PricePredictionExperiment_ANNRegressor - INFO - Before reverse - price mean: 0.46109879287422134\n",
            "INFO:PricePredictionExperiment_ANNRegressor:Before reverse - price mean: 0.46109879287422134\n",
            "2025-05-31 23:57:34,354 - PricePredictionExperiment_ANNRegressor - INFO - After reverse - price mean: 50421914.893617004\n",
            "INFO:PricePredictionExperiment_ANNRegressor:After reverse - price mean: 50421914.893617004\n",
            "2025-05-31 23:57:34,365 - PricePredictionExperiment_ANNRegressor - INFO -  Fold 3/5 | Log R2=0.0664 | Orig R2=-0.0920\n",
            "INFO:PricePredictionExperiment_ANNRegressor: Fold 3/5 | Log R2=0.0664 | Orig R2=-0.0920\n"
          ]
        },
        {
          "output_type": "stream",
          "name": "stdout",
          "text": [
            " FinalCV Fold 3: train_size=189 val_size=47\n",
            "Couldn't determine BERT output dim, using default PCA: 'NoneType' object has no attribute 'bert'\n",
            "Epoch 1/3 - Loss: 0.1940\n",
            "Epoch 2/3 - Loss: 0.0507\n",
            "Epoch 3/3 - Loss: 0.0376\n"
          ]
        },
        {
          "output_type": "stream",
          "name": "stderr",
          "text": [
            "2025-05-31 23:57:38,943 - PricePredictionExperiment_ANNRegressor - INFO - Before reverse - price mean: 0.4580297314108511\n",
            "INFO:PricePredictionExperiment_ANNRegressor:Before reverse - price mean: 0.4580297314108511\n",
            "2025-05-31 23:57:38,946 - PricePredictionExperiment_ANNRegressor - INFO - After reverse - price mean: 63415391.4893617\n",
            "INFO:PricePredictionExperiment_ANNRegressor:After reverse - price mean: 63415391.4893617\n",
            "2025-05-31 23:57:38,955 - PricePredictionExperiment_ANNRegressor - INFO -  Fold 4/5 | Log R2=0.0571 | Orig R2=-0.1057\n",
            "INFO:PricePredictionExperiment_ANNRegressor: Fold 4/5 | Log R2=0.0571 | Orig R2=-0.1057\n"
          ]
        },
        {
          "output_type": "stream",
          "name": "stdout",
          "text": [
            " FinalCV Fold 4: train_size=189 val_size=47\n",
            "Couldn't determine BERT output dim, using default PCA: 'NoneType' object has no attribute 'bert'\n",
            "Epoch 1/3 - Loss: 0.0513\n",
            "Epoch 2/3 - Loss: 0.0327\n",
            "Epoch 3/3 - Loss: 0.0271\n"
          ]
        },
        {
          "output_type": "stream",
          "name": "stderr",
          "text": [
            "2025-05-31 23:57:43,301 - PricePredictionExperiment_ANNRegressor - INFO - Before reverse - price mean: 0.4727362701111664\n",
            "INFO:PricePredictionExperiment_ANNRegressor:Before reverse - price mean: 0.4727362701111664\n",
            "2025-05-31 23:57:43,308 - PricePredictionExperiment_ANNRegressor - INFO - After reverse - price mean: 67053424.65957447\n",
            "INFO:PricePredictionExperiment_ANNRegressor:After reverse - price mean: 67053424.65957447\n",
            "2025-05-31 23:57:43,314 - PricePredictionExperiment_ANNRegressor - INFO -  Fold 5/5 | Log R2=0.0131 | Orig R2=-0.1605\n",
            "INFO:PricePredictionExperiment_ANNRegressor: Fold 5/5 | Log R2=0.0131 | Orig R2=-0.1605\n"
          ]
        },
        {
          "output_type": "stream",
          "name": "stdout",
          "text": [
            "Couldn't determine BERT output dim, using default PCA: 'NoneType' object has no attribute 'bert'\n",
            "Epoch 1/3 - Loss: 0.0768\n",
            "Epoch 2/3 - Loss: 0.0448\n",
            "Epoch 3/3 - Loss: 0.0354\n"
          ]
        },
        {
          "output_type": "stream",
          "name": "stderr",
          "text": [
            "2025-05-31 23:57:49,300 - PricePredictionExperiment_ANNRegressor - INFO - Before reverse - price mean: 0.46124991486493366\n",
            "INFO:PricePredictionExperiment_ANNRegressor:Before reverse - price mean: 0.46124991486493366\n",
            "2025-05-31 23:57:49,302 - PricePredictionExperiment_ANNRegressor - INFO - After reverse - price mean: 53129052.52542374\n",
            "INFO:PricePredictionExperiment_ANNRegressor:After reverse - price mean: 53129052.52542374\n",
            "2025-05-31 23:57:49,514 - PricePredictionExperiment_ANNRegressor - INFO - Evaluation artifacts saved to /content/results/metrics\n",
            "INFO:PricePredictionExperiment_ANNRegressor:Evaluation artifacts saved to /content/results/metrics\n",
            "2025-05-31 23:57:49,546 - PricePredictionExperiment_ANNRegressor - INFO - Elapsed time for final_cv: 29.34 seconds\n",
            "INFO:PricePredictionExperiment_ANNRegressor:Elapsed time for final_cv: 29.34 seconds\n",
            "2025-05-31 23:57:50,063 - PricePredictionExperiment_ANNRegressor - INFO - Timing started for: final_model_teaching\n",
            "INFO:PricePredictionExperiment_ANNRegressor:Timing started for: final_model_teaching\n",
            "2025-05-31 23:57:50,065 - PricePredictionExperiment_ANNRegressor - INFO - Elapsed time for final_model_teaching: 0.00 seconds\n",
            "INFO:PricePredictionExperiment_ANNRegressor:Elapsed time for final_model_teaching: 0.00 seconds\n",
            "2025-05-31 23:57:50,078 - PricePredictionExperiment_ANNRegressor - INFO - Elapsed time for total: 38.52 seconds\n",
            "INFO:PricePredictionExperiment_ANNRegressor:Elapsed time for total: 38.52 seconds\n",
            "2025-05-31 23:57:50,115 - PricePredictionExperiment_ANNRegressor - INFO - → Запуск конфигурации: price_prediction_ANNRegressor_text-only_rubert_pca_True_gate_False_mtf_False_\n",
            "INFO:PricePredictionExperiment_ANNRegressor:→ Запуск конфигурации: price_prediction_ANNRegressor_text-only_rubert_pca_True_gate_False_mtf_False_\n",
            "2025-05-31 23:57:50,116 - PricePredictionExperiment_ANNRegressor - INFO - Loading and preprocessing data...\n",
            "INFO:PricePredictionExperiment_ANNRegressor:Loading and preprocessing data...\n",
            "2025-05-31 23:57:50,143 - PricePredictionExperiment_ANNRegressor - INFO - Applying sample_size: 300\n",
            "INFO:PricePredictionExperiment_ANNRegressor:Applying sample_size: 300\n",
            "2025-05-31 23:57:50,152 - PricePredictionExperiment_ANNRegressor - INFO - Данные прошли строгую валидацию профиля.\n",
            "INFO:PricePredictionExperiment_ANNRegressor:Данные прошли строгую валидацию профиля.\n"
          ]
        },
        {
          "output_type": "stream",
          "name": "stdout",
          "text": [
            "['landCategory', 'wallMaterial', 'bathroom', 'renovation', 'electricity', 'heating', 'waterSupply', 'gas', 'sewerage', 'media', 'parking', 'transportAccessibility', 'saleMethod', 'seller', 'category', 'infrastructure', 'terrace', 'recreation', 'region', 'nearestPPLA', 'nearestPPLA2']\n"
          ]
        },
        {
          "output_type": "stream",
          "name": "stderr",
          "text": [
            "\u001b[32m[I 2025-05-31 23:58:02,466]\u001b[0m A new study created in memory with name: no-name-46d062e0-351c-4501-9b04-80315a76c650\u001b[0m\n",
            "2025-05-31 23:58:02,680 - PricePredictionExperiment_ANNRegressor - INFO - Timing started for: total\n",
            "INFO:PricePredictionExperiment_ANNRegressor:Timing started for: total\n",
            "2025-05-31 23:58:02,708 - PricePredictionExperiment_ANNRegressor - INFO - ENV: python_version: 3.11.12 (main, Apr  9 2025, 08:55:54) [GCC 11.4.0]\n",
            "INFO:PricePredictionExperiment_ANNRegressor:ENV: python_version: 3.11.12 (main, Apr  9 2025, 08:55:54) [GCC 11.4.0]\n",
            "2025-05-31 23:58:02,720 - PricePredictionExperiment_ANNRegressor - INFO - ENV: platform: Linux-6.1.123+-x86_64-with-glibc2.35\n",
            "INFO:PricePredictionExperiment_ANNRegressor:ENV: platform: Linux-6.1.123+-x86_64-with-glibc2.35\n",
            "2025-05-31 23:58:02,733 - PricePredictionExperiment_ANNRegressor - INFO - ENV: sklearn_version: 1.6.1\n",
            "INFO:PricePredictionExperiment_ANNRegressor:ENV: sklearn_version: 1.6.1\n",
            "2025-05-31 23:58:02,745 - PricePredictionExperiment_ANNRegressor - INFO - ENV: pandas_version: 2.2.2\n",
            "INFO:PricePredictionExperiment_ANNRegressor:ENV: pandas_version: 2.2.2\n",
            "2025-05-31 23:58:02,757 - PricePredictionExperiment_ANNRegressor - INFO - ENV: numpy_version: 1.26.4\n",
            "INFO:PricePredictionExperiment_ANNRegressor:ENV: numpy_version: 1.26.4\n",
            "2025-05-31 23:58:02,770 - PricePredictionExperiment_ANNRegressor - INFO - ENV: torch_version: 2.6.0+cu124\n",
            "INFO:PricePredictionExperiment_ANNRegressor:ENV: torch_version: 2.6.0+cu124\n",
            "2025-05-31 23:58:02,782 - PricePredictionExperiment_ANNRegressor - INFO - ENV: cuda_available: True\n",
            "INFO:PricePredictionExperiment_ANNRegressor:ENV: cuda_available: True\n",
            "2025-05-31 23:58:02,795 - PricePredictionExperiment_ANNRegressor - INFO - ENV: cuda_device: Tesla T4\n",
            "INFO:PricePredictionExperiment_ANNRegressor:ENV: cuda_device: Tesla T4\n",
            "2025-05-31 23:58:02,808 - PricePredictionExperiment_ANNRegressor - INFO - ENV: run_time: 2025-05-31 23:58:02\n",
            "INFO:PricePredictionExperiment_ANNRegressor:ENV: run_time: 2025-05-31 23:58:02\n",
            "2025-05-31 23:58:02,819 - PricePredictionExperiment_ANNRegressor - INFO - ENV: run_hostname: bd3d025abf46\n",
            "INFO:PricePredictionExperiment_ANNRegressor:ENV: run_hostname: bd3d025abf46\n",
            "2025-05-31 23:58:02,911 - PricePredictionExperiment_ANNRegressor - INFO - Timing started for: optuna\n",
            "INFO:PricePredictionExperiment_ANNRegressor:Timing started for: optuna\n"
          ]
        },
        {
          "output_type": "stream",
          "name": "stdout",
          "text": [
            "CV stratified bins counts: [51 49 50]\n",
            "Running 3-fold CV on 150 samples\n",
            " Fold 0: train_size=100 val_size=50\n"
          ]
        },
        {
          "output_type": "stream",
          "name": "stderr",
          "text": [
            "2025-05-31 23:58:03,464 - PricePredictionExperiment_ANNRegressor - INFO - Before reverse - price mean: 0.46163744810703816\n",
            "INFO:PricePredictionExperiment_ANNRegressor:Before reverse - price mean: 0.46163744810703816\n",
            "2025-05-31 23:58:03,469 - PricePredictionExperiment_ANNRegressor - INFO - After reverse - price mean: 52492874.37999999\n",
            "INFO:PricePredictionExperiment_ANNRegressor:After reverse - price mean: 52492874.37999999\n",
            "2025-05-31 23:58:03,524 - PricePredictionExperiment_ANNRegressor - INFO - Fold 0 - Log scale: R²=-0.8977, RMSE=0.3011, SMAPE=52.7494%\n",
            "Original scale: R²=-0.0023, RMSE=123175062.2888, SMAPE=134.7746%\n",
            "INFO:PricePredictionExperiment_ANNRegressor:Fold 0 - Log scale: R²=-0.8977, RMSE=0.3011, SMAPE=52.7494%\n",
            "Original scale: R²=-0.0023, RMSE=123175062.2888, SMAPE=134.7746%\n"
          ]
        },
        {
          "output_type": "stream",
          "name": "stdout",
          "text": [
            " Fold 1: train_size=100 val_size=50\n"
          ]
        },
        {
          "output_type": "stream",
          "name": "stderr",
          "text": [
            "2025-05-31 23:58:03,955 - PricePredictionExperiment_ANNRegressor - INFO - Before reverse - price mean: 0.44923494890588567\n",
            "INFO:PricePredictionExperiment_ANNRegressor:Before reverse - price mean: 0.44923494890588567\n",
            "2025-05-31 23:58:03,958 - PricePredictionExperiment_ANNRegressor - INFO - After reverse - price mean: 30649667.2\n",
            "INFO:PricePredictionExperiment_ANNRegressor:After reverse - price mean: 30649667.2\n",
            "2025-05-31 23:58:04,026 - PricePredictionExperiment_ANNRegressor - INFO - Fold 1 - Log scale: R²=-0.9376, RMSE=0.2599, SMAPE=45.9116%\n",
            "Original scale: R²=-0.0417, RMSE=59404299.2184, SMAPE=118.7483%\n",
            "INFO:PricePredictionExperiment_ANNRegressor:Fold 1 - Log scale: R²=-0.9376, RMSE=0.2599, SMAPE=45.9116%\n",
            "Original scale: R²=-0.0417, RMSE=59404299.2184, SMAPE=118.7483%\n"
          ]
        },
        {
          "output_type": "stream",
          "name": "stdout",
          "text": [
            " Fold 2: train_size=100 val_size=50\n"
          ]
        },
        {
          "output_type": "stream",
          "name": "stderr",
          "text": [
            "2025-05-31 23:58:04,462 - PricePredictionExperiment_ANNRegressor - INFO - Before reverse - price mean: 0.48160117863933743\n",
            "INFO:PricePredictionExperiment_ANNRegressor:Before reverse - price mean: 0.48160117863933743\n",
            "2025-05-31 23:58:04,467 - PricePredictionExperiment_ANNRegressor - INFO - After reverse - price mean: 70292049.59999996\n",
            "INFO:PricePredictionExperiment_ANNRegressor:After reverse - price mean: 70292049.59999996\n",
            "2025-05-31 23:58:04,522 - PricePredictionExperiment_ANNRegressor - INFO - Fold 2 - Log scale: R²=-0.9290, RMSE=0.3097, SMAPE=52.5400%\n",
            "Original scale: R²=-0.0007, RMSE=151650415.4359, SMAPE=144.0242%\n",
            "INFO:PricePredictionExperiment_ANNRegressor:Fold 2 - Log scale: R²=-0.9290, RMSE=0.3097, SMAPE=52.5400%\n",
            "Original scale: R²=-0.0007, RMSE=151650415.4359, SMAPE=144.0242%\n",
            "\u001b[32m[I 2025-05-31 23:58:04,526]\u001b[0m Trial 0 finished with value: -0.9214494085080517 and parameters: {'model__learning_rate': 0.0014363502971184061, 'model__neurons_layer1': 196, 'model__neurons_layer2': 84, 'model__neurons_layer3': 45, 'model__batch_size': 74, 'model__epochs': 77, 'model__l1_reg': 0.001051794315597895, 'model__l2_reg': 0.008728673384861885, 'model__activation': 'sigmoid', 'w2v__vector_size': 250, 'w2v__window': 12, 'w2v__min_count': 1, 'w2v__sg': 0}. Best is trial 0 with value: -0.9214494085080517.\u001b[0m\n",
            "2025-05-31 23:58:04,527 - PricePredictionExperiment_ANNRegressor - INFO - Elapsed time for optuna: 1.62 seconds\n",
            "INFO:PricePredictionExperiment_ANNRegressor:Elapsed time for optuna: 1.62 seconds\n",
            "2025-05-31 23:58:04,540 - PricePredictionExperiment_ANNRegressor - INFO - Timing started for: final_cv\n",
            "INFO:PricePredictionExperiment_ANNRegressor:Timing started for: final_cv\n"
          ]
        },
        {
          "output_type": "stream",
          "name": "stdout",
          "text": [
            "Final CV stratified bins counts: [48 47 48 46 47]\n",
            "Running final 5-fold CV on 236 samples\n",
            " FinalCV Fold 0: train_size=188 val_size=48\n"
          ]
        },
        {
          "output_type": "stream",
          "name": "stderr",
          "text": [
            "2025-05-31 23:58:05,455 - PricePredictionExperiment_ANNRegressor - INFO - Before reverse - price mean: 0.4550678466274749\n",
            "INFO:PricePredictionExperiment_ANNRegressor:Before reverse - price mean: 0.4550678466274749\n",
            "2025-05-31 23:58:05,464 - PricePredictionExperiment_ANNRegressor - INFO - After reverse - price mean: 35495257.499999985\n",
            "INFO:PricePredictionExperiment_ANNRegressor:After reverse - price mean: 35495257.499999985\n",
            "2025-05-31 23:58:05,474 - PricePredictionExperiment_ANNRegressor - INFO -  Fold 1/5 | Log R2=-0.0050 | Orig R2=-0.0788\n",
            "INFO:PricePredictionExperiment_ANNRegressor: Fold 1/5 | Log R2=-0.0050 | Orig R2=-0.0788\n"
          ]
        },
        {
          "output_type": "stream",
          "name": "stdout",
          "text": [
            " FinalCV Fold 1: train_size=189 val_size=47\n"
          ]
        },
        {
          "output_type": "stream",
          "name": "stderr",
          "text": [
            "2025-05-31 23:58:06,272 - PricePredictionExperiment_ANNRegressor - INFO - Before reverse - price mean: 0.47295177607112204\n",
            "INFO:PricePredictionExperiment_ANNRegressor:Before reverse - price mean: 0.47295177607112204\n",
            "2025-05-31 23:58:06,277 - PricePredictionExperiment_ANNRegressor - INFO - After reverse - price mean: 50921123.40425533\n",
            "INFO:PricePredictionExperiment_ANNRegressor:After reverse - price mean: 50921123.40425533\n",
            "2025-05-31 23:58:06,283 - PricePredictionExperiment_ANNRegressor - INFO -  Fold 2/5 | Log R2=0.0007 | Orig R2=-0.1312\n",
            "INFO:PricePredictionExperiment_ANNRegressor: Fold 2/5 | Log R2=0.0007 | Orig R2=-0.1312\n"
          ]
        },
        {
          "output_type": "stream",
          "name": "stdout",
          "text": [
            " FinalCV Fold 2: train_size=189 val_size=47\n"
          ]
        },
        {
          "output_type": "stream",
          "name": "stderr",
          "text": [
            "2025-05-31 23:58:07,156 - PricePredictionExperiment_ANNRegressor - INFO - Before reverse - price mean: 0.46109879287422134\n",
            "INFO:PricePredictionExperiment_ANNRegressor:Before reverse - price mean: 0.46109879287422134\n",
            "2025-05-31 23:58:07,159 - PricePredictionExperiment_ANNRegressor - INFO - After reverse - price mean: 50421914.893617004\n",
            "INFO:PricePredictionExperiment_ANNRegressor:After reverse - price mean: 50421914.893617004\n",
            "2025-05-31 23:58:07,164 - PricePredictionExperiment_ANNRegressor - INFO -  Fold 3/5 | Log R2=-0.0031 | Orig R2=-0.1122\n",
            "INFO:PricePredictionExperiment_ANNRegressor: Fold 3/5 | Log R2=-0.0031 | Orig R2=-0.1122\n"
          ]
        },
        {
          "output_type": "stream",
          "name": "stdout",
          "text": [
            " FinalCV Fold 3: train_size=189 val_size=47\n"
          ]
        },
        {
          "output_type": "stream",
          "name": "stderr",
          "text": [
            "2025-05-31 23:58:07,971 - PricePredictionExperiment_ANNRegressor - INFO - Before reverse - price mean: 0.4580297314108511\n",
            "INFO:PricePredictionExperiment_ANNRegressor:Before reverse - price mean: 0.4580297314108511\n",
            "2025-05-31 23:58:07,975 - PricePredictionExperiment_ANNRegressor - INFO - After reverse - price mean: 63415391.4893617\n",
            "INFO:PricePredictionExperiment_ANNRegressor:After reverse - price mean: 63415391.4893617\n",
            "2025-05-31 23:58:07,981 - PricePredictionExperiment_ANNRegressor - INFO -  Fold 4/5 | Log R2=0.0032 | Orig R2=-0.1110\n",
            "INFO:PricePredictionExperiment_ANNRegressor: Fold 4/5 | Log R2=0.0032 | Orig R2=-0.1110\n"
          ]
        },
        {
          "output_type": "stream",
          "name": "stdout",
          "text": [
            " FinalCV Fold 4: train_size=189 val_size=47\n"
          ]
        },
        {
          "output_type": "stream",
          "name": "stderr",
          "text": [
            "2025-05-31 23:58:08,803 - PricePredictionExperiment_ANNRegressor - INFO - Before reverse - price mean: 0.4727362701111664\n",
            "INFO:PricePredictionExperiment_ANNRegressor:Before reverse - price mean: 0.4727362701111664\n",
            "2025-05-31 23:58:08,811 - PricePredictionExperiment_ANNRegressor - INFO - After reverse - price mean: 67053424.65957447\n",
            "INFO:PricePredictionExperiment_ANNRegressor:After reverse - price mean: 67053424.65957447\n",
            "2025-05-31 23:58:08,816 - PricePredictionExperiment_ANNRegressor - INFO -  Fold 5/5 | Log R2=-0.0007 | Orig R2=-0.1570\n",
            "INFO:PricePredictionExperiment_ANNRegressor: Fold 5/5 | Log R2=-0.0007 | Orig R2=-0.1570\n",
            "2025-05-31 23:58:09,755 - PricePredictionExperiment_ANNRegressor - INFO - Before reverse - price mean: 0.46124991486493366\n",
            "INFO:PricePredictionExperiment_ANNRegressor:Before reverse - price mean: 0.46124991486493366\n",
            "2025-05-31 23:58:09,764 - PricePredictionExperiment_ANNRegressor - INFO - After reverse - price mean: 53129052.52542374\n",
            "INFO:PricePredictionExperiment_ANNRegressor:After reverse - price mean: 53129052.52542374\n",
            "2025-05-31 23:58:09,970 - PricePredictionExperiment_ANNRegressor - INFO - Evaluation artifacts saved to /content/results/metrics\n",
            "INFO:PricePredictionExperiment_ANNRegressor:Evaluation artifacts saved to /content/results/metrics\n",
            "2025-05-31 23:58:09,979 - PricePredictionExperiment_ANNRegressor - INFO - Elapsed time for final_cv: 5.44 seconds\n",
            "INFO:PricePredictionExperiment_ANNRegressor:Elapsed time for final_cv: 5.44 seconds\n",
            "2025-05-31 23:58:10,519 - PricePredictionExperiment_ANNRegressor - INFO - Timing started for: final_model_teaching\n",
            "INFO:PricePredictionExperiment_ANNRegressor:Timing started for: final_model_teaching\n",
            "2025-05-31 23:58:10,520 - PricePredictionExperiment_ANNRegressor - INFO - Elapsed time for final_model_teaching: 0.00 seconds\n",
            "INFO:PricePredictionExperiment_ANNRegressor:Elapsed time for final_model_teaching: 0.00 seconds\n",
            "2025-05-31 23:58:10,533 - PricePredictionExperiment_ANNRegressor - INFO - Elapsed time for total: 7.85 seconds\n",
            "INFO:PricePredictionExperiment_ANNRegressor:Elapsed time for total: 7.85 seconds\n",
            "2025-05-31 23:58:10,556 - PricePredictionExperiment_ANNRegressor - INFO - → Запуск конфигурации: price_prediction_ANNRegressor_text-only_w2v_pca_True_gate_False_mtf_False_\n",
            "INFO:PricePredictionExperiment_ANNRegressor:→ Запуск конфигурации: price_prediction_ANNRegressor_text-only_w2v_pca_True_gate_False_mtf_False_\n",
            "2025-05-31 23:58:10,558 - PricePredictionExperiment_ANNRegressor - INFO - Loading and preprocessing data...\n",
            "INFO:PricePredictionExperiment_ANNRegressor:Loading and preprocessing data...\n",
            "2025-05-31 23:58:10,585 - PricePredictionExperiment_ANNRegressor - INFO - Applying sample_size: 300\n",
            "INFO:PricePredictionExperiment_ANNRegressor:Applying sample_size: 300\n",
            "2025-05-31 23:58:10,593 - PricePredictionExperiment_ANNRegressor - INFO - Данные прошли строгую валидацию профиля.\n",
            "INFO:PricePredictionExperiment_ANNRegressor:Данные прошли строгую валидацию профиля.\n"
          ]
        },
        {
          "output_type": "stream",
          "name": "stdout",
          "text": [
            "['landCategory', 'wallMaterial', 'bathroom', 'renovation', 'electricity', 'heating', 'waterSupply', 'gas', 'sewerage', 'media', 'parking', 'transportAccessibility', 'saleMethod', 'seller', 'category', 'infrastructure', 'terrace', 'recreation', 'region', 'nearestPPLA', 'nearestPPLA2']\n"
          ]
        },
        {
          "output_type": "stream",
          "name": "stderr",
          "text": [
            "\u001b[32m[I 2025-05-31 23:58:23,147]\u001b[0m A new study created in memory with name: no-name-e9c47523-852f-4165-b390-8c1e51f64cd5\u001b[0m\n",
            "2025-05-31 23:58:23,355 - PricePredictionExperiment_ANNRegressor - INFO - Timing started for: total\n",
            "INFO:PricePredictionExperiment_ANNRegressor:Timing started for: total\n",
            "2025-05-31 23:58:23,369 - PricePredictionExperiment_ANNRegressor - INFO - ENV: python_version: 3.11.12 (main, Apr  9 2025, 08:55:54) [GCC 11.4.0]\n",
            "INFO:PricePredictionExperiment_ANNRegressor:ENV: python_version: 3.11.12 (main, Apr  9 2025, 08:55:54) [GCC 11.4.0]\n",
            "2025-05-31 23:58:23,382 - PricePredictionExperiment_ANNRegressor - INFO - ENV: platform: Linux-6.1.123+-x86_64-with-glibc2.35\n",
            "INFO:PricePredictionExperiment_ANNRegressor:ENV: platform: Linux-6.1.123+-x86_64-with-glibc2.35\n",
            "2025-05-31 23:58:23,395 - PricePredictionExperiment_ANNRegressor - INFO - ENV: sklearn_version: 1.6.1\n",
            "INFO:PricePredictionExperiment_ANNRegressor:ENV: sklearn_version: 1.6.1\n",
            "2025-05-31 23:58:23,423 - PricePredictionExperiment_ANNRegressor - INFO - ENV: pandas_version: 2.2.2\n",
            "INFO:PricePredictionExperiment_ANNRegressor:ENV: pandas_version: 2.2.2\n",
            "2025-05-31 23:58:23,436 - PricePredictionExperiment_ANNRegressor - INFO - ENV: numpy_version: 1.26.4\n",
            "INFO:PricePredictionExperiment_ANNRegressor:ENV: numpy_version: 1.26.4\n",
            "2025-05-31 23:58:23,449 - PricePredictionExperiment_ANNRegressor - INFO - ENV: torch_version: 2.6.0+cu124\n",
            "INFO:PricePredictionExperiment_ANNRegressor:ENV: torch_version: 2.6.0+cu124\n",
            "2025-05-31 23:58:23,463 - PricePredictionExperiment_ANNRegressor - INFO - ENV: cuda_available: True\n",
            "INFO:PricePredictionExperiment_ANNRegressor:ENV: cuda_available: True\n",
            "2025-05-31 23:58:23,477 - PricePredictionExperiment_ANNRegressor - INFO - ENV: cuda_device: Tesla T4\n",
            "INFO:PricePredictionExperiment_ANNRegressor:ENV: cuda_device: Tesla T4\n",
            "2025-05-31 23:58:23,489 - PricePredictionExperiment_ANNRegressor - INFO - ENV: run_time: 2025-05-31 23:58:23\n",
            "INFO:PricePredictionExperiment_ANNRegressor:ENV: run_time: 2025-05-31 23:58:23\n",
            "2025-05-31 23:58:23,501 - PricePredictionExperiment_ANNRegressor - INFO - ENV: run_hostname: bd3d025abf46\n",
            "INFO:PricePredictionExperiment_ANNRegressor:ENV: run_hostname: bd3d025abf46\n",
            "2025-05-31 23:58:23,594 - PricePredictionExperiment_ANNRegressor - INFO - Timing started for: optuna\n",
            "INFO:PricePredictionExperiment_ANNRegressor:Timing started for: optuna\n",
            "2025-05-31 23:58:23,873 - PricePredictionExperiment_ANNRegressor - INFO - Before reverse - price mean: 0.46163744810703816\n",
            "INFO:PricePredictionExperiment_ANNRegressor:Before reverse - price mean: 0.46163744810703816\n",
            "2025-05-31 23:58:23,876 - PricePredictionExperiment_ANNRegressor - INFO - After reverse - price mean: 52492874.37999999\n",
            "INFO:PricePredictionExperiment_ANNRegressor:After reverse - price mean: 52492874.37999999\n"
          ]
        },
        {
          "output_type": "stream",
          "name": "stdout",
          "text": [
            "CV stratified bins counts: [51 49 50]\n",
            "Running 3-fold CV on 150 samples\n",
            " Fold 0: train_size=100 val_size=50\n"
          ]
        },
        {
          "output_type": "stream",
          "name": "stderr",
          "text": [
            "2025-05-31 23:58:23,948 - PricePredictionExperiment_ANNRegressor - INFO - Fold 0 - Log scale: R²=-0.2307, RMSE=0.2425, SMAPE=44.0608%\n",
            "Original scale: R²=-0.0442, RMSE=125722336.5012, SMAPE=109.6448%\n",
            "INFO:PricePredictionExperiment_ANNRegressor:Fold 0 - Log scale: R²=-0.2307, RMSE=0.2425, SMAPE=44.0608%\n",
            "Original scale: R²=-0.0442, RMSE=125722336.5012, SMAPE=109.6448%\n",
            "2025-05-31 23:58:24,126 - PricePredictionExperiment_ANNRegressor - INFO - Before reverse - price mean: 0.44923494890588567\n",
            "INFO:PricePredictionExperiment_ANNRegressor:Before reverse - price mean: 0.44923494890588567\n",
            "2025-05-31 23:58:24,129 - PricePredictionExperiment_ANNRegressor - INFO - After reverse - price mean: 30649667.2\n",
            "INFO:PricePredictionExperiment_ANNRegressor:After reverse - price mean: 30649667.2\n"
          ]
        },
        {
          "output_type": "stream",
          "name": "stdout",
          "text": [
            " Fold 1: train_size=100 val_size=50\n"
          ]
        },
        {
          "output_type": "stream",
          "name": "stderr",
          "text": [
            "2025-05-31 23:58:24,203 - PricePredictionExperiment_ANNRegressor - INFO - Fold 1 - Log scale: R²=-1.0957, RMSE=0.2703, SMAPE=47.3878%\n",
            "Original scale: R²=-0.0778, RMSE=60425062.7279, SMAPE=122.6704%\n",
            "INFO:PricePredictionExperiment_ANNRegressor:Fold 1 - Log scale: R²=-1.0957, RMSE=0.2703, SMAPE=47.3878%\n",
            "Original scale: R²=-0.0778, RMSE=60425062.7279, SMAPE=122.6704%\n",
            "2025-05-31 23:58:24,384 - PricePredictionExperiment_ANNRegressor - INFO - Before reverse - price mean: 0.48160117863933743\n",
            "INFO:PricePredictionExperiment_ANNRegressor:Before reverse - price mean: 0.48160117863933743\n",
            "2025-05-31 23:58:24,387 - PricePredictionExperiment_ANNRegressor - INFO - After reverse - price mean: 70292049.59999996\n",
            "INFO:PricePredictionExperiment_ANNRegressor:After reverse - price mean: 70292049.59999996\n"
          ]
        },
        {
          "output_type": "stream",
          "name": "stdout",
          "text": [
            " Fold 2: train_size=100 val_size=50\n"
          ]
        },
        {
          "output_type": "stream",
          "name": "stderr",
          "text": [
            "2025-05-31 23:58:24,443 - PricePredictionExperiment_ANNRegressor - INFO - Fold 2 - Log scale: R²=-0.1956, RMSE=0.2438, SMAPE=43.2356%\n",
            "Original scale: R²=-0.0730, RMSE=157030983.3899, SMAPE=120.1761%\n",
            "INFO:PricePredictionExperiment_ANNRegressor:Fold 2 - Log scale: R²=-0.1956, RMSE=0.2438, SMAPE=43.2356%\n",
            "Original scale: R²=-0.0730, RMSE=157030983.3899, SMAPE=120.1761%\n",
            "\u001b[32m[I 2025-05-31 23:58:24,445]\u001b[0m Trial 0 finished with value: -0.5073204753204634 and parameters: {'model__learning_rate': 0.0014363502971184061, 'model__neurons_layer1': 196, 'model__neurons_layer2': 84, 'model__neurons_layer3': 45, 'model__batch_size': 74, 'model__epochs': 77, 'model__l1_reg': 0.001051794315597895, 'model__l2_reg': 0.008728673384861885, 'model__activation': 'sigmoid', 'tfidf__max_features': 420, 'tfidf__ngram_range_max': 3, 'tfidf__min_df': 1, 'tfidf__max_df': 0.9909729556485982}. Best is trial 0 with value: -0.5073204753204634.\u001b[0m\n",
            "2025-05-31 23:58:24,447 - PricePredictionExperiment_ANNRegressor - INFO - Elapsed time for optuna: 0.85 seconds\n",
            "INFO:PricePredictionExperiment_ANNRegressor:Elapsed time for optuna: 0.85 seconds\n",
            "2025-05-31 23:58:24,462 - PricePredictionExperiment_ANNRegressor - INFO - Timing started for: final_cv\n",
            "INFO:PricePredictionExperiment_ANNRegressor:Timing started for: final_cv\n"
          ]
        },
        {
          "output_type": "stream",
          "name": "stdout",
          "text": [
            "Final CV stratified bins counts: [48 47 48 46 47]\n",
            "Running final 5-fold CV on 236 samples\n",
            " FinalCV Fold 0: train_size=188 val_size=48\n"
          ]
        },
        {
          "output_type": "stream",
          "name": "stderr",
          "text": [
            "2025-05-31 23:58:25,112 - PricePredictionExperiment_ANNRegressor - INFO - Before reverse - price mean: 0.4550678466274749\n",
            "INFO:PricePredictionExperiment_ANNRegressor:Before reverse - price mean: 0.4550678466274749\n",
            "2025-05-31 23:58:25,119 - PricePredictionExperiment_ANNRegressor - INFO - After reverse - price mean: 35495257.499999985\n",
            "INFO:PricePredictionExperiment_ANNRegressor:After reverse - price mean: 35495257.499999985\n",
            "2025-05-31 23:58:25,128 - PricePredictionExperiment_ANNRegressor - INFO -  Fold 1/5 | Log R2=-0.0006 | Orig R2=-0.0808\n",
            "INFO:PricePredictionExperiment_ANNRegressor: Fold 1/5 | Log R2=-0.0006 | Orig R2=-0.0808\n"
          ]
        },
        {
          "output_type": "stream",
          "name": "stdout",
          "text": [
            " FinalCV Fold 1: train_size=189 val_size=47\n"
          ]
        },
        {
          "output_type": "stream",
          "name": "stderr",
          "text": [
            "2025-05-31 23:58:25,845 - PricePredictionExperiment_ANNRegressor - INFO - Before reverse - price mean: 0.47295177607112204\n",
            "INFO:PricePredictionExperiment_ANNRegressor:Before reverse - price mean: 0.47295177607112204\n",
            "2025-05-31 23:58:25,855 - PricePredictionExperiment_ANNRegressor - INFO - After reverse - price mean: 50921123.40425533\n",
            "INFO:PricePredictionExperiment_ANNRegressor:After reverse - price mean: 50921123.40425533\n",
            "2025-05-31 23:58:25,871 - PricePredictionExperiment_ANNRegressor - INFO -  Fold 2/5 | Log R2=0.0003 | Orig R2=-0.1148\n",
            "INFO:PricePredictionExperiment_ANNRegressor: Fold 2/5 | Log R2=0.0003 | Orig R2=-0.1148\n"
          ]
        },
        {
          "output_type": "stream",
          "name": "stdout",
          "text": [
            " FinalCV Fold 2: train_size=189 val_size=47\n"
          ]
        },
        {
          "output_type": "stream",
          "name": "stderr",
          "text": [
            "2025-05-31 23:58:26,625 - PricePredictionExperiment_ANNRegressor - INFO - Before reverse - price mean: 0.46109879287422134\n",
            "INFO:PricePredictionExperiment_ANNRegressor:Before reverse - price mean: 0.46109879287422134\n",
            "2025-05-31 23:58:26,630 - PricePredictionExperiment_ANNRegressor - INFO - After reverse - price mean: 50421914.893617004\n",
            "INFO:PricePredictionExperiment_ANNRegressor:After reverse - price mean: 50421914.893617004\n",
            "2025-05-31 23:58:26,637 - PricePredictionExperiment_ANNRegressor - INFO -  Fold 3/5 | Log R2=-0.0057 | Orig R2=-0.1102\n",
            "INFO:PricePredictionExperiment_ANNRegressor: Fold 3/5 | Log R2=-0.0057 | Orig R2=-0.1102\n"
          ]
        },
        {
          "output_type": "stream",
          "name": "stdout",
          "text": [
            " FinalCV Fold 3: train_size=189 val_size=47\n"
          ]
        },
        {
          "output_type": "stream",
          "name": "stderr",
          "text": [
            "2025-05-31 23:58:27,430 - PricePredictionExperiment_ANNRegressor - INFO - Before reverse - price mean: 0.4580297314108511\n",
            "INFO:PricePredictionExperiment_ANNRegressor:Before reverse - price mean: 0.4580297314108511\n",
            "2025-05-31 23:58:27,438 - PricePredictionExperiment_ANNRegressor - INFO - After reverse - price mean: 63415391.4893617\n",
            "INFO:PricePredictionExperiment_ANNRegressor:After reverse - price mean: 63415391.4893617\n",
            "2025-05-31 23:58:27,444 - PricePredictionExperiment_ANNRegressor - INFO -  Fold 4/5 | Log R2=-0.0369 | Orig R2=-0.0933\n",
            "INFO:PricePredictionExperiment_ANNRegressor: Fold 4/5 | Log R2=-0.0369 | Orig R2=-0.0933\n"
          ]
        },
        {
          "output_type": "stream",
          "name": "stdout",
          "text": [
            " FinalCV Fold 4: train_size=189 val_size=47\n"
          ]
        },
        {
          "output_type": "stream",
          "name": "stderr",
          "text": [
            "2025-05-31 23:58:28,279 - PricePredictionExperiment_ANNRegressor - INFO - Before reverse - price mean: 0.4727362701111664\n",
            "INFO:PricePredictionExperiment_ANNRegressor:Before reverse - price mean: 0.4727362701111664\n",
            "2025-05-31 23:58:28,287 - PricePredictionExperiment_ANNRegressor - INFO - After reverse - price mean: 67053424.65957447\n",
            "INFO:PricePredictionExperiment_ANNRegressor:After reverse - price mean: 67053424.65957447\n",
            "2025-05-31 23:58:28,294 - PricePredictionExperiment_ANNRegressor - INFO -  Fold 5/5 | Log R2=-0.0020 | Orig R2=-0.1574\n",
            "INFO:PricePredictionExperiment_ANNRegressor: Fold 5/5 | Log R2=-0.0020 | Orig R2=-0.1574\n",
            "2025-05-31 23:58:29,055 - PricePredictionExperiment_ANNRegressor - INFO - Before reverse - price mean: 0.46124991486493366\n",
            "INFO:PricePredictionExperiment_ANNRegressor:Before reverse - price mean: 0.46124991486493366\n",
            "2025-05-31 23:58:29,059 - PricePredictionExperiment_ANNRegressor - INFO - After reverse - price mean: 53129052.52542374\n",
            "INFO:PricePredictionExperiment_ANNRegressor:After reverse - price mean: 53129052.52542374\n",
            "2025-05-31 23:58:29,279 - PricePredictionExperiment_ANNRegressor - INFO - Evaluation artifacts saved to /content/results/metrics\n",
            "INFO:PricePredictionExperiment_ANNRegressor:Evaluation artifacts saved to /content/results/metrics\n",
            "2025-05-31 23:58:29,285 - PricePredictionExperiment_ANNRegressor - INFO - Elapsed time for final_cv: 4.82 seconds\n",
            "INFO:PricePredictionExperiment_ANNRegressor:Elapsed time for final_cv: 4.82 seconds\n",
            "2025-05-31 23:58:29,839 - PricePredictionExperiment_ANNRegressor - INFO - Timing started for: final_model_teaching\n",
            "INFO:PricePredictionExperiment_ANNRegressor:Timing started for: final_model_teaching\n",
            "2025-05-31 23:58:29,842 - PricePredictionExperiment_ANNRegressor - INFO - Elapsed time for final_model_teaching: 0.00 seconds\n",
            "INFO:PricePredictionExperiment_ANNRegressor:Elapsed time for final_model_teaching: 0.00 seconds\n",
            "2025-05-31 23:58:29,855 - PricePredictionExperiment_ANNRegressor - INFO - Elapsed time for total: 6.50 seconds\n",
            "INFO:PricePredictionExperiment_ANNRegressor:Elapsed time for total: 6.50 seconds\n"
          ]
        },
        {
          "output_type": "display_data",
          "data": {
            "text/plain": [
              "Empty DataFrame\n",
              "Columns: []\n",
              "Index: []"
            ],
            "text/html": [
              "\n",
              "  <div id=\"df-665cb9c1-790d-4efd-b03c-7c9dd8dbbea7\" class=\"colab-df-container\">\n",
              "    <div>\n",
              "<style scoped>\n",
              "    .dataframe tbody tr th:only-of-type {\n",
              "        vertical-align: middle;\n",
              "    }\n",
              "\n",
              "    .dataframe tbody tr th {\n",
              "        vertical-align: top;\n",
              "    }\n",
              "\n",
              "    .dataframe thead th {\n",
              "        text-align: right;\n",
              "    }\n",
              "</style>\n",
              "<table border=\"1\" class=\"dataframe\">\n",
              "  <thead>\n",
              "    <tr style=\"text-align: right;\">\n",
              "      <th></th>\n",
              "    </tr>\n",
              "  </thead>\n",
              "  <tbody>\n",
              "  </tbody>\n",
              "</table>\n",
              "</div>\n",
              "    <div class=\"colab-df-buttons\">\n",
              "\n",
              "  <div class=\"colab-df-container\">\n",
              "    <button class=\"colab-df-convert\" onclick=\"convertToInteractive('df-665cb9c1-790d-4efd-b03c-7c9dd8dbbea7')\"\n",
              "            title=\"Convert this dataframe to an interactive table.\"\n",
              "            style=\"display:none;\">\n",
              "\n",
              "  <svg xmlns=\"http://www.w3.org/2000/svg\" height=\"24px\" viewBox=\"0 -960 960 960\">\n",
              "    <path d=\"M120-120v-720h720v720H120Zm60-500h600v-160H180v160Zm220 220h160v-160H400v160Zm0 220h160v-160H400v160ZM180-400h160v-160H180v160Zm440 0h160v-160H620v160ZM180-180h160v-160H180v160Zm440 0h160v-160H620v160Z\"/>\n",
              "  </svg>\n",
              "    </button>\n",
              "\n",
              "  <style>\n",
              "    .colab-df-container {\n",
              "      display:flex;\n",
              "      gap: 12px;\n",
              "    }\n",
              "\n",
              "    .colab-df-convert {\n",
              "      background-color: #E8F0FE;\n",
              "      border: none;\n",
              "      border-radius: 50%;\n",
              "      cursor: pointer;\n",
              "      display: none;\n",
              "      fill: #1967D2;\n",
              "      height: 32px;\n",
              "      padding: 0 0 0 0;\n",
              "      width: 32px;\n",
              "    }\n",
              "\n",
              "    .colab-df-convert:hover {\n",
              "      background-color: #E2EBFA;\n",
              "      box-shadow: 0px 1px 2px rgba(60, 64, 67, 0.3), 0px 1px 3px 1px rgba(60, 64, 67, 0.15);\n",
              "      fill: #174EA6;\n",
              "    }\n",
              "\n",
              "    .colab-df-buttons div {\n",
              "      margin-bottom: 4px;\n",
              "    }\n",
              "\n",
              "    [theme=dark] .colab-df-convert {\n",
              "      background-color: #3B4455;\n",
              "      fill: #D2E3FC;\n",
              "    }\n",
              "\n",
              "    [theme=dark] .colab-df-convert:hover {\n",
              "      background-color: #434B5C;\n",
              "      box-shadow: 0px 1px 3px 1px rgba(0, 0, 0, 0.15);\n",
              "      filter: drop-shadow(0px 1px 2px rgba(0, 0, 0, 0.3));\n",
              "      fill: #FFFFFF;\n",
              "    }\n",
              "  </style>\n",
              "\n",
              "    <script>\n",
              "      const buttonEl =\n",
              "        document.querySelector('#df-665cb9c1-790d-4efd-b03c-7c9dd8dbbea7 button.colab-df-convert');\n",
              "      buttonEl.style.display =\n",
              "        google.colab.kernel.accessAllowed ? 'block' : 'none';\n",
              "\n",
              "      async function convertToInteractive(key) {\n",
              "        const element = document.querySelector('#df-665cb9c1-790d-4efd-b03c-7c9dd8dbbea7');\n",
              "        const dataTable =\n",
              "          await google.colab.kernel.invokeFunction('convertToInteractive',\n",
              "                                                    [key], {});\n",
              "        if (!dataTable) return;\n",
              "\n",
              "        const docLinkHtml = 'Like what you see? Visit the ' +\n",
              "          '<a target=\"_blank\" href=https://colab.research.google.com/notebooks/data_table.ipynb>data table notebook</a>'\n",
              "          + ' to learn more about interactive tables.';\n",
              "        element.innerHTML = '';\n",
              "        dataTable['output_type'] = 'display_data';\n",
              "        await google.colab.output.renderOutput(dataTable, element);\n",
              "        const docLink = document.createElement('div');\n",
              "        docLink.innerHTML = docLinkHtml;\n",
              "        element.appendChild(docLink);\n",
              "      }\n",
              "    </script>\n",
              "  </div>\n",
              "\n",
              "    </div>\n",
              "  </div>\n"
            ],
            "application/vnd.google.colaboratory.intrinsic+json": {
              "type": "dataframe",
              "variable_name": "results_df",
              "summary": "{\n  \"name\": \"results_df\",\n  \"rows\": 0,\n  \"fields\": []\n}"
            }
          },
          "metadata": {}
        },
        {
          "output_type": "stream",
          "name": "stdout",
          "text": [
            "Drive already mounted at /content/drive; to attempt to forcibly remount, call drive.mount(\"/content/drive\", force_remount=True).\n"
          ]
        }
      ]
    },
    {
      "cell_type": "markdown",
      "source": [
        "### LSVR experiment initiation"
      ],
      "metadata": {
        "id": "Tj77pMEZsqr3"
      }
    },
    {
      "cell_type": "code",
      "source": [
        "import logging\n",
        "import pandas as pd\n",
        "import json\n",
        "from pathlib import Path\n",
        "\n",
        "# 3. Создаем временную папку для результатов\n",
        "!mkdir -p /content/results\n",
        "\n",
        "# 4. Основной код эксперимента\n",
        "if __name__ == \"__main__\":\n",
        "    logging.basicConfig(\n",
        "        level=logging.INFO,\n",
        "        format='%(asctime)s - %(name)s - %(levelname)s - %(message)s',\n",
        "        handlers=[\n",
        "            logging.FileHandler('experiment.log'),\n",
        "            logging.StreamHandler()\n",
        "        ]\n",
        "    )\n",
        "    logger = logging.getLogger(__name__)\n",
        "\n",
        "    params = {\n",
        "        'model__C': [5, 10, 20, 50],  # Focus around the best found value\n",
        "        'model__max_iter': [5000, 7000, 10000],  # Higher values didn't hurt\n",
        "        'model__dual': [False],  # Only this worked well\n",
        "        'model__loss': ['squared_epsilon_insensitive']  # Only compatible with dual=False\n",
        "    }\n",
        "\n",
        "    combinations = [\n",
        "        ('categorical-only', None, False, False, True, False),\n",
        "        ('categorical-only', None, False, False, False, False),\n",
        "        ('mixed', 'rubert', True, False, False, False),\n",
        "        ('mixed', 'w2v', True, False, False, False),\n",
        "        ('mixed', 'tfidf', True, False, False, False),\n",
        "        ('text-only', 'rubert', True, False, False, False),\n",
        "        ('text-only', 'w2v', True, False, False, False),\n",
        "        ('text-only', 'tfidf', True, False, False, False),\n",
        "    ]\n",
        "\n",
        "    try:\n",
        "        # Полные пути к файлам в репозитории\n",
        "        repo_path = Path('/content/Price-prediction-with-textual-data')\n",
        "\n",
        "        experiment = PricePredictionExperiment(\n",
        "            model_name='LinearSVR',\n",
        "            model_params=params,\n",
        "            experiment_name=\"price_prediction\",\n",
        "            data_path=str(repo_path/'experiments'/'sample_300.csv'), # путь к короткому доку - если нужен полный\n",
        "            results_dir='/content/results',  # временная папка в Colab\n",
        "            random_state=42,\n",
        "            use_hex_features=True,\n",
        "            hex_resolution=10,\n",
        "            verbose=True,\n",
        "            manual_text_params=True,\n",
        "            manual_text_params_path=str(repo_path/'experiments'/'manual_text_features_negative.json'),\n",
        "            profile_json_path=str(repo_path/'experiments'/'uniques_dict.json')\n",
        "        )\n",
        "\n",
        "        # Запуск экспериментов\n",
        "        results = experiment.run_for_combinations(\n",
        "            combinations=combinations,\n",
        "            n_trials=1, # для полного воспроизведения тестов = 50\n",
        "            sample_size=300, # для полного воспроизведения тестов = 65000\n",
        "            subsample=150 # для полного воспроизведения тестов = 20000\n",
        "        )\n",
        "\n",
        "        # Сохранение и отображение результатов\n",
        "        results_df = experiment.create_results_table(list(results.keys()))\n",
        "        display(results_df)\n",
        "\n",
        "        # Сохраняем результаты в CSV\n",
        "        results_df.to_csv('/content/results/experiment_results.csv', index=False)\n",
        "        logger.info(\"Эксперимент успешно завершен!\")\n",
        "\n",
        "        # Копируем результаты в Google Drive (если нужно)\n",
        "        from google.colab import drive\n",
        "        drive.mount('/content/drive')\n",
        "        !cp -r /content/results '/content/drive/MyDrive/thesis/DROP_SAMPLE/LinearSVR'\n",
        "        logger.info(\"Результаты сохранены в Google Drive\")\n",
        "\n",
        "    except Exception as e:\n",
        "        logger.error(f\"Fatal error in main execution: {str(e)}\", exc_info=True)\n",
        "        raise"
      ],
      "metadata": {
        "colab": {
          "base_uri": "https://localhost:8080/",
          "height": 1000
        },
        "id": "4LseRTbhspvo",
        "outputId": "f33a3409-60a7-4a0b-d7b4-b81b2fc4d012"
      },
      "execution_count": null,
      "outputs": [
        {
          "output_type": "stream",
          "name": "stderr",
          "text": [
            "2025-05-31 23:59:12,660 - PricePredictionExperiment_LinearSVR - INFO - → Запуск конфигурации: price_prediction_LinearSVR_None_none_pca_None_gate_None_mtf_True_\n",
            "INFO:PricePredictionExperiment_LinearSVR:→ Запуск конфигурации: price_prediction_LinearSVR_None_none_pca_None_gate_None_mtf_True_\n",
            "2025-05-31 23:59:12,664 - PricePredictionExperiment_LinearSVR - INFO - Loading and preprocessing data...\n",
            "INFO:PricePredictionExperiment_LinearSVR:Loading and preprocessing data...\n",
            "2025-05-31 23:59:12,697 - PricePredictionExperiment_LinearSVR - INFO - Applying sample_size: 300\n",
            "INFO:PricePredictionExperiment_LinearSVR:Applying sample_size: 300\n",
            "2025-05-31 23:59:12,704 - PricePredictionExperiment_LinearSVR - INFO - Данные прошли строгую валидацию профиля.\n",
            "INFO:PricePredictionExperiment_LinearSVR:Данные прошли строгую валидацию профиля.\n"
          ]
        },
        {
          "output_type": "stream",
          "name": "stdout",
          "text": [
            "['landCategory', 'wallMaterial', 'bathroom', 'renovation', 'electricity', 'heating', 'waterSupply', 'gas', 'sewerage', 'media', 'parking', 'transportAccessibility', 'saleMethod', 'seller', 'category', 'infrastructure', 'terrace', 'recreation', 'region', 'nearestPPLA', 'nearestPPLA2']\n"
          ]
        },
        {
          "output_type": "stream",
          "name": "stderr",
          "text": [
            "\u001b[32m[I 2025-05-31 23:59:24,998]\u001b[0m A new study created in memory with name: no-name-e966ec34-1ebd-46ef-aec7-6adbc28ece50\u001b[0m\n",
            "2025-05-31 23:59:25,214 - PricePredictionExperiment_LinearSVR - INFO - Timing started for: total\n",
            "INFO:PricePredictionExperiment_LinearSVR:Timing started for: total\n",
            "2025-05-31 23:59:25,226 - PricePredictionExperiment_LinearSVR - INFO - ENV: python_version: 3.11.12 (main, Apr  9 2025, 08:55:54) [GCC 11.4.0]\n",
            "INFO:PricePredictionExperiment_LinearSVR:ENV: python_version: 3.11.12 (main, Apr  9 2025, 08:55:54) [GCC 11.4.0]\n",
            "2025-05-31 23:59:25,238 - PricePredictionExperiment_LinearSVR - INFO - ENV: platform: Linux-6.1.123+-x86_64-with-glibc2.35\n",
            "INFO:PricePredictionExperiment_LinearSVR:ENV: platform: Linux-6.1.123+-x86_64-with-glibc2.35\n",
            "2025-05-31 23:59:25,261 - PricePredictionExperiment_LinearSVR - INFO - ENV: sklearn_version: 1.6.1\n",
            "INFO:PricePredictionExperiment_LinearSVR:ENV: sklearn_version: 1.6.1\n",
            "2025-05-31 23:59:25,274 - PricePredictionExperiment_LinearSVR - INFO - ENV: pandas_version: 2.2.2\n",
            "INFO:PricePredictionExperiment_LinearSVR:ENV: pandas_version: 2.2.2\n",
            "2025-05-31 23:59:25,287 - PricePredictionExperiment_LinearSVR - INFO - ENV: numpy_version: 1.26.4\n",
            "INFO:PricePredictionExperiment_LinearSVR:ENV: numpy_version: 1.26.4\n",
            "2025-05-31 23:59:25,299 - PricePredictionExperiment_LinearSVR - INFO - ENV: torch_version: 2.6.0+cu124\n",
            "INFO:PricePredictionExperiment_LinearSVR:ENV: torch_version: 2.6.0+cu124\n",
            "2025-05-31 23:59:25,311 - PricePredictionExperiment_LinearSVR - INFO - ENV: cuda_available: True\n",
            "INFO:PricePredictionExperiment_LinearSVR:ENV: cuda_available: True\n",
            "2025-05-31 23:59:25,323 - PricePredictionExperiment_LinearSVR - INFO - ENV: cuda_device: Tesla T4\n",
            "INFO:PricePredictionExperiment_LinearSVR:ENV: cuda_device: Tesla T4\n",
            "2025-05-31 23:59:25,334 - PricePredictionExperiment_LinearSVR - INFO - ENV: run_time: 2025-05-31 23:59:25\n",
            "INFO:PricePredictionExperiment_LinearSVR:ENV: run_time: 2025-05-31 23:59:25\n",
            "2025-05-31 23:59:25,346 - PricePredictionExperiment_LinearSVR - INFO - ENV: run_hostname: bd3d025abf46\n",
            "INFO:PricePredictionExperiment_LinearSVR:ENV: run_hostname: bd3d025abf46\n",
            "2025-05-31 23:59:25,442 - PricePredictionExperiment_LinearSVR - INFO - Timing started for: optuna\n",
            "INFO:PricePredictionExperiment_LinearSVR:Timing started for: optuna\n",
            "2025-05-31 23:59:25,641 - PricePredictionExperiment_LinearSVR - INFO - Before reverse - price mean: 0.46163744810703816\n",
            "INFO:PricePredictionExperiment_LinearSVR:Before reverse - price mean: 0.46163744810703816\n",
            "2025-05-31 23:59:25,645 - PricePredictionExperiment_LinearSVR - INFO - After reverse - price mean: 52492874.37999999\n",
            "INFO:PricePredictionExperiment_LinearSVR:After reverse - price mean: 52492874.37999999\n",
            "2025-05-31 23:59:25,710 - PricePredictionExperiment_LinearSVR - INFO - Fold 0 - Log scale: R²=0.4538, RMSE=0.1616, SMAPE=35.5711%\n",
            "Original scale: R²=-2.5735, RMSE=232581516.1103, SMAPE=83.9787%\n",
            "INFO:PricePredictionExperiment_LinearSVR:Fold 0 - Log scale: R²=0.4538, RMSE=0.1616, SMAPE=35.5711%\n",
            "Original scale: R²=-2.5735, RMSE=232581516.1103, SMAPE=83.9787%\n",
            "2025-05-31 23:59:25,723 - PricePredictionExperiment_LinearSVR - INFO - Before reverse - price mean: 0.44923494890588567\n",
            "INFO:PricePredictionExperiment_LinearSVR:Before reverse - price mean: 0.44923494890588567\n",
            "2025-05-31 23:59:25,727 - PricePredictionExperiment_LinearSVR - INFO - After reverse - price mean: 30649667.2\n",
            "INFO:PricePredictionExperiment_LinearSVR:After reverse - price mean: 30649667.2\n",
            "2025-05-31 23:59:25,781 - PricePredictionExperiment_LinearSVR - INFO - Fold 1 - Log scale: R²=0.1495, RMSE=0.1722, SMAPE=34.4396%\n",
            "Original scale: R²=-133.3430, RMSE=674620731.2231, SMAPE=84.5484%\n",
            "INFO:PricePredictionExperiment_LinearSVR:Fold 1 - Log scale: R²=0.1495, RMSE=0.1722, SMAPE=34.4396%\n",
            "Original scale: R²=-133.3430, RMSE=674620731.2231, SMAPE=84.5484%\n",
            "2025-05-31 23:59:25,792 - PricePredictionExperiment_LinearSVR - INFO - Before reverse - price mean: 0.48160117863933743\n",
            "INFO:PricePredictionExperiment_LinearSVR:Before reverse - price mean: 0.48160117863933743\n",
            "2025-05-31 23:59:25,795 - PricePredictionExperiment_LinearSVR - INFO - After reverse - price mean: 70292049.59999996\n",
            "INFO:PricePredictionExperiment_LinearSVR:After reverse - price mean: 70292049.59999996\n"
          ]
        },
        {
          "output_type": "stream",
          "name": "stdout",
          "text": [
            "CV stratified bins counts: [51 49 50]\n",
            "Running 3-fold CV on 150 samples\n",
            " Fold 0: train_size=100 val_size=50\n",
            " Fold 1: train_size=100 val_size=50\n",
            " Fold 2: train_size=100 val_size=50\n"
          ]
        },
        {
          "output_type": "stream",
          "name": "stderr",
          "text": [
            "2025-05-31 23:59:25,864 - PricePredictionExperiment_LinearSVR - INFO - Fold 2 - Log scale: R²=0.5209, RMSE=0.1543, SMAPE=15.9799%\n",
            "Original scale: R²=0.5425, RMSE=102532226.9254, SMAPE=39.8297%\n",
            "INFO:PricePredictionExperiment_LinearSVR:Fold 2 - Log scale: R²=0.5209, RMSE=0.1543, SMAPE=15.9799%\n",
            "Original scale: R²=0.5425, RMSE=102532226.9254, SMAPE=39.8297%\n",
            "\u001b[32m[I 2025-05-31 23:59:25,867]\u001b[0m Trial 0 finished with value: 0.3747320451042107 and parameters: {'model__C': 22, 'model__max_iter': 9754, 'model__dual': False, 'model__loss': 'squared_epsilon_insensitive'}. Best is trial 0 with value: 0.3747320451042107.\u001b[0m\n",
            "2025-05-31 23:59:25,868 - PricePredictionExperiment_LinearSVR - INFO - Elapsed time for optuna: 0.43 seconds\n",
            "INFO:PricePredictionExperiment_LinearSVR:Elapsed time for optuna: 0.43 seconds\n",
            "2025-05-31 23:59:25,880 - PricePredictionExperiment_LinearSVR - INFO - Timing started for: final_cv\n",
            "INFO:PricePredictionExperiment_LinearSVR:Timing started for: final_cv\n",
            "2025-05-31 23:59:25,970 - PricePredictionExperiment_LinearSVR - INFO - Before reverse - price mean: 0.4550678466274749\n",
            "INFO:PricePredictionExperiment_LinearSVR:Before reverse - price mean: 0.4550678466274749\n",
            "2025-05-31 23:59:25,976 - PricePredictionExperiment_LinearSVR - INFO - After reverse - price mean: 35495257.499999985\n",
            "INFO:PricePredictionExperiment_LinearSVR:After reverse - price mean: 35495257.499999985\n",
            "2025-05-31 23:59:25,981 - PricePredictionExperiment_LinearSVR - INFO -  Fold 1/5 | Log R2=0.3178 | Orig R2=-2.9995\n",
            "INFO:PricePredictionExperiment_LinearSVR: Fold 1/5 | Log R2=0.3178 | Orig R2=-2.9995\n",
            "2025-05-31 23:59:25,990 - PricePredictionExperiment_LinearSVR - INFO - Before reverse - price mean: 0.47295177607112204\n",
            "INFO:PricePredictionExperiment_LinearSVR:Before reverse - price mean: 0.47295177607112204\n",
            "2025-05-31 23:59:25,993 - PricePredictionExperiment_LinearSVR - INFO - After reverse - price mean: 50921123.40425533\n",
            "INFO:PricePredictionExperiment_LinearSVR:After reverse - price mean: 50921123.40425533\n",
            "2025-05-31 23:59:25,997 - PricePredictionExperiment_LinearSVR - INFO -  Fold 2/5 | Log R2=0.6382 | Orig R2=0.2904\n",
            "INFO:PricePredictionExperiment_LinearSVR: Fold 2/5 | Log R2=0.6382 | Orig R2=0.2904\n",
            "2025-05-31 23:59:26,006 - PricePredictionExperiment_LinearSVR - INFO - Before reverse - price mean: 0.46109879287422134\n",
            "INFO:PricePredictionExperiment_LinearSVR:Before reverse - price mean: 0.46109879287422134\n",
            "2025-05-31 23:59:26,010 - PricePredictionExperiment_LinearSVR - INFO - After reverse - price mean: 50421914.893617004\n",
            "INFO:PricePredictionExperiment_LinearSVR:After reverse - price mean: 50421914.893617004\n",
            "2025-05-31 23:59:26,014 - PricePredictionExperiment_LinearSVR - INFO -  Fold 3/5 | Log R2=0.4555 | Orig R2=0.0542\n",
            "INFO:PricePredictionExperiment_LinearSVR: Fold 3/5 | Log R2=0.4555 | Orig R2=0.0542\n",
            "2025-05-31 23:59:26,023 - PricePredictionExperiment_LinearSVR - INFO - Before reverse - price mean: 0.4580297314108511\n",
            "INFO:PricePredictionExperiment_LinearSVR:Before reverse - price mean: 0.4580297314108511\n",
            "2025-05-31 23:59:26,027 - PricePredictionExperiment_LinearSVR - INFO - After reverse - price mean: 63415391.4893617\n",
            "INFO:PricePredictionExperiment_LinearSVR:After reverse - price mean: 63415391.4893617\n",
            "2025-05-31 23:59:26,032 - PricePredictionExperiment_LinearSVR - INFO -  Fold 4/5 | Log R2=0.7617 | Orig R2=-0.1107\n",
            "INFO:PricePredictionExperiment_LinearSVR: Fold 4/5 | Log R2=0.7617 | Orig R2=-0.1107\n",
            "2025-05-31 23:59:26,040 - PricePredictionExperiment_LinearSVR - INFO - Before reverse - price mean: 0.4727362701111664\n",
            "INFO:PricePredictionExperiment_LinearSVR:Before reverse - price mean: 0.4727362701111664\n",
            "2025-05-31 23:59:26,043 - PricePredictionExperiment_LinearSVR - INFO - After reverse - price mean: 67053424.65957447\n",
            "INFO:PricePredictionExperiment_LinearSVR:After reverse - price mean: 67053424.65957447\n",
            "2025-05-31 23:59:26,047 - PricePredictionExperiment_LinearSVR - INFO -  Fold 5/5 | Log R2=0.7308 | Orig R2=-2.4038\n",
            "INFO:PricePredictionExperiment_LinearSVR: Fold 5/5 | Log R2=0.7308 | Orig R2=-2.4038\n",
            "2025-05-31 23:59:26,058 - PricePredictionExperiment_LinearSVR - INFO - Before reverse - price mean: 0.46124991486493366\n",
            "INFO:PricePredictionExperiment_LinearSVR:Before reverse - price mean: 0.46124991486493366\n",
            "2025-05-31 23:59:26,061 - PricePredictionExperiment_LinearSVR - INFO - After reverse - price mean: 53129052.52542374\n",
            "INFO:PricePredictionExperiment_LinearSVR:After reverse - price mean: 53129052.52542374\n",
            "2025-05-31 23:59:26,102 - PricePredictionExperiment_LinearSVR - INFO - Evaluation artifacts saved to /content/results/metrics\n",
            "INFO:PricePredictionExperiment_LinearSVR:Evaluation artifacts saved to /content/results/metrics\n",
            "2025-05-31 23:59:26,107 - PricePredictionExperiment_LinearSVR - INFO - Elapsed time for final_cv: 0.23 seconds\n",
            "INFO:PricePredictionExperiment_LinearSVR:Elapsed time for final_cv: 0.23 seconds\n"
          ]
        },
        {
          "output_type": "stream",
          "name": "stdout",
          "text": [
            "Final CV stratified bins counts: [48 47 48 46 47]\n",
            "Running final 5-fold CV on 236 samples\n",
            " FinalCV Fold 0: train_size=188 val_size=48\n",
            " FinalCV Fold 1: train_size=189 val_size=47\n",
            " FinalCV Fold 2: train_size=189 val_size=47\n",
            " FinalCV Fold 3: train_size=189 val_size=47\n",
            " FinalCV Fold 4: train_size=189 val_size=47\n"
          ]
        },
        {
          "output_type": "stream",
          "name": "stderr",
          "text": [
            "2025-05-31 23:59:26,646 - PricePredictionExperiment_LinearSVR - INFO - Timing started for: final_model_teaching\n",
            "INFO:PricePredictionExperiment_LinearSVR:Timing started for: final_model_teaching\n",
            "2025-05-31 23:59:26,649 - PricePredictionExperiment_LinearSVR - INFO - Elapsed time for final_model_teaching: 0.00 seconds\n",
            "INFO:PricePredictionExperiment_LinearSVR:Elapsed time for final_model_teaching: 0.00 seconds\n",
            "2025-05-31 23:59:26,662 - PricePredictionExperiment_LinearSVR - INFO - Elapsed time for total: 1.45 seconds\n",
            "INFO:PricePredictionExperiment_LinearSVR:Elapsed time for total: 1.45 seconds\n",
            "2025-05-31 23:59:26,686 - PricePredictionExperiment_LinearSVR - INFO - → Запуск конфигурации: price_prediction_LinearSVR_categorical-only_none_pca_False_gate_False_mtf_True_\n",
            "INFO:PricePredictionExperiment_LinearSVR:→ Запуск конфигурации: price_prediction_LinearSVR_categorical-only_none_pca_False_gate_False_mtf_True_\n",
            "2025-05-31 23:59:26,689 - PricePredictionExperiment_LinearSVR - INFO - Loading and preprocessing data...\n",
            "INFO:PricePredictionExperiment_LinearSVR:Loading and preprocessing data...\n",
            "2025-05-31 23:59:26,714 - PricePredictionExperiment_LinearSVR - INFO - Applying sample_size: 300\n",
            "INFO:PricePredictionExperiment_LinearSVR:Applying sample_size: 300\n",
            "2025-05-31 23:59:26,722 - PricePredictionExperiment_LinearSVR - INFO - Данные прошли строгую валидацию профиля.\n",
            "INFO:PricePredictionExperiment_LinearSVR:Данные прошли строгую валидацию профиля.\n"
          ]
        },
        {
          "output_type": "stream",
          "name": "stdout",
          "text": [
            "['landCategory', 'wallMaterial', 'bathroom', 'renovation', 'electricity', 'heating', 'waterSupply', 'gas', 'sewerage', 'media', 'parking', 'transportAccessibility', 'saleMethod', 'seller', 'category', 'infrastructure', 'terrace', 'recreation', 'region', 'nearestPPLA', 'nearestPPLA2']\n"
          ]
        },
        {
          "output_type": "stream",
          "name": "stderr",
          "text": [
            "\u001b[32m[I 2025-05-31 23:59:39,626]\u001b[0m A new study created in memory with name: no-name-d2ebb55c-935b-4a52-ac3a-833105ac5999\u001b[0m\n",
            "2025-05-31 23:59:39,855 - PricePredictionExperiment_LinearSVR - INFO - Timing started for: total\n",
            "INFO:PricePredictionExperiment_LinearSVR:Timing started for: total\n",
            "2025-05-31 23:59:39,868 - PricePredictionExperiment_LinearSVR - INFO - ENV: python_version: 3.11.12 (main, Apr  9 2025, 08:55:54) [GCC 11.4.0]\n",
            "INFO:PricePredictionExperiment_LinearSVR:ENV: python_version: 3.11.12 (main, Apr  9 2025, 08:55:54) [GCC 11.4.0]\n",
            "2025-05-31 23:59:39,881 - PricePredictionExperiment_LinearSVR - INFO - ENV: platform: Linux-6.1.123+-x86_64-with-glibc2.35\n",
            "INFO:PricePredictionExperiment_LinearSVR:ENV: platform: Linux-6.1.123+-x86_64-with-glibc2.35\n",
            "2025-05-31 23:59:39,894 - PricePredictionExperiment_LinearSVR - INFO - ENV: sklearn_version: 1.6.1\n",
            "INFO:PricePredictionExperiment_LinearSVR:ENV: sklearn_version: 1.6.1\n",
            "2025-05-31 23:59:39,906 - PricePredictionExperiment_LinearSVR - INFO - ENV: pandas_version: 2.2.2\n",
            "INFO:PricePredictionExperiment_LinearSVR:ENV: pandas_version: 2.2.2\n",
            "2025-05-31 23:59:39,918 - PricePredictionExperiment_LinearSVR - INFO - ENV: numpy_version: 1.26.4\n",
            "INFO:PricePredictionExperiment_LinearSVR:ENV: numpy_version: 1.26.4\n",
            "2025-05-31 23:59:39,930 - PricePredictionExperiment_LinearSVR - INFO - ENV: torch_version: 2.6.0+cu124\n",
            "INFO:PricePredictionExperiment_LinearSVR:ENV: torch_version: 2.6.0+cu124\n",
            "2025-05-31 23:59:39,942 - PricePredictionExperiment_LinearSVR - INFO - ENV: cuda_available: True\n",
            "INFO:PricePredictionExperiment_LinearSVR:ENV: cuda_available: True\n",
            "2025-05-31 23:59:39,954 - PricePredictionExperiment_LinearSVR - INFO - ENV: cuda_device: Tesla T4\n",
            "INFO:PricePredictionExperiment_LinearSVR:ENV: cuda_device: Tesla T4\n",
            "2025-05-31 23:59:39,966 - PricePredictionExperiment_LinearSVR - INFO - ENV: run_time: 2025-05-31 23:59:39\n",
            "INFO:PricePredictionExperiment_LinearSVR:ENV: run_time: 2025-05-31 23:59:39\n",
            "2025-05-31 23:59:39,977 - PricePredictionExperiment_LinearSVR - INFO - ENV: run_hostname: bd3d025abf46\n",
            "INFO:PricePredictionExperiment_LinearSVR:ENV: run_hostname: bd3d025abf46\n",
            "2025-05-31 23:59:40,069 - PricePredictionExperiment_LinearSVR - INFO - Timing started for: optuna\n",
            "INFO:PricePredictionExperiment_LinearSVR:Timing started for: optuna\n",
            "2025-05-31 23:59:40,167 - PricePredictionExperiment_LinearSVR - INFO - Before reverse - price mean: 0.46163744810703816\n",
            "INFO:PricePredictionExperiment_LinearSVR:Before reverse - price mean: 0.46163744810703816\n",
            "2025-05-31 23:59:40,171 - PricePredictionExperiment_LinearSVR - INFO - After reverse - price mean: 52492874.37999999\n",
            "INFO:PricePredictionExperiment_LinearSVR:After reverse - price mean: 52492874.37999999\n",
            "2025-05-31 23:59:40,223 - PricePredictionExperiment_LinearSVR - INFO - Fold 0 - Log scale: R²=0.4538, RMSE=0.1616, SMAPE=35.5715%\n",
            "Original scale: R²=-2.5737, RMSE=232588984.0563, SMAPE=83.9792%\n",
            "INFO:PricePredictionExperiment_LinearSVR:Fold 0 - Log scale: R²=0.4538, RMSE=0.1616, SMAPE=35.5715%\n",
            "Original scale: R²=-2.5737, RMSE=232588984.0563, SMAPE=83.9792%\n",
            "2025-05-31 23:59:40,233 - PricePredictionExperiment_LinearSVR - INFO - Before reverse - price mean: 0.44923494890588567\n",
            "INFO:PricePredictionExperiment_LinearSVR:Before reverse - price mean: 0.44923494890588567\n",
            "2025-05-31 23:59:40,236 - PricePredictionExperiment_LinearSVR - INFO - After reverse - price mean: 30649667.2\n",
            "INFO:PricePredictionExperiment_LinearSVR:After reverse - price mean: 30649667.2\n",
            "2025-05-31 23:59:40,299 - PricePredictionExperiment_LinearSVR - INFO - Fold 1 - Log scale: R²=0.1495, RMSE=0.1722, SMAPE=34.4396%\n",
            "Original scale: R²=-133.3512, RMSE=674641383.9566, SMAPE=84.5479%\n",
            "INFO:PricePredictionExperiment_LinearSVR:Fold 1 - Log scale: R²=0.1495, RMSE=0.1722, SMAPE=34.4396%\n",
            "Original scale: R²=-133.3512, RMSE=674641383.9566, SMAPE=84.5479%\n",
            "2025-05-31 23:59:40,313 - PricePredictionExperiment_LinearSVR - INFO - Before reverse - price mean: 0.48160117863933743\n",
            "INFO:PricePredictionExperiment_LinearSVR:Before reverse - price mean: 0.48160117863933743\n",
            "2025-05-31 23:59:40,316 - PricePredictionExperiment_LinearSVR - INFO - After reverse - price mean: 70292049.59999996\n",
            "INFO:PricePredictionExperiment_LinearSVR:After reverse - price mean: 70292049.59999996\n"
          ]
        },
        {
          "output_type": "stream",
          "name": "stdout",
          "text": [
            "CV stratified bins counts: [51 49 50]\n",
            "Running 3-fold CV on 150 samples\n",
            " Fold 0: train_size=100 val_size=50\n",
            " Fold 1: train_size=100 val_size=50\n",
            " Fold 2: train_size=100 val_size=50\n"
          ]
        },
        {
          "output_type": "stream",
          "name": "stderr",
          "text": [
            "2025-05-31 23:59:40,378 - PricePredictionExperiment_LinearSVR - INFO - Fold 2 - Log scale: R²=0.5186, RMSE=0.1547, SMAPE=16.0644%\n",
            "Original scale: R²=0.5446, RMSE=102302732.3000, SMAPE=39.9698%\n",
            "INFO:PricePredictionExperiment_LinearSVR:Fold 2 - Log scale: R²=0.5186, RMSE=0.1547, SMAPE=16.0644%\n",
            "Original scale: R²=0.5446, RMSE=102302732.3000, SMAPE=39.9698%\n",
            "\u001b[32m[I 2025-05-31 23:59:40,381]\u001b[0m Trial 0 finished with value: 0.3739540942600111 and parameters: {'model__C': 22, 'model__max_iter': 9754, 'model__dual': False, 'model__loss': 'squared_epsilon_insensitive'}. Best is trial 0 with value: 0.3739540942600111.\u001b[0m\n",
            "2025-05-31 23:59:40,382 - PricePredictionExperiment_LinearSVR - INFO - Elapsed time for optuna: 0.31 seconds\n",
            "INFO:PricePredictionExperiment_LinearSVR:Elapsed time for optuna: 0.31 seconds\n",
            "2025-05-31 23:59:40,394 - PricePredictionExperiment_LinearSVR - INFO - Timing started for: final_cv\n",
            "INFO:PricePredictionExperiment_LinearSVR:Timing started for: final_cv\n",
            "2025-05-31 23:59:40,485 - PricePredictionExperiment_LinearSVR - INFO - Before reverse - price mean: 0.4550678466274749\n",
            "INFO:PricePredictionExperiment_LinearSVR:Before reverse - price mean: 0.4550678466274749\n",
            "2025-05-31 23:59:40,489 - PricePredictionExperiment_LinearSVR - INFO - After reverse - price mean: 35495257.499999985\n",
            "INFO:PricePredictionExperiment_LinearSVR:After reverse - price mean: 35495257.499999985\n",
            "2025-05-31 23:59:40,495 - PricePredictionExperiment_LinearSVR - INFO -  Fold 1/5 | Log R2=0.3178 | Orig R2=-2.9998\n",
            "INFO:PricePredictionExperiment_LinearSVR: Fold 1/5 | Log R2=0.3178 | Orig R2=-2.9998\n",
            "2025-05-31 23:59:40,503 - PricePredictionExperiment_LinearSVR - INFO - Before reverse - price mean: 0.47295177607112204\n",
            "INFO:PricePredictionExperiment_LinearSVR:Before reverse - price mean: 0.47295177607112204\n",
            "2025-05-31 23:59:40,507 - PricePredictionExperiment_LinearSVR - INFO - After reverse - price mean: 50921123.40425533\n",
            "INFO:PricePredictionExperiment_LinearSVR:After reverse - price mean: 50921123.40425533\n",
            "2025-05-31 23:59:40,511 - PricePredictionExperiment_LinearSVR - INFO -  Fold 2/5 | Log R2=0.6382 | Orig R2=0.2904\n",
            "INFO:PricePredictionExperiment_LinearSVR: Fold 2/5 | Log R2=0.6382 | Orig R2=0.2904\n",
            "2025-05-31 23:59:40,520 - PricePredictionExperiment_LinearSVR - INFO - Before reverse - price mean: 0.46109879287422134\n",
            "INFO:PricePredictionExperiment_LinearSVR:Before reverse - price mean: 0.46109879287422134\n",
            "2025-05-31 23:59:40,523 - PricePredictionExperiment_LinearSVR - INFO - After reverse - price mean: 50421914.893617004\n",
            "INFO:PricePredictionExperiment_LinearSVR:After reverse - price mean: 50421914.893617004\n",
            "2025-05-31 23:59:40,528 - PricePredictionExperiment_LinearSVR - INFO -  Fold 3/5 | Log R2=0.4555 | Orig R2=0.0541\n",
            "INFO:PricePredictionExperiment_LinearSVR: Fold 3/5 | Log R2=0.4555 | Orig R2=0.0541\n",
            "2025-05-31 23:59:40,536 - PricePredictionExperiment_LinearSVR - INFO - Before reverse - price mean: 0.4580297314108511\n",
            "INFO:PricePredictionExperiment_LinearSVR:Before reverse - price mean: 0.4580297314108511\n",
            "2025-05-31 23:59:40,539 - PricePredictionExperiment_LinearSVR - INFO - After reverse - price mean: 63415391.4893617\n",
            "INFO:PricePredictionExperiment_LinearSVR:After reverse - price mean: 63415391.4893617\n",
            "2025-05-31 23:59:40,544 - PricePredictionExperiment_LinearSVR - INFO -  Fold 4/5 | Log R2=0.7617 | Orig R2=-0.1108\n",
            "INFO:PricePredictionExperiment_LinearSVR: Fold 4/5 | Log R2=0.7617 | Orig R2=-0.1108\n",
            "2025-05-31 23:59:40,552 - PricePredictionExperiment_LinearSVR - INFO - Before reverse - price mean: 0.4727362701111664\n",
            "INFO:PricePredictionExperiment_LinearSVR:Before reverse - price mean: 0.4727362701111664\n",
            "2025-05-31 23:59:40,555 - PricePredictionExperiment_LinearSVR - INFO - After reverse - price mean: 67053424.65957447\n",
            "INFO:PricePredictionExperiment_LinearSVR:After reverse - price mean: 67053424.65957447\n",
            "2025-05-31 23:59:40,560 - PricePredictionExperiment_LinearSVR - INFO -  Fold 5/5 | Log R2=0.7308 | Orig R2=-2.4011\n",
            "INFO:PricePredictionExperiment_LinearSVR: Fold 5/5 | Log R2=0.7308 | Orig R2=-2.4011\n",
            "2025-05-31 23:59:40,571 - PricePredictionExperiment_LinearSVR - INFO - Before reverse - price mean: 0.46124991486493366\n",
            "INFO:PricePredictionExperiment_LinearSVR:Before reverse - price mean: 0.46124991486493366\n",
            "2025-05-31 23:59:40,574 - PricePredictionExperiment_LinearSVR - INFO - After reverse - price mean: 53129052.52542374\n",
            "INFO:PricePredictionExperiment_LinearSVR:After reverse - price mean: 53129052.52542374\n"
          ]
        },
        {
          "output_type": "stream",
          "name": "stdout",
          "text": [
            "Final CV stratified bins counts: [48 47 48 46 47]\n",
            "Running final 5-fold CV on 236 samples\n",
            " FinalCV Fold 0: train_size=188 val_size=48\n",
            " FinalCV Fold 1: train_size=189 val_size=47\n",
            " FinalCV Fold 2: train_size=189 val_size=47\n",
            " FinalCV Fold 3: train_size=189 val_size=47\n",
            " FinalCV Fold 4: train_size=189 val_size=47\n"
          ]
        },
        {
          "output_type": "stream",
          "name": "stderr",
          "text": [
            "2025-05-31 23:59:40,754 - PricePredictionExperiment_LinearSVR - INFO - Evaluation artifacts saved to /content/results/metrics\n",
            "INFO:PricePredictionExperiment_LinearSVR:Evaluation artifacts saved to /content/results/metrics\n",
            "2025-05-31 23:59:40,761 - PricePredictionExperiment_LinearSVR - INFO - Elapsed time for final_cv: 0.37 seconds\n",
            "INFO:PricePredictionExperiment_LinearSVR:Elapsed time for final_cv: 0.37 seconds\n",
            "2025-05-31 23:59:41,311 - PricePredictionExperiment_LinearSVR - INFO - Timing started for: final_model_teaching\n",
            "INFO:PricePredictionExperiment_LinearSVR:Timing started for: final_model_teaching\n",
            "2025-05-31 23:59:41,313 - PricePredictionExperiment_LinearSVR - INFO - Elapsed time for final_model_teaching: 0.00 seconds\n",
            "INFO:PricePredictionExperiment_LinearSVR:Elapsed time for final_model_teaching: 0.00 seconds\n",
            "2025-05-31 23:59:41,325 - PricePredictionExperiment_LinearSVR - INFO - Elapsed time for total: 1.47 seconds\n",
            "INFO:PricePredictionExperiment_LinearSVR:Elapsed time for total: 1.47 seconds\n",
            "2025-05-31 23:59:41,351 - PricePredictionExperiment_LinearSVR - INFO - → Запуск конфигурации: price_prediction_LinearSVR_categorical-only_none_pca_False_gate_False_mtf_False_\n",
            "INFO:PricePredictionExperiment_LinearSVR:→ Запуск конфигурации: price_prediction_LinearSVR_categorical-only_none_pca_False_gate_False_mtf_False_\n",
            "2025-05-31 23:59:41,352 - PricePredictionExperiment_LinearSVR - INFO - Loading and preprocessing data...\n",
            "INFO:PricePredictionExperiment_LinearSVR:Loading and preprocessing data...\n",
            "2025-05-31 23:59:41,387 - PricePredictionExperiment_LinearSVR - INFO - Applying sample_size: 300\n",
            "INFO:PricePredictionExperiment_LinearSVR:Applying sample_size: 300\n",
            "2025-05-31 23:59:41,395 - PricePredictionExperiment_LinearSVR - INFO - Данные прошли строгую валидацию профиля.\n",
            "INFO:PricePredictionExperiment_LinearSVR:Данные прошли строгую валидацию профиля.\n"
          ]
        },
        {
          "output_type": "stream",
          "name": "stdout",
          "text": [
            "['landCategory', 'wallMaterial', 'bathroom', 'renovation', 'electricity', 'heating', 'waterSupply', 'gas', 'sewerage', 'media', 'parking', 'transportAccessibility', 'saleMethod', 'seller', 'category', 'infrastructure', 'terrace', 'recreation', 'region', 'nearestPPLA', 'nearestPPLA2']\n"
          ]
        },
        {
          "output_type": "stream",
          "name": "stderr",
          "text": [
            "\u001b[32m[I 2025-05-31 23:59:54,116]\u001b[0m A new study created in memory with name: no-name-792ae726-52c2-4e87-83f5-0d543aec62bb\u001b[0m\n",
            "2025-05-31 23:59:54,346 - PricePredictionExperiment_LinearSVR - INFO - Timing started for: total\n",
            "INFO:PricePredictionExperiment_LinearSVR:Timing started for: total\n",
            "2025-05-31 23:59:54,372 - PricePredictionExperiment_LinearSVR - INFO - ENV: python_version: 3.11.12 (main, Apr  9 2025, 08:55:54) [GCC 11.4.0]\n",
            "INFO:PricePredictionExperiment_LinearSVR:ENV: python_version: 3.11.12 (main, Apr  9 2025, 08:55:54) [GCC 11.4.0]\n",
            "2025-05-31 23:59:54,389 - PricePredictionExperiment_LinearSVR - INFO - ENV: platform: Linux-6.1.123+-x86_64-with-glibc2.35\n",
            "INFO:PricePredictionExperiment_LinearSVR:ENV: platform: Linux-6.1.123+-x86_64-with-glibc2.35\n",
            "2025-05-31 23:59:54,403 - PricePredictionExperiment_LinearSVR - INFO - ENV: sklearn_version: 1.6.1\n",
            "INFO:PricePredictionExperiment_LinearSVR:ENV: sklearn_version: 1.6.1\n",
            "2025-05-31 23:59:54,425 - PricePredictionExperiment_LinearSVR - INFO - ENV: pandas_version: 2.2.2\n",
            "INFO:PricePredictionExperiment_LinearSVR:ENV: pandas_version: 2.2.2\n",
            "2025-05-31 23:59:54,439 - PricePredictionExperiment_LinearSVR - INFO - ENV: numpy_version: 1.26.4\n",
            "INFO:PricePredictionExperiment_LinearSVR:ENV: numpy_version: 1.26.4\n",
            "2025-05-31 23:59:54,454 - PricePredictionExperiment_LinearSVR - INFO - ENV: torch_version: 2.6.0+cu124\n",
            "INFO:PricePredictionExperiment_LinearSVR:ENV: torch_version: 2.6.0+cu124\n",
            "2025-05-31 23:59:54,468 - PricePredictionExperiment_LinearSVR - INFO - ENV: cuda_available: True\n",
            "INFO:PricePredictionExperiment_LinearSVR:ENV: cuda_available: True\n",
            "2025-05-31 23:59:54,482 - PricePredictionExperiment_LinearSVR - INFO - ENV: cuda_device: Tesla T4\n",
            "INFO:PricePredictionExperiment_LinearSVR:ENV: cuda_device: Tesla T4\n",
            "2025-05-31 23:59:54,499 - PricePredictionExperiment_LinearSVR - INFO - ENV: run_time: 2025-05-31 23:59:54\n",
            "INFO:PricePredictionExperiment_LinearSVR:ENV: run_time: 2025-05-31 23:59:54\n",
            "2025-05-31 23:59:54,512 - PricePredictionExperiment_LinearSVR - INFO - ENV: run_hostname: bd3d025abf46\n",
            "INFO:PricePredictionExperiment_LinearSVR:ENV: run_hostname: bd3d025abf46\n",
            "2025-05-31 23:59:54,610 - PricePredictionExperiment_LinearSVR - INFO - Timing started for: optuna\n",
            "INFO:PricePredictionExperiment_LinearSVR:Timing started for: optuna\n"
          ]
        },
        {
          "output_type": "stream",
          "name": "stdout",
          "text": [
            "CV stratified bins counts: [51 49 50]\n",
            "Running 3-fold CV on 150 samples\n",
            " Fold 0: train_size=100 val_size=50\n",
            "Epoch 1/3 - Loss: 2.1808\n",
            "Epoch 2/3 - Loss: 0.3878\n",
            "Epoch 3/3 - Loss: 0.1269\n"
          ]
        },
        {
          "output_type": "stream",
          "name": "stderr",
          "text": [
            "2025-05-31 23:59:58,275 - PricePredictionExperiment_LinearSVR - INFO - Before reverse - price mean: 0.46163744810703816\n",
            "INFO:PricePredictionExperiment_LinearSVR:Before reverse - price mean: 0.46163744810703816\n",
            "2025-05-31 23:59:58,280 - PricePredictionExperiment_LinearSVR - INFO - After reverse - price mean: 52492874.37999999\n",
            "INFO:PricePredictionExperiment_LinearSVR:After reverse - price mean: 52492874.37999999\n",
            "2025-05-31 23:59:58,342 - PricePredictionExperiment_LinearSVR - INFO - Fold 0 - Log scale: R²=0.5421, RMSE=0.1479, SMAPE=32.0909%\n",
            "Original scale: R²=-0.7084, RMSE=160814445.1951, SMAPE=78.3042%\n",
            "INFO:PricePredictionExperiment_LinearSVR:Fold 0 - Log scale: R²=0.5421, RMSE=0.1479, SMAPE=32.0909%\n",
            "Original scale: R²=-0.7084, RMSE=160814445.1951, SMAPE=78.3042%\n"
          ]
        },
        {
          "output_type": "stream",
          "name": "stdout",
          "text": [
            " Fold 1: train_size=100 val_size=50\n",
            "Epoch 1/3 - Loss: 0.9390\n",
            "Epoch 2/3 - Loss: 0.3561\n",
            "Epoch 3/3 - Loss: 0.1562\n"
          ]
        },
        {
          "output_type": "stream",
          "name": "stderr",
          "text": [
            "2025-06-01 00:00:01,523 - PricePredictionExperiment_LinearSVR - INFO - Before reverse - price mean: 0.44923494890588567\n",
            "INFO:PricePredictionExperiment_LinearSVR:Before reverse - price mean: 0.44923494890588567\n",
            "2025-06-01 00:00:01,530 - PricePredictionExperiment_LinearSVR - INFO - After reverse - price mean: 30649667.2\n",
            "INFO:PricePredictionExperiment_LinearSVR:After reverse - price mean: 30649667.2\n",
            "2025-06-01 00:00:01,602 - PricePredictionExperiment_LinearSVR - INFO - Fold 1 - Log scale: R²=0.2780, RMSE=0.1587, SMAPE=29.1751%\n",
            "Original scale: R²=-107.3693, RMSE=605906061.8407, SMAPE=75.7067%\n",
            "INFO:PricePredictionExperiment_LinearSVR:Fold 1 - Log scale: R²=0.2780, RMSE=0.1587, SMAPE=29.1751%\n",
            "Original scale: R²=-107.3693, RMSE=605906061.8407, SMAPE=75.7067%\n"
          ]
        },
        {
          "output_type": "stream",
          "name": "stdout",
          "text": [
            " Fold 2: train_size=100 val_size=50\n",
            "Epoch 1/3 - Loss: 0.0830\n",
            "Epoch 2/3 - Loss: 0.0606\n",
            "Epoch 3/3 - Loss: 0.0581\n"
          ]
        },
        {
          "output_type": "stream",
          "name": "stderr",
          "text": [
            "2025-06-01 00:00:04,769 - PricePredictionExperiment_LinearSVR - INFO - Before reverse - price mean: 0.48160117863933743\n",
            "INFO:PricePredictionExperiment_LinearSVR:Before reverse - price mean: 0.48160117863933743\n",
            "2025-06-01 00:00:04,774 - PricePredictionExperiment_LinearSVR - INFO - After reverse - price mean: 70292049.59999996\n",
            "INFO:PricePredictionExperiment_LinearSVR:After reverse - price mean: 70292049.59999996\n",
            "2025-06-01 00:00:04,848 - PricePredictionExperiment_LinearSVR - INFO - Fold 2 - Log scale: R²=0.6789, RMSE=0.1263, SMAPE=15.3513%\n",
            "Original scale: R²=0.6213, RMSE=93287843.8854, SMAPE=40.5298%\n",
            "INFO:PricePredictionExperiment_LinearSVR:Fold 2 - Log scale: R²=0.6789, RMSE=0.1263, SMAPE=15.3513%\n",
            "Original scale: R²=0.6213, RMSE=93287843.8854, SMAPE=40.5298%\n",
            "\u001b[32m[I 2025-06-01 00:00:04,892]\u001b[0m Trial 0 finished with value: 0.4996446099008505 and parameters: {'model__C': 22, 'model__max_iter': 9754, 'model__dual': False, 'model__loss': 'squared_epsilon_insensitive', 'bert__max_len': 512, 'bert__batch_size': 8, 'bert__pooling_type': 'max', 'bert__lr': 3.5562113340793554e-05}. Best is trial 0 with value: 0.4996446099008505.\u001b[0m\n",
            "2025-06-01 00:00:04,893 - PricePredictionExperiment_LinearSVR - INFO - Elapsed time for optuna: 10.28 seconds\n",
            "INFO:PricePredictionExperiment_LinearSVR:Elapsed time for optuna: 10.28 seconds\n",
            "2025-06-01 00:00:04,906 - PricePredictionExperiment_LinearSVR - INFO - Timing started for: final_cv\n",
            "INFO:PricePredictionExperiment_LinearSVR:Timing started for: final_cv\n"
          ]
        },
        {
          "output_type": "stream",
          "name": "stdout",
          "text": [
            "Final CV stratified bins counts: [48 47 48 46 47]\n",
            "Running final 5-fold CV on 236 samples\n",
            " FinalCV Fold 0: train_size=188 val_size=48\n",
            "Couldn't determine BERT output dim, using default PCA: 'NoneType' object has no attribute 'bert'\n",
            "Epoch 1/3 - Loss: 0.1441\n",
            "Epoch 2/3 - Loss: 0.0591\n",
            "Epoch 3/3 - Loss: 0.0386\n"
          ]
        },
        {
          "output_type": "stream",
          "name": "stderr",
          "text": [
            "2025-06-01 00:00:10,887 - PricePredictionExperiment_LinearSVR - INFO - Before reverse - price mean: 0.4550678466274749\n",
            "INFO:PricePredictionExperiment_LinearSVR:Before reverse - price mean: 0.4550678466274749\n",
            "2025-06-01 00:00:10,891 - PricePredictionExperiment_LinearSVR - INFO - After reverse - price mean: 35495257.499999985\n",
            "INFO:PricePredictionExperiment_LinearSVR:After reverse - price mean: 35495257.499999985\n",
            "2025-06-01 00:00:10,898 - PricePredictionExperiment_LinearSVR - INFO -  Fold 1/5 | Log R2=0.3186 | Orig R2=-2.9816\n",
            "INFO:PricePredictionExperiment_LinearSVR: Fold 1/5 | Log R2=0.3186 | Orig R2=-2.9816\n"
          ]
        },
        {
          "output_type": "stream",
          "name": "stdout",
          "text": [
            " FinalCV Fold 1: train_size=189 val_size=47\n",
            "Couldn't determine BERT output dim, using default PCA: 'NoneType' object has no attribute 'bert'\n",
            "Epoch 1/3 - Loss: 0.0763\n",
            "Epoch 2/3 - Loss: 0.0473\n",
            "Epoch 3/3 - Loss: 0.0407\n"
          ]
        },
        {
          "output_type": "stream",
          "name": "stderr",
          "text": [
            "2025-06-01 00:00:16,530 - PricePredictionExperiment_LinearSVR - INFO - Before reverse - price mean: 0.47295177607112204\n",
            "INFO:PricePredictionExperiment_LinearSVR:Before reverse - price mean: 0.47295177607112204\n",
            "2025-06-01 00:00:16,534 - PricePredictionExperiment_LinearSVR - INFO - After reverse - price mean: 50921123.40425533\n",
            "INFO:PricePredictionExperiment_LinearSVR:After reverse - price mean: 50921123.40425533\n",
            "2025-06-01 00:00:16,542 - PricePredictionExperiment_LinearSVR - INFO -  Fold 2/5 | Log R2=0.6473 | Orig R2=0.2917\n",
            "INFO:PricePredictionExperiment_LinearSVR: Fold 2/5 | Log R2=0.6473 | Orig R2=0.2917\n"
          ]
        },
        {
          "output_type": "stream",
          "name": "stdout",
          "text": [
            " FinalCV Fold 2: train_size=189 val_size=47\n",
            "Couldn't determine BERT output dim, using default PCA: 'NoneType' object has no attribute 'bert'\n",
            "Epoch 1/3 - Loss: 0.1311\n",
            "Epoch 2/3 - Loss: 0.0631\n",
            "Epoch 3/3 - Loss: 0.0502\n"
          ]
        },
        {
          "output_type": "stream",
          "name": "stderr",
          "text": [
            "2025-06-01 00:00:22,412 - PricePredictionExperiment_LinearSVR - INFO - Before reverse - price mean: 0.46109879287422134\n",
            "INFO:PricePredictionExperiment_LinearSVR:Before reverse - price mean: 0.46109879287422134\n",
            "2025-06-01 00:00:22,425 - PricePredictionExperiment_LinearSVR - INFO - After reverse - price mean: 50421914.893617004\n",
            "INFO:PricePredictionExperiment_LinearSVR:After reverse - price mean: 50421914.893617004\n",
            "2025-06-01 00:00:22,432 - PricePredictionExperiment_LinearSVR - INFO -  Fold 3/5 | Log R2=0.4659 | Orig R2=0.0749\n",
            "INFO:PricePredictionExperiment_LinearSVR: Fold 3/5 | Log R2=0.4659 | Orig R2=0.0749\n"
          ]
        },
        {
          "output_type": "stream",
          "name": "stdout",
          "text": [
            " FinalCV Fold 3: train_size=189 val_size=47\n",
            "Couldn't determine BERT output dim, using default PCA: 'NoneType' object has no attribute 'bert'\n",
            "Epoch 1/3 - Loss: 0.3530\n",
            "Epoch 2/3 - Loss: 0.0962\n",
            "Epoch 3/3 - Loss: 0.0524\n"
          ]
        },
        {
          "output_type": "stream",
          "name": "stderr",
          "text": [
            "2025-06-01 00:00:28,251 - PricePredictionExperiment_LinearSVR - INFO - Before reverse - price mean: 0.4580297314108511\n",
            "INFO:PricePredictionExperiment_LinearSVR:Before reverse - price mean: 0.4580297314108511\n",
            "2025-06-01 00:00:28,258 - PricePredictionExperiment_LinearSVR - INFO - After reverse - price mean: 63415391.4893617\n",
            "INFO:PricePredictionExperiment_LinearSVR:After reverse - price mean: 63415391.4893617\n",
            "2025-06-01 00:00:28,267 - PricePredictionExperiment_LinearSVR - INFO -  Fold 4/5 | Log R2=0.7686 | Orig R2=-0.0856\n",
            "INFO:PricePredictionExperiment_LinearSVR: Fold 4/5 | Log R2=0.7686 | Orig R2=-0.0856\n"
          ]
        },
        {
          "output_type": "stream",
          "name": "stdout",
          "text": [
            " FinalCV Fold 4: train_size=189 val_size=47\n",
            "Couldn't determine BERT output dim, using default PCA: 'NoneType' object has no attribute 'bert'\n",
            "Epoch 1/3 - Loss: 0.0781\n",
            "Epoch 2/3 - Loss: 0.0373\n",
            "Epoch 3/3 - Loss: 0.0443\n"
          ]
        },
        {
          "output_type": "stream",
          "name": "stderr",
          "text": [
            "2025-06-01 00:00:33,884 - PricePredictionExperiment_LinearSVR - INFO - Before reverse - price mean: 0.4727362701111664\n",
            "INFO:PricePredictionExperiment_LinearSVR:Before reverse - price mean: 0.4727362701111664\n",
            "2025-06-01 00:00:33,887 - PricePredictionExperiment_LinearSVR - INFO - After reverse - price mean: 67053424.65957447\n",
            "INFO:PricePredictionExperiment_LinearSVR:After reverse - price mean: 67053424.65957447\n",
            "2025-06-01 00:00:33,894 - PricePredictionExperiment_LinearSVR - INFO -  Fold 5/5 | Log R2=0.7261 | Orig R2=-2.1718\n",
            "INFO:PricePredictionExperiment_LinearSVR: Fold 5/5 | Log R2=0.7261 | Orig R2=-2.1718\n"
          ]
        },
        {
          "output_type": "stream",
          "name": "stdout",
          "text": [
            "Couldn't determine BERT output dim, using default PCA: 'NoneType' object has no attribute 'bert'\n",
            "Epoch 1/3 - Loss: 0.1175\n",
            "Epoch 2/3 - Loss: 0.0549\n",
            "Epoch 3/3 - Loss: 0.0422\n"
          ]
        },
        {
          "output_type": "stream",
          "name": "stderr",
          "text": [
            "2025-06-01 00:00:41,165 - PricePredictionExperiment_LinearSVR - INFO - Before reverse - price mean: 0.46124991486493366\n",
            "INFO:PricePredictionExperiment_LinearSVR:Before reverse - price mean: 0.46124991486493366\n",
            "2025-06-01 00:00:41,168 - PricePredictionExperiment_LinearSVR - INFO - After reverse - price mean: 53129052.52542374\n",
            "INFO:PricePredictionExperiment_LinearSVR:After reverse - price mean: 53129052.52542374\n",
            "2025-06-01 00:00:41,378 - PricePredictionExperiment_LinearSVR - INFO - Evaluation artifacts saved to /content/results/metrics\n",
            "INFO:PricePredictionExperiment_LinearSVR:Evaluation artifacts saved to /content/results/metrics\n",
            "2025-06-01 00:00:41,410 - PricePredictionExperiment_LinearSVR - INFO - Elapsed time for final_cv: 36.50 seconds\n",
            "INFO:PricePredictionExperiment_LinearSVR:Elapsed time for final_cv: 36.50 seconds\n",
            "2025-06-01 00:00:41,933 - PricePredictionExperiment_LinearSVR - INFO - Timing started for: final_model_teaching\n",
            "INFO:PricePredictionExperiment_LinearSVR:Timing started for: final_model_teaching\n",
            "2025-06-01 00:00:41,935 - PricePredictionExperiment_LinearSVR - INFO - Elapsed time for final_model_teaching: 0.00 seconds\n",
            "INFO:PricePredictionExperiment_LinearSVR:Elapsed time for final_model_teaching: 0.00 seconds\n",
            "2025-06-01 00:00:41,947 - PricePredictionExperiment_LinearSVR - INFO - Elapsed time for total: 47.60 seconds\n",
            "INFO:PricePredictionExperiment_LinearSVR:Elapsed time for total: 47.60 seconds\n",
            "2025-06-01 00:00:41,971 - PricePredictionExperiment_LinearSVR - INFO - → Запуск конфигурации: price_prediction_LinearSVR_mixed_rubert_pca_True_gate_False_mtf_False_\n",
            "INFO:PricePredictionExperiment_LinearSVR:→ Запуск конфигурации: price_prediction_LinearSVR_mixed_rubert_pca_True_gate_False_mtf_False_\n",
            "2025-06-01 00:00:41,972 - PricePredictionExperiment_LinearSVR - INFO - Loading and preprocessing data...\n",
            "INFO:PricePredictionExperiment_LinearSVR:Loading and preprocessing data...\n",
            "2025-06-01 00:00:41,998 - PricePredictionExperiment_LinearSVR - INFO - Applying sample_size: 300\n",
            "INFO:PricePredictionExperiment_LinearSVR:Applying sample_size: 300\n",
            "2025-06-01 00:00:42,006 - PricePredictionExperiment_LinearSVR - INFO - Данные прошли строгую валидацию профиля.\n",
            "INFO:PricePredictionExperiment_LinearSVR:Данные прошли строгую валидацию профиля.\n"
          ]
        },
        {
          "output_type": "stream",
          "name": "stdout",
          "text": [
            "['landCategory', 'wallMaterial', 'bathroom', 'renovation', 'electricity', 'heating', 'waterSupply', 'gas', 'sewerage', 'media', 'parking', 'transportAccessibility', 'saleMethod', 'seller', 'category', 'infrastructure', 'terrace', 'recreation', 'region', 'nearestPPLA', 'nearestPPLA2']\n"
          ]
        },
        {
          "output_type": "stream",
          "name": "stderr",
          "text": [
            "\u001b[32m[I 2025-06-01 00:00:54,714]\u001b[0m A new study created in memory with name: no-name-45fd0075-aca2-4699-b485-5bcf0a06e2fd\u001b[0m\n",
            "2025-06-01 00:00:54,937 - PricePredictionExperiment_LinearSVR - INFO - Timing started for: total\n",
            "INFO:PricePredictionExperiment_LinearSVR:Timing started for: total\n",
            "2025-06-01 00:00:54,951 - PricePredictionExperiment_LinearSVR - INFO - ENV: python_version: 3.11.12 (main, Apr  9 2025, 08:55:54) [GCC 11.4.0]\n",
            "INFO:PricePredictionExperiment_LinearSVR:ENV: python_version: 3.11.12 (main, Apr  9 2025, 08:55:54) [GCC 11.4.0]\n",
            "2025-06-01 00:00:54,963 - PricePredictionExperiment_LinearSVR - INFO - ENV: platform: Linux-6.1.123+-x86_64-with-glibc2.35\n",
            "INFO:PricePredictionExperiment_LinearSVR:ENV: platform: Linux-6.1.123+-x86_64-with-glibc2.35\n",
            "2025-06-01 00:00:54,975 - PricePredictionExperiment_LinearSVR - INFO - ENV: sklearn_version: 1.6.1\n",
            "INFO:PricePredictionExperiment_LinearSVR:ENV: sklearn_version: 1.6.1\n",
            "2025-06-01 00:00:54,987 - PricePredictionExperiment_LinearSVR - INFO - ENV: pandas_version: 2.2.2\n",
            "INFO:PricePredictionExperiment_LinearSVR:ENV: pandas_version: 2.2.2\n",
            "2025-06-01 00:00:54,998 - PricePredictionExperiment_LinearSVR - INFO - ENV: numpy_version: 1.26.4\n",
            "INFO:PricePredictionExperiment_LinearSVR:ENV: numpy_version: 1.26.4\n",
            "2025-06-01 00:00:55,010 - PricePredictionExperiment_LinearSVR - INFO - ENV: torch_version: 2.6.0+cu124\n",
            "INFO:PricePredictionExperiment_LinearSVR:ENV: torch_version: 2.6.0+cu124\n",
            "2025-06-01 00:00:55,023 - PricePredictionExperiment_LinearSVR - INFO - ENV: cuda_available: True\n",
            "INFO:PricePredictionExperiment_LinearSVR:ENV: cuda_available: True\n",
            "2025-06-01 00:00:55,035 - PricePredictionExperiment_LinearSVR - INFO - ENV: cuda_device: Tesla T4\n",
            "INFO:PricePredictionExperiment_LinearSVR:ENV: cuda_device: Tesla T4\n",
            "2025-06-01 00:00:55,046 - PricePredictionExperiment_LinearSVR - INFO - ENV: run_time: 2025-06-01 00:00:54\n",
            "INFO:PricePredictionExperiment_LinearSVR:ENV: run_time: 2025-06-01 00:00:54\n",
            "2025-06-01 00:00:55,058 - PricePredictionExperiment_LinearSVR - INFO - ENV: run_hostname: bd3d025abf46\n",
            "INFO:PricePredictionExperiment_LinearSVR:ENV: run_hostname: bd3d025abf46\n",
            "2025-06-01 00:00:55,154 - PricePredictionExperiment_LinearSVR - INFO - Timing started for: optuna\n",
            "INFO:PricePredictionExperiment_LinearSVR:Timing started for: optuna\n"
          ]
        },
        {
          "output_type": "stream",
          "name": "stdout",
          "text": [
            "CV stratified bins counts: [51 49 50]\n",
            "Running 3-fold CV on 150 samples\n",
            " Fold 0: train_size=100 val_size=50\n"
          ]
        },
        {
          "output_type": "stream",
          "name": "stderr",
          "text": [
            "2025-06-01 00:00:55,594 - PricePredictionExperiment_LinearSVR - INFO - Before reverse - price mean: 0.46163744810703816\n",
            "INFO:PricePredictionExperiment_LinearSVR:Before reverse - price mean: 0.46163744810703816\n",
            "2025-06-01 00:00:55,598 - PricePredictionExperiment_LinearSVR - INFO - After reverse - price mean: 52492874.37999999\n",
            "INFO:PricePredictionExperiment_LinearSVR:After reverse - price mean: 52492874.37999999\n",
            "2025-06-01 00:00:55,653 - PricePredictionExperiment_LinearSVR - INFO - Fold 0 - Log scale: R²=0.4546, RMSE=0.1614, SMAPE=35.5311%\n",
            "Original scale: R²=-2.5596, RMSE=232127155.1577, SMAPE=83.9169%\n",
            "INFO:PricePredictionExperiment_LinearSVR:Fold 0 - Log scale: R²=0.4546, RMSE=0.1614, SMAPE=35.5311%\n",
            "Original scale: R²=-2.5596, RMSE=232127155.1577, SMAPE=83.9169%\n"
          ]
        },
        {
          "output_type": "stream",
          "name": "stdout",
          "text": [
            " Fold 1: train_size=100 val_size=50\n"
          ]
        },
        {
          "output_type": "stream",
          "name": "stderr",
          "text": [
            "2025-06-01 00:00:56,026 - PricePredictionExperiment_LinearSVR - INFO - Before reverse - price mean: 0.44923494890588567\n",
            "INFO:PricePredictionExperiment_LinearSVR:Before reverse - price mean: 0.44923494890588567\n",
            "2025-06-01 00:00:56,030 - PricePredictionExperiment_LinearSVR - INFO - After reverse - price mean: 30649667.2\n",
            "INFO:PricePredictionExperiment_LinearSVR:After reverse - price mean: 30649667.2\n",
            "2025-06-01 00:00:56,085 - PricePredictionExperiment_LinearSVR - INFO - Fold 1 - Log scale: R²=0.1506, RMSE=0.1721, SMAPE=34.3873%\n",
            "Original scale: R²=-132.9851, RMSE=673721563.6376, SMAPE=84.4786%\n",
            "INFO:PricePredictionExperiment_LinearSVR:Fold 1 - Log scale: R²=0.1506, RMSE=0.1721, SMAPE=34.3873%\n",
            "Original scale: R²=-132.9851, RMSE=673721563.6376, SMAPE=84.4786%\n"
          ]
        },
        {
          "output_type": "stream",
          "name": "stdout",
          "text": [
            " Fold 2: train_size=100 val_size=50\n"
          ]
        },
        {
          "output_type": "stream",
          "name": "stderr",
          "text": [
            "2025-06-01 00:00:56,446 - PricePredictionExperiment_LinearSVR - INFO - Before reverse - price mean: 0.48160117863933743\n",
            "INFO:PricePredictionExperiment_LinearSVR:Before reverse - price mean: 0.48160117863933743\n",
            "2025-06-01 00:00:56,449 - PricePredictionExperiment_LinearSVR - INFO - After reverse - price mean: 70292049.59999996\n",
            "INFO:PricePredictionExperiment_LinearSVR:After reverse - price mean: 70292049.59999996\n",
            "2025-06-01 00:00:56,517 - PricePredictionExperiment_LinearSVR - INFO - Fold 2 - Log scale: R²=0.5252, RMSE=0.1536, SMAPE=16.1136%\n",
            "Original scale: R²=0.5555, RMSE=101073656.8672, SMAPE=40.0078%\n",
            "INFO:PricePredictionExperiment_LinearSVR:Fold 2 - Log scale: R²=0.5252, RMSE=0.1536, SMAPE=16.1136%\n",
            "Original scale: R²=0.5555, RMSE=101073656.8672, SMAPE=40.0078%\n",
            "\u001b[32m[I 2025-06-01 00:00:56,521]\u001b[0m Trial 0 finished with value: 0.3767799027854301 and parameters: {'model__C': 22, 'model__max_iter': 9754, 'model__dual': False, 'model__loss': 'squared_epsilon_insensitive', 'w2v__vector_size': 250, 'w2v__window': 11, 'w2v__min_count': 2, 'w2v__sg': 0}. Best is trial 0 with value: 0.3767799027854301.\u001b[0m\n",
            "2025-06-01 00:00:56,522 - PricePredictionExperiment_LinearSVR - INFO - Elapsed time for optuna: 1.37 seconds\n",
            "INFO:PricePredictionExperiment_LinearSVR:Elapsed time for optuna: 1.37 seconds\n",
            "2025-06-01 00:00:56,536 - PricePredictionExperiment_LinearSVR - INFO - Timing started for: final_cv\n",
            "INFO:PricePredictionExperiment_LinearSVR:Timing started for: final_cv\n"
          ]
        },
        {
          "output_type": "stream",
          "name": "stdout",
          "text": [
            "Final CV stratified bins counts: [48 47 48 46 47]\n",
            "Running final 5-fold CV on 236 samples\n",
            " FinalCV Fold 0: train_size=188 val_size=48\n"
          ]
        },
        {
          "output_type": "stream",
          "name": "stderr",
          "text": [
            "2025-06-01 00:00:57,199 - PricePredictionExperiment_LinearSVR - INFO - Before reverse - price mean: 0.4550678466274749\n",
            "INFO:PricePredictionExperiment_LinearSVR:Before reverse - price mean: 0.4550678466274749\n",
            "2025-06-01 00:00:57,206 - PricePredictionExperiment_LinearSVR - INFO - After reverse - price mean: 35495257.499999985\n",
            "INFO:PricePredictionExperiment_LinearSVR:After reverse - price mean: 35495257.499999985\n",
            "2025-06-01 00:00:57,213 - PricePredictionExperiment_LinearSVR - INFO -  Fold 1/5 | Log R2=0.3178 | Orig R2=-2.9998\n",
            "INFO:PricePredictionExperiment_LinearSVR: Fold 1/5 | Log R2=0.3178 | Orig R2=-2.9998\n"
          ]
        },
        {
          "output_type": "stream",
          "name": "stdout",
          "text": [
            " FinalCV Fold 1: train_size=189 val_size=47\n"
          ]
        },
        {
          "output_type": "stream",
          "name": "stderr",
          "text": [
            "2025-06-01 00:00:57,815 - PricePredictionExperiment_LinearSVR - INFO - Before reverse - price mean: 0.47295177607112204\n",
            "INFO:PricePredictionExperiment_LinearSVR:Before reverse - price mean: 0.47295177607112204\n",
            "2025-06-01 00:00:57,826 - PricePredictionExperiment_LinearSVR - INFO - After reverse - price mean: 50921123.40425533\n",
            "INFO:PricePredictionExperiment_LinearSVR:After reverse - price mean: 50921123.40425533\n",
            "2025-06-01 00:00:57,834 - PricePredictionExperiment_LinearSVR - INFO -  Fold 2/5 | Log R2=0.6382 | Orig R2=0.2903\n",
            "INFO:PricePredictionExperiment_LinearSVR: Fold 2/5 | Log R2=0.6382 | Orig R2=0.2903\n"
          ]
        },
        {
          "output_type": "stream",
          "name": "stdout",
          "text": [
            " FinalCV Fold 2: train_size=189 val_size=47\n"
          ]
        },
        {
          "output_type": "stream",
          "name": "stderr",
          "text": [
            "2025-06-01 00:00:58,470 - PricePredictionExperiment_LinearSVR - INFO - Before reverse - price mean: 0.46109879287422134\n",
            "INFO:PricePredictionExperiment_LinearSVR:Before reverse - price mean: 0.46109879287422134\n",
            "2025-06-01 00:00:58,479 - PricePredictionExperiment_LinearSVR - INFO - After reverse - price mean: 50421914.893617004\n",
            "INFO:PricePredictionExperiment_LinearSVR:After reverse - price mean: 50421914.893617004\n",
            "2025-06-01 00:00:58,487 - PricePredictionExperiment_LinearSVR - INFO -  Fold 3/5 | Log R2=0.4555 | Orig R2=0.0541\n",
            "INFO:PricePredictionExperiment_LinearSVR: Fold 3/5 | Log R2=0.4555 | Orig R2=0.0541\n"
          ]
        },
        {
          "output_type": "stream",
          "name": "stdout",
          "text": [
            " FinalCV Fold 3: train_size=189 val_size=47\n"
          ]
        },
        {
          "output_type": "stream",
          "name": "stderr",
          "text": [
            "2025-06-01 00:00:59,077 - PricePredictionExperiment_LinearSVR - INFO - Before reverse - price mean: 0.4580297314108511\n",
            "INFO:PricePredictionExperiment_LinearSVR:Before reverse - price mean: 0.4580297314108511\n",
            "2025-06-01 00:00:59,084 - PricePredictionExperiment_LinearSVR - INFO - After reverse - price mean: 63415391.4893617\n",
            "INFO:PricePredictionExperiment_LinearSVR:After reverse - price mean: 63415391.4893617\n",
            "2025-06-01 00:00:59,092 - PricePredictionExperiment_LinearSVR - INFO -  Fold 4/5 | Log R2=0.7617 | Orig R2=-0.1107\n",
            "INFO:PricePredictionExperiment_LinearSVR: Fold 4/5 | Log R2=0.7617 | Orig R2=-0.1107\n"
          ]
        },
        {
          "output_type": "stream",
          "name": "stdout",
          "text": [
            " FinalCV Fold 4: train_size=189 val_size=47\n"
          ]
        },
        {
          "output_type": "stream",
          "name": "stderr",
          "text": [
            "2025-06-01 00:00:59,728 - PricePredictionExperiment_LinearSVR - INFO - Before reverse - price mean: 0.4727362701111664\n",
            "INFO:PricePredictionExperiment_LinearSVR:Before reverse - price mean: 0.4727362701111664\n",
            "2025-06-01 00:00:59,732 - PricePredictionExperiment_LinearSVR - INFO - After reverse - price mean: 67053424.65957447\n",
            "INFO:PricePredictionExperiment_LinearSVR:After reverse - price mean: 67053424.65957447\n",
            "2025-06-01 00:00:59,739 - PricePredictionExperiment_LinearSVR - INFO -  Fold 5/5 | Log R2=0.7308 | Orig R2=-2.4011\n",
            "INFO:PricePredictionExperiment_LinearSVR: Fold 5/5 | Log R2=0.7308 | Orig R2=-2.4011\n",
            "2025-06-01 00:01:01,055 - PricePredictionExperiment_LinearSVR - INFO - Before reverse - price mean: 0.46124991486493366\n",
            "INFO:PricePredictionExperiment_LinearSVR:Before reverse - price mean: 0.46124991486493366\n",
            "2025-06-01 00:01:01,062 - PricePredictionExperiment_LinearSVR - INFO - After reverse - price mean: 53129052.52542374\n",
            "INFO:PricePredictionExperiment_LinearSVR:After reverse - price mean: 53129052.52542374\n",
            "2025-06-01 00:01:01,341 - PricePredictionExperiment_LinearSVR - INFO - Evaluation artifacts saved to /content/results/metrics\n",
            "INFO:PricePredictionExperiment_LinearSVR:Evaluation artifacts saved to /content/results/metrics\n",
            "2025-06-01 00:01:01,354 - PricePredictionExperiment_LinearSVR - INFO - Elapsed time for final_cv: 4.82 seconds\n",
            "INFO:PricePredictionExperiment_LinearSVR:Elapsed time for final_cv: 4.82 seconds\n",
            "2025-06-01 00:01:01,896 - PricePredictionExperiment_LinearSVR - INFO - Timing started for: final_model_teaching\n",
            "INFO:PricePredictionExperiment_LinearSVR:Timing started for: final_model_teaching\n",
            "2025-06-01 00:01:01,901 - PricePredictionExperiment_LinearSVR - INFO - Elapsed time for final_model_teaching: 0.00 seconds\n",
            "INFO:PricePredictionExperiment_LinearSVR:Elapsed time for final_model_teaching: 0.00 seconds\n",
            "2025-06-01 00:01:01,920 - PricePredictionExperiment_LinearSVR - INFO - Elapsed time for total: 6.98 seconds\n",
            "INFO:PricePredictionExperiment_LinearSVR:Elapsed time for total: 6.98 seconds\n",
            "2025-06-01 00:01:01,970 - PricePredictionExperiment_LinearSVR - INFO - → Запуск конфигурации: price_prediction_LinearSVR_mixed_w2v_pca_True_gate_False_mtf_False_\n",
            "INFO:PricePredictionExperiment_LinearSVR:→ Запуск конфигурации: price_prediction_LinearSVR_mixed_w2v_pca_True_gate_False_mtf_False_\n",
            "2025-06-01 00:01:01,971 - PricePredictionExperiment_LinearSVR - INFO - Loading and preprocessing data...\n",
            "INFO:PricePredictionExperiment_LinearSVR:Loading and preprocessing data...\n",
            "2025-06-01 00:01:02,014 - PricePredictionExperiment_LinearSVR - INFO - Applying sample_size: 300\n",
            "INFO:PricePredictionExperiment_LinearSVR:Applying sample_size: 300\n",
            "2025-06-01 00:01:02,026 - PricePredictionExperiment_LinearSVR - INFO - Данные прошли строгую валидацию профиля.\n",
            "INFO:PricePredictionExperiment_LinearSVR:Данные прошли строгую валидацию профиля.\n"
          ]
        },
        {
          "output_type": "stream",
          "name": "stdout",
          "text": [
            "['landCategory', 'wallMaterial', 'bathroom', 'renovation', 'electricity', 'heating', 'waterSupply', 'gas', 'sewerage', 'media', 'parking', 'transportAccessibility', 'saleMethod', 'seller', 'category', 'infrastructure', 'terrace', 'recreation', 'region', 'nearestPPLA', 'nearestPPLA2']\n"
          ]
        },
        {
          "output_type": "stream",
          "name": "stderr",
          "text": [
            "\u001b[32m[I 2025-06-01 00:01:17,658]\u001b[0m A new study created in memory with name: no-name-3b0dbe44-69a2-4477-b1eb-66615035b1f8\u001b[0m\n",
            "2025-06-01 00:01:17,885 - PricePredictionExperiment_LinearSVR - INFO - Timing started for: total\n",
            "INFO:PricePredictionExperiment_LinearSVR:Timing started for: total\n",
            "2025-06-01 00:01:17,900 - PricePredictionExperiment_LinearSVR - INFO - ENV: python_version: 3.11.12 (main, Apr  9 2025, 08:55:54) [GCC 11.4.0]\n",
            "INFO:PricePredictionExperiment_LinearSVR:ENV: python_version: 3.11.12 (main, Apr  9 2025, 08:55:54) [GCC 11.4.0]\n",
            "2025-06-01 00:01:17,912 - PricePredictionExperiment_LinearSVR - INFO - ENV: platform: Linux-6.1.123+-x86_64-with-glibc2.35\n",
            "INFO:PricePredictionExperiment_LinearSVR:ENV: platform: Linux-6.1.123+-x86_64-with-glibc2.35\n",
            "2025-06-01 00:01:17,924 - PricePredictionExperiment_LinearSVR - INFO - ENV: sklearn_version: 1.6.1\n",
            "INFO:PricePredictionExperiment_LinearSVR:ENV: sklearn_version: 1.6.1\n",
            "2025-06-01 00:01:17,937 - PricePredictionExperiment_LinearSVR - INFO - ENV: pandas_version: 2.2.2\n",
            "INFO:PricePredictionExperiment_LinearSVR:ENV: pandas_version: 2.2.2\n",
            "2025-06-01 00:01:17,948 - PricePredictionExperiment_LinearSVR - INFO - ENV: numpy_version: 1.26.4\n",
            "INFO:PricePredictionExperiment_LinearSVR:ENV: numpy_version: 1.26.4\n",
            "2025-06-01 00:01:17,961 - PricePredictionExperiment_LinearSVR - INFO - ENV: torch_version: 2.6.0+cu124\n",
            "INFO:PricePredictionExperiment_LinearSVR:ENV: torch_version: 2.6.0+cu124\n",
            "2025-06-01 00:01:17,986 - PricePredictionExperiment_LinearSVR - INFO - ENV: cuda_available: True\n",
            "INFO:PricePredictionExperiment_LinearSVR:ENV: cuda_available: True\n",
            "2025-06-01 00:01:17,999 - PricePredictionExperiment_LinearSVR - INFO - ENV: cuda_device: Tesla T4\n",
            "INFO:PricePredictionExperiment_LinearSVR:ENV: cuda_device: Tesla T4\n",
            "2025-06-01 00:01:18,010 - PricePredictionExperiment_LinearSVR - INFO - ENV: run_time: 2025-06-01 00:01:17\n",
            "INFO:PricePredictionExperiment_LinearSVR:ENV: run_time: 2025-06-01 00:01:17\n",
            "2025-06-01 00:01:18,023 - PricePredictionExperiment_LinearSVR - INFO - ENV: run_hostname: bd3d025abf46\n",
            "INFO:PricePredictionExperiment_LinearSVR:ENV: run_hostname: bd3d025abf46\n",
            "2025-06-01 00:01:18,124 - PricePredictionExperiment_LinearSVR - INFO - Timing started for: optuna\n",
            "INFO:PricePredictionExperiment_LinearSVR:Timing started for: optuna\n",
            "2025-06-01 00:01:18,346 - PricePredictionExperiment_LinearSVR - INFO - Before reverse - price mean: 0.46163744810703816\n",
            "INFO:PricePredictionExperiment_LinearSVR:Before reverse - price mean: 0.46163744810703816\n",
            "2025-06-01 00:01:18,349 - PricePredictionExperiment_LinearSVR - INFO - After reverse - price mean: 52492874.37999999\n",
            "INFO:PricePredictionExperiment_LinearSVR:After reverse - price mean: 52492874.37999999\n"
          ]
        },
        {
          "output_type": "stream",
          "name": "stdout",
          "text": [
            "CV stratified bins counts: [51 49 50]\n",
            "Running 3-fold CV on 150 samples\n",
            " Fold 0: train_size=100 val_size=50\n"
          ]
        },
        {
          "output_type": "stream",
          "name": "stderr",
          "text": [
            "2025-06-01 00:01:18,422 - PricePredictionExperiment_LinearSVR - INFO - Fold 0 - Log scale: R²=0.4538, RMSE=0.1616, SMAPE=35.5710%\n",
            "Original scale: R²=-2.5734, RMSE=232579606.5894, SMAPE=83.9784%\n",
            "INFO:PricePredictionExperiment_LinearSVR:Fold 0 - Log scale: R²=0.4538, RMSE=0.1616, SMAPE=35.5710%\n",
            "Original scale: R²=-2.5734, RMSE=232579606.5894, SMAPE=83.9784%\n",
            "2025-06-01 00:01:18,546 - PricePredictionExperiment_LinearSVR - INFO - Before reverse - price mean: 0.44923494890588567\n",
            "INFO:PricePredictionExperiment_LinearSVR:Before reverse - price mean: 0.44923494890588567\n",
            "2025-06-01 00:01:18,550 - PricePredictionExperiment_LinearSVR - INFO - After reverse - price mean: 30649667.2\n",
            "INFO:PricePredictionExperiment_LinearSVR:After reverse - price mean: 30649667.2\n",
            "2025-06-01 00:01:18,602 - PricePredictionExperiment_LinearSVR - INFO - Fold 1 - Log scale: R²=0.1495, RMSE=0.1722, SMAPE=34.4391%\n",
            "Original scale: R²=-133.3602, RMSE=674664120.9732, SMAPE=84.5472%\n",
            "INFO:PricePredictionExperiment_LinearSVR:Fold 1 - Log scale: R²=0.1495, RMSE=0.1722, SMAPE=34.4391%\n",
            "Original scale: R²=-133.3602, RMSE=674664120.9732, SMAPE=84.5472%\n"
          ]
        },
        {
          "output_type": "stream",
          "name": "stdout",
          "text": [
            " Fold 1: train_size=100 val_size=50\n",
            " Fold 2: train_size=100 val_size=50\n"
          ]
        },
        {
          "output_type": "stream",
          "name": "stderr",
          "text": [
            "2025-06-01 00:01:18,723 - PricePredictionExperiment_LinearSVR - INFO - Before reverse - price mean: 0.48160117863933743\n",
            "INFO:PricePredictionExperiment_LinearSVR:Before reverse - price mean: 0.48160117863933743\n",
            "2025-06-01 00:01:18,727 - PricePredictionExperiment_LinearSVR - INFO - After reverse - price mean: 70292049.59999996\n",
            "INFO:PricePredictionExperiment_LinearSVR:After reverse - price mean: 70292049.59999996\n",
            "2025-06-01 00:01:18,797 - PricePredictionExperiment_LinearSVR - INFO - Fold 2 - Log scale: R²=0.5475, RMSE=0.1500, SMAPE=15.8515%\n",
            "Original scale: R²=0.5490, RMSE=101808440.1920, SMAPE=39.6163%\n",
            "INFO:PricePredictionExperiment_LinearSVR:Fold 2 - Log scale: R²=0.5475, RMSE=0.1500, SMAPE=15.8515%\n",
            "Original scale: R²=0.5490, RMSE=101808440.1920, SMAPE=39.6163%\n",
            "\u001b[32m[I 2025-06-01 00:01:18,801]\u001b[0m Trial 0 finished with value: 0.3835927506026209 and parameters: {'model__C': 22, 'model__max_iter': 9754, 'model__dual': False, 'model__loss': 'squared_epsilon_insensitive', 'tfidf__max_features': 447, 'tfidf__ngram_range_max': 2, 'tfidf__min_df': 2, 'tfidf__max_df': 0.7467983561008608}. Best is trial 0 with value: 0.3835927506026209.\u001b[0m\n",
            "2025-06-01 00:01:18,802 - PricePredictionExperiment_LinearSVR - INFO - Elapsed time for optuna: 0.68 seconds\n",
            "INFO:PricePredictionExperiment_LinearSVR:Elapsed time for optuna: 0.68 seconds\n",
            "2025-06-01 00:01:18,815 - PricePredictionExperiment_LinearSVR - INFO - Timing started for: final_cv\n",
            "INFO:PricePredictionExperiment_LinearSVR:Timing started for: final_cv\n"
          ]
        },
        {
          "output_type": "stream",
          "name": "stdout",
          "text": [
            "Final CV stratified bins counts: [48 47 48 46 47]\n",
            "Running final 5-fold CV on 236 samples\n",
            " FinalCV Fold 0: train_size=188 val_size=48\n"
          ]
        },
        {
          "output_type": "stream",
          "name": "stderr",
          "text": [
            "2025-06-01 00:01:19,248 - PricePredictionExperiment_LinearSVR - INFO - Before reverse - price mean: 0.4550678466274749\n",
            "INFO:PricePredictionExperiment_LinearSVR:Before reverse - price mean: 0.4550678466274749\n",
            "2025-06-01 00:01:19,258 - PricePredictionExperiment_LinearSVR - INFO - After reverse - price mean: 35495257.499999985\n",
            "INFO:PricePredictionExperiment_LinearSVR:After reverse - price mean: 35495257.499999985\n",
            "2025-06-01 00:01:19,270 - PricePredictionExperiment_LinearSVR - INFO -  Fold 1/5 | Log R2=0.3178 | Orig R2=-2.9999\n",
            "INFO:PricePredictionExperiment_LinearSVR: Fold 1/5 | Log R2=0.3178 | Orig R2=-2.9999\n"
          ]
        },
        {
          "output_type": "stream",
          "name": "stdout",
          "text": [
            " FinalCV Fold 1: train_size=189 val_size=47\n"
          ]
        },
        {
          "output_type": "stream",
          "name": "stderr",
          "text": [
            "2025-06-01 00:01:19,612 - PricePredictionExperiment_LinearSVR - INFO - Before reverse - price mean: 0.47295177607112204\n",
            "INFO:PricePredictionExperiment_LinearSVR:Before reverse - price mean: 0.47295177607112204\n",
            "2025-06-01 00:01:19,618 - PricePredictionExperiment_LinearSVR - INFO - After reverse - price mean: 50921123.40425533\n",
            "INFO:PricePredictionExperiment_LinearSVR:After reverse - price mean: 50921123.40425533\n",
            "2025-06-01 00:01:19,632 - PricePredictionExperiment_LinearSVR - INFO -  Fold 2/5 | Log R2=0.6382 | Orig R2=0.2905\n",
            "INFO:PricePredictionExperiment_LinearSVR: Fold 2/5 | Log R2=0.6382 | Orig R2=0.2905\n"
          ]
        },
        {
          "output_type": "stream",
          "name": "stdout",
          "text": [
            " FinalCV Fold 2: train_size=189 val_size=47\n"
          ]
        },
        {
          "output_type": "stream",
          "name": "stderr",
          "text": [
            "2025-06-01 00:01:19,972 - PricePredictionExperiment_LinearSVR - INFO - Before reverse - price mean: 0.46109879287422134\n",
            "INFO:PricePredictionExperiment_LinearSVR:Before reverse - price mean: 0.46109879287422134\n",
            "2025-06-01 00:01:19,975 - PricePredictionExperiment_LinearSVR - INFO - After reverse - price mean: 50421914.893617004\n",
            "INFO:PricePredictionExperiment_LinearSVR:After reverse - price mean: 50421914.893617004\n",
            "2025-06-01 00:01:19,981 - PricePredictionExperiment_LinearSVR - INFO -  Fold 3/5 | Log R2=0.4555 | Orig R2=0.0542\n",
            "INFO:PricePredictionExperiment_LinearSVR: Fold 3/5 | Log R2=0.4555 | Orig R2=0.0542\n"
          ]
        },
        {
          "output_type": "stream",
          "name": "stdout",
          "text": [
            " FinalCV Fold 3: train_size=189 val_size=47\n"
          ]
        },
        {
          "output_type": "stream",
          "name": "stderr",
          "text": [
            "2025-06-01 00:01:20,349 - PricePredictionExperiment_LinearSVR - INFO - Before reverse - price mean: 0.4580297314108511\n",
            "INFO:PricePredictionExperiment_LinearSVR:Before reverse - price mean: 0.4580297314108511\n",
            "2025-06-01 00:01:20,355 - PricePredictionExperiment_LinearSVR - INFO - After reverse - price mean: 63415391.4893617\n",
            "INFO:PricePredictionExperiment_LinearSVR:After reverse - price mean: 63415391.4893617\n",
            "2025-06-01 00:01:20,365 - PricePredictionExperiment_LinearSVR - INFO -  Fold 4/5 | Log R2=0.7617 | Orig R2=-0.1107\n",
            "INFO:PricePredictionExperiment_LinearSVR: Fold 4/5 | Log R2=0.7617 | Orig R2=-0.1107\n"
          ]
        },
        {
          "output_type": "stream",
          "name": "stdout",
          "text": [
            " FinalCV Fold 4: train_size=189 val_size=47\n"
          ]
        },
        {
          "output_type": "stream",
          "name": "stderr",
          "text": [
            "2025-06-01 00:01:20,684 - PricePredictionExperiment_LinearSVR - INFO - Before reverse - price mean: 0.4727362701111664\n",
            "INFO:PricePredictionExperiment_LinearSVR:Before reverse - price mean: 0.4727362701111664\n",
            "2025-06-01 00:01:20,691 - PricePredictionExperiment_LinearSVR - INFO - After reverse - price mean: 67053424.65957447\n",
            "INFO:PricePredictionExperiment_LinearSVR:After reverse - price mean: 67053424.65957447\n",
            "2025-06-01 00:01:20,700 - PricePredictionExperiment_LinearSVR - INFO -  Fold 5/5 | Log R2=0.7308 | Orig R2=-2.4011\n",
            "INFO:PricePredictionExperiment_LinearSVR: Fold 5/5 | Log R2=0.7308 | Orig R2=-2.4011\n",
            "2025-06-01 00:01:21,098 - PricePredictionExperiment_LinearSVR - INFO - Before reverse - price mean: 0.46124991486493366\n",
            "INFO:PricePredictionExperiment_LinearSVR:Before reverse - price mean: 0.46124991486493366\n",
            "2025-06-01 00:01:21,104 - PricePredictionExperiment_LinearSVR - INFO - After reverse - price mean: 53129052.52542374\n",
            "INFO:PricePredictionExperiment_LinearSVR:After reverse - price mean: 53129052.52542374\n",
            "2025-06-01 00:01:21,301 - PricePredictionExperiment_LinearSVR - INFO - Evaluation artifacts saved to /content/results/metrics\n",
            "INFO:PricePredictionExperiment_LinearSVR:Evaluation artifacts saved to /content/results/metrics\n",
            "2025-06-01 00:01:21,308 - PricePredictionExperiment_LinearSVR - INFO - Elapsed time for final_cv: 2.49 seconds\n",
            "INFO:PricePredictionExperiment_LinearSVR:Elapsed time for final_cv: 2.49 seconds\n",
            "2025-06-01 00:01:21,836 - PricePredictionExperiment_LinearSVR - INFO - Timing started for: final_model_teaching\n",
            "INFO:PricePredictionExperiment_LinearSVR:Timing started for: final_model_teaching\n",
            "2025-06-01 00:01:21,838 - PricePredictionExperiment_LinearSVR - INFO - Elapsed time for final_model_teaching: 0.00 seconds\n",
            "INFO:PricePredictionExperiment_LinearSVR:Elapsed time for final_model_teaching: 0.00 seconds\n",
            "2025-06-01 00:01:21,865 - PricePredictionExperiment_LinearSVR - INFO - Elapsed time for total: 3.98 seconds\n",
            "INFO:PricePredictionExperiment_LinearSVR:Elapsed time for total: 3.98 seconds\n",
            "2025-06-01 00:01:21,889 - PricePredictionExperiment_LinearSVR - INFO - → Запуск конфигурации: price_prediction_LinearSVR_mixed_tfidf_pca_True_gate_False_mtf_False_\n",
            "INFO:PricePredictionExperiment_LinearSVR:→ Запуск конфигурации: price_prediction_LinearSVR_mixed_tfidf_pca_True_gate_False_mtf_False_\n",
            "2025-06-01 00:01:21,891 - PricePredictionExperiment_LinearSVR - INFO - Loading and preprocessing data...\n",
            "INFO:PricePredictionExperiment_LinearSVR:Loading and preprocessing data...\n",
            "2025-06-01 00:01:21,918 - PricePredictionExperiment_LinearSVR - INFO - Applying sample_size: 300\n",
            "INFO:PricePredictionExperiment_LinearSVR:Applying sample_size: 300\n",
            "2025-06-01 00:01:21,926 - PricePredictionExperiment_LinearSVR - INFO - Данные прошли строгую валидацию профиля.\n",
            "INFO:PricePredictionExperiment_LinearSVR:Данные прошли строгую валидацию профиля.\n"
          ]
        },
        {
          "output_type": "stream",
          "name": "stdout",
          "text": [
            "['landCategory', 'wallMaterial', 'bathroom', 'renovation', 'electricity', 'heating', 'waterSupply', 'gas', 'sewerage', 'media', 'parking', 'transportAccessibility', 'saleMethod', 'seller', 'category', 'infrastructure', 'terrace', 'recreation', 'region', 'nearestPPLA', 'nearestPPLA2']\n"
          ]
        },
        {
          "output_type": "stream",
          "name": "stderr",
          "text": [
            "\u001b[32m[I 2025-06-01 00:01:37,186]\u001b[0m A new study created in memory with name: no-name-fab5e10f-6842-409c-9e82-51eb862903bc\u001b[0m\n",
            "2025-06-01 00:01:37,398 - PricePredictionExperiment_LinearSVR - INFO - Timing started for: total\n",
            "INFO:PricePredictionExperiment_LinearSVR:Timing started for: total\n",
            "2025-06-01 00:01:37,411 - PricePredictionExperiment_LinearSVR - INFO - ENV: python_version: 3.11.12 (main, Apr  9 2025, 08:55:54) [GCC 11.4.0]\n",
            "INFO:PricePredictionExperiment_LinearSVR:ENV: python_version: 3.11.12 (main, Apr  9 2025, 08:55:54) [GCC 11.4.0]\n",
            "2025-06-01 00:01:37,424 - PricePredictionExperiment_LinearSVR - INFO - ENV: platform: Linux-6.1.123+-x86_64-with-glibc2.35\n",
            "INFO:PricePredictionExperiment_LinearSVR:ENV: platform: Linux-6.1.123+-x86_64-with-glibc2.35\n",
            "2025-06-01 00:01:37,437 - PricePredictionExperiment_LinearSVR - INFO - ENV: sklearn_version: 1.6.1\n",
            "INFO:PricePredictionExperiment_LinearSVR:ENV: sklearn_version: 1.6.1\n",
            "2025-06-01 00:01:37,454 - PricePredictionExperiment_LinearSVR - INFO - ENV: pandas_version: 2.2.2\n",
            "INFO:PricePredictionExperiment_LinearSVR:ENV: pandas_version: 2.2.2\n",
            "2025-06-01 00:01:37,485 - PricePredictionExperiment_LinearSVR - INFO - ENV: numpy_version: 1.26.4\n",
            "INFO:PricePredictionExperiment_LinearSVR:ENV: numpy_version: 1.26.4\n",
            "2025-06-01 00:01:37,496 - PricePredictionExperiment_LinearSVR - INFO - ENV: torch_version: 2.6.0+cu124\n",
            "INFO:PricePredictionExperiment_LinearSVR:ENV: torch_version: 2.6.0+cu124\n",
            "2025-06-01 00:01:37,508 - PricePredictionExperiment_LinearSVR - INFO - ENV: cuda_available: True\n",
            "INFO:PricePredictionExperiment_LinearSVR:ENV: cuda_available: True\n",
            "2025-06-01 00:01:37,520 - PricePredictionExperiment_LinearSVR - INFO - ENV: cuda_device: Tesla T4\n",
            "INFO:PricePredictionExperiment_LinearSVR:ENV: cuda_device: Tesla T4\n",
            "2025-06-01 00:01:37,532 - PricePredictionExperiment_LinearSVR - INFO - ENV: run_time: 2025-06-01 00:01:37\n",
            "INFO:PricePredictionExperiment_LinearSVR:ENV: run_time: 2025-06-01 00:01:37\n",
            "2025-06-01 00:01:37,544 - PricePredictionExperiment_LinearSVR - INFO - ENV: run_hostname: bd3d025abf46\n",
            "INFO:PricePredictionExperiment_LinearSVR:ENV: run_hostname: bd3d025abf46\n",
            "2025-06-01 00:01:37,633 - PricePredictionExperiment_LinearSVR - INFO - Timing started for: optuna\n",
            "INFO:PricePredictionExperiment_LinearSVR:Timing started for: optuna\n"
          ]
        },
        {
          "output_type": "stream",
          "name": "stdout",
          "text": [
            "CV stratified bins counts: [51 49 50]\n",
            "Running 3-fold CV on 150 samples\n",
            " Fold 0: train_size=100 val_size=50\n",
            "Epoch 1/3 - Loss: 0.1285\n",
            "Epoch 2/3 - Loss: 0.0600\n",
            "Epoch 3/3 - Loss: 0.0460\n"
          ]
        },
        {
          "output_type": "stream",
          "name": "stderr",
          "text": [
            "2025-06-01 00:01:41,289 - PricePredictionExperiment_LinearSVR - INFO - Before reverse - price mean: 0.46163744810703816\n",
            "INFO:PricePredictionExperiment_LinearSVR:Before reverse - price mean: 0.46163744810703816\n",
            "2025-06-01 00:01:41,298 - PricePredictionExperiment_LinearSVR - INFO - After reverse - price mean: 52492874.37999999\n",
            "INFO:PricePredictionExperiment_LinearSVR:After reverse - price mean: 52492874.37999999\n",
            "2025-06-01 00:01:41,380 - PricePredictionExperiment_LinearSVR - INFO - Fold 0 - Log scale: R²=0.5378, RMSE=0.1486, SMAPE=32.0872%\n",
            "Original scale: R²=0.7637, RMSE=59804392.3106, SMAPE=79.0741%\n",
            "INFO:PricePredictionExperiment_LinearSVR:Fold 0 - Log scale: R²=0.5378, RMSE=0.1486, SMAPE=32.0872%\n",
            "Original scale: R²=0.7637, RMSE=59804392.3106, SMAPE=79.0741%\n"
          ]
        },
        {
          "output_type": "stream",
          "name": "stdout",
          "text": [
            " Fold 1: train_size=100 val_size=50\n",
            "Epoch 1/3 - Loss: 2.0954\n",
            "Epoch 2/3 - Loss: 0.4608\n",
            "Epoch 3/3 - Loss: 0.1211\n"
          ]
        },
        {
          "output_type": "stream",
          "name": "stderr",
          "text": [
            "2025-06-01 00:01:44,576 - PricePredictionExperiment_LinearSVR - INFO - Before reverse - price mean: 0.44923494890588567\n",
            "INFO:PricePredictionExperiment_LinearSVR:Before reverse - price mean: 0.44923494890588567\n",
            "2025-06-01 00:01:44,580 - PricePredictionExperiment_LinearSVR - INFO - After reverse - price mean: 30649667.2\n",
            "INFO:PricePredictionExperiment_LinearSVR:After reverse - price mean: 30649667.2\n",
            "2025-06-01 00:01:44,658 - PricePredictionExperiment_LinearSVR - INFO - Fold 1 - Log scale: R²=0.2696, RMSE=0.1596, SMAPE=28.2616%\n",
            "Original scale: R²=0.2369, RMSE=50845725.3688, SMAPE=71.3708%\n",
            "INFO:PricePredictionExperiment_LinearSVR:Fold 1 - Log scale: R²=0.2696, RMSE=0.1596, SMAPE=28.2616%\n",
            "Original scale: R²=0.2369, RMSE=50845725.3688, SMAPE=71.3708%\n"
          ]
        },
        {
          "output_type": "stream",
          "name": "stdout",
          "text": [
            " Fold 2: train_size=100 val_size=50\n",
            "Epoch 1/3 - Loss: 0.1607\n",
            "Epoch 2/3 - Loss: 0.0970\n",
            "Epoch 3/3 - Loss: 0.0564\n"
          ]
        },
        {
          "output_type": "stream",
          "name": "stderr",
          "text": [
            "2025-06-01 00:01:47,887 - PricePredictionExperiment_LinearSVR - INFO - Before reverse - price mean: 0.48160117863933743\n",
            "INFO:PricePredictionExperiment_LinearSVR:Before reverse - price mean: 0.48160117863933743\n",
            "2025-06-01 00:01:47,892 - PricePredictionExperiment_LinearSVR - INFO - After reverse - price mean: 70292049.59999996\n",
            "INFO:PricePredictionExperiment_LinearSVR:After reverse - price mean: 70292049.59999996\n",
            "2025-06-01 00:01:47,946 - PricePredictionExperiment_LinearSVR - INFO - Fold 2 - Log scale: R²=0.4257, RMSE=0.1690, SMAPE=32.3938%\n",
            "Original scale: R²=0.0868, RMSE=144867531.7726, SMAPE=88.3735%\n",
            "INFO:PricePredictionExperiment_LinearSVR:Fold 2 - Log scale: R²=0.4257, RMSE=0.1690, SMAPE=32.3938%\n",
            "Original scale: R²=0.0868, RMSE=144867531.7726, SMAPE=88.3735%\n",
            "\u001b[32m[I 2025-06-01 00:01:47,996]\u001b[0m Trial 0 finished with value: 0.4110589555220517 and parameters: {'model__C': 22, 'model__max_iter': 9754, 'model__dual': False, 'model__loss': 'squared_epsilon_insensitive', 'bert__max_len': 512, 'bert__batch_size': 8, 'bert__pooling_type': 'max', 'bert__lr': 3.5562113340793554e-05}. Best is trial 0 with value: 0.4110589555220517.\u001b[0m\n",
            "2025-06-01 00:01:47,997 - PricePredictionExperiment_LinearSVR - INFO - Elapsed time for optuna: 10.36 seconds\n",
            "INFO:PricePredictionExperiment_LinearSVR:Elapsed time for optuna: 10.36 seconds\n",
            "2025-06-01 00:01:48,013 - PricePredictionExperiment_LinearSVR - INFO - Timing started for: final_cv\n",
            "INFO:PricePredictionExperiment_LinearSVR:Timing started for: final_cv\n"
          ]
        },
        {
          "output_type": "stream",
          "name": "stdout",
          "text": [
            "Final CV stratified bins counts: [48 47 48 46 47]\n",
            "Running final 5-fold CV on 236 samples\n",
            " FinalCV Fold 0: train_size=188 val_size=48\n",
            "Couldn't determine BERT output dim, using default PCA: 'NoneType' object has no attribute 'bert'\n",
            "Epoch 1/3 - Loss: 0.0842\n",
            "Epoch 2/3 - Loss: 0.0528\n",
            "Epoch 3/3 - Loss: 0.0382\n"
          ]
        },
        {
          "output_type": "stream",
          "name": "stderr",
          "text": [
            "2025-06-01 00:01:53,944 - PricePredictionExperiment_LinearSVR - INFO - Before reverse - price mean: 0.4550678466274749\n",
            "INFO:PricePredictionExperiment_LinearSVR:Before reverse - price mean: 0.4550678466274749\n",
            "2025-06-01 00:01:53,951 - PricePredictionExperiment_LinearSVR - INFO - After reverse - price mean: 35495257.499999985\n",
            "INFO:PricePredictionExperiment_LinearSVR:After reverse - price mean: 35495257.499999985\n",
            "2025-06-01 00:01:53,964 - PricePredictionExperiment_LinearSVR - INFO -  Fold 1/5 | Log R2=0.4045 | Orig R2=0.4414\n",
            "INFO:PricePredictionExperiment_LinearSVR: Fold 1/5 | Log R2=0.4045 | Orig R2=0.4414\n"
          ]
        },
        {
          "output_type": "stream",
          "name": "stdout",
          "text": [
            " FinalCV Fold 1: train_size=189 val_size=47\n",
            "Couldn't determine BERT output dim, using default PCA: 'NoneType' object has no attribute 'bert'\n",
            "Epoch 1/3 - Loss: 1.5765\n",
            "Epoch 2/3 - Loss: 0.1888\n",
            "Epoch 3/3 - Loss: 0.0833\n"
          ]
        },
        {
          "output_type": "stream",
          "name": "stderr",
          "text": [
            "2025-06-01 00:02:00,816 - PricePredictionExperiment_LinearSVR - INFO - Before reverse - price mean: 0.47295177607112204\n",
            "INFO:PricePredictionExperiment_LinearSVR:Before reverse - price mean: 0.47295177607112204\n",
            "2025-06-01 00:02:00,822 - PricePredictionExperiment_LinearSVR - INFO - After reverse - price mean: 50921123.40425533\n",
            "INFO:PricePredictionExperiment_LinearSVR:After reverse - price mean: 50921123.40425533\n",
            "2025-06-01 00:02:00,830 - PricePredictionExperiment_LinearSVR - INFO -  Fold 2/5 | Log R2=0.5909 | Orig R2=-0.0166\n",
            "INFO:PricePredictionExperiment_LinearSVR: Fold 2/5 | Log R2=0.5909 | Orig R2=-0.0166\n"
          ]
        },
        {
          "output_type": "stream",
          "name": "stdout",
          "text": [
            " FinalCV Fold 2: train_size=189 val_size=47\n",
            "Couldn't determine BERT output dim, using default PCA: 'NoneType' object has no attribute 'bert'\n",
            "Epoch 1/3 - Loss: 0.3379\n",
            "Epoch 2/3 - Loss: 0.0908\n",
            "Epoch 3/3 - Loss: 0.0619\n"
          ]
        },
        {
          "output_type": "stream",
          "name": "stderr",
          "text": [
            "2025-06-01 00:02:06,813 - PricePredictionExperiment_LinearSVR - INFO - Before reverse - price mean: 0.46109879287422134\n",
            "INFO:PricePredictionExperiment_LinearSVR:Before reverse - price mean: 0.46109879287422134\n",
            "2025-06-01 00:02:06,820 - PricePredictionExperiment_LinearSVR - INFO - After reverse - price mean: 50421914.893617004\n",
            "INFO:PricePredictionExperiment_LinearSVR:After reverse - price mean: 50421914.893617004\n",
            "2025-06-01 00:02:06,827 - PricePredictionExperiment_LinearSVR - INFO -  Fold 3/5 | Log R2=0.6107 | Orig R2=0.4786\n",
            "INFO:PricePredictionExperiment_LinearSVR: Fold 3/5 | Log R2=0.6107 | Orig R2=0.4786\n"
          ]
        },
        {
          "output_type": "stream",
          "name": "stdout",
          "text": [
            " FinalCV Fold 3: train_size=189 val_size=47\n",
            "Couldn't determine BERT output dim, using default PCA: 'NoneType' object has no attribute 'bert'\n",
            "Epoch 1/3 - Loss: 0.8294\n",
            "Epoch 2/3 - Loss: 0.1315\n",
            "Epoch 3/3 - Loss: 0.1060\n"
          ]
        },
        {
          "output_type": "stream",
          "name": "stderr",
          "text": [
            "2025-06-01 00:02:12,619 - PricePredictionExperiment_LinearSVR - INFO - Before reverse - price mean: 0.4580297314108511\n",
            "INFO:PricePredictionExperiment_LinearSVR:Before reverse - price mean: 0.4580297314108511\n",
            "2025-06-01 00:02:12,626 - PricePredictionExperiment_LinearSVR - INFO - After reverse - price mean: 63415391.4893617\n",
            "INFO:PricePredictionExperiment_LinearSVR:After reverse - price mean: 63415391.4893617\n",
            "2025-06-01 00:02:12,634 - PricePredictionExperiment_LinearSVR - INFO -  Fold 4/5 | Log R2=0.5747 | Orig R2=0.4004\n",
            "INFO:PricePredictionExperiment_LinearSVR: Fold 4/5 | Log R2=0.5747 | Orig R2=0.4004\n"
          ]
        },
        {
          "output_type": "stream",
          "name": "stdout",
          "text": [
            " FinalCV Fold 4: train_size=189 val_size=47\n",
            "Couldn't determine BERT output dim, using default PCA: 'NoneType' object has no attribute 'bert'\n",
            "Epoch 1/3 - Loss: 0.1241\n",
            "Epoch 2/3 - Loss: 0.0593\n",
            "Epoch 3/3 - Loss: 0.0400\n"
          ]
        },
        {
          "output_type": "stream",
          "name": "stderr",
          "text": [
            "2025-06-01 00:02:18,496 - PricePredictionExperiment_LinearSVR - INFO - Before reverse - price mean: 0.4727362701111664\n",
            "INFO:PricePredictionExperiment_LinearSVR:Before reverse - price mean: 0.4727362701111664\n",
            "2025-06-01 00:02:18,506 - PricePredictionExperiment_LinearSVR - INFO - After reverse - price mean: 67053424.65957447\n",
            "INFO:PricePredictionExperiment_LinearSVR:After reverse - price mean: 67053424.65957447\n",
            "2025-06-01 00:02:18,524 - PricePredictionExperiment_LinearSVR - INFO -  Fold 5/5 | Log R2=0.4428 | Orig R2=0.1429\n",
            "INFO:PricePredictionExperiment_LinearSVR: Fold 5/5 | Log R2=0.4428 | Orig R2=0.1429\n"
          ]
        },
        {
          "output_type": "stream",
          "name": "stdout",
          "text": [
            "Couldn't determine BERT output dim, using default PCA: 'NoneType' object has no attribute 'bert'\n",
            "Epoch 1/3 - Loss: 0.2389\n",
            "Epoch 2/3 - Loss: 0.0723\n",
            "Epoch 3/3 - Loss: 0.0513\n"
          ]
        },
        {
          "output_type": "stream",
          "name": "stderr",
          "text": [
            "2025-06-01 00:02:26,235 - PricePredictionExperiment_LinearSVR - INFO - Before reverse - price mean: 0.46124991486493366\n",
            "INFO:PricePredictionExperiment_LinearSVR:Before reverse - price mean: 0.46124991486493366\n",
            "2025-06-01 00:02:26,243 - PricePredictionExperiment_LinearSVR - INFO - After reverse - price mean: 53129052.52542374\n",
            "INFO:PricePredictionExperiment_LinearSVR:After reverse - price mean: 53129052.52542374\n",
            "2025-06-01 00:02:26,460 - PricePredictionExperiment_LinearSVR - INFO - Evaluation artifacts saved to /content/results/metrics\n",
            "INFO:PricePredictionExperiment_LinearSVR:Evaluation artifacts saved to /content/results/metrics\n",
            "2025-06-01 00:02:26,497 - PricePredictionExperiment_LinearSVR - INFO - Elapsed time for final_cv: 38.48 seconds\n",
            "INFO:PricePredictionExperiment_LinearSVR:Elapsed time for final_cv: 38.48 seconds\n",
            "2025-06-01 00:02:27,098 - PricePredictionExperiment_LinearSVR - INFO - Timing started for: final_model_teaching\n",
            "INFO:PricePredictionExperiment_LinearSVR:Timing started for: final_model_teaching\n",
            "2025-06-01 00:02:27,102 - PricePredictionExperiment_LinearSVR - INFO - Elapsed time for final_model_teaching: 0.00 seconds\n",
            "INFO:PricePredictionExperiment_LinearSVR:Elapsed time for final_model_teaching: 0.00 seconds\n",
            "2025-06-01 00:02:27,124 - PricePredictionExperiment_LinearSVR - INFO - Elapsed time for total: 49.73 seconds\n",
            "INFO:PricePredictionExperiment_LinearSVR:Elapsed time for total: 49.73 seconds\n",
            "2025-06-01 00:02:27,148 - PricePredictionExperiment_LinearSVR - INFO - → Запуск конфигурации: price_prediction_LinearSVR_text-only_rubert_pca_True_gate_False_mtf_False_\n",
            "INFO:PricePredictionExperiment_LinearSVR:→ Запуск конфигурации: price_prediction_LinearSVR_text-only_rubert_pca_True_gate_False_mtf_False_\n",
            "2025-06-01 00:02:27,149 - PricePredictionExperiment_LinearSVR - INFO - Loading and preprocessing data...\n",
            "INFO:PricePredictionExperiment_LinearSVR:Loading and preprocessing data...\n",
            "2025-06-01 00:02:27,179 - PricePredictionExperiment_LinearSVR - INFO - Applying sample_size: 300\n",
            "INFO:PricePredictionExperiment_LinearSVR:Applying sample_size: 300\n",
            "2025-06-01 00:02:27,188 - PricePredictionExperiment_LinearSVR - INFO - Данные прошли строгую валидацию профиля.\n",
            "INFO:PricePredictionExperiment_LinearSVR:Данные прошли строгую валидацию профиля.\n"
          ]
        },
        {
          "output_type": "stream",
          "name": "stdout",
          "text": [
            "['landCategory', 'wallMaterial', 'bathroom', 'renovation', 'electricity', 'heating', 'waterSupply', 'gas', 'sewerage', 'media', 'parking', 'transportAccessibility', 'saleMethod', 'seller', 'category', 'infrastructure', 'terrace', 'recreation', 'region', 'nearestPPLA', 'nearestPPLA2']\n"
          ]
        },
        {
          "output_type": "stream",
          "name": "stderr",
          "text": [
            "\u001b[32m[I 2025-06-01 00:02:39,152]\u001b[0m A new study created in memory with name: no-name-eacc0ea0-47d1-4e81-8030-708bea349858\u001b[0m\n",
            "2025-06-01 00:02:39,362 - PricePredictionExperiment_LinearSVR - INFO - Timing started for: total\n",
            "INFO:PricePredictionExperiment_LinearSVR:Timing started for: total\n",
            "2025-06-01 00:02:39,377 - PricePredictionExperiment_LinearSVR - INFO - ENV: python_version: 3.11.12 (main, Apr  9 2025, 08:55:54) [GCC 11.4.0]\n",
            "INFO:PricePredictionExperiment_LinearSVR:ENV: python_version: 3.11.12 (main, Apr  9 2025, 08:55:54) [GCC 11.4.0]\n",
            "2025-06-01 00:02:39,402 - PricePredictionExperiment_LinearSVR - INFO - ENV: platform: Linux-6.1.123+-x86_64-with-glibc2.35\n",
            "INFO:PricePredictionExperiment_LinearSVR:ENV: platform: Linux-6.1.123+-x86_64-with-glibc2.35\n",
            "2025-06-01 00:02:39,414 - PricePredictionExperiment_LinearSVR - INFO - ENV: sklearn_version: 1.6.1\n",
            "INFO:PricePredictionExperiment_LinearSVR:ENV: sklearn_version: 1.6.1\n",
            "2025-06-01 00:02:39,426 - PricePredictionExperiment_LinearSVR - INFO - ENV: pandas_version: 2.2.2\n",
            "INFO:PricePredictionExperiment_LinearSVR:ENV: pandas_version: 2.2.2\n",
            "2025-06-01 00:02:39,439 - PricePredictionExperiment_LinearSVR - INFO - ENV: numpy_version: 1.26.4\n",
            "INFO:PricePredictionExperiment_LinearSVR:ENV: numpy_version: 1.26.4\n",
            "2025-06-01 00:02:39,451 - PricePredictionExperiment_LinearSVR - INFO - ENV: torch_version: 2.6.0+cu124\n",
            "INFO:PricePredictionExperiment_LinearSVR:ENV: torch_version: 2.6.0+cu124\n",
            "2025-06-01 00:02:39,463 - PricePredictionExperiment_LinearSVR - INFO - ENV: cuda_available: True\n",
            "INFO:PricePredictionExperiment_LinearSVR:ENV: cuda_available: True\n",
            "2025-06-01 00:02:39,475 - PricePredictionExperiment_LinearSVR - INFO - ENV: cuda_device: Tesla T4\n",
            "INFO:PricePredictionExperiment_LinearSVR:ENV: cuda_device: Tesla T4\n",
            "2025-06-01 00:02:39,486 - PricePredictionExperiment_LinearSVR - INFO - ENV: run_time: 2025-06-01 00:02:39\n",
            "INFO:PricePredictionExperiment_LinearSVR:ENV: run_time: 2025-06-01 00:02:39\n",
            "2025-06-01 00:02:39,497 - PricePredictionExperiment_LinearSVR - INFO - ENV: run_hostname: bd3d025abf46\n",
            "INFO:PricePredictionExperiment_LinearSVR:ENV: run_hostname: bd3d025abf46\n",
            "2025-06-01 00:02:39,589 - PricePredictionExperiment_LinearSVR - INFO - Timing started for: optuna\n",
            "INFO:PricePredictionExperiment_LinearSVR:Timing started for: optuna\n"
          ]
        },
        {
          "output_type": "stream",
          "name": "stdout",
          "text": [
            "CV stratified bins counts: [51 49 50]\n",
            "Running 3-fold CV on 150 samples\n",
            " Fold 0: train_size=100 val_size=50\n"
          ]
        },
        {
          "output_type": "stream",
          "name": "stderr",
          "text": [
            "2025-06-01 00:02:40,025 - PricePredictionExperiment_LinearSVR - INFO - Before reverse - price mean: 0.46163744810703816\n",
            "INFO:PricePredictionExperiment_LinearSVR:Before reverse - price mean: 0.46163744810703816\n",
            "2025-06-01 00:02:40,035 - PricePredictionExperiment_LinearSVR - INFO - After reverse - price mean: 52492874.37999999\n",
            "INFO:PricePredictionExperiment_LinearSVR:After reverse - price mean: 52492874.37999999\n",
            "2025-06-01 00:02:40,094 - PricePredictionExperiment_LinearSVR - INFO - Fold 0 - Log scale: R²=0.2274, RMSE=0.1921, SMAPE=37.4739%\n",
            "Original scale: R²=-0.0468, RMSE=125881868.0013, SMAPE=92.4854%\n",
            "INFO:PricePredictionExperiment_LinearSVR:Fold 0 - Log scale: R²=0.2274, RMSE=0.1921, SMAPE=37.4739%\n",
            "Original scale: R²=-0.0468, RMSE=125881868.0013, SMAPE=92.4854%\n"
          ]
        },
        {
          "output_type": "stream",
          "name": "stdout",
          "text": [
            " Fold 1: train_size=100 val_size=50\n"
          ]
        },
        {
          "output_type": "stream",
          "name": "stderr",
          "text": [
            "2025-06-01 00:02:40,440 - PricePredictionExperiment_LinearSVR - INFO - Before reverse - price mean: 0.44923494890588567\n",
            "INFO:PricePredictionExperiment_LinearSVR:Before reverse - price mean: 0.44923494890588567\n",
            "2025-06-01 00:02:40,443 - PricePredictionExperiment_LinearSVR - INFO - After reverse - price mean: 30649667.2\n",
            "INFO:PricePredictionExperiment_LinearSVR:After reverse - price mean: 30649667.2\n",
            "2025-06-01 00:02:40,519 - PricePredictionExperiment_LinearSVR - INFO - Fold 1 - Log scale: R²=0.2440, RMSE=0.1624, SMAPE=32.0299%\n",
            "Original scale: R²=-0.0278, RMSE=59007698.5327, SMAPE=84.3626%\n",
            "INFO:PricePredictionExperiment_LinearSVR:Fold 1 - Log scale: R²=0.2440, RMSE=0.1624, SMAPE=32.0299%\n",
            "Original scale: R²=-0.0278, RMSE=59007698.5327, SMAPE=84.3626%\n"
          ]
        },
        {
          "output_type": "stream",
          "name": "stdout",
          "text": [
            " Fold 2: train_size=100 val_size=50\n"
          ]
        },
        {
          "output_type": "stream",
          "name": "stderr",
          "text": [
            "2025-06-01 00:02:40,858 - PricePredictionExperiment_LinearSVR - INFO - Before reverse - price mean: 0.48160117863933743\n",
            "INFO:PricePredictionExperiment_LinearSVR:Before reverse - price mean: 0.48160117863933743\n",
            "2025-06-01 00:02:40,869 - PricePredictionExperiment_LinearSVR - INFO - After reverse - price mean: 70292049.59999996\n",
            "INFO:PricePredictionExperiment_LinearSVR:After reverse - price mean: 70292049.59999996\n",
            "2025-06-01 00:02:40,932 - PricePredictionExperiment_LinearSVR - INFO - Fold 2 - Log scale: R²=0.1211, RMSE=0.2090, SMAPE=34.8477%\n",
            "Original scale: R²=-0.1340, RMSE=161435569.3474, SMAPE=95.1015%\n",
            "INFO:PricePredictionExperiment_LinearSVR:Fold 2 - Log scale: R²=0.1211, RMSE=0.2090, SMAPE=34.8477%\n",
            "Original scale: R²=-0.1340, RMSE=161435569.3474, SMAPE=95.1015%\n",
            "\u001b[32m[I 2025-06-01 00:02:40,934]\u001b[0m Trial 0 finished with value: 0.19747774664133436 and parameters: {'model__C': 22, 'model__max_iter': 9754, 'model__dual': False, 'model__loss': 'squared_epsilon_insensitive', 'w2v__vector_size': 250, 'w2v__window': 11, 'w2v__min_count': 2, 'w2v__sg': 0}. Best is trial 0 with value: 0.19747774664133436.\u001b[0m\n",
            "2025-06-01 00:02:40,935 - PricePredictionExperiment_LinearSVR - INFO - Elapsed time for optuna: 1.35 seconds\n",
            "INFO:PricePredictionExperiment_LinearSVR:Elapsed time for optuna: 1.35 seconds\n",
            "2025-06-01 00:02:40,950 - PricePredictionExperiment_LinearSVR - INFO - Timing started for: final_cv\n",
            "INFO:PricePredictionExperiment_LinearSVR:Timing started for: final_cv\n"
          ]
        },
        {
          "output_type": "stream",
          "name": "stdout",
          "text": [
            "Final CV stratified bins counts: [48 47 48 46 47]\n",
            "Running final 5-fold CV on 236 samples\n",
            " FinalCV Fold 0: train_size=188 val_size=48\n"
          ]
        },
        {
          "output_type": "stream",
          "name": "stderr",
          "text": [
            "2025-06-01 00:02:41,609 - PricePredictionExperiment_LinearSVR - INFO - Before reverse - price mean: 0.4550678466274749\n",
            "INFO:PricePredictionExperiment_LinearSVR:Before reverse - price mean: 0.4550678466274749\n",
            "2025-06-01 00:02:41,614 - PricePredictionExperiment_LinearSVR - INFO - After reverse - price mean: 35495257.499999985\n",
            "INFO:PricePredictionExperiment_LinearSVR:After reverse - price mean: 35495257.499999985\n",
            "2025-06-01 00:02:41,622 - PricePredictionExperiment_LinearSVR - INFO -  Fold 1/5 | Log R2=0.4907 | Orig R2=0.8011\n",
            "INFO:PricePredictionExperiment_LinearSVR: Fold 1/5 | Log R2=0.4907 | Orig R2=0.8011\n"
          ]
        },
        {
          "output_type": "stream",
          "name": "stdout",
          "text": [
            " FinalCV Fold 1: train_size=189 val_size=47\n"
          ]
        },
        {
          "output_type": "stream",
          "name": "stderr",
          "text": [
            "2025-06-01 00:02:42,239 - PricePredictionExperiment_LinearSVR - INFO - Before reverse - price mean: 0.47295177607112204\n",
            "INFO:PricePredictionExperiment_LinearSVR:Before reverse - price mean: 0.47295177607112204\n",
            "2025-06-01 00:02:42,246 - PricePredictionExperiment_LinearSVR - INFO - After reverse - price mean: 50921123.40425533\n",
            "INFO:PricePredictionExperiment_LinearSVR:After reverse - price mean: 50921123.40425533\n",
            "2025-06-01 00:02:42,260 - PricePredictionExperiment_LinearSVR - INFO -  Fold 2/5 | Log R2=0.5163 | Orig R2=0.0577\n",
            "INFO:PricePredictionExperiment_LinearSVR: Fold 2/5 | Log R2=0.5163 | Orig R2=0.0577\n"
          ]
        },
        {
          "output_type": "stream",
          "name": "stdout",
          "text": [
            " FinalCV Fold 2: train_size=189 val_size=47\n"
          ]
        },
        {
          "output_type": "stream",
          "name": "stderr",
          "text": [
            "2025-06-01 00:02:42,879 - PricePredictionExperiment_LinearSVR - INFO - Before reverse - price mean: 0.46109879287422134\n",
            "INFO:PricePredictionExperiment_LinearSVR:Before reverse - price mean: 0.46109879287422134\n",
            "2025-06-01 00:02:42,882 - PricePredictionExperiment_LinearSVR - INFO - After reverse - price mean: 50421914.893617004\n",
            "INFO:PricePredictionExperiment_LinearSVR:After reverse - price mean: 50421914.893617004\n",
            "2025-06-01 00:02:42,891 - PricePredictionExperiment_LinearSVR - INFO -  Fold 3/5 | Log R2=0.7018 | Orig R2=0.8014\n",
            "INFO:PricePredictionExperiment_LinearSVR: Fold 3/5 | Log R2=0.7018 | Orig R2=0.8014\n"
          ]
        },
        {
          "output_type": "stream",
          "name": "stdout",
          "text": [
            " FinalCV Fold 3: train_size=189 val_size=47\n"
          ]
        },
        {
          "output_type": "stream",
          "name": "stderr",
          "text": [
            "2025-06-01 00:02:43,625 - PricePredictionExperiment_LinearSVR - INFO - Before reverse - price mean: 0.4580297314108511\n",
            "INFO:PricePredictionExperiment_LinearSVR:Before reverse - price mean: 0.4580297314108511\n",
            "2025-06-01 00:02:43,629 - PricePredictionExperiment_LinearSVR - INFO - After reverse - price mean: 63415391.4893617\n",
            "INFO:PricePredictionExperiment_LinearSVR:After reverse - price mean: 63415391.4893617\n",
            "2025-06-01 00:02:43,641 - PricePredictionExperiment_LinearSVR - INFO -  Fold 4/5 | Log R2=0.5566 | Orig R2=0.3438\n",
            "INFO:PricePredictionExperiment_LinearSVR: Fold 4/5 | Log R2=0.5566 | Orig R2=0.3438\n"
          ]
        },
        {
          "output_type": "stream",
          "name": "stdout",
          "text": [
            " FinalCV Fold 4: train_size=189 val_size=47\n"
          ]
        },
        {
          "output_type": "stream",
          "name": "stderr",
          "text": [
            "2025-06-01 00:02:44,676 - PricePredictionExperiment_LinearSVR - INFO - Before reverse - price mean: 0.4727362701111664\n",
            "INFO:PricePredictionExperiment_LinearSVR:Before reverse - price mean: 0.4727362701111664\n",
            "2025-06-01 00:02:44,680 - PricePredictionExperiment_LinearSVR - INFO - After reverse - price mean: 67053424.65957447\n",
            "INFO:PricePredictionExperiment_LinearSVR:After reverse - price mean: 67053424.65957447\n",
            "2025-06-01 00:02:44,691 - PricePredictionExperiment_LinearSVR - INFO -  Fold 5/5 | Log R2=0.4738 | Orig R2=-0.1594\n",
            "INFO:PricePredictionExperiment_LinearSVR: Fold 5/5 | Log R2=0.4738 | Orig R2=-0.1594\n",
            "2025-06-01 00:02:45,974 - PricePredictionExperiment_LinearSVR - INFO - Before reverse - price mean: 0.46124991486493366\n",
            "INFO:PricePredictionExperiment_LinearSVR:Before reverse - price mean: 0.46124991486493366\n",
            "2025-06-01 00:02:45,977 - PricePredictionExperiment_LinearSVR - INFO - After reverse - price mean: 53129052.52542374\n",
            "INFO:PricePredictionExperiment_LinearSVR:After reverse - price mean: 53129052.52542374\n",
            "2025-06-01 00:02:46,253 - PricePredictionExperiment_LinearSVR - INFO - Evaluation artifacts saved to /content/results/metrics\n",
            "INFO:PricePredictionExperiment_LinearSVR:Evaluation artifacts saved to /content/results/metrics\n",
            "2025-06-01 00:02:46,267 - PricePredictionExperiment_LinearSVR - INFO - Elapsed time for final_cv: 5.32 seconds\n",
            "INFO:PricePredictionExperiment_LinearSVR:Elapsed time for final_cv: 5.32 seconds\n",
            "2025-06-01 00:02:46,874 - PricePredictionExperiment_LinearSVR - INFO - Timing started for: final_model_teaching\n",
            "INFO:PricePredictionExperiment_LinearSVR:Timing started for: final_model_teaching\n",
            "2025-06-01 00:02:46,879 - PricePredictionExperiment_LinearSVR - INFO - Elapsed time for final_model_teaching: 0.00 seconds\n",
            "INFO:PricePredictionExperiment_LinearSVR:Elapsed time for final_model_teaching: 0.00 seconds\n",
            "2025-06-01 00:02:46,892 - PricePredictionExperiment_LinearSVR - INFO - Elapsed time for total: 7.53 seconds\n",
            "INFO:PricePredictionExperiment_LinearSVR:Elapsed time for total: 7.53 seconds\n",
            "2025-06-01 00:02:46,923 - PricePredictionExperiment_LinearSVR - INFO - → Запуск конфигурации: price_prediction_LinearSVR_text-only_w2v_pca_True_gate_False_mtf_False_\n",
            "INFO:PricePredictionExperiment_LinearSVR:→ Запуск конфигурации: price_prediction_LinearSVR_text-only_w2v_pca_True_gate_False_mtf_False_\n",
            "2025-06-01 00:02:46,924 - PricePredictionExperiment_LinearSVR - INFO - Loading and preprocessing data...\n",
            "INFO:PricePredictionExperiment_LinearSVR:Loading and preprocessing data...\n",
            "2025-06-01 00:02:46,964 - PricePredictionExperiment_LinearSVR - INFO - Applying sample_size: 300\n",
            "INFO:PricePredictionExperiment_LinearSVR:Applying sample_size: 300\n",
            "2025-06-01 00:02:46,977 - PricePredictionExperiment_LinearSVR - INFO - Данные прошли строгую валидацию профиля.\n",
            "INFO:PricePredictionExperiment_LinearSVR:Данные прошли строгую валидацию профиля.\n"
          ]
        },
        {
          "output_type": "stream",
          "name": "stdout",
          "text": [
            "['landCategory', 'wallMaterial', 'bathroom', 'renovation', 'electricity', 'heating', 'waterSupply', 'gas', 'sewerage', 'media', 'parking', 'transportAccessibility', 'saleMethod', 'seller', 'category', 'infrastructure', 'terrace', 'recreation', 'region', 'nearestPPLA', 'nearestPPLA2']\n"
          ]
        },
        {
          "output_type": "stream",
          "name": "stderr",
          "text": [
            "\u001b[32m[I 2025-06-01 00:02:59,277]\u001b[0m A new study created in memory with name: no-name-6517264a-548d-4587-ad26-3bcd96b7f239\u001b[0m\n",
            "2025-06-01 00:02:59,542 - PricePredictionExperiment_LinearSVR - INFO - Timing started for: total\n",
            "INFO:PricePredictionExperiment_LinearSVR:Timing started for: total\n",
            "2025-06-01 00:02:59,558 - PricePredictionExperiment_LinearSVR - INFO - ENV: python_version: 3.11.12 (main, Apr  9 2025, 08:55:54) [GCC 11.4.0]\n",
            "INFO:PricePredictionExperiment_LinearSVR:ENV: python_version: 3.11.12 (main, Apr  9 2025, 08:55:54) [GCC 11.4.0]\n",
            "2025-06-01 00:02:59,576 - PricePredictionExperiment_LinearSVR - INFO - ENV: platform: Linux-6.1.123+-x86_64-with-glibc2.35\n",
            "INFO:PricePredictionExperiment_LinearSVR:ENV: platform: Linux-6.1.123+-x86_64-with-glibc2.35\n",
            "2025-06-01 00:02:59,593 - PricePredictionExperiment_LinearSVR - INFO - ENV: sklearn_version: 1.6.1\n",
            "INFO:PricePredictionExperiment_LinearSVR:ENV: sklearn_version: 1.6.1\n",
            "2025-06-01 00:02:59,607 - PricePredictionExperiment_LinearSVR - INFO - ENV: pandas_version: 2.2.2\n",
            "INFO:PricePredictionExperiment_LinearSVR:ENV: pandas_version: 2.2.2\n",
            "2025-06-01 00:02:59,624 - PricePredictionExperiment_LinearSVR - INFO - ENV: numpy_version: 1.26.4\n",
            "INFO:PricePredictionExperiment_LinearSVR:ENV: numpy_version: 1.26.4\n",
            "2025-06-01 00:02:59,637 - PricePredictionExperiment_LinearSVR - INFO - ENV: torch_version: 2.6.0+cu124\n",
            "INFO:PricePredictionExperiment_LinearSVR:ENV: torch_version: 2.6.0+cu124\n",
            "2025-06-01 00:02:59,652 - PricePredictionExperiment_LinearSVR - INFO - ENV: cuda_available: True\n",
            "INFO:PricePredictionExperiment_LinearSVR:ENV: cuda_available: True\n",
            "2025-06-01 00:02:59,668 - PricePredictionExperiment_LinearSVR - INFO - ENV: cuda_device: Tesla T4\n",
            "INFO:PricePredictionExperiment_LinearSVR:ENV: cuda_device: Tesla T4\n",
            "2025-06-01 00:02:59,681 - PricePredictionExperiment_LinearSVR - INFO - ENV: run_time: 2025-06-01 00:02:59\n",
            "INFO:PricePredictionExperiment_LinearSVR:ENV: run_time: 2025-06-01 00:02:59\n",
            "2025-06-01 00:02:59,699 - PricePredictionExperiment_LinearSVR - INFO - ENV: run_hostname: bd3d025abf46\n",
            "INFO:PricePredictionExperiment_LinearSVR:ENV: run_hostname: bd3d025abf46\n",
            "2025-06-01 00:02:59,805 - PricePredictionExperiment_LinearSVR - INFO - Timing started for: optuna\n",
            "INFO:PricePredictionExperiment_LinearSVR:Timing started for: optuna\n"
          ]
        },
        {
          "output_type": "stream",
          "name": "stdout",
          "text": [
            "CV stratified bins counts: [51 49 50]\n",
            "Running 3-fold CV on 150 samples\n",
            " Fold 0: train_size=100 val_size=50\n"
          ]
        },
        {
          "output_type": "stream",
          "name": "stderr",
          "text": [
            "2025-06-01 00:03:00,136 - PricePredictionExperiment_LinearSVR - INFO - Before reverse - price mean: 0.46163744810703816\n",
            "INFO:PricePredictionExperiment_LinearSVR:Before reverse - price mean: 0.46163744810703816\n",
            "2025-06-01 00:03:00,145 - PricePredictionExperiment_LinearSVR - INFO - After reverse - price mean: 52492874.37999999\n",
            "INFO:PricePredictionExperiment_LinearSVR:After reverse - price mean: 52492874.37999999\n",
            "2025-06-01 00:03:00,209 - PricePredictionExperiment_LinearSVR - INFO - Fold 0 - Log scale: R²=0.6923, RMSE=0.1213, SMAPE=27.2379%\n",
            "Original scale: R²=0.2423, RMSE=107099473.8899, SMAPE=64.2268%\n",
            "INFO:PricePredictionExperiment_LinearSVR:Fold 0 - Log scale: R²=0.6923, RMSE=0.1213, SMAPE=27.2379%\n",
            "Original scale: R²=0.2423, RMSE=107099473.8899, SMAPE=64.2268%\n"
          ]
        },
        {
          "output_type": "stream",
          "name": "stdout",
          "text": [
            " Fold 1: train_size=100 val_size=50\n"
          ]
        },
        {
          "output_type": "stream",
          "name": "stderr",
          "text": [
            "2025-06-01 00:03:00,444 - PricePredictionExperiment_LinearSVR - INFO - Before reverse - price mean: 0.44923494890588567\n",
            "INFO:PricePredictionExperiment_LinearSVR:Before reverse - price mean: 0.44923494890588567\n",
            "2025-06-01 00:03:00,450 - PricePredictionExperiment_LinearSVR - INFO - After reverse - price mean: 30649667.2\n",
            "INFO:PricePredictionExperiment_LinearSVR:After reverse - price mean: 30649667.2\n",
            "2025-06-01 00:03:00,524 - PricePredictionExperiment_LinearSVR - INFO - Fold 1 - Log scale: R²=0.4873, RMSE=0.1337, SMAPE=27.8141%\n",
            "Original scale: R²=-1.6289, RMSE=94371905.8790, SMAPE=71.0606%\n",
            "INFO:PricePredictionExperiment_LinearSVR:Fold 1 - Log scale: R²=0.4873, RMSE=0.1337, SMAPE=27.8141%\n",
            "Original scale: R²=-1.6289, RMSE=94371905.8790, SMAPE=71.0606%\n",
            "2025-06-01 00:03:00,675 - PricePredictionExperiment_LinearSVR - INFO - Before reverse - price mean: 0.48160117863933743\n",
            "INFO:PricePredictionExperiment_LinearSVR:Before reverse - price mean: 0.48160117863933743\n",
            "2025-06-01 00:03:00,678 - PricePredictionExperiment_LinearSVR - INFO - After reverse - price mean: 70292049.59999996\n",
            "INFO:PricePredictionExperiment_LinearSVR:After reverse - price mean: 70292049.59999996\n",
            "2025-06-01 00:03:00,729 - PricePredictionExperiment_LinearSVR - INFO - Fold 2 - Log scale: R²=0.6746, RMSE=0.1272, SMAPE=23.7667%\n",
            "Original scale: R²=0.5126, RMSE=105838551.7576, SMAPE=68.5923%\n",
            "INFO:PricePredictionExperiment_LinearSVR:Fold 2 - Log scale: R²=0.6746, RMSE=0.1272, SMAPE=23.7667%\n",
            "Original scale: R²=0.5126, RMSE=105838551.7576, SMAPE=68.5923%\n",
            "\u001b[32m[I 2025-06-01 00:03:00,732]\u001b[0m Trial 0 finished with value: 0.6180832828356433 and parameters: {'model__C': 22, 'model__max_iter': 9754, 'model__dual': False, 'model__loss': 'squared_epsilon_insensitive', 'tfidf__max_features': 447, 'tfidf__ngram_range_max': 2, 'tfidf__min_df': 2, 'tfidf__max_df': 0.7467983561008608}. Best is trial 0 with value: 0.6180832828356433.\u001b[0m\n"
          ]
        },
        {
          "output_type": "stream",
          "name": "stdout",
          "text": [
            " Fold 2: train_size=100 val_size=50\n"
          ]
        },
        {
          "output_type": "stream",
          "name": "stderr",
          "text": [
            "2025-06-01 00:03:00,733 - PricePredictionExperiment_LinearSVR - INFO - Elapsed time for optuna: 0.93 seconds\n",
            "INFO:PricePredictionExperiment_LinearSVR:Elapsed time for optuna: 0.93 seconds\n",
            "2025-06-01 00:03:00,765 - PricePredictionExperiment_LinearSVR - INFO - Timing started for: final_cv\n",
            "INFO:PricePredictionExperiment_LinearSVR:Timing started for: final_cv\n"
          ]
        },
        {
          "output_type": "stream",
          "name": "stdout",
          "text": [
            "Final CV stratified bins counts: [48 47 48 46 47]\n",
            "Running final 5-fold CV on 236 samples\n",
            " FinalCV Fold 0: train_size=188 val_size=48\n"
          ]
        },
        {
          "output_type": "stream",
          "name": "stderr",
          "text": [
            "2025-06-01 00:03:01,183 - PricePredictionExperiment_LinearSVR - INFO - Before reverse - price mean: 0.4550678466274749\n",
            "INFO:PricePredictionExperiment_LinearSVR:Before reverse - price mean: 0.4550678466274749\n",
            "2025-06-01 00:03:01,189 - PricePredictionExperiment_LinearSVR - INFO - After reverse - price mean: 35495257.499999985\n",
            "INFO:PricePredictionExperiment_LinearSVR:After reverse - price mean: 35495257.499999985\n",
            "2025-06-01 00:03:01,200 - PricePredictionExperiment_LinearSVR - INFO -  Fold 1/5 | Log R2=0.7299 | Orig R2=0.7890\n",
            "INFO:PricePredictionExperiment_LinearSVR: Fold 1/5 | Log R2=0.7299 | Orig R2=0.7890\n"
          ]
        },
        {
          "output_type": "stream",
          "name": "stdout",
          "text": [
            " FinalCV Fold 1: train_size=189 val_size=47\n"
          ]
        },
        {
          "output_type": "stream",
          "name": "stderr",
          "text": [
            "2025-06-01 00:03:01,537 - PricePredictionExperiment_LinearSVR - INFO - Before reverse - price mean: 0.47295177607112204\n",
            "INFO:PricePredictionExperiment_LinearSVR:Before reverse - price mean: 0.47295177607112204\n",
            "2025-06-01 00:03:01,545 - PricePredictionExperiment_LinearSVR - INFO - After reverse - price mean: 50921123.40425533\n",
            "INFO:PricePredictionExperiment_LinearSVR:After reverse - price mean: 50921123.40425533\n",
            "2025-06-01 00:03:01,556 - PricePredictionExperiment_LinearSVR - INFO -  Fold 2/5 | Log R2=0.7226 | Orig R2=0.3392\n",
            "INFO:PricePredictionExperiment_LinearSVR: Fold 2/5 | Log R2=0.7226 | Orig R2=0.3392\n"
          ]
        },
        {
          "output_type": "stream",
          "name": "stdout",
          "text": [
            " FinalCV Fold 2: train_size=189 val_size=47\n"
          ]
        },
        {
          "output_type": "stream",
          "name": "stderr",
          "text": [
            "2025-06-01 00:03:01,924 - PricePredictionExperiment_LinearSVR - INFO - Before reverse - price mean: 0.46109879287422134\n",
            "INFO:PricePredictionExperiment_LinearSVR:Before reverse - price mean: 0.46109879287422134\n",
            "2025-06-01 00:03:01,932 - PricePredictionExperiment_LinearSVR - INFO - After reverse - price mean: 50421914.893617004\n",
            "INFO:PricePredictionExperiment_LinearSVR:After reverse - price mean: 50421914.893617004\n",
            "2025-06-01 00:03:01,942 - PricePredictionExperiment_LinearSVR - INFO -  Fold 3/5 | Log R2=0.7316 | Orig R2=0.7327\n",
            "INFO:PricePredictionExperiment_LinearSVR: Fold 3/5 | Log R2=0.7316 | Orig R2=0.7327\n"
          ]
        },
        {
          "output_type": "stream",
          "name": "stdout",
          "text": [
            " FinalCV Fold 3: train_size=189 val_size=47\n"
          ]
        },
        {
          "output_type": "stream",
          "name": "stderr",
          "text": [
            "2025-06-01 00:03:02,276 - PricePredictionExperiment_LinearSVR - INFO - Before reverse - price mean: 0.4580297314108511\n",
            "INFO:PricePredictionExperiment_LinearSVR:Before reverse - price mean: 0.4580297314108511\n",
            "2025-06-01 00:03:02,279 - PricePredictionExperiment_LinearSVR - INFO - After reverse - price mean: 63415391.4893617\n",
            "INFO:PricePredictionExperiment_LinearSVR:After reverse - price mean: 63415391.4893617\n",
            "2025-06-01 00:03:02,290 - PricePredictionExperiment_LinearSVR - INFO -  Fold 4/5 | Log R2=0.7071 | Orig R2=0.5807\n",
            "INFO:PricePredictionExperiment_LinearSVR: Fold 4/5 | Log R2=0.7071 | Orig R2=0.5807\n"
          ]
        },
        {
          "output_type": "stream",
          "name": "stdout",
          "text": [
            " FinalCV Fold 4: train_size=189 val_size=47\n"
          ]
        },
        {
          "output_type": "stream",
          "name": "stderr",
          "text": [
            "2025-06-01 00:03:02,607 - PricePredictionExperiment_LinearSVR - INFO - Before reverse - price mean: 0.4727362701111664\n",
            "INFO:PricePredictionExperiment_LinearSVR:Before reverse - price mean: 0.4727362701111664\n",
            "2025-06-01 00:03:02,610 - PricePredictionExperiment_LinearSVR - INFO - After reverse - price mean: 67053424.65957447\n",
            "INFO:PricePredictionExperiment_LinearSVR:After reverse - price mean: 67053424.65957447\n",
            "2025-06-01 00:03:02,618 - PricePredictionExperiment_LinearSVR - INFO -  Fold 5/5 | Log R2=0.6217 | Orig R2=0.2151\n",
            "INFO:PricePredictionExperiment_LinearSVR: Fold 5/5 | Log R2=0.6217 | Orig R2=0.2151\n",
            "2025-06-01 00:03:03,044 - PricePredictionExperiment_LinearSVR - INFO - Before reverse - price mean: 0.46124991486493366\n",
            "INFO:PricePredictionExperiment_LinearSVR:Before reverse - price mean: 0.46124991486493366\n",
            "2025-06-01 00:03:03,051 - PricePredictionExperiment_LinearSVR - INFO - After reverse - price mean: 53129052.52542374\n",
            "INFO:PricePredictionExperiment_LinearSVR:After reverse - price mean: 53129052.52542374\n",
            "2025-06-01 00:03:03,242 - PricePredictionExperiment_LinearSVR - INFO - Evaluation artifacts saved to /content/results/metrics\n",
            "INFO:PricePredictionExperiment_LinearSVR:Evaluation artifacts saved to /content/results/metrics\n",
            "2025-06-01 00:03:03,249 - PricePredictionExperiment_LinearSVR - INFO - Elapsed time for final_cv: 2.48 seconds\n",
            "INFO:PricePredictionExperiment_LinearSVR:Elapsed time for final_cv: 2.48 seconds\n",
            "2025-06-01 00:03:03,770 - PricePredictionExperiment_LinearSVR - INFO - Timing started for: final_model_teaching\n",
            "INFO:PricePredictionExperiment_LinearSVR:Timing started for: final_model_teaching\n",
            "2025-06-01 00:03:03,774 - PricePredictionExperiment_LinearSVR - INFO - Elapsed time for final_model_teaching: 0.00 seconds\n",
            "INFO:PricePredictionExperiment_LinearSVR:Elapsed time for final_model_teaching: 0.00 seconds\n",
            "2025-06-01 00:03:03,787 - PricePredictionExperiment_LinearSVR - INFO - Elapsed time for total: 4.25 seconds\n",
            "INFO:PricePredictionExperiment_LinearSVR:Elapsed time for total: 4.25 seconds\n"
          ]
        },
        {
          "output_type": "display_data",
          "data": {
            "text/plain": [
              "Empty DataFrame\n",
              "Columns: []\n",
              "Index: []"
            ],
            "text/html": [
              "\n",
              "  <div id=\"df-fd016a40-55b0-4ec2-adbf-ee5ceacdb917\" class=\"colab-df-container\">\n",
              "    <div>\n",
              "<style scoped>\n",
              "    .dataframe tbody tr th:only-of-type {\n",
              "        vertical-align: middle;\n",
              "    }\n",
              "\n",
              "    .dataframe tbody tr th {\n",
              "        vertical-align: top;\n",
              "    }\n",
              "\n",
              "    .dataframe thead th {\n",
              "        text-align: right;\n",
              "    }\n",
              "</style>\n",
              "<table border=\"1\" class=\"dataframe\">\n",
              "  <thead>\n",
              "    <tr style=\"text-align: right;\">\n",
              "      <th></th>\n",
              "    </tr>\n",
              "  </thead>\n",
              "  <tbody>\n",
              "  </tbody>\n",
              "</table>\n",
              "</div>\n",
              "    <div class=\"colab-df-buttons\">\n",
              "\n",
              "  <div class=\"colab-df-container\">\n",
              "    <button class=\"colab-df-convert\" onclick=\"convertToInteractive('df-fd016a40-55b0-4ec2-adbf-ee5ceacdb917')\"\n",
              "            title=\"Convert this dataframe to an interactive table.\"\n",
              "            style=\"display:none;\">\n",
              "\n",
              "  <svg xmlns=\"http://www.w3.org/2000/svg\" height=\"24px\" viewBox=\"0 -960 960 960\">\n",
              "    <path d=\"M120-120v-720h720v720H120Zm60-500h600v-160H180v160Zm220 220h160v-160H400v160Zm0 220h160v-160H400v160ZM180-400h160v-160H180v160Zm440 0h160v-160H620v160ZM180-180h160v-160H180v160Zm440 0h160v-160H620v160Z\"/>\n",
              "  </svg>\n",
              "    </button>\n",
              "\n",
              "  <style>\n",
              "    .colab-df-container {\n",
              "      display:flex;\n",
              "      gap: 12px;\n",
              "    }\n",
              "\n",
              "    .colab-df-convert {\n",
              "      background-color: #E8F0FE;\n",
              "      border: none;\n",
              "      border-radius: 50%;\n",
              "      cursor: pointer;\n",
              "      display: none;\n",
              "      fill: #1967D2;\n",
              "      height: 32px;\n",
              "      padding: 0 0 0 0;\n",
              "      width: 32px;\n",
              "    }\n",
              "\n",
              "    .colab-df-convert:hover {\n",
              "      background-color: #E2EBFA;\n",
              "      box-shadow: 0px 1px 2px rgba(60, 64, 67, 0.3), 0px 1px 3px 1px rgba(60, 64, 67, 0.15);\n",
              "      fill: #174EA6;\n",
              "    }\n",
              "\n",
              "    .colab-df-buttons div {\n",
              "      margin-bottom: 4px;\n",
              "    }\n",
              "\n",
              "    [theme=dark] .colab-df-convert {\n",
              "      background-color: #3B4455;\n",
              "      fill: #D2E3FC;\n",
              "    }\n",
              "\n",
              "    [theme=dark] .colab-df-convert:hover {\n",
              "      background-color: #434B5C;\n",
              "      box-shadow: 0px 1px 3px 1px rgba(0, 0, 0, 0.15);\n",
              "      filter: drop-shadow(0px 1px 2px rgba(0, 0, 0, 0.3));\n",
              "      fill: #FFFFFF;\n",
              "    }\n",
              "  </style>\n",
              "\n",
              "    <script>\n",
              "      const buttonEl =\n",
              "        document.querySelector('#df-fd016a40-55b0-4ec2-adbf-ee5ceacdb917 button.colab-df-convert');\n",
              "      buttonEl.style.display =\n",
              "        google.colab.kernel.accessAllowed ? 'block' : 'none';\n",
              "\n",
              "      async function convertToInteractive(key) {\n",
              "        const element = document.querySelector('#df-fd016a40-55b0-4ec2-adbf-ee5ceacdb917');\n",
              "        const dataTable =\n",
              "          await google.colab.kernel.invokeFunction('convertToInteractive',\n",
              "                                                    [key], {});\n",
              "        if (!dataTable) return;\n",
              "\n",
              "        const docLinkHtml = 'Like what you see? Visit the ' +\n",
              "          '<a target=\"_blank\" href=https://colab.research.google.com/notebooks/data_table.ipynb>data table notebook</a>'\n",
              "          + ' to learn more about interactive tables.';\n",
              "        element.innerHTML = '';\n",
              "        dataTable['output_type'] = 'display_data';\n",
              "        await google.colab.output.renderOutput(dataTable, element);\n",
              "        const docLink = document.createElement('div');\n",
              "        docLink.innerHTML = docLinkHtml;\n",
              "        element.appendChild(docLink);\n",
              "      }\n",
              "    </script>\n",
              "  </div>\n",
              "\n",
              "    </div>\n",
              "  </div>\n"
            ],
            "application/vnd.google.colaboratory.intrinsic+json": {
              "type": "dataframe",
              "variable_name": "results_df",
              "summary": "{\n  \"name\": \"results_df\",\n  \"rows\": 0,\n  \"fields\": []\n}"
            }
          },
          "metadata": {}
        },
        {
          "output_type": "stream",
          "name": "stdout",
          "text": [
            "Drive already mounted at /content/drive; to attempt to forcibly remount, call drive.mount(\"/content/drive\", force_remount=True).\n"
          ]
        }
      ]
    },
    {
      "cell_type": "markdown",
      "source": [
        "# Initiation for full experiment repetition on full march dataset"
      ],
      "metadata": {
        "id": "UJjQ-rz6s-KW"
      }
    },
    {
      "cell_type": "code",
      "source": [
        "# !pip install -U gdown  # Обновляем gdown до последней версии"
      ],
      "metadata": {
        "id": "MLKbhlCWzvB4"
      },
      "execution_count": null,
      "outputs": []
    },
    {
      "cell_type": "code",
      "source": [
        "# получаем данные за март и сохраняем к себе чтобы применять в тестах\n",
        "\n",
        "import pandas as pd\n",
        "\n",
        "# 1. Указываем ID файла из Google Drive\n",
        "file_id = '14k-_OHJCHsaB1d6xOY07FeHdrXEVxdx3'\n",
        "\n",
        "# 2. Скачиваем файл с помощью gdown (новая версия)\n",
        "!gdown \"https://drive.google.com/uc?id={file_id}\" -O data.csv\n",
        "\n",
        "# 3. Проверяем размер файла\n",
        "!ls -lh data.csv\n",
        "\n",
        "# 4. Загружаем в DataFrame (с обработкой возможных ошибок)\n",
        "try:\n",
        "    df = pd.read_csv('data.csv')\n",
        "    print(\"Данные успешно загружены:\")\n",
        "    print(f\"Строк: {len(df)}, колонок: {len(df.columns)}\")\n",
        "    print(df.head())\n",
        "except Exception as e:\n",
        "    print(f\"Ошибка при чтении CSV: {str(e)}\")\n",
        "    print(\"Попробуйте указать кодировку или разделитель вручную:\")\n",
        "    df = pd.read_csv('data.csv', encoding='utf-8', sep=',')  # или encoding='windows-1251'\n",
        "\n",
        "print(\"Данные успешно загружены:\")\n",
        "\n",
        "path = 'some_path.csv'\n",
        "df.set_index('id').to_csv(path)"
      ],
      "metadata": {
        "colab": {
          "base_uri": "https://localhost:8080/"
        },
        "id": "p812nWXIvPCV",
        "outputId": "11c277f0-52f0-4e4a-f879-cefbee5da4ec"
      },
      "execution_count": null,
      "outputs": [
        {
          "output_type": "stream",
          "name": "stdout",
          "text": [
            "Downloading...\n",
            "From (original): https://drive.google.com/uc?id=14k-_OHJCHsaB1d6xOY07FeHdrXEVxdx3\n",
            "From (redirected): https://drive.google.com/uc?id=14k-_OHJCHsaB1d6xOY07FeHdrXEVxdx3&confirm=t&uuid=9073dd7d-aa89-49ea-9935-d7eefb0ddb65\n",
            "To: /content/data.csv\n",
            "100% 316M/316M [00:01<00:00, 244MB/s]\n",
            "-rw-r--r-- 1 root root 302M May 31 23:25 data.csv\n",
            "Данные успешно загружены:\n",
            "Строк: 69439, колонок: 33\n",
            "           id Количество комнат  Площадь дома  Площадь участка Этажей в доме  \\\n",
            "0   109147246                 5         210.0             20.0             2   \n",
            "1   749921374                 8         253.0             27.0             3   \n",
            "2  4014924213                 4         150.0              8.5             2   \n",
            "3  1029200202       10 и больше         450.0              9.0    4 и больше   \n",
            "4  1064304410                 2          25.0             20.0             1   \n",
            "\n",
            "                              Категория земель  Год постройки Материал стен  \\\n",
            "0  индивидуальное жилищное строительство (ИЖС)         2020.0        кирпич   \n",
            "1  индивидуальное жилищное строительство (ИЖС)         2010.0        бревно   \n",
            "2  индивидуальное жилищное строительство (ИЖС)         2024.0          брус   \n",
            "3  индивидуальное жилищное строительство (ИЖС)         2013.0        кирпич   \n",
            "4  индивидуальное жилищное строительство (ИЖС)            NaN        бревно   \n",
            "\n",
            "            Санузел           Ремонт  ...  category        lat        lon  \\\n",
            "0            в доме    косметический  ...  Коттеджи  55.562790  37.693193   \n",
            "1            в доме     дизайнерский  ...      Дома  56.805376  37.252487   \n",
            "2            в доме             евро  ...      Дома  55.138255  37.591282   \n",
            "3  в доме, на улице             евро  ...  Коттеджи  55.943159  37.892133   \n",
            "4          на улице  требует ремонта  ...      Дома  55.414578  36.064825   \n",
            "\n",
            "                        Инфраструктура Расстояние до центра города  \\\n",
            "0  магазин, аптека, детский сад, школа                         0.0   \n",
            "1                              магазин                       102.0   \n",
            "2  магазин, аптека, детский сад, школа                        49.0   \n",
            "3  магазин, аптека, детский сад, школа                        12.0   \n",
            "4  магазин, аптека, детский сад, школа                        90.0   \n",
            "\n",
            "  Терраса или веранда Для отдыха Коммуникации  \\\n",
            "0                 NaN        NaN          NaN   \n",
            "1                 NaN        NaN          NaN   \n",
            "2                 NaN        NaN          NaN   \n",
            "3                есть        NaN          NaN   \n",
            "4                 NaN        NaN          NaN   \n",
            "\n",
            "                                         description                address  \n",
            "0  кирпичный дом звукоизоляция мягкий черепица пл...    Новокаширское шоссе  \n",
            "1  бревенчатый дом авторский отделка готовый засе...      Дмитровское шоссе  \n",
            "2  продаваться новый жилой дом 150 м² участок 8 5...  Симферопольское шоссе  \n",
            "3  продаваться четвертый этажный кирпичный дом ко...      Ярославское шоссе  \n",
            "4  продавать деревянный дом 25 м² баня 54 м² ПМЖ ...          Минское шоссе  \n",
            "\n",
            "[5 rows x 33 columns]\n",
            "Данные успешно загружены:\n",
            "           id Количество комнат  Площадь дома  Площадь участка Этажей в доме  \\\n",
            "0   109147246                 5         210.0             20.0             2   \n",
            "1   749921374                 8         253.0             27.0             3   \n",
            "2  4014924213                 4         150.0              8.5             2   \n",
            "3  1029200202       10 и больше         450.0              9.0    4 и больше   \n",
            "4  1064304410                 2          25.0             20.0             1   \n",
            "\n",
            "                              Категория земель  Год постройки Материал стен  \\\n",
            "0  индивидуальное жилищное строительство (ИЖС)         2020.0        кирпич   \n",
            "1  индивидуальное жилищное строительство (ИЖС)         2010.0        бревно   \n",
            "2  индивидуальное жилищное строительство (ИЖС)         2024.0          брус   \n",
            "3  индивидуальное жилищное строительство (ИЖС)         2013.0        кирпич   \n",
            "4  индивидуальное жилищное строительство (ИЖС)            NaN        бревно   \n",
            "\n",
            "            Санузел           Ремонт  ...  category        lat        lon  \\\n",
            "0            в доме    косметический  ...  Коттеджи  55.562790  37.693193   \n",
            "1            в доме     дизайнерский  ...      Дома  56.805376  37.252487   \n",
            "2            в доме             евро  ...      Дома  55.138255  37.591282   \n",
            "3  в доме, на улице             евро  ...  Коттеджи  55.943159  37.892133   \n",
            "4          на улице  требует ремонта  ...      Дома  55.414578  36.064825   \n",
            "\n",
            "                        Инфраструктура Расстояние до центра города  \\\n",
            "0  магазин, аптека, детский сад, школа                         0.0   \n",
            "1                              магазин                       102.0   \n",
            "2  магазин, аптека, детский сад, школа                        49.0   \n",
            "3  магазин, аптека, детский сад, школа                        12.0   \n",
            "4  магазин, аптека, детский сад, школа                        90.0   \n",
            "\n",
            "  Терраса или веранда Для отдыха Коммуникации  \\\n",
            "0                 NaN        NaN          NaN   \n",
            "1                 NaN        NaN          NaN   \n",
            "2                 NaN        NaN          NaN   \n",
            "3                есть        NaN          NaN   \n",
            "4                 NaN        NaN          NaN   \n",
            "\n",
            "                                         description                address  \n",
            "0  кирпичный дом звукоизоляция мягкий черепица пл...    Новокаширское шоссе  \n",
            "1  бревенчатый дом авторский отделка готовый засе...      Дмитровское шоссе  \n",
            "2  продаваться новый жилой дом 150 м² участок 8 5...  Симферопольское шоссе  \n",
            "3  продаваться четвертый этажный кирпичный дом ко...      Ярославское шоссе  \n",
            "4  продавать деревянный дом 25 м² баня 54 м² ПМЖ ...          Минское шоссе  \n",
            "\n",
            "[5 rows x 33 columns]\n"
          ]
        }
      ]
    },
    {
      "cell_type": "markdown",
      "source": [
        "### XGBR experiment initiation"
      ],
      "metadata": {
        "id": "g4M87bgQtUYh"
      }
    },
    {
      "cell_type": "code",
      "source": [
        "import logging\n",
        "import pandas as pd\n",
        "import json\n",
        "from pathlib import Path\n",
        "\n",
        "# 3. Создаем временную папку для результатов\n",
        "!mkdir -p /content/results\n",
        "\n",
        "# 4. Основной код эксперимента\n",
        "if __name__ == \"__main__\":\n",
        "    logging.basicConfig(\n",
        "        level=logging.INFO,\n",
        "        format='%(asctime)s - %(name)s - %(levelname)s - %(message)s',\n",
        "        handlers=[\n",
        "            logging.FileHandler('experiment.log'),\n",
        "            logging.StreamHandler()\n",
        "        ]\n",
        "    )\n",
        "    logger = logging.getLogger(__name__)\n",
        "\n",
        "    xgbr_params = {\n",
        "        'model__n_estimators': [500, 1000],\n",
        "        'model__max_depth': [4, 6],\n",
        "        'model__learning_rate': [0.005, 0.01, 0.02, 0.05],\n",
        "        'model__subsample': [0.8, 1.0]\n",
        "    }\n",
        "\n",
        "    combinations = [\n",
        "        ('categorical-only', None, False, False, True, True),\n",
        "        ('categorical-only', None, False, False, False, True),\n",
        "        ('mixed', 'rubert', True, False, False, True),\n",
        "        ('mixed', 'w2v', True, False, False, True),\n",
        "        ('mixed', 'tfidf', True, False, False, True),\n",
        "        ('text-only', 'rubert', True, False, False, True),\n",
        "        ('text-only', 'w2v', True, False, False, True),\n",
        "        ('text-only', 'tfidf', True, False, False, True),\n",
        "    ]\n",
        "\n",
        "    try:\n",
        "        # Полные пути к файлам в репозитории\n",
        "        repo_path = Path('/content/Price-prediction-with-textual-data')\n",
        "\n",
        "        experiment = PricePredictionExperiment(\n",
        "            model_name='XGBRegressor',\n",
        "            model_params=xgbr_params,\n",
        "            experiment_name=\"price_prediction\",\n",
        "            data_path=str(path), # путь к короткому доку куда был скачан полный файл\n",
        "            results_dir='/content/results',  # временная папка в Colab\n",
        "            random_state=42,\n",
        "            use_hex_features=True,\n",
        "            hex_resolution=10,\n",
        "            verbose=True,\n",
        "            manual_text_params=True,\n",
        "            manual_text_params_path=str(repo_path/'experiments'/'manual_text_features_negative.json'),\n",
        "            profile_json_path=str(repo_path/'experiments'/'uniques_dict.json')\n",
        "        )\n",
        "\n",
        "        # Запуск экспериментов\n",
        "        results = experiment.run_for_combinations(\n",
        "            combinations=combinations,\n",
        "            n_trials=50,\n",
        "            sample_size=65000,\n",
        "            subsample=20000\n",
        "        )\n",
        "\n",
        "        # Сохранение и отображение результатов\n",
        "        results_df = experiment.create_results_table(list(results.keys()))\n",
        "        display(results_df)\n",
        "\n",
        "        # Сохраняем результаты в CSV\n",
        "        results_df.to_csv('/content/results/experiment_results.csv', index=False)\n",
        "        logger.info(\"Эксперимент успешно завершен!\")\n",
        "\n",
        "        # Копируем результаты в Google Drive (если нужно)\n",
        "        from google.colab import drive\n",
        "        drive.mount('/content/drive')\n",
        "        !cp -r /content/results '/content/drive/MyDrive/thesis/DROP_SAMPLE/XGBR'\n",
        "        logger.info(\"Результаты сохранены в Google Drive\")\n",
        "\n",
        "    except Exception as e:\n",
        "        logger.error(f\"Fatal error in main execution: {str(e)}\", exc_info=True)\n",
        "        raise"
      ],
      "metadata": {
        "colab": {
          "base_uri": "https://localhost:8080/",
          "height": 1000
        },
        "outputId": "a6036af2-16e8-487b-8afc-6ad092556023",
        "id": "twtqK89CtUYi"
      },
      "execution_count": null,
      "outputs": [
        {
          "output_type": "stream",
          "name": "stderr",
          "text": [
            "2025-06-01 00:08:33,686 - PricePredictionExperiment_XGBRegressor - INFO - → Запуск конфигурации: price_prediction_XGBRegressor_None_none_pca_None_gate_None_mtf_True_\n",
            "INFO:PricePredictionExperiment_XGBRegressor:→ Запуск конфигурации: price_prediction_XGBRegressor_None_none_pca_None_gate_None_mtf_True_\n",
            "2025-06-01 00:08:33,688 - PricePredictionExperiment_XGBRegressor - INFO - Loading and preprocessing data...\n",
            "INFO:PricePredictionExperiment_XGBRegressor:Loading and preprocessing data...\n",
            "2025-06-01 00:08:39,974 - PricePredictionExperiment_XGBRegressor - INFO - Applying sample_size: 65000\n",
            "INFO:PricePredictionExperiment_XGBRegressor:Applying sample_size: 65000\n",
            "2025-06-01 00:08:40,144 - PricePredictionExperiment_XGBRegressor - INFO - Данные прошли строгую валидацию профиля.\n",
            "INFO:PricePredictionExperiment_XGBRegressor:Данные прошли строгую валидацию профиля.\n"
          ]
        },
        {
          "output_type": "stream",
          "name": "stdout",
          "text": [
            "['landCategory', 'wallMaterial', 'bathroom', 'renovation', 'electricity', 'heating', 'waterSupply', 'gas', 'sewerage', 'media', 'parking', 'transportAccessibility', 'saleMethod', 'seller', 'category', 'infrastructure', 'terrace', 'recreation', 'region', 'nearestPPLA', 'nearestPPLA2']\n"
          ]
        },
        {
          "output_type": "stream",
          "name": "stderr",
          "text": [
            "\u001b[32m[I 2025-06-01 00:10:29,105]\u001b[0m A new study created in memory with name: no-name-b7df85b4-e4be-4ba2-97b5-dd94d02718fb\u001b[0m\n",
            "2025-06-01 00:10:29,327 - PricePredictionExperiment_XGBRegressor - INFO - Timing started for: total\n",
            "INFO:PricePredictionExperiment_XGBRegressor:Timing started for: total\n",
            "2025-06-01 00:10:29,338 - PricePredictionExperiment_XGBRegressor - INFO - ENV: python_version: 3.11.12 (main, Apr  9 2025, 08:55:54) [GCC 11.4.0]\n",
            "INFO:PricePredictionExperiment_XGBRegressor:ENV: python_version: 3.11.12 (main, Apr  9 2025, 08:55:54) [GCC 11.4.0]\n",
            "2025-06-01 00:10:29,351 - PricePredictionExperiment_XGBRegressor - INFO - ENV: platform: Linux-6.1.123+-x86_64-with-glibc2.35\n",
            "INFO:PricePredictionExperiment_XGBRegressor:ENV: platform: Linux-6.1.123+-x86_64-with-glibc2.35\n",
            "2025-06-01 00:10:29,364 - PricePredictionExperiment_XGBRegressor - INFO - ENV: sklearn_version: 1.6.1\n",
            "INFO:PricePredictionExperiment_XGBRegressor:ENV: sklearn_version: 1.6.1\n",
            "2025-06-01 00:10:29,378 - PricePredictionExperiment_XGBRegressor - INFO - ENV: pandas_version: 2.2.2\n",
            "INFO:PricePredictionExperiment_XGBRegressor:ENV: pandas_version: 2.2.2\n",
            "2025-06-01 00:10:29,399 - PricePredictionExperiment_XGBRegressor - INFO - ENV: numpy_version: 1.26.4\n",
            "INFO:PricePredictionExperiment_XGBRegressor:ENV: numpy_version: 1.26.4\n",
            "2025-06-01 00:10:29,411 - PricePredictionExperiment_XGBRegressor - INFO - ENV: torch_version: 2.6.0+cu124\n",
            "INFO:PricePredictionExperiment_XGBRegressor:ENV: torch_version: 2.6.0+cu124\n",
            "2025-06-01 00:10:29,422 - PricePredictionExperiment_XGBRegressor - INFO - ENV: cuda_available: True\n",
            "INFO:PricePredictionExperiment_XGBRegressor:ENV: cuda_available: True\n",
            "2025-06-01 00:10:29,435 - PricePredictionExperiment_XGBRegressor - INFO - ENV: cuda_device: Tesla T4\n",
            "INFO:PricePredictionExperiment_XGBRegressor:ENV: cuda_device: Tesla T4\n",
            "2025-06-01 00:10:29,447 - PricePredictionExperiment_XGBRegressor - INFO - ENV: run_time: 2025-06-01 00:10:29\n",
            "INFO:PricePredictionExperiment_XGBRegressor:ENV: run_time: 2025-06-01 00:10:29\n",
            "2025-06-01 00:10:29,460 - PricePredictionExperiment_XGBRegressor - INFO - ENV: run_hostname: bd3d025abf46\n",
            "INFO:PricePredictionExperiment_XGBRegressor:ENV: run_hostname: bd3d025abf46\n",
            "2025-06-01 00:10:29,552 - PricePredictionExperiment_XGBRegressor - INFO - Timing started for: optuna\n",
            "INFO:PricePredictionExperiment_XGBRegressor:Timing started for: optuna\n"
          ]
        },
        {
          "output_type": "stream",
          "name": "stdout",
          "text": [
            "CV stratified bins counts: [6670 6663 6667]\n",
            "Running 3-fold CV on 20000 samples\n",
            " Fold 0: train_size=13333 val_size=6667\n"
          ]
        },
        {
          "output_type": "stream",
          "name": "stderr",
          "text": [
            "2025-06-01 00:10:35,244 - PricePredictionExperiment_XGBRegressor - INFO - Before reverse - price mean: 0.6131231136815939\n",
            "INFO:PricePredictionExperiment_XGBRegressor:Before reverse - price mean: 0.6131231136815939\n",
            "2025-06-01 00:10:35,249 - PricePredictionExperiment_XGBRegressor - INFO - After reverse - price mean: 46994876.19484026\n",
            "INFO:PricePredictionExperiment_XGBRegressor:After reverse - price mean: 46994876.19484026\n",
            "2025-06-01 00:10:35,251 - PricePredictionExperiment_XGBRegressor - WARNING - Unrealistic price values detected: min=1640.00, max=3119770000.00\n",
            "WARNING:PricePredictionExperiment_XGBRegressor:Unrealistic price values detected: min=1640.00, max=3119770000.00\n",
            "2025-06-01 00:10:35,319 - PricePredictionExperiment_XGBRegressor - INFO - Fold 0 - Log scale: R²=0.9713, RMSE=0.0155, SMAPE=1.2022%\n",
            "Original scale: R²=0.8757, RMSE=48069597.5932, SMAPE=10.8863%\n",
            "INFO:PricePredictionExperiment_XGBRegressor:Fold 0 - Log scale: R²=0.9713, RMSE=0.0155, SMAPE=1.2022%\n",
            "Original scale: R²=0.8757, RMSE=48069597.5932, SMAPE=10.8863%\n"
          ]
        },
        {
          "output_type": "stream",
          "name": "stdout",
          "text": [
            " Fold 1: train_size=13333 val_size=6667\n"
          ]
        },
        {
          "output_type": "stream",
          "name": "stderr",
          "text": [
            "2025-06-01 00:10:42,336 - PricePredictionExperiment_XGBRegressor - INFO - Before reverse - price mean: 0.6141490354414657\n",
            "INFO:PricePredictionExperiment_XGBRegressor:Before reverse - price mean: 0.6141490354414657\n",
            "2025-06-01 00:10:42,341 - PricePredictionExperiment_XGBRegressor - INFO - After reverse - price mean: 50439669.25198739\n",
            "INFO:PricePredictionExperiment_XGBRegressor:After reverse - price mean: 50439669.25198739\n",
            "2025-06-01 00:10:42,343 - PricePredictionExperiment_XGBRegressor - WARNING - Unrealistic price values detected: min=1000.00, max=4988000000.00\n",
            "WARNING:PricePredictionExperiment_XGBRegressor:Unrealistic price values detected: min=1000.00, max=4988000000.00\n",
            "2025-06-01 00:10:42,418 - PricePredictionExperiment_XGBRegressor - INFO - Fold 1 - Log scale: R²=0.9646, RMSE=0.0172, SMAPE=1.2292%\n",
            "Original scale: R²=0.7253, RMSE=86966350.2029, SMAPE=11.0121%\n",
            "INFO:PricePredictionExperiment_XGBRegressor:Fold 1 - Log scale: R²=0.9646, RMSE=0.0172, SMAPE=1.2292%\n",
            "Original scale: R²=0.7253, RMSE=86966350.2029, SMAPE=11.0121%\n"
          ]
        },
        {
          "output_type": "stream",
          "name": "stdout",
          "text": [
            " Fold 2: train_size=13334 val_size=6666\n"
          ]
        },
        {
          "output_type": "stream",
          "name": "stderr",
          "text": [
            "2025-06-01 00:10:47,905 - PricePredictionExperiment_XGBRegressor - INFO - Before reverse - price mean: 0.6143135310974003\n",
            "INFO:PricePredictionExperiment_XGBRegressor:Before reverse - price mean: 0.6143135310974003\n",
            "2025-06-01 00:10:47,910 - PricePredictionExperiment_XGBRegressor - INFO - After reverse - price mean: 50743873.696819685\n",
            "INFO:PricePredictionExperiment_XGBRegressor:After reverse - price mean: 50743873.696819685\n",
            "2025-06-01 00:10:47,912 - PricePredictionExperiment_XGBRegressor - WARNING - Unrealistic price values detected: min=100000.00, max=2893991100.00\n",
            "WARNING:PricePredictionExperiment_XGBRegressor:Unrealistic price values detected: min=100000.00, max=2893991100.00\n",
            "2025-06-01 00:10:47,965 - PricePredictionExperiment_XGBRegressor - INFO - Fold 2 - Log scale: R²=0.9758, RMSE=0.0144, SMAPE=1.1787%\n",
            "Original scale: R²=0.8332, RMSE=60704896.7525, SMAPE=10.8629%\n",
            "INFO:PricePredictionExperiment_XGBRegressor:Fold 2 - Log scale: R²=0.9758, RMSE=0.0144, SMAPE=1.1787%\n",
            "Original scale: R²=0.8332, RMSE=60704896.7525, SMAPE=10.8629%\n",
            "\u001b[32m[I 2025-06-01 00:10:47,971]\u001b[0m Trial 0 finished with value: 0.9705966802954955 and parameters: {'model__n_estimators': 687, 'model__max_depth': 6, 'model__learning_rate': 0.03793972738151323, 'model__subsample': 0.9197316968394074}. Best is trial 0 with value: 0.9705966802954955.\u001b[0m\n"
          ]
        },
        {
          "output_type": "stream",
          "name": "stdout",
          "text": [
            "CV stratified bins counts: [6670 6663 6667]\n",
            "Running 3-fold CV on 20000 samples\n",
            " Fold 0: train_size=13333 val_size=6667\n"
          ]
        },
        {
          "output_type": "stream",
          "name": "stderr",
          "text": [
            "2025-06-01 00:10:52,784 - PricePredictionExperiment_XGBRegressor - INFO - Before reverse - price mean: 0.6131231136815939\n",
            "INFO:PricePredictionExperiment_XGBRegressor:Before reverse - price mean: 0.6131231136815939\n",
            "2025-06-01 00:10:52,789 - PricePredictionExperiment_XGBRegressor - INFO - After reverse - price mean: 46994876.19484026\n",
            "INFO:PricePredictionExperiment_XGBRegressor:After reverse - price mean: 46994876.19484026\n",
            "2025-06-01 00:10:52,790 - PricePredictionExperiment_XGBRegressor - WARNING - Unrealistic price values detected: min=1640.00, max=3119770000.00\n",
            "WARNING:PricePredictionExperiment_XGBRegressor:Unrealistic price values detected: min=1640.00, max=3119770000.00\n",
            "2025-06-01 00:10:52,852 - PricePredictionExperiment_XGBRegressor - INFO - Fold 0 - Log scale: R²=0.9639, RMSE=0.0174, SMAPE=1.4351%\n",
            "Original scale: R²=0.8254, RMSE=56987646.3190, SMAPE=13.0460%\n",
            "INFO:PricePredictionExperiment_XGBRegressor:Fold 0 - Log scale: R²=0.9639, RMSE=0.0174, SMAPE=1.4351%\n",
            "Original scale: R²=0.8254, RMSE=56987646.3190, SMAPE=13.0460%\n"
          ]
        },
        {
          "output_type": "stream",
          "name": "stdout",
          "text": [
            " Fold 1: train_size=13333 val_size=6667\n"
          ]
        },
        {
          "output_type": "stream",
          "name": "stderr",
          "text": [
            "2025-06-01 00:10:56,112 - PricePredictionExperiment_XGBRegressor - INFO - Before reverse - price mean: 0.6141490354414657\n",
            "INFO:PricePredictionExperiment_XGBRegressor:Before reverse - price mean: 0.6141490354414657\n",
            "2025-06-01 00:10:56,117 - PricePredictionExperiment_XGBRegressor - INFO - After reverse - price mean: 50439669.25198739\n",
            "INFO:PricePredictionExperiment_XGBRegressor:After reverse - price mean: 50439669.25198739\n",
            "2025-06-01 00:10:56,119 - PricePredictionExperiment_XGBRegressor - WARNING - Unrealistic price values detected: min=1000.00, max=4988000000.00\n",
            "WARNING:PricePredictionExperiment_XGBRegressor:Unrealistic price values detected: min=1000.00, max=4988000000.00\n",
            "2025-06-01 00:10:56,165 - PricePredictionExperiment_XGBRegressor - INFO - Fold 1 - Log scale: R²=0.9580, RMSE=0.0187, SMAPE=1.3915%\n",
            "Original scale: R²=0.6470, RMSE=98587648.0887, SMAPE=12.5321%\n",
            "INFO:PricePredictionExperiment_XGBRegressor:Fold 1 - Log scale: R²=0.9580, RMSE=0.0187, SMAPE=1.3915%\n",
            "Original scale: R²=0.6470, RMSE=98587648.0887, SMAPE=12.5321%\n"
          ]
        },
        {
          "output_type": "stream",
          "name": "stdout",
          "text": [
            " Fold 2: train_size=13334 val_size=6666\n"
          ]
        },
        {
          "output_type": "stream",
          "name": "stderr",
          "text": [
            "2025-06-01 00:10:59,611 - PricePredictionExperiment_XGBRegressor - INFO - Before reverse - price mean: 0.6143135310974003\n",
            "INFO:PricePredictionExperiment_XGBRegressor:Before reverse - price mean: 0.6143135310974003\n",
            "2025-06-01 00:10:59,616 - PricePredictionExperiment_XGBRegressor - INFO - After reverse - price mean: 50743873.696819685\n",
            "INFO:PricePredictionExperiment_XGBRegressor:After reverse - price mean: 50743873.696819685\n",
            "2025-06-01 00:10:59,618 - PricePredictionExperiment_XGBRegressor - WARNING - Unrealistic price values detected: min=100000.00, max=2893991100.00\n",
            "WARNING:PricePredictionExperiment_XGBRegressor:Unrealistic price values detected: min=100000.00, max=2893991100.00\n",
            "2025-06-01 00:10:59,665 - PricePredictionExperiment_XGBRegressor - INFO - Fold 2 - Log scale: R²=0.9692, RMSE=0.0162, SMAPE=1.3705%\n",
            "Original scale: R²=0.7781, RMSE=70015945.5863, SMAPE=12.5750%\n",
            "INFO:PricePredictionExperiment_XGBRegressor:Fold 2 - Log scale: R²=0.9692, RMSE=0.0162, SMAPE=1.3705%\n",
            "Original scale: R²=0.7781, RMSE=70015945.5863, SMAPE=12.5750%\n",
            "\u001b[32m[I 2025-06-01 00:10:59,672]\u001b[0m Trial 1 finished with value: 0.9636922688598092 and parameters: {'model__n_estimators': 578, 'model__max_depth': 4, 'model__learning_rate': 0.007613762547568976, 'model__subsample': 0.9732352291549871}. Best is trial 0 with value: 0.9705966802954955.\u001b[0m\n"
          ]
        },
        {
          "output_type": "stream",
          "name": "stdout",
          "text": [
            "CV stratified bins counts: [6670 6663 6667]\n",
            "Running 3-fold CV on 20000 samples\n",
            " Fold 0: train_size=13333 val_size=6667\n"
          ]
        },
        {
          "output_type": "stream",
          "name": "stderr",
          "text": [
            "2025-06-01 00:11:09,210 - PricePredictionExperiment_XGBRegressor - INFO - Before reverse - price mean: 0.6131231136815939\n",
            "INFO:PricePredictionExperiment_XGBRegressor:Before reverse - price mean: 0.6131231136815939\n",
            "2025-06-01 00:11:09,215 - PricePredictionExperiment_XGBRegressor - INFO - After reverse - price mean: 46994876.19484026\n",
            "INFO:PricePredictionExperiment_XGBRegressor:After reverse - price mean: 46994876.19484026\n",
            "2025-06-01 00:11:09,217 - PricePredictionExperiment_XGBRegressor - WARNING - Unrealistic price values detected: min=1640.00, max=3119770000.00\n",
            "WARNING:PricePredictionExperiment_XGBRegressor:Unrealistic price values detected: min=1640.00, max=3119770000.00\n",
            "2025-06-01 00:11:09,262 - PricePredictionExperiment_XGBRegressor - INFO - Fold 0 - Log scale: R²=0.9673, RMSE=0.0165, SMAPE=1.2823%\n",
            "Original scale: R²=0.8490, RMSE=52997337.5517, SMAPE=11.6047%\n",
            "INFO:PricePredictionExperiment_XGBRegressor:Fold 0 - Log scale: R²=0.9673, RMSE=0.0165, SMAPE=1.2823%\n",
            "Original scale: R²=0.8490, RMSE=52997337.5517, SMAPE=11.6047%\n"
          ]
        },
        {
          "output_type": "stream",
          "name": "stdout",
          "text": [
            " Fold 1: train_size=13333 val_size=6667\n"
          ]
        },
        {
          "output_type": "stream",
          "name": "stderr",
          "text": [
            "2025-06-01 00:11:18,175 - PricePredictionExperiment_XGBRegressor - INFO - Before reverse - price mean: 0.6141490354414657\n",
            "INFO:PricePredictionExperiment_XGBRegressor:Before reverse - price mean: 0.6141490354414657\n",
            "2025-06-01 00:11:18,180 - PricePredictionExperiment_XGBRegressor - INFO - After reverse - price mean: 50439669.25198739\n",
            "INFO:PricePredictionExperiment_XGBRegressor:After reverse - price mean: 50439669.25198739\n",
            "2025-06-01 00:11:18,182 - PricePredictionExperiment_XGBRegressor - WARNING - Unrealistic price values detected: min=1000.00, max=4988000000.00\n",
            "WARNING:PricePredictionExperiment_XGBRegressor:Unrealistic price values detected: min=1000.00, max=4988000000.00\n",
            "2025-06-01 00:11:18,244 - PricePredictionExperiment_XGBRegressor - INFO - Fold 1 - Log scale: R²=0.9627, RMSE=0.0176, SMAPE=1.2704%\n",
            "Original scale: R²=0.6983, RMSE=91130056.1463, SMAPE=11.3877%\n",
            "INFO:PricePredictionExperiment_XGBRegressor:Fold 1 - Log scale: R²=0.9627, RMSE=0.0176, SMAPE=1.2704%\n",
            "Original scale: R²=0.6983, RMSE=91130056.1463, SMAPE=11.3877%\n"
          ]
        },
        {
          "output_type": "stream",
          "name": "stdout",
          "text": [
            " Fold 2: train_size=13334 val_size=6666\n"
          ]
        },
        {
          "output_type": "stream",
          "name": "stderr",
          "text": [
            "2025-06-01 00:11:26,870 - PricePredictionExperiment_XGBRegressor - INFO - Before reverse - price mean: 0.6143135310974003\n",
            "INFO:PricePredictionExperiment_XGBRegressor:Before reverse - price mean: 0.6143135310974003\n",
            "2025-06-01 00:11:26,876 - PricePredictionExperiment_XGBRegressor - INFO - After reverse - price mean: 50743873.696819685\n",
            "INFO:PricePredictionExperiment_XGBRegressor:After reverse - price mean: 50743873.696819685\n",
            "2025-06-01 00:11:26,878 - PricePredictionExperiment_XGBRegressor - WARNING - Unrealistic price values detected: min=100000.00, max=2893991100.00\n",
            "WARNING:PricePredictionExperiment_XGBRegressor:Unrealistic price values detected: min=100000.00, max=2893991100.00\n",
            "2025-06-01 00:11:26,924 - PricePredictionExperiment_XGBRegressor - INFO - Fold 2 - Log scale: R²=0.9728, RMSE=0.0152, SMAPE=1.2383%\n",
            "Original scale: R²=0.8054, RMSE=65566903.9258, SMAPE=11.3724%\n",
            "INFO:PricePredictionExperiment_XGBRegressor:Fold 2 - Log scale: R²=0.9728, RMSE=0.0152, SMAPE=1.2383%\n",
            "Original scale: R²=0.8054, RMSE=65566903.9258, SMAPE=11.3724%\n",
            "\u001b[32m[I 2025-06-01 00:11:26,929]\u001b[0m Trial 2 finished with value: 0.9675968116304943 and parameters: {'model__n_estimators': 801, 'model__max_depth': 6, 'model__learning_rate': 0.0059263022433111105, 'model__subsample': 0.9939819704323989}. Best is trial 0 with value: 0.9705966802954955.\u001b[0m\n"
          ]
        },
        {
          "output_type": "stream",
          "name": "stdout",
          "text": [
            "CV stratified bins counts: [6670 6663 6667]\n",
            "Running 3-fold CV on 20000 samples\n",
            " Fold 0: train_size=13333 val_size=6667\n"
          ]
        },
        {
          "output_type": "stream",
          "name": "stderr",
          "text": [
            "2025-06-01 00:11:32,444 - PricePredictionExperiment_XGBRegressor - INFO - Before reverse - price mean: 0.6131231136815939\n",
            "INFO:PricePredictionExperiment_XGBRegressor:Before reverse - price mean: 0.6131231136815939\n",
            "2025-06-01 00:11:32,451 - PricePredictionExperiment_XGBRegressor - INFO - After reverse - price mean: 46994876.19484026\n",
            "INFO:PricePredictionExperiment_XGBRegressor:After reverse - price mean: 46994876.19484026\n",
            "2025-06-01 00:11:32,453 - PricePredictionExperiment_XGBRegressor - WARNING - Unrealistic price values detected: min=1640.00, max=3119770000.00\n",
            "WARNING:PricePredictionExperiment_XGBRegressor:Unrealistic price values detected: min=1640.00, max=3119770000.00\n",
            "2025-06-01 00:11:32,526 - PricePredictionExperiment_XGBRegressor - INFO - Fold 0 - Log scale: R²=0.9692, RMSE=0.0160, SMAPE=1.3052%\n",
            "Original scale: R²=0.8708, RMSE=49021576.3487, SMAPE=11.9022%\n",
            "INFO:PricePredictionExperiment_XGBRegressor:Fold 0 - Log scale: R²=0.9692, RMSE=0.0160, SMAPE=1.3052%\n",
            "Original scale: R²=0.8708, RMSE=49021576.3487, SMAPE=11.9022%\n"
          ]
        },
        {
          "output_type": "stream",
          "name": "stdout",
          "text": [
            " Fold 1: train_size=13333 val_size=6667\n"
          ]
        },
        {
          "output_type": "stream",
          "name": "stderr",
          "text": [
            "2025-06-01 00:11:37,211 - PricePredictionExperiment_XGBRegressor - INFO - Before reverse - price mean: 0.6141490354414657\n",
            "INFO:PricePredictionExperiment_XGBRegressor:Before reverse - price mean: 0.6141490354414657\n",
            "2025-06-01 00:11:37,217 - PricePredictionExperiment_XGBRegressor - INFO - After reverse - price mean: 50439669.25198739\n",
            "INFO:PricePredictionExperiment_XGBRegressor:After reverse - price mean: 50439669.25198739\n",
            "2025-06-01 00:11:37,219 - PricePredictionExperiment_XGBRegressor - WARNING - Unrealistic price values detected: min=1000.00, max=4988000000.00\n",
            "WARNING:PricePredictionExperiment_XGBRegressor:Unrealistic price values detected: min=1000.00, max=4988000000.00\n",
            "2025-06-01 00:11:37,267 - PricePredictionExperiment_XGBRegressor - INFO - Fold 1 - Log scale: R²=0.9618, RMSE=0.0178, SMAPE=1.3068%\n",
            "Original scale: R²=0.7105, RMSE=89281889.4771, SMAPE=11.7794%\n",
            "INFO:PricePredictionExperiment_XGBRegressor:Fold 1 - Log scale: R²=0.9618, RMSE=0.0178, SMAPE=1.3068%\n",
            "Original scale: R²=0.7105, RMSE=89281889.4771, SMAPE=11.7794%\n"
          ]
        },
        {
          "output_type": "stream",
          "name": "stdout",
          "text": [
            " Fold 2: train_size=13334 val_size=6666\n"
          ]
        },
        {
          "output_type": "stream",
          "name": "stderr",
          "text": [
            "2025-06-01 00:11:41,603 - PricePredictionExperiment_XGBRegressor - INFO - Before reverse - price mean: 0.6143135310974003\n",
            "INFO:PricePredictionExperiment_XGBRegressor:Before reverse - price mean: 0.6143135310974003\n",
            "2025-06-01 00:11:41,610 - PricePredictionExperiment_XGBRegressor - INFO - After reverse - price mean: 50743873.696819685\n",
            "INFO:PricePredictionExperiment_XGBRegressor:After reverse - price mean: 50743873.696819685\n",
            "2025-06-01 00:11:41,612 - PricePredictionExperiment_XGBRegressor - WARNING - Unrealistic price values detected: min=100000.00, max=2893991100.00\n",
            "WARNING:PricePredictionExperiment_XGBRegressor:Unrealistic price values detected: min=100000.00, max=2893991100.00\n",
            "2025-06-01 00:11:41,683 - PricePredictionExperiment_XGBRegressor - INFO - Fold 2 - Log scale: R²=0.9733, RMSE=0.0151, SMAPE=1.2580%\n",
            "Original scale: R²=0.8245, RMSE=62281189.3262, SMAPE=11.5885%\n",
            "INFO:PricePredictionExperiment_XGBRegressor:Fold 2 - Log scale: R²=0.9733, RMSE=0.0151, SMAPE=1.2580%\n",
            "Original scale: R²=0.8245, RMSE=62281189.3262, SMAPE=11.5885%\n",
            "\u001b[32m[I 2025-06-01 00:11:41,690]\u001b[0m Trial 3 finished with value: 0.968122664727669 and parameters: {'model__n_estimators': 917, 'model__max_depth': 4, 'model__learning_rate': 0.01318212352431953, 'model__subsample': 0.8366809019706868}. Best is trial 0 with value: 0.9705966802954955.\u001b[0m\n"
          ]
        },
        {
          "output_type": "stream",
          "name": "stdout",
          "text": [
            "CV stratified bins counts: [6670 6663 6667]\n",
            "Running 3-fold CV on 20000 samples\n",
            " Fold 0: train_size=13333 val_size=6667\n"
          ]
        },
        {
          "output_type": "stream",
          "name": "stderr",
          "text": [
            "2025-06-01 00:11:47,272 - PricePredictionExperiment_XGBRegressor - INFO - Before reverse - price mean: 0.6131231136815939\n",
            "INFO:PricePredictionExperiment_XGBRegressor:Before reverse - price mean: 0.6131231136815939\n",
            "2025-06-01 00:11:47,277 - PricePredictionExperiment_XGBRegressor - INFO - After reverse - price mean: 46994876.19484026\n",
            "INFO:PricePredictionExperiment_XGBRegressor:After reverse - price mean: 46994876.19484026\n",
            "2025-06-01 00:11:47,280 - PricePredictionExperiment_XGBRegressor - WARNING - Unrealistic price values detected: min=1640.00, max=3119770000.00\n",
            "WARNING:PricePredictionExperiment_XGBRegressor:Unrealistic price values detected: min=1640.00, max=3119770000.00\n",
            "2025-06-01 00:11:47,326 - PricePredictionExperiment_XGBRegressor - INFO - Fold 0 - Log scale: R²=0.9708, RMSE=0.0156, SMAPE=1.2368%\n",
            "Original scale: R²=0.8752, RMSE=48176528.4059, SMAPE=11.2279%\n",
            "INFO:PricePredictionExperiment_XGBRegressor:Fold 0 - Log scale: R²=0.9708, RMSE=0.0156, SMAPE=1.2368%\n",
            "Original scale: R²=0.8752, RMSE=48176528.4059, SMAPE=11.2279%\n"
          ]
        },
        {
          "output_type": "stream",
          "name": "stdout",
          "text": [
            " Fold 1: train_size=13333 val_size=6667\n"
          ]
        },
        {
          "output_type": "stream",
          "name": "stderr",
          "text": [
            "2025-06-01 00:11:51,358 - PricePredictionExperiment_XGBRegressor - INFO - Before reverse - price mean: 0.6141490354414657\n",
            "INFO:PricePredictionExperiment_XGBRegressor:Before reverse - price mean: 0.6141490354414657\n",
            "2025-06-01 00:11:51,363 - PricePredictionExperiment_XGBRegressor - INFO - After reverse - price mean: 50439669.25198739\n",
            "INFO:PricePredictionExperiment_XGBRegressor:After reverse - price mean: 50439669.25198739\n",
            "2025-06-01 00:11:51,365 - PricePredictionExperiment_XGBRegressor - WARNING - Unrealistic price values detected: min=1000.00, max=4988000000.00\n",
            "WARNING:PricePredictionExperiment_XGBRegressor:Unrealistic price values detected: min=1000.00, max=4988000000.00\n",
            "2025-06-01 00:11:51,426 - PricePredictionExperiment_XGBRegressor - INFO - Fold 1 - Log scale: R²=0.9644, RMSE=0.0172, SMAPE=1.2429%\n",
            "Original scale: R²=0.7214, RMSE=87574886.6673, SMAPE=11.1920%\n",
            "INFO:PricePredictionExperiment_XGBRegressor:Fold 1 - Log scale: R²=0.9644, RMSE=0.0172, SMAPE=1.2429%\n",
            "Original scale: R²=0.7214, RMSE=87574886.6673, SMAPE=11.1920%\n"
          ]
        },
        {
          "output_type": "stream",
          "name": "stdout",
          "text": [
            " Fold 2: train_size=13334 val_size=6666\n"
          ]
        },
        {
          "output_type": "stream",
          "name": "stderr",
          "text": [
            "2025-06-01 00:11:55,459 - PricePredictionExperiment_XGBRegressor - INFO - Before reverse - price mean: 0.6143135310974003\n",
            "INFO:PricePredictionExperiment_XGBRegressor:Before reverse - price mean: 0.6143135310974003\n",
            "2025-06-01 00:11:55,464 - PricePredictionExperiment_XGBRegressor - INFO - After reverse - price mean: 50743873.696819685\n",
            "INFO:PricePredictionExperiment_XGBRegressor:After reverse - price mean: 50743873.696819685\n",
            "2025-06-01 00:11:55,466 - PricePredictionExperiment_XGBRegressor - WARNING - Unrealistic price values detected: min=100000.00, max=2893991100.00\n",
            "WARNING:PricePredictionExperiment_XGBRegressor:Unrealistic price values detected: min=100000.00, max=2893991100.00\n",
            "2025-06-01 00:11:55,512 - PricePredictionExperiment_XGBRegressor - INFO - Fold 2 - Log scale: R²=0.9758, RMSE=0.0144, SMAPE=1.1942%\n",
            "Original scale: R²=0.8373, RMSE=59962694.0118, SMAPE=11.0231%\n",
            "INFO:PricePredictionExperiment_XGBRegressor:Fold 2 - Log scale: R²=0.9758, RMSE=0.0144, SMAPE=1.1942%\n",
            "Original scale: R²=0.8373, RMSE=59962694.0118, SMAPE=11.0231%\n",
            "\u001b[32m[I 2025-06-01 00:11:55,516]\u001b[0m Trial 4 finished with value: 0.9703307244737022 and parameters: {'model__n_estimators': 652, 'model__max_depth': 5, 'model__learning_rate': 0.024437525838895212, 'model__subsample': 0.8582458280396084}. Best is trial 0 with value: 0.9705966802954955.\u001b[0m\n"
          ]
        },
        {
          "output_type": "stream",
          "name": "stdout",
          "text": [
            "CV stratified bins counts: [6670 6663 6667]\n",
            "Running 3-fold CV on 20000 samples\n",
            " Fold 0: train_size=13333 val_size=6667\n"
          ]
        },
        {
          "output_type": "stream",
          "name": "stderr",
          "text": [
            "2025-06-01 00:12:00,837 - PricePredictionExperiment_XGBRegressor - INFO - Before reverse - price mean: 0.6131231136815939\n",
            "INFO:PricePredictionExperiment_XGBRegressor:Before reverse - price mean: 0.6131231136815939\n",
            "2025-06-01 00:12:00,843 - PricePredictionExperiment_XGBRegressor - INFO - After reverse - price mean: 46994876.19484026\n",
            "INFO:PricePredictionExperiment_XGBRegressor:After reverse - price mean: 46994876.19484026\n",
            "2025-06-01 00:12:00,845 - PricePredictionExperiment_XGBRegressor - WARNING - Unrealistic price values detected: min=1640.00, max=3119770000.00\n",
            "WARNING:PricePredictionExperiment_XGBRegressor:Unrealistic price values detected: min=1640.00, max=3119770000.00\n",
            "2025-06-01 00:12:00,906 - PricePredictionExperiment_XGBRegressor - INFO - Fold 0 - Log scale: R²=0.9697, RMSE=0.0159, SMAPE=1.2971%\n",
            "Original scale: R²=0.8744, RMSE=48330187.5887, SMAPE=11.8256%\n",
            "INFO:PricePredictionExperiment_XGBRegressor:Fold 0 - Log scale: R²=0.9697, RMSE=0.0159, SMAPE=1.2971%\n",
            "Original scale: R²=0.8744, RMSE=48330187.5887, SMAPE=11.8256%\n"
          ]
        },
        {
          "output_type": "stream",
          "name": "stdout",
          "text": [
            " Fold 1: train_size=13333 val_size=6667\n"
          ]
        },
        {
          "output_type": "stream",
          "name": "stderr",
          "text": [
            "2025-06-01 00:12:04,931 - PricePredictionExperiment_XGBRegressor - INFO - Before reverse - price mean: 0.6141490354414657\n",
            "INFO:PricePredictionExperiment_XGBRegressor:Before reverse - price mean: 0.6141490354414657\n",
            "2025-06-01 00:12:04,936 - PricePredictionExperiment_XGBRegressor - INFO - After reverse - price mean: 50439669.25198739\n",
            "INFO:PricePredictionExperiment_XGBRegressor:After reverse - price mean: 50439669.25198739\n",
            "2025-06-01 00:12:04,938 - PricePredictionExperiment_XGBRegressor - WARNING - Unrealistic price values detected: min=1000.00, max=4988000000.00\n",
            "WARNING:PricePredictionExperiment_XGBRegressor:Unrealistic price values detected: min=1000.00, max=4988000000.00\n",
            "2025-06-01 00:12:04,984 - PricePredictionExperiment_XGBRegressor - INFO - Fold 1 - Log scale: R²=0.9625, RMSE=0.0177, SMAPE=1.2939%\n",
            "Original scale: R²=0.7145, RMSE=88662459.6771, SMAPE=11.6724%\n",
            "INFO:PricePredictionExperiment_XGBRegressor:Fold 1 - Log scale: R²=0.9625, RMSE=0.0177, SMAPE=1.2939%\n",
            "Original scale: R²=0.7145, RMSE=88662459.6771, SMAPE=11.6724%\n"
          ]
        },
        {
          "output_type": "stream",
          "name": "stdout",
          "text": [
            " Fold 2: train_size=13334 val_size=6666\n"
          ]
        },
        {
          "output_type": "stream",
          "name": "stderr",
          "text": [
            "2025-06-01 00:12:08,780 - PricePredictionExperiment_XGBRegressor - INFO - Before reverse - price mean: 0.6143135310974003\n",
            "INFO:PricePredictionExperiment_XGBRegressor:Before reverse - price mean: 0.6143135310974003\n",
            "2025-06-01 00:12:08,784 - PricePredictionExperiment_XGBRegressor - INFO - After reverse - price mean: 50743873.696819685\n",
            "INFO:PricePredictionExperiment_XGBRegressor:After reverse - price mean: 50743873.696819685\n",
            "2025-06-01 00:12:08,787 - PricePredictionExperiment_XGBRegressor - WARNING - Unrealistic price values detected: min=100000.00, max=2893991100.00\n",
            "WARNING:PricePredictionExperiment_XGBRegressor:Unrealistic price values detected: min=100000.00, max=2893991100.00\n",
            "2025-06-01 00:12:08,846 - PricePredictionExperiment_XGBRegressor - INFO - Fold 2 - Log scale: R²=0.9740, RMSE=0.0149, SMAPE=1.2506%\n",
            "Original scale: R²=0.8251, RMSE=62169899.9618, SMAPE=11.5284%\n",
            "INFO:PricePredictionExperiment_XGBRegressor:Fold 2 - Log scale: R²=0.9740, RMSE=0.0149, SMAPE=1.2506%\n",
            "Original scale: R²=0.8251, RMSE=62169899.9618, SMAPE=11.5284%\n",
            "\u001b[32m[I 2025-06-01 00:12:08,851]\u001b[0m Trial 5 finished with value: 0.9687435941500727 and parameters: {'model__n_estimators': 806, 'model__max_depth': 4, 'model__learning_rate': 0.01814650918408482, 'model__subsample': 0.8732723686587384}. Best is trial 0 with value: 0.9705966802954955.\u001b[0m\n"
          ]
        },
        {
          "output_type": "stream",
          "name": "stdout",
          "text": [
            "CV stratified bins counts: [6670 6663 6667]\n",
            "Running 3-fold CV on 20000 samples\n",
            " Fold 0: train_size=13333 val_size=6667\n"
          ]
        },
        {
          "output_type": "stream",
          "name": "stderr",
          "text": [
            "2025-06-01 00:12:16,966 - PricePredictionExperiment_XGBRegressor - INFO - Before reverse - price mean: 0.6131231136815939\n",
            "INFO:PricePredictionExperiment_XGBRegressor:Before reverse - price mean: 0.6131231136815939\n",
            "2025-06-01 00:12:16,973 - PricePredictionExperiment_XGBRegressor - INFO - After reverse - price mean: 46994876.19484026\n",
            "INFO:PricePredictionExperiment_XGBRegressor:After reverse - price mean: 46994876.19484026\n",
            "2025-06-01 00:12:16,975 - PricePredictionExperiment_XGBRegressor - WARNING - Unrealistic price values detected: min=1640.00, max=3119770000.00\n",
            "WARNING:PricePredictionExperiment_XGBRegressor:Unrealistic price values detected: min=1640.00, max=3119770000.00\n",
            "2025-06-01 00:12:17,021 - PricePredictionExperiment_XGBRegressor - INFO - Fold 0 - Log scale: R²=0.9705, RMSE=0.0157, SMAPE=1.2103%\n",
            "Original scale: R²=0.8664, RMSE=49840080.0695, SMAPE=10.9618%\n",
            "INFO:PricePredictionExperiment_XGBRegressor:Fold 0 - Log scale: R²=0.9705, RMSE=0.0157, SMAPE=1.2103%\n",
            "Original scale: R²=0.8664, RMSE=49840080.0695, SMAPE=10.9618%\n"
          ]
        },
        {
          "output_type": "stream",
          "name": "stdout",
          "text": [
            " Fold 1: train_size=13333 val_size=6667\n"
          ]
        },
        {
          "output_type": "stream",
          "name": "stderr",
          "text": [
            "2025-06-01 00:12:23,524 - PricePredictionExperiment_XGBRegressor - INFO - Before reverse - price mean: 0.6141490354414657\n",
            "INFO:PricePredictionExperiment_XGBRegressor:Before reverse - price mean: 0.6141490354414657\n",
            "2025-06-01 00:12:23,528 - PricePredictionExperiment_XGBRegressor - INFO - After reverse - price mean: 50439669.25198739\n",
            "INFO:PricePredictionExperiment_XGBRegressor:After reverse - price mean: 50439669.25198739\n",
            "2025-06-01 00:12:23,530 - PricePredictionExperiment_XGBRegressor - WARNING - Unrealistic price values detected: min=1000.00, max=4988000000.00\n",
            "WARNING:PricePredictionExperiment_XGBRegressor:Unrealistic price values detected: min=1000.00, max=4988000000.00\n",
            "2025-06-01 00:12:23,576 - PricePredictionExperiment_XGBRegressor - INFO - Fold 1 - Log scale: R²=0.9643, RMSE=0.0173, SMAPE=1.2261%\n",
            "Original scale: R²=0.7188, RMSE=87987550.2947, SMAPE=10.9951%\n",
            "INFO:PricePredictionExperiment_XGBRegressor:Fold 1 - Log scale: R²=0.9643, RMSE=0.0173, SMAPE=1.2261%\n",
            "Original scale: R²=0.7188, RMSE=87987550.2947, SMAPE=10.9951%\n"
          ]
        },
        {
          "output_type": "stream",
          "name": "stdout",
          "text": [
            " Fold 2: train_size=13334 val_size=6666\n"
          ]
        },
        {
          "output_type": "stream",
          "name": "stderr",
          "text": [
            "2025-06-01 00:12:31,459 - PricePredictionExperiment_XGBRegressor - INFO - Before reverse - price mean: 0.6143135310974003\n",
            "INFO:PricePredictionExperiment_XGBRegressor:Before reverse - price mean: 0.6143135310974003\n",
            "2025-06-01 00:12:31,464 - PricePredictionExperiment_XGBRegressor - INFO - After reverse - price mean: 50743873.696819685\n",
            "INFO:PricePredictionExperiment_XGBRegressor:After reverse - price mean: 50743873.696819685\n",
            "2025-06-01 00:12:31,466 - PricePredictionExperiment_XGBRegressor - WARNING - Unrealistic price values detected: min=100000.00, max=2893991100.00\n",
            "WARNING:PricePredictionExperiment_XGBRegressor:Unrealistic price values detected: min=100000.00, max=2893991100.00\n",
            "2025-06-01 00:12:31,529 - PricePredictionExperiment_XGBRegressor - INFO - Fold 2 - Log scale: R²=0.9756, RMSE=0.0144, SMAPE=1.1765%\n",
            "Original scale: R²=0.8292, RMSE=61426502.0736, SMAPE=10.8486%\n",
            "INFO:PricePredictionExperiment_XGBRegressor:Fold 2 - Log scale: R²=0.9756, RMSE=0.0144, SMAPE=1.1765%\n",
            "Original scale: R²=0.8292, RMSE=61426502.0736, SMAPE=10.8486%\n",
            "\u001b[32m[I 2025-06-01 00:12:31,534]\u001b[0m Trial 6 finished with value: 0.9701429845071413 and parameters: {'model__n_estimators': 728, 'model__max_depth': 6, 'model__learning_rate': 0.01398532019712619, 'model__subsample': 0.9028468876827224}. Best is trial 0 with value: 0.9705966802954955.\u001b[0m\n"
          ]
        },
        {
          "output_type": "stream",
          "name": "stdout",
          "text": [
            "CV stratified bins counts: [6670 6663 6667]\n",
            "Running 3-fold CV on 20000 samples\n",
            " Fold 0: train_size=13333 val_size=6667\n"
          ]
        },
        {
          "output_type": "stream",
          "name": "stderr",
          "text": [
            "2025-06-01 00:12:35,180 - PricePredictionExperiment_XGBRegressor - INFO - Before reverse - price mean: 0.6131231136815939\n",
            "INFO:PricePredictionExperiment_XGBRegressor:Before reverse - price mean: 0.6131231136815939\n",
            "2025-06-01 00:12:35,186 - PricePredictionExperiment_XGBRegressor - INFO - After reverse - price mean: 46994876.19484026\n",
            "INFO:PricePredictionExperiment_XGBRegressor:After reverse - price mean: 46994876.19484026\n",
            "2025-06-01 00:12:35,188 - PricePredictionExperiment_XGBRegressor - WARNING - Unrealistic price values detected: min=1640.00, max=3119770000.00\n",
            "WARNING:PricePredictionExperiment_XGBRegressor:Unrealistic price values detected: min=1640.00, max=3119770000.00\n",
            "2025-06-01 00:12:35,236 - PricePredictionExperiment_XGBRegressor - INFO - Fold 0 - Log scale: R²=0.9707, RMSE=0.0157, SMAPE=1.2740%\n",
            "Original scale: R²=0.8748, RMSE=48251125.4585, SMAPE=11.6225%\n",
            "INFO:PricePredictionExperiment_XGBRegressor:Fold 0 - Log scale: R²=0.9707, RMSE=0.0157, SMAPE=1.2740%\n",
            "Original scale: R²=0.8748, RMSE=48251125.4585, SMAPE=11.6225%\n"
          ]
        },
        {
          "output_type": "stream",
          "name": "stdout",
          "text": [
            " Fold 1: train_size=13333 val_size=6667\n"
          ]
        },
        {
          "output_type": "stream",
          "name": "stderr",
          "text": [
            "2025-06-01 00:12:39,835 - PricePredictionExperiment_XGBRegressor - INFO - Before reverse - price mean: 0.6141490354414657\n",
            "INFO:PricePredictionExperiment_XGBRegressor:Before reverse - price mean: 0.6141490354414657\n",
            "2025-06-01 00:12:39,843 - PricePredictionExperiment_XGBRegressor - INFO - After reverse - price mean: 50439669.25198739\n",
            "INFO:PricePredictionExperiment_XGBRegressor:After reverse - price mean: 50439669.25198739\n",
            "2025-06-01 00:12:39,846 - PricePredictionExperiment_XGBRegressor - WARNING - Unrealistic price values detected: min=1000.00, max=4988000000.00\n",
            "WARNING:PricePredictionExperiment_XGBRegressor:Unrealistic price values detected: min=1000.00, max=4988000000.00\n",
            "2025-06-01 00:12:39,920 - PricePredictionExperiment_XGBRegressor - INFO - Fold 1 - Log scale: R²=0.9636, RMSE=0.0174, SMAPE=1.2762%\n",
            "Original scale: R²=0.7250, RMSE=87015158.6978, SMAPE=11.5007%\n",
            "INFO:PricePredictionExperiment_XGBRegressor:Fold 1 - Log scale: R²=0.9636, RMSE=0.0174, SMAPE=1.2762%\n",
            "Original scale: R²=0.7250, RMSE=87015158.6978, SMAPE=11.5007%\n"
          ]
        },
        {
          "output_type": "stream",
          "name": "stdout",
          "text": [
            " Fold 2: train_size=13334 val_size=6666\n"
          ]
        },
        {
          "output_type": "stream",
          "name": "stderr",
          "text": [
            "2025-06-01 00:12:44,014 - PricePredictionExperiment_XGBRegressor - INFO - Before reverse - price mean: 0.6143135310974003\n",
            "INFO:PricePredictionExperiment_XGBRegressor:Before reverse - price mean: 0.6143135310974003\n",
            "2025-06-01 00:12:44,019 - PricePredictionExperiment_XGBRegressor - INFO - After reverse - price mean: 50743873.696819685\n",
            "INFO:PricePredictionExperiment_XGBRegressor:After reverse - price mean: 50743873.696819685\n",
            "2025-06-01 00:12:44,021 - PricePredictionExperiment_XGBRegressor - WARNING - Unrealistic price values detected: min=100000.00, max=2893991100.00\n",
            "WARNING:PricePredictionExperiment_XGBRegressor:Unrealistic price values detected: min=100000.00, max=2893991100.00\n",
            "2025-06-01 00:12:44,069 - PricePredictionExperiment_XGBRegressor - INFO - Fold 2 - Log scale: R²=0.9750, RMSE=0.0146, SMAPE=1.2301%\n",
            "Original scale: R²=0.8464, RMSE=58263690.0505, SMAPE=11.3386%\n",
            "INFO:PricePredictionExperiment_XGBRegressor:Fold 2 - Log scale: R²=0.9750, RMSE=0.0146, SMAPE=1.2301%\n",
            "Original scale: R²=0.8464, RMSE=58263690.0505, SMAPE=11.3386%\n",
            "\u001b[32m[I 2025-06-01 00:12:44,076]\u001b[0m Trial 7 finished with value: 0.9697725676613781 and parameters: {'model__n_estimators': 796, 'model__max_depth': 4, 'model__learning_rate': 0.032339518335564726, 'model__subsample': 0.8341048247374584}. Best is trial 0 with value: 0.9705966802954955.\u001b[0m\n"
          ]
        },
        {
          "output_type": "stream",
          "name": "stdout",
          "text": [
            "CV stratified bins counts: [6670 6663 6667]\n",
            "Running 3-fold CV on 20000 samples\n",
            " Fold 0: train_size=13333 val_size=6667\n"
          ]
        },
        {
          "output_type": "stream",
          "name": "stderr",
          "text": [
            "2025-06-01 00:12:48,569 - PricePredictionExperiment_XGBRegressor - INFO - Before reverse - price mean: 0.6131231136815939\n",
            "INFO:PricePredictionExperiment_XGBRegressor:Before reverse - price mean: 0.6131231136815939\n",
            "2025-06-01 00:12:48,575 - PricePredictionExperiment_XGBRegressor - INFO - After reverse - price mean: 46994876.19484026\n",
            "INFO:PricePredictionExperiment_XGBRegressor:After reverse - price mean: 46994876.19484026\n",
            "2025-06-01 00:12:48,577 - PricePredictionExperiment_XGBRegressor - WARNING - Unrealistic price values detected: min=1640.00, max=3119770000.00\n",
            "WARNING:PricePredictionExperiment_XGBRegressor:Unrealistic price values detected: min=1640.00, max=3119770000.00\n",
            "2025-06-01 00:12:48,638 - PricePredictionExperiment_XGBRegressor - INFO - Fold 0 - Log scale: R²=0.9710, RMSE=0.0156, SMAPE=1.2136%\n",
            "Original scale: R²=0.8720, RMSE=48797682.2522, SMAPE=10.9900%\n",
            "INFO:PricePredictionExperiment_XGBRegressor:Fold 0 - Log scale: R²=0.9710, RMSE=0.0156, SMAPE=1.2136%\n",
            "Original scale: R²=0.8720, RMSE=48797682.2522, SMAPE=10.9900%\n"
          ]
        },
        {
          "output_type": "stream",
          "name": "stdout",
          "text": [
            " Fold 1: train_size=13333 val_size=6667\n"
          ]
        },
        {
          "output_type": "stream",
          "name": "stderr",
          "text": [
            "2025-06-01 00:12:54,446 - PricePredictionExperiment_XGBRegressor - INFO - Before reverse - price mean: 0.6141490354414657\n",
            "INFO:PricePredictionExperiment_XGBRegressor:Before reverse - price mean: 0.6141490354414657\n",
            "2025-06-01 00:12:54,455 - PricePredictionExperiment_XGBRegressor - INFO - After reverse - price mean: 50439669.25198739\n",
            "INFO:PricePredictionExperiment_XGBRegressor:After reverse - price mean: 50439669.25198739\n",
            "2025-06-01 00:12:54,457 - PricePredictionExperiment_XGBRegressor - WARNING - Unrealistic price values detected: min=1000.00, max=4988000000.00\n",
            "WARNING:PricePredictionExperiment_XGBRegressor:Unrealistic price values detected: min=1000.00, max=4988000000.00\n",
            "2025-06-01 00:12:54,509 - PricePredictionExperiment_XGBRegressor - INFO - Fold 1 - Log scale: R²=0.9645, RMSE=0.0172, SMAPE=1.2330%\n",
            "Original scale: R²=0.7302, RMSE=86184405.7501, SMAPE=11.0348%\n",
            "INFO:PricePredictionExperiment_XGBRegressor:Fold 1 - Log scale: R²=0.9645, RMSE=0.0172, SMAPE=1.2330%\n",
            "Original scale: R²=0.7302, RMSE=86184405.7501, SMAPE=11.0348%\n"
          ]
        },
        {
          "output_type": "stream",
          "name": "stdout",
          "text": [
            " Fold 2: train_size=13334 val_size=6666\n"
          ]
        },
        {
          "output_type": "stream",
          "name": "stderr",
          "text": [
            "2025-06-01 00:12:58,763 - PricePredictionExperiment_XGBRegressor - INFO - Before reverse - price mean: 0.6143135310974003\n",
            "INFO:PricePredictionExperiment_XGBRegressor:Before reverse - price mean: 0.6143135310974003\n",
            "2025-06-01 00:12:58,774 - PricePredictionExperiment_XGBRegressor - INFO - After reverse - price mean: 50743873.696819685\n",
            "INFO:PricePredictionExperiment_XGBRegressor:After reverse - price mean: 50743873.696819685\n",
            "2025-06-01 00:12:58,776 - PricePredictionExperiment_XGBRegressor - WARNING - Unrealistic price values detected: min=100000.00, max=2893991100.00\n",
            "WARNING:PricePredictionExperiment_XGBRegressor:Unrealistic price values detected: min=100000.00, max=2893991100.00\n",
            "2025-06-01 00:12:58,841 - PricePredictionExperiment_XGBRegressor - INFO - Fold 2 - Log scale: R²=0.9755, RMSE=0.0145, SMAPE=1.1886%\n",
            "Original scale: R²=0.8256, RMSE=62074563.0247, SMAPE=10.9475%\n",
            "INFO:PricePredictionExperiment_XGBRegressor:Fold 2 - Log scale: R²=0.9755, RMSE=0.0145, SMAPE=1.1886%\n",
            "Original scale: R²=0.8256, RMSE=62074563.0247, SMAPE=10.9475%\n",
            "\u001b[32m[I 2025-06-01 00:12:58,846]\u001b[0m Trial 8 finished with value: 0.9703648108202514 and parameters: {'model__n_estimators': 532, 'model__max_depth': 6, 'model__learning_rate': 0.048453441488355176, 'model__subsample': 0.9616794696232922}. Best is trial 0 with value: 0.9705966802954955.\u001b[0m\n"
          ]
        },
        {
          "output_type": "stream",
          "name": "stdout",
          "text": [
            "CV stratified bins counts: [6670 6663 6667]\n",
            "Running 3-fold CV on 20000 samples\n",
            " Fold 0: train_size=13333 val_size=6667\n"
          ]
        },
        {
          "output_type": "stream",
          "name": "stderr",
          "text": [
            "2025-06-01 00:13:02,164 - PricePredictionExperiment_XGBRegressor - INFO - Before reverse - price mean: 0.6131231136815939\n",
            "INFO:PricePredictionExperiment_XGBRegressor:Before reverse - price mean: 0.6131231136815939\n",
            "2025-06-01 00:13:02,171 - PricePredictionExperiment_XGBRegressor - INFO - After reverse - price mean: 46994876.19484026\n",
            "INFO:PricePredictionExperiment_XGBRegressor:After reverse - price mean: 46994876.19484026\n",
            "2025-06-01 00:13:02,173 - PricePredictionExperiment_XGBRegressor - WARNING - Unrealistic price values detected: min=1640.00, max=3119770000.00\n",
            "WARNING:PricePredictionExperiment_XGBRegressor:Unrealistic price values detected: min=1640.00, max=3119770000.00\n",
            "2025-06-01 00:13:02,220 - PricePredictionExperiment_XGBRegressor - INFO - Fold 0 - Log scale: R²=0.9709, RMSE=0.0156, SMAPE=1.2773%\n",
            "Original scale: R²=0.8746, RMSE=48285701.3671, SMAPE=11.6610%\n",
            "INFO:PricePredictionExperiment_XGBRegressor:Fold 0 - Log scale: R²=0.9709, RMSE=0.0156, SMAPE=1.2773%\n",
            "Original scale: R²=0.8746, RMSE=48285701.3671, SMAPE=11.6610%\n"
          ]
        },
        {
          "output_type": "stream",
          "name": "stdout",
          "text": [
            " Fold 1: train_size=13333 val_size=6667\n"
          ]
        },
        {
          "output_type": "stream",
          "name": "stderr",
          "text": [
            "2025-06-01 00:13:06,120 - PricePredictionExperiment_XGBRegressor - INFO - Before reverse - price mean: 0.6141490354414657\n",
            "INFO:PricePredictionExperiment_XGBRegressor:Before reverse - price mean: 0.6141490354414657\n",
            "2025-06-01 00:13:06,125 - PricePredictionExperiment_XGBRegressor - INFO - After reverse - price mean: 50439669.25198739\n",
            "INFO:PricePredictionExperiment_XGBRegressor:After reverse - price mean: 50439669.25198739\n",
            "2025-06-01 00:13:06,127 - PricePredictionExperiment_XGBRegressor - WARNING - Unrealistic price values detected: min=1000.00, max=4988000000.00\n",
            "WARNING:PricePredictionExperiment_XGBRegressor:Unrealistic price values detected: min=1000.00, max=4988000000.00\n",
            "2025-06-01 00:13:06,191 - PricePredictionExperiment_XGBRegressor - INFO - Fold 1 - Log scale: R²=0.9629, RMSE=0.0176, SMAPE=1.2874%\n",
            "Original scale: R²=0.7253, RMSE=86962212.1646, SMAPE=11.5901%\n",
            "INFO:PricePredictionExperiment_XGBRegressor:Fold 1 - Log scale: R²=0.9629, RMSE=0.0176, SMAPE=1.2874%\n",
            "Original scale: R²=0.7253, RMSE=86962212.1646, SMAPE=11.5901%\n"
          ]
        },
        {
          "output_type": "stream",
          "name": "stdout",
          "text": [
            " Fold 2: train_size=13334 val_size=6666\n"
          ]
        },
        {
          "output_type": "stream",
          "name": "stderr",
          "text": [
            "2025-06-01 00:13:10,144 - PricePredictionExperiment_XGBRegressor - INFO - Before reverse - price mean: 0.6143135310974003\n",
            "INFO:PricePredictionExperiment_XGBRegressor:Before reverse - price mean: 0.6143135310974003\n",
            "2025-06-01 00:13:10,149 - PricePredictionExperiment_XGBRegressor - INFO - After reverse - price mean: 50743873.696819685\n",
            "INFO:PricePredictionExperiment_XGBRegressor:After reverse - price mean: 50743873.696819685\n",
            "2025-06-01 00:13:10,152 - PricePredictionExperiment_XGBRegressor - WARNING - Unrealistic price values detected: min=100000.00, max=2893991100.00\n",
            "WARNING:PricePredictionExperiment_XGBRegressor:Unrealistic price values detected: min=100000.00, max=2893991100.00\n",
            "2025-06-01 00:13:10,198 - PricePredictionExperiment_XGBRegressor - INFO - Fold 2 - Log scale: R²=0.9748, RMSE=0.0147, SMAPE=1.2364%\n",
            "Original scale: R²=0.8346, RMSE=60457907.8881, SMAPE=11.4059%\n",
            "INFO:PricePredictionExperiment_XGBRegressor:Fold 2 - Log scale: R²=0.9748, RMSE=0.0147, SMAPE=1.2364%\n",
            "Original scale: R²=0.8346, RMSE=60457907.8881, SMAPE=11.4059%\n",
            "\u001b[32m[I 2025-06-01 00:13:10,203]\u001b[0m Trial 9 finished with value: 0.9695198862044813 and parameters: {'model__n_estimators': 652, 'model__max_depth': 4, 'model__learning_rate': 0.03579048619304706, 'model__subsample': 0.8880304987479203}. Best is trial 0 with value: 0.9705966802954955.\u001b[0m\n"
          ]
        },
        {
          "output_type": "stream",
          "name": "stdout",
          "text": [
            "CV stratified bins counts: [6670 6663 6667]\n",
            "Running 3-fold CV on 20000 samples\n",
            " Fold 0: train_size=13333 val_size=6667\n"
          ]
        },
        {
          "output_type": "stream",
          "name": "stderr",
          "text": [
            "2025-06-01 00:13:16,163 - PricePredictionExperiment_XGBRegressor - INFO - Before reverse - price mean: 0.6131231136815939\n",
            "INFO:PricePredictionExperiment_XGBRegressor:Before reverse - price mean: 0.6131231136815939\n",
            "2025-06-01 00:13:16,168 - PricePredictionExperiment_XGBRegressor - INFO - After reverse - price mean: 46994876.19484026\n",
            "INFO:PricePredictionExperiment_XGBRegressor:After reverse - price mean: 46994876.19484026\n",
            "2025-06-01 00:13:16,170 - PricePredictionExperiment_XGBRegressor - WARNING - Unrealistic price values detected: min=1640.00, max=3119770000.00\n",
            "WARNING:PricePredictionExperiment_XGBRegressor:Unrealistic price values detected: min=1640.00, max=3119770000.00\n",
            "2025-06-01 00:13:16,232 - PricePredictionExperiment_XGBRegressor - INFO - Fold 0 - Log scale: R²=0.9716, RMSE=0.0154, SMAPE=1.2324%\n",
            "Original scale: R²=0.8741, RMSE=48379254.3654, SMAPE=11.1860%\n",
            "INFO:PricePredictionExperiment_XGBRegressor:Fold 0 - Log scale: R²=0.9716, RMSE=0.0154, SMAPE=1.2324%\n",
            "Original scale: R²=0.8741, RMSE=48379254.3654, SMAPE=11.1860%\n"
          ]
        },
        {
          "output_type": "stream",
          "name": "stdout",
          "text": [
            " Fold 1: train_size=13333 val_size=6667\n"
          ]
        },
        {
          "output_type": "stream",
          "name": "stderr",
          "text": [
            "2025-06-01 00:13:23,420 - PricePredictionExperiment_XGBRegressor - INFO - Before reverse - price mean: 0.6141490354414657\n",
            "INFO:PricePredictionExperiment_XGBRegressor:Before reverse - price mean: 0.6141490354414657\n",
            "2025-06-01 00:13:23,424 - PricePredictionExperiment_XGBRegressor - INFO - After reverse - price mean: 50439669.25198739\n",
            "INFO:PricePredictionExperiment_XGBRegressor:After reverse - price mean: 50439669.25198739\n",
            "2025-06-01 00:13:23,426 - PricePredictionExperiment_XGBRegressor - WARNING - Unrealistic price values detected: min=1000.00, max=4988000000.00\n",
            "WARNING:PricePredictionExperiment_XGBRegressor:Unrealistic price values detected: min=1000.00, max=4988000000.00\n",
            "2025-06-01 00:13:23,475 - PricePredictionExperiment_XGBRegressor - INFO - Fold 1 - Log scale: R²=0.9642, RMSE=0.0173, SMAPE=1.2524%\n",
            "Original scale: R²=0.7236, RMSE=87228614.8969, SMAPE=11.2553%\n",
            "INFO:PricePredictionExperiment_XGBRegressor:Fold 1 - Log scale: R²=0.9642, RMSE=0.0173, SMAPE=1.2524%\n",
            "Original scale: R²=0.7236, RMSE=87228614.8969, SMAPE=11.2553%\n"
          ]
        },
        {
          "output_type": "stream",
          "name": "stdout",
          "text": [
            " Fold 2: train_size=13334 val_size=6666\n"
          ]
        },
        {
          "output_type": "stream",
          "name": "stderr",
          "text": [
            "2025-06-01 00:13:28,964 - PricePredictionExperiment_XGBRegressor - INFO - Before reverse - price mean: 0.6143135310974003\n",
            "INFO:PricePredictionExperiment_XGBRegressor:Before reverse - price mean: 0.6143135310974003\n",
            "2025-06-01 00:13:28,969 - PricePredictionExperiment_XGBRegressor - INFO - After reverse - price mean: 50743873.696819685\n",
            "INFO:PricePredictionExperiment_XGBRegressor:After reverse - price mean: 50743873.696819685\n",
            "2025-06-01 00:13:28,971 - PricePredictionExperiment_XGBRegressor - WARNING - Unrealistic price values detected: min=100000.00, max=2893991100.00\n",
            "WARNING:PricePredictionExperiment_XGBRegressor:Unrealistic price values detected: min=100000.00, max=2893991100.00\n",
            "2025-06-01 00:13:29,034 - PricePredictionExperiment_XGBRegressor - INFO - Fold 2 - Log scale: R²=0.9758, RMSE=0.0144, SMAPE=1.1996%\n",
            "Original scale: R²=0.8458, RMSE=58370774.1695, SMAPE=11.0742%\n",
            "INFO:PricePredictionExperiment_XGBRegressor:Fold 2 - Log scale: R²=0.9758, RMSE=0.0144, SMAPE=1.1996%\n",
            "Original scale: R²=0.8458, RMSE=58370774.1695, SMAPE=11.0742%\n",
            "\u001b[32m[I 2025-06-01 00:13:29,039]\u001b[0m Trial 10 finished with value: 0.9705469307854283 and parameters: {'model__n_estimators': 973, 'model__max_depth': 5, 'model__learning_rate': 0.0436475512095484, 'model__subsample': 0.9279596386253469}. Best is trial 0 with value: 0.9705966802954955.\u001b[0m\n"
          ]
        },
        {
          "output_type": "stream",
          "name": "stdout",
          "text": [
            "CV stratified bins counts: [6670 6663 6667]\n",
            "Running 3-fold CV on 20000 samples\n",
            " Fold 0: train_size=13333 val_size=6667\n"
          ]
        },
        {
          "output_type": "stream",
          "name": "stderr",
          "text": [
            "2025-06-01 00:13:36,080 - PricePredictionExperiment_XGBRegressor - INFO - Before reverse - price mean: 0.6131231136815939\n",
            "INFO:PricePredictionExperiment_XGBRegressor:Before reverse - price mean: 0.6131231136815939\n",
            "2025-06-01 00:13:36,086 - PricePredictionExperiment_XGBRegressor - INFO - After reverse - price mean: 46994876.19484026\n",
            "INFO:PricePredictionExperiment_XGBRegressor:After reverse - price mean: 46994876.19484026\n",
            "2025-06-01 00:13:36,089 - PricePredictionExperiment_XGBRegressor - WARNING - Unrealistic price values detected: min=1640.00, max=3119770000.00\n",
            "WARNING:PricePredictionExperiment_XGBRegressor:Unrealistic price values detected: min=1640.00, max=3119770000.00\n",
            "2025-06-01 00:13:36,136 - PricePredictionExperiment_XGBRegressor - INFO - Fold 0 - Log scale: R²=0.9713, RMSE=0.0155, SMAPE=1.2440%\n",
            "Original scale: R²=0.8754, RMSE=48129433.6403, SMAPE=11.2844%\n",
            "INFO:PricePredictionExperiment_XGBRegressor:Fold 0 - Log scale: R²=0.9713, RMSE=0.0155, SMAPE=1.2440%\n",
            "Original scale: R²=0.8754, RMSE=48129433.6403, SMAPE=11.2844%\n"
          ]
        },
        {
          "output_type": "stream",
          "name": "stdout",
          "text": [
            " Fold 1: train_size=13333 val_size=6667\n"
          ]
        },
        {
          "output_type": "stream",
          "name": "stderr",
          "text": [
            "2025-06-01 00:13:41,548 - PricePredictionExperiment_XGBRegressor - INFO - Before reverse - price mean: 0.6141490354414657\n",
            "INFO:PricePredictionExperiment_XGBRegressor:Before reverse - price mean: 0.6141490354414657\n",
            "2025-06-01 00:13:41,554 - PricePredictionExperiment_XGBRegressor - INFO - After reverse - price mean: 50439669.25198739\n",
            "INFO:PricePredictionExperiment_XGBRegressor:After reverse - price mean: 50439669.25198739\n",
            "2025-06-01 00:13:41,557 - PricePredictionExperiment_XGBRegressor - WARNING - Unrealistic price values detected: min=1000.00, max=4988000000.00\n",
            "WARNING:PricePredictionExperiment_XGBRegressor:Unrealistic price values detected: min=1000.00, max=4988000000.00\n",
            "2025-06-01 00:13:41,618 - PricePredictionExperiment_XGBRegressor - INFO - Fold 1 - Log scale: R²=0.9643, RMSE=0.0172, SMAPE=1.2507%\n",
            "Original scale: R²=0.7230, RMSE=87332903.4610, SMAPE=11.2273%\n",
            "INFO:PricePredictionExperiment_XGBRegressor:Fold 1 - Log scale: R²=0.9643, RMSE=0.0172, SMAPE=1.2507%\n",
            "Original scale: R²=0.7230, RMSE=87332903.4610, SMAPE=11.2273%\n"
          ]
        },
        {
          "output_type": "stream",
          "name": "stdout",
          "text": [
            " Fold 2: train_size=13334 val_size=6666\n"
          ]
        },
        {
          "output_type": "stream",
          "name": "stderr",
          "text": [
            "2025-06-01 00:13:49,040 - PricePredictionExperiment_XGBRegressor - INFO - Before reverse - price mean: 0.6143135310974003\n",
            "INFO:PricePredictionExperiment_XGBRegressor:Before reverse - price mean: 0.6143135310974003\n",
            "2025-06-01 00:13:49,045 - PricePredictionExperiment_XGBRegressor - INFO - After reverse - price mean: 50743873.696819685\n",
            "INFO:PricePredictionExperiment_XGBRegressor:After reverse - price mean: 50743873.696819685\n",
            "2025-06-01 00:13:49,047 - PricePredictionExperiment_XGBRegressor - WARNING - Unrealistic price values detected: min=100000.00, max=2893991100.00\n",
            "WARNING:PricePredictionExperiment_XGBRegressor:Unrealistic price values detected: min=100000.00, max=2893991100.00\n",
            "2025-06-01 00:13:49,093 - PricePredictionExperiment_XGBRegressor - INFO - Fold 2 - Log scale: R²=0.9759, RMSE=0.0144, SMAPE=1.2023%\n",
            "Original scale: R²=0.8447, RMSE=58575432.5765, SMAPE=11.0899%\n",
            "INFO:PricePredictionExperiment_XGBRegressor:Fold 2 - Log scale: R²=0.9759, RMSE=0.0144, SMAPE=1.2023%\n",
            "Original scale: R²=0.8447, RMSE=58575432.5765, SMAPE=11.0899%\n",
            "\u001b[32m[I 2025-06-01 00:13:49,101]\u001b[0m Trial 11 finished with value: 0.9705135587600752 and parameters: {'model__n_estimators': 968, 'model__max_depth': 5, 'model__learning_rate': 0.04441905851222442, 'model__subsample': 0.9275943510422122}. Best is trial 0 with value: 0.9705966802954955.\u001b[0m\n"
          ]
        },
        {
          "output_type": "stream",
          "name": "stdout",
          "text": [
            "CV stratified bins counts: [6670 6663 6667]\n",
            "Running 3-fold CV on 20000 samples\n",
            " Fold 0: train_size=13333 val_size=6667\n"
          ]
        },
        {
          "output_type": "stream",
          "name": "stderr",
          "text": [
            "2025-06-01 00:13:54,407 - PricePredictionExperiment_XGBRegressor - INFO - Before reverse - price mean: 0.6131231136815939\n",
            "INFO:PricePredictionExperiment_XGBRegressor:Before reverse - price mean: 0.6131231136815939\n",
            "2025-06-01 00:13:54,412 - PricePredictionExperiment_XGBRegressor - INFO - After reverse - price mean: 46994876.19484026\n",
            "INFO:PricePredictionExperiment_XGBRegressor:After reverse - price mean: 46994876.19484026\n",
            "2025-06-01 00:13:54,415 - PricePredictionExperiment_XGBRegressor - WARNING - Unrealistic price values detected: min=1640.00, max=3119770000.00\n",
            "WARNING:PricePredictionExperiment_XGBRegressor:Unrealistic price values detected: min=1640.00, max=3119770000.00\n",
            "2025-06-01 00:13:54,462 - PricePredictionExperiment_XGBRegressor - INFO - Fold 0 - Log scale: R²=0.9717, RMSE=0.0154, SMAPE=1.2329%\n",
            "Original scale: R²=0.8728, RMSE=48627249.0834, SMAPE=11.2024%\n",
            "INFO:PricePredictionExperiment_XGBRegressor:Fold 0 - Log scale: R²=0.9717, RMSE=0.0154, SMAPE=1.2329%\n",
            "Original scale: R²=0.8728, RMSE=48627249.0834, SMAPE=11.2024%\n"
          ]
        },
        {
          "output_type": "stream",
          "name": "stdout",
          "text": [
            " Fold 1: train_size=13333 val_size=6667\n"
          ]
        },
        {
          "output_type": "stream",
          "name": "stderr",
          "text": [
            "2025-06-01 00:13:59,975 - PricePredictionExperiment_XGBRegressor - INFO - Before reverse - price mean: 0.6141490354414657\n",
            "INFO:PricePredictionExperiment_XGBRegressor:Before reverse - price mean: 0.6141490354414657\n",
            "2025-06-01 00:13:59,980 - PricePredictionExperiment_XGBRegressor - INFO - After reverse - price mean: 50439669.25198739\n",
            "INFO:PricePredictionExperiment_XGBRegressor:After reverse - price mean: 50439669.25198739\n",
            "2025-06-01 00:13:59,985 - PricePredictionExperiment_XGBRegressor - WARNING - Unrealistic price values detected: min=1000.00, max=4988000000.00\n",
            "WARNING:PricePredictionExperiment_XGBRegressor:Unrealistic price values detected: min=1000.00, max=4988000000.00\n",
            "2025-06-01 00:14:00,051 - PricePredictionExperiment_XGBRegressor - INFO - Fold 1 - Log scale: R²=0.9641, RMSE=0.0173, SMAPE=1.2498%\n",
            "Original scale: R²=0.7234, RMSE=87262637.2965, SMAPE=11.2287%\n",
            "INFO:PricePredictionExperiment_XGBRegressor:Fold 1 - Log scale: R²=0.9641, RMSE=0.0173, SMAPE=1.2498%\n",
            "Original scale: R²=0.7234, RMSE=87262637.2965, SMAPE=11.2287%\n"
          ]
        },
        {
          "output_type": "stream",
          "name": "stdout",
          "text": [
            " Fold 2: train_size=13334 val_size=6666\n"
          ]
        },
        {
          "output_type": "stream",
          "name": "stderr",
          "text": [
            "2025-06-01 00:14:06,152 - PricePredictionExperiment_XGBRegressor - INFO - Before reverse - price mean: 0.6143135310974003\n",
            "INFO:PricePredictionExperiment_XGBRegressor:Before reverse - price mean: 0.6143135310974003\n",
            "2025-06-01 00:14:06,157 - PricePredictionExperiment_XGBRegressor - INFO - After reverse - price mean: 50743873.696819685\n",
            "INFO:PricePredictionExperiment_XGBRegressor:After reverse - price mean: 50743873.696819685\n",
            "2025-06-01 00:14:06,159 - PricePredictionExperiment_XGBRegressor - WARNING - Unrealistic price values detected: min=100000.00, max=2893991100.00\n",
            "WARNING:PricePredictionExperiment_XGBRegressor:Unrealistic price values detected: min=100000.00, max=2893991100.00\n",
            "2025-06-01 00:14:06,208 - PricePredictionExperiment_XGBRegressor - INFO - Fold 2 - Log scale: R²=0.9758, RMSE=0.0144, SMAPE=1.2027%\n",
            "Original scale: R²=0.8297, RMSE=61341388.9610, SMAPE=11.1038%\n",
            "INFO:PricePredictionExperiment_XGBRegressor:Fold 2 - Log scale: R²=0.9758, RMSE=0.0144, SMAPE=1.2027%\n",
            "Original scale: R²=0.8297, RMSE=61341388.9610, SMAPE=11.1038%\n",
            "\u001b[32m[I 2025-06-01 00:14:06,213]\u001b[0m Trial 12 finished with value: 0.9705015188954388 and parameters: {'model__n_estimators': 892, 'model__max_depth': 5, 'model__learning_rate': 0.03884513940221917, 'model__subsample': 0.9339814870955064}. Best is trial 0 with value: 0.9705966802954955.\u001b[0m\n"
          ]
        },
        {
          "output_type": "stream",
          "name": "stdout",
          "text": [
            "CV stratified bins counts: [6670 6663 6667]\n",
            "Running 3-fold CV on 20000 samples\n",
            " Fold 0: train_size=13333 val_size=6667\n"
          ]
        },
        {
          "output_type": "stream",
          "name": "stderr",
          "text": [
            "2025-06-01 00:14:11,794 - PricePredictionExperiment_XGBRegressor - INFO - Before reverse - price mean: 0.6131231136815939\n",
            "INFO:PricePredictionExperiment_XGBRegressor:Before reverse - price mean: 0.6131231136815939\n",
            "2025-06-01 00:14:11,803 - PricePredictionExperiment_XGBRegressor - INFO - After reverse - price mean: 46994876.19484026\n",
            "INFO:PricePredictionExperiment_XGBRegressor:After reverse - price mean: 46994876.19484026\n",
            "2025-06-01 00:14:11,805 - PricePredictionExperiment_XGBRegressor - WARNING - Unrealistic price values detected: min=1640.00, max=3119770000.00\n",
            "WARNING:PricePredictionExperiment_XGBRegressor:Unrealistic price values detected: min=1640.00, max=3119770000.00\n",
            "2025-06-01 00:14:11,866 - PricePredictionExperiment_XGBRegressor - INFO - Fold 0 - Log scale: R²=0.9714, RMSE=0.0155, SMAPE=1.2037%\n",
            "Original scale: R²=0.8725, RMSE=48696360.4804, SMAPE=10.8972%\n",
            "INFO:PricePredictionExperiment_XGBRegressor:Fold 0 - Log scale: R²=0.9714, RMSE=0.0155, SMAPE=1.2037%\n",
            "Original scale: R²=0.8725, RMSE=48696360.4804, SMAPE=10.8972%\n"
          ]
        },
        {
          "output_type": "stream",
          "name": "stdout",
          "text": [
            " Fold 1: train_size=13333 val_size=6667\n"
          ]
        },
        {
          "output_type": "stream",
          "name": "stderr",
          "text": [
            "2025-06-01 00:14:18,836 - PricePredictionExperiment_XGBRegressor - INFO - Before reverse - price mean: 0.6141490354414657\n",
            "INFO:PricePredictionExperiment_XGBRegressor:Before reverse - price mean: 0.6141490354414657\n",
            "2025-06-01 00:14:18,840 - PricePredictionExperiment_XGBRegressor - INFO - After reverse - price mean: 50439669.25198739\n",
            "INFO:PricePredictionExperiment_XGBRegressor:After reverse - price mean: 50439669.25198739\n",
            "2025-06-01 00:14:18,842 - PricePredictionExperiment_XGBRegressor - WARNING - Unrealistic price values detected: min=1000.00, max=4988000000.00\n",
            "WARNING:PricePredictionExperiment_XGBRegressor:Unrealistic price values detected: min=1000.00, max=4988000000.00\n",
            "2025-06-01 00:14:18,888 - PricePredictionExperiment_XGBRegressor - INFO - Fold 1 - Log scale: R²=0.9647, RMSE=0.0172, SMAPE=1.2316%\n",
            "Original scale: R²=0.7229, RMSE=87339070.7980, SMAPE=11.0193%\n",
            "INFO:PricePredictionExperiment_XGBRegressor:Fold 1 - Log scale: R²=0.9647, RMSE=0.0172, SMAPE=1.2316%\n",
            "Original scale: R²=0.7229, RMSE=87339070.7980, SMAPE=11.0193%\n"
          ]
        },
        {
          "output_type": "stream",
          "name": "stdout",
          "text": [
            " Fold 2: train_size=13334 val_size=6666\n"
          ]
        },
        {
          "output_type": "stream",
          "name": "stderr",
          "text": [
            "2025-06-01 00:14:24,441 - PricePredictionExperiment_XGBRegressor - INFO - Before reverse - price mean: 0.6143135310974003\n",
            "INFO:PricePredictionExperiment_XGBRegressor:Before reverse - price mean: 0.6143135310974003\n",
            "2025-06-01 00:14:24,447 - PricePredictionExperiment_XGBRegressor - INFO - After reverse - price mean: 50743873.696819685\n",
            "INFO:PricePredictionExperiment_XGBRegressor:After reverse - price mean: 50743873.696819685\n",
            "2025-06-01 00:14:24,449 - PricePredictionExperiment_XGBRegressor - WARNING - Unrealistic price values detected: min=100000.00, max=2893991100.00\n",
            "WARNING:PricePredictionExperiment_XGBRegressor:Unrealistic price values detected: min=100000.00, max=2893991100.00\n",
            "2025-06-01 00:14:24,507 - PricePredictionExperiment_XGBRegressor - INFO - Fold 2 - Log scale: R²=0.9757, RMSE=0.0144, SMAPE=1.1794%\n",
            "Original scale: R²=0.8365, RMSE=60097669.4950, SMAPE=10.8501%\n",
            "INFO:PricePredictionExperiment_XGBRegressor:Fold 2 - Log scale: R²=0.9757, RMSE=0.0144, SMAPE=1.1794%\n",
            "Original scale: R²=0.8365, RMSE=60097669.4950, SMAPE=10.8501%\n",
            "\u001b[32m[I 2025-06-01 00:14:24,510]\u001b[0m Trial 13 finished with value: 0.9706104953195824 and parameters: {'model__n_estimators': 701, 'model__max_depth': 6, 'model__learning_rate': 0.04123330622526299, 'model__subsample': 0.9239067886267198}. Best is trial 13 with value: 0.9706104953195824.\u001b[0m\n"
          ]
        },
        {
          "output_type": "stream",
          "name": "stdout",
          "text": [
            "CV stratified bins counts: [6670 6663 6667]\n",
            "Running 3-fold CV on 20000 samples\n",
            " Fold 0: train_size=13333 val_size=6667\n"
          ]
        },
        {
          "output_type": "stream",
          "name": "stderr",
          "text": [
            "2025-06-01 00:14:31,708 - PricePredictionExperiment_XGBRegressor - INFO - Before reverse - price mean: 0.6131231136815939\n",
            "INFO:PricePredictionExperiment_XGBRegressor:Before reverse - price mean: 0.6131231136815939\n",
            "2025-06-01 00:14:31,713 - PricePredictionExperiment_XGBRegressor - INFO - After reverse - price mean: 46994876.19484026\n",
            "INFO:PricePredictionExperiment_XGBRegressor:After reverse - price mean: 46994876.19484026\n",
            "2025-06-01 00:14:31,715 - PricePredictionExperiment_XGBRegressor - WARNING - Unrealistic price values detected: min=1640.00, max=3119770000.00\n",
            "WARNING:PricePredictionExperiment_XGBRegressor:Unrealistic price values detected: min=1640.00, max=3119770000.00\n",
            "2025-06-01 00:14:31,763 - PricePredictionExperiment_XGBRegressor - INFO - Fold 0 - Log scale: R²=0.9715, RMSE=0.0154, SMAPE=1.1984%\n",
            "Original scale: R²=0.8714, RMSE=48908185.2073, SMAPE=10.8572%\n",
            "INFO:PricePredictionExperiment_XGBRegressor:Fold 0 - Log scale: R²=0.9715, RMSE=0.0154, SMAPE=1.1984%\n",
            "Original scale: R²=0.8714, RMSE=48908185.2073, SMAPE=10.8572%\n"
          ]
        },
        {
          "output_type": "stream",
          "name": "stdout",
          "text": [
            " Fold 1: train_size=13333 val_size=6667\n"
          ]
        },
        {
          "output_type": "stream",
          "name": "stderr",
          "text": [
            "2025-06-01 00:14:37,253 - PricePredictionExperiment_XGBRegressor - INFO - Before reverse - price mean: 0.6141490354414657\n",
            "INFO:PricePredictionExperiment_XGBRegressor:Before reverse - price mean: 0.6141490354414657\n",
            "2025-06-01 00:14:37,258 - PricePredictionExperiment_XGBRegressor - INFO - After reverse - price mean: 50439669.25198739\n",
            "INFO:PricePredictionExperiment_XGBRegressor:After reverse - price mean: 50439669.25198739\n",
            "2025-06-01 00:14:37,262 - PricePredictionExperiment_XGBRegressor - WARNING - Unrealistic price values detected: min=1000.00, max=4988000000.00\n",
            "WARNING:PricePredictionExperiment_XGBRegressor:Unrealistic price values detected: min=1000.00, max=4988000000.00\n",
            "2025-06-01 00:14:37,322 - PricePredictionExperiment_XGBRegressor - INFO - Fold 1 - Log scale: R²=0.9646, RMSE=0.0172, SMAPE=1.2154%\n",
            "Original scale: R²=0.7215, RMSE=87556741.6751, SMAPE=10.8822%\n",
            "INFO:PricePredictionExperiment_XGBRegressor:Fold 1 - Log scale: R²=0.9646, RMSE=0.0172, SMAPE=1.2154%\n",
            "Original scale: R²=0.7215, RMSE=87556741.6751, SMAPE=10.8822%\n"
          ]
        },
        {
          "output_type": "stream",
          "name": "stdout",
          "text": [
            " Fold 2: train_size=13334 val_size=6666\n"
          ]
        },
        {
          "output_type": "stream",
          "name": "stderr",
          "text": [
            "2025-06-01 00:14:44,467 - PricePredictionExperiment_XGBRegressor - INFO - Before reverse - price mean: 0.6143135310974003\n",
            "INFO:PricePredictionExperiment_XGBRegressor:Before reverse - price mean: 0.6143135310974003\n",
            "2025-06-01 00:14:44,471 - PricePredictionExperiment_XGBRegressor - INFO - After reverse - price mean: 50743873.696819685\n",
            "INFO:PricePredictionExperiment_XGBRegressor:After reverse - price mean: 50743873.696819685\n",
            "2025-06-01 00:14:44,474 - PricePredictionExperiment_XGBRegressor - WARNING - Unrealistic price values detected: min=100000.00, max=2893991100.00\n",
            "WARNING:PricePredictionExperiment_XGBRegressor:Unrealistic price values detected: min=100000.00, max=2893991100.00\n",
            "2025-06-01 00:14:44,524 - PricePredictionExperiment_XGBRegressor - INFO - Fold 2 - Log scale: R²=0.9758, RMSE=0.0144, SMAPE=1.1736%\n",
            "Original scale: R²=0.8330, RMSE=60747022.8141, SMAPE=10.8113%\n",
            "INFO:PricePredictionExperiment_XGBRegressor:Fold 2 - Log scale: R²=0.9758, RMSE=0.0144, SMAPE=1.1736%\n",
            "Original scale: R²=0.8330, RMSE=60747022.8141, SMAPE=10.8113%\n",
            "\u001b[32m[I 2025-06-01 00:14:44,529]\u001b[0m Trial 14 finished with value: 0.9706195200775939 and parameters: {'model__n_estimators': 682, 'model__max_depth': 6, 'model__learning_rate': 0.027523939560867343, 'model__subsample': 0.9071814739997703}. Best is trial 14 with value: 0.9706195200775939.\u001b[0m\n"
          ]
        },
        {
          "output_type": "stream",
          "name": "stdout",
          "text": [
            "CV stratified bins counts: [6670 6663 6667]\n",
            "Running 3-fold CV on 20000 samples\n",
            " Fold 0: train_size=13333 val_size=6667\n"
          ]
        },
        {
          "output_type": "stream",
          "name": "stderr",
          "text": [
            "2025-06-01 00:14:49,850 - PricePredictionExperiment_XGBRegressor - INFO - Before reverse - price mean: 0.6131231136815939\n",
            "INFO:PricePredictionExperiment_XGBRegressor:Before reverse - price mean: 0.6131231136815939\n",
            "2025-06-01 00:14:49,855 - PricePredictionExperiment_XGBRegressor - INFO - After reverse - price mean: 46994876.19484026\n",
            "INFO:PricePredictionExperiment_XGBRegressor:After reverse - price mean: 46994876.19484026\n",
            "2025-06-01 00:14:49,858 - PricePredictionExperiment_XGBRegressor - WARNING - Unrealistic price values detected: min=1640.00, max=3119770000.00\n",
            "WARNING:PricePredictionExperiment_XGBRegressor:Unrealistic price values detected: min=1640.00, max=3119770000.00\n",
            "2025-06-01 00:14:49,921 - PricePredictionExperiment_XGBRegressor - INFO - Fold 0 - Log scale: R²=0.9710, RMSE=0.0156, SMAPE=1.2096%\n",
            "Original scale: R²=0.8694, RMSE=49272639.7843, SMAPE=10.9672%\n",
            "INFO:PricePredictionExperiment_XGBRegressor:Fold 0 - Log scale: R²=0.9710, RMSE=0.0156, SMAPE=1.2096%\n",
            "Original scale: R²=0.8694, RMSE=49272639.7843, SMAPE=10.9672%\n"
          ]
        },
        {
          "output_type": "stream",
          "name": "stdout",
          "text": [
            " Fold 1: train_size=13333 val_size=6667\n"
          ]
        },
        {
          "output_type": "stream",
          "name": "stderr",
          "text": [
            "2025-06-01 00:14:56,135 - PricePredictionExperiment_XGBRegressor - INFO - Before reverse - price mean: 0.6141490354414657\n",
            "INFO:PricePredictionExperiment_XGBRegressor:Before reverse - price mean: 0.6141490354414657\n",
            "2025-06-01 00:14:56,140 - PricePredictionExperiment_XGBRegressor - INFO - After reverse - price mean: 50439669.25198739\n",
            "INFO:PricePredictionExperiment_XGBRegressor:After reverse - price mean: 50439669.25198739\n",
            "2025-06-01 00:14:56,142 - PricePredictionExperiment_XGBRegressor - WARNING - Unrealistic price values detected: min=1000.00, max=4988000000.00\n",
            "WARNING:PricePredictionExperiment_XGBRegressor:Unrealistic price values detected: min=1000.00, max=4988000000.00\n",
            "2025-06-01 00:14:56,208 - PricePredictionExperiment_XGBRegressor - INFO - Fold 1 - Log scale: R²=0.9647, RMSE=0.0172, SMAPE=1.2239%\n",
            "Original scale: R²=0.7199, RMSE=87815116.8760, SMAPE=10.9672%\n",
            "INFO:PricePredictionExperiment_XGBRegressor:Fold 1 - Log scale: R²=0.9647, RMSE=0.0172, SMAPE=1.2239%\n",
            "Original scale: R²=0.7199, RMSE=87815116.8760, SMAPE=10.9672%\n"
          ]
        },
        {
          "output_type": "stream",
          "name": "stdout",
          "text": [
            " Fold 2: train_size=13334 val_size=6666\n"
          ]
        },
        {
          "output_type": "stream",
          "name": "stderr",
          "text": [
            "2025-06-01 00:15:01,313 - PricePredictionExperiment_XGBRegressor - INFO - Before reverse - price mean: 0.6143135310974003\n",
            "INFO:PricePredictionExperiment_XGBRegressor:Before reverse - price mean: 0.6143135310974003\n",
            "2025-06-01 00:15:01,318 - PricePredictionExperiment_XGBRegressor - INFO - After reverse - price mean: 50743873.696819685\n",
            "INFO:PricePredictionExperiment_XGBRegressor:After reverse - price mean: 50743873.696819685\n",
            "2025-06-01 00:15:01,320 - PricePredictionExperiment_XGBRegressor - WARNING - Unrealistic price values detected: min=100000.00, max=2893991100.00\n",
            "WARNING:PricePredictionExperiment_XGBRegressor:Unrealistic price values detected: min=100000.00, max=2893991100.00\n",
            "2025-06-01 00:15:01,368 - PricePredictionExperiment_XGBRegressor - INFO - Fold 2 - Log scale: R²=0.9758, RMSE=0.0144, SMAPE=1.1774%\n",
            "Original scale: R²=0.8304, RMSE=61212573.8012, SMAPE=10.8577%\n",
            "INFO:PricePredictionExperiment_XGBRegressor:Fold 2 - Log scale: R²=0.9758, RMSE=0.0144, SMAPE=1.1774%\n",
            "Original scale: R²=0.8304, RMSE=61212573.8012, SMAPE=10.8577%\n",
            "\u001b[32m[I 2025-06-01 00:15:01,376]\u001b[0m Trial 15 finished with value: 0.9704780948446148 and parameters: {'model__n_estimators': 595, 'model__max_depth': 6, 'model__learning_rate': 0.02648870830980326, 'model__subsample': 0.9541078543126413}. Best is trial 14 with value: 0.9706195200775939.\u001b[0m\n"
          ]
        },
        {
          "output_type": "stream",
          "name": "stdout",
          "text": [
            "CV stratified bins counts: [6670 6663 6667]\n",
            "Running 3-fold CV on 20000 samples\n",
            " Fold 0: train_size=13333 val_size=6667\n"
          ]
        },
        {
          "output_type": "stream",
          "name": "stderr",
          "text": [
            "2025-06-01 00:15:08,004 - PricePredictionExperiment_XGBRegressor - INFO - Before reverse - price mean: 0.6131231136815939\n",
            "INFO:PricePredictionExperiment_XGBRegressor:Before reverse - price mean: 0.6131231136815939\n",
            "2025-06-01 00:15:08,011 - PricePredictionExperiment_XGBRegressor - INFO - After reverse - price mean: 46994876.19484026\n",
            "INFO:PricePredictionExperiment_XGBRegressor:After reverse - price mean: 46994876.19484026\n",
            "2025-06-01 00:15:08,013 - PricePredictionExperiment_XGBRegressor - WARNING - Unrealistic price values detected: min=1640.00, max=3119770000.00\n",
            "WARNING:PricePredictionExperiment_XGBRegressor:Unrealistic price values detected: min=1640.00, max=3119770000.00\n",
            "2025-06-01 00:15:08,066 - PricePredictionExperiment_XGBRegressor - INFO - Fold 0 - Log scale: R²=0.9714, RMSE=0.0155, SMAPE=1.1949%\n",
            "Original scale: R²=0.8775, RMSE=47726977.4740, SMAPE=10.8089%\n",
            "INFO:PricePredictionExperiment_XGBRegressor:Fold 0 - Log scale: R²=0.9714, RMSE=0.0155, SMAPE=1.1949%\n",
            "Original scale: R²=0.8775, RMSE=47726977.4740, SMAPE=10.8089%\n"
          ]
        },
        {
          "output_type": "stream",
          "name": "stdout",
          "text": [
            " Fold 1: train_size=13333 val_size=6667\n"
          ]
        },
        {
          "output_type": "stream",
          "name": "stderr",
          "text": [
            "2025-06-01 00:15:14,804 - PricePredictionExperiment_XGBRegressor - INFO - Before reverse - price mean: 0.6141490354414657\n",
            "INFO:PricePredictionExperiment_XGBRegressor:Before reverse - price mean: 0.6141490354414657\n",
            "2025-06-01 00:15:14,809 - PricePredictionExperiment_XGBRegressor - INFO - After reverse - price mean: 50439669.25198739\n",
            "INFO:PricePredictionExperiment_XGBRegressor:After reverse - price mean: 50439669.25198739\n",
            "2025-06-01 00:15:14,811 - PricePredictionExperiment_XGBRegressor - WARNING - Unrealistic price values detected: min=1000.00, max=4988000000.00\n",
            "WARNING:PricePredictionExperiment_XGBRegressor:Unrealistic price values detected: min=1000.00, max=4988000000.00\n",
            "2025-06-01 00:15:14,858 - PricePredictionExperiment_XGBRegressor - INFO - Fold 1 - Log scale: R²=0.9645, RMSE=0.0172, SMAPE=1.2179%\n",
            "Original scale: R²=0.7187, RMSE=88007407.8306, SMAPE=10.9037%\n",
            "INFO:PricePredictionExperiment_XGBRegressor:Fold 1 - Log scale: R²=0.9645, RMSE=0.0172, SMAPE=1.2179%\n",
            "Original scale: R²=0.7187, RMSE=88007407.8306, SMAPE=10.9037%\n"
          ]
        },
        {
          "output_type": "stream",
          "name": "stdout",
          "text": [
            " Fold 2: train_size=13334 val_size=6666\n"
          ]
        },
        {
          "output_type": "stream",
          "name": "stderr",
          "text": [
            "2025-06-01 00:15:22,234 - PricePredictionExperiment_XGBRegressor - INFO - Before reverse - price mean: 0.6143135310974003\n",
            "INFO:PricePredictionExperiment_XGBRegressor:Before reverse - price mean: 0.6143135310974003\n",
            "2025-06-01 00:15:22,242 - PricePredictionExperiment_XGBRegressor - INFO - After reverse - price mean: 50743873.696819685\n",
            "INFO:PricePredictionExperiment_XGBRegressor:After reverse - price mean: 50743873.696819685\n",
            "2025-06-01 00:15:22,248 - PricePredictionExperiment_XGBRegressor - WARNING - Unrealistic price values detected: min=100000.00, max=2893991100.00\n",
            "WARNING:PricePredictionExperiment_XGBRegressor:Unrealistic price values detected: min=100000.00, max=2893991100.00\n",
            "2025-06-01 00:15:22,319 - PricePredictionExperiment_XGBRegressor - INFO - Fold 2 - Log scale: R²=0.9762, RMSE=0.0143, SMAPE=1.1719%\n",
            "Original scale: R²=0.8409, RMSE=59283080.8290, SMAPE=10.8065%\n",
            "INFO:PricePredictionExperiment_XGBRegressor:Fold 2 - Log scale: R²=0.9762, RMSE=0.0143, SMAPE=1.1719%\n",
            "Original scale: R²=0.8409, RMSE=59283080.8290, SMAPE=10.8065%\n",
            "\u001b[32m[I 2025-06-01 00:15:22,322]\u001b[0m Trial 16 finished with value: 0.970722224282396 and parameters: {'model__n_estimators': 745, 'model__max_depth': 6, 'model__learning_rate': 0.031723239114592294, 'model__subsample': 0.89965363135634}. Best is trial 16 with value: 0.970722224282396.\u001b[0m\n"
          ]
        },
        {
          "output_type": "stream",
          "name": "stdout",
          "text": [
            "CV stratified bins counts: [6670 6663 6667]\n",
            "Running 3-fold CV on 20000 samples\n",
            " Fold 0: train_size=13333 val_size=6667\n"
          ]
        },
        {
          "output_type": "stream",
          "name": "stderr",
          "text": [
            "2025-06-01 00:15:29,682 - PricePredictionExperiment_XGBRegressor - INFO - Before reverse - price mean: 0.6131231136815939\n",
            "INFO:PricePredictionExperiment_XGBRegressor:Before reverse - price mean: 0.6131231136815939\n",
            "2025-06-01 00:15:29,691 - PricePredictionExperiment_XGBRegressor - INFO - After reverse - price mean: 46994876.19484026\n",
            "INFO:PricePredictionExperiment_XGBRegressor:After reverse - price mean: 46994876.19484026\n",
            "2025-06-01 00:15:29,698 - PricePredictionExperiment_XGBRegressor - WARNING - Unrealistic price values detected: min=1640.00, max=3119770000.00\n",
            "WARNING:PricePredictionExperiment_XGBRegressor:Unrealistic price values detected: min=1640.00, max=3119770000.00\n",
            "2025-06-01 00:15:29,748 - PricePredictionExperiment_XGBRegressor - INFO - Fold 0 - Log scale: R²=0.9714, RMSE=0.0155, SMAPE=1.1994%\n",
            "Original scale: R²=0.8680, RMSE=49539622.4939, SMAPE=10.8604%\n",
            "INFO:PricePredictionExperiment_XGBRegressor:Fold 0 - Log scale: R²=0.9714, RMSE=0.0155, SMAPE=1.1994%\n",
            "Original scale: R²=0.8680, RMSE=49539622.4939, SMAPE=10.8604%\n"
          ]
        },
        {
          "output_type": "stream",
          "name": "stdout",
          "text": [
            " Fold 1: train_size=13333 val_size=6667\n"
          ]
        },
        {
          "output_type": "stream",
          "name": "stderr",
          "text": [
            "2025-06-01 00:15:37,204 - PricePredictionExperiment_XGBRegressor - INFO - Before reverse - price mean: 0.6141490354414657\n",
            "INFO:PricePredictionExperiment_XGBRegressor:Before reverse - price mean: 0.6141490354414657\n",
            "2025-06-01 00:15:37,210 - PricePredictionExperiment_XGBRegressor - INFO - After reverse - price mean: 50439669.25198739\n",
            "INFO:PricePredictionExperiment_XGBRegressor:After reverse - price mean: 50439669.25198739\n",
            "2025-06-01 00:15:37,212 - PricePredictionExperiment_XGBRegressor - WARNING - Unrealistic price values detected: min=1000.00, max=4988000000.00\n",
            "WARNING:PricePredictionExperiment_XGBRegressor:Unrealistic price values detected: min=1000.00, max=4988000000.00\n",
            "2025-06-01 00:15:37,275 - PricePredictionExperiment_XGBRegressor - INFO - Fold 1 - Log scale: R²=0.9645, RMSE=0.0172, SMAPE=1.2129%\n",
            "Original scale: R²=0.7309, RMSE=86072230.7663, SMAPE=10.8652%\n",
            "INFO:PricePredictionExperiment_XGBRegressor:Fold 1 - Log scale: R²=0.9645, RMSE=0.0172, SMAPE=1.2129%\n",
            "Original scale: R²=0.7309, RMSE=86072230.7663, SMAPE=10.8652%\n"
          ]
        },
        {
          "output_type": "stream",
          "name": "stdout",
          "text": [
            " Fold 2: train_size=13334 val_size=6666\n"
          ]
        },
        {
          "output_type": "stream",
          "name": "stderr",
          "text": [
            "2025-06-01 00:15:43,184 - PricePredictionExperiment_XGBRegressor - INFO - Before reverse - price mean: 0.6143135310974003\n",
            "INFO:PricePredictionExperiment_XGBRegressor:Before reverse - price mean: 0.6143135310974003\n",
            "2025-06-01 00:15:43,188 - PricePredictionExperiment_XGBRegressor - INFO - After reverse - price mean: 50743873.696819685\n",
            "INFO:PricePredictionExperiment_XGBRegressor:After reverse - price mean: 50743873.696819685\n",
            "2025-06-01 00:15:43,190 - PricePredictionExperiment_XGBRegressor - WARNING - Unrealistic price values detected: min=100000.00, max=2893991100.00\n",
            "WARNING:PricePredictionExperiment_XGBRegressor:Unrealistic price values detected: min=100000.00, max=2893991100.00\n",
            "2025-06-01 00:15:43,243 - PricePredictionExperiment_XGBRegressor - INFO - Fold 2 - Log scale: R²=0.9761, RMSE=0.0143, SMAPE=1.1607%\n",
            "Original scale: R²=0.8243, RMSE=62315690.2526, SMAPE=10.6849%\n",
            "INFO:PricePredictionExperiment_XGBRegressor:Fold 2 - Log scale: R²=0.9761, RMSE=0.0143, SMAPE=1.1607%\n",
            "Original scale: R²=0.8243, RMSE=62315690.2526, SMAPE=10.6849%\n",
            "\u001b[32m[I 2025-06-01 00:15:43,247]\u001b[0m Trial 17 finished with value: 0.9706755327129714 and parameters: {'model__n_estimators': 757, 'model__max_depth': 6, 'model__learning_rate': 0.030396650570737854, 'model__subsample': 0.8058666132992265}. Best is trial 16 with value: 0.970722224282396.\u001b[0m\n"
          ]
        },
        {
          "output_type": "stream",
          "name": "stdout",
          "text": [
            "CV stratified bins counts: [6670 6663 6667]\n",
            "Running 3-fold CV on 20000 samples\n",
            " Fold 0: train_size=13333 val_size=6667\n"
          ]
        },
        {
          "output_type": "stream",
          "name": "stderr",
          "text": [
            "2025-06-01 00:15:48,114 - PricePredictionExperiment_XGBRegressor - INFO - Before reverse - price mean: 0.6131231136815939\n",
            "INFO:PricePredictionExperiment_XGBRegressor:Before reverse - price mean: 0.6131231136815939\n",
            "2025-06-01 00:15:48,119 - PricePredictionExperiment_XGBRegressor - INFO - After reverse - price mean: 46994876.19484026\n",
            "INFO:PricePredictionExperiment_XGBRegressor:After reverse - price mean: 46994876.19484026\n",
            "2025-06-01 00:15:48,122 - PricePredictionExperiment_XGBRegressor - WARNING - Unrealistic price values detected: min=1640.00, max=3119770000.00\n",
            "WARNING:PricePredictionExperiment_XGBRegressor:Unrealistic price values detected: min=1640.00, max=3119770000.00\n",
            "2025-06-01 00:15:48,192 - PricePredictionExperiment_XGBRegressor - INFO - Fold 0 - Log scale: R²=0.9712, RMSE=0.0155, SMAPE=1.2326%\n",
            "Original scale: R²=0.8734, RMSE=48521950.5685, SMAPE=11.1786%\n",
            "INFO:PricePredictionExperiment_XGBRegressor:Fold 0 - Log scale: R²=0.9712, RMSE=0.0155, SMAPE=1.2326%\n",
            "Original scale: R²=0.8734, RMSE=48521950.5685, SMAPE=11.1786%\n"
          ]
        },
        {
          "output_type": "stream",
          "name": "stdout",
          "text": [
            " Fold 1: train_size=13333 val_size=6667\n"
          ]
        },
        {
          "output_type": "stream",
          "name": "stderr",
          "text": [
            "2025-06-01 00:15:53,906 - PricePredictionExperiment_XGBRegressor - INFO - Before reverse - price mean: 0.6141490354414657\n",
            "INFO:PricePredictionExperiment_XGBRegressor:Before reverse - price mean: 0.6141490354414657\n",
            "2025-06-01 00:15:53,911 - PricePredictionExperiment_XGBRegressor - INFO - After reverse - price mean: 50439669.25198739\n",
            "INFO:PricePredictionExperiment_XGBRegressor:After reverse - price mean: 50439669.25198739\n",
            "2025-06-01 00:15:53,915 - PricePredictionExperiment_XGBRegressor - WARNING - Unrealistic price values detected: min=1000.00, max=4988000000.00\n",
            "WARNING:PricePredictionExperiment_XGBRegressor:Unrealistic price values detected: min=1000.00, max=4988000000.00\n",
            "2025-06-01 00:15:53,963 - PricePredictionExperiment_XGBRegressor - INFO - Fold 1 - Log scale: R²=0.9649, RMSE=0.0171, SMAPE=1.2396%\n",
            "Original scale: R²=0.7269, RMSE=86711372.2642, SMAPE=11.1552%\n",
            "INFO:PricePredictionExperiment_XGBRegressor:Fold 1 - Log scale: R²=0.9649, RMSE=0.0171, SMAPE=1.2396%\n",
            "Original scale: R²=0.7269, RMSE=86711372.2642, SMAPE=11.1552%\n"
          ]
        },
        {
          "output_type": "stream",
          "name": "stdout",
          "text": [
            " Fold 2: train_size=13334 val_size=6666\n"
          ]
        },
        {
          "output_type": "stream",
          "name": "stderr",
          "text": [
            "2025-06-01 00:15:58,460 - PricePredictionExperiment_XGBRegressor - INFO - Before reverse - price mean: 0.6143135310974003\n",
            "INFO:PricePredictionExperiment_XGBRegressor:Before reverse - price mean: 0.6143135310974003\n",
            "2025-06-01 00:15:58,466 - PricePredictionExperiment_XGBRegressor - INFO - After reverse - price mean: 50743873.696819685\n",
            "INFO:PricePredictionExperiment_XGBRegressor:After reverse - price mean: 50743873.696819685\n",
            "2025-06-01 00:15:58,468 - PricePredictionExperiment_XGBRegressor - WARNING - Unrealistic price values detected: min=100000.00, max=2893991100.00\n",
            "WARNING:PricePredictionExperiment_XGBRegressor:Unrealistic price values detected: min=100000.00, max=2893991100.00\n",
            "2025-06-01 00:15:58,529 - PricePredictionExperiment_XGBRegressor - INFO - Fold 2 - Log scale: R²=0.9762, RMSE=0.0142, SMAPE=1.1903%\n",
            "Original scale: R²=0.8408, RMSE=59305770.5377, SMAPE=10.9875%\n",
            "INFO:PricePredictionExperiment_XGBRegressor:Fold 2 - Log scale: R²=0.9762, RMSE=0.0142, SMAPE=1.1903%\n",
            "Original scale: R²=0.8408, RMSE=59305770.5377, SMAPE=10.9875%\n",
            "\u001b[32m[I 2025-06-01 00:15:58,534]\u001b[0m Trial 18 finished with value: 0.9707760664502252 and parameters: {'model__n_estimators': 760, 'model__max_depth': 5, 'model__learning_rate': 0.03152711021841852, 'model__subsample': 0.806873191581336}. Best is trial 18 with value: 0.9707760664502252.\u001b[0m\n"
          ]
        },
        {
          "output_type": "stream",
          "name": "stdout",
          "text": [
            "CV stratified bins counts: [6670 6663 6667]\n",
            "Running 3-fold CV on 20000 samples\n",
            " Fold 0: train_size=13333 val_size=6667\n"
          ]
        },
        {
          "output_type": "stream",
          "name": "stderr",
          "text": [
            "2025-06-01 00:16:05,404 - PricePredictionExperiment_XGBRegressor - INFO - Before reverse - price mean: 0.6131231136815939\n",
            "INFO:PricePredictionExperiment_XGBRegressor:Before reverse - price mean: 0.6131231136815939\n",
            "2025-06-01 00:16:05,410 - PricePredictionExperiment_XGBRegressor - INFO - After reverse - price mean: 46994876.19484026\n",
            "INFO:PricePredictionExperiment_XGBRegressor:After reverse - price mean: 46994876.19484026\n",
            "2025-06-01 00:16:05,412 - PricePredictionExperiment_XGBRegressor - WARNING - Unrealistic price values detected: min=1640.00, max=3119770000.00\n",
            "WARNING:PricePredictionExperiment_XGBRegressor:Unrealistic price values detected: min=1640.00, max=3119770000.00\n",
            "2025-06-01 00:16:05,460 - PricePredictionExperiment_XGBRegressor - INFO - Fold 0 - Log scale: R²=0.9710, RMSE=0.0156, SMAPE=1.2331%\n",
            "Original scale: R²=0.8689, RMSE=49383509.2357, SMAPE=11.1886%\n",
            "INFO:PricePredictionExperiment_XGBRegressor:Fold 0 - Log scale: R²=0.9710, RMSE=0.0156, SMAPE=1.2331%\n",
            "Original scale: R²=0.8689, RMSE=49383509.2357, SMAPE=11.1886%\n"
          ]
        },
        {
          "output_type": "stream",
          "name": "stdout",
          "text": [
            " Fold 1: train_size=13333 val_size=6667\n"
          ]
        },
        {
          "output_type": "stream",
          "name": "stderr",
          "text": [
            "2025-06-01 00:16:10,572 - PricePredictionExperiment_XGBRegressor - INFO - Before reverse - price mean: 0.6141490354414657\n",
            "INFO:PricePredictionExperiment_XGBRegressor:Before reverse - price mean: 0.6141490354414657\n",
            "2025-06-01 00:16:10,579 - PricePredictionExperiment_XGBRegressor - INFO - After reverse - price mean: 50439669.25198739\n",
            "INFO:PricePredictionExperiment_XGBRegressor:After reverse - price mean: 50439669.25198739\n",
            "2025-06-01 00:16:10,581 - PricePredictionExperiment_XGBRegressor - WARNING - Unrealistic price values detected: min=1000.00, max=4988000000.00\n",
            "WARNING:PricePredictionExperiment_XGBRegressor:Unrealistic price values detected: min=1000.00, max=4988000000.00\n",
            "2025-06-01 00:16:10,632 - PricePredictionExperiment_XGBRegressor - INFO - Fold 1 - Log scale: R²=0.9647, RMSE=0.0172, SMAPE=1.2386%\n",
            "Original scale: R²=0.7261, RMSE=86836753.5406, SMAPE=11.1486%\n",
            "INFO:PricePredictionExperiment_XGBRegressor:Fold 1 - Log scale: R²=0.9647, RMSE=0.0172, SMAPE=1.2386%\n",
            "Original scale: R²=0.7261, RMSE=86836753.5406, SMAPE=11.1486%\n"
          ]
        },
        {
          "output_type": "stream",
          "name": "stdout",
          "text": [
            " Fold 2: train_size=13334 val_size=6666\n"
          ]
        },
        {
          "output_type": "stream",
          "name": "stderr",
          "text": [
            "2025-06-01 00:16:16,988 - PricePredictionExperiment_XGBRegressor - INFO - Before reverse - price mean: 0.6143135310974003\n",
            "INFO:PricePredictionExperiment_XGBRegressor:Before reverse - price mean: 0.6143135310974003\n",
            "2025-06-01 00:16:16,996 - PricePredictionExperiment_XGBRegressor - INFO - After reverse - price mean: 50743873.696819685\n",
            "INFO:PricePredictionExperiment_XGBRegressor:After reverse - price mean: 50743873.696819685\n",
            "2025-06-01 00:16:16,998 - PricePredictionExperiment_XGBRegressor - WARNING - Unrealistic price values detected: min=100000.00, max=2893991100.00\n",
            "WARNING:PricePredictionExperiment_XGBRegressor:Unrealistic price values detected: min=100000.00, max=2893991100.00\n",
            "2025-06-01 00:16:17,056 - PricePredictionExperiment_XGBRegressor - INFO - Fold 2 - Log scale: R²=0.9758, RMSE=0.0144, SMAPE=1.1963%\n",
            "Original scale: R²=0.8403, RMSE=59403436.4085, SMAPE=11.0173%\n",
            "INFO:PricePredictionExperiment_XGBRegressor:Fold 2 - Log scale: R²=0.9758, RMSE=0.0144, SMAPE=1.1963%\n",
            "Original scale: R²=0.8403, RMSE=59403436.4085, SMAPE=11.0173%\n",
            "\u001b[32m[I 2025-06-01 00:16:17,061]\u001b[0m Trial 19 finished with value: 0.9704726397448376 and parameters: {'model__n_estimators': 858, 'model__max_depth': 5, 'model__learning_rate': 0.02053199211522254, 'model__subsample': 0.800622849813618}. Best is trial 18 with value: 0.9707760664502252.\u001b[0m\n"
          ]
        },
        {
          "output_type": "stream",
          "name": "stdout",
          "text": [
            "CV stratified bins counts: [6670 6663 6667]\n",
            "Running 3-fold CV on 20000 samples\n",
            " Fold 0: train_size=13333 val_size=6667\n"
          ]
        },
        {
          "output_type": "stream",
          "name": "stderr",
          "text": [
            "2025-06-01 00:16:21,940 - PricePredictionExperiment_XGBRegressor - INFO - Before reverse - price mean: 0.6131231136815939\n",
            "INFO:PricePredictionExperiment_XGBRegressor:Before reverse - price mean: 0.6131231136815939\n",
            "2025-06-01 00:16:21,946 - PricePredictionExperiment_XGBRegressor - INFO - After reverse - price mean: 46994876.19484026\n",
            "INFO:PricePredictionExperiment_XGBRegressor:After reverse - price mean: 46994876.19484026\n",
            "2025-06-01 00:16:21,948 - PricePredictionExperiment_XGBRegressor - WARNING - Unrealistic price values detected: min=1640.00, max=3119770000.00\n",
            "WARNING:PricePredictionExperiment_XGBRegressor:Unrealistic price values detected: min=1640.00, max=3119770000.00\n",
            "2025-06-01 00:16:22,000 - PricePredictionExperiment_XGBRegressor - INFO - Fold 0 - Log scale: R²=0.9713, RMSE=0.0155, SMAPE=1.2262%\n",
            "Original scale: R²=0.8641, RMSE=50268027.1539, SMAPE=11.1284%\n",
            "INFO:PricePredictionExperiment_XGBRegressor:Fold 0 - Log scale: R²=0.9713, RMSE=0.0155, SMAPE=1.2262%\n",
            "Original scale: R²=0.8641, RMSE=50268027.1539, SMAPE=11.1284%\n"
          ]
        },
        {
          "output_type": "stream",
          "name": "stdout",
          "text": [
            " Fold 1: train_size=13333 val_size=6667\n"
          ]
        },
        {
          "output_type": "stream",
          "name": "stderr",
          "text": [
            "2025-06-01 00:16:26,608 - PricePredictionExperiment_XGBRegressor - INFO - Before reverse - price mean: 0.6141490354414657\n",
            "INFO:PricePredictionExperiment_XGBRegressor:Before reverse - price mean: 0.6141490354414657\n",
            "2025-06-01 00:16:26,612 - PricePredictionExperiment_XGBRegressor - INFO - After reverse - price mean: 50439669.25198739\n",
            "INFO:PricePredictionExperiment_XGBRegressor:After reverse - price mean: 50439669.25198739\n",
            "2025-06-01 00:16:26,616 - PricePredictionExperiment_XGBRegressor - WARNING - Unrealistic price values detected: min=1000.00, max=4988000000.00\n",
            "WARNING:PricePredictionExperiment_XGBRegressor:Unrealistic price values detected: min=1000.00, max=4988000000.00\n",
            "2025-06-01 00:16:26,680 - PricePredictionExperiment_XGBRegressor - INFO - Fold 1 - Log scale: R²=0.9645, RMSE=0.0172, SMAPE=1.2412%\n",
            "Original scale: R²=0.7366, RMSE=85155963.5797, SMAPE=11.1727%\n",
            "INFO:PricePredictionExperiment_XGBRegressor:Fold 1 - Log scale: R²=0.9645, RMSE=0.0172, SMAPE=1.2412%\n",
            "Original scale: R²=0.7366, RMSE=85155963.5797, SMAPE=11.1727%\n"
          ]
        },
        {
          "output_type": "stream",
          "name": "stdout",
          "text": [
            " Fold 2: train_size=13334 val_size=6666\n"
          ]
        },
        {
          "output_type": "stream",
          "name": "stderr",
          "text": [
            "2025-06-01 00:16:32,717 - PricePredictionExperiment_XGBRegressor - INFO - Before reverse - price mean: 0.6143135310974003\n",
            "INFO:PricePredictionExperiment_XGBRegressor:Before reverse - price mean: 0.6143135310974003\n",
            "2025-06-01 00:16:32,723 - PricePredictionExperiment_XGBRegressor - INFO - After reverse - price mean: 50743873.696819685\n",
            "INFO:PricePredictionExperiment_XGBRegressor:After reverse - price mean: 50743873.696819685\n",
            "2025-06-01 00:16:32,725 - PricePredictionExperiment_XGBRegressor - WARNING - Unrealistic price values detected: min=100000.00, max=2893991100.00\n",
            "WARNING:PricePredictionExperiment_XGBRegressor:Unrealistic price values detected: min=100000.00, max=2893991100.00\n",
            "2025-06-01 00:16:32,777 - PricePredictionExperiment_XGBRegressor - INFO - Fold 2 - Log scale: R²=0.9763, RMSE=0.0142, SMAPE=1.1860%\n",
            "Original scale: R²=0.8466, RMSE=58220578.6487, SMAPE=10.9434%\n",
            "INFO:PricePredictionExperiment_XGBRegressor:Fold 2 - Log scale: R²=0.9763, RMSE=0.0142, SMAPE=1.1860%\n",
            "Original scale: R²=0.8466, RMSE=58220578.6487, SMAPE=10.9434%\n",
            "\u001b[32m[I 2025-06-01 00:16:32,780]\u001b[0m Trial 20 finished with value: 0.9707072670901354 and parameters: {'model__n_estimators': 767, 'model__max_depth': 5, 'model__learning_rate': 0.03215283617028638, 'model__subsample': 0.8331112562770755}. Best is trial 18 with value: 0.9707760664502252.\u001b[0m\n"
          ]
        },
        {
          "output_type": "stream",
          "name": "stdout",
          "text": [
            "CV stratified bins counts: [6670 6663 6667]\n",
            "Running 3-fold CV on 20000 samples\n",
            " Fold 0: train_size=13333 val_size=6667\n"
          ]
        },
        {
          "output_type": "stream",
          "name": "stderr",
          "text": [
            "2025-06-01 00:16:37,301 - PricePredictionExperiment_XGBRegressor - INFO - Before reverse - price mean: 0.6131231136815939\n",
            "INFO:PricePredictionExperiment_XGBRegressor:Before reverse - price mean: 0.6131231136815939\n",
            "2025-06-01 00:16:37,308 - PricePredictionExperiment_XGBRegressor - INFO - After reverse - price mean: 46994876.19484026\n",
            "INFO:PricePredictionExperiment_XGBRegressor:After reverse - price mean: 46994876.19484026\n",
            "2025-06-01 00:16:37,311 - PricePredictionExperiment_XGBRegressor - WARNING - Unrealistic price values detected: min=1640.00, max=3119770000.00\n",
            "WARNING:PricePredictionExperiment_XGBRegressor:Unrealistic price values detected: min=1640.00, max=3119770000.00\n",
            "2025-06-01 00:16:37,375 - PricePredictionExperiment_XGBRegressor - INFO - Fold 0 - Log scale: R²=0.9714, RMSE=0.0155, SMAPE=1.2299%\n",
            "Original scale: R²=0.8691, RMSE=49338209.8904, SMAPE=11.1503%\n",
            "INFO:PricePredictionExperiment_XGBRegressor:Fold 0 - Log scale: R²=0.9714, RMSE=0.0155, SMAPE=1.2299%\n",
            "Original scale: R²=0.8691, RMSE=49338209.8904, SMAPE=11.1503%\n"
          ]
        },
        {
          "output_type": "stream",
          "name": "stdout",
          "text": [
            " Fold 1: train_size=13333 val_size=6667\n"
          ]
        },
        {
          "output_type": "stream",
          "name": "stderr",
          "text": [
            "2025-06-01 00:16:42,302 - PricePredictionExperiment_XGBRegressor - INFO - Before reverse - price mean: 0.6141490354414657\n",
            "INFO:PricePredictionExperiment_XGBRegressor:Before reverse - price mean: 0.6141490354414657\n",
            "2025-06-01 00:16:42,310 - PricePredictionExperiment_XGBRegressor - INFO - After reverse - price mean: 50439669.25198739\n",
            "INFO:PricePredictionExperiment_XGBRegressor:After reverse - price mean: 50439669.25198739\n",
            "2025-06-01 00:16:42,313 - PricePredictionExperiment_XGBRegressor - WARNING - Unrealistic price values detected: min=1000.00, max=4988000000.00\n",
            "WARNING:PricePredictionExperiment_XGBRegressor:Unrealistic price values detected: min=1000.00, max=4988000000.00\n",
            "2025-06-01 00:16:42,370 - PricePredictionExperiment_XGBRegressor - INFO - Fold 1 - Log scale: R²=0.9646, RMSE=0.0172, SMAPE=1.2405%\n",
            "Original scale: R²=0.7285, RMSE=86453239.9211, SMAPE=11.1540%\n",
            "INFO:PricePredictionExperiment_XGBRegressor:Fold 1 - Log scale: R²=0.9646, RMSE=0.0172, SMAPE=1.2405%\n",
            "Original scale: R²=0.7285, RMSE=86453239.9211, SMAPE=11.1540%\n"
          ]
        },
        {
          "output_type": "stream",
          "name": "stdout",
          "text": [
            " Fold 2: train_size=13334 val_size=6666\n"
          ]
        },
        {
          "output_type": "stream",
          "name": "stderr",
          "text": [
            "2025-06-01 00:16:47,785 - PricePredictionExperiment_XGBRegressor - INFO - Before reverse - price mean: 0.6143135310974003\n",
            "INFO:PricePredictionExperiment_XGBRegressor:Before reverse - price mean: 0.6143135310974003\n",
            "2025-06-01 00:16:47,791 - PricePredictionExperiment_XGBRegressor - INFO - After reverse - price mean: 50743873.696819685\n",
            "INFO:PricePredictionExperiment_XGBRegressor:After reverse - price mean: 50743873.696819685\n",
            "2025-06-01 00:16:47,793 - PricePredictionExperiment_XGBRegressor - WARNING - Unrealistic price values detected: min=100000.00, max=2893991100.00\n",
            "WARNING:PricePredictionExperiment_XGBRegressor:Unrealistic price values detected: min=100000.00, max=2893991100.00\n",
            "2025-06-01 00:16:47,856 - PricePredictionExperiment_XGBRegressor - INFO - Fold 2 - Log scale: R²=0.9761, RMSE=0.0143, SMAPE=1.1872%\n",
            "Original scale: R²=0.8466, RMSE=58227763.7405, SMAPE=10.9519%\n",
            "INFO:PricePredictionExperiment_XGBRegressor:Fold 2 - Log scale: R²=0.9761, RMSE=0.0143, SMAPE=1.1872%\n",
            "Original scale: R²=0.8466, RMSE=58227763.7405, SMAPE=10.9519%\n",
            "\u001b[32m[I 2025-06-01 00:16:47,862]\u001b[0m Trial 21 finished with value: 0.9707241615461509 and parameters: {'model__n_estimators': 754, 'model__max_depth': 5, 'model__learning_rate': 0.033089360353652605, 'model__subsample': 0.8278794564033901}. Best is trial 18 with value: 0.9707760664502252.\u001b[0m\n"
          ]
        },
        {
          "output_type": "stream",
          "name": "stdout",
          "text": [
            "CV stratified bins counts: [6670 6663 6667]\n",
            "Running 3-fold CV on 20000 samples\n",
            " Fold 0: train_size=13333 val_size=6667\n"
          ]
        },
        {
          "output_type": "stream",
          "name": "stderr",
          "text": [
            "2025-06-01 00:16:52,805 - PricePredictionExperiment_XGBRegressor - INFO - Before reverse - price mean: 0.6131231136815939\n",
            "INFO:PricePredictionExperiment_XGBRegressor:Before reverse - price mean: 0.6131231136815939\n",
            "2025-06-01 00:16:52,810 - PricePredictionExperiment_XGBRegressor - INFO - After reverse - price mean: 46994876.19484026\n",
            "INFO:PricePredictionExperiment_XGBRegressor:After reverse - price mean: 46994876.19484026\n",
            "2025-06-01 00:16:52,811 - PricePredictionExperiment_XGBRegressor - WARNING - Unrealistic price values detected: min=1640.00, max=3119770000.00\n",
            "WARNING:PricePredictionExperiment_XGBRegressor:Unrealistic price values detected: min=1640.00, max=3119770000.00\n",
            "2025-06-01 00:16:52,860 - PricePredictionExperiment_XGBRegressor - INFO - Fold 0 - Log scale: R²=0.9716, RMSE=0.0154, SMAPE=1.2272%\n",
            "Original scale: R²=0.8703, RMSE=49117719.8917, SMAPE=11.1465%\n",
            "INFO:PricePredictionExperiment_XGBRegressor:Fold 0 - Log scale: R²=0.9716, RMSE=0.0154, SMAPE=1.2272%\n",
            "Original scale: R²=0.8703, RMSE=49117719.8917, SMAPE=11.1465%\n"
          ]
        },
        {
          "output_type": "stream",
          "name": "stdout",
          "text": [
            " Fold 1: train_size=13333 val_size=6667\n"
          ]
        },
        {
          "output_type": "stream",
          "name": "stderr",
          "text": [
            "2025-06-01 00:16:59,170 - PricePredictionExperiment_XGBRegressor - INFO - Before reverse - price mean: 0.6141490354414657\n",
            "INFO:PricePredictionExperiment_XGBRegressor:Before reverse - price mean: 0.6141490354414657\n",
            "2025-06-01 00:16:59,175 - PricePredictionExperiment_XGBRegressor - INFO - After reverse - price mean: 50439669.25198739\n",
            "INFO:PricePredictionExperiment_XGBRegressor:After reverse - price mean: 50439669.25198739\n",
            "2025-06-01 00:16:59,178 - PricePredictionExperiment_XGBRegressor - WARNING - Unrealistic price values detected: min=1000.00, max=4988000000.00\n",
            "WARNING:PricePredictionExperiment_XGBRegressor:Unrealistic price values detected: min=1000.00, max=4988000000.00\n",
            "2025-06-01 00:16:59,241 - PricePredictionExperiment_XGBRegressor - INFO - Fold 1 - Log scale: R²=0.9648, RMSE=0.0171, SMAPE=1.2411%\n",
            "Original scale: R²=0.7225, RMSE=87411605.7235, SMAPE=11.1645%\n",
            "INFO:PricePredictionExperiment_XGBRegressor:Fold 1 - Log scale: R²=0.9648, RMSE=0.0171, SMAPE=1.2411%\n",
            "Original scale: R²=0.7225, RMSE=87411605.7235, SMAPE=11.1645%\n"
          ]
        },
        {
          "output_type": "stream",
          "name": "stdout",
          "text": [
            " Fold 2: train_size=13334 val_size=6666\n"
          ]
        },
        {
          "output_type": "stream",
          "name": "stderr",
          "text": [
            "2025-06-01 00:17:04,086 - PricePredictionExperiment_XGBRegressor - INFO - Before reverse - price mean: 0.6143135310974003\n",
            "INFO:PricePredictionExperiment_XGBRegressor:Before reverse - price mean: 0.6143135310974003\n",
            "2025-06-01 00:17:04,091 - PricePredictionExperiment_XGBRegressor - INFO - After reverse - price mean: 50743873.696819685\n",
            "INFO:PricePredictionExperiment_XGBRegressor:After reverse - price mean: 50743873.696819685\n",
            "2025-06-01 00:17:04,093 - PricePredictionExperiment_XGBRegressor - WARNING - Unrealistic price values detected: min=100000.00, max=2893991100.00\n",
            "WARNING:PricePredictionExperiment_XGBRegressor:Unrealistic price values detected: min=100000.00, max=2893991100.00\n",
            "2025-06-01 00:17:04,142 - PricePredictionExperiment_XGBRegressor - INFO - Fold 2 - Log scale: R²=0.9763, RMSE=0.0142, SMAPE=1.1883%\n",
            "Original scale: R²=0.8386, RMSE=59720680.8417, SMAPE=10.9600%\n",
            "INFO:PricePredictionExperiment_XGBRegressor:Fold 2 - Log scale: R²=0.9763, RMSE=0.0142, SMAPE=1.1883%\n",
            "Original scale: R²=0.8386, RMSE=59720680.8417, SMAPE=10.9600%\n",
            "\u001b[32m[I 2025-06-01 00:17:04,148]\u001b[0m Trial 22 finished with value: 0.9708959093878092 and parameters: {'model__n_estimators': 826, 'model__max_depth': 5, 'model__learning_rate': 0.03366527106111325, 'model__subsample': 0.816404778676906}. Best is trial 22 with value: 0.9708959093878092.\u001b[0m\n"
          ]
        },
        {
          "output_type": "stream",
          "name": "stdout",
          "text": [
            "CV stratified bins counts: [6670 6663 6667]\n",
            "Running 3-fold CV on 20000 samples\n",
            " Fold 0: train_size=13333 val_size=6667\n"
          ]
        },
        {
          "output_type": "stream",
          "name": "stderr",
          "text": [
            "2025-06-01 00:17:10,227 - PricePredictionExperiment_XGBRegressor - INFO - Before reverse - price mean: 0.6131231136815939\n",
            "INFO:PricePredictionExperiment_XGBRegressor:Before reverse - price mean: 0.6131231136815939\n",
            "2025-06-01 00:17:10,232 - PricePredictionExperiment_XGBRegressor - INFO - After reverse - price mean: 46994876.19484026\n",
            "INFO:PricePredictionExperiment_XGBRegressor:After reverse - price mean: 46994876.19484026\n",
            "2025-06-01 00:17:10,233 - PricePredictionExperiment_XGBRegressor - WARNING - Unrealistic price values detected: min=1640.00, max=3119770000.00\n",
            "WARNING:PricePredictionExperiment_XGBRegressor:Unrealistic price values detected: min=1640.00, max=3119770000.00\n",
            "2025-06-01 00:17:10,293 - PricePredictionExperiment_XGBRegressor - INFO - Fold 0 - Log scale: R²=0.9714, RMSE=0.0155, SMAPE=1.2298%\n",
            "Original scale: R²=0.8735, RMSE=48500880.0181, SMAPE=11.1506%\n",
            "INFO:PricePredictionExperiment_XGBRegressor:Fold 0 - Log scale: R²=0.9714, RMSE=0.0155, SMAPE=1.2298%\n",
            "Original scale: R²=0.8735, RMSE=48500880.0181, SMAPE=11.1506%\n"
          ]
        },
        {
          "output_type": "stream",
          "name": "stdout",
          "text": [
            " Fold 1: train_size=13333 val_size=6667\n"
          ]
        },
        {
          "output_type": "stream",
          "name": "stderr",
          "text": [
            "2025-06-01 00:17:15,731 - PricePredictionExperiment_XGBRegressor - INFO - Before reverse - price mean: 0.6141490354414657\n",
            "INFO:PricePredictionExperiment_XGBRegressor:Before reverse - price mean: 0.6141490354414657\n",
            "2025-06-01 00:17:15,737 - PricePredictionExperiment_XGBRegressor - INFO - After reverse - price mean: 50439669.25198739\n",
            "INFO:PricePredictionExperiment_XGBRegressor:After reverse - price mean: 50439669.25198739\n",
            "2025-06-01 00:17:15,739 - PricePredictionExperiment_XGBRegressor - WARNING - Unrealistic price values detected: min=1000.00, max=4988000000.00\n",
            "WARNING:PricePredictionExperiment_XGBRegressor:Unrealistic price values detected: min=1000.00, max=4988000000.00\n",
            "2025-06-01 00:17:15,786 - PricePredictionExperiment_XGBRegressor - INFO - Fold 1 - Log scale: R²=0.9645, RMSE=0.0172, SMAPE=1.2403%\n",
            "Original scale: R²=0.7230, RMSE=87331180.9090, SMAPE=11.1532%\n",
            "INFO:PricePredictionExperiment_XGBRegressor:Fold 1 - Log scale: R²=0.9645, RMSE=0.0172, SMAPE=1.2403%\n",
            "Original scale: R²=0.7230, RMSE=87331180.9090, SMAPE=11.1532%\n"
          ]
        },
        {
          "output_type": "stream",
          "name": "stdout",
          "text": [
            " Fold 2: train_size=13334 val_size=6666\n"
          ]
        },
        {
          "output_type": "stream",
          "name": "stderr",
          "text": [
            "2025-06-01 00:17:20,683 - PricePredictionExperiment_XGBRegressor - INFO - Before reverse - price mean: 0.6143135310974003\n",
            "INFO:PricePredictionExperiment_XGBRegressor:Before reverse - price mean: 0.6143135310974003\n",
            "2025-06-01 00:17:20,688 - PricePredictionExperiment_XGBRegressor - INFO - After reverse - price mean: 50743873.696819685\n",
            "INFO:PricePredictionExperiment_XGBRegressor:After reverse - price mean: 50743873.696819685\n",
            "2025-06-01 00:17:20,690 - PricePredictionExperiment_XGBRegressor - WARNING - Unrealistic price values detected: min=100000.00, max=2893991100.00\n",
            "WARNING:PricePredictionExperiment_XGBRegressor:Unrealistic price values detected: min=100000.00, max=2893991100.00\n",
            "2025-06-01 00:17:20,755 - PricePredictionExperiment_XGBRegressor - INFO - Fold 2 - Log scale: R²=0.9761, RMSE=0.0143, SMAPE=1.1902%\n",
            "Original scale: R²=0.8371, RMSE=59995519.3921, SMAPE=10.9694%\n",
            "INFO:PricePredictionExperiment_XGBRegressor:Fold 2 - Log scale: R²=0.9761, RMSE=0.0143, SMAPE=1.1902%\n",
            "Original scale: R²=0.8371, RMSE=59995519.3921, SMAPE=10.9694%\n",
            "\u001b[32m[I 2025-06-01 00:17:20,763]\u001b[0m Trial 23 finished with value: 0.9706580608036192 and parameters: {'model__n_estimators': 847, 'model__max_depth': 5, 'model__learning_rate': 0.035081491991314606, 'model__subsample': 0.816963596915354}. Best is trial 22 with value: 0.9708959093878092.\u001b[0m\n"
          ]
        },
        {
          "output_type": "stream",
          "name": "stdout",
          "text": [
            "CV stratified bins counts: [6670 6663 6667]\n",
            "Running 3-fold CV on 20000 samples\n",
            " Fold 0: train_size=13333 val_size=6667\n"
          ]
        },
        {
          "output_type": "stream",
          "name": "stderr",
          "text": [
            "2025-06-01 00:17:27,347 - PricePredictionExperiment_XGBRegressor - INFO - Before reverse - price mean: 0.6131231136815939\n",
            "INFO:PricePredictionExperiment_XGBRegressor:Before reverse - price mean: 0.6131231136815939\n",
            "2025-06-01 00:17:27,353 - PricePredictionExperiment_XGBRegressor - INFO - After reverse - price mean: 46994876.19484026\n",
            "INFO:PricePredictionExperiment_XGBRegressor:After reverse - price mean: 46994876.19484026\n",
            "2025-06-01 00:17:27,354 - PricePredictionExperiment_XGBRegressor - WARNING - Unrealistic price values detected: min=1640.00, max=3119770000.00\n",
            "WARNING:PricePredictionExperiment_XGBRegressor:Unrealistic price values detected: min=1640.00, max=3119770000.00\n",
            "2025-06-01 00:17:27,418 - PricePredictionExperiment_XGBRegressor - INFO - Fold 0 - Log scale: R²=0.9712, RMSE=0.0155, SMAPE=1.2312%\n",
            "Original scale: R²=0.8719, RMSE=48802408.2988, SMAPE=11.1720%\n",
            "INFO:PricePredictionExperiment_XGBRegressor:Fold 0 - Log scale: R²=0.9712, RMSE=0.0155, SMAPE=1.2312%\n",
            "Original scale: R²=0.8719, RMSE=48802408.2988, SMAPE=11.1720%\n"
          ]
        },
        {
          "output_type": "stream",
          "name": "stdout",
          "text": [
            " Fold 1: train_size=13333 val_size=6667\n"
          ]
        },
        {
          "output_type": "stream",
          "name": "stderr",
          "text": [
            "2025-06-01 00:17:33,310 - PricePredictionExperiment_XGBRegressor - INFO - Before reverse - price mean: 0.6141490354414657\n",
            "INFO:PricePredictionExperiment_XGBRegressor:Before reverse - price mean: 0.6141490354414657\n",
            "2025-06-01 00:17:33,316 - PricePredictionExperiment_XGBRegressor - INFO - After reverse - price mean: 50439669.25198739\n",
            "INFO:PricePredictionExperiment_XGBRegressor:After reverse - price mean: 50439669.25198739\n",
            "2025-06-01 00:17:33,318 - PricePredictionExperiment_XGBRegressor - WARNING - Unrealistic price values detected: min=1000.00, max=4988000000.00\n",
            "WARNING:PricePredictionExperiment_XGBRegressor:Unrealistic price values detected: min=1000.00, max=4988000000.00\n",
            "2025-06-01 00:17:33,367 - PricePredictionExperiment_XGBRegressor - INFO - Fold 1 - Log scale: R²=0.9647, RMSE=0.0172, SMAPE=1.2377%\n",
            "Original scale: R²=0.7276, RMSE=86604381.7972, SMAPE=11.1390%\n",
            "INFO:PricePredictionExperiment_XGBRegressor:Fold 1 - Log scale: R²=0.9647, RMSE=0.0172, SMAPE=1.2377%\n",
            "Original scale: R²=0.7276, RMSE=86604381.7972, SMAPE=11.1390%\n"
          ]
        },
        {
          "output_type": "stream",
          "name": "stdout",
          "text": [
            " Fold 2: train_size=13334 val_size=6666\n"
          ]
        },
        {
          "output_type": "stream",
          "name": "stderr",
          "text": [
            "2025-06-01 00:17:39,811 - PricePredictionExperiment_XGBRegressor - INFO - Before reverse - price mean: 0.6143135310974003\n",
            "INFO:PricePredictionExperiment_XGBRegressor:Before reverse - price mean: 0.6143135310974003\n",
            "2025-06-01 00:17:39,815 - PricePredictionExperiment_XGBRegressor - INFO - After reverse - price mean: 50743873.696819685\n",
            "INFO:PricePredictionExperiment_XGBRegressor:After reverse - price mean: 50743873.696819685\n",
            "2025-06-01 00:17:39,817 - PricePredictionExperiment_XGBRegressor - WARNING - Unrealistic price values detected: min=100000.00, max=2893991100.00\n",
            "WARNING:PricePredictionExperiment_XGBRegressor:Unrealistic price values detected: min=100000.00, max=2893991100.00\n",
            "2025-06-01 00:17:39,874 - PricePredictionExperiment_XGBRegressor - INFO - Fold 2 - Log scale: R²=0.9760, RMSE=0.0143, SMAPE=1.1897%\n",
            "Original scale: R²=0.8397, RMSE=59520899.0437, SMAPE=10.9760%\n",
            "INFO:PricePredictionExperiment_XGBRegressor:Fold 2 - Log scale: R²=0.9760, RMSE=0.0143, SMAPE=1.1897%\n",
            "Original scale: R²=0.8397, RMSE=59520899.0437, SMAPE=10.9760%\n",
            "\u001b[32m[I 2025-06-01 00:17:39,879]\u001b[0m Trial 24 finished with value: 0.9706458355525589 and parameters: {'model__n_estimators': 831, 'model__max_depth': 5, 'model__learning_rate': 0.02454290029553759, 'model__subsample': 0.8517797479393602}. Best is trial 22 with value: 0.9708959093878092.\u001b[0m\n"
          ]
        },
        {
          "output_type": "stream",
          "name": "stdout",
          "text": [
            "CV stratified bins counts: [6670 6663 6667]\n",
            "Running 3-fold CV on 20000 samples\n",
            " Fold 0: train_size=13333 val_size=6667\n"
          ]
        },
        {
          "output_type": "stream",
          "name": "stderr",
          "text": [
            "2025-06-01 00:17:45,317 - PricePredictionExperiment_XGBRegressor - INFO - Before reverse - price mean: 0.6131231136815939\n",
            "INFO:PricePredictionExperiment_XGBRegressor:Before reverse - price mean: 0.6131231136815939\n",
            "2025-06-01 00:17:45,324 - PricePredictionExperiment_XGBRegressor - INFO - After reverse - price mean: 46994876.19484026\n",
            "INFO:PricePredictionExperiment_XGBRegressor:After reverse - price mean: 46994876.19484026\n",
            "2025-06-01 00:17:45,326 - PricePredictionExperiment_XGBRegressor - WARNING - Unrealistic price values detected: min=1640.00, max=3119770000.00\n",
            "WARNING:PricePredictionExperiment_XGBRegressor:Unrealistic price values detected: min=1640.00, max=3119770000.00\n",
            "2025-06-01 00:17:45,373 - PricePredictionExperiment_XGBRegressor - INFO - Fold 0 - Log scale: R²=0.9717, RMSE=0.0154, SMAPE=1.2223%\n",
            "Original scale: R²=0.8755, RMSE=48108339.5797, SMAPE=11.0922%\n",
            "INFO:PricePredictionExperiment_XGBRegressor:Fold 0 - Log scale: R²=0.9717, RMSE=0.0154, SMAPE=1.2223%\n",
            "Original scale: R²=0.8755, RMSE=48108339.5797, SMAPE=11.0922%\n"
          ]
        },
        {
          "output_type": "stream",
          "name": "stdout",
          "text": [
            " Fold 1: train_size=13333 val_size=6667\n"
          ]
        },
        {
          "output_type": "stream",
          "name": "stderr",
          "text": [
            "2025-06-01 00:17:52,409 - PricePredictionExperiment_XGBRegressor - INFO - Before reverse - price mean: 0.6141490354414657\n",
            "INFO:PricePredictionExperiment_XGBRegressor:Before reverse - price mean: 0.6141490354414657\n",
            "2025-06-01 00:17:52,414 - PricePredictionExperiment_XGBRegressor - INFO - After reverse - price mean: 50439669.25198739\n",
            "INFO:PricePredictionExperiment_XGBRegressor:After reverse - price mean: 50439669.25198739\n",
            "2025-06-01 00:17:52,416 - PricePredictionExperiment_XGBRegressor - WARNING - Unrealistic price values detected: min=1000.00, max=4988000000.00\n",
            "WARNING:PricePredictionExperiment_XGBRegressor:Unrealistic price values detected: min=1000.00, max=4988000000.00\n",
            "2025-06-01 00:17:52,482 - PricePredictionExperiment_XGBRegressor - INFO - Fold 1 - Log scale: R²=0.9647, RMSE=0.0172, SMAPE=1.2381%\n",
            "Original scale: R²=0.7301, RMSE=86193313.6197, SMAPE=11.1353%\n",
            "INFO:PricePredictionExperiment_XGBRegressor:Fold 1 - Log scale: R²=0.9647, RMSE=0.0172, SMAPE=1.2381%\n",
            "Original scale: R²=0.7301, RMSE=86193313.6197, SMAPE=11.1353%\n"
          ]
        },
        {
          "output_type": "stream",
          "name": "stdout",
          "text": [
            " Fold 2: train_size=13334 val_size=6666\n"
          ]
        },
        {
          "output_type": "stream",
          "name": "stderr",
          "text": [
            "2025-06-01 00:17:58,190 - PricePredictionExperiment_XGBRegressor - INFO - Before reverse - price mean: 0.6143135310974003\n",
            "INFO:PricePredictionExperiment_XGBRegressor:Before reverse - price mean: 0.6143135310974003\n",
            "2025-06-01 00:17:58,195 - PricePredictionExperiment_XGBRegressor - INFO - After reverse - price mean: 50743873.696819685\n",
            "INFO:PricePredictionExperiment_XGBRegressor:After reverse - price mean: 50743873.696819685\n",
            "2025-06-01 00:17:58,197 - PricePredictionExperiment_XGBRegressor - WARNING - Unrealistic price values detected: min=100000.00, max=2893991100.00\n",
            "WARNING:PricePredictionExperiment_XGBRegressor:Unrealistic price values detected: min=100000.00, max=2893991100.00\n",
            "2025-06-01 00:17:58,248 - PricePredictionExperiment_XGBRegressor - INFO - Fold 2 - Log scale: R²=0.9765, RMSE=0.0142, SMAPE=1.1847%\n",
            "Original scale: R²=0.8468, RMSE=58173419.1531, SMAPE=10.9350%\n",
            "INFO:PricePredictionExperiment_XGBRegressor:Fold 2 - Log scale: R²=0.9765, RMSE=0.0142, SMAPE=1.1847%\n",
            "Original scale: R²=0.8468, RMSE=58173419.1531, SMAPE=10.9350%\n",
            "\u001b[32m[I 2025-06-01 00:17:58,253]\u001b[0m Trial 25 finished with value: 0.9709637237282879 and parameters: {'model__n_estimators': 915, 'model__max_depth': 5, 'model__learning_rate': 0.02885777894319309, 'model__subsample': 0.8194493833648924}. Best is trial 25 with value: 0.9709637237282879.\u001b[0m\n"
          ]
        },
        {
          "output_type": "stream",
          "name": "stdout",
          "text": [
            "CV stratified bins counts: [6670 6663 6667]\n",
            "Running 3-fold CV on 20000 samples\n",
            " Fold 0: train_size=13333 val_size=6667\n"
          ]
        },
        {
          "output_type": "stream",
          "name": "stderr",
          "text": [
            "2025-06-01 00:18:06,041 - PricePredictionExperiment_XGBRegressor - INFO - Before reverse - price mean: 0.6131231136815939\n",
            "INFO:PricePredictionExperiment_XGBRegressor:Before reverse - price mean: 0.6131231136815939\n",
            "2025-06-01 00:18:06,046 - PricePredictionExperiment_XGBRegressor - INFO - After reverse - price mean: 46994876.19484026\n",
            "INFO:PricePredictionExperiment_XGBRegressor:After reverse - price mean: 46994876.19484026\n",
            "2025-06-01 00:18:06,048 - PricePredictionExperiment_XGBRegressor - WARNING - Unrealistic price values detected: min=1640.00, max=3119770000.00\n",
            "WARNING:PricePredictionExperiment_XGBRegressor:Unrealistic price values detected: min=1640.00, max=3119770000.00\n",
            "2025-06-01 00:18:06,127 - PricePredictionExperiment_XGBRegressor - INFO - Fold 0 - Log scale: R²=0.9716, RMSE=0.0154, SMAPE=1.2240%\n",
            "Original scale: R²=0.8682, RMSE=49508253.5289, SMAPE=11.1149%\n",
            "INFO:PricePredictionExperiment_XGBRegressor:Fold 0 - Log scale: R²=0.9716, RMSE=0.0154, SMAPE=1.2240%\n",
            "Original scale: R²=0.8682, RMSE=49508253.5289, SMAPE=11.1149%\n"
          ]
        },
        {
          "output_type": "stream",
          "name": "stdout",
          "text": [
            " Fold 1: train_size=13333 val_size=6667\n"
          ]
        },
        {
          "output_type": "stream",
          "name": "stderr",
          "text": [
            "2025-06-01 00:18:11,425 - PricePredictionExperiment_XGBRegressor - INFO - Before reverse - price mean: 0.6141490354414657\n",
            "INFO:PricePredictionExperiment_XGBRegressor:Before reverse - price mean: 0.6141490354414657\n",
            "2025-06-01 00:18:11,429 - PricePredictionExperiment_XGBRegressor - INFO - After reverse - price mean: 50439669.25198739\n",
            "INFO:PricePredictionExperiment_XGBRegressor:After reverse - price mean: 50439669.25198739\n",
            "2025-06-01 00:18:11,431 - PricePredictionExperiment_XGBRegressor - WARNING - Unrealistic price values detected: min=1000.00, max=4988000000.00\n",
            "WARNING:PricePredictionExperiment_XGBRegressor:Unrealistic price values detected: min=1000.00, max=4988000000.00\n",
            "2025-06-01 00:18:11,479 - PricePredictionExperiment_XGBRegressor - INFO - Fold 1 - Log scale: R²=0.9651, RMSE=0.0171, SMAPE=1.2316%\n",
            "Original scale: R²=0.7346, RMSE=85478522.1169, SMAPE=11.0759%\n",
            "INFO:PricePredictionExperiment_XGBRegressor:Fold 1 - Log scale: R²=0.9651, RMSE=0.0171, SMAPE=1.2316%\n",
            "Original scale: R²=0.7346, RMSE=85478522.1169, SMAPE=11.0759%\n"
          ]
        },
        {
          "output_type": "stream",
          "name": "stdout",
          "text": [
            " Fold 2: train_size=13334 val_size=6666\n"
          ]
        },
        {
          "output_type": "stream",
          "name": "stderr",
          "text": [
            "2025-06-01 00:18:17,434 - PricePredictionExperiment_XGBRegressor - INFO - Before reverse - price mean: 0.6143135310974003\n",
            "INFO:PricePredictionExperiment_XGBRegressor:Before reverse - price mean: 0.6143135310974003\n",
            "2025-06-01 00:18:17,442 - PricePredictionExperiment_XGBRegressor - INFO - After reverse - price mean: 50743873.696819685\n",
            "INFO:PricePredictionExperiment_XGBRegressor:After reverse - price mean: 50743873.696819685\n",
            "2025-06-01 00:18:17,444 - PricePredictionExperiment_XGBRegressor - WARNING - Unrealistic price values detected: min=100000.00, max=2893991100.00\n",
            "WARNING:PricePredictionExperiment_XGBRegressor:Unrealistic price values detected: min=100000.00, max=2893991100.00\n",
            "2025-06-01 00:18:17,520 - PricePredictionExperiment_XGBRegressor - INFO - Fold 2 - Log scale: R²=0.9763, RMSE=0.0142, SMAPE=1.1803%\n",
            "Original scale: R²=0.8402, RMSE=59421487.0762, SMAPE=10.8980%\n",
            "INFO:PricePredictionExperiment_XGBRegressor:Fold 2 - Log scale: R²=0.9763, RMSE=0.0142, SMAPE=1.1803%\n",
            "Original scale: R²=0.8402, RMSE=59421487.0762, SMAPE=10.8980%\n",
            "\u001b[32m[I 2025-06-01 00:18:17,525]\u001b[0m Trial 26 finished with value: 0.9710199224649103 and parameters: {'model__n_estimators': 913, 'model__max_depth': 5, 'model__learning_rate': 0.028915178480478376, 'model__subsample': 0.8502686963689221}. Best is trial 26 with value: 0.9710199224649103.\u001b[0m\n"
          ]
        },
        {
          "output_type": "stream",
          "name": "stdout",
          "text": [
            "CV stratified bins counts: [6670 6663 6667]\n",
            "Running 3-fold CV on 20000 samples\n",
            " Fold 0: train_size=13333 val_size=6667\n"
          ]
        },
        {
          "output_type": "stream",
          "name": "stderr",
          "text": [
            "2025-06-01 00:18:23,855 - PricePredictionExperiment_XGBRegressor - INFO - Before reverse - price mean: 0.6131231136815939\n",
            "INFO:PricePredictionExperiment_XGBRegressor:Before reverse - price mean: 0.6131231136815939\n",
            "2025-06-01 00:18:23,863 - PricePredictionExperiment_XGBRegressor - INFO - After reverse - price mean: 46994876.19484026\n",
            "INFO:PricePredictionExperiment_XGBRegressor:After reverse - price mean: 46994876.19484026\n",
            "2025-06-01 00:18:23,864 - PricePredictionExperiment_XGBRegressor - WARNING - Unrealistic price values detected: min=1640.00, max=3119770000.00\n",
            "WARNING:PricePredictionExperiment_XGBRegressor:Unrealistic price values detected: min=1640.00, max=3119770000.00\n",
            "2025-06-01 00:18:23,914 - PricePredictionExperiment_XGBRegressor - INFO - Fold 0 - Log scale: R²=0.9713, RMSE=0.0155, SMAPE=1.2276%\n",
            "Original scale: R²=0.8770, RMSE=47819447.1225, SMAPE=11.1331%\n",
            "INFO:PricePredictionExperiment_XGBRegressor:Fold 0 - Log scale: R²=0.9713, RMSE=0.0155, SMAPE=1.2276%\n",
            "Original scale: R²=0.8770, RMSE=47819447.1225, SMAPE=11.1331%\n"
          ]
        },
        {
          "output_type": "stream",
          "name": "stdout",
          "text": [
            " Fold 1: train_size=13333 val_size=6667\n"
          ]
        },
        {
          "output_type": "stream",
          "name": "stderr",
          "text": [
            "2025-06-01 00:18:29,470 - PricePredictionExperiment_XGBRegressor - INFO - Before reverse - price mean: 0.6141490354414657\n",
            "INFO:PricePredictionExperiment_XGBRegressor:Before reverse - price mean: 0.6141490354414657\n",
            "2025-06-01 00:18:29,478 - PricePredictionExperiment_XGBRegressor - INFO - After reverse - price mean: 50439669.25198739\n",
            "INFO:PricePredictionExperiment_XGBRegressor:After reverse - price mean: 50439669.25198739\n",
            "2025-06-01 00:18:29,480 - PricePredictionExperiment_XGBRegressor - WARNING - Unrealistic price values detected: min=1000.00, max=4988000000.00\n",
            "WARNING:PricePredictionExperiment_XGBRegressor:Unrealistic price values detected: min=1000.00, max=4988000000.00\n",
            "2025-06-01 00:18:29,546 - PricePredictionExperiment_XGBRegressor - INFO - Fold 1 - Log scale: R²=0.9643, RMSE=0.0173, SMAPE=1.2348%\n",
            "Original scale: R²=0.7245, RMSE=87091638.4732, SMAPE=11.1053%\n",
            "INFO:PricePredictionExperiment_XGBRegressor:Fold 1 - Log scale: R²=0.9643, RMSE=0.0173, SMAPE=1.2348%\n",
            "Original scale: R²=0.7245, RMSE=87091638.4732, SMAPE=11.1053%\n"
          ]
        },
        {
          "output_type": "stream",
          "name": "stdout",
          "text": [
            " Fold 2: train_size=13334 val_size=6666\n"
          ]
        },
        {
          "output_type": "stream",
          "name": "stderr",
          "text": [
            "2025-06-01 00:18:36,369 - PricePredictionExperiment_XGBRegressor - INFO - Before reverse - price mean: 0.6143135310974003\n",
            "INFO:PricePredictionExperiment_XGBRegressor:Before reverse - price mean: 0.6143135310974003\n",
            "2025-06-01 00:18:36,374 - PricePredictionExperiment_XGBRegressor - INFO - After reverse - price mean: 50743873.696819685\n",
            "INFO:PricePredictionExperiment_XGBRegressor:After reverse - price mean: 50743873.696819685\n",
            "2025-06-01 00:18:36,376 - PricePredictionExperiment_XGBRegressor - WARNING - Unrealistic price values detected: min=100000.00, max=2893991100.00\n",
            "WARNING:PricePredictionExperiment_XGBRegressor:Unrealistic price values detected: min=100000.00, max=2893991100.00\n",
            "2025-06-01 00:18:36,439 - PricePredictionExperiment_XGBRegressor - INFO - Fold 2 - Log scale: R²=0.9759, RMSE=0.0143, SMAPE=1.1907%\n",
            "Original scale: R²=0.8442, RMSE=58668083.0200, SMAPE=10.9741%\n",
            "INFO:PricePredictionExperiment_XGBRegressor:Fold 2 - Log scale: R²=0.9759, RMSE=0.0143, SMAPE=1.1907%\n",
            "Original scale: R²=0.8442, RMSE=58668083.0200, SMAPE=10.9741%\n",
            "\u001b[32m[I 2025-06-01 00:18:36,446]\u001b[0m Trial 27 finished with value: 0.9705066678966295 and parameters: {'model__n_estimators': 919, 'model__max_depth': 5, 'model__learning_rate': 0.021723296471129902, 'model__subsample': 0.8529853402241885}. Best is trial 26 with value: 0.9710199224649103.\u001b[0m\n"
          ]
        },
        {
          "output_type": "stream",
          "name": "stdout",
          "text": [
            "CV stratified bins counts: [6670 6663 6667]\n",
            "Running 3-fold CV on 20000 samples\n",
            " Fold 0: train_size=13333 val_size=6667\n"
          ]
        },
        {
          "output_type": "stream",
          "name": "stderr",
          "text": [
            "2025-06-01 00:18:42,601 - PricePredictionExperiment_XGBRegressor - INFO - Before reverse - price mean: 0.6131231136815939\n",
            "INFO:PricePredictionExperiment_XGBRegressor:Before reverse - price mean: 0.6131231136815939\n",
            "2025-06-01 00:18:42,606 - PricePredictionExperiment_XGBRegressor - INFO - After reverse - price mean: 46994876.19484026\n",
            "INFO:PricePredictionExperiment_XGBRegressor:After reverse - price mean: 46994876.19484026\n",
            "2025-06-01 00:18:42,608 - PricePredictionExperiment_XGBRegressor - WARNING - Unrealistic price values detected: min=1640.00, max=3119770000.00\n",
            "WARNING:PricePredictionExperiment_XGBRegressor:Unrealistic price values detected: min=1640.00, max=3119770000.00\n",
            "2025-06-01 00:18:42,669 - PricePredictionExperiment_XGBRegressor - INFO - Fold 0 - Log scale: R²=0.9716, RMSE=0.0154, SMAPE=1.2251%\n",
            "Original scale: R²=0.8702, RMSE=49130548.1119, SMAPE=11.1300%\n",
            "INFO:PricePredictionExperiment_XGBRegressor:Fold 0 - Log scale: R²=0.9716, RMSE=0.0154, SMAPE=1.2251%\n",
            "Original scale: R²=0.8702, RMSE=49130548.1119, SMAPE=11.1300%\n"
          ]
        },
        {
          "output_type": "stream",
          "name": "stdout",
          "text": [
            " Fold 1: train_size=13333 val_size=6667\n"
          ]
        },
        {
          "output_type": "stream",
          "name": "stderr",
          "text": [
            "2025-06-01 00:18:50,024 - PricePredictionExperiment_XGBRegressor - INFO - Before reverse - price mean: 0.6141490354414657\n",
            "INFO:PricePredictionExperiment_XGBRegressor:Before reverse - price mean: 0.6141490354414657\n",
            "2025-06-01 00:18:50,029 - PricePredictionExperiment_XGBRegressor - INFO - After reverse - price mean: 50439669.25198739\n",
            "INFO:PricePredictionExperiment_XGBRegressor:After reverse - price mean: 50439669.25198739\n",
            "2025-06-01 00:18:50,031 - PricePredictionExperiment_XGBRegressor - WARNING - Unrealistic price values detected: min=1000.00, max=4988000000.00\n",
            "WARNING:PricePredictionExperiment_XGBRegressor:Unrealistic price values detected: min=1000.00, max=4988000000.00\n",
            "2025-06-01 00:18:50,094 - PricePredictionExperiment_XGBRegressor - INFO - Fold 1 - Log scale: R²=0.9645, RMSE=0.0172, SMAPE=1.2388%\n",
            "Original scale: R²=0.7249, RMSE=87025343.0464, SMAPE=11.1435%\n",
            "INFO:PricePredictionExperiment_XGBRegressor:Fold 1 - Log scale: R²=0.9645, RMSE=0.0172, SMAPE=1.2388%\n",
            "Original scale: R²=0.7249, RMSE=87025343.0464, SMAPE=11.1435%\n"
          ]
        },
        {
          "output_type": "stream",
          "name": "stdout",
          "text": [
            " Fold 2: train_size=13334 val_size=6666\n"
          ]
        },
        {
          "output_type": "stream",
          "name": "stderr",
          "text": [
            "2025-06-01 00:18:55,971 - PricePredictionExperiment_XGBRegressor - INFO - Before reverse - price mean: 0.6143135310974003\n",
            "INFO:PricePredictionExperiment_XGBRegressor:Before reverse - price mean: 0.6143135310974003\n",
            "2025-06-01 00:18:55,976 - PricePredictionExperiment_XGBRegressor - INFO - After reverse - price mean: 50743873.696819685\n",
            "INFO:PricePredictionExperiment_XGBRegressor:After reverse - price mean: 50743873.696819685\n",
            "2025-06-01 00:18:55,979 - PricePredictionExperiment_XGBRegressor - WARNING - Unrealistic price values detected: min=100000.00, max=2893991100.00\n",
            "WARNING:PricePredictionExperiment_XGBRegressor:Unrealistic price values detected: min=100000.00, max=2893991100.00\n",
            "2025-06-01 00:18:56,027 - PricePredictionExperiment_XGBRegressor - INFO - Fold 2 - Log scale: R²=0.9764, RMSE=0.0142, SMAPE=1.1846%\n",
            "Original scale: R²=0.8393, RMSE=59591066.2751, SMAPE=10.9397%\n",
            "INFO:PricePredictionExperiment_XGBRegressor:Fold 2 - Log scale: R²=0.9764, RMSE=0.0142, SMAPE=1.1846%\n",
            "Original scale: R²=0.8393, RMSE=59591066.2751, SMAPE=10.9397%\n",
            "\u001b[32m[I 2025-06-01 00:18:56,031]\u001b[0m Trial 28 finished with value: 0.9708115003946164 and parameters: {'model__n_estimators': 1000, 'model__max_depth': 5, 'model__learning_rate': 0.02842242251014411, 'model__subsample': 0.8713407939416142}. Best is trial 26 with value: 0.9710199224649103.\u001b[0m\n"
          ]
        },
        {
          "output_type": "stream",
          "name": "stdout",
          "text": [
            "CV stratified bins counts: [6670 6663 6667]\n",
            "Running 3-fold CV on 20000 samples\n",
            " Fold 0: train_size=13333 val_size=6667\n"
          ]
        },
        {
          "output_type": "stream",
          "name": "stderr",
          "text": [
            "2025-06-01 00:19:01,544 - PricePredictionExperiment_XGBRegressor - INFO - Before reverse - price mean: 0.6131231136815939\n",
            "INFO:PricePredictionExperiment_XGBRegressor:Before reverse - price mean: 0.6131231136815939\n",
            "2025-06-01 00:19:01,552 - PricePredictionExperiment_XGBRegressor - INFO - After reverse - price mean: 46994876.19484026\n",
            "INFO:PricePredictionExperiment_XGBRegressor:After reverse - price mean: 46994876.19484026\n",
            "2025-06-01 00:19:01,554 - PricePredictionExperiment_XGBRegressor - WARNING - Unrealistic price values detected: min=1640.00, max=3119770000.00\n",
            "WARNING:PricePredictionExperiment_XGBRegressor:Unrealistic price values detected: min=1640.00, max=3119770000.00\n",
            "2025-06-01 00:19:01,617 - PricePredictionExperiment_XGBRegressor - INFO - Fold 0 - Log scale: R²=0.9714, RMSE=0.0155, SMAPE=1.2615%\n",
            "Original scale: R²=0.8731, RMSE=48579853.3187, SMAPE=11.5136%\n",
            "INFO:PricePredictionExperiment_XGBRegressor:Fold 0 - Log scale: R²=0.9714, RMSE=0.0155, SMAPE=1.2615%\n",
            "Original scale: R²=0.8731, RMSE=48579853.3187, SMAPE=11.5136%\n"
          ]
        },
        {
          "output_type": "stream",
          "name": "stdout",
          "text": [
            " Fold 1: train_size=13333 val_size=6667\n"
          ]
        },
        {
          "output_type": "stream",
          "name": "stderr",
          "text": [
            "2025-06-01 00:19:05,603 - PricePredictionExperiment_XGBRegressor - INFO - Before reverse - price mean: 0.6141490354414657\n",
            "INFO:PricePredictionExperiment_XGBRegressor:Before reverse - price mean: 0.6141490354414657\n",
            "2025-06-01 00:19:05,611 - PricePredictionExperiment_XGBRegressor - INFO - After reverse - price mean: 50439669.25198739\n",
            "INFO:PricePredictionExperiment_XGBRegressor:After reverse - price mean: 50439669.25198739\n",
            "2025-06-01 00:19:05,614 - PricePredictionExperiment_XGBRegressor - WARNING - Unrealistic price values detected: min=1000.00, max=4988000000.00\n",
            "WARNING:PricePredictionExperiment_XGBRegressor:Unrealistic price values detected: min=1000.00, max=4988000000.00\n",
            "2025-06-01 00:19:05,665 - PricePredictionExperiment_XGBRegressor - INFO - Fold 1 - Log scale: R²=0.9636, RMSE=0.0174, SMAPE=1.2832%\n",
            "Original scale: R²=0.7181, RMSE=88096194.8510, SMAPE=11.5582%\n",
            "INFO:PricePredictionExperiment_XGBRegressor:Fold 1 - Log scale: R²=0.9636, RMSE=0.0174, SMAPE=1.2832%\n",
            "Original scale: R²=0.7181, RMSE=88096194.8510, SMAPE=11.5582%\n"
          ]
        },
        {
          "output_type": "stream",
          "name": "stdout",
          "text": [
            " Fold 2: train_size=13334 val_size=6666\n"
          ]
        },
        {
          "output_type": "stream",
          "name": "stderr",
          "text": [
            "2025-06-01 00:19:09,676 - PricePredictionExperiment_XGBRegressor - INFO - Before reverse - price mean: 0.6143135310974003\n",
            "INFO:PricePredictionExperiment_XGBRegressor:Before reverse - price mean: 0.6143135310974003\n",
            "2025-06-01 00:19:09,681 - PricePredictionExperiment_XGBRegressor - INFO - After reverse - price mean: 50743873.696819685\n",
            "INFO:PricePredictionExperiment_XGBRegressor:After reverse - price mean: 50743873.696819685\n",
            "2025-06-01 00:19:09,683 - PricePredictionExperiment_XGBRegressor - WARNING - Unrealistic price values detected: min=100000.00, max=2893991100.00\n",
            "WARNING:PricePredictionExperiment_XGBRegressor:Unrealistic price values detected: min=100000.00, max=2893991100.00\n",
            "2025-06-01 00:19:09,757 - PricePredictionExperiment_XGBRegressor - INFO - Fold 2 - Log scale: R²=0.9751, RMSE=0.0146, SMAPE=1.2270%\n",
            "Original scale: R²=0.8513, RMSE=57321087.6550, SMAPE=11.2934%\n",
            "INFO:PricePredictionExperiment_XGBRegressor:Fold 2 - Log scale: R²=0.9751, RMSE=0.0146, SMAPE=1.2270%\n",
            "Original scale: R²=0.8513, RMSE=57321087.6550, SMAPE=11.2934%\n",
            "\u001b[32m[I 2025-06-01 00:19:09,762]\u001b[0m Trial 29 finished with value: 0.9700680732446888 and parameters: {'model__n_estimators': 892, 'model__max_depth': 4, 'model__learning_rate': 0.03764943348629966, 'model__subsample': 0.8180348105894856}. Best is trial 26 with value: 0.9710199224649103.\u001b[0m\n"
          ]
        },
        {
          "output_type": "stream",
          "name": "stdout",
          "text": [
            "CV stratified bins counts: [6670 6663 6667]\n",
            "Running 3-fold CV on 20000 samples\n",
            " Fold 0: train_size=13333 val_size=6667\n"
          ]
        },
        {
          "output_type": "stream",
          "name": "stderr",
          "text": [
            "2025-06-01 00:19:17,079 - PricePredictionExperiment_XGBRegressor - INFO - Before reverse - price mean: 0.6131231136815939\n",
            "INFO:PricePredictionExperiment_XGBRegressor:Before reverse - price mean: 0.6131231136815939\n",
            "2025-06-01 00:19:17,083 - PricePredictionExperiment_XGBRegressor - INFO - After reverse - price mean: 46994876.19484026\n",
            "INFO:PricePredictionExperiment_XGBRegressor:After reverse - price mean: 46994876.19484026\n",
            "2025-06-01 00:19:17,085 - PricePredictionExperiment_XGBRegressor - WARNING - Unrealistic price values detected: min=1640.00, max=3119770000.00\n",
            "WARNING:PricePredictionExperiment_XGBRegressor:Unrealistic price values detected: min=1640.00, max=3119770000.00\n",
            "2025-06-01 00:19:17,133 - PricePredictionExperiment_XGBRegressor - INFO - Fold 0 - Log scale: R²=0.9708, RMSE=0.0156, SMAPE=1.2356%\n",
            "Original scale: R²=0.8734, RMSE=48520142.5209, SMAPE=11.2186%\n",
            "INFO:PricePredictionExperiment_XGBRegressor:Fold 0 - Log scale: R²=0.9708, RMSE=0.0156, SMAPE=1.2356%\n",
            "Original scale: R²=0.8734, RMSE=48520142.5209, SMAPE=11.2186%\n"
          ]
        },
        {
          "output_type": "stream",
          "name": "stdout",
          "text": [
            " Fold 1: train_size=13333 val_size=6667\n"
          ]
        },
        {
          "output_type": "stream",
          "name": "stderr",
          "text": [
            "2025-06-01 00:19:23,989 - PricePredictionExperiment_XGBRegressor - INFO - Before reverse - price mean: 0.6141490354414657\n",
            "INFO:PricePredictionExperiment_XGBRegressor:Before reverse - price mean: 0.6141490354414657\n",
            "2025-06-01 00:19:23,996 - PricePredictionExperiment_XGBRegressor - INFO - After reverse - price mean: 50439669.25198739\n",
            "INFO:PricePredictionExperiment_XGBRegressor:After reverse - price mean: 50439669.25198739\n",
            "2025-06-01 00:19:24,001 - PricePredictionExperiment_XGBRegressor - WARNING - Unrealistic price values detected: min=1000.00, max=4988000000.00\n",
            "WARNING:PricePredictionExperiment_XGBRegressor:Unrealistic price values detected: min=1000.00, max=4988000000.00\n",
            "2025-06-01 00:19:24,075 - PricePredictionExperiment_XGBRegressor - INFO - Fold 1 - Log scale: R²=0.9642, RMSE=0.0173, SMAPE=1.2413%\n",
            "Original scale: R²=0.7177, RMSE=88157629.7003, SMAPE=11.1776%\n",
            "INFO:PricePredictionExperiment_XGBRegressor:Fold 1 - Log scale: R²=0.9642, RMSE=0.0173, SMAPE=1.2413%\n",
            "Original scale: R²=0.7177, RMSE=88157629.7003, SMAPE=11.1776%\n"
          ]
        },
        {
          "output_type": "stream",
          "name": "stdout",
          "text": [
            " Fold 2: train_size=13334 val_size=6666\n"
          ]
        },
        {
          "output_type": "stream",
          "name": "stderr",
          "text": [
            "2025-06-01 00:19:31,015 - PricePredictionExperiment_XGBRegressor - INFO - Before reverse - price mean: 0.6143135310974003\n",
            "INFO:PricePredictionExperiment_XGBRegressor:Before reverse - price mean: 0.6143135310974003\n",
            "2025-06-01 00:19:31,019 - PricePredictionExperiment_XGBRegressor - INFO - After reverse - price mean: 50743873.696819685\n",
            "INFO:PricePredictionExperiment_XGBRegressor:After reverse - price mean: 50743873.696819685\n",
            "2025-06-01 00:19:31,022 - PricePredictionExperiment_XGBRegressor - WARNING - Unrealistic price values detected: min=100000.00, max=2893991100.00\n",
            "WARNING:PricePredictionExperiment_XGBRegressor:Unrealistic price values detected: min=100000.00, max=2893991100.00\n",
            "2025-06-01 00:19:31,069 - PricePredictionExperiment_XGBRegressor - INFO - Fold 2 - Log scale: R²=0.9757, RMSE=0.0144, SMAPE=1.1956%\n",
            "Original scale: R²=0.8305, RMSE=61201753.1777, SMAPE=11.0319%\n",
            "INFO:PricePredictionExperiment_XGBRegressor:Fold 2 - Log scale: R²=0.9757, RMSE=0.0144, SMAPE=1.1956%\n",
            "Original scale: R²=0.8305, RMSE=61201753.1777, SMAPE=11.0319%\n",
            "\u001b[32m[I 2025-06-01 00:19:31,073]\u001b[0m Trial 30 finished with value: 0.970245221070972 and parameters: {'model__n_estimators': 940, 'model__max_depth': 5, 'model__learning_rate': 0.01651601392722199, 'model__subsample': 0.8451349234520626}. Best is trial 26 with value: 0.9710199224649103.\u001b[0m\n"
          ]
        },
        {
          "output_type": "stream",
          "name": "stdout",
          "text": [
            "CV stratified bins counts: [6670 6663 6667]\n",
            "Running 3-fold CV on 20000 samples\n",
            " Fold 0: train_size=13333 val_size=6667\n"
          ]
        },
        {
          "output_type": "stream",
          "name": "stderr",
          "text": [
            "2025-06-01 00:19:37,183 - PricePredictionExperiment_XGBRegressor - INFO - Before reverse - price mean: 0.6131231136815939\n",
            "INFO:PricePredictionExperiment_XGBRegressor:Before reverse - price mean: 0.6131231136815939\n",
            "2025-06-01 00:19:37,188 - PricePredictionExperiment_XGBRegressor - INFO - After reverse - price mean: 46994876.19484026\n",
            "INFO:PricePredictionExperiment_XGBRegressor:After reverse - price mean: 46994876.19484026\n",
            "2025-06-01 00:19:37,195 - PricePredictionExperiment_XGBRegressor - WARNING - Unrealistic price values detected: min=1640.00, max=3119770000.00\n",
            "WARNING:PricePredictionExperiment_XGBRegressor:Unrealistic price values detected: min=1640.00, max=3119770000.00\n",
            "2025-06-01 00:19:37,258 - PricePredictionExperiment_XGBRegressor - INFO - Fold 0 - Log scale: R²=0.9717, RMSE=0.0154, SMAPE=1.2231%\n",
            "Original scale: R²=0.8767, RMSE=47882012.1803, SMAPE=11.0988%\n",
            "INFO:PricePredictionExperiment_XGBRegressor:Fold 0 - Log scale: R²=0.9717, RMSE=0.0154, SMAPE=1.2231%\n",
            "Original scale: R²=0.8767, RMSE=47882012.1803, SMAPE=11.0988%\n"
          ]
        },
        {
          "output_type": "stream",
          "name": "stdout",
          "text": [
            " Fold 1: train_size=13333 val_size=6667\n"
          ]
        },
        {
          "output_type": "stream",
          "name": "stderr",
          "text": [
            "2025-06-01 00:19:44,217 - PricePredictionExperiment_XGBRegressor - INFO - Before reverse - price mean: 0.6141490354414657\n",
            "INFO:PricePredictionExperiment_XGBRegressor:Before reverse - price mean: 0.6141490354414657\n",
            "2025-06-01 00:19:44,222 - PricePredictionExperiment_XGBRegressor - INFO - After reverse - price mean: 50439669.25198739\n",
            "INFO:PricePredictionExperiment_XGBRegressor:After reverse - price mean: 50439669.25198739\n",
            "2025-06-01 00:19:44,228 - PricePredictionExperiment_XGBRegressor - WARNING - Unrealistic price values detected: min=1000.00, max=4988000000.00\n",
            "WARNING:PricePredictionExperiment_XGBRegressor:Unrealistic price values detected: min=1000.00, max=4988000000.00\n",
            "2025-06-01 00:19:44,290 - PricePredictionExperiment_XGBRegressor - INFO - Fold 1 - Log scale: R²=0.9648, RMSE=0.0171, SMAPE=1.2391%\n",
            "Original scale: R²=0.7224, RMSE=87417147.5200, SMAPE=11.1418%\n",
            "INFO:PricePredictionExperiment_XGBRegressor:Fold 1 - Log scale: R²=0.9648, RMSE=0.0171, SMAPE=1.2391%\n",
            "Original scale: R²=0.7224, RMSE=87417147.5200, SMAPE=11.1418%\n"
          ]
        },
        {
          "output_type": "stream",
          "name": "stdout",
          "text": [
            " Fold 2: train_size=13334 val_size=6666\n"
          ]
        },
        {
          "output_type": "stream",
          "name": "stderr",
          "text": [
            "2025-06-01 00:19:50,024 - PricePredictionExperiment_XGBRegressor - INFO - Before reverse - price mean: 0.6143135310974003\n",
            "INFO:PricePredictionExperiment_XGBRegressor:Before reverse - price mean: 0.6143135310974003\n",
            "2025-06-01 00:19:50,028 - PricePredictionExperiment_XGBRegressor - INFO - After reverse - price mean: 50743873.696819685\n",
            "INFO:PricePredictionExperiment_XGBRegressor:After reverse - price mean: 50743873.696819685\n",
            "2025-06-01 00:19:50,030 - PricePredictionExperiment_XGBRegressor - WARNING - Unrealistic price values detected: min=100000.00, max=2893991100.00\n",
            "WARNING:PricePredictionExperiment_XGBRegressor:Unrealistic price values detected: min=100000.00, max=2893991100.00\n",
            "2025-06-01 00:19:50,077 - PricePredictionExperiment_XGBRegressor - INFO - Fold 2 - Log scale: R²=0.9761, RMSE=0.0143, SMAPE=1.1903%\n",
            "Original scale: R²=0.8383, RMSE=59783226.9420, SMAPE=10.9892%\n",
            "INFO:PricePredictionExperiment_XGBRegressor:Fold 2 - Log scale: R²=0.9761, RMSE=0.0143, SMAPE=1.1903%\n",
            "Original scale: R²=0.8383, RMSE=59783226.9420, SMAPE=10.9892%\n",
            "\u001b[32m[I 2025-06-01 00:19:50,085]\u001b[0m Trial 31 finished with value: 0.9708991675194739 and parameters: {'model__n_estimators': 998, 'model__max_depth': 5, 'model__learning_rate': 0.028290904248181953, 'model__subsample': 0.870245689416842}. Best is trial 26 with value: 0.9710199224649103.\u001b[0m\n"
          ]
        },
        {
          "output_type": "stream",
          "name": "stdout",
          "text": [
            "CV stratified bins counts: [6670 6663 6667]\n",
            "Running 3-fold CV on 20000 samples\n",
            " Fold 0: train_size=13333 val_size=6667\n"
          ]
        },
        {
          "output_type": "stream",
          "name": "stderr",
          "text": [
            "2025-06-01 00:19:56,918 - PricePredictionExperiment_XGBRegressor - INFO - Before reverse - price mean: 0.6131231136815939\n",
            "INFO:PricePredictionExperiment_XGBRegressor:Before reverse - price mean: 0.6131231136815939\n",
            "2025-06-01 00:19:56,923 - PricePredictionExperiment_XGBRegressor - INFO - After reverse - price mean: 46994876.19484026\n",
            "INFO:PricePredictionExperiment_XGBRegressor:After reverse - price mean: 46994876.19484026\n",
            "2025-06-01 00:19:56,929 - PricePredictionExperiment_XGBRegressor - WARNING - Unrealistic price values detected: min=1640.00, max=3119770000.00\n",
            "WARNING:PricePredictionExperiment_XGBRegressor:Unrealistic price values detected: min=1640.00, max=3119770000.00\n",
            "2025-06-01 00:19:56,989 - PricePredictionExperiment_XGBRegressor - INFO - Fold 0 - Log scale: R²=0.9714, RMSE=0.0155, SMAPE=1.2275%\n",
            "Original scale: R²=0.8737, RMSE=48466667.6412, SMAPE=11.1328%\n",
            "INFO:PricePredictionExperiment_XGBRegressor:Fold 0 - Log scale: R²=0.9714, RMSE=0.0155, SMAPE=1.2275%\n",
            "Original scale: R²=0.8737, RMSE=48466667.6412, SMAPE=11.1328%\n"
          ]
        },
        {
          "output_type": "stream",
          "name": "stdout",
          "text": [
            " Fold 1: train_size=13333 val_size=6667\n"
          ]
        },
        {
          "output_type": "stream",
          "name": "stderr",
          "text": [
            "2025-06-01 00:20:02,160 - PricePredictionExperiment_XGBRegressor - INFO - Before reverse - price mean: 0.6141490354414657\n",
            "INFO:PricePredictionExperiment_XGBRegressor:Before reverse - price mean: 0.6141490354414657\n",
            "2025-06-01 00:20:02,165 - PricePredictionExperiment_XGBRegressor - INFO - After reverse - price mean: 50439669.25198739\n",
            "INFO:PricePredictionExperiment_XGBRegressor:After reverse - price mean: 50439669.25198739\n",
            "2025-06-01 00:20:02,168 - PricePredictionExperiment_XGBRegressor - WARNING - Unrealistic price values detected: min=1000.00, max=4988000000.00\n",
            "WARNING:PricePredictionExperiment_XGBRegressor:Unrealistic price values detected: min=1000.00, max=4988000000.00\n",
            "2025-06-01 00:20:02,214 - PricePredictionExperiment_XGBRegressor - INFO - Fold 1 - Log scale: R²=0.9647, RMSE=0.0172, SMAPE=1.2360%\n",
            "Original scale: R²=0.7247, RMSE=87057472.0616, SMAPE=11.1200%\n",
            "INFO:PricePredictionExperiment_XGBRegressor:Fold 1 - Log scale: R²=0.9647, RMSE=0.0172, SMAPE=1.2360%\n",
            "Original scale: R²=0.7247, RMSE=87057472.0616, SMAPE=11.1200%\n"
          ]
        },
        {
          "output_type": "stream",
          "name": "stdout",
          "text": [
            " Fold 2: train_size=13334 val_size=6666\n"
          ]
        },
        {
          "output_type": "stream",
          "name": "stderr",
          "text": [
            "2025-06-01 00:20:08,995 - PricePredictionExperiment_XGBRegressor - INFO - Before reverse - price mean: 0.6143135310974003\n",
            "INFO:PricePredictionExperiment_XGBRegressor:Before reverse - price mean: 0.6143135310974003\n",
            "2025-06-01 00:20:08,999 - PricePredictionExperiment_XGBRegressor - INFO - After reverse - price mean: 50743873.696819685\n",
            "INFO:PricePredictionExperiment_XGBRegressor:After reverse - price mean: 50743873.696819685\n",
            "2025-06-01 00:20:09,002 - PricePredictionExperiment_XGBRegressor - WARNING - Unrealistic price values detected: min=100000.00, max=2893991100.00\n",
            "WARNING:PricePredictionExperiment_XGBRegressor:Unrealistic price values detected: min=100000.00, max=2893991100.00\n",
            "2025-06-01 00:20:09,067 - PricePredictionExperiment_XGBRegressor - INFO - Fold 2 - Log scale: R²=0.9760, RMSE=0.0143, SMAPE=1.1915%\n",
            "Original scale: R²=0.8441, RMSE=58684416.3961, SMAPE=10.9938%\n",
            "INFO:PricePredictionExperiment_XGBRegressor:Fold 2 - Log scale: R²=0.9760, RMSE=0.0143, SMAPE=1.1915%\n",
            "Original scale: R²=0.8441, RMSE=58684416.3961, SMAPE=10.9938%\n",
            "\u001b[32m[I 2025-06-01 00:20:09,071]\u001b[0m Trial 32 finished with value: 0.970701728215924 and parameters: {'model__n_estimators': 878, 'model__max_depth': 5, 'model__learning_rate': 0.023293623953518253, 'model__subsample': 0.8773258264777976}. Best is trial 26 with value: 0.9710199224649103.\u001b[0m\n"
          ]
        },
        {
          "output_type": "stream",
          "name": "stdout",
          "text": [
            "CV stratified bins counts: [6670 6663 6667]\n",
            "Running 3-fold CV on 20000 samples\n",
            " Fold 0: train_size=13333 val_size=6667\n"
          ]
        },
        {
          "output_type": "stream",
          "name": "stderr",
          "text": [
            "2025-06-01 00:20:14,611 - PricePredictionExperiment_XGBRegressor - INFO - Before reverse - price mean: 0.6131231136815939\n",
            "INFO:PricePredictionExperiment_XGBRegressor:Before reverse - price mean: 0.6131231136815939\n",
            "2025-06-01 00:20:14,618 - PricePredictionExperiment_XGBRegressor - INFO - After reverse - price mean: 46994876.19484026\n",
            "INFO:PricePredictionExperiment_XGBRegressor:After reverse - price mean: 46994876.19484026\n",
            "2025-06-01 00:20:14,620 - PricePredictionExperiment_XGBRegressor - WARNING - Unrealistic price values detected: min=1640.00, max=3119770000.00\n",
            "WARNING:PricePredictionExperiment_XGBRegressor:Unrealistic price values detected: min=1640.00, max=3119770000.00\n",
            "2025-06-01 00:20:14,667 - PricePredictionExperiment_XGBRegressor - INFO - Fold 0 - Log scale: R²=0.9716, RMSE=0.0154, SMAPE=1.2253%\n",
            "Original scale: R²=0.8694, RMSE=49273422.2508, SMAPE=11.1197%\n",
            "INFO:PricePredictionExperiment_XGBRegressor:Fold 0 - Log scale: R²=0.9716, RMSE=0.0154, SMAPE=1.2253%\n",
            "Original scale: R²=0.8694, RMSE=49273422.2508, SMAPE=11.1197%\n"
          ]
        },
        {
          "output_type": "stream",
          "name": "stdout",
          "text": [
            " Fold 1: train_size=13333 val_size=6667\n"
          ]
        },
        {
          "output_type": "stream",
          "name": "stderr",
          "text": [
            "2025-06-01 00:20:21,860 - PricePredictionExperiment_XGBRegressor - INFO - Before reverse - price mean: 0.6141490354414657\n",
            "INFO:PricePredictionExperiment_XGBRegressor:Before reverse - price mean: 0.6141490354414657\n",
            "2025-06-01 00:20:21,864 - PricePredictionExperiment_XGBRegressor - INFO - After reverse - price mean: 50439669.25198739\n",
            "INFO:PricePredictionExperiment_XGBRegressor:After reverse - price mean: 50439669.25198739\n",
            "2025-06-01 00:20:21,866 - PricePredictionExperiment_XGBRegressor - WARNING - Unrealistic price values detected: min=1000.00, max=4988000000.00\n",
            "WARNING:PricePredictionExperiment_XGBRegressor:Unrealistic price values detected: min=1000.00, max=4988000000.00\n",
            "2025-06-01 00:20:21,928 - PricePredictionExperiment_XGBRegressor - INFO - Fold 1 - Log scale: R²=0.9644, RMSE=0.0172, SMAPE=1.2400%\n",
            "Original scale: R²=0.7282, RMSE=86495679.6349, SMAPE=11.1503%\n",
            "INFO:PricePredictionExperiment_XGBRegressor:Fold 1 - Log scale: R²=0.9644, RMSE=0.0172, SMAPE=1.2400%\n",
            "Original scale: R²=0.7282, RMSE=86495679.6349, SMAPE=11.1503%\n"
          ]
        },
        {
          "output_type": "stream",
          "name": "stdout",
          "text": [
            " Fold 2: train_size=13334 val_size=6666\n"
          ]
        },
        {
          "output_type": "stream",
          "name": "stderr",
          "text": [
            "2025-06-01 00:20:27,446 - PricePredictionExperiment_XGBRegressor - INFO - Before reverse - price mean: 0.6143135310974003\n",
            "INFO:PricePredictionExperiment_XGBRegressor:Before reverse - price mean: 0.6143135310974003\n",
            "2025-06-01 00:20:27,451 - PricePredictionExperiment_XGBRegressor - INFO - After reverse - price mean: 50743873.696819685\n",
            "INFO:PricePredictionExperiment_XGBRegressor:After reverse - price mean: 50743873.696819685\n",
            "2025-06-01 00:20:27,454 - PricePredictionExperiment_XGBRegressor - WARNING - Unrealistic price values detected: min=100000.00, max=2893991100.00\n",
            "WARNING:PricePredictionExperiment_XGBRegressor:Unrealistic price values detected: min=100000.00, max=2893991100.00\n",
            "2025-06-01 00:20:27,503 - PricePredictionExperiment_XGBRegressor - INFO - Fold 2 - Log scale: R²=0.9760, RMSE=0.0143, SMAPE=1.1923%\n",
            "Original scale: R²=0.8294, RMSE=61394932.7096, SMAPE=10.9987%\n",
            "INFO:PricePredictionExperiment_XGBRegressor:Fold 2 - Log scale: R²=0.9760, RMSE=0.0143, SMAPE=1.1923%\n",
            "Original scale: R²=0.8294, RMSE=61394932.7096, SMAPE=10.9987%\n",
            "\u001b[32m[I 2025-06-01 00:20:27,507]\u001b[0m Trial 33 finished with value: 0.9706505060845747 and parameters: {'model__n_estimators': 946, 'model__max_depth': 5, 'model__learning_rate': 0.028280865434633002, 'model__subsample': 0.8631520141180979}. Best is trial 26 with value: 0.9710199224649103.\u001b[0m\n"
          ]
        },
        {
          "output_type": "stream",
          "name": "stdout",
          "text": [
            "CV stratified bins counts: [6670 6663 6667]\n",
            "Running 3-fold CV on 20000 samples\n",
            " Fold 0: train_size=13333 val_size=6667\n"
          ]
        },
        {
          "output_type": "stream",
          "name": "stderr",
          "text": [
            "2025-06-01 00:20:34,707 - PricePredictionExperiment_XGBRegressor - INFO - Before reverse - price mean: 0.6131231136815939\n",
            "INFO:PricePredictionExperiment_XGBRegressor:Before reverse - price mean: 0.6131231136815939\n",
            "2025-06-01 00:20:34,712 - PricePredictionExperiment_XGBRegressor - INFO - After reverse - price mean: 46994876.19484026\n",
            "INFO:PricePredictionExperiment_XGBRegressor:After reverse - price mean: 46994876.19484026\n",
            "2025-06-01 00:20:34,714 - PricePredictionExperiment_XGBRegressor - WARNING - Unrealistic price values detected: min=1640.00, max=3119770000.00\n",
            "WARNING:PricePredictionExperiment_XGBRegressor:Unrealistic price values detected: min=1640.00, max=3119770000.00\n",
            "2025-06-01 00:20:34,762 - PricePredictionExperiment_XGBRegressor - INFO - Fold 0 - Log scale: R²=0.9717, RMSE=0.0154, SMAPE=1.2241%\n",
            "Original scale: R²=0.8689, RMSE=49367876.6207, SMAPE=11.1132%\n",
            "INFO:PricePredictionExperiment_XGBRegressor:Fold 0 - Log scale: R²=0.9717, RMSE=0.0154, SMAPE=1.2241%\n",
            "Original scale: R²=0.8689, RMSE=49367876.6207, SMAPE=11.1132%\n"
          ]
        },
        {
          "output_type": "stream",
          "name": "stdout",
          "text": [
            " Fold 1: train_size=13333 val_size=6667\n"
          ]
        },
        {
          "output_type": "stream",
          "name": "stderr",
          "text": [
            "2025-06-01 00:20:41,448 - PricePredictionExperiment_XGBRegressor - INFO - Before reverse - price mean: 0.6141490354414657\n",
            "INFO:PricePredictionExperiment_XGBRegressor:Before reverse - price mean: 0.6141490354414657\n",
            "2025-06-01 00:20:41,453 - PricePredictionExperiment_XGBRegressor - INFO - After reverse - price mean: 50439669.25198739\n",
            "INFO:PricePredictionExperiment_XGBRegressor:After reverse - price mean: 50439669.25198739\n",
            "2025-06-01 00:20:41,458 - PricePredictionExperiment_XGBRegressor - WARNING - Unrealistic price values detected: min=1000.00, max=4988000000.00\n",
            "WARNING:PricePredictionExperiment_XGBRegressor:Unrealistic price values detected: min=1000.00, max=4988000000.00\n",
            "2025-06-01 00:20:41,524 - PricePredictionExperiment_XGBRegressor - INFO - Fold 1 - Log scale: R²=0.9652, RMSE=0.0170, SMAPE=1.2333%\n",
            "Original scale: R²=0.7259, RMSE=86862977.9381, SMAPE=11.0953%\n",
            "INFO:PricePredictionExperiment_XGBRegressor:Fold 1 - Log scale: R²=0.9652, RMSE=0.0170, SMAPE=1.2333%\n",
            "Original scale: R²=0.7259, RMSE=86862977.9381, SMAPE=11.0953%\n"
          ]
        },
        {
          "output_type": "stream",
          "name": "stdout",
          "text": [
            " Fold 2: train_size=13334 val_size=6666\n"
          ]
        },
        {
          "output_type": "stream",
          "name": "stderr",
          "text": [
            "2025-06-01 00:20:48,704 - PricePredictionExperiment_XGBRegressor - INFO - Before reverse - price mean: 0.6143135310974003\n",
            "INFO:PricePredictionExperiment_XGBRegressor:Before reverse - price mean: 0.6143135310974003\n",
            "2025-06-01 00:20:48,709 - PricePredictionExperiment_XGBRegressor - INFO - After reverse - price mean: 50743873.696819685\n",
            "INFO:PricePredictionExperiment_XGBRegressor:After reverse - price mean: 50743873.696819685\n",
            "2025-06-01 00:20:48,710 - PricePredictionExperiment_XGBRegressor - WARNING - Unrealistic price values detected: min=100000.00, max=2893991100.00\n",
            "WARNING:PricePredictionExperiment_XGBRegressor:Unrealistic price values detected: min=100000.00, max=2893991100.00\n",
            "2025-06-01 00:20:48,758 - PricePredictionExperiment_XGBRegressor - INFO - Fold 2 - Log scale: R²=0.9761, RMSE=0.0143, SMAPE=1.1907%\n",
            "Original scale: R²=0.8475, RMSE=58040639.3514, SMAPE=10.9806%\n",
            "INFO:PricePredictionExperiment_XGBRegressor:Fold 2 - Log scale: R²=0.9761, RMSE=0.0143, SMAPE=1.1907%\n",
            "Original scale: R²=0.8475, RMSE=58040639.3514, SMAPE=10.9806%\n",
            "\u001b[32m[I 2025-06-01 00:20:48,763]\u001b[0m Trial 34 finished with value: 0.9709732097380096 and parameters: {'model__n_estimators': 972, 'model__max_depth': 5, 'model__learning_rate': 0.029074311548592677, 'model__subsample': 0.8189611505081555}. Best is trial 26 with value: 0.9710199224649103.\u001b[0m\n"
          ]
        },
        {
          "output_type": "stream",
          "name": "stdout",
          "text": [
            "CV stratified bins counts: [6670 6663 6667]\n",
            "Running 3-fold CV on 20000 samples\n",
            " Fold 0: train_size=13333 val_size=6667\n"
          ]
        },
        {
          "output_type": "stream",
          "name": "stderr",
          "text": [
            "2025-06-01 00:20:54,654 - PricePredictionExperiment_XGBRegressor - INFO - Before reverse - price mean: 0.6131231136815939\n",
            "INFO:PricePredictionExperiment_XGBRegressor:Before reverse - price mean: 0.6131231136815939\n",
            "2025-06-01 00:20:54,661 - PricePredictionExperiment_XGBRegressor - INFO - After reverse - price mean: 46994876.19484026\n",
            "INFO:PricePredictionExperiment_XGBRegressor:After reverse - price mean: 46994876.19484026\n",
            "2025-06-01 00:20:54,664 - PricePredictionExperiment_XGBRegressor - WARNING - Unrealistic price values detected: min=1640.00, max=3119770000.00\n",
            "WARNING:PricePredictionExperiment_XGBRegressor:Unrealistic price values detected: min=1640.00, max=3119770000.00\n",
            "2025-06-01 00:20:54,728 - PricePredictionExperiment_XGBRegressor - INFO - Fold 0 - Log scale: R²=0.9717, RMSE=0.0154, SMAPE=1.2217%\n",
            "Original scale: R²=0.8724, RMSE=48710340.7314, SMAPE=11.0875%\n",
            "INFO:PricePredictionExperiment_XGBRegressor:Fold 0 - Log scale: R²=0.9717, RMSE=0.0154, SMAPE=1.2217%\n",
            "Original scale: R²=0.8724, RMSE=48710340.7314, SMAPE=11.0875%\n"
          ]
        },
        {
          "output_type": "stream",
          "name": "stdout",
          "text": [
            " Fold 1: train_size=13333 val_size=6667\n"
          ]
        },
        {
          "output_type": "stream",
          "name": "stderr",
          "text": [
            "2025-06-01 00:21:01,927 - PricePredictionExperiment_XGBRegressor - INFO - Before reverse - price mean: 0.6141490354414657\n",
            "INFO:PricePredictionExperiment_XGBRegressor:Before reverse - price mean: 0.6141490354414657\n",
            "2025-06-01 00:21:01,932 - PricePredictionExperiment_XGBRegressor - INFO - After reverse - price mean: 50439669.25198739\n",
            "INFO:PricePredictionExperiment_XGBRegressor:After reverse - price mean: 50439669.25198739\n",
            "2025-06-01 00:21:01,934 - PricePredictionExperiment_XGBRegressor - WARNING - Unrealistic price values detected: min=1000.00, max=4988000000.00\n",
            "WARNING:PricePredictionExperiment_XGBRegressor:Unrealistic price values detected: min=1000.00, max=4988000000.00\n",
            "2025-06-01 00:21:01,981 - PricePredictionExperiment_XGBRegressor - INFO - Fold 1 - Log scale: R²=0.9647, RMSE=0.0172, SMAPE=1.2353%\n",
            "Original scale: R²=0.7230, RMSE=87326527.5868, SMAPE=11.1219%\n",
            "INFO:PricePredictionExperiment_XGBRegressor:Fold 1 - Log scale: R²=0.9647, RMSE=0.0172, SMAPE=1.2353%\n",
            "Original scale: R²=0.7230, RMSE=87326527.5868, SMAPE=11.1219%\n"
          ]
        },
        {
          "output_type": "stream",
          "name": "stdout",
          "text": [
            " Fold 2: train_size=13334 val_size=6666\n"
          ]
        },
        {
          "output_type": "stream",
          "name": "stderr",
          "text": [
            "2025-06-01 00:21:07,646 - PricePredictionExperiment_XGBRegressor - INFO - Before reverse - price mean: 0.6143135310974003\n",
            "INFO:PricePredictionExperiment_XGBRegressor:Before reverse - price mean: 0.6143135310974003\n",
            "2025-06-01 00:21:07,650 - PricePredictionExperiment_XGBRegressor - INFO - After reverse - price mean: 50743873.696819685\n",
            "INFO:PricePredictionExperiment_XGBRegressor:After reverse - price mean: 50743873.696819685\n",
            "2025-06-01 00:21:07,652 - PricePredictionExperiment_XGBRegressor - WARNING - Unrealistic price values detected: min=100000.00, max=2893991100.00\n",
            "WARNING:PricePredictionExperiment_XGBRegressor:Unrealistic price values detected: min=100000.00, max=2893991100.00\n",
            "2025-06-01 00:21:07,715 - PricePredictionExperiment_XGBRegressor - INFO - Fold 2 - Log scale: R²=0.9762, RMSE=0.0143, SMAPE=1.1866%\n",
            "Original scale: R²=0.8382, RMSE=59795405.3276, SMAPE=10.9480%\n",
            "INFO:PricePredictionExperiment_XGBRegressor:Fold 2 - Log scale: R²=0.9762, RMSE=0.0143, SMAPE=1.1866%\n",
            "Original scale: R²=0.8382, RMSE=59795405.3276, SMAPE=10.9480%\n",
            "\u001b[32m[I 2025-06-01 00:21:07,721]\u001b[0m Trial 35 finished with value: 0.9708499796960589 and parameters: {'model__n_estimators': 984, 'model__max_depth': 5, 'model__learning_rate': 0.025851892175348654, 'model__subsample': 0.8427266864288061}. Best is trial 26 with value: 0.9710199224649103.\u001b[0m\n"
          ]
        },
        {
          "output_type": "stream",
          "name": "stdout",
          "text": [
            "CV stratified bins counts: [6670 6663 6667]\n",
            "Running 3-fold CV on 20000 samples\n",
            " Fold 0: train_size=13333 val_size=6667\n"
          ]
        },
        {
          "output_type": "stream",
          "name": "stderr",
          "text": [
            "2025-06-01 00:21:12,327 - PricePredictionExperiment_XGBRegressor - INFO - Before reverse - price mean: 0.6131231136815939\n",
            "INFO:PricePredictionExperiment_XGBRegressor:Before reverse - price mean: 0.6131231136815939\n",
            "2025-06-01 00:21:12,340 - PricePredictionExperiment_XGBRegressor - INFO - After reverse - price mean: 46994876.19484026\n",
            "INFO:PricePredictionExperiment_XGBRegressor:After reverse - price mean: 46994876.19484026\n",
            "2025-06-01 00:21:12,342 - PricePredictionExperiment_XGBRegressor - WARNING - Unrealistic price values detected: min=1640.00, max=3119770000.00\n",
            "WARNING:PricePredictionExperiment_XGBRegressor:Unrealistic price values detected: min=1640.00, max=3119770000.00\n",
            "2025-06-01 00:21:12,400 - PricePredictionExperiment_XGBRegressor - INFO - Fold 0 - Log scale: R²=0.9711, RMSE=0.0155, SMAPE=1.2616%\n",
            "Original scale: R²=0.8753, RMSE=48159460.9572, SMAPE=11.5042%\n",
            "INFO:PricePredictionExperiment_XGBRegressor:Fold 0 - Log scale: R²=0.9711, RMSE=0.0155, SMAPE=1.2616%\n",
            "Original scale: R²=0.8753, RMSE=48159460.9572, SMAPE=11.5042%\n"
          ]
        },
        {
          "output_type": "stream",
          "name": "stdout",
          "text": [
            " Fold 1: train_size=13333 val_size=6667\n"
          ]
        },
        {
          "output_type": "stream",
          "name": "stderr",
          "text": [
            "2025-06-01 00:21:17,643 - PricePredictionExperiment_XGBRegressor - INFO - Before reverse - price mean: 0.6141490354414657\n",
            "INFO:PricePredictionExperiment_XGBRegressor:Before reverse - price mean: 0.6141490354414657\n",
            "2025-06-01 00:21:17,649 - PricePredictionExperiment_XGBRegressor - INFO - After reverse - price mean: 50439669.25198739\n",
            "INFO:PricePredictionExperiment_XGBRegressor:After reverse - price mean: 50439669.25198739\n",
            "2025-06-01 00:21:17,651 - PricePredictionExperiment_XGBRegressor - WARNING - Unrealistic price values detected: min=1000.00, max=4988000000.00\n",
            "WARNING:PricePredictionExperiment_XGBRegressor:Unrealistic price values detected: min=1000.00, max=4988000000.00\n",
            "2025-06-01 00:21:17,715 - PricePredictionExperiment_XGBRegressor - INFO - Fold 1 - Log scale: R²=0.9636, RMSE=0.0174, SMAPE=1.2790%\n",
            "Original scale: R²=0.7270, RMSE=86692233.6635, SMAPE=11.5225%\n",
            "INFO:PricePredictionExperiment_XGBRegressor:Fold 1 - Log scale: R²=0.9636, RMSE=0.0174, SMAPE=1.2790%\n",
            "Original scale: R²=0.7270, RMSE=86692233.6635, SMAPE=11.5225%\n"
          ]
        },
        {
          "output_type": "stream",
          "name": "stdout",
          "text": [
            " Fold 2: train_size=13334 val_size=6666\n"
          ]
        },
        {
          "output_type": "stream",
          "name": "stderr",
          "text": [
            "2025-06-01 00:21:21,906 - PricePredictionExperiment_XGBRegressor - INFO - Before reverse - price mean: 0.6143135310974003\n",
            "INFO:PricePredictionExperiment_XGBRegressor:Before reverse - price mean: 0.6143135310974003\n",
            "2025-06-01 00:21:21,911 - PricePredictionExperiment_XGBRegressor - INFO - After reverse - price mean: 50743873.696819685\n",
            "INFO:PricePredictionExperiment_XGBRegressor:After reverse - price mean: 50743873.696819685\n",
            "2025-06-01 00:21:21,913 - PricePredictionExperiment_XGBRegressor - WARNING - Unrealistic price values detected: min=100000.00, max=2893991100.00\n",
            "WARNING:PricePredictionExperiment_XGBRegressor:Unrealistic price values detected: min=100000.00, max=2893991100.00\n",
            "2025-06-01 00:21:21,962 - PricePredictionExperiment_XGBRegressor - INFO - Fold 2 - Log scale: R²=0.9749, RMSE=0.0146, SMAPE=1.2313%\n",
            "Original scale: R²=0.8422, RMSE=59051130.2808, SMAPE=11.3451%\n",
            "INFO:PricePredictionExperiment_XGBRegressor:Fold 2 - Log scale: R²=0.9749, RMSE=0.0146, SMAPE=1.2313%\n",
            "Original scale: R²=0.8422, RMSE=59051130.2808, SMAPE=11.3451%\n",
            "\u001b[32m[I 2025-06-01 00:21:21,967]\u001b[0m Trial 36 finished with value: 0.9698654531230368 and parameters: {'model__n_estimators': 940, 'model__max_depth': 4, 'model__learning_rate': 0.02915384227841367, 'model__subsample': 0.8244148130836283}. Best is trial 26 with value: 0.9710199224649103.\u001b[0m\n"
          ]
        },
        {
          "output_type": "stream",
          "name": "stdout",
          "text": [
            "CV stratified bins counts: [6670 6663 6667]\n",
            "Running 3-fold CV on 20000 samples\n",
            " Fold 0: train_size=13333 val_size=6667\n"
          ]
        },
        {
          "output_type": "stream",
          "name": "stderr",
          "text": [
            "2025-06-01 00:21:29,096 - PricePredictionExperiment_XGBRegressor - INFO - Before reverse - price mean: 0.6131231136815939\n",
            "INFO:PricePredictionExperiment_XGBRegressor:Before reverse - price mean: 0.6131231136815939\n",
            "2025-06-01 00:21:29,104 - PricePredictionExperiment_XGBRegressor - INFO - After reverse - price mean: 46994876.19484026\n",
            "INFO:PricePredictionExperiment_XGBRegressor:After reverse - price mean: 46994876.19484026\n",
            "2025-06-01 00:21:29,105 - PricePredictionExperiment_XGBRegressor - WARNING - Unrealistic price values detected: min=1640.00, max=3119770000.00\n",
            "WARNING:PricePredictionExperiment_XGBRegressor:Unrealistic price values detected: min=1640.00, max=3119770000.00\n",
            "2025-06-01 00:21:29,170 - PricePredictionExperiment_XGBRegressor - INFO - Fold 0 - Log scale: R²=0.9706, RMSE=0.0157, SMAPE=1.2534%\n",
            "Original scale: R²=0.8695, RMSE=49260569.9837, SMAPE=11.3841%\n",
            "INFO:PricePredictionExperiment_XGBRegressor:Fold 0 - Log scale: R²=0.9706, RMSE=0.0157, SMAPE=1.2534%\n",
            "Original scale: R²=0.8695, RMSE=49260569.9837, SMAPE=11.3841%\n"
          ]
        },
        {
          "output_type": "stream",
          "name": "stdout",
          "text": [
            " Fold 1: train_size=13333 val_size=6667\n"
          ]
        },
        {
          "output_type": "stream",
          "name": "stderr",
          "text": [
            "2025-06-01 00:21:34,592 - PricePredictionExperiment_XGBRegressor - INFO - Before reverse - price mean: 0.6141490354414657\n",
            "INFO:PricePredictionExperiment_XGBRegressor:Before reverse - price mean: 0.6141490354414657\n",
            "2025-06-01 00:21:34,597 - PricePredictionExperiment_XGBRegressor - INFO - After reverse - price mean: 50439669.25198739\n",
            "INFO:PricePredictionExperiment_XGBRegressor:After reverse - price mean: 50439669.25198739\n",
            "2025-06-01 00:21:34,598 - PricePredictionExperiment_XGBRegressor - WARNING - Unrealistic price values detected: min=1000.00, max=4988000000.00\n",
            "WARNING:PricePredictionExperiment_XGBRegressor:Unrealistic price values detected: min=1000.00, max=4988000000.00\n",
            "2025-06-01 00:21:34,648 - PricePredictionExperiment_XGBRegressor - INFO - Fold 1 - Log scale: R²=0.9638, RMSE=0.0174, SMAPE=1.2647%\n",
            "Original scale: R²=0.7101, RMSE=89338289.5024, SMAPE=11.3853%\n",
            "INFO:PricePredictionExperiment_XGBRegressor:Fold 1 - Log scale: R²=0.9638, RMSE=0.0174, SMAPE=1.2647%\n",
            "Original scale: R²=0.7101, RMSE=89338289.5024, SMAPE=11.3853%\n"
          ]
        },
        {
          "output_type": "stream",
          "name": "stdout",
          "text": [
            " Fold 2: train_size=13334 val_size=6666\n"
          ]
        },
        {
          "output_type": "stream",
          "name": "stderr",
          "text": [
            "2025-06-01 00:21:41,484 - PricePredictionExperiment_XGBRegressor - INFO - Before reverse - price mean: 0.6143135310974003\n",
            "INFO:PricePredictionExperiment_XGBRegressor:Before reverse - price mean: 0.6143135310974003\n",
            "2025-06-01 00:21:41,490 - PricePredictionExperiment_XGBRegressor - INFO - After reverse - price mean: 50743873.696819685\n",
            "INFO:PricePredictionExperiment_XGBRegressor:After reverse - price mean: 50743873.696819685\n",
            "2025-06-01 00:21:41,492 - PricePredictionExperiment_XGBRegressor - WARNING - Unrealistic price values detected: min=100000.00, max=2893991100.00\n",
            "WARNING:PricePredictionExperiment_XGBRegressor:Unrealistic price values detected: min=100000.00, max=2893991100.00\n",
            "2025-06-01 00:21:41,575 - PricePredictionExperiment_XGBRegressor - INFO - Fold 2 - Log scale: R²=0.9755, RMSE=0.0145, SMAPE=1.2034%\n",
            "Original scale: R²=0.8316, RMSE=60995486.1610, SMAPE=11.1211%\n",
            "INFO:PricePredictionExperiment_XGBRegressor:Fold 2 - Log scale: R²=0.9755, RMSE=0.0145, SMAPE=1.2034%\n",
            "Original scale: R²=0.8316, RMSE=60995486.1610, SMAPE=11.1211%\n",
            "\u001b[32m[I 2025-06-01 00:21:41,582]\u001b[0m Trial 37 finished with value: 0.9699500471206774 and parameters: {'model__n_estimators': 924, 'model__max_depth': 5, 'model__learning_rate': 0.020378760422594767, 'model__subsample': 0.997892251106423}. Best is trial 26 with value: 0.9710199224649103.\u001b[0m\n"
          ]
        },
        {
          "output_type": "stream",
          "name": "stdout",
          "text": [
            "CV stratified bins counts: [6670 6663 6667]\n",
            "Running 3-fold CV on 20000 samples\n",
            " Fold 0: train_size=13333 val_size=6667\n"
          ]
        },
        {
          "output_type": "stream",
          "name": "stderr",
          "text": [
            "2025-06-01 00:21:46,572 - PricePredictionExperiment_XGBRegressor - INFO - Before reverse - price mean: 0.6131231136815939\n",
            "INFO:PricePredictionExperiment_XGBRegressor:Before reverse - price mean: 0.6131231136815939\n",
            "2025-06-01 00:21:46,578 - PricePredictionExperiment_XGBRegressor - INFO - After reverse - price mean: 46994876.19484026\n",
            "INFO:PricePredictionExperiment_XGBRegressor:After reverse - price mean: 46994876.19484026\n",
            "2025-06-01 00:21:46,582 - PricePredictionExperiment_XGBRegressor - WARNING - Unrealistic price values detected: min=1640.00, max=3119770000.00\n",
            "WARNING:PricePredictionExperiment_XGBRegressor:Unrealistic price values detected: min=1640.00, max=3119770000.00\n",
            "2025-06-01 00:21:46,629 - PricePredictionExperiment_XGBRegressor - INFO - Fold 0 - Log scale: R²=0.9709, RMSE=0.0156, SMAPE=1.2696%\n",
            "Original scale: R²=0.8724, RMSE=48715612.5905, SMAPE=11.5799%\n",
            "INFO:PricePredictionExperiment_XGBRegressor:Fold 0 - Log scale: R²=0.9709, RMSE=0.0156, SMAPE=1.2696%\n",
            "Original scale: R²=0.8724, RMSE=48715612.5905, SMAPE=11.5799%\n"
          ]
        },
        {
          "output_type": "stream",
          "name": "stdout",
          "text": [
            " Fold 1: train_size=13333 val_size=6667\n"
          ]
        },
        {
          "output_type": "stream",
          "name": "stderr",
          "text": [
            "2025-06-01 00:21:50,993 - PricePredictionExperiment_XGBRegressor - INFO - Before reverse - price mean: 0.6141490354414657\n",
            "INFO:PricePredictionExperiment_XGBRegressor:Before reverse - price mean: 0.6141490354414657\n",
            "2025-06-01 00:21:50,997 - PricePredictionExperiment_XGBRegressor - INFO - After reverse - price mean: 50439669.25198739\n",
            "INFO:PricePredictionExperiment_XGBRegressor:After reverse - price mean: 50439669.25198739\n",
            "2025-06-01 00:21:50,999 - PricePredictionExperiment_XGBRegressor - WARNING - Unrealistic price values detected: min=1000.00, max=4988000000.00\n",
            "WARNING:PricePredictionExperiment_XGBRegressor:Unrealistic price values detected: min=1000.00, max=4988000000.00\n",
            "2025-06-01 00:21:51,080 - PricePredictionExperiment_XGBRegressor - INFO - Fold 1 - Log scale: R²=0.9632, RMSE=0.0175, SMAPE=1.2794%\n",
            "Original scale: R²=0.7279, RMSE=86552087.0366, SMAPE=11.5301%\n",
            "INFO:PricePredictionExperiment_XGBRegressor:Fold 1 - Log scale: R²=0.9632, RMSE=0.0175, SMAPE=1.2794%\n",
            "Original scale: R²=0.7279, RMSE=86552087.0366, SMAPE=11.5301%\n"
          ]
        },
        {
          "output_type": "stream",
          "name": "stdout",
          "text": [
            " Fold 2: train_size=13334 val_size=6666\n"
          ]
        },
        {
          "output_type": "stream",
          "name": "stderr",
          "text": [
            "2025-06-01 00:21:57,060 - PricePredictionExperiment_XGBRegressor - INFO - Before reverse - price mean: 0.6143135310974003\n",
            "INFO:PricePredictionExperiment_XGBRegressor:Before reverse - price mean: 0.6143135310974003\n",
            "2025-06-01 00:21:57,065 - PricePredictionExperiment_XGBRegressor - INFO - After reverse - price mean: 50743873.696819685\n",
            "INFO:PricePredictionExperiment_XGBRegressor:After reverse - price mean: 50743873.696819685\n",
            "2025-06-01 00:21:57,068 - PricePredictionExperiment_XGBRegressor - WARNING - Unrealistic price values detected: min=100000.00, max=2893991100.00\n",
            "WARNING:PricePredictionExperiment_XGBRegressor:Unrealistic price values detected: min=100000.00, max=2893991100.00\n",
            "2025-06-01 00:21:57,116 - PricePredictionExperiment_XGBRegressor - INFO - Fold 2 - Log scale: R²=0.9746, RMSE=0.0147, SMAPE=1.2353%\n",
            "Original scale: R²=0.8319, RMSE=60947074.7865, SMAPE=11.3810%\n",
            "INFO:PricePredictionExperiment_XGBRegressor:Fold 2 - Log scale: R²=0.9746, RMSE=0.0147, SMAPE=1.2353%\n",
            "Original scale: R²=0.8319, RMSE=60947074.7865, SMAPE=11.3810%\n",
            "\u001b[32m[I 2025-06-01 00:21:57,120]\u001b[0m Trial 38 finished with value: 0.9695663819039347 and parameters: {'model__n_estimators': 966, 'model__max_depth': 4, 'model__learning_rate': 0.02360076561140396, 'model__subsample': 0.8618615380752794}. Best is trial 26 with value: 0.9710199224649103.\u001b[0m\n"
          ]
        },
        {
          "output_type": "stream",
          "name": "stdout",
          "text": [
            "CV stratified bins counts: [6670 6663 6667]\n",
            "Running 3-fold CV on 20000 samples\n",
            " Fold 0: train_size=13333 val_size=6667\n"
          ]
        },
        {
          "output_type": "stream",
          "name": "stderr",
          "text": [
            "2025-06-01 00:22:02,882 - PricePredictionExperiment_XGBRegressor - INFO - Before reverse - price mean: 0.6131231136815939\n",
            "INFO:PricePredictionExperiment_XGBRegressor:Before reverse - price mean: 0.6131231136815939\n",
            "2025-06-01 00:22:02,887 - PricePredictionExperiment_XGBRegressor - INFO - After reverse - price mean: 46994876.19484026\n",
            "INFO:PricePredictionExperiment_XGBRegressor:After reverse - price mean: 46994876.19484026\n",
            "2025-06-01 00:22:02,888 - PricePredictionExperiment_XGBRegressor - WARNING - Unrealistic price values detected: min=1640.00, max=3119770000.00\n",
            "WARNING:PricePredictionExperiment_XGBRegressor:Unrealistic price values detected: min=1640.00, max=3119770000.00\n",
            "2025-06-01 00:22:02,955 - PricePredictionExperiment_XGBRegressor - INFO - Fold 0 - Log scale: R²=0.9700, RMSE=0.0158, SMAPE=1.2563%\n",
            "Original scale: R²=0.8694, RMSE=49272418.5246, SMAPE=11.4119%\n",
            "INFO:PricePredictionExperiment_XGBRegressor:Fold 0 - Log scale: R²=0.9700, RMSE=0.0158, SMAPE=1.2563%\n",
            "Original scale: R²=0.8694, RMSE=49272418.5246, SMAPE=11.4119%\n"
          ]
        },
        {
          "output_type": "stream",
          "name": "stdout",
          "text": [
            " Fold 1: train_size=13333 val_size=6667\n"
          ]
        },
        {
          "output_type": "stream",
          "name": "stderr",
          "text": [
            "2025-06-01 00:22:10,161 - PricePredictionExperiment_XGBRegressor - INFO - Before reverse - price mean: 0.6141490354414657\n",
            "INFO:PricePredictionExperiment_XGBRegressor:Before reverse - price mean: 0.6141490354414657\n",
            "2025-06-01 00:22:10,166 - PricePredictionExperiment_XGBRegressor - INFO - After reverse - price mean: 50439669.25198739\n",
            "INFO:PricePredictionExperiment_XGBRegressor:After reverse - price mean: 50439669.25198739\n",
            "2025-06-01 00:22:10,167 - PricePredictionExperiment_XGBRegressor - WARNING - Unrealistic price values detected: min=1000.00, max=4988000000.00\n",
            "WARNING:PricePredictionExperiment_XGBRegressor:Unrealistic price values detected: min=1000.00, max=4988000000.00\n",
            "2025-06-01 00:22:10,218 - PricePredictionExperiment_XGBRegressor - INFO - Fold 1 - Log scale: R²=0.9636, RMSE=0.0174, SMAPE=1.2538%\n",
            "Original scale: R²=0.7117, RMSE=89087724.2184, SMAPE=11.2892%\n",
            "INFO:PricePredictionExperiment_XGBRegressor:Fold 1 - Log scale: R²=0.9636, RMSE=0.0174, SMAPE=1.2538%\n",
            "Original scale: R²=0.7117, RMSE=89087724.2184, SMAPE=11.2892%\n"
          ]
        },
        {
          "output_type": "stream",
          "name": "stdout",
          "text": [
            " Fold 2: train_size=13334 val_size=6666\n"
          ]
        },
        {
          "output_type": "stream",
          "name": "stderr",
          "text": [
            "2025-06-01 00:22:15,877 - PricePredictionExperiment_XGBRegressor - INFO - Before reverse - price mean: 0.6143135310974003\n",
            "INFO:PricePredictionExperiment_XGBRegressor:Before reverse - price mean: 0.6143135310974003\n",
            "2025-06-01 00:22:15,882 - PricePredictionExperiment_XGBRegressor - INFO - After reverse - price mean: 50743873.696819685\n",
            "INFO:PricePredictionExperiment_XGBRegressor:After reverse - price mean: 50743873.696819685\n",
            "2025-06-01 00:22:15,884 - PricePredictionExperiment_XGBRegressor - WARNING - Unrealistic price values detected: min=100000.00, max=2893991100.00\n",
            "WARNING:PricePredictionExperiment_XGBRegressor:Unrealistic price values detected: min=100000.00, max=2893991100.00\n",
            "2025-06-01 00:22:15,945 - PricePredictionExperiment_XGBRegressor - INFO - Fold 2 - Log scale: R²=0.9748, RMSE=0.0147, SMAPE=1.2146%\n",
            "Original scale: R²=0.8266, RMSE=61894869.9223, SMAPE=11.1999%\n",
            "INFO:PricePredictionExperiment_XGBRegressor:Fold 2 - Log scale: R²=0.9748, RMSE=0.0147, SMAPE=1.2146%\n",
            "Original scale: R²=0.8266, RMSE=61894869.9223, SMAPE=11.1999%\n",
            "\u001b[32m[I 2025-06-01 00:22:15,953]\u001b[0m Trial 39 finished with value: 0.9694505999386368 and parameters: {'model__n_estimators': 895, 'model__max_depth': 5, 'model__learning_rate': 0.01239546436367761, 'model__subsample': 0.8874530974919144}. Best is trial 26 with value: 0.9710199224649103.\u001b[0m\n"
          ]
        },
        {
          "output_type": "stream",
          "name": "stdout",
          "text": [
            "CV stratified bins counts: [6670 6663 6667]\n",
            "Running 3-fold CV on 20000 samples\n",
            " Fold 0: train_size=13333 val_size=6667\n"
          ]
        },
        {
          "output_type": "stream",
          "name": "stderr",
          "text": [
            "2025-06-01 00:22:23,263 - PricePredictionExperiment_XGBRegressor - INFO - Before reverse - price mean: 0.6131231136815939\n",
            "INFO:PricePredictionExperiment_XGBRegressor:Before reverse - price mean: 0.6131231136815939\n",
            "2025-06-01 00:22:23,268 - PricePredictionExperiment_XGBRegressor - INFO - After reverse - price mean: 46994876.19484026\n",
            "INFO:PricePredictionExperiment_XGBRegressor:After reverse - price mean: 46994876.19484026\n",
            "2025-06-01 00:22:23,272 - PricePredictionExperiment_XGBRegressor - WARNING - Unrealistic price values detected: min=1640.00, max=3119770000.00\n",
            "WARNING:PricePredictionExperiment_XGBRegressor:Unrealistic price values detected: min=1640.00, max=3119770000.00\n",
            "2025-06-01 00:22:23,323 - PricePredictionExperiment_XGBRegressor - INFO - Fold 0 - Log scale: R²=0.9719, RMSE=0.0153, SMAPE=1.2243%\n",
            "Original scale: R²=0.8711, RMSE=48964424.1135, SMAPE=11.1096%\n",
            "INFO:PricePredictionExperiment_XGBRegressor:Fold 0 - Log scale: R²=0.9719, RMSE=0.0153, SMAPE=1.2243%\n",
            "Original scale: R²=0.8711, RMSE=48964424.1135, SMAPE=11.1096%\n"
          ]
        },
        {
          "output_type": "stream",
          "name": "stdout",
          "text": [
            " Fold 1: train_size=13333 val_size=6667\n"
          ]
        },
        {
          "output_type": "stream",
          "name": "stderr",
          "text": [
            "2025-06-01 00:22:29,053 - PricePredictionExperiment_XGBRegressor - INFO - Before reverse - price mean: 0.6141490354414657\n",
            "INFO:PricePredictionExperiment_XGBRegressor:Before reverse - price mean: 0.6141490354414657\n",
            "2025-06-01 00:22:29,058 - PricePredictionExperiment_XGBRegressor - INFO - After reverse - price mean: 50439669.25198739\n",
            "INFO:PricePredictionExperiment_XGBRegressor:After reverse - price mean: 50439669.25198739\n",
            "2025-06-01 00:22:29,061 - PricePredictionExperiment_XGBRegressor - WARNING - Unrealistic price values detected: min=1000.00, max=4988000000.00\n",
            "WARNING:PricePredictionExperiment_XGBRegressor:Unrealistic price values detected: min=1000.00, max=4988000000.00\n",
            "2025-06-01 00:22:29,125 - PricePredictionExperiment_XGBRegressor - INFO - Fold 1 - Log scale: R²=0.9647, RMSE=0.0172, SMAPE=1.2340%\n",
            "Original scale: R²=0.7308, RMSE=86094490.7243, SMAPE=11.0965%\n",
            "INFO:PricePredictionExperiment_XGBRegressor:Fold 1 - Log scale: R²=0.9647, RMSE=0.0172, SMAPE=1.2340%\n",
            "Original scale: R²=0.7308, RMSE=86094490.7243, SMAPE=11.0965%\n"
          ]
        },
        {
          "output_type": "stream",
          "name": "stdout",
          "text": [
            " Fold 2: train_size=13334 val_size=6666\n"
          ]
        },
        {
          "output_type": "stream",
          "name": "stderr",
          "text": [
            "2025-06-01 00:22:36,294 - PricePredictionExperiment_XGBRegressor - INFO - Before reverse - price mean: 0.6143135310974003\n",
            "INFO:PricePredictionExperiment_XGBRegressor:Before reverse - price mean: 0.6143135310974003\n",
            "2025-06-01 00:22:36,298 - PricePredictionExperiment_XGBRegressor - INFO - After reverse - price mean: 50743873.696819685\n",
            "INFO:PricePredictionExperiment_XGBRegressor:After reverse - price mean: 50743873.696819685\n",
            "2025-06-01 00:22:36,300 - PricePredictionExperiment_XGBRegressor - WARNING - Unrealistic price values detected: min=100000.00, max=2893991100.00\n",
            "WARNING:PricePredictionExperiment_XGBRegressor:Unrealistic price values detected: min=100000.00, max=2893991100.00\n",
            "2025-06-01 00:22:36,343 - PricePredictionExperiment_XGBRegressor - INFO - Fold 2 - Log scale: R²=0.9761, RMSE=0.0143, SMAPE=1.1943%\n",
            "Original scale: R²=0.8431, RMSE=58873034.5231, SMAPE=11.0070%\n",
            "INFO:PricePredictionExperiment_XGBRegressor:Fold 2 - Log scale: R²=0.9761, RMSE=0.0143, SMAPE=1.1943%\n",
            "Original scale: R²=0.8431, RMSE=58873034.5231, SMAPE=11.0070%\n",
            "\u001b[32m[I 2025-06-01 00:22:36,347]\u001b[0m Trial 40 finished with value: 0.9708799803980089 and parameters: {'model__n_estimators': 1000, 'model__max_depth': 5, 'model__learning_rate': 0.03535546125373606, 'model__subsample': 0.8440855241022434}. Best is trial 26 with value: 0.9710199224649103.\u001b[0m\n"
          ]
        },
        {
          "output_type": "stream",
          "name": "stdout",
          "text": [
            "CV stratified bins counts: [6670 6663 6667]\n",
            "Running 3-fold CV on 20000 samples\n",
            " Fold 0: train_size=13333 val_size=6667\n"
          ]
        },
        {
          "output_type": "stream",
          "name": "stderr",
          "text": [
            "2025-06-01 00:22:41,175 - PricePredictionExperiment_XGBRegressor - INFO - Before reverse - price mean: 0.6131231136815939\n",
            "INFO:PricePredictionExperiment_XGBRegressor:Before reverse - price mean: 0.6131231136815939\n",
            "2025-06-01 00:22:41,182 - PricePredictionExperiment_XGBRegressor - INFO - After reverse - price mean: 46994876.19484026\n",
            "INFO:PricePredictionExperiment_XGBRegressor:After reverse - price mean: 46994876.19484026\n",
            "2025-06-01 00:22:41,185 - PricePredictionExperiment_XGBRegressor - WARNING - Unrealistic price values detected: min=1640.00, max=3119770000.00\n",
            "WARNING:PricePredictionExperiment_XGBRegressor:Unrealistic price values detected: min=1640.00, max=3119770000.00\n",
            "2025-06-01 00:22:41,235 - PricePredictionExperiment_XGBRegressor - INFO - Fold 0 - Log scale: R²=0.9716, RMSE=0.0154, SMAPE=1.2243%\n",
            "Original scale: R²=0.8725, RMSE=48687209.3213, SMAPE=11.1144%\n",
            "INFO:PricePredictionExperiment_XGBRegressor:Fold 0 - Log scale: R²=0.9716, RMSE=0.0154, SMAPE=1.2243%\n",
            "Original scale: R²=0.8725, RMSE=48687209.3213, SMAPE=11.1144%\n"
          ]
        },
        {
          "output_type": "stream",
          "name": "stdout",
          "text": [
            " Fold 1: train_size=13333 val_size=6667\n"
          ]
        },
        {
          "output_type": "stream",
          "name": "stderr",
          "text": [
            "2025-06-01 00:22:46,006 - PricePredictionExperiment_XGBRegressor - INFO - Before reverse - price mean: 0.6141490354414657\n",
            "INFO:PricePredictionExperiment_XGBRegressor:Before reverse - price mean: 0.6141490354414657\n",
            "2025-06-01 00:22:46,010 - PricePredictionExperiment_XGBRegressor - INFO - After reverse - price mean: 50439669.25198739\n",
            "INFO:PricePredictionExperiment_XGBRegressor:After reverse - price mean: 50439669.25198739\n",
            "2025-06-01 00:22:46,012 - PricePredictionExperiment_XGBRegressor - WARNING - Unrealistic price values detected: min=1000.00, max=4988000000.00\n",
            "WARNING:PricePredictionExperiment_XGBRegressor:Unrealistic price values detected: min=1000.00, max=4988000000.00\n",
            "2025-06-01 00:22:46,061 - PricePredictionExperiment_XGBRegressor - INFO - Fold 1 - Log scale: R²=0.9648, RMSE=0.0171, SMAPE=1.2387%\n",
            "Original scale: R²=0.7264, RMSE=86790452.4251, SMAPE=11.1356%\n",
            "INFO:PricePredictionExperiment_XGBRegressor:Fold 1 - Log scale: R²=0.9648, RMSE=0.0171, SMAPE=1.2387%\n",
            "Original scale: R²=0.7264, RMSE=86790452.4251, SMAPE=11.1356%\n"
          ]
        },
        {
          "output_type": "stream",
          "name": "stdout",
          "text": [
            " Fold 2: train_size=13334 val_size=6666\n"
          ]
        },
        {
          "output_type": "stream",
          "name": "stderr",
          "text": [
            "2025-06-01 00:22:52,392 - PricePredictionExperiment_XGBRegressor - INFO - Before reverse - price mean: 0.6143135310974003\n",
            "INFO:PricePredictionExperiment_XGBRegressor:Before reverse - price mean: 0.6143135310974003\n",
            "2025-06-01 00:22:52,397 - PricePredictionExperiment_XGBRegressor - INFO - After reverse - price mean: 50743873.696819685\n",
            "INFO:PricePredictionExperiment_XGBRegressor:After reverse - price mean: 50743873.696819685\n",
            "2025-06-01 00:22:52,399 - PricePredictionExperiment_XGBRegressor - WARNING - Unrealistic price values detected: min=100000.00, max=2893991100.00\n",
            "WARNING:PricePredictionExperiment_XGBRegressor:Unrealistic price values detected: min=100000.00, max=2893991100.00\n",
            "2025-06-01 00:22:52,446 - PricePredictionExperiment_XGBRegressor - INFO - Fold 2 - Log scale: R²=0.9762, RMSE=0.0143, SMAPE=1.1904%\n",
            "Original scale: R²=0.8437, RMSE=58766376.3604, SMAPE=10.9727%\n",
            "INFO:PricePredictionExperiment_XGBRegressor:Fold 2 - Log scale: R²=0.9762, RMSE=0.0143, SMAPE=1.1904%\n",
            "Original scale: R²=0.8437, RMSE=58766376.3604, SMAPE=10.9727%\n",
            "\u001b[32m[I 2025-06-01 00:22:52,452]\u001b[0m Trial 41 finished with value: 0.9708985595980159 and parameters: {'model__n_estimators': 811, 'model__max_depth': 5, 'model__learning_rate': 0.033781809015438036, 'model__subsample': 0.8165282168305843}. Best is trial 26 with value: 0.9710199224649103.\u001b[0m\n"
          ]
        },
        {
          "output_type": "stream",
          "name": "stdout",
          "text": [
            "CV stratified bins counts: [6670 6663 6667]\n",
            "Running 3-fold CV on 20000 samples\n",
            " Fold 0: train_size=13333 val_size=6667\n"
          ]
        },
        {
          "output_type": "stream",
          "name": "stderr",
          "text": [
            "2025-06-01 00:22:58,090 - PricePredictionExperiment_XGBRegressor - INFO - Before reverse - price mean: 0.6131231136815939\n",
            "INFO:PricePredictionExperiment_XGBRegressor:Before reverse - price mean: 0.6131231136815939\n",
            "2025-06-01 00:22:58,095 - PricePredictionExperiment_XGBRegressor - INFO - After reverse - price mean: 46994876.19484026\n",
            "INFO:PricePredictionExperiment_XGBRegressor:After reverse - price mean: 46994876.19484026\n",
            "2025-06-01 00:22:58,097 - PricePredictionExperiment_XGBRegressor - WARNING - Unrealistic price values detected: min=1640.00, max=3119770000.00\n",
            "WARNING:PricePredictionExperiment_XGBRegressor:Unrealistic price values detected: min=1640.00, max=3119770000.00\n",
            "2025-06-01 00:22:58,157 - PricePredictionExperiment_XGBRegressor - INFO - Fold 0 - Log scale: R²=0.9718, RMSE=0.0153, SMAPE=1.2229%\n",
            "Original scale: R²=0.8681, RMSE=49522847.7384, SMAPE=11.1010%\n",
            "INFO:PricePredictionExperiment_XGBRegressor:Fold 0 - Log scale: R²=0.9718, RMSE=0.0153, SMAPE=1.2229%\n",
            "Original scale: R²=0.8681, RMSE=49522847.7384, SMAPE=11.1010%\n"
          ]
        },
        {
          "output_type": "stream",
          "name": "stdout",
          "text": [
            " Fold 1: train_size=13333 val_size=6667\n"
          ]
        },
        {
          "output_type": "stream",
          "name": "stderr",
          "text": [
            "2025-06-01 00:23:05,407 - PricePredictionExperiment_XGBRegressor - INFO - Before reverse - price mean: 0.6141490354414657\n",
            "INFO:PricePredictionExperiment_XGBRegressor:Before reverse - price mean: 0.6141490354414657\n",
            "2025-06-01 00:23:05,412 - PricePredictionExperiment_XGBRegressor - INFO - After reverse - price mean: 50439669.25198739\n",
            "INFO:PricePredictionExperiment_XGBRegressor:After reverse - price mean: 50439669.25198739\n",
            "2025-06-01 00:23:05,414 - PricePredictionExperiment_XGBRegressor - WARNING - Unrealistic price values detected: min=1000.00, max=4988000000.00\n",
            "WARNING:PricePredictionExperiment_XGBRegressor:Unrealistic price values detected: min=1000.00, max=4988000000.00\n",
            "2025-06-01 00:23:05,468 - PricePredictionExperiment_XGBRegressor - INFO - Fold 1 - Log scale: R²=0.9649, RMSE=0.0171, SMAPE=1.2352%\n",
            "Original scale: R²=0.7244, RMSE=87106652.3927, SMAPE=11.0987%\n",
            "INFO:PricePredictionExperiment_XGBRegressor:Fold 1 - Log scale: R²=0.9649, RMSE=0.0171, SMAPE=1.2352%\n",
            "Original scale: R²=0.7244, RMSE=87106652.3927, SMAPE=11.0987%\n"
          ]
        },
        {
          "output_type": "stream",
          "name": "stdout",
          "text": [
            " Fold 2: train_size=13334 val_size=6666\n"
          ]
        },
        {
          "output_type": "stream",
          "name": "stderr",
          "text": [
            "2025-06-01 00:23:11,046 - PricePredictionExperiment_XGBRegressor - INFO - Before reverse - price mean: 0.6143135310974003\n",
            "INFO:PricePredictionExperiment_XGBRegressor:Before reverse - price mean: 0.6143135310974003\n",
            "2025-06-01 00:23:11,051 - PricePredictionExperiment_XGBRegressor - INFO - After reverse - price mean: 50743873.696819685\n",
            "INFO:PricePredictionExperiment_XGBRegressor:After reverse - price mean: 50743873.696819685\n",
            "2025-06-01 00:23:11,055 - PricePredictionExperiment_XGBRegressor - WARNING - Unrealistic price values detected: min=100000.00, max=2893991100.00\n",
            "WARNING:PricePredictionExperiment_XGBRegressor:Unrealistic price values detected: min=100000.00, max=2893991100.00\n",
            "2025-06-01 00:23:11,118 - PricePredictionExperiment_XGBRegressor - INFO - Fold 2 - Log scale: R²=0.9763, RMSE=0.0142, SMAPE=1.1873%\n",
            "Original scale: R²=0.8393, RMSE=59591038.1173, SMAPE=10.9592%\n",
            "INFO:PricePredictionExperiment_XGBRegressor:Fold 2 - Log scale: R²=0.9763, RMSE=0.0142, SMAPE=1.1873%\n",
            "Original scale: R²=0.8393, RMSE=59591038.1173, SMAPE=10.9592%\n",
            "\u001b[32m[I 2025-06-01 00:23:11,124]\u001b[0m Trial 42 finished with value: 0.9709866143831857 and parameters: {'model__n_estimators': 951, 'model__max_depth': 5, 'model__learning_rate': 0.029765425469511622, 'model__subsample': 0.8243175885967695}. Best is trial 26 with value: 0.9710199224649103.\u001b[0m\n"
          ]
        },
        {
          "output_type": "stream",
          "name": "stdout",
          "text": [
            "CV stratified bins counts: [6670 6663 6667]\n",
            "Running 3-fold CV on 20000 samples\n",
            " Fold 0: train_size=13333 val_size=6667\n"
          ]
        },
        {
          "output_type": "stream",
          "name": "stderr",
          "text": [
            "2025-06-01 00:23:18,338 - PricePredictionExperiment_XGBRegressor - INFO - Before reverse - price mean: 0.6131231136815939\n",
            "INFO:PricePredictionExperiment_XGBRegressor:Before reverse - price mean: 0.6131231136815939\n",
            "2025-06-01 00:23:18,343 - PricePredictionExperiment_XGBRegressor - INFO - After reverse - price mean: 46994876.19484026\n",
            "INFO:PricePredictionExperiment_XGBRegressor:After reverse - price mean: 46994876.19484026\n",
            "2025-06-01 00:23:18,345 - PricePredictionExperiment_XGBRegressor - WARNING - Unrealistic price values detected: min=1640.00, max=3119770000.00\n",
            "WARNING:PricePredictionExperiment_XGBRegressor:Unrealistic price values detected: min=1640.00, max=3119770000.00\n",
            "2025-06-01 00:23:18,400 - PricePredictionExperiment_XGBRegressor - INFO - Fold 0 - Log scale: R²=0.9718, RMSE=0.0154, SMAPE=1.2181%\n",
            "Original scale: R²=0.8729, RMSE=48618991.9251, SMAPE=11.0509%\n",
            "INFO:PricePredictionExperiment_XGBRegressor:Fold 0 - Log scale: R²=0.9718, RMSE=0.0154, SMAPE=1.2181%\n",
            "Original scale: R²=0.8729, RMSE=48618991.9251, SMAPE=11.0509%\n"
          ]
        },
        {
          "output_type": "stream",
          "name": "stdout",
          "text": [
            " Fold 1: train_size=13333 val_size=6667\n"
          ]
        },
        {
          "output_type": "stream",
          "name": "stderr",
          "text": [
            "2025-06-01 00:23:23,947 - PricePredictionExperiment_XGBRegressor - INFO - Before reverse - price mean: 0.6141490354414657\n",
            "INFO:PricePredictionExperiment_XGBRegressor:Before reverse - price mean: 0.6141490354414657\n",
            "2025-06-01 00:23:23,952 - PricePredictionExperiment_XGBRegressor - INFO - After reverse - price mean: 50439669.25198739\n",
            "INFO:PricePredictionExperiment_XGBRegressor:After reverse - price mean: 50439669.25198739\n",
            "2025-06-01 00:23:23,954 - PricePredictionExperiment_XGBRegressor - WARNING - Unrealistic price values detected: min=1000.00, max=4988000000.00\n",
            "WARNING:PricePredictionExperiment_XGBRegressor:Unrealistic price values detected: min=1000.00, max=4988000000.00\n",
            "2025-06-01 00:23:24,018 - PricePredictionExperiment_XGBRegressor - INFO - Fold 1 - Log scale: R²=0.9648, RMSE=0.0171, SMAPE=1.2374%\n",
            "Original scale: R²=0.7322, RMSE=85857331.5245, SMAPE=11.1288%\n",
            "INFO:PricePredictionExperiment_XGBRegressor:Fold 1 - Log scale: R²=0.9648, RMSE=0.0171, SMAPE=1.2374%\n",
            "Original scale: R²=0.7322, RMSE=85857331.5245, SMAPE=11.1288%\n"
          ]
        },
        {
          "output_type": "stream",
          "name": "stdout",
          "text": [
            " Fold 2: train_size=13334 val_size=6666\n"
          ]
        },
        {
          "output_type": "stream",
          "name": "stderr",
          "text": [
            "2025-06-01 00:23:31,114 - PricePredictionExperiment_XGBRegressor - INFO - Before reverse - price mean: 0.6143135310974003\n",
            "INFO:PricePredictionExperiment_XGBRegressor:Before reverse - price mean: 0.6143135310974003\n",
            "2025-06-01 00:23:31,119 - PricePredictionExperiment_XGBRegressor - INFO - After reverse - price mean: 50743873.696819685\n",
            "INFO:PricePredictionExperiment_XGBRegressor:After reverse - price mean: 50743873.696819685\n",
            "2025-06-01 00:23:31,122 - PricePredictionExperiment_XGBRegressor - WARNING - Unrealistic price values detected: min=100000.00, max=2893991100.00\n",
            "WARNING:PricePredictionExperiment_XGBRegressor:Unrealistic price values detected: min=100000.00, max=2893991100.00\n",
            "2025-06-01 00:23:31,170 - PricePredictionExperiment_XGBRegressor - INFO - Fold 2 - Log scale: R²=0.9763, RMSE=0.0142, SMAPE=1.1819%\n",
            "Original scale: R²=0.8459, RMSE=58343979.1723, SMAPE=10.9070%\n",
            "INFO:PricePredictionExperiment_XGBRegressor:Fold 2 - Log scale: R²=0.9763, RMSE=0.0142, SMAPE=1.1819%\n",
            "Original scale: R²=0.8459, RMSE=58343979.1723, SMAPE=10.9070%\n",
            "\u001b[32m[I 2025-06-01 00:23:31,175]\u001b[0m Trial 43 finished with value: 0.9709865777014274 and parameters: {'model__n_estimators': 955, 'model__max_depth': 5, 'model__learning_rate': 0.030373914374408346, 'model__subsample': 0.8321520820326974}. Best is trial 26 with value: 0.9710199224649103.\u001b[0m\n"
          ]
        },
        {
          "output_type": "stream",
          "name": "stdout",
          "text": [
            "CV stratified bins counts: [6670 6663 6667]\n",
            "Running 3-fold CV on 20000 samples\n",
            " Fold 0: train_size=13333 val_size=6667\n"
          ]
        },
        {
          "output_type": "stream",
          "name": "stderr",
          "text": [
            "2025-06-01 00:23:36,816 - PricePredictionExperiment_XGBRegressor - INFO - Before reverse - price mean: 0.6131231136815939\n",
            "INFO:PricePredictionExperiment_XGBRegressor:Before reverse - price mean: 0.6131231136815939\n",
            "2025-06-01 00:23:36,821 - PricePredictionExperiment_XGBRegressor - INFO - After reverse - price mean: 46994876.19484026\n",
            "INFO:PricePredictionExperiment_XGBRegressor:After reverse - price mean: 46994876.19484026\n",
            "2025-06-01 00:23:36,824 - PricePredictionExperiment_XGBRegressor - WARNING - Unrealistic price values detected: min=1640.00, max=3119770000.00\n",
            "WARNING:PricePredictionExperiment_XGBRegressor:Unrealistic price values detected: min=1640.00, max=3119770000.00\n",
            "2025-06-01 00:23:36,873 - PricePredictionExperiment_XGBRegressor - INFO - Fold 0 - Log scale: R²=0.9716, RMSE=0.0154, SMAPE=1.2229%\n",
            "Original scale: R²=0.8761, RMSE=47999851.4231, SMAPE=11.0852%\n",
            "INFO:PricePredictionExperiment_XGBRegressor:Fold 0 - Log scale: R²=0.9716, RMSE=0.0154, SMAPE=1.2229%\n",
            "Original scale: R²=0.8761, RMSE=47999851.4231, SMAPE=11.0852%\n"
          ]
        },
        {
          "output_type": "stream",
          "name": "stdout",
          "text": [
            " Fold 1: train_size=13333 val_size=6667\n"
          ]
        },
        {
          "output_type": "stream",
          "name": "stderr",
          "text": [
            "2025-06-01 00:23:44,017 - PricePredictionExperiment_XGBRegressor - INFO - Before reverse - price mean: 0.6141490354414657\n",
            "INFO:PricePredictionExperiment_XGBRegressor:Before reverse - price mean: 0.6141490354414657\n",
            "2025-06-01 00:23:44,022 - PricePredictionExperiment_XGBRegressor - INFO - After reverse - price mean: 50439669.25198739\n",
            "INFO:PricePredictionExperiment_XGBRegressor:After reverse - price mean: 50439669.25198739\n",
            "2025-06-01 00:23:44,027 - PricePredictionExperiment_XGBRegressor - WARNING - Unrealistic price values detected: min=1000.00, max=4988000000.00\n",
            "WARNING:PricePredictionExperiment_XGBRegressor:Unrealistic price values detected: min=1000.00, max=4988000000.00\n",
            "2025-06-01 00:23:44,091 - PricePredictionExperiment_XGBRegressor - INFO - Fold 1 - Log scale: R²=0.9650, RMSE=0.0171, SMAPE=1.2361%\n",
            "Original scale: R²=0.7241, RMSE=87151948.2426, SMAPE=11.1118%\n",
            "INFO:PricePredictionExperiment_XGBRegressor:Fold 1 - Log scale: R²=0.9650, RMSE=0.0171, SMAPE=1.2361%\n",
            "Original scale: R²=0.7241, RMSE=87151948.2426, SMAPE=11.1118%\n"
          ]
        },
        {
          "output_type": "stream",
          "name": "stdout",
          "text": [
            " Fold 2: train_size=13334 val_size=6666\n"
          ]
        },
        {
          "output_type": "stream",
          "name": "stderr",
          "text": [
            "2025-06-01 00:23:50,746 - PricePredictionExperiment_XGBRegressor - INFO - Before reverse - price mean: 0.6143135310974003\n",
            "INFO:PricePredictionExperiment_XGBRegressor:Before reverse - price mean: 0.6143135310974003\n",
            "2025-06-01 00:23:50,750 - PricePredictionExperiment_XGBRegressor - INFO - After reverse - price mean: 50743873.696819685\n",
            "INFO:PricePredictionExperiment_XGBRegressor:After reverse - price mean: 50743873.696819685\n",
            "2025-06-01 00:23:50,753 - PricePredictionExperiment_XGBRegressor - WARNING - Unrealistic price values detected: min=100000.00, max=2893991100.00\n",
            "WARNING:PricePredictionExperiment_XGBRegressor:Unrealistic price values detected: min=100000.00, max=2893991100.00\n",
            "2025-06-01 00:23:50,805 - PricePredictionExperiment_XGBRegressor - INFO - Fold 2 - Log scale: R²=0.9761, RMSE=0.0143, SMAPE=1.1916%\n",
            "Original scale: R²=0.8397, RMSE=59515167.9239, SMAPE=10.9853%\n",
            "INFO:PricePredictionExperiment_XGBRegressor:Fold 2 - Log scale: R²=0.9761, RMSE=0.0143, SMAPE=1.1916%\n",
            "Original scale: R²=0.8397, RMSE=59515167.9239, SMAPE=10.9853%\n",
            "\u001b[32m[I 2025-06-01 00:23:50,811]\u001b[0m Trial 44 finished with value: 0.9709091713044193 and parameters: {'model__n_estimators': 957, 'model__max_depth': 5, 'model__learning_rate': 0.037436093677898144, 'model__subsample': 0.8357782406302294}. Best is trial 26 with value: 0.9710199224649103.\u001b[0m\n"
          ]
        },
        {
          "output_type": "stream",
          "name": "stdout",
          "text": [
            "CV stratified bins counts: [6670 6663 6667]\n",
            "Running 3-fold CV on 20000 samples\n",
            " Fold 0: train_size=13333 val_size=6667\n"
          ]
        },
        {
          "output_type": "stream",
          "name": "stderr",
          "text": [
            "2025-06-01 00:23:57,812 - PricePredictionExperiment_XGBRegressor - INFO - Before reverse - price mean: 0.6131231136815939\n",
            "INFO:PricePredictionExperiment_XGBRegressor:Before reverse - price mean: 0.6131231136815939\n",
            "2025-06-01 00:23:57,820 - PricePredictionExperiment_XGBRegressor - INFO - After reverse - price mean: 46994876.19484026\n",
            "INFO:PricePredictionExperiment_XGBRegressor:After reverse - price mean: 46994876.19484026\n",
            "2025-06-01 00:23:57,824 - PricePredictionExperiment_XGBRegressor - WARNING - Unrealistic price values detected: min=1640.00, max=3119770000.00\n",
            "WARNING:PricePredictionExperiment_XGBRegressor:Unrealistic price values detected: min=1640.00, max=3119770000.00\n",
            "2025-06-01 00:23:57,887 - PricePredictionExperiment_XGBRegressor - INFO - Fold 0 - Log scale: R²=0.9717, RMSE=0.0154, SMAPE=1.2238%\n",
            "Original scale: R²=0.8704, RMSE=49100866.6330, SMAPE=11.1133%\n",
            "INFO:PricePredictionExperiment_XGBRegressor:Fold 0 - Log scale: R²=0.9717, RMSE=0.0154, SMAPE=1.2238%\n",
            "Original scale: R²=0.8704, RMSE=49100866.6330, SMAPE=11.1133%\n"
          ]
        },
        {
          "output_type": "stream",
          "name": "stdout",
          "text": [
            " Fold 1: train_size=13333 val_size=6667\n"
          ]
        },
        {
          "output_type": "stream",
          "name": "stderr",
          "text": [
            "2025-06-01 00:24:03,244 - PricePredictionExperiment_XGBRegressor - INFO - Before reverse - price mean: 0.6141490354414657\n",
            "INFO:PricePredictionExperiment_XGBRegressor:Before reverse - price mean: 0.6141490354414657\n",
            "2025-06-01 00:24:03,248 - PricePredictionExperiment_XGBRegressor - INFO - After reverse - price mean: 50439669.25198739\n",
            "INFO:PricePredictionExperiment_XGBRegressor:After reverse - price mean: 50439669.25198739\n",
            "2025-06-01 00:24:03,250 - PricePredictionExperiment_XGBRegressor - WARNING - Unrealistic price values detected: min=1000.00, max=4988000000.00\n",
            "WARNING:PricePredictionExperiment_XGBRegressor:Unrealistic price values detected: min=1000.00, max=4988000000.00\n",
            "2025-06-01 00:24:03,305 - PricePredictionExperiment_XGBRegressor - INFO - Fold 1 - Log scale: R²=0.9650, RMSE=0.0171, SMAPE=1.2349%\n",
            "Original scale: R²=0.7346, RMSE=85482068.7262, SMAPE=11.1049%\n",
            "INFO:PricePredictionExperiment_XGBRegressor:Fold 1 - Log scale: R²=0.9650, RMSE=0.0171, SMAPE=1.2349%\n",
            "Original scale: R²=0.7346, RMSE=85482068.7262, SMAPE=11.1049%\n"
          ]
        },
        {
          "output_type": "stream",
          "name": "stdout",
          "text": [
            " Fold 2: train_size=13334 val_size=6666\n"
          ]
        },
        {
          "output_type": "stream",
          "name": "stderr",
          "text": [
            "2025-06-01 00:24:09,628 - PricePredictionExperiment_XGBRegressor - INFO - Before reverse - price mean: 0.6143135310974003\n",
            "INFO:PricePredictionExperiment_XGBRegressor:Before reverse - price mean: 0.6143135310974003\n",
            "2025-06-01 00:24:09,632 - PricePredictionExperiment_XGBRegressor - INFO - After reverse - price mean: 50743873.696819685\n",
            "INFO:PricePredictionExperiment_XGBRegressor:After reverse - price mean: 50743873.696819685\n",
            "2025-06-01 00:24:09,634 - PricePredictionExperiment_XGBRegressor - WARNING - Unrealistic price values detected: min=100000.00, max=2893991100.00\n",
            "WARNING:PricePredictionExperiment_XGBRegressor:Unrealistic price values detected: min=100000.00, max=2893991100.00\n",
            "2025-06-01 00:24:09,710 - PricePredictionExperiment_XGBRegressor - INFO - Fold 2 - Log scale: R²=0.9763, RMSE=0.0142, SMAPE=1.1849%\n",
            "Original scale: R²=0.8496, RMSE=57657491.5133, SMAPE=10.9418%\n",
            "INFO:PricePredictionExperiment_XGBRegressor:Fold 2 - Log scale: R²=0.9763, RMSE=0.0142, SMAPE=1.1849%\n",
            "Original scale: R²=0.8496, RMSE=57657491.5133, SMAPE=10.9418%\n",
            "\u001b[32m[I 2025-06-01 00:24:09,719]\u001b[0m Trial 45 finished with value: 0.9710220607103048 and parameters: {'model__n_estimators': 914, 'model__max_depth': 5, 'model__learning_rate': 0.030522879606590586, 'model__subsample': 0.8260003942735129}. Best is trial 45 with value: 0.9710220607103048.\u001b[0m\n"
          ]
        },
        {
          "output_type": "stream",
          "name": "stdout",
          "text": [
            "CV stratified bins counts: [6670 6663 6667]\n",
            "Running 3-fold CV on 20000 samples\n",
            " Fold 0: train_size=13333 val_size=6667\n"
          ]
        },
        {
          "output_type": "stream",
          "name": "stderr",
          "text": [
            "2025-06-01 00:24:15,317 - PricePredictionExperiment_XGBRegressor - INFO - Before reverse - price mean: 0.6131231136815939\n",
            "INFO:PricePredictionExperiment_XGBRegressor:Before reverse - price mean: 0.6131231136815939\n",
            "2025-06-01 00:24:15,322 - PricePredictionExperiment_XGBRegressor - INFO - After reverse - price mean: 46994876.19484026\n",
            "INFO:PricePredictionExperiment_XGBRegressor:After reverse - price mean: 46994876.19484026\n",
            "2025-06-01 00:24:15,326 - PricePredictionExperiment_XGBRegressor - WARNING - Unrealistic price values detected: min=1640.00, max=3119770000.00\n",
            "WARNING:PricePredictionExperiment_XGBRegressor:Unrealistic price values detected: min=1640.00, max=3119770000.00\n",
            "2025-06-01 00:24:15,377 - PricePredictionExperiment_XGBRegressor - INFO - Fold 0 - Log scale: R²=0.9716, RMSE=0.0154, SMAPE=1.2261%\n",
            "Original scale: R²=0.8657, RMSE=49981109.3712, SMAPE=11.1266%\n",
            "INFO:PricePredictionExperiment_XGBRegressor:Fold 0 - Log scale: R²=0.9716, RMSE=0.0154, SMAPE=1.2261%\n",
            "Original scale: R²=0.8657, RMSE=49981109.3712, SMAPE=11.1266%\n"
          ]
        },
        {
          "output_type": "stream",
          "name": "stdout",
          "text": [
            " Fold 1: train_size=13333 val_size=6667\n"
          ]
        },
        {
          "output_type": "stream",
          "name": "stderr",
          "text": [
            "2025-06-01 00:24:20,770 - PricePredictionExperiment_XGBRegressor - INFO - Before reverse - price mean: 0.6141490354414657\n",
            "INFO:PricePredictionExperiment_XGBRegressor:Before reverse - price mean: 0.6141490354414657\n",
            "2025-06-01 00:24:20,775 - PricePredictionExperiment_XGBRegressor - INFO - After reverse - price mean: 50439669.25198739\n",
            "INFO:PricePredictionExperiment_XGBRegressor:After reverse - price mean: 50439669.25198739\n",
            "2025-06-01 00:24:20,779 - PricePredictionExperiment_XGBRegressor - WARNING - Unrealistic price values detected: min=1000.00, max=4988000000.00\n",
            "WARNING:PricePredictionExperiment_XGBRegressor:Unrealistic price values detected: min=1000.00, max=4988000000.00\n",
            "2025-06-01 00:24:20,846 - PricePredictionExperiment_XGBRegressor - INFO - Fold 1 - Log scale: R²=0.9651, RMSE=0.0171, SMAPE=1.2393%\n",
            "Original scale: R²=0.7293, RMSE=86330996.9524, SMAPE=11.1497%\n",
            "INFO:PricePredictionExperiment_XGBRegressor:Fold 1 - Log scale: R²=0.9651, RMSE=0.0171, SMAPE=1.2393%\n",
            "Original scale: R²=0.7293, RMSE=86330996.9524, SMAPE=11.1497%\n"
          ]
        },
        {
          "output_type": "stream",
          "name": "stdout",
          "text": [
            " Fold 2: train_size=13334 val_size=6666\n"
          ]
        },
        {
          "output_type": "stream",
          "name": "stderr",
          "text": [
            "2025-06-01 00:24:27,500 - PricePredictionExperiment_XGBRegressor - INFO - Before reverse - price mean: 0.6143135310974003\n",
            "INFO:PricePredictionExperiment_XGBRegressor:Before reverse - price mean: 0.6143135310974003\n",
            "2025-06-01 00:24:27,505 - PricePredictionExperiment_XGBRegressor - INFO - After reverse - price mean: 50743873.696819685\n",
            "INFO:PricePredictionExperiment_XGBRegressor:After reverse - price mean: 50743873.696819685\n",
            "2025-06-01 00:24:27,507 - PricePredictionExperiment_XGBRegressor - WARNING - Unrealistic price values detected: min=100000.00, max=2893991100.00\n",
            "WARNING:PricePredictionExperiment_XGBRegressor:Unrealistic price values detected: min=100000.00, max=2893991100.00\n",
            "2025-06-01 00:24:27,556 - PricePredictionExperiment_XGBRegressor - INFO - Fold 2 - Log scale: R²=0.9763, RMSE=0.0142, SMAPE=1.1909%\n",
            "Original scale: R²=0.8495, RMSE=57674792.2030, SMAPE=10.9886%\n",
            "INFO:PricePredictionExperiment_XGBRegressor:Fold 2 - Log scale: R²=0.9763, RMSE=0.0142, SMAPE=1.1909%\n",
            "Original scale: R²=0.8495, RMSE=57674792.2030, SMAPE=10.9886%\n",
            "\u001b[32m[I 2025-06-01 00:24:27,560]\u001b[0m Trial 46 finished with value: 0.9709939985517106 and parameters: {'model__n_estimators': 876, 'model__max_depth': 5, 'model__learning_rate': 0.0303595823038897, 'model__subsample': 0.8085969503624681}. Best is trial 45 with value: 0.9710220607103048.\u001b[0m\n"
          ]
        },
        {
          "output_type": "stream",
          "name": "stdout",
          "text": [
            "CV stratified bins counts: [6670 6663 6667]\n",
            "Running 3-fold CV on 20000 samples\n",
            " Fold 0: train_size=13333 val_size=6667\n"
          ]
        },
        {
          "output_type": "stream",
          "name": "stderr",
          "text": [
            "2025-06-01 00:24:32,699 - PricePredictionExperiment_XGBRegressor - INFO - Before reverse - price mean: 0.6131231136815939\n",
            "INFO:PricePredictionExperiment_XGBRegressor:Before reverse - price mean: 0.6131231136815939\n",
            "2025-06-01 00:24:32,704 - PricePredictionExperiment_XGBRegressor - INFO - After reverse - price mean: 46994876.19484026\n",
            "INFO:PricePredictionExperiment_XGBRegressor:After reverse - price mean: 46994876.19484026\n",
            "2025-06-01 00:24:32,708 - PricePredictionExperiment_XGBRegressor - WARNING - Unrealistic price values detected: min=1640.00, max=3119770000.00\n",
            "WARNING:PricePredictionExperiment_XGBRegressor:Unrealistic price values detected: min=1640.00, max=3119770000.00\n",
            "2025-06-01 00:24:32,768 - PricePredictionExperiment_XGBRegressor - INFO - Fold 0 - Log scale: R²=0.9716, RMSE=0.0154, SMAPE=1.2299%\n",
            "Original scale: R²=0.8753, RMSE=48161002.7991, SMAPE=11.1493%\n",
            "INFO:PricePredictionExperiment_XGBRegressor:Fold 0 - Log scale: R²=0.9716, RMSE=0.0154, SMAPE=1.2299%\n",
            "Original scale: R²=0.8753, RMSE=48161002.7991, SMAPE=11.1493%\n"
          ]
        },
        {
          "output_type": "stream",
          "name": "stdout",
          "text": [
            " Fold 1: train_size=13333 val_size=6667\n"
          ]
        },
        {
          "output_type": "stream",
          "name": "stderr",
          "text": [
            "2025-06-01 00:24:39,231 - PricePredictionExperiment_XGBRegressor - INFO - Before reverse - price mean: 0.6141490354414657\n",
            "INFO:PricePredictionExperiment_XGBRegressor:Before reverse - price mean: 0.6141490354414657\n",
            "2025-06-01 00:24:39,235 - PricePredictionExperiment_XGBRegressor - INFO - After reverse - price mean: 50439669.25198739\n",
            "INFO:PricePredictionExperiment_XGBRegressor:After reverse - price mean: 50439669.25198739\n",
            "2025-06-01 00:24:39,237 - PricePredictionExperiment_XGBRegressor - WARNING - Unrealistic price values detected: min=1000.00, max=4988000000.00\n",
            "WARNING:PricePredictionExperiment_XGBRegressor:Unrealistic price values detected: min=1000.00, max=4988000000.00\n",
            "2025-06-01 00:24:39,284 - PricePredictionExperiment_XGBRegressor - INFO - Fold 1 - Log scale: R²=0.9648, RMSE=0.0171, SMAPE=1.2372%\n",
            "Original scale: R²=0.7270, RMSE=86698820.0310, SMAPE=11.1269%\n",
            "INFO:PricePredictionExperiment_XGBRegressor:Fold 1 - Log scale: R²=0.9648, RMSE=0.0171, SMAPE=1.2372%\n",
            "Original scale: R²=0.7270, RMSE=86698820.0310, SMAPE=11.1269%\n"
          ]
        },
        {
          "output_type": "stream",
          "name": "stdout",
          "text": [
            " Fold 2: train_size=13334 val_size=6666\n"
          ]
        },
        {
          "output_type": "stream",
          "name": "stderr",
          "text": [
            "2025-06-01 00:24:44,249 - PricePredictionExperiment_XGBRegressor - INFO - Before reverse - price mean: 0.6143135310974003\n",
            "INFO:PricePredictionExperiment_XGBRegressor:Before reverse - price mean: 0.6143135310974003\n",
            "2025-06-01 00:24:44,254 - PricePredictionExperiment_XGBRegressor - INFO - After reverse - price mean: 50743873.696819685\n",
            "INFO:PricePredictionExperiment_XGBRegressor:After reverse - price mean: 50743873.696819685\n",
            "2025-06-01 00:24:44,258 - PricePredictionExperiment_XGBRegressor - WARNING - Unrealistic price values detected: min=100000.00, max=2893991100.00\n",
            "WARNING:PricePredictionExperiment_XGBRegressor:Unrealistic price values detected: min=100000.00, max=2893991100.00\n",
            "2025-06-01 00:24:44,310 - PricePredictionExperiment_XGBRegressor - INFO - Fold 2 - Log scale: R²=0.9761, RMSE=0.0143, SMAPE=1.1963%\n",
            "Original scale: R²=0.8448, RMSE=58566963.4552, SMAPE=11.0056%\n",
            "INFO:PricePredictionExperiment_XGBRegressor:Fold 2 - Log scale: R²=0.9761, RMSE=0.0143, SMAPE=1.1963%\n",
            "Original scale: R²=0.8448, RMSE=58566963.4552, SMAPE=11.0056%\n",
            "\u001b[32m[I 2025-06-01 00:24:44,316]\u001b[0m Trial 47 finished with value: 0.9708329068334032 and parameters: {'model__n_estimators': 866, 'model__max_depth': 5, 'model__learning_rate': 0.04115582717730197, 'model__subsample': 0.8079075169672495}. Best is trial 45 with value: 0.9710220607103048.\u001b[0m\n"
          ]
        },
        {
          "output_type": "stream",
          "name": "stdout",
          "text": [
            "CV stratified bins counts: [6670 6663 6667]\n",
            "Running 3-fold CV on 20000 samples\n",
            " Fold 0: train_size=13333 val_size=6667\n"
          ]
        },
        {
          "output_type": "stream",
          "name": "stderr",
          "text": [
            "2025-06-01 00:24:48,804 - PricePredictionExperiment_XGBRegressor - INFO - Before reverse - price mean: 0.6131231136815939\n",
            "INFO:PricePredictionExperiment_XGBRegressor:Before reverse - price mean: 0.6131231136815939\n",
            "2025-06-01 00:24:48,814 - PricePredictionExperiment_XGBRegressor - INFO - After reverse - price mean: 46994876.19484026\n",
            "INFO:PricePredictionExperiment_XGBRegressor:After reverse - price mean: 46994876.19484026\n",
            "2025-06-01 00:24:48,818 - PricePredictionExperiment_XGBRegressor - WARNING - Unrealistic price values detected: min=1640.00, max=3119770000.00\n",
            "WARNING:PricePredictionExperiment_XGBRegressor:Unrealistic price values detected: min=1640.00, max=3119770000.00\n",
            "2025-06-01 00:24:48,890 - PricePredictionExperiment_XGBRegressor - INFO - Fold 0 - Log scale: R²=0.9708, RMSE=0.0156, SMAPE=1.2738%\n",
            "Original scale: R²=0.8769, RMSE=47848060.5413, SMAPE=11.6092%\n",
            "INFO:PricePredictionExperiment_XGBRegressor:Fold 0 - Log scale: R²=0.9708, RMSE=0.0156, SMAPE=1.2738%\n",
            "Original scale: R²=0.8769, RMSE=47848060.5413, SMAPE=11.6092%\n"
          ]
        },
        {
          "output_type": "stream",
          "name": "stdout",
          "text": [
            " Fold 1: train_size=13333 val_size=6667\n"
          ]
        },
        {
          "output_type": "stream",
          "name": "stderr",
          "text": [
            "2025-06-01 00:24:54,185 - PricePredictionExperiment_XGBRegressor - INFO - Before reverse - price mean: 0.6141490354414657\n",
            "INFO:PricePredictionExperiment_XGBRegressor:Before reverse - price mean: 0.6141490354414657\n",
            "2025-06-01 00:24:54,191 - PricePredictionExperiment_XGBRegressor - INFO - After reverse - price mean: 50439669.25198739\n",
            "INFO:PricePredictionExperiment_XGBRegressor:After reverse - price mean: 50439669.25198739\n",
            "2025-06-01 00:24:54,193 - PricePredictionExperiment_XGBRegressor - WARNING - Unrealistic price values detected: min=1000.00, max=4988000000.00\n",
            "WARNING:PricePredictionExperiment_XGBRegressor:Unrealistic price values detected: min=1000.00, max=4988000000.00\n",
            "2025-06-01 00:24:54,242 - PricePredictionExperiment_XGBRegressor - INFO - Fold 1 - Log scale: R²=0.9634, RMSE=0.0175, SMAPE=1.2776%\n",
            "Original scale: R²=0.7260, RMSE=86851128.0694, SMAPE=11.5197%\n",
            "INFO:PricePredictionExperiment_XGBRegressor:Fold 1 - Log scale: R²=0.9634, RMSE=0.0175, SMAPE=1.2776%\n",
            "Original scale: R²=0.7260, RMSE=86851128.0694, SMAPE=11.5197%\n"
          ]
        },
        {
          "output_type": "stream",
          "name": "stdout",
          "text": [
            " Fold 2: train_size=13334 val_size=6666\n"
          ]
        },
        {
          "output_type": "stream",
          "name": "stderr",
          "text": [
            "2025-06-01 00:24:58,346 - PricePredictionExperiment_XGBRegressor - INFO - Before reverse - price mean: 0.6143135310974003\n",
            "INFO:PricePredictionExperiment_XGBRegressor:Before reverse - price mean: 0.6143135310974003\n",
            "2025-06-01 00:24:58,350 - PricePredictionExperiment_XGBRegressor - INFO - After reverse - price mean: 50743873.696819685\n",
            "INFO:PricePredictionExperiment_XGBRegressor:After reverse - price mean: 50743873.696819685\n",
            "2025-06-01 00:24:58,352 - PricePredictionExperiment_XGBRegressor - WARNING - Unrealistic price values detected: min=100000.00, max=2893991100.00\n",
            "WARNING:PricePredictionExperiment_XGBRegressor:Unrealistic price values detected: min=100000.00, max=2893991100.00\n",
            "2025-06-01 00:24:58,418 - PricePredictionExperiment_XGBRegressor - INFO - Fold 2 - Log scale: R²=0.9748, RMSE=0.0147, SMAPE=1.2330%\n",
            "Original scale: R²=0.8292, RMSE=61427581.8294, SMAPE=11.3708%\n",
            "INFO:PricePredictionExperiment_XGBRegressor:Fold 2 - Log scale: R²=0.9748, RMSE=0.0147, SMAPE=1.2330%\n",
            "Original scale: R²=0.8292, RMSE=61427581.8294, SMAPE=11.3708%\n",
            "\u001b[32m[I 2025-06-01 00:24:58,422]\u001b[0m Trial 48 finished with value: 0.96964682651094 and parameters: {'model__n_estimators': 906, 'model__max_depth': 4, 'model__learning_rate': 0.02577628055596361, 'model__subsample': 0.8279142885435508}. Best is trial 45 with value: 0.9710220607103048.\u001b[0m\n"
          ]
        },
        {
          "output_type": "stream",
          "name": "stdout",
          "text": [
            "CV stratified bins counts: [6670 6663 6667]\n",
            "Running 3-fold CV on 20000 samples\n",
            " Fold 0: train_size=13333 val_size=6667\n"
          ]
        },
        {
          "output_type": "stream",
          "name": "stderr",
          "text": [
            "2025-06-01 00:25:05,119 - PricePredictionExperiment_XGBRegressor - INFO - Before reverse - price mean: 0.6131231136815939\n",
            "INFO:PricePredictionExperiment_XGBRegressor:Before reverse - price mean: 0.6131231136815939\n",
            "2025-06-01 00:25:05,128 - PricePredictionExperiment_XGBRegressor - INFO - After reverse - price mean: 46994876.19484026\n",
            "INFO:PricePredictionExperiment_XGBRegressor:After reverse - price mean: 46994876.19484026\n",
            "2025-06-01 00:25:05,130 - PricePredictionExperiment_XGBRegressor - WARNING - Unrealistic price values detected: min=1640.00, max=3119770000.00\n",
            "WARNING:PricePredictionExperiment_XGBRegressor:Unrealistic price values detected: min=1640.00, max=3119770000.00\n",
            "2025-06-01 00:25:05,179 - PricePredictionExperiment_XGBRegressor - INFO - Fold 0 - Log scale: R²=0.9714, RMSE=0.0155, SMAPE=1.2249%\n",
            "Original scale: R²=0.8710, RMSE=48979701.0108, SMAPE=11.1187%\n",
            "INFO:PricePredictionExperiment_XGBRegressor:Fold 0 - Log scale: R²=0.9714, RMSE=0.0155, SMAPE=1.2249%\n",
            "Original scale: R²=0.8710, RMSE=48979701.0108, SMAPE=11.1187%\n"
          ]
        },
        {
          "output_type": "stream",
          "name": "stdout",
          "text": [
            " Fold 1: train_size=13333 val_size=6667\n"
          ]
        },
        {
          "output_type": "stream",
          "name": "stderr",
          "text": [
            "2025-06-01 00:25:10,270 - PricePredictionExperiment_XGBRegressor - INFO - Before reverse - price mean: 0.6141490354414657\n",
            "INFO:PricePredictionExperiment_XGBRegressor:Before reverse - price mean: 0.6141490354414657\n",
            "2025-06-01 00:25:10,276 - PricePredictionExperiment_XGBRegressor - INFO - After reverse - price mean: 50439669.25198739\n",
            "INFO:PricePredictionExperiment_XGBRegressor:After reverse - price mean: 50439669.25198739\n",
            "2025-06-01 00:25:10,278 - PricePredictionExperiment_XGBRegressor - WARNING - Unrealistic price values detected: min=1000.00, max=4988000000.00\n",
            "WARNING:PricePredictionExperiment_XGBRegressor:Unrealistic price values detected: min=1000.00, max=4988000000.00\n",
            "2025-06-01 00:25:10,339 - PricePredictionExperiment_XGBRegressor - INFO - Fold 1 - Log scale: R²=0.9650, RMSE=0.0171, SMAPE=1.2319%\n",
            "Original scale: R²=0.7287, RMSE=86429317.5177, SMAPE=11.0910%\n",
            "INFO:PricePredictionExperiment_XGBRegressor:Fold 1 - Log scale: R²=0.9650, RMSE=0.0171, SMAPE=1.2319%\n",
            "Original scale: R²=0.7287, RMSE=86429317.5177, SMAPE=11.0910%\n"
          ]
        },
        {
          "output_type": "stream",
          "name": "stdout",
          "text": [
            " Fold 2: train_size=13334 val_size=6666\n"
          ]
        },
        {
          "output_type": "stream",
          "name": "stderr",
          "text": [
            "2025-06-01 00:25:15,893 - PricePredictionExperiment_XGBRegressor - INFO - Before reverse - price mean: 0.6143135310974003\n",
            "INFO:PricePredictionExperiment_XGBRegressor:Before reverse - price mean: 0.6143135310974003\n",
            "2025-06-01 00:25:15,903 - PricePredictionExperiment_XGBRegressor - INFO - After reverse - price mean: 50743873.696819685\n",
            "INFO:PricePredictionExperiment_XGBRegressor:After reverse - price mean: 50743873.696819685\n",
            "2025-06-01 00:25:15,906 - PricePredictionExperiment_XGBRegressor - WARNING - Unrealistic price values detected: min=100000.00, max=2893991100.00\n",
            "WARNING:PricePredictionExperiment_XGBRegressor:Unrealistic price values detected: min=100000.00, max=2893991100.00\n",
            "2025-06-01 00:25:15,962 - PricePredictionExperiment_XGBRegressor - INFO - Fold 2 - Log scale: R²=0.9760, RMSE=0.0143, SMAPE=1.1914%\n",
            "Original scale: R²=0.8392, RMSE=59607664.6367, SMAPE=10.9876%\n",
            "INFO:PricePredictionExperiment_XGBRegressor:Fold 2 - Log scale: R²=0.9760, RMSE=0.0143, SMAPE=1.1914%\n",
            "Original scale: R²=0.8392, RMSE=59607664.6367, SMAPE=10.9876%\n",
            "\u001b[32m[I 2025-06-01 00:25:15,969]\u001b[0m Trial 49 finished with value: 0.9707892041883827 and parameters: {'model__n_estimators': 879, 'model__max_depth': 5, 'model__learning_rate': 0.03056711069016995, 'model__subsample': 0.8401783726158224}. Best is trial 45 with value: 0.9710220607103048.\u001b[0m\n",
            "2025-06-01 00:25:15,971 - PricePredictionExperiment_XGBRegressor - INFO - Elapsed time for optuna: 886.42 seconds\n",
            "INFO:PricePredictionExperiment_XGBRegressor:Elapsed time for optuna: 886.42 seconds\n",
            "2025-06-01 00:25:15,985 - PricePredictionExperiment_XGBRegressor - INFO - Timing started for: final_cv\n",
            "INFO:PricePredictionExperiment_XGBRegressor:Timing started for: final_cv\n"
          ]
        },
        {
          "output_type": "stream",
          "name": "stdout",
          "text": [
            "Final CV stratified bins counts: [10510  9966 10222 10107 10202]\n",
            "Running final 5-fold CV on 51007 samples\n",
            " FinalCV Fold 0: train_size=40805 val_size=10202\n"
          ]
        },
        {
          "output_type": "stream",
          "name": "stderr",
          "text": [
            "2025-06-01 00:25:29,870 - PricePredictionExperiment_XGBRegressor - INFO - Before reverse - price mean: 0.613508015285954\n",
            "INFO:PricePredictionExperiment_XGBRegressor:Before reverse - price mean: 0.613508015285954\n",
            "2025-06-01 00:25:29,880 - PricePredictionExperiment_XGBRegressor - INFO - After reverse - price mean: 50106466.348559104\n",
            "INFO:PricePredictionExperiment_XGBRegressor:After reverse - price mean: 50106466.348559104\n",
            "2025-06-01 00:25:29,881 - PricePredictionExperiment_XGBRegressor - WARNING - Unrealistic price values detected: min=1000.00, max=4988000000.00\n",
            "WARNING:PricePredictionExperiment_XGBRegressor:Unrealistic price values detected: min=1000.00, max=4988000000.00\n",
            "2025-06-01 00:25:29,888 - PricePredictionExperiment_XGBRegressor - INFO -  Fold 1/5 | Log R2=0.9723 | Orig R2=0.8546\n",
            "INFO:PricePredictionExperiment_XGBRegressor: Fold 1/5 | Log R2=0.9723 | Orig R2=0.8546\n"
          ]
        },
        {
          "output_type": "stream",
          "name": "stdout",
          "text": [
            " FinalCV Fold 1: train_size=40805 val_size=10202\n"
          ]
        },
        {
          "output_type": "stream",
          "name": "stderr",
          "text": [
            "2025-06-01 00:25:43,587 - PricePredictionExperiment_XGBRegressor - INFO - Before reverse - price mean: 0.613969775742925\n",
            "INFO:PricePredictionExperiment_XGBRegressor:Before reverse - price mean: 0.613969775742925\n",
            "2025-06-01 00:25:43,596 - PricePredictionExperiment_XGBRegressor - INFO - After reverse - price mean: 49499630.59900019\n",
            "INFO:PricePredictionExperiment_XGBRegressor:After reverse - price mean: 49499630.59900019\n",
            "2025-06-01 00:25:43,599 - PricePredictionExperiment_XGBRegressor - WARNING - Unrealistic price values detected: min=1640.00, max=3555849500.00\n",
            "WARNING:PricePredictionExperiment_XGBRegressor:Unrealistic price values detected: min=1640.00, max=3555849500.00\n",
            "2025-06-01 00:25:43,606 - PricePredictionExperiment_XGBRegressor - INFO -  Fold 2/5 | Log R2=0.9761 | Orig R2=0.8461\n",
            "INFO:PricePredictionExperiment_XGBRegressor: Fold 2/5 | Log R2=0.9761 | Orig R2=0.8461\n"
          ]
        },
        {
          "output_type": "stream",
          "name": "stdout",
          "text": [
            " FinalCV Fold 2: train_size=40806 val_size=10201\n"
          ]
        },
        {
          "output_type": "stream",
          "name": "stderr",
          "text": [
            "2025-06-01 00:26:00,824 - PricePredictionExperiment_XGBRegressor - INFO - Before reverse - price mean: 0.6135908956111991\n",
            "INFO:PricePredictionExperiment_XGBRegressor:Before reverse - price mean: 0.6135908956111991\n",
            "2025-06-01 00:26:00,830 - PricePredictionExperiment_XGBRegressor - INFO - After reverse - price mean: 48769531.95745515\n",
            "INFO:PricePredictionExperiment_XGBRegressor:After reverse - price mean: 48769531.95745515\n",
            "2025-06-01 00:26:00,831 - PricePredictionExperiment_XGBRegressor - WARNING - Unrealistic price values detected: min=4975.00, max=2630901000.00\n",
            "WARNING:PricePredictionExperiment_XGBRegressor:Unrealistic price values detected: min=4975.00, max=2630901000.00\n",
            "2025-06-01 00:26:00,837 - PricePredictionExperiment_XGBRegressor - INFO -  Fold 3/5 | Log R2=0.9766 | Orig R2=0.8842\n",
            "INFO:PricePredictionExperiment_XGBRegressor: Fold 3/5 | Log R2=0.9766 | Orig R2=0.8842\n"
          ]
        },
        {
          "output_type": "stream",
          "name": "stdout",
          "text": [
            " FinalCV Fold 3: train_size=40806 val_size=10201\n"
          ]
        },
        {
          "output_type": "stream",
          "name": "stderr",
          "text": [
            "2025-06-01 00:26:14,597 - PricePredictionExperiment_XGBRegressor - INFO - Before reverse - price mean: 0.613241423108958\n",
            "INFO:PricePredictionExperiment_XGBRegressor:Before reverse - price mean: 0.613241423108958\n",
            "2025-06-01 00:26:14,602 - PricePredictionExperiment_XGBRegressor - INFO - After reverse - price mean: 49942343.070091166\n",
            "INFO:PricePredictionExperiment_XGBRegressor:After reverse - price mean: 49942343.070091166\n",
            "2025-06-01 00:26:14,607 - PricePredictionExperiment_XGBRegressor - WARNING - Unrealistic price values detected: min=5000.00, max=3088988000.00\n",
            "WARNING:PricePredictionExperiment_XGBRegressor:Unrealistic price values detected: min=5000.00, max=3088988000.00\n",
            "2025-06-01 00:26:14,633 - PricePredictionExperiment_XGBRegressor - INFO -  Fold 4/5 | Log R2=0.9751 | Orig R2=0.8556\n",
            "INFO:PricePredictionExperiment_XGBRegressor: Fold 4/5 | Log R2=0.9751 | Orig R2=0.8556\n"
          ]
        },
        {
          "output_type": "stream",
          "name": "stdout",
          "text": [
            " FinalCV Fold 4: train_size=40806 val_size=10201\n"
          ]
        },
        {
          "output_type": "stream",
          "name": "stderr",
          "text": [
            "2025-06-01 00:26:28,261 - PricePredictionExperiment_XGBRegressor - INFO - Before reverse - price mean: 0.6135760286411871\n",
            "INFO:PricePredictionExperiment_XGBRegressor:Before reverse - price mean: 0.6135760286411871\n",
            "2025-06-01 00:26:28,267 - PricePredictionExperiment_XGBRegressor - INFO - After reverse - price mean: 49242304.70708754\n",
            "INFO:PricePredictionExperiment_XGBRegressor:After reverse - price mean: 49242304.70708754\n",
            "2025-06-01 00:26:28,269 - PricePredictionExperiment_XGBRegressor - WARNING - Unrealistic price values detected: min=7000.00, max=3000000000.00\n",
            "WARNING:PricePredictionExperiment_XGBRegressor:Unrealistic price values detected: min=7000.00, max=3000000000.00\n",
            "2025-06-01 00:26:28,276 - PricePredictionExperiment_XGBRegressor - INFO -  Fold 5/5 | Log R2=0.9789 | Orig R2=0.8724\n",
            "INFO:PricePredictionExperiment_XGBRegressor: Fold 5/5 | Log R2=0.9789 | Orig R2=0.8724\n",
            "2025-06-01 00:26:45,031 - PricePredictionExperiment_XGBRegressor - INFO - Before reverse - price mean: 0.613524535987549\n",
            "INFO:PricePredictionExperiment_XGBRegressor:Before reverse - price mean: 0.613524535987549\n",
            "2025-06-01 00:26:45,037 - PricePredictionExperiment_XGBRegressor - INFO - After reverse - price mean: 48529704.21784818\n",
            "INFO:PricePredictionExperiment_XGBRegressor:After reverse - price mean: 48529704.21784818\n",
            "2025-06-01 00:26:45,040 - PricePredictionExperiment_XGBRegressor - WARNING - Unrealistic price values detected: min=250000.00, max=2900000000.00\n",
            "WARNING:PricePredictionExperiment_XGBRegressor:Unrealistic price values detected: min=250000.00, max=2900000000.00\n",
            "2025-06-01 00:26:45,877 - PricePredictionExperiment_XGBRegressor - INFO - Evaluation artifacts saved to /content/results/metrics\n",
            "INFO:PricePredictionExperiment_XGBRegressor:Evaluation artifacts saved to /content/results/metrics\n",
            "2025-06-01 00:26:45,888 - PricePredictionExperiment_XGBRegressor - INFO - Elapsed time for final_cv: 89.90 seconds\n",
            "INFO:PricePredictionExperiment_XGBRegressor:Elapsed time for final_cv: 89.90 seconds\n",
            "2025-06-01 00:26:46,433 - PricePredictionExperiment_XGBRegressor - INFO - Timing started for: final_model_teaching\n",
            "INFO:PricePredictionExperiment_XGBRegressor:Timing started for: final_model_teaching\n"
          ]
        },
        {
          "output_type": "stream",
          "name": "stdout",
          "text": [
            "['landCategory', 'wallMaterial', 'bathroom', 'renovation', 'electricity', 'heating', 'waterSupply', 'gas', 'sewerage', 'media', 'parking', 'transportAccessibility', 'saleMethod', 'seller', 'category', 'infrastructure', 'terrace', 'recreation', 'region', 'nearestPPLA', 'nearestPPLA2']\n"
          ]
        },
        {
          "output_type": "stream",
          "name": "stderr",
          "text": [
            "2025-06-01 00:28:35,578 - PricePredictionExperiment_XGBRegressor - INFO - [before_final_fit] CPU: 0.0%, RAM: 4.71GB/12.67GB, GPU: 0%, GPU RAM: 1.16/15.00GB\n",
            "INFO:PricePredictionExperiment_XGBRegressor:[before_final_fit] CPU: 0.0%, RAM: 4.71GB/12.67GB, GPU: 0%, GPU RAM: 1.16/15.00GB\n",
            "2025-06-01 00:28:58,574 - PricePredictionExperiment_XGBRegressor - INFO - [after_final_fit] CPU: 1.7%, RAM: 4.81GB/12.67GB, GPU: 0%, GPU RAM: 1.16/15.00GB\n",
            "INFO:PricePredictionExperiment_XGBRegressor:[after_final_fit] CPU: 1.7%, RAM: 4.81GB/12.67GB, GPU: 0%, GPU RAM: 1.16/15.00GB\n"
          ]
        },
        {
          "output_type": "stream",
          "name": "stdout",
          "text": [
            "[EXTRACT] В ColumnTransformer нет шага 'text'\n",
            "[SAVE] No transformer to save.\n",
            "[SAVE] No tokenizer to save.\n",
            "[SAVE] All available components saved to /content/results/price_prediction_XGBRegressor_None_none_pca_None_gate_None_mtf_True_ (logged to MLflow: True)\n"
          ]
        },
        {
          "output_type": "stream",
          "name": "stderr",
          "text": [
            "Successfully registered model 'XGBRegressor+some_path+None+pca_False+gate_False+textfeat_True'.\n",
            "Created version '1' of model 'XGBRegressor+some_path+None+pca_False+gate_False+textfeat_True'.\n",
            "2025-06-01 00:28:59,148 - PricePredictionExperiment_XGBRegressor - INFO - Model registered as 'XGBRegressor+some_path+None+pca_False+gate_False+textfeat_True', version 1\n",
            "INFO:PricePredictionExperiment_XGBRegressor:Model registered as 'XGBRegressor+some_path+None+pca_False+gate_False+textfeat_True', version 1\n",
            "2025-06-01 00:28:59,202 - PricePredictionExperiment_XGBRegressor - INFO - Full model saved to /content/results/price_prediction_XGBRegressor_None_none_pca_None_gate_None_mtf_True_ and logged to MLflow\n",
            "INFO:PricePredictionExperiment_XGBRegressor:Full model saved to /content/results/price_prediction_XGBRegressor_None_none_pca_None_gate_None_mtf_True_ and logged to MLflow\n",
            "2025-06-01 00:28:59,216 - PricePredictionExperiment_XGBRegressor - INFO - Elapsed time for final_model_teaching: 132.78 seconds\n",
            "INFO:PricePredictionExperiment_XGBRegressor:Elapsed time for final_model_teaching: 132.78 seconds\n",
            "2025-06-01 00:28:59,229 - PricePredictionExperiment_XGBRegressor - INFO - Elapsed time for total: 1109.90 seconds\n",
            "INFO:PricePredictionExperiment_XGBRegressor:Elapsed time for total: 1109.90 seconds\n"
          ]
        },
        {
          "output_type": "display_data",
          "data": {
            "text/plain": [
              "Empty DataFrame\n",
              "Columns: []\n",
              "Index: []"
            ],
            "text/html": [
              "\n",
              "  <div id=\"df-f9406add-d38d-4fbc-917b-15bbb3eee19f\" class=\"colab-df-container\">\n",
              "    <div>\n",
              "<style scoped>\n",
              "    .dataframe tbody tr th:only-of-type {\n",
              "        vertical-align: middle;\n",
              "    }\n",
              "\n",
              "    .dataframe tbody tr th {\n",
              "        vertical-align: top;\n",
              "    }\n",
              "\n",
              "    .dataframe thead th {\n",
              "        text-align: right;\n",
              "    }\n",
              "</style>\n",
              "<table border=\"1\" class=\"dataframe\">\n",
              "  <thead>\n",
              "    <tr style=\"text-align: right;\">\n",
              "      <th></th>\n",
              "    </tr>\n",
              "  </thead>\n",
              "  <tbody>\n",
              "  </tbody>\n",
              "</table>\n",
              "</div>\n",
              "    <div class=\"colab-df-buttons\">\n",
              "\n",
              "  <div class=\"colab-df-container\">\n",
              "    <button class=\"colab-df-convert\" onclick=\"convertToInteractive('df-f9406add-d38d-4fbc-917b-15bbb3eee19f')\"\n",
              "            title=\"Convert this dataframe to an interactive table.\"\n",
              "            style=\"display:none;\">\n",
              "\n",
              "  <svg xmlns=\"http://www.w3.org/2000/svg\" height=\"24px\" viewBox=\"0 -960 960 960\">\n",
              "    <path d=\"M120-120v-720h720v720H120Zm60-500h600v-160H180v160Zm220 220h160v-160H400v160Zm0 220h160v-160H400v160ZM180-400h160v-160H180v160Zm440 0h160v-160H620v160ZM180-180h160v-160H180v160Zm440 0h160v-160H620v160Z\"/>\n",
              "  </svg>\n",
              "    </button>\n",
              "\n",
              "  <style>\n",
              "    .colab-df-container {\n",
              "      display:flex;\n",
              "      gap: 12px;\n",
              "    }\n",
              "\n",
              "    .colab-df-convert {\n",
              "      background-color: #E8F0FE;\n",
              "      border: none;\n",
              "      border-radius: 50%;\n",
              "      cursor: pointer;\n",
              "      display: none;\n",
              "      fill: #1967D2;\n",
              "      height: 32px;\n",
              "      padding: 0 0 0 0;\n",
              "      width: 32px;\n",
              "    }\n",
              "\n",
              "    .colab-df-convert:hover {\n",
              "      background-color: #E2EBFA;\n",
              "      box-shadow: 0px 1px 2px rgba(60, 64, 67, 0.3), 0px 1px 3px 1px rgba(60, 64, 67, 0.15);\n",
              "      fill: #174EA6;\n",
              "    }\n",
              "\n",
              "    .colab-df-buttons div {\n",
              "      margin-bottom: 4px;\n",
              "    }\n",
              "\n",
              "    [theme=dark] .colab-df-convert {\n",
              "      background-color: #3B4455;\n",
              "      fill: #D2E3FC;\n",
              "    }\n",
              "\n",
              "    [theme=dark] .colab-df-convert:hover {\n",
              "      background-color: #434B5C;\n",
              "      box-shadow: 0px 1px 3px 1px rgba(0, 0, 0, 0.15);\n",
              "      filter: drop-shadow(0px 1px 2px rgba(0, 0, 0, 0.3));\n",
              "      fill: #FFFFFF;\n",
              "    }\n",
              "  </style>\n",
              "\n",
              "    <script>\n",
              "      const buttonEl =\n",
              "        document.querySelector('#df-f9406add-d38d-4fbc-917b-15bbb3eee19f button.colab-df-convert');\n",
              "      buttonEl.style.display =\n",
              "        google.colab.kernel.accessAllowed ? 'block' : 'none';\n",
              "\n",
              "      async function convertToInteractive(key) {\n",
              "        const element = document.querySelector('#df-f9406add-d38d-4fbc-917b-15bbb3eee19f');\n",
              "        const dataTable =\n",
              "          await google.colab.kernel.invokeFunction('convertToInteractive',\n",
              "                                                    [key], {});\n",
              "        if (!dataTable) return;\n",
              "\n",
              "        const docLinkHtml = 'Like what you see? Visit the ' +\n",
              "          '<a target=\"_blank\" href=https://colab.research.google.com/notebooks/data_table.ipynb>data table notebook</a>'\n",
              "          + ' to learn more about interactive tables.';\n",
              "        element.innerHTML = '';\n",
              "        dataTable['output_type'] = 'display_data';\n",
              "        await google.colab.output.renderOutput(dataTable, element);\n",
              "        const docLink = document.createElement('div');\n",
              "        docLink.innerHTML = docLinkHtml;\n",
              "        element.appendChild(docLink);\n",
              "      }\n",
              "    </script>\n",
              "  </div>\n",
              "\n",
              "    </div>\n",
              "  </div>\n"
            ],
            "application/vnd.google.colaboratory.intrinsic+json": {
              "type": "dataframe",
              "variable_name": "results_df",
              "summary": "{\n  \"name\": \"results_df\",\n  \"rows\": 0,\n  \"fields\": []\n}"
            }
          },
          "metadata": {}
        },
        {
          "output_type": "stream",
          "name": "stdout",
          "text": [
            "Drive already mounted at /content/drive; to attempt to forcibly remount, call drive.mount(\"/content/drive\", force_remount=True).\n"
          ]
        }
      ]
    },
    {
      "cell_type": "markdown",
      "source": [
        "### RFR experiment initiation"
      ],
      "metadata": {
        "id": "qXlGhOS-tUYi"
      }
    },
    {
      "cell_type": "code",
      "source": [
        "import logging\n",
        "import pandas as pd\n",
        "import json\n",
        "from pathlib import Path\n",
        "\n",
        "# 3. Создаем временную папку для результатов\n",
        "!mkdir -p /content/results\n",
        "\n",
        "# 4. Основной код эксперимента\n",
        "if __name__ == \"__main__\":\n",
        "    logging.basicConfig(\n",
        "        level=logging.INFO,\n",
        "        format='%(asctime)s - %(name)s - %(levelname)s - %(message)s',\n",
        "        handlers=[\n",
        "            logging.FileHandler('experiment.log'),\n",
        "            logging.StreamHandler()\n",
        "        ]\n",
        "    )\n",
        "    logger = logging.getLogger(__name__)\n",
        "\n",
        "    params = {\n",
        "        'model__bootstrap': [True, False],\n",
        "        'model__max_depth': [10, 20, 30, None],\n",
        "        'model__max_features': ['sqrt', 'log2'],  # Removed 'auto' for newer sklearn\n",
        "        'model__min_samples_leaf': list(range(2, 26, 2)),\n",
        "        'model__min_samples_split': list(range(2, 26, 2)),\n",
        "        'model__n_estimators': [32, 64, 100, 500]\n",
        "    }\n",
        "\n",
        "    combinations = [\n",
        "        ('categorical-only', None, False, False, True, True),\n",
        "        ('categorical-only', None, False, False, False, True),\n",
        "        ('mixed', 'rubert', True, False, False, True),\n",
        "        ('mixed', 'w2v', True, False, False, True),\n",
        "        ('mixed', 'tfidf', True, False, False, True),\n",
        "        ('text-only', 'rubert', True, False, False, True),\n",
        "        ('text-only', 'w2v', True, False, False, True),\n",
        "        ('text-only', 'tfidf', True, False, False, True),\n",
        "    ]\n",
        "\n",
        "    try:\n",
        "        # Полные пути к файлам в репозитории\n",
        "        repo_path = Path('/content/Price-prediction-with-textual-data')\n",
        "\n",
        "        experiment = PricePredictionExperiment(\n",
        "            model_name='RandomForestRegressor',\n",
        "            model_params=params,\n",
        "            experiment_name=\"price_prediction\",\n",
        "            data_path=str(path), # путь к короткому доку куда был скачан полный файл\n",
        "            results_dir='/content/results',  # временная папка в Colab\n",
        "            random_state=42,\n",
        "            use_hex_features=True,\n",
        "            hex_resolution=10,\n",
        "            verbose=True,\n",
        "            manual_text_params=True,\n",
        "            manual_text_params_path=str(repo_path/'experiments'/'manual_text_features_negative.json'),\n",
        "            profile_json_path=str(repo_path/'experiments'/'uniques_dict.json')\n",
        "        )\n",
        "\n",
        "        # Запуск экспериментов\n",
        "        results = experiment.run_for_combinations(\n",
        "            n_trials=50,\n",
        "            sample_size=65000,\n",
        "            subsample=20000\n",
        "        )\n",
        "\n",
        "        # Сохранение и отображение результатов\n",
        "        results_df = experiment.create_results_table(list(results.keys()))\n",
        "        display(results_df)\n",
        "\n",
        "        # Сохраняем результаты в CSV\n",
        "        results_df.to_csv('/content/results/experiment_results.csv', index=False)\n",
        "        logger.info(\"Эксперимент успешно завершен!\")\n",
        "\n",
        "        # Копируем результаты в Google Drive (если нужно)\n",
        "        from google.colab import drive\n",
        "        drive.mount('/content/drive')\n",
        "        !cp -r /content/results '/content/drive/MyDrive/thesis/DROP_SAMPLE/RFR'\n",
        "        logger.info(\"Результаты сохранены в Google Drive\")\n",
        "\n",
        "    except Exception as e:\n",
        "        logger.error(f\"Fatal error in main execution: {str(e)}\", exc_info=True)\n",
        "        raise"
      ],
      "metadata": {
        "id": "C7M_mCiKtUYi"
      },
      "execution_count": null,
      "outputs": []
    },
    {
      "cell_type": "markdown",
      "source": [
        "### ANN experiment initiation\n"
      ],
      "metadata": {
        "id": "5mQBe-BxtUYi"
      }
    },
    {
      "cell_type": "code",
      "source": [
        "import logging\n",
        "import pandas as pd\n",
        "import json\n",
        "from pathlib import Path\n",
        "\n",
        "# 3. Создаем временную папку для результатов\n",
        "!mkdir -p /content/results\n",
        "\n",
        "# 4. Основной код эксперимента\n",
        "if __name__ == \"__main__\":\n",
        "    logging.basicConfig(\n",
        "        level=logging.INFO,\n",
        "        format='%(asctime)s - %(name)s - %(levelname)s - %(message)s',\n",
        "        handlers=[\n",
        "            logging.FileHandler('experiment.log'),\n",
        "            logging.StreamHandler()\n",
        "        ]\n",
        "    )\n",
        "    logger = logging.getLogger(__name__)\n",
        "\n",
        "    params = {\n",
        "        'model__learning_rate': [0.0005, 0.001, 0.002, 0.003],  # сужаем диапазон\n",
        "        'model__neurons_layer1': [100, 128, 150, 180, 200],\n",
        "        'model__neurons_layer2': [40, 64, 80, 100],\n",
        "        'model__neurons_layer3': [16, 32, 48, 64],\n",
        "        'model__batch_size': [64, 96, 128],  # убираем очень маленькие батчи\n",
        "        'model__epochs': [70, 100, 120],  # увеличиваем верхнюю границу\n",
        "        'model__l1_reg': [0.0005, 0.001, 0.005, 0.01],\n",
        "        'model__l2_reg': [0.0005, 0.001, 0.005, 0.01],\n",
        "        'model__activation': ['sigmoid']  # оставляем только sigmoid\n",
        "    }\n",
        "\n",
        "    combinations = [\n",
        "        ('categorical-only', None, False, False, True, False),\n",
        "        ('categorical-only', None, False, False, False, False),\n",
        "        ('mixed', 'rubert', True, False, False, False),\n",
        "        ('mixed', 'w2v', True, False, False, False),\n",
        "        ('mixed', 'tfidf', True, False, False, False),\n",
        "        ('text-only', 'rubert', True, False, False, False),\n",
        "        ('text-only', 'w2v', True, False, False, False),\n",
        "        ('text-only', 'tfidf', True, False, False, False),\n",
        "    ]\n",
        "\n",
        "    try:\n",
        "        # Полные пути к файлам в репозитории\n",
        "        repo_path = Path('/content/Price-prediction-with-textual-data')\n",
        "\n",
        "        experiment = PricePredictionExperiment(\n",
        "            model_name='ANNRegressor',\n",
        "            model_params=params,\n",
        "            experiment_name=\"price_prediction\",\n",
        "            data_path=str(path), # путь к короткому доку куда был скачан полный файл\n",
        "            results_dir='/content/results',  # временная папка в Colab\n",
        "            random_state=42,\n",
        "            use_hex_features=True,\n",
        "            hex_resolution=10,\n",
        "            verbose=True,\n",
        "            manual_text_params=True,\n",
        "            manual_text_params_path=str(repo_path/'experiments'/'manual_text_features_negative.json'),\n",
        "            profile_json_path=str(repo_path/'experiments'/'uniques_dict.json')\n",
        "        )\n",
        "\n",
        "        # Запуск экспериментов\n",
        "        results = experiment.run_for_combinations(\n",
        "            n_trials=50,\n",
        "            sample_size=65000,\n",
        "            subsample=20000\n",
        "        )\n",
        "\n",
        "        # Сохранение и отображение результатов\n",
        "        results_df = experiment.create_results_table(list(results.keys()))\n",
        "        display(results_df)\n",
        "\n",
        "        # Сохраняем результаты в CSV\n",
        "        results_df.to_csv('/content/results/experiment_results.csv', index=False)\n",
        "        logger.info(\"Эксперимент успешно завершен!\")\n",
        "\n",
        "        # Копируем результаты в Google Drive (если нужно)\n",
        "        from google.colab import drive\n",
        "        drive.mount('/content/drive')\n",
        "        !cp -r /content/results '/content/drive/MyDrive/thesis/DROP_SAMPLE/ANN'\n",
        "        logger.info(\"Результаты сохранены в Google Drive\")\n",
        "\n",
        "    except Exception as e:\n",
        "        logger.error(f\"Fatal error in main execution: {str(e)}\", exc_info=True)\n",
        "        raise"
      ],
      "metadata": {
        "id": "0bAecZKrtUYj"
      },
      "execution_count": null,
      "outputs": []
    },
    {
      "cell_type": "markdown",
      "source": [
        "### LSVR experiment initiation"
      ],
      "metadata": {
        "id": "SXqa1PxatUYj"
      }
    },
    {
      "cell_type": "code",
      "source": [
        "import logging\n",
        "import pandas as pd\n",
        "import json\n",
        "from pathlib import Path\n",
        "\n",
        "# 3. Создаем временную папку для результатов\n",
        "!mkdir -p /content/results\n",
        "\n",
        "# 4. Основной код эксперимента\n",
        "if __name__ == \"__main__\":\n",
        "    logging.basicConfig(\n",
        "        level=logging.INFO,\n",
        "        format='%(asctime)s - %(name)s - %(levelname)s - %(message)s',\n",
        "        handlers=[\n",
        "            logging.FileHandler('experiment.log'),\n",
        "            logging.StreamHandler()\n",
        "        ]\n",
        "    )\n",
        "    logger = logging.getLogger(__name__)\n",
        "\n",
        "    params = {\n",
        "        'model__C': [5, 10, 20, 50],  # Focus around the best found value\n",
        "        'model__max_iter': [5000, 7000, 10000],  # Higher values didn't hurt\n",
        "        'model__dual': [False],  # Only this worked well\n",
        "        'model__loss': ['squared_epsilon_insensitive']  # Only compatible with dual=False\n",
        "    }\n",
        "\n",
        "    combinations = [\n",
        "        ('categorical-only', None, False, False, True, False),\n",
        "        ('categorical-only', None, False, False, False, False),\n",
        "        ('mixed', 'rubert', True, False, False, False),\n",
        "        ('mixed', 'w2v', True, False, False, False),\n",
        "        ('mixed', 'tfidf', True, False, False, False),\n",
        "        ('text-only', 'rubert', True, False, False, False),\n",
        "        ('text-only', 'w2v', True, False, False, False),\n",
        "        ('text-only', 'tfidf', True, False, False, False),\n",
        "    ]\n",
        "\n",
        "    try:\n",
        "        # Полные пути к файлам в репозитории\n",
        "        repo_path = Path('/content/Price-prediction-with-textual-data')\n",
        "\n",
        "        experiment = PricePredictionExperiment(\n",
        "            model_name='LinearSVR',\n",
        "            model_params=params,\n",
        "            experiment_name=\"price_prediction\",\n",
        "            data_path=str(path), # путь к короткому доку куда был скачан полный файл\n",
        "            results_dir='/content/results',  # временная папка в Colab\n",
        "            random_state=42,\n",
        "            use_hex_features=True,\n",
        "            hex_resolution=10,\n",
        "            verbose=True,\n",
        "            manual_text_params=True,\n",
        "            manual_text_params_path=str(repo_path/'experiments'/'manual_text_features_negative.json'),\n",
        "            profile_json_path=str(repo_path/'experiments'/'uniques_dict.json')\n",
        "        )\n",
        "\n",
        "        # Запуск экспериментов\n",
        "        results = experiment.run_for_combinations(\n",
        "            n_trials=50,\n",
        "            sample_size=65000,\n",
        "            subsample=20000\n",
        "        )\n",
        "\n",
        "        # Сохранение и отображение результатов\n",
        "        results_df = experiment.create_results_table(list(results.keys()))\n",
        "        display(results_df)\n",
        "\n",
        "        # Сохраняем результаты в CSV\n",
        "        results_df.to_csv('/content/results/experiment_results.csv', index=False)\n",
        "        logger.info(\"Эксперимент успешно завершен!\")\n",
        "\n",
        "        # Копируем результаты в Google Drive (если нужно)\n",
        "        from google.colab import drive\n",
        "        drive.mount('/content/drive')\n",
        "        !cp -r /content/results '/content/drive/MyDrive/thesis/DROP_SAMPLE/LinearSVR'\n",
        "        logger.info(\"Результаты сохранены в Google Drive\")\n",
        "\n",
        "    except Exception as e:\n",
        "        logger.error(f\"Fatal error in main execution: {str(e)}\", exc_info=True)\n",
        "        raise"
      ],
      "metadata": {
        "id": "sI5J3uXltUYj"
      },
      "execution_count": null,
      "outputs": []
    }
  ]
}